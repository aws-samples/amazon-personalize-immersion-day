{
 "cells": [
  {
   "cell_type": "markdown",
   "id": "2a89abeb-02f2-4461-aa1f-07b9f08606de",
   "metadata": {},
   "source": [
    "# Interacting with Recommenders, Campaigns and Filters <a class=\"anchor\" id=\"top\"></a>\n",
    "\n",
    "Now that Unicorn Post has trained models for 2 different use cases (User Personalization and Personalized Reranking), we need to integrate them into our application. Amazon Personalize can make recommendations available via an Application Programming Interface (API). In addition, Amazon Personalize includes features that allow you to easily integrate into applications and provide benefits like real time vending of recommendations based on recent application activity.\n",
    "\n",
    "In this notebook, you will interact with campaigns and filters you created earlier in Amazon Personalize.\n",
    "\n",
    "1. [Introduction](#intro)\n",
    "1. [Interact with Recommenders](#interact-recommenders)\n",
    "1. [Interact with Campaigns](#interact-campaigns)\n",
    "1. [Filters](#filters)\n",
    "1. [Create Filters](#create-filters)\n",
    "1. [Using Filters](#using-filters)\n",
    "1. [Real-time Events](#real-time)\n",
    "1. [Wrap Up](#wrapup)\n",
    "\n",
    "To run this notebook, you need to have run the previous notebooks, [`01_Data_Layer.ipynb`](01_Data_Layer.ipynb), and [`02_Training_Layer.ipynb`](02_Training_Layer.ipynb), where you created a dataset and imported interaction, item, and user metadata data into Amazon Personalize, created recommenders, solutions, and campaigns.\n",
    "\n",
    "## Introduction <a class=\"anchor\" id=\"intro\"></a>\n",
    "[Back to top](#top)\n",
    "\n",
    "At this point, you should have two deployed Campaign. Once they are active, there are resources for querying the recommendations, and helper functions to digest the output into something more human-readable. \n",
    "\n",
    "In this Notebook we will interact with the Campaigns and get recommendations. \n",
    "\n",
    "We will interact with filters and send live data to Amazon Personalize to see the effect of real-time interactions on recommendations.\n",
    "\n",
    "The following diagram shows the resources that we will create in this section. The part we are building in this notebook highlighted in blue with a dashed outline.\n",
    "\n",
    "![Workflow](Images/03_Inference_Layer_Resources.jpg)\n",
    "\n",
    "To get started, once again, we need to import libraries, load values from previous notebooks, and load the SDK."
   ]
  },
  {
   "cell_type": "code",
   "execution_count": 1,
   "id": "e9b233aa-91d2-41b5-a6db-12f4a35441da",
   "metadata": {
    "tags": []
   },
   "outputs": [],
   "source": [
    "import time\n",
    "from time import sleep\n",
    "import json\n",
    "from datetime import datetime\n",
    "import uuid\n",
    "import random\n",
    "import boto3\n",
    "import pandas as pd"
   ]
  },
  {
   "cell_type": "code",
   "execution_count": 2,
   "id": "9c6e3297-01c0-4969-854d-0e83b07da8eb",
   "metadata": {
    "tags": []
   },
   "outputs": [],
   "source": [
    "#retrieves previously stored variables \n",
    "%store -r "
   ]
  },
  {
   "cell_type": "code",
   "execution_count": 28,
   "id": "e9a7efe8-38c7-44ab-9122-8792b8a1a64e",
   "metadata": {
    "tags": []
   },
   "outputs": [],
   "source": [
    "personalize = boto3.client('personalize')\n",
    "personalize_runtime = boto3.client('personalize-runtime')\n",
    "\n",
    "# Establish a connection to Personalize's event streaming\n",
    "personalize_events = boto3.client(service_name='personalize-events')"
   ]
  },
  {
   "cell_type": "markdown",
   "id": "f87c146d-fa06-462b-bf23-f3c5b73f5dec",
   "metadata": {},
   "source": [
    "## Interact with Campaigns <a class=\"anchor\" id=\"interact-recommenders\"></a>\n",
    "[Back to top](#top)\n",
    "\n",
    "Now that the models have been trained, lets have a look at the recommendations we can get for our users!"
   ]
  },
  {
   "cell_type": "markdown",
   "id": "8224b798-905d-4301-a8a7-195c8f9728d8",
   "metadata": {},
   "source": [
    "### User Personalization Model\n",
    "\n",
    "\"User Personalization \" requires a user as input, and it will return the items it thinks the customer is most likely to interact with next.\n",
    "\n",
    "The cells below will handle getting recommendations from the \"User Personalization Model\" and rendering the results. Let's see what the recommendations are for a user.\n",
    "\n",
    "We will be using the `campaignArn`, the `userId`, as well as the number or results we want, `numResults`."
   ]
  },
  {
   "cell_type": "markdown",
   "id": "f12e1e16-1832-49e4-acee-029957db10c1",
   "metadata": {},
   "source": [
    "### Select a User\n",
    "\n",
    "We'll just pick a random user for simplicity. Feel free to change the `user_id` below and execute the following cells with a different user to get a sense for how the recommendations change.\n",
    "\n",
    "#### Sample User ID's\n",
    " -8845298781299428018\n",
    " -1032019229384696495\n",
    " -1130272294246983140\n",
    " 344280948527967603\n",
    " -445337111692715325"
   ]
  },
  {
   "cell_type": "code",
   "execution_count": 4,
   "id": "30ce5239-1dee-4913-9307-e52798cc7529",
   "metadata": {
    "tags": []
   },
   "outputs": [],
   "source": [
    "sample_user = str(-8845298781299428018)"
   ]
  },
  {
   "cell_type": "code",
   "execution_count": 5,
   "id": "c913cb7e-404c-459d-b4d3-be9c4d3cd214",
   "metadata": {
    "tags": []
   },
   "outputs": [],
   "source": [
    "get_recommendations_response = personalize_runtime.get_recommendations(\n",
    "    campaignArn = workshop_userpersonalization_campaign_arn,\n",
    "    userId = sample_user,\n",
    "    numResults = 5\n",
    ")"
   ]
  },
  {
   "cell_type": "code",
   "execution_count": 6,
   "id": "20faaa70-5790-477c-a6f3-c46290fdd6aa",
   "metadata": {
    "tags": []
   },
   "outputs": [
    {
     "name": "stdout",
     "output_type": "stream",
     "text": [
      "{'ResponseMetadata': {'RequestId': 'e76ff07f-7b7c-47c2-a326-86110e1cf1ea', 'HTTPStatusCode': 200, 'HTTPHeaders': {'date': 'Thu, 28 Mar 2024 23:28:12 GMT', 'content-type': 'application/json', 'content-length': '613', 'connection': 'keep-alive', 'x-amzn-requestid': 'e76ff07f-7b7c-47c2-a326-86110e1cf1ea'}, 'RetryAttempts': 0}, 'itemList': [{'itemId': '3566197569262766169', 'score': 0.9387915}, {'itemId': '3618205920179577598', 'score': 0.0025508}, {'itemId': '9056727675613132316', 'score': 0.0017862}, {'itemId': '-8502883448980287228', 'score': 0.0014528}, {'itemId': '-1419188045265393093', 'score': 0.0014075}], 'recommendationId': 'RID-cd-44ab-abab-458deb7804a1-CID-482b34'}\n"
     ]
    }
   ],
   "source": [
    "print(get_recommendations_response)"
   ]
  },
  {
   "cell_type": "markdown",
   "id": "7fd22cc9-a21f-4810-ab77-6af120fbd5ab",
   "metadata": {
    "tags": []
   },
   "source": [
    "A little hard to read - lets make a dataframe"
   ]
  },
  {
   "cell_type": "code",
   "execution_count": 7,
   "id": "15a6c1e8-f11a-48fb-b035-b712c520aa44",
   "metadata": {
    "tags": []
   },
   "outputs": [],
   "source": [
    "recommendations_df = pd.DataFrame.from_records(get_recommendations_response['itemList'])"
   ]
  },
  {
   "cell_type": "code",
   "execution_count": 8,
   "id": "c64bdff4-dc4f-4cb5-95d8-9ffa959df3b0",
   "metadata": {
    "tags": []
   },
   "outputs": [
    {
     "data": {
      "text/html": [
       "<div>\n",
       "<style scoped>\n",
       "    .dataframe tbody tr th:only-of-type {\n",
       "        vertical-align: middle;\n",
       "    }\n",
       "\n",
       "    .dataframe tbody tr th {\n",
       "        vertical-align: top;\n",
       "    }\n",
       "\n",
       "    .dataframe thead th {\n",
       "        text-align: right;\n",
       "    }\n",
       "</style>\n",
       "<table border=\"1\" class=\"dataframe\">\n",
       "  <thead>\n",
       "    <tr style=\"text-align: right;\">\n",
       "      <th></th>\n",
       "      <th>itemId</th>\n",
       "      <th>score</th>\n",
       "    </tr>\n",
       "  </thead>\n",
       "  <tbody>\n",
       "    <tr>\n",
       "      <th>0</th>\n",
       "      <td>3566197569262766169</td>\n",
       "      <td>0.938792</td>\n",
       "    </tr>\n",
       "    <tr>\n",
       "      <th>1</th>\n",
       "      <td>3618205920179577598</td>\n",
       "      <td>0.002551</td>\n",
       "    </tr>\n",
       "    <tr>\n",
       "      <th>2</th>\n",
       "      <td>9056727675613132316</td>\n",
       "      <td>0.001786</td>\n",
       "    </tr>\n",
       "    <tr>\n",
       "      <th>3</th>\n",
       "      <td>-8502883448980287228</td>\n",
       "      <td>0.001453</td>\n",
       "    </tr>\n",
       "    <tr>\n",
       "      <th>4</th>\n",
       "      <td>-1419188045265393093</td>\n",
       "      <td>0.001407</td>\n",
       "    </tr>\n",
       "  </tbody>\n",
       "</table>\n",
       "</div>"
      ],
      "text/plain": [
       "                 itemId     score\n",
       "0   3566197569262766169  0.938792\n",
       "1   3618205920179577598  0.002551\n",
       "2   9056727675613132316  0.001786\n",
       "3  -8502883448980287228  0.001453\n",
       "4  -1419188045265393093  0.001407"
      ]
     },
     "execution_count": 8,
     "metadata": {},
     "output_type": "execute_result"
    }
   ],
   "source": [
    "recommendations_df"
   ]
  },
  {
   "cell_type": "markdown",
   "id": "893ae727-47e6-4cba-8f9f-59c06a54f55c",
   "metadata": {
    "tags": []
   },
   "source": [
    "Lets lookup what sort of articles are being recommended to this user"
   ]
  },
  {
   "cell_type": "code",
   "execution_count": 9,
   "id": "f44ab546-7780-42f9-9aa1-59442901d2b2",
   "metadata": {
    "tags": []
   },
   "outputs": [],
   "source": [
    "articles_mlfeatures['item_id'] = articles_mlfeatures['item_id'].astype('str')"
   ]
  },
  {
   "cell_type": "code",
   "execution_count": 10,
   "id": "02434029-a0e1-419b-8ee3-cd55f1a4397c",
   "metadata": {
    "tags": []
   },
   "outputs": [],
   "source": [
    "recommendations_df = recommendations_df.merge(articles_mlfeatures, how='left', left_on='itemId', right_on='item_id')"
   ]
  },
  {
   "cell_type": "code",
   "execution_count": 11,
   "id": "93f9f4b2-e5ab-4697-8b27-cfef61fa035a",
   "metadata": {
    "tags": []
   },
   "outputs": [
    {
     "data": {
      "text/html": [
       "<div>\n",
       "<style scoped>\n",
       "    .dataframe tbody tr th:only-of-type {\n",
       "        vertical-align: middle;\n",
       "    }\n",
       "\n",
       "    .dataframe tbody tr th {\n",
       "        vertical-align: top;\n",
       "    }\n",
       "\n",
       "    .dataframe thead th {\n",
       "        text-align: right;\n",
       "    }\n",
       "</style>\n",
       "<table border=\"1\" class=\"dataframe\">\n",
       "  <thead>\n",
       "    <tr style=\"text-align: right;\">\n",
       "      <th></th>\n",
       "      <th>itemId</th>\n",
       "      <th>score</th>\n",
       "      <th>creation_timestamp</th>\n",
       "      <th>item_id</th>\n",
       "      <th>lang</th>\n",
       "      <th>article_genre</th>\n",
       "      <th>training_text</th>\n",
       "    </tr>\n",
       "  </thead>\n",
       "  <tbody>\n",
       "    <tr>\n",
       "      <th>0</th>\n",
       "      <td>3566197569262766169</td>\n",
       "      <td>0.938792</td>\n",
       "      <td>1486520793</td>\n",
       "      <td>3566197569262766169</td>\n",
       "      <td>en</td>\n",
       "      <td>cloud provider news</td>\n",
       "      <td>Google extends Gmail API for more granular ema...</td>\n",
       "    </tr>\n",
       "    <tr>\n",
       "      <th>1</th>\n",
       "      <td>3618205920179577598</td>\n",
       "      <td>0.002551</td>\n",
       "      <td>1487263968</td>\n",
       "      <td>3618205920179577598</td>\n",
       "      <td>pt</td>\n",
       "      <td>crypto currency</td>\n",
       "      <td>Celcoin allows users to exchange bitcoin for c...</td>\n",
       "    </tr>\n",
       "    <tr>\n",
       "      <th>2</th>\n",
       "      <td>9056727675613132316</td>\n",
       "      <td>0.001786</td>\n",
       "      <td>1471905077</td>\n",
       "      <td>9056727675613132316</td>\n",
       "      <td>en</td>\n",
       "      <td>cloud provider news</td>\n",
       "      <td>Amazon CloudFront speeds up content delivery t...</td>\n",
       "    </tr>\n",
       "    <tr>\n",
       "      <th>3</th>\n",
       "      <td>-8502883448980287228</td>\n",
       "      <td>0.001453</td>\n",
       "      <td>1486128294</td>\n",
       "      <td>-8502883448980287228</td>\n",
       "      <td>en</td>\n",
       "      <td>cloud provider news</td>\n",
       "      <td>Organization resource enables centralized mana...</td>\n",
       "    </tr>\n",
       "    <tr>\n",
       "      <th>4</th>\n",
       "      <td>-1419188045265393093</td>\n",
       "      <td>0.001407</td>\n",
       "      <td>1487069282</td>\n",
       "      <td>-1419188045265393093</td>\n",
       "      <td>en</td>\n",
       "      <td>cloud provider news</td>\n",
       "      <td>Google Cloud Endpoints provides managed API ga...</td>\n",
       "    </tr>\n",
       "  </tbody>\n",
       "</table>\n",
       "</div>"
      ],
      "text/plain": [
       "                 itemId     score  creation_timestamp               item_id  \\\n",
       "0   3566197569262766169  0.938792          1486520793   3566197569262766169   \n",
       "1   3618205920179577598  0.002551          1487263968   3618205920179577598   \n",
       "2   9056727675613132316  0.001786          1471905077   9056727675613132316   \n",
       "3  -8502883448980287228  0.001453          1486128294  -8502883448980287228   \n",
       "4  -1419188045265393093  0.001407          1487069282  -1419188045265393093   \n",
       "\n",
       "  lang        article_genre                                      training_text  \n",
       "0   en  cloud provider news  Google extends Gmail API for more granular ema...  \n",
       "1   pt      crypto currency  Celcoin allows users to exchange bitcoin for c...  \n",
       "2   en  cloud provider news  Amazon CloudFront speeds up content delivery t...  \n",
       "3   en  cloud provider news  Organization resource enables centralized mana...  \n",
       "4   en  cloud provider news  Google Cloud Endpoints provides managed API ga...  "
      ]
     },
     "execution_count": 11,
     "metadata": {},
     "output_type": "execute_result"
    }
   ],
   "source": [
    "recommendations_df"
   ]
  },
  {
   "cell_type": "code",
   "execution_count": 12,
   "id": "c5dfad0e-4958-477b-8e57-efda2b5f7edc",
   "metadata": {
    "tags": []
   },
   "outputs": [
    {
     "name": "stdout",
     "output_type": "stream",
     "text": [
      "Google extends Gmail API for more granular email settings management Google updated the Gmail API with new endpoints to manage filters, aliases, forwarding, signatures, vacation responders, and other granular email settings. This replaces the deprecated Email Settings API. Google has extended the Gmail API with new endpoints for managing email settings like filters, forwarding addresses, IMAP/POP settings, sendas aliases, signatures, and vacation responders. Developers can now retrieve and update signatures for sendas aliases, configure forwarding to external addresses, configure sendas aliases through external providers, use HTML in vacation messages, and manipulate settings for gmail.com accounts. More settings features like mailbox delegate support will be added over time. Most settings endpoints work for any Google Apps or Gmail account, but sensitive operations like modifying aliases or forwarding are restricted to service accounts with domainwide authority. The existing Email Settings API in the Admin SDK is deprecated and will be turned down on July 7, 2017 in favor of the updated Gmail API. Google has provided a migration guide to help clients transition.\n",
      "===================================\n",
      "Celcoin allows users to exchange bitcoin for cash credit to use for everyday transactions The crypto platform Celcoin lets users convert bitcoin into cash credit to spend on services like phone topups and bill payments through their app. The CEO of Celcoin, Marcelo França, explained that users can exchange bitcoins for cash credit on the Celcoin platform. They can then use this credit for various functions on the app such as phone topups, bill payments, cash withdrawals, and transfers to other users or bank accounts. Celcoin aims to make using bitcoin easier by allowing users to convert it into cash credit to use for everyday transactions on their platform.\n",
      "===================================\n",
      "Amazon CloudFront speeds up content delivery through a global edge network Amazon CloudFront is a content delivery network that caches static and dynamic content at edge locations worldwide to reduce latency for end users. Amazon CloudFront is a content delivery network (CDN) that speeds up distribution of static and dynamic web content to end users. CloudFront delivers content through edge locations worldwide, routing users to the lowest latency location. Content is either served immediately if cached at the edge location, or retrieved from an origin source like S3 or a web server if not cached. CloudFront has two main components origins and distributions. Distributions are linked to origins like S3, EC2, or external websites. There are web and RTMP distributions for media streaming. Geo restrictions can control access by country. Various HTTP methods are supported to pass requests to origins. SSL can be used for HTTPS via dedicated IP addresses per edge or SNI certificates. Cookies and query strings can be forwarded to handle dynamic content. CNAME aliases map friendly URLs to distributions. Invalidations force cache clears at edges. Access logs can go to S3 then analyzed via EMR. Signed URLs/cookies provide access controls. Low TTLs are good for dynamic content. ElastiCache offers inmemory caching with Memcached and Redis engines. Memcached is simple caching for database offloading. Redis supports more advanced data types/operations for complex caching needs. Memcached scales horizontally while Redis has persistence and high availability features. Kinesis Streams enables realtime processing of streaming data at massive scale. Data producers put records into shards in a stream. Consumers process the records, often via EC2. Data stays in a stream for up to 7 days. Use cases include IT logs, metrics, analytics. SNS is a pub/sub model for pushing updates to subscribers. Can target mobile platforms like iOS and Android. Transcoder encodes media files using pipelines, presets and notifications.\n",
      "===================================\n",
      "Organization resource enables centralized management and control for Google Cloud Google Cloud's new Organization resource allows centralized visibility, control, and improved security across projects and billing for companies using GCP. Google Cloud Platform (GCP) customers need centralized management of resources, projects, and billing to track assets as usage grows. The Cloud Resource Manager Organization resource allows visibility, control, and unified management. It is automatically created for G Suite users when they make a GCP project or billing account. Benefits of the Organization resource: Ties GCP projects to the company, persisting past employee departure. Allows GCP admins to define policies across the organization. Enables central visibility and control of billing. Allows new security policies and features. The Organization resource is the root of the GCP resource hierarchy, linked to the G Suite account for ownership and control. To start using it: Existing projects migrate under the Organization. The first G Suite user creating a project or billing account provisions the Organization resource. The G Suite super admin has full GCP control by default and can assign the Organization Admin role. Organization Admins then manage policies, projects, and billing centrally. The Organization resource enables centralized visibility, control, and improved security. More capabilities relying on it are coming.\n",
      "===================================\n",
      "Google Cloud Endpoints provides managed API gateways Google Cloud Endpoints is now generally available to help developers deploy, monitor and secure APIs on Google Cloud. It provides an API gateway that handles authentication, logging, monitoring and integration with other Google services. Google Cloud Endpoints is now generally available. It is an API gateway that helps secure and monitor APIs. APIs are important for mobile apps, web apps, and microservices. Cloud Endpoints provides authentication, monitoring, and logging. It integrates with Firebase, Auth0, Stackdriver Logging, and other Google Cloud services. The proxy runs on App Engine and Kubernetes. Early adopters have had success, with one customer handling 11,000 requests per second. Frameworks for Java and Python on App Engine standard environment are also now generally available. They help developers serve APIs quickly. Pricing includes a free tier of 2 million requests per month. After that it is $3 per million requests. The frameworks themselves are free but their API gateway features are charged. Documentation, walkthroughs, and a discussion group are available. Google also offers the Apigee Edge API management platform for enterprises.\n",
      "===================================\n"
     ]
    }
   ],
   "source": [
    "for i, row in recommendations_df.iterrows():\n",
    "    print(row['training_text'])\n",
    "    print(\"===================================\")"
   ]
  },
  {
   "cell_type": "markdown",
   "id": "ce02220b-e236-4b56-b9e6-9007a3fcd2ec",
   "metadata": {},
   "source": [
    "What has this user viewed previously"
   ]
  },
  {
   "cell_type": "code",
   "execution_count": 13,
   "id": "b8fbaaaa-cbff-47be-b80e-34cbd36c0d26",
   "metadata": {
    "tags": []
   },
   "outputs": [],
   "source": [
    "viewed_interactions = interaction_data[interaction_data['user_id'].astype(str) == sample_user].sort_values('timestamp', ascending=False)"
   ]
  },
  {
   "cell_type": "code",
   "execution_count": 14,
   "id": "04838e9c-2ffb-43ed-8a74-f08d29d3be18",
   "metadata": {
    "tags": []
   },
   "outputs": [
    {
     "data": {
      "text/html": [
       "<div>\n",
       "<style scoped>\n",
       "    .dataframe tbody tr th:only-of-type {\n",
       "        vertical-align: middle;\n",
       "    }\n",
       "\n",
       "    .dataframe tbody tr th {\n",
       "        vertical-align: top;\n",
       "    }\n",
       "\n",
       "    .dataframe thead th {\n",
       "        text-align: right;\n",
       "    }\n",
       "</style>\n",
       "<table border=\"1\" class=\"dataframe\">\n",
       "  <thead>\n",
       "    <tr style=\"text-align: right;\">\n",
       "      <th></th>\n",
       "      <th>timestamp</th>\n",
       "      <th>event_type</th>\n",
       "      <th>item_id</th>\n",
       "      <th>user_id</th>\n",
       "      <th>session_id</th>\n",
       "      <th>user_device_type</th>\n",
       "    </tr>\n",
       "  </thead>\n",
       "  <tbody>\n",
       "    <tr>\n",
       "      <th>69083</th>\n",
       "      <td>1487360168</td>\n",
       "      <td>FOLLOW</td>\n",
       "      <td>3566197569262766169</td>\n",
       "      <td>-8845298781299428018</td>\n",
       "      <td>808768479044973017</td>\n",
       "      <td>NonMobile</td>\n",
       "    </tr>\n",
       "    <tr>\n",
       "      <th>69085</th>\n",
       "      <td>1487360167</td>\n",
       "      <td>COMMENT CREATED</td>\n",
       "      <td>3566197569262766169</td>\n",
       "      <td>-8845298781299428018</td>\n",
       "      <td>808768479044973017</td>\n",
       "      <td>NonMobile</td>\n",
       "    </tr>\n",
       "    <tr>\n",
       "      <th>69082</th>\n",
       "      <td>1487359849</td>\n",
       "      <td>VIEW</td>\n",
       "      <td>3566197569262766169</td>\n",
       "      <td>-8845298781299428018</td>\n",
       "      <td>808768479044973017</td>\n",
       "      <td>NonMobile</td>\n",
       "    </tr>\n",
       "    <tr>\n",
       "      <th>69722</th>\n",
       "      <td>1487069095</td>\n",
       "      <td>VIEW</td>\n",
       "      <td>-8900113512825364282</td>\n",
       "      <td>-8845298781299428018</td>\n",
       "      <td>8663979798581613597</td>\n",
       "      <td>NonMobile</td>\n",
       "    </tr>\n",
       "    <tr>\n",
       "      <th>68453</th>\n",
       "      <td>1485973216</td>\n",
       "      <td>VIEW</td>\n",
       "      <td>-532999578436827210</td>\n",
       "      <td>-8845298781299428018</td>\n",
       "      <td>-5430065457414428568</td>\n",
       "      <td>NonMobile</td>\n",
       "    </tr>\n",
       "    <tr>\n",
       "      <th>...</th>\n",
       "      <td>...</td>\n",
       "      <td>...</td>\n",
       "      <td>...</td>\n",
       "      <td>...</td>\n",
       "      <td>...</td>\n",
       "      <td>...</td>\n",
       "    </tr>\n",
       "    <tr>\n",
       "      <th>12169</th>\n",
       "      <td>1459345020</td>\n",
       "      <td>VIEW</td>\n",
       "      <td>7973573994178035769</td>\n",
       "      <td>-8845298781299428018</td>\n",
       "      <td>3760091107461406486</td>\n",
       "      <td>NonMobile</td>\n",
       "    </tr>\n",
       "    <tr>\n",
       "      <th>18783</th>\n",
       "      <td>1459285852</td>\n",
       "      <td>VIEW</td>\n",
       "      <td>6152652267138213180</td>\n",
       "      <td>-8845298781299428018</td>\n",
       "      <td>-6283148774987755959</td>\n",
       "      <td>NonMobile</td>\n",
       "    </tr>\n",
       "    <tr>\n",
       "      <th>692</th>\n",
       "      <td>1459274282</td>\n",
       "      <td>VIEW</td>\n",
       "      <td>-1672166631728511207</td>\n",
       "      <td>-8845298781299428018</td>\n",
       "      <td>-6283148774987755959</td>\n",
       "      <td>NonMobile</td>\n",
       "    </tr>\n",
       "    <tr>\n",
       "      <th>684</th>\n",
       "      <td>1459274266</td>\n",
       "      <td>VIEW</td>\n",
       "      <td>-1672166631728511207</td>\n",
       "      <td>-8845298781299428018</td>\n",
       "      <td>-6283148774987755959</td>\n",
       "      <td>NonMobile</td>\n",
       "    </tr>\n",
       "    <tr>\n",
       "      <th>680</th>\n",
       "      <td>1459274156</td>\n",
       "      <td>VIEW</td>\n",
       "      <td>-6142462826726347616</td>\n",
       "      <td>-8845298781299428018</td>\n",
       "      <td>-6283148774987755959</td>\n",
       "      <td>NonMobile</td>\n",
       "    </tr>\n",
       "  </tbody>\n",
       "</table>\n",
       "<p>254 rows × 6 columns</p>\n",
       "</div>"
      ],
      "text/plain": [
       "        timestamp       event_type              item_id              user_id  \\\n",
       "69083  1487360168           FOLLOW  3566197569262766169 -8845298781299428018   \n",
       "69085  1487360167  COMMENT CREATED  3566197569262766169 -8845298781299428018   \n",
       "69082  1487359849             VIEW  3566197569262766169 -8845298781299428018   \n",
       "69722  1487069095             VIEW -8900113512825364282 -8845298781299428018   \n",
       "68453  1485973216             VIEW  -532999578436827210 -8845298781299428018   \n",
       "...           ...              ...                  ...                  ...   \n",
       "12169  1459345020             VIEW  7973573994178035769 -8845298781299428018   \n",
       "18783  1459285852             VIEW  6152652267138213180 -8845298781299428018   \n",
       "692    1459274282             VIEW -1672166631728511207 -8845298781299428018   \n",
       "684    1459274266             VIEW -1672166631728511207 -8845298781299428018   \n",
       "680    1459274156             VIEW -6142462826726347616 -8845298781299428018   \n",
       "\n",
       "                session_id user_device_type  \n",
       "69083   808768479044973017        NonMobile  \n",
       "69085   808768479044973017        NonMobile  \n",
       "69082   808768479044973017        NonMobile  \n",
       "69722  8663979798581613597        NonMobile  \n",
       "68453 -5430065457414428568        NonMobile  \n",
       "...                    ...              ...  \n",
       "12169  3760091107461406486        NonMobile  \n",
       "18783 -6283148774987755959        NonMobile  \n",
       "692   -6283148774987755959        NonMobile  \n",
       "684   -6283148774987755959        NonMobile  \n",
       "680   -6283148774987755959        NonMobile  \n",
       "\n",
       "[254 rows x 6 columns]"
      ]
     },
     "execution_count": 14,
     "metadata": {},
     "output_type": "execute_result"
    }
   ],
   "source": [
    "viewed_interactions"
   ]
  },
  {
   "cell_type": "markdown",
   "id": "9d74b11f-f839-4bed-86bc-04a4336e2032",
   "metadata": {},
   "source": [
    "lets take the most recent 5 articles interacted with by this user"
   ]
  },
  {
   "cell_type": "code",
   "execution_count": 15,
   "id": "b7125edd-f0ec-4026-801d-129031052d93",
   "metadata": {
    "tags": []
   },
   "outputs": [],
   "source": [
    "most_recent_five_articles = viewed_interactions.item_id.unique()[:5].astype(str).tolist()"
   ]
  },
  {
   "cell_type": "code",
   "execution_count": 16,
   "id": "646ea954-e54c-4b00-968c-68e8656b8330",
   "metadata": {
    "tags": []
   },
   "outputs": [],
   "source": [
    "most_recent_five_articles_metadata = articles_mlfeatures[articles_mlfeatures['item_id'].isin(most_recent_five_articles)]"
   ]
  },
  {
   "cell_type": "code",
   "execution_count": 17,
   "id": "ed7ae927-fe52-4d65-9dc4-06c1f895e45b",
   "metadata": {
    "tags": []
   },
   "outputs": [
    {
     "data": {
      "text/html": [
       "<div>\n",
       "<style scoped>\n",
       "    .dataframe tbody tr th:only-of-type {\n",
       "        vertical-align: middle;\n",
       "    }\n",
       "\n",
       "    .dataframe tbody tr th {\n",
       "        vertical-align: top;\n",
       "    }\n",
       "\n",
       "    .dataframe thead th {\n",
       "        text-align: right;\n",
       "    }\n",
       "</style>\n",
       "<table border=\"1\" class=\"dataframe\">\n",
       "  <thead>\n",
       "    <tr style=\"text-align: right;\">\n",
       "      <th></th>\n",
       "      <th>creation_timestamp</th>\n",
       "      <th>item_id</th>\n",
       "      <th>lang</th>\n",
       "      <th>article_genre</th>\n",
       "      <th>training_text</th>\n",
       "    </tr>\n",
       "  </thead>\n",
       "  <tbody>\n",
       "    <tr>\n",
       "      <th>2869</th>\n",
       "      <td>1481676932</td>\n",
       "      <td>8526042588044002101</td>\n",
       "      <td>en</td>\n",
       "      <td>tech</td>\n",
       "      <td>Cloud Native enables efficient, automated infr...</td>\n",
       "    </tr>\n",
       "    <tr>\n",
       "      <th>2982</th>\n",
       "      <td>1484838924</td>\n",
       "      <td>7419040071212162906</td>\n",
       "      <td>en</td>\n",
       "      <td>tech</td>\n",
       "      <td>Google search traffic hack by targeting \\\"best...</td>\n",
       "    </tr>\n",
       "    <tr>\n",
       "      <th>3040</th>\n",
       "      <td>1485899108</td>\n",
       "      <td>-532999578436827210</td>\n",
       "      <td>en</td>\n",
       "      <td>cloud provider news</td>\n",
       "      <td>IBM launches cloud graph database service usin...</td>\n",
       "    </tr>\n",
       "    <tr>\n",
       "      <th>3065</th>\n",
       "      <td>1486520793</td>\n",
       "      <td>3566197569262766169</td>\n",
       "      <td>en</td>\n",
       "      <td>cloud provider news</td>\n",
       "      <td>Google extends Gmail API for more granular ema...</td>\n",
       "    </tr>\n",
       "    <tr>\n",
       "      <th>3084</th>\n",
       "      <td>1486999803</td>\n",
       "      <td>-8900113512825364282</td>\n",
       "      <td>en</td>\n",
       "      <td>non tech</td>\n",
       "      <td>Report finds banks lag in customer experience ...</td>\n",
       "    </tr>\n",
       "  </tbody>\n",
       "</table>\n",
       "</div>"
      ],
      "text/plain": [
       "      creation_timestamp               item_id lang        article_genre  \\\n",
       "2869          1481676932   8526042588044002101   en                 tech   \n",
       "2982          1484838924   7419040071212162906   en                 tech   \n",
       "3040          1485899108   -532999578436827210   en  cloud provider news   \n",
       "3065          1486520793   3566197569262766169   en  cloud provider news   \n",
       "3084          1486999803  -8900113512825364282   en             non tech   \n",
       "\n",
       "                                          training_text  \n",
       "2869  Cloud Native enables efficient, automated infr...  \n",
       "2982  Google search traffic hack by targeting \\\"best...  \n",
       "3040  IBM launches cloud graph database service usin...  \n",
       "3065  Google extends Gmail API for more granular ema...  \n",
       "3084  Report finds banks lag in customer experience ...  "
      ]
     },
     "execution_count": 17,
     "metadata": {},
     "output_type": "execute_result"
    }
   ],
   "source": [
    "most_recent_five_articles_metadata"
   ]
  },
  {
   "cell_type": "markdown",
   "id": "62a360a7-b914-4007-ae3e-199222ddd171",
   "metadata": {},
   "source": [
    "We see that the user has previously red information on cloud applications and google in particular. In fact one of our recommendations is actually in the users recent interaction history. This is not ideal lets use the fitler we created earlier to exclude this data. Also lets make use of the return metadata function to retrieve the information on this article so that the recommendations are easier for us to understand. "
   ]
  },
  {
   "cell_type": "code",
   "execution_count": 45,
   "id": "0794bd69-9422-4dd6-9514-458984b4dfc8",
   "metadata": {
    "tags": []
   },
   "outputs": [
    {
     "name": "stdout",
     "output_type": "stream",
     "text": [
      "{'campaignArn': 'arn:aws:personalize:us-east-1:381491864570:campaign/immersion_day_user_personalization_news_campaign', 'ResponseMetadata': {'RequestId': 'b967d27b-1b69-4102-9ed2-4ab49e74a6d7', 'HTTPStatusCode': 200, 'HTTPHeaders': {'date': 'Sat, 30 Mar 2024 01:03:01 GMT', 'content-type': 'application/x-amz-json-1.1', 'content-length': '118', 'connection': 'keep-alive', 'x-amzn-requestid': 'b967d27b-1b69-4102-9ed2-4ab49e74a6d7'}, 'RetryAttempts': 0}}\n",
      "{'campaignArn': 'arn:aws:personalize:us-east-1:381491864570:campaign/immersion_day_personalized_ranking_news_campaign', 'ResponseMetadata': {'RequestId': '7d2eb2c1-4331-4295-9ad8-d3af484244b1', 'HTTPStatusCode': 200, 'HTTPHeaders': {'date': 'Sat, 30 Mar 2024 01:03:01 GMT', 'content-type': 'application/x-amz-json-1.1', 'content-length': '118', 'connection': 'keep-alive', 'x-amzn-requestid': '7d2eb2c1-4331-4295-9ad8-d3af484244b1'}, 'RetryAttempts': 0}}\n"
     ]
    }
   ],
   "source": [
    "response = personalize.update_campaign(\n",
    "    campaignArn = workshop_userpersonalization_campaign_arn,\n",
    "    campaignConfig={\n",
    "        'enableMetadataWithRecommendations': True\n",
    "    }\n",
    ")\n",
    "print (response)\n",
    "\n",
    "response = personalize.update_campaign(\n",
    "    campaignArn = workshop_rerank_campaign_arn,\n",
    "    campaignConfig={\n",
    "        'enableMetadataWithRecommendations': True\n",
    "    }\n",
    ")\n",
    "print (response)"
   ]
  },
  {
   "cell_type": "markdown",
   "id": "a9c4fe64-9d82-4722-8836-e18b2f615920",
   "metadata": {
    "tags": []
   },
   "source": [
    "Note you can enable metadata with recommendations when you deploy the campaign for the first time as follows:\n",
    "\n",
    "```python\n",
    "user_personalization_create_campaign_response = personalize.create_campaign(\n",
    "    name = workshop_userpersonalization_campaign_name,\n",
    "    solutionVersionArn = workshop_userpersonalization_solution_version_arn,\n",
    "    minProvisionedTPS = 1,\n",
    "    campaignConfig = {\"enableMetadataWithRecommendations\": True}    \n",
    ")\n",
    "```"
   ]
  },
  {
   "cell_type": "code",
   "execution_count": 50,
   "id": "34eb6bfe-89b7-4dc8-8081-683f27dc6448",
   "metadata": {
    "tags": []
   },
   "outputs": [],
   "source": [
    "get_recommendations_response = personalize_runtime.get_recommendations(\n",
    "    campaignArn = workshop_userpersonalization_campaign_arn,\n",
    "    userId = sample_user,\n",
    "    numResults = 10,\n",
    "    metadataColumns = {\"ITEMS\": [\"ARTICLE_GENRE\"]}\n",
    ")"
   ]
  },
  {
   "cell_type": "code",
   "execution_count": 51,
   "id": "8f3966aa-dbb2-40cd-a209-089fe312e412",
   "metadata": {
    "tags": []
   },
   "outputs": [
    {
     "data": {
      "text/plain": [
       "{'ResponseMetadata': {'RequestId': '993c5ae4-a5f9-4c2c-a258-1b0652af47c9',\n",
       "  'HTTPStatusCode': 200,\n",
       "  'HTTPHeaders': {'date': 'Sat, 30 Mar 2024 01:09:07 GMT',\n",
       "   'content-type': 'application/json',\n",
       "   'content-length': '1146',\n",
       "   'connection': 'keep-alive',\n",
       "   'x-amzn-requestid': '993c5ae4-a5f9-4c2c-a258-1b0652af47c9'},\n",
       "  'RetryAttempts': 0},\n",
       " 'itemList': [{'itemId': '3566197569262766169', 'score': 0.9387915},\n",
       "  {'itemId': '3618205920179577598', 'score': 0.0025508},\n",
       "  {'itemId': '9056727675613132316', 'score': 0.0017862},\n",
       "  {'itemId': '-8502883448980287228', 'score': 0.0014528},\n",
       "  {'itemId': '-1419188045265393093', 'score': 0.0014075},\n",
       "  {'itemId': '2573252627510191315', 'score': 0.001402},\n",
       "  {'itemId': '1964631817676172382', 'score': 0.0013023},\n",
       "  {'itemId': '-5160830061297425098', 'score': 0.0010796},\n",
       "  {'itemId': '-3870325027932266414', 'score': 0.001076},\n",
       "  {'itemId': '672199059798181601', 'score': 0.0009841}],\n",
       " 'recommendationId': 'RID-a4-481c-bf35-875fb75d1df2-CID-482b34'}"
      ]
     },
     "execution_count": 51,
     "metadata": {},
     "output_type": "execute_result"
    }
   ],
   "source": [
    "get_recommendations_response"
   ]
  },
  {
   "cell_type": "markdown",
   "id": "e1de6c7b-f07a-4231-bcae-89db315dce66",
   "metadata": {},
   "source": [
    "To make processing this easier lets make a helper function which retrieves the interaction history for our users."
   ]
  },
  {
   "cell_type": "code",
   "execution_count": 21,
   "id": "db9d58f6-7600-4a38-9e9b-f60778a3619c",
   "metadata": {
    "tags": []
   },
   "outputs": [],
   "source": [
    "def return_recs_and_history(user_id, campaign_arn, article_metadata, interactions_data, filter_arn, filter_values):\n",
    "    get_recommendations_response = personalize_runtime.get_recommendations(\n",
    "        campaignArn = campaign_arn,\n",
    "        userId = user_id,\n",
    "        numResults = 5,\n",
    "        filterArn = filter_arn, #\"arn:aws:personalize:us-east-1:256589169164:filter/breakingnews-genre-filter\"\n",
    "        filterValues = filter_values #{\"GENRELIST\": \"\\\"tech\\\", \\\"cloud provider news\\\"\"}\n",
    "    )\n",
    "    \n",
    "    recommendations_df = pd.DataFrame.from_records(get_recommendations_response['itemList'])\n",
    "    \n",
    "    recommendations_df = recommendations_df.merge(article_metadata, how='left', left_on='itemId', right_on='item_id')\n",
    "    \n",
    "    viewed_interactions = interactions_data[interactions_data['user_id'].astype(str) == user_id].sort_values('timestamp', ascending=False)\n",
    "    \n",
    "    most_recent_five_articles = viewed_interactions.item_id.unique()[:5].astype(str).tolist()\n",
    "    \n",
    "    most_recent_five_articles_metadata = article_metadata[article_metadata['item_id'].isin(most_recent_five_articles)]\n",
    "    \n",
    "    return recommendations_df, most_recent_five_articles_metadata"
   ]
  },
  {
   "cell_type": "code",
   "execution_count": 24,
   "id": "98bf4f5f-3b3c-40a5-b1fb-a8996ad276d9",
   "metadata": {},
   "outputs": [],
   "source": [
    "recommendations_df, most_recent_five_articles_metadata = return_recs_and_history(user_id = sample_user,\n",
    "                                                                                campaign_arn = workshop_userpersonalization_campaign_arn,\n",
    "                                                                                article_metadata = articles_mlfeatures,\n",
    "                                                                                interactions_data = interaction_data,\n",
    "                                                                                filter_arn = \"arn:aws:personalize:us-east-1:256589169164:filter/breakingnews-genre-filter\",\n",
    "                                                                                filter_values = {\"GENRELIST\": \"\\\"tech\\\", \\\"cloud provider news\\\"\"})"
   ]
  },
  {
   "cell_type": "code",
   "execution_count": null,
   "id": "6e406872-f62c-41d2-afb0-2b70946bf50b",
   "metadata": {},
   "outputs": [],
   "source": []
  }
 ],
 "metadata": {
  "availableInstances": [
   {
    "_defaultOrder": 0,
    "_isFastLaunch": true,
    "category": "General purpose",
    "gpuNum": 0,
    "hideHardwareSpecs": false,
    "memoryGiB": 4,
    "name": "ml.t3.medium",
    "vcpuNum": 2
   },
   {
    "_defaultOrder": 1,
    "_isFastLaunch": false,
    "category": "General purpose",
    "gpuNum": 0,
    "hideHardwareSpecs": false,
    "memoryGiB": 8,
    "name": "ml.t3.large",
    "vcpuNum": 2
   },
   {
    "_defaultOrder": 2,
    "_isFastLaunch": false,
    "category": "General purpose",
    "gpuNum": 0,
    "hideHardwareSpecs": false,
    "memoryGiB": 16,
    "name": "ml.t3.xlarge",
    "vcpuNum": 4
   },
   {
    "_defaultOrder": 3,
    "_isFastLaunch": false,
    "category": "General purpose",
    "gpuNum": 0,
    "hideHardwareSpecs": false,
    "memoryGiB": 32,
    "name": "ml.t3.2xlarge",
    "vcpuNum": 8
   },
   {
    "_defaultOrder": 4,
    "_isFastLaunch": true,
    "category": "General purpose",
    "gpuNum": 0,
    "hideHardwareSpecs": false,
    "memoryGiB": 8,
    "name": "ml.m5.large",
    "vcpuNum": 2
   },
   {
    "_defaultOrder": 5,
    "_isFastLaunch": false,
    "category": "General purpose",
    "gpuNum": 0,
    "hideHardwareSpecs": false,
    "memoryGiB": 16,
    "name": "ml.m5.xlarge",
    "vcpuNum": 4
   },
   {
    "_defaultOrder": 6,
    "_isFastLaunch": false,
    "category": "General purpose",
    "gpuNum": 0,
    "hideHardwareSpecs": false,
    "memoryGiB": 32,
    "name": "ml.m5.2xlarge",
    "vcpuNum": 8
   },
   {
    "_defaultOrder": 7,
    "_isFastLaunch": false,
    "category": "General purpose",
    "gpuNum": 0,
    "hideHardwareSpecs": false,
    "memoryGiB": 64,
    "name": "ml.m5.4xlarge",
    "vcpuNum": 16
   },
   {
    "_defaultOrder": 8,
    "_isFastLaunch": false,
    "category": "General purpose",
    "gpuNum": 0,
    "hideHardwareSpecs": false,
    "memoryGiB": 128,
    "name": "ml.m5.8xlarge",
    "vcpuNum": 32
   },
   {
    "_defaultOrder": 9,
    "_isFastLaunch": false,
    "category": "General purpose",
    "gpuNum": 0,
    "hideHardwareSpecs": false,
    "memoryGiB": 192,
    "name": "ml.m5.12xlarge",
    "vcpuNum": 48
   },
   {
    "_defaultOrder": 10,
    "_isFastLaunch": false,
    "category": "General purpose",
    "gpuNum": 0,
    "hideHardwareSpecs": false,
    "memoryGiB": 256,
    "name": "ml.m5.16xlarge",
    "vcpuNum": 64
   },
   {
    "_defaultOrder": 11,
    "_isFastLaunch": false,
    "category": "General purpose",
    "gpuNum": 0,
    "hideHardwareSpecs": false,
    "memoryGiB": 384,
    "name": "ml.m5.24xlarge",
    "vcpuNum": 96
   },
   {
    "_defaultOrder": 12,
    "_isFastLaunch": false,
    "category": "General purpose",
    "gpuNum": 0,
    "hideHardwareSpecs": false,
    "memoryGiB": 8,
    "name": "ml.m5d.large",
    "vcpuNum": 2
   },
   {
    "_defaultOrder": 13,
    "_isFastLaunch": false,
    "category": "General purpose",
    "gpuNum": 0,
    "hideHardwareSpecs": false,
    "memoryGiB": 16,
    "name": "ml.m5d.xlarge",
    "vcpuNum": 4
   },
   {
    "_defaultOrder": 14,
    "_isFastLaunch": false,
    "category": "General purpose",
    "gpuNum": 0,
    "hideHardwareSpecs": false,
    "memoryGiB": 32,
    "name": "ml.m5d.2xlarge",
    "vcpuNum": 8
   },
   {
    "_defaultOrder": 15,
    "_isFastLaunch": false,
    "category": "General purpose",
    "gpuNum": 0,
    "hideHardwareSpecs": false,
    "memoryGiB": 64,
    "name": "ml.m5d.4xlarge",
    "vcpuNum": 16
   },
   {
    "_defaultOrder": 16,
    "_isFastLaunch": false,
    "category": "General purpose",
    "gpuNum": 0,
    "hideHardwareSpecs": false,
    "memoryGiB": 128,
    "name": "ml.m5d.8xlarge",
    "vcpuNum": 32
   },
   {
    "_defaultOrder": 17,
    "_isFastLaunch": false,
    "category": "General purpose",
    "gpuNum": 0,
    "hideHardwareSpecs": false,
    "memoryGiB": 192,
    "name": "ml.m5d.12xlarge",
    "vcpuNum": 48
   },
   {
    "_defaultOrder": 18,
    "_isFastLaunch": false,
    "category": "General purpose",
    "gpuNum": 0,
    "hideHardwareSpecs": false,
    "memoryGiB": 256,
    "name": "ml.m5d.16xlarge",
    "vcpuNum": 64
   },
   {
    "_defaultOrder": 19,
    "_isFastLaunch": false,
    "category": "General purpose",
    "gpuNum": 0,
    "hideHardwareSpecs": false,
    "memoryGiB": 384,
    "name": "ml.m5d.24xlarge",
    "vcpuNum": 96
   },
   {
    "_defaultOrder": 20,
    "_isFastLaunch": false,
    "category": "General purpose",
    "gpuNum": 0,
    "hideHardwareSpecs": true,
    "memoryGiB": 0,
    "name": "ml.geospatial.interactive",
    "supportedImageNames": [
     "sagemaker-geospatial-v1-0"
    ],
    "vcpuNum": 0
   },
   {
    "_defaultOrder": 21,
    "_isFastLaunch": true,
    "category": "Compute optimized",
    "gpuNum": 0,
    "hideHardwareSpecs": false,
    "memoryGiB": 4,
    "name": "ml.c5.large",
    "vcpuNum": 2
   },
   {
    "_defaultOrder": 22,
    "_isFastLaunch": false,
    "category": "Compute optimized",
    "gpuNum": 0,
    "hideHardwareSpecs": false,
    "memoryGiB": 8,
    "name": "ml.c5.xlarge",
    "vcpuNum": 4
   },
   {
    "_defaultOrder": 23,
    "_isFastLaunch": false,
    "category": "Compute optimized",
    "gpuNum": 0,
    "hideHardwareSpecs": false,
    "memoryGiB": 16,
    "name": "ml.c5.2xlarge",
    "vcpuNum": 8
   },
   {
    "_defaultOrder": 24,
    "_isFastLaunch": false,
    "category": "Compute optimized",
    "gpuNum": 0,
    "hideHardwareSpecs": false,
    "memoryGiB": 32,
    "name": "ml.c5.4xlarge",
    "vcpuNum": 16
   },
   {
    "_defaultOrder": 25,
    "_isFastLaunch": false,
    "category": "Compute optimized",
    "gpuNum": 0,
    "hideHardwareSpecs": false,
    "memoryGiB": 72,
    "name": "ml.c5.9xlarge",
    "vcpuNum": 36
   },
   {
    "_defaultOrder": 26,
    "_isFastLaunch": false,
    "category": "Compute optimized",
    "gpuNum": 0,
    "hideHardwareSpecs": false,
    "memoryGiB": 96,
    "name": "ml.c5.12xlarge",
    "vcpuNum": 48
   },
   {
    "_defaultOrder": 27,
    "_isFastLaunch": false,
    "category": "Compute optimized",
    "gpuNum": 0,
    "hideHardwareSpecs": false,
    "memoryGiB": 144,
    "name": "ml.c5.18xlarge",
    "vcpuNum": 72
   },
   {
    "_defaultOrder": 28,
    "_isFastLaunch": false,
    "category": "Compute optimized",
    "gpuNum": 0,
    "hideHardwareSpecs": false,
    "memoryGiB": 192,
    "name": "ml.c5.24xlarge",
    "vcpuNum": 96
   },
   {
    "_defaultOrder": 29,
    "_isFastLaunch": true,
    "category": "Accelerated computing",
    "gpuNum": 1,
    "hideHardwareSpecs": false,
    "memoryGiB": 16,
    "name": "ml.g4dn.xlarge",
    "vcpuNum": 4
   },
   {
    "_defaultOrder": 30,
    "_isFastLaunch": false,
    "category": "Accelerated computing",
    "gpuNum": 1,
    "hideHardwareSpecs": false,
    "memoryGiB": 32,
    "name": "ml.g4dn.2xlarge",
    "vcpuNum": 8
   },
   {
    "_defaultOrder": 31,
    "_isFastLaunch": false,
    "category": "Accelerated computing",
    "gpuNum": 1,
    "hideHardwareSpecs": false,
    "memoryGiB": 64,
    "name": "ml.g4dn.4xlarge",
    "vcpuNum": 16
   },
   {
    "_defaultOrder": 32,
    "_isFastLaunch": false,
    "category": "Accelerated computing",
    "gpuNum": 1,
    "hideHardwareSpecs": false,
    "memoryGiB": 128,
    "name": "ml.g4dn.8xlarge",
    "vcpuNum": 32
   },
   {
    "_defaultOrder": 33,
    "_isFastLaunch": false,
    "category": "Accelerated computing",
    "gpuNum": 4,
    "hideHardwareSpecs": false,
    "memoryGiB": 192,
    "name": "ml.g4dn.12xlarge",
    "vcpuNum": 48
   },
   {
    "_defaultOrder": 34,
    "_isFastLaunch": false,
    "category": "Accelerated computing",
    "gpuNum": 1,
    "hideHardwareSpecs": false,
    "memoryGiB": 256,
    "name": "ml.g4dn.16xlarge",
    "vcpuNum": 64
   },
   {
    "_defaultOrder": 35,
    "_isFastLaunch": false,
    "category": "Accelerated computing",
    "gpuNum": 1,
    "hideHardwareSpecs": false,
    "memoryGiB": 61,
    "name": "ml.p3.2xlarge",
    "vcpuNum": 8
   },
   {
    "_defaultOrder": 36,
    "_isFastLaunch": false,
    "category": "Accelerated computing",
    "gpuNum": 4,
    "hideHardwareSpecs": false,
    "memoryGiB": 244,
    "name": "ml.p3.8xlarge",
    "vcpuNum": 32
   },
   {
    "_defaultOrder": 37,
    "_isFastLaunch": false,
    "category": "Accelerated computing",
    "gpuNum": 8,
    "hideHardwareSpecs": false,
    "memoryGiB": 488,
    "name": "ml.p3.16xlarge",
    "vcpuNum": 64
   },
   {
    "_defaultOrder": 38,
    "_isFastLaunch": false,
    "category": "Accelerated computing",
    "gpuNum": 8,
    "hideHardwareSpecs": false,
    "memoryGiB": 768,
    "name": "ml.p3dn.24xlarge",
    "vcpuNum": 96
   },
   {
    "_defaultOrder": 39,
    "_isFastLaunch": false,
    "category": "Memory Optimized",
    "gpuNum": 0,
    "hideHardwareSpecs": false,
    "memoryGiB": 16,
    "name": "ml.r5.large",
    "vcpuNum": 2
   },
   {
    "_defaultOrder": 40,
    "_isFastLaunch": false,
    "category": "Memory Optimized",
    "gpuNum": 0,
    "hideHardwareSpecs": false,
    "memoryGiB": 32,
    "name": "ml.r5.xlarge",
    "vcpuNum": 4
   },
   {
    "_defaultOrder": 41,
    "_isFastLaunch": false,
    "category": "Memory Optimized",
    "gpuNum": 0,
    "hideHardwareSpecs": false,
    "memoryGiB": 64,
    "name": "ml.r5.2xlarge",
    "vcpuNum": 8
   },
   {
    "_defaultOrder": 42,
    "_isFastLaunch": false,
    "category": "Memory Optimized",
    "gpuNum": 0,
    "hideHardwareSpecs": false,
    "memoryGiB": 128,
    "name": "ml.r5.4xlarge",
    "vcpuNum": 16
   },
   {
    "_defaultOrder": 43,
    "_isFastLaunch": false,
    "category": "Memory Optimized",
    "gpuNum": 0,
    "hideHardwareSpecs": false,
    "memoryGiB": 256,
    "name": "ml.r5.8xlarge",
    "vcpuNum": 32
   },
   {
    "_defaultOrder": 44,
    "_isFastLaunch": false,
    "category": "Memory Optimized",
    "gpuNum": 0,
    "hideHardwareSpecs": false,
    "memoryGiB": 384,
    "name": "ml.r5.12xlarge",
    "vcpuNum": 48
   },
   {
    "_defaultOrder": 45,
    "_isFastLaunch": false,
    "category": "Memory Optimized",
    "gpuNum": 0,
    "hideHardwareSpecs": false,
    "memoryGiB": 512,
    "name": "ml.r5.16xlarge",
    "vcpuNum": 64
   },
   {
    "_defaultOrder": 46,
    "_isFastLaunch": false,
    "category": "Memory Optimized",
    "gpuNum": 0,
    "hideHardwareSpecs": false,
    "memoryGiB": 768,
    "name": "ml.r5.24xlarge",
    "vcpuNum": 96
   },
   {
    "_defaultOrder": 47,
    "_isFastLaunch": false,
    "category": "Accelerated computing",
    "gpuNum": 1,
    "hideHardwareSpecs": false,
    "memoryGiB": 16,
    "name": "ml.g5.xlarge",
    "vcpuNum": 4
   },
   {
    "_defaultOrder": 48,
    "_isFastLaunch": false,
    "category": "Accelerated computing",
    "gpuNum": 1,
    "hideHardwareSpecs": false,
    "memoryGiB": 32,
    "name": "ml.g5.2xlarge",
    "vcpuNum": 8
   },
   {
    "_defaultOrder": 49,
    "_isFastLaunch": false,
    "category": "Accelerated computing",
    "gpuNum": 1,
    "hideHardwareSpecs": false,
    "memoryGiB": 64,
    "name": "ml.g5.4xlarge",
    "vcpuNum": 16
   },
   {
    "_defaultOrder": 50,
    "_isFastLaunch": false,
    "category": "Accelerated computing",
    "gpuNum": 1,
    "hideHardwareSpecs": false,
    "memoryGiB": 128,
    "name": "ml.g5.8xlarge",
    "vcpuNum": 32
   },
   {
    "_defaultOrder": 51,
    "_isFastLaunch": false,
    "category": "Accelerated computing",
    "gpuNum": 1,
    "hideHardwareSpecs": false,
    "memoryGiB": 256,
    "name": "ml.g5.16xlarge",
    "vcpuNum": 64
   },
   {
    "_defaultOrder": 52,
    "_isFastLaunch": false,
    "category": "Accelerated computing",
    "gpuNum": 4,
    "hideHardwareSpecs": false,
    "memoryGiB": 192,
    "name": "ml.g5.12xlarge",
    "vcpuNum": 48
   },
   {
    "_defaultOrder": 53,
    "_isFastLaunch": false,
    "category": "Accelerated computing",
    "gpuNum": 4,
    "hideHardwareSpecs": false,
    "memoryGiB": 384,
    "name": "ml.g5.24xlarge",
    "vcpuNum": 96
   },
   {
    "_defaultOrder": 54,
    "_isFastLaunch": false,
    "category": "Accelerated computing",
    "gpuNum": 8,
    "hideHardwareSpecs": false,
    "memoryGiB": 768,
    "name": "ml.g5.48xlarge",
    "vcpuNum": 192
   },
   {
    "_defaultOrder": 55,
    "_isFastLaunch": false,
    "category": "Accelerated computing",
    "gpuNum": 8,
    "hideHardwareSpecs": false,
    "memoryGiB": 1152,
    "name": "ml.p4d.24xlarge",
    "vcpuNum": 96
   },
   {
    "_defaultOrder": 56,
    "_isFastLaunch": false,
    "category": "Accelerated computing",
    "gpuNum": 8,
    "hideHardwareSpecs": false,
    "memoryGiB": 1152,
    "name": "ml.p4de.24xlarge",
    "vcpuNum": 96
   },
   {
    "_defaultOrder": 57,
    "_isFastLaunch": false,
    "category": "Accelerated computing",
    "gpuNum": 0,
    "hideHardwareSpecs": false,
    "memoryGiB": 32,
    "name": "ml.trn1.2xlarge",
    "vcpuNum": 8
   },
   {
    "_defaultOrder": 58,
    "_isFastLaunch": false,
    "category": "Accelerated computing",
    "gpuNum": 0,
    "hideHardwareSpecs": false,
    "memoryGiB": 512,
    "name": "ml.trn1.32xlarge",
    "vcpuNum": 128
   },
   {
    "_defaultOrder": 59,
    "_isFastLaunch": false,
    "category": "Accelerated computing",
    "gpuNum": 0,
    "hideHardwareSpecs": false,
    "memoryGiB": 512,
    "name": "ml.trn1n.32xlarge",
    "vcpuNum": 128
   }
  ],
  "instance_type": "ml.t3.medium",
  "kernelspec": {
   "display_name": "conda_tensorflow2_p310",
   "language": "python",
   "name": "conda_tensorflow2_p310"
  },
  "language_info": {
   "codemirror_mode": {
    "name": "ipython",
    "version": 3
   },
   "file_extension": ".py",
   "mimetype": "text/x-python",
   "name": "python",
   "nbconvert_exporter": "python",
   "pygments_lexer": "ipython3",
   "version": "3.10.13"
  }
 },
 "nbformat": 4,
 "nbformat_minor": 5
}
