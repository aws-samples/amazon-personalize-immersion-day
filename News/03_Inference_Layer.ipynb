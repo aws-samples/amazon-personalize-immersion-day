{
 "cells": [
  {
   "cell_type": "markdown",
   "id": "2a89abeb-02f2-4461-aa1f-07b9f08606de",
   "metadata": {},
   "source": [
    "# Interacting with Recommenders, Campaigns and Filters <a class=\"anchor\" id=\"top\"></a>\n",
    "\n",
    "Now that Unicorn Post has trained models for 2 different use cases (User Personalization and Personalized Reranking), we need to integrate them into our application. Amazon Personalize can make recommendations available via an Application Programming Interface (API). In addition, Amazon Personalize includes features that allow you to easily integrate into applications and provide benefits like real time vending of recommendations based on recent application activity.\n",
    "\n",
    "In this notebook, you will interact with campaigns and filters you created earlier in Amazon Personalize.\n",
    "\n",
    "1. [Introduction](#intro)\n",
    "1. [Interact with Recommenders](#interact-recommenders)\n",
    "1. [Interact with Campaigns](#interact-campaigns)\n",
    "1. [Filters](#filters)\n",
    "1. [Create Filters](#create-filters)\n",
    "1. [Using Filters](#using-filters)\n",
    "1. [Real-time Events](#real-time)\n",
    "1. [Wrap Up](#wrapup)\n",
    "\n",
    "To run this notebook, you need to have run the previous notebooks, [`01_Data_Layer.ipynb`](01_Data_Layer.ipynb), and [`02_Training_Layer.ipynb`](02_Training_Layer.ipynb), where you created a dataset and imported interaction, item, and user metadata data into Amazon Personalize, created recommenders, solutions, and campaigns.\n",
    "\n",
    "## Introduction <a class=\"anchor\" id=\"intro\"></a>\n",
    "[Back to top](#top)\n",
    "\n",
    "At this point, you should have two deployed Campaign. Once they are active, there are resources for querying the recommendations, and helper functions to digest the output into something more human-readable. \n",
    "\n",
    "In this Notebook we will interact with the Campaigns and get recommendations. \n",
    "\n",
    "We will interact with filters and send live data to Amazon Personalize to see the effect of real-time interactions on recommendations.\n",
    "\n",
    "The following diagram shows the resources that we will create in this section. The part we are building in this notebook highlighted in blue with a dashed outline.\n",
    "\n",
    "![Workflow](Images/03_Inference_Layer_Resources.jpg)\n",
    "\n",
    "To get started, once again, we need to import libraries, load values from previous notebooks, and load the SDK."
   ]
  },
  {
   "cell_type": "code",
   "execution_count": 2,
   "id": "e9b233aa-91d2-41b5-a6db-12f4a35441da",
   "metadata": {
    "tags": []
   },
   "outputs": [],
   "source": [
    "import time\n",
    "from time import sleep\n",
    "import json\n",
    "from datetime import datetime\n",
    "import uuid\n",
    "import random\n",
    "import boto3\n",
    "import pandas as pd"
   ]
  },
  {
   "cell_type": "code",
   "execution_count": 3,
   "id": "9c6e3297-01c0-4969-854d-0e83b07da8eb",
   "metadata": {
    "tags": []
   },
   "outputs": [],
   "source": [
    "#retrieves previously stored variables \n",
    "%store -r "
   ]
  },
  {
   "cell_type": "code",
   "execution_count": 4,
   "id": "e9a7efe8-38c7-44ab-9122-8792b8a1a64e",
   "metadata": {
    "tags": []
   },
   "outputs": [],
   "source": [
    "personalize = boto3.client('personalize')\n",
    "personalize_runtime = boto3.client('personalize-runtime')\n",
    "\n",
    "# Establish a connection to Personalize's event streaming\n",
    "personalize_events = boto3.client(service_name='personalize-events')"
   ]
  },
  {
   "cell_type": "markdown",
   "id": "f87c146d-fa06-462b-bf23-f3c5b73f5dec",
   "metadata": {},
   "source": [
    "## Interact with Campaigns <a class=\"anchor\" id=\"interact-recommenders\"></a>\n",
    "[Back to top](#top)\n",
    "\n",
    "Now that the models have been trained, lets have a look at the recommendations we can get for our users!"
   ]
  },
  {
   "cell_type": "markdown",
   "id": "8224b798-905d-4301-a8a7-195c8f9728d8",
   "metadata": {},
   "source": [
    "### User Personalization Model\n",
    "\n",
    "\"User Personalization \" requires a user as input, and it will return the items it thinks the customer is most likely to interact with next.\n",
    "\n",
    "The cells below will handle getting recommendations from the \"User Personalization Model\" and rendering the results. Let's see what the recommendations are for a user.\n",
    "\n",
    "We will be using the `campaignArn`, the `userId`, as well as the number or results we want, `numResults`."
   ]
  },
  {
   "cell_type": "markdown",
   "id": "f12e1e16-1832-49e4-acee-029957db10c1",
   "metadata": {},
   "source": [
    "### Select a User\n",
    "\n",
    "We'll just pick a random user for simplicity. Feel free to change the `user_id` below and execute the following cells with a different user to get a sense for how the recommendations change.\n",
    "\n",
    "#### Sample User ID's\n",
    " -8845298781299428018\n",
    " -1032019229384696495\n",
    " -1130272294246983140\n",
    " 344280948527967603\n",
    " -445337111692715325"
   ]
  },
  {
   "cell_type": "code",
   "execution_count": 5,
   "id": "30ce5239-1dee-4913-9307-e52798cc7529",
   "metadata": {
    "tags": []
   },
   "outputs": [],
   "source": [
    "sample_user = str(-8845298781299428018)"
   ]
  },
  {
   "cell_type": "code",
   "execution_count": 6,
   "id": "c913cb7e-404c-459d-b4d3-be9c4d3cd214",
   "metadata": {
    "tags": []
   },
   "outputs": [],
   "source": [
    "get_recommendations_response = personalize_runtime.get_recommendations(\n",
    "    campaignArn = workshop_userpersonalization_campaign_arn,\n",
    "    userId = sample_user,\n",
    "    numResults = 5\n",
    ")"
   ]
  },
  {
   "cell_type": "code",
   "execution_count": 7,
   "id": "20faaa70-5790-477c-a6f3-c46290fdd6aa",
   "metadata": {
    "tags": []
   },
   "outputs": [
    {
     "name": "stdout",
     "output_type": "stream",
     "text": [
      "{'ResponseMetadata': {'RequestId': '97091ab0-1154-4011-84e5-2fb8f3d2eb82', 'HTTPStatusCode': 200, 'HTTPHeaders': {'date': 'Tue, 20 Feb 2024 14:04:45 GMT', 'content-type': 'application/json', 'content-length': '614', 'connection': 'keep-alive', 'x-amzn-requestid': '97091ab0-1154-4011-84e5-2fb8f3d2eb82'}, 'RetryAttempts': 0}, 'itemList': [{'itemId': '3566197569262766169', 'score': 0.6605853}, {'itemId': '-746073086109727488', 'score': 0.0336421}, {'itemId': '-4029704725707465084', 'score': 0.0331361}, {'itemId': '-8900113512825364282', 'score': 0.0201865}, {'itemId': '-1415040208471067980', 'score': 0.0092185}], 'recommendationId': 'RID-b2-4c22-8b65-922067b3efdb-CID-c97f13'}\n"
     ]
    }
   ],
   "source": [
    "print(get_recommendations_response)"
   ]
  },
  {
   "cell_type": "markdown",
   "id": "7fd22cc9-a21f-4810-ab77-6af120fbd5ab",
   "metadata": {
    "tags": []
   },
   "source": [
    "A little hard to read - lets make a dataframe"
   ]
  },
  {
   "cell_type": "code",
   "execution_count": 8,
   "id": "15a6c1e8-f11a-48fb-b035-b712c520aa44",
   "metadata": {
    "tags": []
   },
   "outputs": [],
   "source": [
    "recommendations_df = pd.DataFrame.from_records(get_recommendations_response['itemList'])"
   ]
  },
  {
   "cell_type": "code",
   "execution_count": 9,
   "id": "c64bdff4-dc4f-4cb5-95d8-9ffa959df3b0",
   "metadata": {
    "tags": []
   },
   "outputs": [
    {
     "data": {
      "text/html": [
       "<div>\n",
       "<style scoped>\n",
       "    .dataframe tbody tr th:only-of-type {\n",
       "        vertical-align: middle;\n",
       "    }\n",
       "\n",
       "    .dataframe tbody tr th {\n",
       "        vertical-align: top;\n",
       "    }\n",
       "\n",
       "    .dataframe thead th {\n",
       "        text-align: right;\n",
       "    }\n",
       "</style>\n",
       "<table border=\"1\" class=\"dataframe\">\n",
       "  <thead>\n",
       "    <tr style=\"text-align: right;\">\n",
       "      <th></th>\n",
       "      <th>itemId</th>\n",
       "      <th>score</th>\n",
       "    </tr>\n",
       "  </thead>\n",
       "  <tbody>\n",
       "    <tr>\n",
       "      <th>0</th>\n",
       "      <td>3566197569262766169</td>\n",
       "      <td>0.660585</td>\n",
       "    </tr>\n",
       "    <tr>\n",
       "      <th>1</th>\n",
       "      <td>-746073086109727488</td>\n",
       "      <td>0.033642</td>\n",
       "    </tr>\n",
       "    <tr>\n",
       "      <th>2</th>\n",
       "      <td>-4029704725707465084</td>\n",
       "      <td>0.033136</td>\n",
       "    </tr>\n",
       "    <tr>\n",
       "      <th>3</th>\n",
       "      <td>-8900113512825364282</td>\n",
       "      <td>0.020186</td>\n",
       "    </tr>\n",
       "    <tr>\n",
       "      <th>4</th>\n",
       "      <td>-1415040208471067980</td>\n",
       "      <td>0.009218</td>\n",
       "    </tr>\n",
       "  </tbody>\n",
       "</table>\n",
       "</div>"
      ],
      "text/plain": [
       "                 itemId     score\n",
       "0   3566197569262766169  0.660585\n",
       "1   -746073086109727488  0.033642\n",
       "2  -4029704725707465084  0.033136\n",
       "3  -8900113512825364282  0.020186\n",
       "4  -1415040208471067980  0.009218"
      ]
     },
     "execution_count": 9,
     "metadata": {},
     "output_type": "execute_result"
    }
   ],
   "source": [
    "recommendations_df"
   ]
  },
  {
   "cell_type": "markdown",
   "id": "893ae727-47e6-4cba-8f9f-59c06a54f55c",
   "metadata": {
    "tags": []
   },
   "source": [
    "Lets lookup what sort of articles are being recommended to this user"
   ]
  },
  {
   "cell_type": "code",
   "execution_count": 10,
   "id": "f44ab546-7780-42f9-9aa1-59442901d2b2",
   "metadata": {
    "tags": []
   },
   "outputs": [],
   "source": [
    "articles_mlfeatures['item_id'] = articles_mlfeatures['item_id'].astype('str')"
   ]
  },
  {
   "cell_type": "code",
   "execution_count": 12,
   "id": "02434029-a0e1-419b-8ee3-cd55f1a4397c",
   "metadata": {
    "tags": []
   },
   "outputs": [],
   "source": [
    "recommendations_df = recommendations_df.merge(articles_mlfeatures, how='left', left_on='itemId', right_on='item_id')"
   ]
  },
  {
   "cell_type": "code",
   "execution_count": 13,
   "id": "93f9f4b2-e5ab-4697-8b27-cfef61fa035a",
   "metadata": {
    "tags": []
   },
   "outputs": [
    {
     "data": {
      "text/html": [
       "<div>\n",
       "<style scoped>\n",
       "    .dataframe tbody tr th:only-of-type {\n",
       "        vertical-align: middle;\n",
       "    }\n",
       "\n",
       "    .dataframe tbody tr th {\n",
       "        vertical-align: top;\n",
       "    }\n",
       "\n",
       "    .dataframe thead th {\n",
       "        text-align: right;\n",
       "    }\n",
       "</style>\n",
       "<table border=\"1\" class=\"dataframe\">\n",
       "  <thead>\n",
       "    <tr style=\"text-align: right;\">\n",
       "      <th></th>\n",
       "      <th>itemId</th>\n",
       "      <th>score</th>\n",
       "      <th>creation_timestamp</th>\n",
       "      <th>item_id</th>\n",
       "      <th>lang</th>\n",
       "      <th>article_genre</th>\n",
       "      <th>training_text</th>\n",
       "    </tr>\n",
       "  </thead>\n",
       "  <tbody>\n",
       "    <tr>\n",
       "      <th>0</th>\n",
       "      <td>3566197569262766169</td>\n",
       "      <td>0.660585</td>\n",
       "      <td>1486520793</td>\n",
       "      <td>3566197569262766169</td>\n",
       "      <td>en</td>\n",
       "      <td>cloud provider news</td>\n",
       "      <td>Google extends Gmail API for more granular ema...</td>\n",
       "    </tr>\n",
       "    <tr>\n",
       "      <th>1</th>\n",
       "      <td>-746073086109727488</td>\n",
       "      <td>0.033642</td>\n",
       "      <td>1486517733</td>\n",
       "      <td>-746073086109727488</td>\n",
       "      <td>en</td>\n",
       "      <td>non tech</td>\n",
       "      <td>5 key questions marketing executives should as...</td>\n",
       "    </tr>\n",
       "    <tr>\n",
       "      <th>2</th>\n",
       "      <td>-4029704725707465084</td>\n",
       "      <td>0.033136</td>\n",
       "      <td>1487246811</td>\n",
       "      <td>-4029704725707465084</td>\n",
       "      <td>en</td>\n",
       "      <td>non tech</td>\n",
       "      <td>Career coach advises making a mind map to desi...</td>\n",
       "    </tr>\n",
       "    <tr>\n",
       "      <th>3</th>\n",
       "      <td>-8900113512825364282</td>\n",
       "      <td>0.020186</td>\n",
       "      <td>1486999803</td>\n",
       "      <td>-8900113512825364282</td>\n",
       "      <td>en</td>\n",
       "      <td>non tech</td>\n",
       "      <td>Report finds banks lag in customer experience ...</td>\n",
       "    </tr>\n",
       "    <tr>\n",
       "      <th>4</th>\n",
       "      <td>-1415040208471067980</td>\n",
       "      <td>0.009218</td>\n",
       "      <td>1482409156</td>\n",
       "      <td>-1415040208471067980</td>\n",
       "      <td>en</td>\n",
       "      <td>cloud provider news</td>\n",
       "      <td>Google Cloud Platform releases icon library fo...</td>\n",
       "    </tr>\n",
       "  </tbody>\n",
       "</table>\n",
       "</div>"
      ],
      "text/plain": [
       "                 itemId     score  creation_timestamp               item_id  \\\n",
       "0   3566197569262766169  0.660585          1486520793   3566197569262766169   \n",
       "1   -746073086109727488  0.033642          1486517733   -746073086109727488   \n",
       "2  -4029704725707465084  0.033136          1487246811  -4029704725707465084   \n",
       "3  -8900113512825364282  0.020186          1486999803  -8900113512825364282   \n",
       "4  -1415040208471067980  0.009218          1482409156  -1415040208471067980   \n",
       "\n",
       "  lang        article_genre                                      training_text  \n",
       "0   en  cloud provider news  Google extends Gmail API for more granular ema...  \n",
       "1   en             non tech  5 key questions marketing executives should as...  \n",
       "2   en             non tech  Career coach advises making a mind map to desi...  \n",
       "3   en             non tech  Report finds banks lag in customer experience ...  \n",
       "4   en  cloud provider news  Google Cloud Platform releases icon library fo...  "
      ]
     },
     "execution_count": 13,
     "metadata": {},
     "output_type": "execute_result"
    }
   ],
   "source": [
    "recommendations_df"
   ]
  },
  {
   "cell_type": "code",
   "execution_count": 14,
   "id": "c5dfad0e-4958-477b-8e57-efda2b5f7edc",
   "metadata": {
    "tags": []
   },
   "outputs": [
    {
     "name": "stdout",
     "output_type": "stream",
     "text": [
      "Google extends Gmail API for more granular email settings management Google updated the Gmail API with new endpoints to manage filters, aliases, forwarding, signatures, vacation responders, and other granular email settings. This replaces the deprecated Email Settings API. Google has extended the Gmail API with new endpoints for managing email settings like filters, forwarding addresses, IMAP/POP settings, sendas aliases, signatures, and vacation responders. Developers can now retrieve and update signatures for sendas aliases, configure forwarding to external addresses, configure sendas aliases through external providers, use HTML in vacation messages, and manipulate settings for gmail.com accounts. More settings features like mailbox delegate support will be added over time. Most settings endpoints work for any Google Apps or Gmail account, but sensitive operations like modifying aliases or forwarding are restricted to service accounts with domainwide authority. The existing Email Settings API in the Admin SDK is deprecated and will be turned down on July 7, 2017 in favor of the updated Gmail API. Google has provided a migration guide to help clients transition.\n",
      "===================================\n",
      "5 key questions marketing executives should ask about managing agency relationships An article provides 5 important questions for marketing executives to consider when managing agency partnerships, in order to drive growth and ROI. The article discusses 5 key questions that marketing executives should ask themselves when managing agency relationships in order to drive growth and improve marketing ROI in 2017. 1. Do you have a clear view of the platforms needed for future success and the implications for marketing mix? Assess if agencies have experience to navigate emerging channels where consumers are going. 2. Are you building an agency ecosystem with clear roles and capabilities to cover the mix without overlaps or gaps? Define swim lanes and how agencies should coordinate. 3. Are you measuring and incentivizing agencies on metrics that matter most to your brand and business? Ensure incentives align to improve overall results. 4. Are you getting the transparency and oversight needed? Demand detailed understanding of media spend and value generated. Audit costs. 5. Are you being a great client by providing leadership, flexibility, clear objectives and ongoing dialogue for agency success? Take time to consider if you are sufficiently resourced.\n",
      "===================================\n",
      "Career coach advises making a mind map to design an exciting new year Jenny Blake recommends creating a visual \\\"mind map\\\" to identify goals and next steps for a happier and more successful new year. Jenny Blake, a former Google career coach, advises making a \\\"mind map\\\" to design an exciting 2017. A mind map is a visual diagram of your interests and goals. To make one, write the year in the center of a paper and draw spokes for themes like business, health, and fun. Ask yourself what success in each area looks like. Connect the themes to specific ways to improve. Mind mapping sparks creativity by moving from linear to visual thinking. The goal is to identify possible next steps to make the new year happier and more successful. Blake shares this advice in her book \\\"Pivot: The Only Move That Matters Is Your Next One.\\\".\n",
      "===================================\n",
      "Report finds banks lag in customer experience maturity and investment A global survey on customer experience in banking reveals most institutions lack a formal CX plan and focus more on internal metrics than customer ease. But CX investment is increasing. The report \\\"Improving Customer Experience in Banking\\\" shares results from a global survey on CX maturity in financial institutions. It finds most banks and credit unions are unprepared to meet rising consumer expectations. Digital transformation has enabled personalized, seamless engagement across channels. This increases potential for positive CX but also complexity. Unfortunately CX is not a top priority for many institutions, leading to transactional relationships. To improve CX and meet evolving needs, key priorities emerged: Shift digital focus from cost reduction to experience enhancement. Leverage analytics, machine learning, contextual engagement for personalization. Let customers engage how and when they want. Make advisory and sales proactive vs reactive. Engage throughout the customer journey. The report surveyed banks and credit unions on their CX maturity and provides a benchmark. It was sponsored by Deluxe Corp. Key findings: While all see CX as significant, it's less important at smaller institutions. Only 37% have a formal CX plan. CX objectives focus on internal benefits like sales and costs rather than customer simplicity and ease. Despite digital driving satisfaction, focus remains on products and branches over technology. Most will increase CX investment, especially over next 3 years. CX initiatives so far have had modest impact. Data analytics, legacy technology, customer view are top challenges. CX measurement lacks revenue impact metrics. The report concludes that as \\\"Age of the Individual\\\" emerges, using data and analytics to deliver personalized experiences will separate winners from losers. Banks should start by fixing one issue impeding customer satisfaction through a datadriven approach. The complete 85page report with survey data crosstabs is available for purchase.\n",
      "===================================\n",
      "Google Cloud Platform releases icon library for diagrams Google Cloud Platform published downloadable icons and sample diagrams to help visually represent GCP infrastructure and services. Google Cloud Platform has released downloadable icon sets and sample diagrams to help developers, architects, and partners visually represent complex cloud infrastructure in documents and presentations. The icons cover GCP products, services, and elements that can be combined with other providers' icons to show hybrid/multicloud setups. Over 50 sample diagrams are available in Slide and PowerPoint formats to help kickstart new diagrams. As more products launch, Google will add icons so users should revisit the icon library. This allows accurate, uptodate visual representations of Google Cloud Platform architectures and services.\n",
      "===================================\n"
     ]
    }
   ],
   "source": [
    "for i, row in recommendations_df.iterrows():\n",
    "    print(row['training_text'])\n",
    "    print(\"===================================\")"
   ]
  },
  {
   "cell_type": "markdown",
   "id": "ce02220b-e236-4b56-b9e6-9007a3fcd2ec",
   "metadata": {},
   "source": [
    "What has this user viewed previously"
   ]
  },
  {
   "cell_type": "code",
   "execution_count": 15,
   "id": "b8fbaaaa-cbff-47be-b80e-34cbd36c0d26",
   "metadata": {
    "tags": []
   },
   "outputs": [],
   "source": [
    "viewed_interactions = interaction_data[interaction_data['user_id'].astype(str) == sample_user].sort_values('timestamp', ascending=False)"
   ]
  },
  {
   "cell_type": "code",
   "execution_count": 16,
   "id": "04838e9c-2ffb-43ed-8a74-f08d29d3be18",
   "metadata": {
    "tags": []
   },
   "outputs": [
    {
     "data": {
      "text/html": [
       "<div>\n",
       "<style scoped>\n",
       "    .dataframe tbody tr th:only-of-type {\n",
       "        vertical-align: middle;\n",
       "    }\n",
       "\n",
       "    .dataframe tbody tr th {\n",
       "        vertical-align: top;\n",
       "    }\n",
       "\n",
       "    .dataframe thead th {\n",
       "        text-align: right;\n",
       "    }\n",
       "</style>\n",
       "<table border=\"1\" class=\"dataframe\">\n",
       "  <thead>\n",
       "    <tr style=\"text-align: right;\">\n",
       "      <th></th>\n",
       "      <th>timestamp</th>\n",
       "      <th>event_type</th>\n",
       "      <th>item_id</th>\n",
       "      <th>user_id</th>\n",
       "      <th>session_id</th>\n",
       "      <th>user_device_type</th>\n",
       "    </tr>\n",
       "  </thead>\n",
       "  <tbody>\n",
       "    <tr>\n",
       "      <th>69083</th>\n",
       "      <td>1487360168</td>\n",
       "      <td>FOLLOW</td>\n",
       "      <td>3566197569262766169</td>\n",
       "      <td>-8845298781299428018</td>\n",
       "      <td>808768479044973017</td>\n",
       "      <td>NonMobile</td>\n",
       "    </tr>\n",
       "    <tr>\n",
       "      <th>69085</th>\n",
       "      <td>1487360167</td>\n",
       "      <td>COMMENT CREATED</td>\n",
       "      <td>3566197569262766169</td>\n",
       "      <td>-8845298781299428018</td>\n",
       "      <td>808768479044973017</td>\n",
       "      <td>NonMobile</td>\n",
       "    </tr>\n",
       "    <tr>\n",
       "      <th>69082</th>\n",
       "      <td>1487359849</td>\n",
       "      <td>VIEW</td>\n",
       "      <td>3566197569262766169</td>\n",
       "      <td>-8845298781299428018</td>\n",
       "      <td>808768479044973017</td>\n",
       "      <td>NonMobile</td>\n",
       "    </tr>\n",
       "    <tr>\n",
       "      <th>69722</th>\n",
       "      <td>1487069095</td>\n",
       "      <td>VIEW</td>\n",
       "      <td>-8900113512825364282</td>\n",
       "      <td>-8845298781299428018</td>\n",
       "      <td>8663979798581613597</td>\n",
       "      <td>NonMobile</td>\n",
       "    </tr>\n",
       "    <tr>\n",
       "      <th>68453</th>\n",
       "      <td>1485973216</td>\n",
       "      <td>VIEW</td>\n",
       "      <td>-532999578436827210</td>\n",
       "      <td>-8845298781299428018</td>\n",
       "      <td>-5430065457414428568</td>\n",
       "      <td>NonMobile</td>\n",
       "    </tr>\n",
       "    <tr>\n",
       "      <th>...</th>\n",
       "      <td>...</td>\n",
       "      <td>...</td>\n",
       "      <td>...</td>\n",
       "      <td>...</td>\n",
       "      <td>...</td>\n",
       "      <td>...</td>\n",
       "    </tr>\n",
       "    <tr>\n",
       "      <th>12169</th>\n",
       "      <td>1459345020</td>\n",
       "      <td>VIEW</td>\n",
       "      <td>7973573994178035769</td>\n",
       "      <td>-8845298781299428018</td>\n",
       "      <td>3760091107461406486</td>\n",
       "      <td>NonMobile</td>\n",
       "    </tr>\n",
       "    <tr>\n",
       "      <th>18783</th>\n",
       "      <td>1459285852</td>\n",
       "      <td>VIEW</td>\n",
       "      <td>6152652267138213180</td>\n",
       "      <td>-8845298781299428018</td>\n",
       "      <td>-6283148774987755959</td>\n",
       "      <td>NonMobile</td>\n",
       "    </tr>\n",
       "    <tr>\n",
       "      <th>692</th>\n",
       "      <td>1459274282</td>\n",
       "      <td>VIEW</td>\n",
       "      <td>-1672166631728511207</td>\n",
       "      <td>-8845298781299428018</td>\n",
       "      <td>-6283148774987755959</td>\n",
       "      <td>NonMobile</td>\n",
       "    </tr>\n",
       "    <tr>\n",
       "      <th>684</th>\n",
       "      <td>1459274266</td>\n",
       "      <td>VIEW</td>\n",
       "      <td>-1672166631728511207</td>\n",
       "      <td>-8845298781299428018</td>\n",
       "      <td>-6283148774987755959</td>\n",
       "      <td>NonMobile</td>\n",
       "    </tr>\n",
       "    <tr>\n",
       "      <th>680</th>\n",
       "      <td>1459274156</td>\n",
       "      <td>VIEW</td>\n",
       "      <td>-6142462826726347616</td>\n",
       "      <td>-8845298781299428018</td>\n",
       "      <td>-6283148774987755959</td>\n",
       "      <td>NonMobile</td>\n",
       "    </tr>\n",
       "  </tbody>\n",
       "</table>\n",
       "<p>254 rows × 6 columns</p>\n",
       "</div>"
      ],
      "text/plain": [
       "        timestamp       event_type              item_id              user_id  \\\n",
       "69083  1487360168           FOLLOW  3566197569262766169 -8845298781299428018   \n",
       "69085  1487360167  COMMENT CREATED  3566197569262766169 -8845298781299428018   \n",
       "69082  1487359849             VIEW  3566197569262766169 -8845298781299428018   \n",
       "69722  1487069095             VIEW -8900113512825364282 -8845298781299428018   \n",
       "68453  1485973216             VIEW  -532999578436827210 -8845298781299428018   \n",
       "...           ...              ...                  ...                  ...   \n",
       "12169  1459345020             VIEW  7973573994178035769 -8845298781299428018   \n",
       "18783  1459285852             VIEW  6152652267138213180 -8845298781299428018   \n",
       "692    1459274282             VIEW -1672166631728511207 -8845298781299428018   \n",
       "684    1459274266             VIEW -1672166631728511207 -8845298781299428018   \n",
       "680    1459274156             VIEW -6142462826726347616 -8845298781299428018   \n",
       "\n",
       "                session_id user_device_type  \n",
       "69083   808768479044973017        NonMobile  \n",
       "69085   808768479044973017        NonMobile  \n",
       "69082   808768479044973017        NonMobile  \n",
       "69722  8663979798581613597        NonMobile  \n",
       "68453 -5430065457414428568        NonMobile  \n",
       "...                    ...              ...  \n",
       "12169  3760091107461406486        NonMobile  \n",
       "18783 -6283148774987755959        NonMobile  \n",
       "692   -6283148774987755959        NonMobile  \n",
       "684   -6283148774987755959        NonMobile  \n",
       "680   -6283148774987755959        NonMobile  \n",
       "\n",
       "[254 rows x 6 columns]"
      ]
     },
     "execution_count": 16,
     "metadata": {},
     "output_type": "execute_result"
    }
   ],
   "source": [
    "viewed_interactions"
   ]
  },
  {
   "cell_type": "markdown",
   "id": "9d74b11f-f839-4bed-86bc-04a4336e2032",
   "metadata": {},
   "source": [
    "lets take the most recent 5 articles interacted with by this user"
   ]
  },
  {
   "cell_type": "code",
   "execution_count": 17,
   "id": "b7125edd-f0ec-4026-801d-129031052d93",
   "metadata": {
    "tags": []
   },
   "outputs": [],
   "source": [
    "most_recent_five_articles = viewed_interactions.item_id.unique()[:5].astype(str).tolist()"
   ]
  },
  {
   "cell_type": "code",
   "execution_count": 18,
   "id": "646ea954-e54c-4b00-968c-68e8656b8330",
   "metadata": {
    "tags": []
   },
   "outputs": [],
   "source": [
    "most_recent_five_articles_metadata = articles_mlfeatures[articles_mlfeatures['item_id'].isin(most_recent_five_articles)]"
   ]
  },
  {
   "cell_type": "code",
   "execution_count": 19,
   "id": "ed7ae927-fe52-4d65-9dc4-06c1f895e45b",
   "metadata": {
    "tags": []
   },
   "outputs": [
    {
     "data": {
      "text/html": [
       "<div>\n",
       "<style scoped>\n",
       "    .dataframe tbody tr th:only-of-type {\n",
       "        vertical-align: middle;\n",
       "    }\n",
       "\n",
       "    .dataframe tbody tr th {\n",
       "        vertical-align: top;\n",
       "    }\n",
       "\n",
       "    .dataframe thead th {\n",
       "        text-align: right;\n",
       "    }\n",
       "</style>\n",
       "<table border=\"1\" class=\"dataframe\">\n",
       "  <thead>\n",
       "    <tr style=\"text-align: right;\">\n",
       "      <th></th>\n",
       "      <th>creation_timestamp</th>\n",
       "      <th>item_id</th>\n",
       "      <th>lang</th>\n",
       "      <th>article_genre</th>\n",
       "      <th>training_text</th>\n",
       "    </tr>\n",
       "  </thead>\n",
       "  <tbody>\n",
       "    <tr>\n",
       "      <th>2869</th>\n",
       "      <td>1481676932</td>\n",
       "      <td>8526042588044002101</td>\n",
       "      <td>en</td>\n",
       "      <td>tech</td>\n",
       "      <td>Cloud Native enables efficient, automated infr...</td>\n",
       "    </tr>\n",
       "    <tr>\n",
       "      <th>2982</th>\n",
       "      <td>1484838924</td>\n",
       "      <td>7419040071212162906</td>\n",
       "      <td>en</td>\n",
       "      <td>tech</td>\n",
       "      <td>Google search traffic hack by targeting \\\"best...</td>\n",
       "    </tr>\n",
       "    <tr>\n",
       "      <th>3040</th>\n",
       "      <td>1485899108</td>\n",
       "      <td>-532999578436827210</td>\n",
       "      <td>en</td>\n",
       "      <td>cloud provider news</td>\n",
       "      <td>IBM launches cloud graph database service usin...</td>\n",
       "    </tr>\n",
       "    <tr>\n",
       "      <th>3065</th>\n",
       "      <td>1486520793</td>\n",
       "      <td>3566197569262766169</td>\n",
       "      <td>en</td>\n",
       "      <td>cloud provider news</td>\n",
       "      <td>Google extends Gmail API for more granular ema...</td>\n",
       "    </tr>\n",
       "    <tr>\n",
       "      <th>3084</th>\n",
       "      <td>1486999803</td>\n",
       "      <td>-8900113512825364282</td>\n",
       "      <td>en</td>\n",
       "      <td>non tech</td>\n",
       "      <td>Report finds banks lag in customer experience ...</td>\n",
       "    </tr>\n",
       "  </tbody>\n",
       "</table>\n",
       "</div>"
      ],
      "text/plain": [
       "      creation_timestamp               item_id lang        article_genre  \\\n",
       "2869          1481676932   8526042588044002101   en                 tech   \n",
       "2982          1484838924   7419040071212162906   en                 tech   \n",
       "3040          1485899108   -532999578436827210   en  cloud provider news   \n",
       "3065          1486520793   3566197569262766169   en  cloud provider news   \n",
       "3084          1486999803  -8900113512825364282   en             non tech   \n",
       "\n",
       "                                          training_text  \n",
       "2869  Cloud Native enables efficient, automated infr...  \n",
       "2982  Google search traffic hack by targeting \\\"best...  \n",
       "3040  IBM launches cloud graph database service usin...  \n",
       "3065  Google extends Gmail API for more granular ema...  \n",
       "3084  Report finds banks lag in customer experience ...  "
      ]
     },
     "execution_count": 19,
     "metadata": {},
     "output_type": "execute_result"
    }
   ],
   "source": [
    "most_recent_five_articles_metadata"
   ]
  },
  {
   "cell_type": "markdown",
   "id": "2a66aa15-faad-4208-899a-c3ad1486e6b7",
   "metadata": {},
   "source": [
    "Lets take a look at a summary of the article text"
   ]
  },
  {
   "cell_type": "code",
   "execution_count": 20,
   "id": "ea9cb3a5-a220-4f33-b438-fc02c4bcbba3",
   "metadata": {
    "tags": []
   },
   "outputs": [
    {
     "name": "stdout",
     "output_type": "stream",
     "text": [
      "Cloud Native enables efficient, automated infrastructure through modular architecture Cloud Native is an approach to build modular, automated systems that can manage complexity and accelerate development. It utilizes practices like microservices, infrastructure as code, and CI/CD. Cloud Native is a way of structuring teams, culture, and technology to utilize automation and architectures to manage complexity and unlock velocity. The real value of Cloud Native goes beyond just the technologies associated with it. Cloud Native enables more efficient and happier teams by breaking large problems into smaller pieces and reducing manual work through automation. It leads to more reliable infrastructure and applications by building in automation to handle failures. Cloud Native also enables auditable, visible, and debuggable complex applications through the tools used to build them. It allows developers to create more secure applications through least trust principles. Finally, Cloud Native opens up algorithmic automation for more efficient use of resources like intelligent scheduling. We are still early in applying Cloud Native outside of technology companies, but it brings many benefits. Heptio is excited to help bring Cloud Native's advantages to the wider IT industry.\n",
      "===================================\n",
      "Google search traffic hack by targeting \\\"best of year\\\" keywords Adding the current year to keywords can drive search traffic by targeting fresh annual results. But you need a monetization strategy like affiliate links. The article discusses how adding \\\"2016\\\" or \\\"2017\\\" to Google search queries can send huge amounts of traffic to websites. The author first got the idea when searching for \\\"best business books 2016\\\" and realized many people search with the current year to get the most recent results. He tested this on his own site by publishing an article with \\\"2016\\\" in the headline and got tens of thousands of visitors. Another example is the site 10beasts.com which was launched in 2016 with articles about the \\\"best\\\" products that year. Just 4 months after launch the site was getting 100k+ visitors per month and earning $4,687 in commissions. The site BestProducts.com also dominated Google in 2016 for yearbased terms, getting millions of visitors. To find profitable keywords, the author suggests using Google Trends, Google Keyword Planner, and reverseengineering sites like Amazon. Overall the tactic can drive huge organic search traffic if you target the right keywords, though you need a monetization strategy like affiliate marketing to profit. The key is finding \\\"longtail\\\" keywords with buyer intent that are less competitive. With some effort, the strategy provides a big SEO opportunity in 2017.\n",
      "===================================\n",
      "IBM launches cloud graph database service using open source technologies IBM Graph provides developers an interactive graph database to learn Gremlin query language. It aims to make graph technology more accessible. IBM has launched a new cloudbased graph database service called IBM Graph, built on open source Titan and Apache TinkerPop technologies. The service is designed to make graph databases more accessible to developers by providing an interactive tutorial playground to help them learn Gremlin query language. The goal is to get developers up and running with graph technology quickly. IBM Graph provides up to 500MB of free storage and 25,000 free API calls per month. Additional storage and API calls are charged per GB and per 1000 calls. The service runs on IBM data centers on Cassandra for storage, Elasticsearch for indexing, and the open source Titan and TinkerPop technologies. IBM chose not to modify or fork these open source projects in order to maintain compatibility. IBM Graph is focused on transactional workloads by providing a secondary operational data store for realtime graph queries from other production applications. Analytic workloads are possible but not the main focus currently. Future plans include making it easier to load and model data for graphs, as modeling decisions are required upfront before loading data. IBM also aims to evolve the offering for analytic workloads like Apache Spark in the future.\n",
      "===================================\n",
      "Google extends Gmail API for more granular email settings management Google updated the Gmail API with new endpoints to manage filters, aliases, forwarding, signatures, vacation responders, and other granular email settings. This replaces the deprecated Email Settings API. Google has extended the Gmail API with new endpoints for managing email settings like filters, forwarding addresses, IMAP/POP settings, sendas aliases, signatures, and vacation responders. Developers can now retrieve and update signatures for sendas aliases, configure forwarding to external addresses, configure sendas aliases through external providers, use HTML in vacation messages, and manipulate settings for gmail.com accounts. More settings features like mailbox delegate support will be added over time. Most settings endpoints work for any Google Apps or Gmail account, but sensitive operations like modifying aliases or forwarding are restricted to service accounts with domainwide authority. The existing Email Settings API in the Admin SDK is deprecated and will be turned down on July 7, 2017 in favor of the updated Gmail API. Google has provided a migration guide to help clients transition.\n",
      "===================================\n",
      "Report finds banks lag in customer experience maturity and investment A global survey on customer experience in banking reveals most institutions lack a formal CX plan and focus more on internal metrics than customer ease. But CX investment is increasing. The report \\\"Improving Customer Experience in Banking\\\" shares results from a global survey on CX maturity in financial institutions. It finds most banks and credit unions are unprepared to meet rising consumer expectations. Digital transformation has enabled personalized, seamless engagement across channels. This increases potential for positive CX but also complexity. Unfortunately CX is not a top priority for many institutions, leading to transactional relationships. To improve CX and meet evolving needs, key priorities emerged: Shift digital focus from cost reduction to experience enhancement. Leverage analytics, machine learning, contextual engagement for personalization. Let customers engage how and when they want. Make advisory and sales proactive vs reactive. Engage throughout the customer journey. The report surveyed banks and credit unions on their CX maturity and provides a benchmark. It was sponsored by Deluxe Corp. Key findings: While all see CX as significant, it's less important at smaller institutions. Only 37% have a formal CX plan. CX objectives focus on internal benefits like sales and costs rather than customer simplicity and ease. Despite digital driving satisfaction, focus remains on products and branches over technology. Most will increase CX investment, especially over next 3 years. CX initiatives so far have had modest impact. Data analytics, legacy technology, customer view are top challenges. CX measurement lacks revenue impact metrics. The report concludes that as \\\"Age of the Individual\\\" emerges, using data and analytics to deliver personalized experiences will separate winners from losers. Banks should start by fixing one issue impeding customer satisfaction through a datadriven approach. The complete 85page report with survey data crosstabs is available for purchase.\n",
      "===================================\n"
     ]
    }
   ],
   "source": [
    "for i, row in most_recent_five_articles_metadata.iterrows():\n",
    "    print(row['training_text'])\n",
    "    print(\"===================================\")"
   ]
  },
  {
   "cell_type": "markdown",
   "id": "5b607624-8889-43af-a17c-c0f6ad1593f4",
   "metadata": {},
   "source": [
    "Lets make a helper function to automate some of the above tasks as well as allow us to use a filter"
   ]
  },
  {
   "cell_type": "code",
   "execution_count": 21,
   "id": "db9d58f6-7600-4a38-9e9b-f60778a3619c",
   "metadata": {
    "tags": []
   },
   "outputs": [],
   "source": [
    "def return_recs_and_history(user_id, campaign_arn, article_metadata, interactions_data, filter_arn, filter_values):\n",
    "    get_recommendations_response = personalize_runtime.get_recommendations(\n",
    "        campaignArn = campaign_arn,\n",
    "        userId = user_id,\n",
    "        numResults = 5,\n",
    "        filterArn = filter_arn, #\"arn:aws:personalize:us-east-1:256589169164:filter/breakingnews-genre-filter\"\n",
    "        filterValues = filter_values #{\"GENRELIST\": \"\\\"tech\\\", \\\"cloud provider news\\\"\"}\n",
    "    )\n",
    "    \n",
    "    recommendations_df = pd.DataFrame.from_records(get_recommendations_response['itemList'])\n",
    "    \n",
    "    recommendations_df = recommendations_df.merge(article_metadata, how='left', left_on='itemId', right_on='item_id')\n",
    "    \n",
    "    viewed_interactions = interactions_data[interactions_data['user_id'].astype(str) == user_id].sort_values('timestamp', ascending=False)\n",
    "    \n",
    "    most_recent_five_articles = viewed_interactions.item_id.unique()[:5].astype(str).tolist()\n",
    "    \n",
    "    most_recent_five_articles_metadata = article_metadata[article_metadata['item_id'].isin(most_recent_five_articles)]\n",
    "    \n",
    "    return recommendations_df, most_recent_five_articles_metadata"
   ]
  },
  {
   "cell_type": "code",
   "execution_count": 24,
   "id": "98bf4f5f-3b3c-40a5-b1fb-a8996ad276d9",
   "metadata": {},
   "outputs": [],
   "source": [
    "recommendations_df, most_recent_five_articles_metadata = return_recs_and_history(user_id = sample_user,\n",
    "                                                                                campaign_arn = workshop_userpersonalization_campaign_arn,\n",
    "                                                                                article_metadata = articles_mlfeatures,\n",
    "                                                                                interactions_data = interaction_data,\n",
    "                                                                                filter_arn = \"arn:aws:personalize:us-east-1:256589169164:filter/breakingnews-genre-filter\",\n",
    "                                                                                filter_values = {\"GENRELIST\": \"\\\"tech\\\", \\\"cloud provider news\\\"\"})"
   ]
  },
  {
   "cell_type": "code",
   "execution_count": null,
   "id": "6e406872-f62c-41d2-afb0-2b70946bf50b",
   "metadata": {},
   "outputs": [],
   "source": []
  }
 ],
 "metadata": {
  "availableInstances": [
   {
    "_defaultOrder": 0,
    "_isFastLaunch": true,
    "category": "General purpose",
    "gpuNum": 0,
    "hideHardwareSpecs": false,
    "memoryGiB": 4,
    "name": "ml.t3.medium",
    "vcpuNum": 2
   },
   {
    "_defaultOrder": 1,
    "_isFastLaunch": false,
    "category": "General purpose",
    "gpuNum": 0,
    "hideHardwareSpecs": false,
    "memoryGiB": 8,
    "name": "ml.t3.large",
    "vcpuNum": 2
   },
   {
    "_defaultOrder": 2,
    "_isFastLaunch": false,
    "category": "General purpose",
    "gpuNum": 0,
    "hideHardwareSpecs": false,
    "memoryGiB": 16,
    "name": "ml.t3.xlarge",
    "vcpuNum": 4
   },
   {
    "_defaultOrder": 3,
    "_isFastLaunch": false,
    "category": "General purpose",
    "gpuNum": 0,
    "hideHardwareSpecs": false,
    "memoryGiB": 32,
    "name": "ml.t3.2xlarge",
    "vcpuNum": 8
   },
   {
    "_defaultOrder": 4,
    "_isFastLaunch": true,
    "category": "General purpose",
    "gpuNum": 0,
    "hideHardwareSpecs": false,
    "memoryGiB": 8,
    "name": "ml.m5.large",
    "vcpuNum": 2
   },
   {
    "_defaultOrder": 5,
    "_isFastLaunch": false,
    "category": "General purpose",
    "gpuNum": 0,
    "hideHardwareSpecs": false,
    "memoryGiB": 16,
    "name": "ml.m5.xlarge",
    "vcpuNum": 4
   },
   {
    "_defaultOrder": 6,
    "_isFastLaunch": false,
    "category": "General purpose",
    "gpuNum": 0,
    "hideHardwareSpecs": false,
    "memoryGiB": 32,
    "name": "ml.m5.2xlarge",
    "vcpuNum": 8
   },
   {
    "_defaultOrder": 7,
    "_isFastLaunch": false,
    "category": "General purpose",
    "gpuNum": 0,
    "hideHardwareSpecs": false,
    "memoryGiB": 64,
    "name": "ml.m5.4xlarge",
    "vcpuNum": 16
   },
   {
    "_defaultOrder": 8,
    "_isFastLaunch": false,
    "category": "General purpose",
    "gpuNum": 0,
    "hideHardwareSpecs": false,
    "memoryGiB": 128,
    "name": "ml.m5.8xlarge",
    "vcpuNum": 32
   },
   {
    "_defaultOrder": 9,
    "_isFastLaunch": false,
    "category": "General purpose",
    "gpuNum": 0,
    "hideHardwareSpecs": false,
    "memoryGiB": 192,
    "name": "ml.m5.12xlarge",
    "vcpuNum": 48
   },
   {
    "_defaultOrder": 10,
    "_isFastLaunch": false,
    "category": "General purpose",
    "gpuNum": 0,
    "hideHardwareSpecs": false,
    "memoryGiB": 256,
    "name": "ml.m5.16xlarge",
    "vcpuNum": 64
   },
   {
    "_defaultOrder": 11,
    "_isFastLaunch": false,
    "category": "General purpose",
    "gpuNum": 0,
    "hideHardwareSpecs": false,
    "memoryGiB": 384,
    "name": "ml.m5.24xlarge",
    "vcpuNum": 96
   },
   {
    "_defaultOrder": 12,
    "_isFastLaunch": false,
    "category": "General purpose",
    "gpuNum": 0,
    "hideHardwareSpecs": false,
    "memoryGiB": 8,
    "name": "ml.m5d.large",
    "vcpuNum": 2
   },
   {
    "_defaultOrder": 13,
    "_isFastLaunch": false,
    "category": "General purpose",
    "gpuNum": 0,
    "hideHardwareSpecs": false,
    "memoryGiB": 16,
    "name": "ml.m5d.xlarge",
    "vcpuNum": 4
   },
   {
    "_defaultOrder": 14,
    "_isFastLaunch": false,
    "category": "General purpose",
    "gpuNum": 0,
    "hideHardwareSpecs": false,
    "memoryGiB": 32,
    "name": "ml.m5d.2xlarge",
    "vcpuNum": 8
   },
   {
    "_defaultOrder": 15,
    "_isFastLaunch": false,
    "category": "General purpose",
    "gpuNum": 0,
    "hideHardwareSpecs": false,
    "memoryGiB": 64,
    "name": "ml.m5d.4xlarge",
    "vcpuNum": 16
   },
   {
    "_defaultOrder": 16,
    "_isFastLaunch": false,
    "category": "General purpose",
    "gpuNum": 0,
    "hideHardwareSpecs": false,
    "memoryGiB": 128,
    "name": "ml.m5d.8xlarge",
    "vcpuNum": 32
   },
   {
    "_defaultOrder": 17,
    "_isFastLaunch": false,
    "category": "General purpose",
    "gpuNum": 0,
    "hideHardwareSpecs": false,
    "memoryGiB": 192,
    "name": "ml.m5d.12xlarge",
    "vcpuNum": 48
   },
   {
    "_defaultOrder": 18,
    "_isFastLaunch": false,
    "category": "General purpose",
    "gpuNum": 0,
    "hideHardwareSpecs": false,
    "memoryGiB": 256,
    "name": "ml.m5d.16xlarge",
    "vcpuNum": 64
   },
   {
    "_defaultOrder": 19,
    "_isFastLaunch": false,
    "category": "General purpose",
    "gpuNum": 0,
    "hideHardwareSpecs": false,
    "memoryGiB": 384,
    "name": "ml.m5d.24xlarge",
    "vcpuNum": 96
   },
   {
    "_defaultOrder": 20,
    "_isFastLaunch": false,
    "category": "General purpose",
    "gpuNum": 0,
    "hideHardwareSpecs": true,
    "memoryGiB": 0,
    "name": "ml.geospatial.interactive",
    "supportedImageNames": [
     "sagemaker-geospatial-v1-0"
    ],
    "vcpuNum": 0
   },
   {
    "_defaultOrder": 21,
    "_isFastLaunch": true,
    "category": "Compute optimized",
    "gpuNum": 0,
    "hideHardwareSpecs": false,
    "memoryGiB": 4,
    "name": "ml.c5.large",
    "vcpuNum": 2
   },
   {
    "_defaultOrder": 22,
    "_isFastLaunch": false,
    "category": "Compute optimized",
    "gpuNum": 0,
    "hideHardwareSpecs": false,
    "memoryGiB": 8,
    "name": "ml.c5.xlarge",
    "vcpuNum": 4
   },
   {
    "_defaultOrder": 23,
    "_isFastLaunch": false,
    "category": "Compute optimized",
    "gpuNum": 0,
    "hideHardwareSpecs": false,
    "memoryGiB": 16,
    "name": "ml.c5.2xlarge",
    "vcpuNum": 8
   },
   {
    "_defaultOrder": 24,
    "_isFastLaunch": false,
    "category": "Compute optimized",
    "gpuNum": 0,
    "hideHardwareSpecs": false,
    "memoryGiB": 32,
    "name": "ml.c5.4xlarge",
    "vcpuNum": 16
   },
   {
    "_defaultOrder": 25,
    "_isFastLaunch": false,
    "category": "Compute optimized",
    "gpuNum": 0,
    "hideHardwareSpecs": false,
    "memoryGiB": 72,
    "name": "ml.c5.9xlarge",
    "vcpuNum": 36
   },
   {
    "_defaultOrder": 26,
    "_isFastLaunch": false,
    "category": "Compute optimized",
    "gpuNum": 0,
    "hideHardwareSpecs": false,
    "memoryGiB": 96,
    "name": "ml.c5.12xlarge",
    "vcpuNum": 48
   },
   {
    "_defaultOrder": 27,
    "_isFastLaunch": false,
    "category": "Compute optimized",
    "gpuNum": 0,
    "hideHardwareSpecs": false,
    "memoryGiB": 144,
    "name": "ml.c5.18xlarge",
    "vcpuNum": 72
   },
   {
    "_defaultOrder": 28,
    "_isFastLaunch": false,
    "category": "Compute optimized",
    "gpuNum": 0,
    "hideHardwareSpecs": false,
    "memoryGiB": 192,
    "name": "ml.c5.24xlarge",
    "vcpuNum": 96
   },
   {
    "_defaultOrder": 29,
    "_isFastLaunch": true,
    "category": "Accelerated computing",
    "gpuNum": 1,
    "hideHardwareSpecs": false,
    "memoryGiB": 16,
    "name": "ml.g4dn.xlarge",
    "vcpuNum": 4
   },
   {
    "_defaultOrder": 30,
    "_isFastLaunch": false,
    "category": "Accelerated computing",
    "gpuNum": 1,
    "hideHardwareSpecs": false,
    "memoryGiB": 32,
    "name": "ml.g4dn.2xlarge",
    "vcpuNum": 8
   },
   {
    "_defaultOrder": 31,
    "_isFastLaunch": false,
    "category": "Accelerated computing",
    "gpuNum": 1,
    "hideHardwareSpecs": false,
    "memoryGiB": 64,
    "name": "ml.g4dn.4xlarge",
    "vcpuNum": 16
   },
   {
    "_defaultOrder": 32,
    "_isFastLaunch": false,
    "category": "Accelerated computing",
    "gpuNum": 1,
    "hideHardwareSpecs": false,
    "memoryGiB": 128,
    "name": "ml.g4dn.8xlarge",
    "vcpuNum": 32
   },
   {
    "_defaultOrder": 33,
    "_isFastLaunch": false,
    "category": "Accelerated computing",
    "gpuNum": 4,
    "hideHardwareSpecs": false,
    "memoryGiB": 192,
    "name": "ml.g4dn.12xlarge",
    "vcpuNum": 48
   },
   {
    "_defaultOrder": 34,
    "_isFastLaunch": false,
    "category": "Accelerated computing",
    "gpuNum": 1,
    "hideHardwareSpecs": false,
    "memoryGiB": 256,
    "name": "ml.g4dn.16xlarge",
    "vcpuNum": 64
   },
   {
    "_defaultOrder": 35,
    "_isFastLaunch": false,
    "category": "Accelerated computing",
    "gpuNum": 1,
    "hideHardwareSpecs": false,
    "memoryGiB": 61,
    "name": "ml.p3.2xlarge",
    "vcpuNum": 8
   },
   {
    "_defaultOrder": 36,
    "_isFastLaunch": false,
    "category": "Accelerated computing",
    "gpuNum": 4,
    "hideHardwareSpecs": false,
    "memoryGiB": 244,
    "name": "ml.p3.8xlarge",
    "vcpuNum": 32
   },
   {
    "_defaultOrder": 37,
    "_isFastLaunch": false,
    "category": "Accelerated computing",
    "gpuNum": 8,
    "hideHardwareSpecs": false,
    "memoryGiB": 488,
    "name": "ml.p3.16xlarge",
    "vcpuNum": 64
   },
   {
    "_defaultOrder": 38,
    "_isFastLaunch": false,
    "category": "Accelerated computing",
    "gpuNum": 8,
    "hideHardwareSpecs": false,
    "memoryGiB": 768,
    "name": "ml.p3dn.24xlarge",
    "vcpuNum": 96
   },
   {
    "_defaultOrder": 39,
    "_isFastLaunch": false,
    "category": "Memory Optimized",
    "gpuNum": 0,
    "hideHardwareSpecs": false,
    "memoryGiB": 16,
    "name": "ml.r5.large",
    "vcpuNum": 2
   },
   {
    "_defaultOrder": 40,
    "_isFastLaunch": false,
    "category": "Memory Optimized",
    "gpuNum": 0,
    "hideHardwareSpecs": false,
    "memoryGiB": 32,
    "name": "ml.r5.xlarge",
    "vcpuNum": 4
   },
   {
    "_defaultOrder": 41,
    "_isFastLaunch": false,
    "category": "Memory Optimized",
    "gpuNum": 0,
    "hideHardwareSpecs": false,
    "memoryGiB": 64,
    "name": "ml.r5.2xlarge",
    "vcpuNum": 8
   },
   {
    "_defaultOrder": 42,
    "_isFastLaunch": false,
    "category": "Memory Optimized",
    "gpuNum": 0,
    "hideHardwareSpecs": false,
    "memoryGiB": 128,
    "name": "ml.r5.4xlarge",
    "vcpuNum": 16
   },
   {
    "_defaultOrder": 43,
    "_isFastLaunch": false,
    "category": "Memory Optimized",
    "gpuNum": 0,
    "hideHardwareSpecs": false,
    "memoryGiB": 256,
    "name": "ml.r5.8xlarge",
    "vcpuNum": 32
   },
   {
    "_defaultOrder": 44,
    "_isFastLaunch": false,
    "category": "Memory Optimized",
    "gpuNum": 0,
    "hideHardwareSpecs": false,
    "memoryGiB": 384,
    "name": "ml.r5.12xlarge",
    "vcpuNum": 48
   },
   {
    "_defaultOrder": 45,
    "_isFastLaunch": false,
    "category": "Memory Optimized",
    "gpuNum": 0,
    "hideHardwareSpecs": false,
    "memoryGiB": 512,
    "name": "ml.r5.16xlarge",
    "vcpuNum": 64
   },
   {
    "_defaultOrder": 46,
    "_isFastLaunch": false,
    "category": "Memory Optimized",
    "gpuNum": 0,
    "hideHardwareSpecs": false,
    "memoryGiB": 768,
    "name": "ml.r5.24xlarge",
    "vcpuNum": 96
   },
   {
    "_defaultOrder": 47,
    "_isFastLaunch": false,
    "category": "Accelerated computing",
    "gpuNum": 1,
    "hideHardwareSpecs": false,
    "memoryGiB": 16,
    "name": "ml.g5.xlarge",
    "vcpuNum": 4
   },
   {
    "_defaultOrder": 48,
    "_isFastLaunch": false,
    "category": "Accelerated computing",
    "gpuNum": 1,
    "hideHardwareSpecs": false,
    "memoryGiB": 32,
    "name": "ml.g5.2xlarge",
    "vcpuNum": 8
   },
   {
    "_defaultOrder": 49,
    "_isFastLaunch": false,
    "category": "Accelerated computing",
    "gpuNum": 1,
    "hideHardwareSpecs": false,
    "memoryGiB": 64,
    "name": "ml.g5.4xlarge",
    "vcpuNum": 16
   },
   {
    "_defaultOrder": 50,
    "_isFastLaunch": false,
    "category": "Accelerated computing",
    "gpuNum": 1,
    "hideHardwareSpecs": false,
    "memoryGiB": 128,
    "name": "ml.g5.8xlarge",
    "vcpuNum": 32
   },
   {
    "_defaultOrder": 51,
    "_isFastLaunch": false,
    "category": "Accelerated computing",
    "gpuNum": 1,
    "hideHardwareSpecs": false,
    "memoryGiB": 256,
    "name": "ml.g5.16xlarge",
    "vcpuNum": 64
   },
   {
    "_defaultOrder": 52,
    "_isFastLaunch": false,
    "category": "Accelerated computing",
    "gpuNum": 4,
    "hideHardwareSpecs": false,
    "memoryGiB": 192,
    "name": "ml.g5.12xlarge",
    "vcpuNum": 48
   },
   {
    "_defaultOrder": 53,
    "_isFastLaunch": false,
    "category": "Accelerated computing",
    "gpuNum": 4,
    "hideHardwareSpecs": false,
    "memoryGiB": 384,
    "name": "ml.g5.24xlarge",
    "vcpuNum": 96
   },
   {
    "_defaultOrder": 54,
    "_isFastLaunch": false,
    "category": "Accelerated computing",
    "gpuNum": 8,
    "hideHardwareSpecs": false,
    "memoryGiB": 768,
    "name": "ml.g5.48xlarge",
    "vcpuNum": 192
   },
   {
    "_defaultOrder": 55,
    "_isFastLaunch": false,
    "category": "Accelerated computing",
    "gpuNum": 8,
    "hideHardwareSpecs": false,
    "memoryGiB": 1152,
    "name": "ml.p4d.24xlarge",
    "vcpuNum": 96
   },
   {
    "_defaultOrder": 56,
    "_isFastLaunch": false,
    "category": "Accelerated computing",
    "gpuNum": 8,
    "hideHardwareSpecs": false,
    "memoryGiB": 1152,
    "name": "ml.p4de.24xlarge",
    "vcpuNum": 96
   },
   {
    "_defaultOrder": 57,
    "_isFastLaunch": false,
    "category": "Accelerated computing",
    "gpuNum": 0,
    "hideHardwareSpecs": false,
    "memoryGiB": 32,
    "name": "ml.trn1.2xlarge",
    "vcpuNum": 8
   },
   {
    "_defaultOrder": 58,
    "_isFastLaunch": false,
    "category": "Accelerated computing",
    "gpuNum": 0,
    "hideHardwareSpecs": false,
    "memoryGiB": 512,
    "name": "ml.trn1.32xlarge",
    "vcpuNum": 128
   },
   {
    "_defaultOrder": 59,
    "_isFastLaunch": false,
    "category": "Accelerated computing",
    "gpuNum": 0,
    "hideHardwareSpecs": false,
    "memoryGiB": 512,
    "name": "ml.trn1n.32xlarge",
    "vcpuNum": 128
   }
  ],
  "instance_type": "ml.t3.medium",
  "kernelspec": {
   "display_name": "Python 3 (Data Science 3.0)",
   "language": "python",
   "name": "python3__SAGEMAKER_INTERNAL__arn:aws:sagemaker:us-east-1:081325390199:image/sagemaker-data-science-310-v1"
  },
  "language_info": {
   "codemirror_mode": {
    "name": "ipython",
    "version": 3
   },
   "file_extension": ".py",
   "mimetype": "text/x-python",
   "name": "python",
   "nbconvert_exporter": "python",
   "pygments_lexer": "ipython3",
   "version": "3.10.6"
  }
 },
 "nbformat": 4,
 "nbformat_minor": 5
}
