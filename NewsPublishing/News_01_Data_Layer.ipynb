{
 "cells": [
  {
   "cell_type": "markdown",
   "id": "6cb655a6-0782-4b38-8302-82b0075ad2c0",
   "metadata": {},
   "source": [
    "# Welcome to the UnicornPost <a class=\"anchor\" id=\"top\"></a>\n",
    "\n",
    "Congratulations! You have just been hired by UnicornPost, a publisher of news stories that captivate people the world over! Currently, most of your site does not provide a personalized experience, the stories are presented in a static order for all users in a manner controlled by the editorial team. In order to increase page views you are looking to incorporate a recommendation system which assists users in finding the stories they feel are the most intresting and informative.\n",
    "\n",
    "You’ve been asked by the founders to:\n",
    "\n",
    "- Provide personalized story recommendation to vistors of your site\n",
    "- Filter news articles by genre for the relevant parts of the site\n",
    "- Emphasize newly written articles for certain sections of the site\n",
    "\n",
    "Throughout the course of this workshop you will be exploring your datasets, building/training several recommendation models and implementing recommendations with API's.\n",
    "\n",
    "<div class=\"alert alert-block alert-warning\">\n",
    "<b>Note:</b> importing and training the datasets will take longer than we have in this workshop. In order to complete this workshop within the time set, we have already created several resources on your behalf.  However, the notebooks are designed in such a way that all the steps are included. If the resources have already been created, the cell will return information about the resources, if the resources have not been created, it will create them for you. \n",
    "</div>\n",
    "\n",
    "\n",
    "## In this notebook\n",
    "In this notebook, you will choose a dataset and prepare it for use with Amazon Personalize.\n",
    "\n",
    "1. [How to Use the Notebook](#usenotebook)\n",
    "1. [Introduction to Amazon Personalize Datasets](#datasets)\n",
    "1. [Choose a Dataset or Data Source](#source)\n",
    "1. [Configure an S3 bucket and an IAM role](#bucket_role)\n",
    "1. [Create dataset group](#group_dataset)\n",
    "1. [Create the Item Interactions Schema](#interact_schema)\n",
    "1. [Create the Items Schema](#items_schema)\n",
    "1. [Create the Users Schema](#users_schema)\n",
    "1. [Import the Item Interactions Data](#import_interactions)\n",
    "1. [Import the Items Metadata](#import_items)\n",
    "1. [Import the User Metadata](#import_users)\n",
    "1. [Storing Useful Variables](#vars)\n",
    "\n",
    "## How to Use the Notebook <a class=\"anchor\" id=\"usenotebook\"></a>\n",
    "\n",
    "### Executing cells\n",
    "\n",
    "The code is broken up into cells like the one below. There's a triangular **Run** button at the top of this page that you can click to execute each cell and move onto the next, or you can press `Shift` + `Enter` while in the cell to execute it and move onto the next one.\n",
    "\n",
    "As a cell is executing, you'll notice an `*` in the checkbox beside the cell. When the cell has finished running, the checkbox will contain a number to indicate the order the cell was executed in with respect to all the other cells in the notebook.\n",
    "\n",
    "Simply follow the instructions below and execute the cells to get started with Amazon Personalize.\n",
    "\n",
    "### Understanding the code\n",
    "\n",
    "This notebook can be used in two modalities:\n",
    "\n",
    "1. Train as you go by executing each cell. Some cells may take a long time to finish executing as they wait for resources to be created.\n",
    "2. Use this notebook with previously created resources. All or the majority of the resources will already be created, and cells will just retrieve the information of these existing resources to use them in following steps.\n",
    "\n",
    "Because of this, you will find that some cells have `try` and `except` blocks. In particular, most of them are handling a `ResourceAlreadyExistsException` exception. \n",
    "\n",
    "You can look at the code in the `try` block to get a good idea of how you can create a resource and understand how to use the Amazon Personalize SDK. The `except` block will let you know that the resource has been created and record the corresponding ARN, which is the Amazon unique identifier.\n",
    "\n",
    "This is an example of the `try` block for creating a dataset group, this code will execute without exceptions if the dataset group does not exist and raise an exception if the dataset group does already exist:\n",
    "\n",
    "```python\n",
    "try:     \n",
    "    # Try to create the dataset group, this block with exectute fully if the dataset group does not exist yet\n",
    "    \n",
    "    create_dataset_group_response = personalize.create_dataset_group(\n",
    "        name = workshop_dataset_group_name,\n",
    "    )\n",
    "    workshop_dataset_group_arn = create_dataset_group_response['datasetGroupArn']\n",
    "    print(json.dumps(create_dataset_group_response, indent=2))\n",
    "    print ('\\nCreating the Dataset Group with dataset_group_arn = {}'.format(workshop_dataset_group_arn))\n",
    "```\n",
    "and this is the corresponding `except` block that will be executed if an exception is raised because the dataset group already exists. This block saves the ARN for the existing dataset group to use later and lets you know the resource already exists.\n",
    "\n",
    "```python\n",
    "except personalize.exceptions.ResourceAlreadyExistsException as e:\n",
    "    workshop_dataset_group_arn = 'arn:aws:personalize:'+region+':'+account_id+':dataset group/' + \n",
    "        workshop_dataset_group_name \n",
    "    print ('\\nThe the Dataset Group with dataset_group_arn = {} already exists'.format(\n",
    "        workshop_dataset_group_arn))\n",
    "    print ('\\nWe will be using the existing Dataset Group dataset_group_arn = {}'.format(\n",
    "        workshop_dataset_group_arn))\n",
    "```\n",
    "\n",
    "Depending on the resource, you may also find that sometimes the code will check from a list of resources to find if a resource exists and then use `if` and `else` blocks to either use the existing resource or create it."
   ]
  },
  {
   "cell_type": "markdown",
   "id": "f41b37b0-99c6-4989-afec-4544f9631c36",
   "metadata": {},
   "source": [
    "### Let's build!\n",
    "\n",
    "Python ships with a broad collection of libraries and we need to import those as well as the ones installed to help us like [boto3](https://aws.amazon.com/sdk-for-python/) (AWS SDK for python) and [Pandas](https://pandas.pydata.org/)/[Numpy](https://numpy.org/)  which are core data science tools."
   ]
  },
  {
   "cell_type": "code",
   "execution_count": 57,
   "id": "1c8f8606-d4f8-4d99-b53f-1b3c16597afb",
   "metadata": {
    "tags": []
   },
   "outputs": [
    {
     "name": "stdout",
     "output_type": "stream",
     "text": [
      "Requirement already satisfied: pip in /home/ec2-user/anaconda3/envs/tensorflow2_p310/lib/python3.10/site-packages (24.1.2)\n",
      "Collecting botocore\n",
      "  Using cached botocore-1.34.145-py3-none-any.whl.metadata (5.7 kB)\n",
      "Using cached botocore-1.34.145-py3-none-any.whl (12.4 MB)\n",
      "Installing collected packages: botocore\n",
      "  Attempting uninstall: botocore\n",
      "    Found existing installation: botocore 1.34.145\n",
      "    Uninstalling botocore-1.34.145:\n",
      "      Successfully uninstalled botocore-1.34.145\n",
      "Successfully installed botocore-1.34.145\n",
      "Requirement already satisfied: lxml in /home/ec2-user/anaconda3/envs/tensorflow2_p310/lib/python3.10/site-packages (5.2.2)\n",
      "mkdir: cannot create directory ‘poc_data’: File exists\n"
     ]
    }
   ],
   "source": [
    "!pip install --upgrade pip\n",
    "!pip install --upgrade --no-deps --force-reinstall botocore\n",
    "!pip install lxml\n",
    "\n",
    "\n",
    "import pandas as pd\n",
    "import json\n",
    "from datetime import datetime\n",
    "from lxml import html\n",
    "from bs4 import BeautifulSoup, MarkupResemblesLocatorWarning\n",
    "import re\n",
    "import warnings\n",
    "import csv\n",
    "import sys\n",
    "import os.path\n",
    "import boto3\n",
    "import json\n",
    "import seaborn as sns\n",
    "import matplotlib.pyplot as plt\n",
    "import time\n",
    "from time import sleep\n",
    "import yaml\n",
    "import numpy as np\n",
    "\n",
    "data_dir = \"poc_data\"\n",
    "!mkdir $data_dir"
   ]
  },
  {
   "cell_type": "code",
   "execution_count": 58,
   "id": "cd129c44-0169-4bc7-83b9-dcbe992397aa",
   "metadata": {
    "tags": []
   },
   "outputs": [],
   "source": [
    "# Configure the SDK to Personalize:\n",
    "personalize = boto3.client('personalize')\n",
    "personalize_runtime = boto3.client('personalize-runtime')"
   ]
  },
  {
   "cell_type": "code",
   "execution_count": 59,
   "id": "358045bf-d3cc-4e0a-9714-647316720f60",
   "metadata": {
    "tags": []
   },
   "outputs": [
    {
     "name": "stdout",
     "output_type": "stream",
     "text": [
      "account id: 381491864570\n",
      "region: us-east-1\n"
     ]
    }
   ],
   "source": [
    "# Get the account id and region to use later\n",
    "account_id = boto3.client('sts').get_caller_identity().get('Account')\n",
    "print(\"account id:\", account_id)\n",
    "\n",
    "with open('/opt/ml/metadata/resource-metadata.json') as notebook_info:\n",
    "    data = json.load(notebook_info)\n",
    "    resource_arn = data['ResourceArn']\n",
    "    region = resource_arn.split(':')[3]\n",
    "print(\"region:\", region)"
   ]
  },
  {
   "cell_type": "markdown",
   "id": "893c0375-77a4-48df-88ec-7f1150d3107d",
   "metadata": {},
   "source": [
    "If this is a workshop and the resources were created for you, we will retrieve the variables of the resources created."
   ]
  },
  {
   "cell_type": "code",
   "execution_count": 60,
   "id": "e9263017-0ba0-465f-b766-056d6eb376d4",
   "metadata": {
    "tags": []
   },
   "outputs": [],
   "source": [
    "# Opening JSON files\n",
    "f = open(\"params.json\")\n",
    "parameters = json.load(f)"
   ]
  },
  {
   "cell_type": "code",
   "execution_count": 61,
   "id": "89d65a95-67d1-4538-b847-5d3c3be8facd",
   "metadata": {
    "tags": []
   },
   "outputs": [],
   "source": [
    "workshop_dataset_group_name = parameters['datasetGroup']['serviceConfig']['name']\n",
    "\n",
    "interactions_schema_name = parameters['datasets']['interactions']['schema']['serviceConfig']['name']\n",
    "interactions_dataset_name = parameters['datasets']['interactions']['dataset']['serviceConfig']['name']\n",
    "\n",
    "items_schema_name = parameters['datasets']['items']['schema']['serviceConfig']['name']\n",
    "items_dataset_name = parameters['datasets']['items']['dataset']['serviceConfig']['name']\n",
    "\n",
    "#The following job names are the starting Strings of the job names that can be created\n",
    "interactions_import_job_name = 'dataset_import_interaction'\n",
    "items_import_job_name = 'dataset_import_item'\n",
    "        \n",
    "for solution in parameters['solutions']:\n",
    "    # This is currently configured assuming only one solution of this type, if there are multiple \n",
    "    # solutions of the same type further configuration is needed.\n",
    "    if (solution['serviceConfig']['recipeArn'] == 'arn:aws:personalize:::recipe/aws-personalized-ranking'):\n",
    "        workshop_rerank_solution_name = solution['serviceConfig']['name'] \n",
    "        # This is currently configured assuming only one campaign, if there are multiple campaigns \n",
    "        # further configuration is needed.\n",
    "        workshop_rerank_campaign_name = solution['campaigns'][0]['serviceConfig']['name']\n",
    "        \n",
    "        \n",
    "    if (solution['serviceConfig']['recipeArn'] == 'arn:aws:personalize:::recipe/aws-user-personalization'):\n",
    "        workshop_userpersonalization_solution_name = solution['serviceConfig']['name'] \n",
    "        # This is currently configured assuming only one campaign, if there are multiple campaigns \n",
    "        # further configuration is needed.\n",
    "        workshop_userpersonalization_campaign_name = solution['campaigns'][0]['serviceConfig']['name'] "
   ]
  },
  {
   "cell_type": "markdown",
   "id": "1b254412-e8d4-4eb3-83c0-5249198610cb",
   "metadata": {},
   "source": [
    "we will make sure we can use the SDK to interact with Amazon Personalize by describing some of the pre-created resources used in the workshop. \n",
    "\n",
    "<div class=\"alert alert-block alert-warning\">\n",
    "<b>Note:</b> If you have not pre-deployed resources and are building them as you go with this notebook, the below cell will raise an exception. You can continue with the notebook and create resources and train models as you go.\n",
    "</div>\n",
    "\n",
    "If you have not pre-deployed resources and are building them as you go with this notebook, the below cell will raise an exception. You can continue with the notebook and create resources and train models as you go."
   ]
  },
  {
   "cell_type": "code",
   "execution_count": 62,
   "id": "3b21604f-6885-4b67-b7ee-48c9ca7a95d1",
   "metadata": {
    "tags": []
   },
   "outputs": [
    {
     "name": "stdout",
     "output_type": "stream",
     "text": [
      "SDK check FAILED. Proceed to the next cell if you will be uploading data and training models as you go.\n"
     ]
    },
    {
     "ename": "ResourceNotFoundException",
     "evalue": "An error occurred (ResourceNotFoundException) when calling the DescribeSolution operation: The given solution does not exist: arn:aws:personalize:us-east-1:381491864570:solution/immersion_day_personalized_ranking_news",
     "output_type": "error",
     "traceback": [
      "\u001b[0;31m---------------------------------------------------------------------------\u001b[0m",
      "\u001b[0;31mResourceNotFoundException\u001b[0m                 Traceback (most recent call last)",
      "Cell \u001b[0;32mIn[62], line 4\u001b[0m\n\u001b[1;32m      1\u001b[0m \u001b[38;5;28;01mtry\u001b[39;00m:\n\u001b[1;32m      2\u001b[0m     \u001b[38;5;66;03m# Describe a few resources using the SDK\u001b[39;00m\n\u001b[1;32m      3\u001b[0m     workshop_rerank_solution_arn \u001b[38;5;241m=\u001b[39m \u001b[38;5;124m'\u001b[39m\u001b[38;5;124marn:aws:personalize:\u001b[39m\u001b[38;5;124m'\u001b[39m\u001b[38;5;241m+\u001b[39mregion\u001b[38;5;241m+\u001b[39m\u001b[38;5;124m'\u001b[39m\u001b[38;5;124m:\u001b[39m\u001b[38;5;124m'\u001b[39m\u001b[38;5;241m+\u001b[39maccount_id\u001b[38;5;241m+\u001b[39m\u001b[38;5;124m'\u001b[39m\u001b[38;5;124m:solution/\u001b[39m\u001b[38;5;124m'\u001b[39m\u001b[38;5;241m+\u001b[39mworkshop_rerank_solution_name\n\u001b[0;32m----> 4\u001b[0m     describe_response \u001b[38;5;241m=\u001b[39m \u001b[43mpersonalize\u001b[49m\u001b[38;5;241;43m.\u001b[39;49m\u001b[43mdescribe_solution\u001b[49m\u001b[43m(\u001b[49m\u001b[43msolutionArn\u001b[49m\u001b[43m \u001b[49m\u001b[38;5;241;43m=\u001b[39;49m\u001b[43m \u001b[49m\u001b[43mworkshop_rerank_solution_arn\u001b[49m\u001b[43m)\u001b[49m\n\u001b[1;32m      5\u001b[0m     \u001b[38;5;28mprint\u001b[39m(\u001b[38;5;124m\"\u001b[39m\u001b[38;5;124mSDK and resource check SUCCEEDED!\u001b[39m\u001b[38;5;124m\"\u001b[39m)\n\u001b[1;32m      6\u001b[0m \u001b[38;5;28;01mexcept\u001b[39;00m:\n",
      "File \u001b[0;32m~/anaconda3/envs/tensorflow2_p310/lib/python3.10/site-packages/botocore/client.py:565\u001b[0m, in \u001b[0;36mClientCreator._create_api_method.<locals>._api_call\u001b[0;34m(self, *args, **kwargs)\u001b[0m\n\u001b[1;32m    561\u001b[0m     \u001b[38;5;28;01mraise\u001b[39;00m \u001b[38;5;167;01mTypeError\u001b[39;00m(\n\u001b[1;32m    562\u001b[0m         \u001b[38;5;124mf\u001b[39m\u001b[38;5;124m\"\u001b[39m\u001b[38;5;132;01m{\u001b[39;00mpy_operation_name\u001b[38;5;132;01m}\u001b[39;00m\u001b[38;5;124m() only accepts keyword arguments.\u001b[39m\u001b[38;5;124m\"\u001b[39m\n\u001b[1;32m    563\u001b[0m     )\n\u001b[1;32m    564\u001b[0m \u001b[38;5;66;03m# The \"self\" in this scope is referring to the BaseClient.\u001b[39;00m\n\u001b[0;32m--> 565\u001b[0m \u001b[38;5;28;01mreturn\u001b[39;00m \u001b[38;5;28;43mself\u001b[39;49m\u001b[38;5;241;43m.\u001b[39;49m\u001b[43m_make_api_call\u001b[49m\u001b[43m(\u001b[49m\u001b[43moperation_name\u001b[49m\u001b[43m,\u001b[49m\u001b[43m \u001b[49m\u001b[43mkwargs\u001b[49m\u001b[43m)\u001b[49m\n",
      "File \u001b[0;32m~/anaconda3/envs/tensorflow2_p310/lib/python3.10/site-packages/botocore/client.py:1021\u001b[0m, in \u001b[0;36mBaseClient._make_api_call\u001b[0;34m(self, operation_name, api_params)\u001b[0m\n\u001b[1;32m   1017\u001b[0m     error_code \u001b[38;5;241m=\u001b[39m error_info\u001b[38;5;241m.\u001b[39mget(\u001b[38;5;124m\"\u001b[39m\u001b[38;5;124mQueryErrorCode\u001b[39m\u001b[38;5;124m\"\u001b[39m) \u001b[38;5;129;01mor\u001b[39;00m error_info\u001b[38;5;241m.\u001b[39mget(\n\u001b[1;32m   1018\u001b[0m         \u001b[38;5;124m\"\u001b[39m\u001b[38;5;124mCode\u001b[39m\u001b[38;5;124m\"\u001b[39m\n\u001b[1;32m   1019\u001b[0m     )\n\u001b[1;32m   1020\u001b[0m     error_class \u001b[38;5;241m=\u001b[39m \u001b[38;5;28mself\u001b[39m\u001b[38;5;241m.\u001b[39mexceptions\u001b[38;5;241m.\u001b[39mfrom_code(error_code)\n\u001b[0;32m-> 1021\u001b[0m     \u001b[38;5;28;01mraise\u001b[39;00m error_class(parsed_response, operation_name)\n\u001b[1;32m   1022\u001b[0m \u001b[38;5;28;01melse\u001b[39;00m:\n\u001b[1;32m   1023\u001b[0m     \u001b[38;5;28;01mreturn\u001b[39;00m parsed_response\n",
      "\u001b[0;31mResourceNotFoundException\u001b[0m: An error occurred (ResourceNotFoundException) when calling the DescribeSolution operation: The given solution does not exist: arn:aws:personalize:us-east-1:381491864570:solution/immersion_day_personalized_ranking_news"
     ]
    }
   ],
   "source": [
    "try:\n",
    "    # Describe a few resources using the SDK\n",
    "    workshop_rerank_solution_arn = 'arn:aws:personalize:'+region+':'+account_id+':solution/'+workshop_rerank_solution_name\n",
    "    describe_response = personalize.describe_solution(solutionArn = workshop_rerank_solution_arn)\n",
    "    print(\"SDK and resource check SUCCEEDED!\")\n",
    "except:\n",
    "    print(\"SDK check FAILED. Proceed to the next cell if you will be uploading data and training models as you go.\")\n",
    "    raise"
   ]
  },
  {
   "cell_type": "markdown",
   "id": "159469de-5552-4d37-954b-dacfc3b80aa1",
   "metadata": {
    "tags": []
   },
   "source": [
    "## Introduction to Amazon Personalize Datasets <a class=\"anchor\" id=\"datasets\"></a>\n",
    "[Back to top](#top)\n",
    "\n",
    "[Amazon Personalize](https://aws.amazon.com/personalize/) is a fully managed machine learning service that uses your data to generate item recommendations for your users. It can also generate user segments based on users’ affinity for certain items or item metadata.\n",
    "\n",
    "Regardless of the use case, the algorithms all learn user-item-interaction data, which is defined by 3 core attributes:\n",
    "\n",
    "1. **UserID** - The user who interacted\n",
    "1. **ItemID** - The item the user interacted with\n",
    "1. **Timestamp** - The time at which the interaction occurred\n",
    "\n",
    "Very often, your data will not arrive in a perfect form for Amazon Personalize from other systems (such as a product catalog, Customer Relationship Management (CRM) System, ...) and you will have to modify it to be structured correctly. This notebook guides you through that process.\n",
    "\n",
    "### Items data\n",
    "\n",
    "The Item data consists of information about the articles that users interact with, this data typically comes from some sort of content management platform personalize can process one `textual` field which is recommended to be the article content or a summary of the article content if possible. This dataset can also contain information about the genre or section an article belongs in so that it can be filtered appropriately if needed\n",
    "\n",
    "### Item-Interactions data\n",
    "\n",
    "The item-interaction data consists of information about the interactions the readeers of the fictional news site will have with the articles published there. This usually comes from analytics tools or Customer Data Platform's (CDP). The best interaction data for use for Amazon Personalize would include the sequential order of user behavior, what content was clicked on/redand the order it was interacted with. We will be using the CI&T Deskdrop Dataset for both our items (in this case news articles) and our item interactions. Note for a typical news company you may want to filter out some of the interactions if they do not include a sufficient time on page or scroll depth in the article as personalize item-interactions should only respresent a positive interaction between the item and the user\n",
    "\n",
    "### User data\n",
    "\n",
    "The user data is what information you have about your users, it typically comes from Customer Relationship Management (CRM) system it is not required for amazon personalize recipies. In this case we will not be using user data.\n",
    "\n",
    "![Workflow](Images/01_Data_Layer_Resources.jpg)"
   ]
  },
  {
   "cell_type": "markdown",
   "id": "c68c3925-f64a-4dc2-a7e9-0604c87a816c",
   "metadata": {},
   "source": [
    "### Open and Explore the News Interactions Dataset\n",
    "\n",
    "For this example, we are using public dataset which contains interactions between users and news articles in an internal chat platform. This dataset was initially obtained from https://www.kaggle.com/datasets/gspmoreira/articles-sharing-reading-from-cit-deskdrop"
   ]
  },
  {
   "cell_type": "code",
   "execution_count": 64,
   "id": "c500cce5-bc19-488f-9a2d-310e20065437",
   "metadata": {
    "tags": []
   },
   "outputs": [
    {
     "data": {
      "text/html": [
       "<div>\n",
       "<style scoped>\n",
       "    .dataframe tbody tr th:only-of-type {\n",
       "        vertical-align: middle;\n",
       "    }\n",
       "\n",
       "    .dataframe tbody tr th {\n",
       "        vertical-align: top;\n",
       "    }\n",
       "\n",
       "    .dataframe thead th {\n",
       "        text-align: right;\n",
       "    }\n",
       "</style>\n",
       "<table border=\"1\" class=\"dataframe\">\n",
       "  <thead>\n",
       "    <tr style=\"text-align: right;\">\n",
       "      <th></th>\n",
       "      <th>timestamp</th>\n",
       "      <th>eventType</th>\n",
       "      <th>contentId</th>\n",
       "      <th>personId</th>\n",
       "      <th>sessionId</th>\n",
       "      <th>userAgent</th>\n",
       "      <th>userRegion</th>\n",
       "      <th>userCountry</th>\n",
       "    </tr>\n",
       "  </thead>\n",
       "  <tbody>\n",
       "    <tr>\n",
       "      <th>0</th>\n",
       "      <td>1465413032</td>\n",
       "      <td>VIEW</td>\n",
       "      <td>-3499919498720038879</td>\n",
       "      <td>-8845298781299428018</td>\n",
       "      <td>1264196770339959068</td>\n",
       "      <td>NaN</td>\n",
       "      <td>NaN</td>\n",
       "      <td>NaN</td>\n",
       "    </tr>\n",
       "    <tr>\n",
       "      <th>1</th>\n",
       "      <td>1465412560</td>\n",
       "      <td>VIEW</td>\n",
       "      <td>8890720798209849691</td>\n",
       "      <td>-1032019229384696495</td>\n",
       "      <td>3621737643587579081</td>\n",
       "      <td>Mozilla/5.0 (Macintosh; Intel Mac OS X 10_11_2...</td>\n",
       "      <td>NY</td>\n",
       "      <td>US</td>\n",
       "    </tr>\n",
       "    <tr>\n",
       "      <th>2</th>\n",
       "      <td>1465416190</td>\n",
       "      <td>VIEW</td>\n",
       "      <td>310515487419366995</td>\n",
       "      <td>-1130272294246983140</td>\n",
       "      <td>2631864456530402479</td>\n",
       "      <td>NaN</td>\n",
       "      <td>NaN</td>\n",
       "      <td>NaN</td>\n",
       "    </tr>\n",
       "    <tr>\n",
       "      <th>3</th>\n",
       "      <td>1465413895</td>\n",
       "      <td>FOLLOW</td>\n",
       "      <td>310515487419366995</td>\n",
       "      <td>344280948527967603</td>\n",
       "      <td>-3167637573980064150</td>\n",
       "      <td>NaN</td>\n",
       "      <td>NaN</td>\n",
       "      <td>NaN</td>\n",
       "    </tr>\n",
       "    <tr>\n",
       "      <th>4</th>\n",
       "      <td>1465412290</td>\n",
       "      <td>VIEW</td>\n",
       "      <td>-7820640624231356730</td>\n",
       "      <td>-445337111692715325</td>\n",
       "      <td>5611481178424124714</td>\n",
       "      <td>NaN</td>\n",
       "      <td>NaN</td>\n",
       "      <td>NaN</td>\n",
       "    </tr>\n",
       "  </tbody>\n",
       "</table>\n",
       "</div>"
      ],
      "text/plain": [
       "    timestamp eventType            contentId             personId  \\\n",
       "0  1465413032      VIEW -3499919498720038879 -8845298781299428018   \n",
       "1  1465412560      VIEW  8890720798209849691 -1032019229384696495   \n",
       "2  1465416190      VIEW   310515487419366995 -1130272294246983140   \n",
       "3  1465413895    FOLLOW   310515487419366995   344280948527967603   \n",
       "4  1465412290      VIEW -7820640624231356730  -445337111692715325   \n",
       "\n",
       "             sessionId                                          userAgent  \\\n",
       "0  1264196770339959068                                                NaN   \n",
       "1  3621737643587579081  Mozilla/5.0 (Macintosh; Intel Mac OS X 10_11_2...   \n",
       "2  2631864456530402479                                                NaN   \n",
       "3 -3167637573980064150                                                NaN   \n",
       "4  5611481178424124714                                                NaN   \n",
       "\n",
       "  userRegion userCountry  \n",
       "0        NaN         NaN  \n",
       "1         NY          US  \n",
       "2        NaN         NaN  \n",
       "3        NaN         NaN  \n",
       "4        NaN         NaN  "
      ]
     },
     "execution_count": 64,
     "metadata": {},
     "output_type": "execute_result"
    }
   ],
   "source": [
    "interaction_data = pd.read_csv(\"https://d2peeor3oplhc6.cloudfront.net/personalize-news-immersion-day/users_interactions.csv\")\n",
    "interaction_data.head(5)"
   ]
  },
  {
   "cell_type": "markdown",
   "id": "92f71bf4-52ef-4345-8743-fe936a7ad701",
   "metadata": {},
   "source": [
    "Amazon Personalize requires only three datafields in the interactions dataset.\n",
    "    \n",
    "1. `User_Id`: A unique identifier for an individual user\n",
    "1. `Item_Id`: A unique itendifier for the item the user in question chose to interact with\n",
    "1. `Timestamp`: The time of the interaction\n",
    "\n",
    "lets take a look at what we have"
   ]
  },
  {
   "cell_type": "code",
   "execution_count": 65,
   "id": "a25bc50b-5636-4910-9018-f27467fb46e6",
   "metadata": {
    "tags": []
   },
   "outputs": [
    {
     "data": {
      "text/plain": [
       "Index(['timestamp', 'eventType', 'contentId', 'personId', 'sessionId',\n",
       "       'userAgent', 'userRegion', 'userCountry'],\n",
       "      dtype='object')"
      ]
     },
     "execution_count": 65,
     "metadata": {},
     "output_type": "execute_result"
    }
   ],
   "source": [
    "interaction_data.columns"
   ]
  },
  {
   "cell_type": "markdown",
   "id": "e836ea87-044d-4533-b5ea-1b5608684383",
   "metadata": {},
   "source": [
    "In this case it appears we have all the data we need - we will just need to remap some of the column names such as `contentId` to `Item_Id` and `personId` to `User_Id`, personalize can process event types and even filter on them for training purposes though we will need to make a slight alteration to the column name there as well. Amazon Personalize can also use `sessionId` as well."
   ]
  },
  {
   "cell_type": "code",
   "execution_count": 66,
   "id": "8f8a57ad-f269-4244-95df-909ddf6f4e64",
   "metadata": {
    "tags": []
   },
   "outputs": [],
   "source": [
    "interaction_data.rename(columns={'contentId': 'item_id',\n",
    "                            'eventType': 'event_type',\n",
    "                            'personId': 'user_id',\n",
    "                            'sessionId': 'session_id'}, inplace=True)"
   ]
  },
  {
   "cell_type": "markdown",
   "id": "19b60d6c-b8aa-4460-84cb-9f5a6b6ea068",
   "metadata": {},
   "source": [
    "First lets check what unique field names we have in the eventType field:"
   ]
  },
  {
   "cell_type": "code",
   "execution_count": 67,
   "id": "57b22773-ce28-4254-86a0-8648afc52ca7",
   "metadata": {
    "tags": []
   },
   "outputs": [
    {
     "data": {
      "text/plain": [
       "VIEW               61086\n",
       "LIKE                5745\n",
       "BOOKMARK            2463\n",
       "COMMENT CREATED     1611\n",
       "FOLLOW              1407\n",
       "Name: event_type, dtype: int64"
      ]
     },
     "execution_count": 67,
     "metadata": {},
     "output_type": "execute_result"
    }
   ],
   "source": [
    "interaction_data.event_type.value_counts()"
   ]
  },
  {
   "cell_type": "markdown",
   "id": "efc0fb10-5263-48fc-a1db-5f80b23c2b48",
   "metadata": {},
   "source": [
    "Amazon Personalize thinks all of the interactions fed to it are representations of postive inclination between the user and the item - so we should discard any event types that do not represent positive inclination, such as thumbs down or a poor review, the above seems to all be positive interactions - so we wont remove any.\n",
    "\n",
    "Next lets get a bit more of an idea of what is in the other columns"
   ]
  },
  {
   "cell_type": "code",
   "execution_count": 68,
   "id": "1e034f53-4aae-4076-a968-5b853d998416",
   "metadata": {
    "tags": []
   },
   "outputs": [
    {
     "data": {
      "text/plain": [
       "Android - Native Mobile App                                                                                                                  6761\n",
       "Mozilla/5.0 (Windows NT 10.0; WOW64) AppleWebKit/537.36 (KHTML, like Gecko) Chrome/51.0.2704.103 Safari/537.36                               1823\n",
       "Mozilla/5.0 (Windows NT 10.0; WOW64) AppleWebKit/537.36 (KHTML, like Gecko) Chrome/52.0.2743.116 Safari/537.36                               1146\n",
       "Mozilla/5.0 (X11; Linux x86_64) AppleWebKit/537.36 (KHTML, like Gecko) Chrome/52.0.2743.116 Safari/537.36                                    1076\n",
       "Mozilla/5.0 (Windows NT 6.1; WOW64) AppleWebKit/537.36 (KHTML, like Gecko) Chrome/51.0.2704.103 Safari/537.36                                1059\n",
       "                                                                                                                                             ... \n",
       "Mozilla/5.0 (Windows NT 6.2; Win64; x64; rv:50.0) Gecko/20100101 Firefox/50.0                                                                   1\n",
       "Mozilla/5.0 (Macintosh; Intel Mac OS X 10_11_6) AppleWebKit/537.36 (KHTML, like Gecko) Chrome/48.0.2564.48 Safari/537.36                        1\n",
       "Mozilla/5.0 (Windows NT 6.1; WOW64) AppleWebKit/537.36 (KHTML, like Gecko) Chrome/54.0.2832.2 Safari/537.36                                     1\n",
       "Mozilla/5.0 (Linux; Android 5.1.1; SM-G900M Build/LMY48B) AppleWebKit/537.36 (KHTML, like Gecko) Chrome/52.0.2743.98 Mobile Safari/537.36       1\n",
       "Mozilla/5.0 (X11; Ubuntu; Linux i686; rv:47.0) Gecko/20100101 Firefox/47.0                                                                      1\n",
       "Name: userAgent, Length: 1090, dtype: int64"
      ]
     },
     "execution_count": 68,
     "metadata": {},
     "output_type": "execute_result"
    }
   ],
   "source": [
    "interaction_data.userAgent.value_counts()"
   ]
  },
  {
   "cell_type": "code",
   "execution_count": 69,
   "id": "d09d2618-6474-4d58-a0af-6e63b355836a",
   "metadata": {
    "tags": []
   },
   "outputs": [
    {
     "data": {
      "text/plain": [
       "BR    51396\n",
       "US     4657\n",
       "KR      239\n",
       "CA      226\n",
       "JP      144\n",
       "AU      138\n",
       "GB       22\n",
       "DE       19\n",
       "IE       14\n",
       "IS       13\n",
       "SG       11\n",
       "ZZ       11\n",
       "AR        7\n",
       "PT        6\n",
       "IN        3\n",
       "ES        3\n",
       "IT        2\n",
       "MY        2\n",
       "CN        1\n",
       "CL        1\n",
       "NL        1\n",
       "CO        1\n",
       "CH        1\n",
       "Name: userCountry, dtype: int64"
      ]
     },
     "execution_count": 69,
     "metadata": {},
     "output_type": "execute_result"
    }
   ],
   "source": [
    "interaction_data.userCountry.value_counts()"
   ]
  },
  {
   "cell_type": "markdown",
   "id": "4e8aa322-2a38-47ca-8d6b-4ea861d4dae9",
   "metadata": {},
   "source": [
    "With Amazon Personalize it is smart to group our categories where possible - the exact version number of a users browser likely doesnt matter - however whether they are logging on from a mobile device or a desktop probably does. We will ignore tha users region and country for this demo as we are not certain of how they are generated or whether or not they will be availible at inference."
   ]
  },
  {
   "cell_type": "code",
   "execution_count": 70,
   "id": "ffe705d8-9e04-4224-a4a9-7c9fdb998bf8",
   "metadata": {
    "tags": []
   },
   "outputs": [
    {
     "data": {
      "text/plain": [
       "7433"
      ]
     },
     "execution_count": 70,
     "metadata": {},
     "output_type": "execute_result"
    }
   ],
   "source": [
    "np.nansum((interaction_data.userAgent.str.contains('Mobile')))"
   ]
  },
  {
   "cell_type": "markdown",
   "id": "87621ff8-9b17-4b96-85df-384bfd46c05b",
   "metadata": {},
   "source": [
    "how many users do we not know the agent for"
   ]
  },
  {
   "cell_type": "code",
   "execution_count": 71,
   "id": "f6dbb378-428c-4dd6-bb82-637bbe696693",
   "metadata": {
    "tags": []
   },
   "outputs": [
    {
     "data": {
      "text/plain": [
       "15394"
      ]
     },
     "execution_count": 71,
     "metadata": {},
     "output_type": "execute_result"
    }
   ],
   "source": [
    "sum(interaction_data.userAgent.isna())"
   ]
  },
  {
   "cell_type": "markdown",
   "id": "aca60774-b704-44bf-8129-af08c46ae955",
   "metadata": {},
   "source": [
    "Lets replace these values with a string"
   ]
  },
  {
   "cell_type": "code",
   "execution_count": 72,
   "id": "b8697020-0872-4a7e-817e-b2b5a6da7e47",
   "metadata": {
    "tags": []
   },
   "outputs": [],
   "source": [
    "interaction_data.userAgent.fillna(\"UnknownAgent\", inplace = True)"
   ]
  },
  {
   "cell_type": "markdown",
   "id": "fb48ffa2-1bb3-40c8-bff7-744bdaeafdc0",
   "metadata": {},
   "source": [
    "The function below will group our user device categories into three families"
   ]
  },
  {
   "cell_type": "code",
   "execution_count": 73,
   "id": "89112638-ffa1-4cd3-b1a0-31251867884e",
   "metadata": {
    "tags": []
   },
   "outputs": [],
   "source": [
    "def device_type(user_device_type_raw: str) -> str:\n",
    "    if 'Mobile' in str(user_device_type_raw):\n",
    "        return 'Mobile'\n",
    "    elif user_device_type_raw == \"UnknownAgent\":\n",
    "        return \"UnknownAgent\"\n",
    "    else:\n",
    "        return 'NonMobile'"
   ]
  },
  {
   "cell_type": "code",
   "execution_count": 74,
   "id": "91506bf2-4ab6-455e-a62d-84b9a758a99f",
   "metadata": {
    "tags": []
   },
   "outputs": [],
   "source": [
    "interaction_data['user_device_type'] = interaction_data.userAgent.apply(device_type)"
   ]
  },
  {
   "cell_type": "code",
   "execution_count": 75,
   "id": "e34452b2-66fa-40d3-9487-21751f2eff0e",
   "metadata": {
    "tags": []
   },
   "outputs": [
    {
     "data": {
      "text/plain": [
       "NonMobile       49485\n",
       "UnknownAgent    15394\n",
       "Mobile           7433\n",
       "Name: user_device_type, dtype: int64"
      ]
     },
     "execution_count": 75,
     "metadata": {},
     "output_type": "execute_result"
    }
   ],
   "source": [
    "interaction_data['user_device_type'].value_counts()"
   ]
  },
  {
   "cell_type": "markdown",
   "id": "9977329a-8ae7-422d-b27a-e27b0fb41349",
   "metadata": {},
   "source": [
    "Lets keep this column - as we likely know it with a degree of certainty when the user logs in and it is also likely to affect the type of content they will wish to consume. We will also keep the `timestamp`, `item_id` and `user_id` columns which are needed for personalize - as well as the `event_type` column and `session id` as well"
   ]
  },
  {
   "cell_type": "code",
   "execution_count": 76,
   "id": "b0199551-d16a-45a8-b0dd-7329ebe1b51e",
   "metadata": {
    "tags": []
   },
   "outputs": [],
   "source": [
    "interaction_data = interaction_data[[\"timestamp\",\"event_type\",\"item_id\",\"user_id\",\"session_id\",\"user_device_type\"]]"
   ]
  },
  {
   "cell_type": "markdown",
   "id": "b1c72efb-fda8-445b-9b2d-c61dadfaa656",
   "metadata": {},
   "source": [
    "What does our distribution of interactions accross our various items look like"
   ]
  },
  {
   "cell_type": "code",
   "execution_count": 77,
   "id": "0b75015c-8916-472b-a8a3-48d2af04d776",
   "metadata": {
    "tags": []
   },
   "outputs": [
    {
     "data": {
      "text/plain": [
       "-4029704725707465084    433\n",
       "-133139342397538859     315\n",
       " 8657408509986329668    294\n",
       "-6783772548752091658    294\n",
       "-6843047699859121724    281\n",
       "                       ... \n",
       " 2824996248683640175      1\n",
       " 7029834616968294970      1\n",
       " 7697593937932606048      1\n",
       "-7108012586837980940      1\n",
       " 7526977287801930517      1\n",
       "Name: item_id, Length: 2987, dtype: int64"
      ]
     },
     "execution_count": 77,
     "metadata": {},
     "output_type": "execute_result"
    }
   ],
   "source": [
    "interaction_data.item_id.value_counts()"
   ]
  },
  {
   "cell_type": "markdown",
   "id": "644959b4-4338-459e-bef2-94daa019e852",
   "metadata": {
    "tags": []
   },
   "source": [
    "We have 2987 items represented in our interactions dataset - how many of these items have more than 5 interactions"
   ]
  },
  {
   "cell_type": "code",
   "execution_count": 78,
   "id": "7663b0bb-03fa-4839-bdbf-538f403c19a0",
   "metadata": {
    "tags": []
   },
   "outputs": [
    {
     "data": {
      "text/plain": [
       "0.7643120187479076"
      ]
     },
     "execution_count": 78,
     "metadata": {},
     "output_type": "execute_result"
    }
   ],
   "source": [
    "np.mean(interaction_data.item_id.value_counts() > 5)"
   ]
  },
  {
   "cell_type": "markdown",
   "id": "8b956a97-3c1a-460b-a324-df96f026a284",
   "metadata": {},
   "source": [
    "How many unique users do we have"
   ]
  },
  {
   "cell_type": "code",
   "execution_count": 79,
   "id": "f33a7da6-90f3-4577-a3c0-10f2bc96198c",
   "metadata": {
    "tags": []
   },
   "outputs": [
    {
     "data": {
      "text/plain": [
       "-1032019229384696495    1885\n",
       "-1443636648652872475    1616\n",
       " 3609194402293569455    1435\n",
       "-2626634673110551643    1084\n",
       "-3596626804281480007     903\n",
       "                        ... \n",
       "-5749772120640063461       1\n",
       "-8050113247491924905       1\n",
       "-3410401356987328689       1\n",
       " 4674800004298965524       1\n",
       " 3357462296682851629       1\n",
       "Name: user_id, Length: 1895, dtype: int64"
      ]
     },
     "execution_count": 79,
     "metadata": {},
     "output_type": "execute_result"
    }
   ],
   "source": [
    "interaction_data.user_id.value_counts()"
   ]
  },
  {
   "cell_type": "markdown",
   "id": "bde9acc2-5dbe-44aa-ac8a-97a378b32ee8",
   "metadata": {},
   "source": [
    "What percentage of users have at least 5 interactions"
   ]
  },
  {
   "cell_type": "code",
   "execution_count": 80,
   "id": "60a86392-0dd7-493d-9197-762ec3020dae",
   "metadata": {
    "tags": []
   },
   "outputs": [
    {
     "data": {
      "text/plain": [
       "0.6437994722955145"
      ]
     },
     "execution_count": 80,
     "metadata": {},
     "output_type": "execute_result"
    }
   ],
   "source": [
    "np.mean(interaction_data.user_id.value_counts() > 5)"
   ]
  },
  {
   "cell_type": "markdown",
   "id": "d6aad46d-08e6-4382-8a55-c5bdb579bc0f",
   "metadata": {},
   "source": [
    "64% of users have a history of at least 5 interactions these are very healthy numbers for training a personalize model, personalize can work for cold start users but it is nice that we have a healthy population of users with a decent number of interactions in our dataset."
   ]
  },
  {
   "cell_type": "code",
   "execution_count": 81,
   "id": "beeee5d3-ab8f-40b6-9992-5942fc09a10a",
   "metadata": {
    "tags": []
   },
   "outputs": [
    {
     "data": {
      "text/html": [
       "<div>\n",
       "<style scoped>\n",
       "    .dataframe tbody tr th:only-of-type {\n",
       "        vertical-align: middle;\n",
       "    }\n",
       "\n",
       "    .dataframe tbody tr th {\n",
       "        vertical-align: top;\n",
       "    }\n",
       "\n",
       "    .dataframe thead th {\n",
       "        text-align: right;\n",
       "    }\n",
       "</style>\n",
       "<table border=\"1\" class=\"dataframe\">\n",
       "  <thead>\n",
       "    <tr style=\"text-align: right;\">\n",
       "      <th></th>\n",
       "      <th>timestamp</th>\n",
       "      <th>event_type</th>\n",
       "      <th>item_id</th>\n",
       "      <th>user_id</th>\n",
       "      <th>session_id</th>\n",
       "      <th>user_device_type</th>\n",
       "    </tr>\n",
       "  </thead>\n",
       "  <tbody>\n",
       "    <tr>\n",
       "      <th>0</th>\n",
       "      <td>1465413032</td>\n",
       "      <td>VIEW</td>\n",
       "      <td>-3499919498720038879</td>\n",
       "      <td>-8845298781299428018</td>\n",
       "      <td>1264196770339959068</td>\n",
       "      <td>UnknownAgent</td>\n",
       "    </tr>\n",
       "    <tr>\n",
       "      <th>1</th>\n",
       "      <td>1465412560</td>\n",
       "      <td>VIEW</td>\n",
       "      <td>8890720798209849691</td>\n",
       "      <td>-1032019229384696495</td>\n",
       "      <td>3621737643587579081</td>\n",
       "      <td>NonMobile</td>\n",
       "    </tr>\n",
       "    <tr>\n",
       "      <th>2</th>\n",
       "      <td>1465416190</td>\n",
       "      <td>VIEW</td>\n",
       "      <td>310515487419366995</td>\n",
       "      <td>-1130272294246983140</td>\n",
       "      <td>2631864456530402479</td>\n",
       "      <td>UnknownAgent</td>\n",
       "    </tr>\n",
       "    <tr>\n",
       "      <th>3</th>\n",
       "      <td>1465413895</td>\n",
       "      <td>FOLLOW</td>\n",
       "      <td>310515487419366995</td>\n",
       "      <td>344280948527967603</td>\n",
       "      <td>-3167637573980064150</td>\n",
       "      <td>UnknownAgent</td>\n",
       "    </tr>\n",
       "    <tr>\n",
       "      <th>4</th>\n",
       "      <td>1465412290</td>\n",
       "      <td>VIEW</td>\n",
       "      <td>-7820640624231356730</td>\n",
       "      <td>-445337111692715325</td>\n",
       "      <td>5611481178424124714</td>\n",
       "      <td>UnknownAgent</td>\n",
       "    </tr>\n",
       "    <tr>\n",
       "      <th>5</th>\n",
       "      <td>1465413742</td>\n",
       "      <td>VIEW</td>\n",
       "      <td>310515487419366995</td>\n",
       "      <td>-8763398617720485024</td>\n",
       "      <td>1395789369402380392</td>\n",
       "      <td>NonMobile</td>\n",
       "    </tr>\n",
       "    <tr>\n",
       "      <th>6</th>\n",
       "      <td>1465415950</td>\n",
       "      <td>VIEW</td>\n",
       "      <td>-8864073373672512525</td>\n",
       "      <td>3609194402293569455</td>\n",
       "      <td>1143207167886864524</td>\n",
       "      <td>UnknownAgent</td>\n",
       "    </tr>\n",
       "    <tr>\n",
       "      <th>7</th>\n",
       "      <td>1465415066</td>\n",
       "      <td>VIEW</td>\n",
       "      <td>-1492913151930215984</td>\n",
       "      <td>4254153380739593270</td>\n",
       "      <td>8743229464706506141</td>\n",
       "      <td>NonMobile</td>\n",
       "    </tr>\n",
       "    <tr>\n",
       "      <th>8</th>\n",
       "      <td>1465413762</td>\n",
       "      <td>VIEW</td>\n",
       "      <td>310515487419366995</td>\n",
       "      <td>344280948527967603</td>\n",
       "      <td>-3167637573980064150</td>\n",
       "      <td>UnknownAgent</td>\n",
       "    </tr>\n",
       "    <tr>\n",
       "      <th>9</th>\n",
       "      <td>1465413771</td>\n",
       "      <td>VIEW</td>\n",
       "      <td>3064370296170038610</td>\n",
       "      <td>3609194402293569455</td>\n",
       "      <td>1143207167886864524</td>\n",
       "      <td>UnknownAgent</td>\n",
       "    </tr>\n",
       "  </tbody>\n",
       "</table>\n",
       "</div>"
      ],
      "text/plain": [
       "    timestamp event_type              item_id              user_id  \\\n",
       "0  1465413032       VIEW -3499919498720038879 -8845298781299428018   \n",
       "1  1465412560       VIEW  8890720798209849691 -1032019229384696495   \n",
       "2  1465416190       VIEW   310515487419366995 -1130272294246983140   \n",
       "3  1465413895     FOLLOW   310515487419366995   344280948527967603   \n",
       "4  1465412290       VIEW -7820640624231356730  -445337111692715325   \n",
       "5  1465413742       VIEW   310515487419366995 -8763398617720485024   \n",
       "6  1465415950       VIEW -8864073373672512525  3609194402293569455   \n",
       "7  1465415066       VIEW -1492913151930215984  4254153380739593270   \n",
       "8  1465413762       VIEW   310515487419366995   344280948527967603   \n",
       "9  1465413771       VIEW  3064370296170038610  3609194402293569455   \n",
       "\n",
       "            session_id user_device_type  \n",
       "0  1264196770339959068     UnknownAgent  \n",
       "1  3621737643587579081        NonMobile  \n",
       "2  2631864456530402479     UnknownAgent  \n",
       "3 -3167637573980064150     UnknownAgent  \n",
       "4  5611481178424124714     UnknownAgent  \n",
       "5  1395789369402380392        NonMobile  \n",
       "6  1143207167886864524     UnknownAgent  \n",
       "7  8743229464706506141        NonMobile  \n",
       "8 -3167637573980064150     UnknownAgent  \n",
       "9  1143207167886864524     UnknownAgent  "
      ]
     },
     "execution_count": 81,
     "metadata": {},
     "output_type": "execute_result"
    }
   ],
   "source": [
    "interaction_data.head(10)"
   ]
  },
  {
   "cell_type": "markdown",
   "id": "2457d094-68f8-4be1-bb32-98555057036d",
   "metadata": {},
   "source": [
    "Lets check for the percentage of nulls in each column"
   ]
  },
  {
   "cell_type": "code",
   "execution_count": 82,
   "id": "3e81c6c3-bf07-42dc-873c-fac297f0c923",
   "metadata": {
    "tags": []
   },
   "outputs": [
    {
     "data": {
      "text/plain": [
       "timestamp           0.0\n",
       "event_type          0.0\n",
       "item_id             0.0\n",
       "user_id             0.0\n",
       "session_id          0.0\n",
       "user_device_type    0.0\n",
       "dtype: float64"
      ]
     },
     "execution_count": 82,
     "metadata": {},
     "output_type": "execute_result"
    }
   ],
   "source": [
    "interaction_data.isnull().mean()"
   ]
  },
  {
   "cell_type": "markdown",
   "id": "c2c5cbe3-4074-4944-8d4b-37598a2f613f",
   "metadata": {},
   "source": [
    "Lets check the timestamp to make sure they are formatted properly for Personalize, the following code below will change a Unix Epoch time (in seconds) timestamp (which is what personalize requires) to a human readable timestamp."
   ]
  },
  {
   "cell_type": "code",
   "execution_count": 83,
   "id": "326045ea-e5e6-46ce-a35b-9193ca6c22fa",
   "metadata": {
    "tags": []
   },
   "outputs": [],
   "source": [
    "def custom_func(numerictime: int) -> str:\n",
    "    \"\"\"\n",
    "    This function takes a numeric field representing epoch time as its argument and returns a human readable timestamp \n",
    "    \n",
    "    :type numerictime: int\n",
    "    :param numerictime: timestamp in unix epoch time measured in seconds from January 1, 1970\n",
    "    \n",
    "    :rtype: string\n",
    "    :returns: a string representing a human readable timestamp in the format '%Y-%m-%d %H:%M:%S'\n",
    "    \"\"\"\n",
    "    return datetime.utcfromtimestamp(numerictime).strftime('%Y-%m-%d %H:%M:%S')"
   ]
  },
  {
   "cell_type": "code",
   "execution_count": 84,
   "id": "3fcff363-53bd-4f38-bfec-99779cacde70",
   "metadata": {
    "tags": []
   },
   "outputs": [
    {
     "data": {
      "text/plain": [
       "0        2016-06-08 19:10:32\n",
       "1        2016-06-08 19:02:40\n",
       "2        2016-06-08 20:03:10\n",
       "3        2016-06-08 19:24:55\n",
       "4        2016-06-08 18:58:10\n",
       "                ...         \n",
       "72307    2017-01-23 16:53:45\n",
       "72308    2017-01-23 16:53:45\n",
       "72309    2017-01-23 16:47:52\n",
       "72310    2017-01-23 16:53:54\n",
       "72311    2017-01-23 16:13:08\n",
       "Name: timestamp, Length: 72312, dtype: object"
      ]
     },
     "execution_count": 84,
     "metadata": {},
     "output_type": "execute_result"
    }
   ],
   "source": [
    "interaction_data.timestamp.apply(custom_func)"
   ]
  },
  {
   "cell_type": "markdown",
   "id": "0ee086ba-f203-4ea7-9221-65987d01748e",
   "metadata": {},
   "source": [
    "Looks good - lets save our data the code below is formatting code for pandas that helps personalize process the data correctly."
   ]
  },
  {
   "cell_type": "code",
   "execution_count": 85,
   "id": "6a300d1c-8d7e-4ada-93b7-2e0e887833db",
   "metadata": {
    "tags": []
   },
   "outputs": [],
   "source": [
    "interactions_file_name = \"deskdrop_interactions_automated.csv\"\n",
    "\n",
    "interaction_data.to_csv(\"poc_data/\" + interactions_file_name,\n",
    "                            index=False, \n",
    "                            float_format='%.0f',\n",
    "                            quoting=csv.QUOTE_NONNUMERIC,\n",
    "                            doublequote=False,\n",
    "                            escapechar='\\\\')"
   ]
  },
  {
   "cell_type": "markdown",
   "id": "693aa5cb-dfe3-4698-a21d-bb8de9a3fc04",
   "metadata": {},
   "source": [
    "Now lets create a schema for our dataset:"
   ]
  },
  {
   "cell_type": "markdown",
   "id": "4ca98dbb-aeb5-4971-b133-887551b4be2b",
   "metadata": {},
   "source": [
    "## Create the Interactions Schema <a class=\"anchor\" id=\"interact_schema\"></a>\n",
    "[Back to top](#top)\n",
    "\n",
    "Now that we've loaded and prepared our interactions dataset we'll need to configure the Amazon Personalize service to understand our data so that it can be used to train models for generating recommendations. Amazon Personalize requires a schema for each dataset so it can map the columns in our CSVs to fields for model training. Each schema is declared in JSON using the [Apache Avro](https://avro.apache.org/) format. \n",
    "\n",
    "First, define a schema to tell Amazon Personalize what type of dataset you are uploading. There are several reserved and mandatory keywords required in the schema, based on the type of dataset. More detailed information can be found in the [documentation](https://docs.aws.amazon.com/personalize/latest/dg/how-it-works-dataset-schema.html)."
   ]
  },
  {
   "cell_type": "markdown",
   "id": "d424d0d1-0d7b-4b12-b619-9c7dc04a5173",
   "metadata": {},
   "source": [
    "#### Interactions Dataset Schema\n",
    "\n",
    "The interactions dataset has three required columns: `ITEM_ID`, `USER_ID`, and `TIMESTAMP`. The `TIMESTAMP` represents when the user interated with an item and must be expressed in Unix timestamp format (seconds). For this dataset we also have an `EVENT_TYPE` column that includes the type of interaction with the article (`VIEW`, `FOLLOW`, `LIKE` ect).\n",
    "\n",
    "The interactions dataset supports metadata columns. Interaction metadata columns are a way to provide contextual details that are specific to an interaction such as the user's current device type (phone, tablet, desktop, set-top box, etc), the user's current location (city, region, metro code, etc), current weather conditions, and so on. For this dataset, we have a `user_device_type` column that indicates what sort of device the user is logging into the site from, mobile or non-mobile - as this will likely influnce the sort of articles they want to engage with. Note that the `user_device_type` column is annotated as being categorical (`\"categorical\": true`) this is required if we want personalize to use it as part of its modeling.\n",
    "\n",
    "If we didn't want personalize to model off of it - we could insert it as merely a string field in which case we could still use it for filtering. Personalize will process the most frequent 1000 categories individually and bundle the remaining categories into a 1001 category. If this isn't ideal for your use case you may want to manually bundle categories yourself."
   ]
  },
  {
   "cell_type": "code",
   "execution_count": 86,
   "id": "213cf197-adf4-486b-90bf-4ab6586a454f",
   "metadata": {
    "tags": []
   },
   "outputs": [],
   "source": [
    "interactions_schema = {\n",
    "\t\"type\": \"record\",  \n",
    "\t\"name\": \"Interactions\",  \n",
    "\t\"namespace\": \"com.amazonaws.personalize.schema\",  \n",
    "\t\"fields\": [  \n",
    "\t\t{  \n",
    "\t\t\t\"name\": \"USER_ID\",  \n",
    "\t\t\t\"type\": \"string\"  \n",
    "\t\t},  \n",
    "\t\t{  \n",
    "\t\t\t\"name\": \"ITEM_ID\",  \n",
    "\t\t\t\"type\": \"string\"  \n",
    "\t\t},  \n",
    "\t\t{  \n",
    "\t\t\t\"name\": \"TIMESTAMP\",  \n",
    "\t\t\t\"type\": \"long\"  \n",
    "\t\t}, \n",
    "\t\t{  \n",
    "\t\t\t\"name\": \"SESSION_ID\",  \n",
    "\t\t\t\"type\": \"string\"  \n",
    "\t\t},  \n",
    "\t\t{  \n",
    "\t\t\t\"name\": \"EVENT_TYPE\",  \n",
    "\t\t\t\"type\": \"string\"  \n",
    "\t\t},  \n",
    "\t\t{  \n",
    "\t\t\t\"name\": \"user_device_type\",  \n",
    "\t\t\t\"type\": [  \n",
    "\t\t\t\t\"null\",  \n",
    "\t\t\t\t\"string\"  \n",
    "\t\t\t],  \n",
    "\t\t\t\"categorical\": True  \n",
    "\t\t}  \n",
    "\t],  \n",
    "\t\"version\": \"1.0\"  \n",
    "}  "
   ]
  },
  {
   "cell_type": "code",
   "execution_count": 87,
   "id": "a1438c8a-d7b9-4142-ac85-94258911e0b2",
   "metadata": {
    "tags": []
   },
   "outputs": [
    {
     "name": "stdout",
     "output_type": "stream",
     "text": [
      "The schema arn:aws:personalize:us-east-1:381491864570:schema/immersion_day_news_interactions_schema already exists.\n",
      "\n",
      "We will be using the existing Interactions Schema with workshop_interactions_schema_arn = arn:aws:personalize:us-east-1:381491864570:schema/immersion_day_news_interactions_schema\n"
     ]
    }
   ],
   "source": [
    "try:\n",
    "    # Try to create the interactions dataset schema, this block with exectute fully \n",
    "    # if the interactions dataset schema does not exist yet\n",
    "    create_schema_response = personalize.create_schema(\n",
    "        name = interactions_schema_name,\n",
    "        schema = json.dumps(interactions_schema),\n",
    "    )\n",
    "    print(json.dumps(create_schema_response, indent=2))\n",
    "    workshop_interactions_schema_arn = create_schema_response['schemaArn']\n",
    "    print ('\\nCreating the Interactions Schema with workshop_interactions_schema_arn = {}'.format(workshop_interactions_schema_arn))\n",
    "    \n",
    "except personalize.exceptions.ResourceAlreadyExistsException:\n",
    "    # if the interactions dataset schema already exists, get the unique identifier workshop_interactions_schema_arn\n",
    "    # from the existing resource \n",
    "    \n",
    "    workshop_interactions_schema_arn = 'arn:aws:personalize:'+region+':'+account_id+':schema/'+interactions_schema_name \n",
    "    print('The schema {} already exists.'.format(workshop_interactions_schema_arn))\n",
    "    print ('\\nWe will be using the existing Interactions Schema with workshop_interactions_schema_arn = {}'.format(workshop_interactions_schema_arn))"
   ]
  },
  {
   "cell_type": "markdown",
   "id": "08ad07cf-d5d4-407a-a69e-c101bac2f087",
   "metadata": {},
   "source": [
    "## Preparing our Items (Articles) Metadata\n",
    "\n",
    "Now that we have created the schema lets take a look at our items data (in this case data on our articles)"
   ]
  },
  {
   "cell_type": "code",
   "execution_count": 88,
   "id": "e7403997-9ac4-483b-b7ac-8d5f993cd08c",
   "metadata": {
    "tags": []
   },
   "outputs": [],
   "source": [
    "articles = pd.read_csv(\"https://d2peeor3oplhc6.cloudfront.net/personalize-news-immersion-day/shared_articles.csv\")"
   ]
  },
  {
   "cell_type": "markdown",
   "id": "82e7b124-e289-43f7-b38b-dcd2e27eca9a",
   "metadata": {},
   "source": [
    "What type of fields do we have:"
   ]
  },
  {
   "cell_type": "code",
   "execution_count": 89,
   "id": "b62a00c5-e733-47d1-a365-fc0cb7a0181c",
   "metadata": {
    "tags": []
   },
   "outputs": [
    {
     "data": {
      "text/plain": [
       "Index(['timestamp', 'eventType', 'contentId', 'authorPersonId',\n",
       "       'authorSessionId', 'authorUserAgent', 'authorRegion', 'authorCountry',\n",
       "       'contentType', 'url', 'title', 'text', 'lang', 'english_text',\n",
       "       'orig_language', 'article_summary', 'article_hook', 'article_trigger',\n",
       "       'article_genre'],\n",
       "      dtype='object')"
      ]
     },
     "execution_count": 89,
     "metadata": {},
     "output_type": "execute_result"
    }
   ],
   "source": [
    "articles.columns"
   ]
  },
  {
   "cell_type": "markdown",
   "id": "491dd9d4-cd9d-492d-b276-7e2446c1061b",
   "metadata": {},
   "source": [
    "### Sample Text"
   ]
  },
  {
   "cell_type": "code",
   "execution_count": 90,
   "id": "1bbd7cbb-417c-4e0c-a3e4-beacb205fce9",
   "metadata": {
    "tags": []
   },
   "outputs": [
    {
     "name": "stdout",
     "output_type": "stream",
     "text": [
      "O Uber anunciou nesta segunda-feira, 13/06, o lançamento em São Paulo de um projeto piloto para oferecer viagens de helicóptero sob demanda na capital paulista em parceria com a Airbus Group. Chamado de UberCOPTER, o serviço está disponível a partir de hoje, 13/06, e ficará (literalmente) no ar por um mês. De acordo com a empresa, São Paulo é a primeira cidade no mundo a receber esse tipo de serviço - algo que não é realmente uma surpresa, já que a capital é conhecida globalmente pela enorme quantidade de carros e um dos piores trânsitos do planeta. O novo UberCOPTER conectará 5 helipontos (Blue Tree Faria Lima, Helicentro Morumbi, Sheraton WTC, Hangar ABC, Hotel Transamerica) e 4 aeroportos (Congonhas, Cumbica, Viracopos e Campo de Marte) na cidade de SP e regiões próximas e terá preços fixos, que serão mostrados antes do usuário solicitar a viagem. Até o dia 16/06, o serviço terá preços promocionais para alguns trechos, como uma viagem do heliponto do Blue Tree Faria Lima para o aeroporto de Guarulho (R$271,00 por assento), hotel Transamérica para o Blue Tree Faria Lima (R$80,00 por assento), Helicentro Morumbi para o Blue Tree Faria Lima (R$66,00 por assento). Os preços que serão válidos após essa data ainda não foram definidos pelo Uber e devem ser divulgados até o final desta semana. Como funciona Ao solicitar um voo, o usuário será direcionado para uma página externa, em que precisará digitar suas credenciais de login do Uber. Depois receberá uma mensagem de texto da empresa com as informações de acesso ao heliponto em questão. Um carro UberBLACK (pago separadamente e com preço de acordo com o trajeto) levará o usuário ao heliponto e irá buscá-lo no destino final da viagem. A novidade funcionará de segunda a segunda, das 7h às 20h, neste mês contando a partir de hoje, 13/06.\n"
     ]
    }
   ],
   "source": [
    "print(articles.text[0])"
   ]
  },
  {
   "cell_type": "markdown",
   "id": "c47b7896-8843-4dd1-a09f-60fd5cfa7045",
   "metadata": {},
   "source": [
    "### Check for article duplicates"
   ]
  },
  {
   "cell_type": "code",
   "execution_count": 91,
   "id": "9f001442-9ed0-4f7c-83cc-f8351ec2b102",
   "metadata": {
    "tags": []
   },
   "outputs": [
    {
     "data": {
      "text/plain": [
       "1    2993\n",
       "2      63\n",
       "3       1\n",
       "Name: contentId, dtype: int64"
      ]
     },
     "execution_count": 91,
     "metadata": {},
     "output_type": "execute_result"
    }
   ],
   "source": [
    "articles.contentId.value_counts().value_counts()"
   ]
  },
  {
   "cell_type": "code",
   "execution_count": 92,
   "id": "b294280a-7585-49fb-b50e-177a81de2848",
   "metadata": {
    "tags": []
   },
   "outputs": [
    {
     "data": {
      "text/plain": [
       "-2990485643677949494    3\n",
       "-7356135999773525293    2\n",
       "-456574518348806233     2\n",
       " 4106497696154898573    2\n",
       "-7358932766266901263    2\n",
       "                       ..\n",
       "-3020916840917845519    1\n",
       "-3015446245469915661    1\n",
       "-2976850014387537414    1\n",
       "-2976309714446243509    1\n",
       "-3071732669882279801    1\n",
       "Name: contentId, Length: 3057, dtype: int64"
      ]
     },
     "execution_count": 92,
     "metadata": {},
     "output_type": "execute_result"
    }
   ],
   "source": [
    "articles.contentId.value_counts()"
   ]
  },
  {
   "cell_type": "markdown",
   "id": "f9966f23-9d9e-46b8-ad0c-9fb856db2fe9",
   "metadata": {},
   "source": [
    "Which article has three interactions"
   ]
  },
  {
   "cell_type": "code",
   "execution_count": 93,
   "id": "3d4373a5-7d1f-4112-85ec-522ca27f22e8",
   "metadata": {
    "tags": []
   },
   "outputs": [
    {
     "data": {
      "text/html": [
       "<div>\n",
       "<style scoped>\n",
       "    .dataframe tbody tr th:only-of-type {\n",
       "        vertical-align: middle;\n",
       "    }\n",
       "\n",
       "    .dataframe tbody tr th {\n",
       "        vertical-align: top;\n",
       "    }\n",
       "\n",
       "    .dataframe thead th {\n",
       "        text-align: right;\n",
       "    }\n",
       "</style>\n",
       "<table border=\"1\" class=\"dataframe\">\n",
       "  <thead>\n",
       "    <tr style=\"text-align: right;\">\n",
       "      <th></th>\n",
       "      <th>timestamp</th>\n",
       "      <th>eventType</th>\n",
       "      <th>contentId</th>\n",
       "      <th>authorPersonId</th>\n",
       "      <th>authorSessionId</th>\n",
       "      <th>authorUserAgent</th>\n",
       "      <th>authorRegion</th>\n",
       "      <th>authorCountry</th>\n",
       "      <th>contentType</th>\n",
       "      <th>url</th>\n",
       "      <th>title</th>\n",
       "      <th>text</th>\n",
       "      <th>lang</th>\n",
       "      <th>english_text</th>\n",
       "      <th>orig_language</th>\n",
       "      <th>article_summary</th>\n",
       "      <th>article_hook</th>\n",
       "      <th>article_trigger</th>\n",
       "      <th>article_genre</th>\n",
       "    </tr>\n",
       "  </thead>\n",
       "  <tbody>\n",
       "    <tr>\n",
       "      <th>1050</th>\n",
       "      <td>1461864561</td>\n",
       "      <td>CONTENT SHARED</td>\n",
       "      <td>-2990485643677949494</td>\n",
       "      <td>-3390049372067052505</td>\n",
       "      <td>-7303988376323787105</td>\n",
       "      <td>NaN</td>\n",
       "      <td>NaN</td>\n",
       "      <td>NaN</td>\n",
       "      <td>HTML</td>\n",
       "      <td>https://hbr.org/2016/04/the-secret-history-of-...</td>\n",
       "      <td>The Secret History of Agile Innovation</td>\n",
       "      <td>Create a FREE account to: Get eight free artic...</td>\n",
       "      <td>en</td>\n",
       "      <td>Create a FREE account to: Get eight free artic...</td>\n",
       "      <td>en</td>\n",
       "      <td>Here is a more concise summary of the key poin...</td>\n",
       "      <td>A concise summary of Harvard Business Review's...</td>\n",
       "      <td>Here are three pieces of information for the g...</td>\n",
       "      <td>other</td>\n",
       "    </tr>\n",
       "    <tr>\n",
       "      <th>1051</th>\n",
       "      <td>1461864719</td>\n",
       "      <td>CONTENT REMOVED</td>\n",
       "      <td>-2990485643677949494</td>\n",
       "      <td>-3390049372067052505</td>\n",
       "      <td>-7303988376323787105</td>\n",
       "      <td>NaN</td>\n",
       "      <td>NaN</td>\n",
       "      <td>NaN</td>\n",
       "      <td>HTML</td>\n",
       "      <td>https://hbr.org/2016/04/the-secret-history-of-...</td>\n",
       "      <td>The Secret History of Agile Innovation</td>\n",
       "      <td>Create a FREE account to: Get eight free artic...</td>\n",
       "      <td>en</td>\n",
       "      <td>Create a FREE account to: Get eight free artic...</td>\n",
       "      <td>en</td>\n",
       "      <td>Here is a more concise summary of the key poin...</td>\n",
       "      <td>A concise summary of Harvard Business Review's...</td>\n",
       "      <td>Here are three pieces of information for the g...</td>\n",
       "      <td>other</td>\n",
       "    </tr>\n",
       "    <tr>\n",
       "      <th>1052</th>\n",
       "      <td>1461864769</td>\n",
       "      <td>CONTENT REMOVED</td>\n",
       "      <td>-2990485643677949494</td>\n",
       "      <td>-3390049372067052505</td>\n",
       "      <td>-7303988376323787105</td>\n",
       "      <td>NaN</td>\n",
       "      <td>NaN</td>\n",
       "      <td>NaN</td>\n",
       "      <td>HTML</td>\n",
       "      <td>https://hbr.org/2016/04/the-secret-history-of-...</td>\n",
       "      <td>The Secret History of Agile Innovation</td>\n",
       "      <td>Create a FREE account to: Get eight free artic...</td>\n",
       "      <td>en</td>\n",
       "      <td>Create a FREE account to: Get eight free artic...</td>\n",
       "      <td>en</td>\n",
       "      <td>Here is a more concise summary of the key poin...</td>\n",
       "      <td>A concise summary of Harvard Business Review's...</td>\n",
       "      <td>Here are three pieces of information for the g...</td>\n",
       "      <td>other</td>\n",
       "    </tr>\n",
       "  </tbody>\n",
       "</table>\n",
       "</div>"
      ],
      "text/plain": [
       "       timestamp        eventType            contentId       authorPersonId  \\\n",
       "1050  1461864561   CONTENT SHARED -2990485643677949494 -3390049372067052505   \n",
       "1051  1461864719  CONTENT REMOVED -2990485643677949494 -3390049372067052505   \n",
       "1052  1461864769  CONTENT REMOVED -2990485643677949494 -3390049372067052505   \n",
       "\n",
       "          authorSessionId authorUserAgent authorRegion authorCountry  \\\n",
       "1050 -7303988376323787105             NaN          NaN           NaN   \n",
       "1051 -7303988376323787105             NaN          NaN           NaN   \n",
       "1052 -7303988376323787105             NaN          NaN           NaN   \n",
       "\n",
       "     contentType                                                url  \\\n",
       "1050        HTML  https://hbr.org/2016/04/the-secret-history-of-...   \n",
       "1051        HTML  https://hbr.org/2016/04/the-secret-history-of-...   \n",
       "1052        HTML  https://hbr.org/2016/04/the-secret-history-of-...   \n",
       "\n",
       "                                       title  \\\n",
       "1050  The Secret History of Agile Innovation   \n",
       "1051  The Secret History of Agile Innovation   \n",
       "1052  The Secret History of Agile Innovation   \n",
       "\n",
       "                                                   text lang  \\\n",
       "1050  Create a FREE account to: Get eight free artic...   en   \n",
       "1051  Create a FREE account to: Get eight free artic...   en   \n",
       "1052  Create a FREE account to: Get eight free artic...   en   \n",
       "\n",
       "                                           english_text orig_language  \\\n",
       "1050  Create a FREE account to: Get eight free artic...            en   \n",
       "1051  Create a FREE account to: Get eight free artic...            en   \n",
       "1052  Create a FREE account to: Get eight free artic...            en   \n",
       "\n",
       "                                        article_summary  \\\n",
       "1050  Here is a more concise summary of the key poin...   \n",
       "1051  Here is a more concise summary of the key poin...   \n",
       "1052  Here is a more concise summary of the key poin...   \n",
       "\n",
       "                                           article_hook  \\\n",
       "1050  A concise summary of Harvard Business Review's...   \n",
       "1051  A concise summary of Harvard Business Review's...   \n",
       "1052  A concise summary of Harvard Business Review's...   \n",
       "\n",
       "                                        article_trigger article_genre  \n",
       "1050  Here are three pieces of information for the g...         other  \n",
       "1051  Here are three pieces of information for the g...         other  \n",
       "1052  Here are three pieces of information for the g...         other  "
      ]
     },
     "execution_count": 93,
     "metadata": {},
     "output_type": "execute_result"
    }
   ],
   "source": [
    "articles[articles.contentId == -2990485643677949494]"
   ]
  },
  {
   "cell_type": "markdown",
   "id": "1cb44d89-616b-48d3-b45d-2c7857898431",
   "metadata": {},
   "source": [
    "How many event types do we have:"
   ]
  },
  {
   "cell_type": "code",
   "execution_count": 94,
   "id": "5a595940-8eb5-4615-a9e0-f88e5accb5df",
   "metadata": {
    "tags": []
   },
   "outputs": [
    {
     "data": {
      "text/plain": [
       "CONTENT SHARED     3047\n",
       "CONTENT REMOVED      75\n",
       "Name: eventType, dtype: int64"
      ]
     },
     "execution_count": 94,
     "metadata": {},
     "output_type": "execute_result"
    }
   ],
   "source": [
    "articles.eventType.value_counts()"
   ]
  },
  {
   "cell_type": "markdown",
   "id": "98cb9d85-df38-4f82-a5cc-55b6a1e34673",
   "metadata": {
    "tags": []
   },
   "source": [
    "How many articles do we have in each langauge"
   ]
  },
  {
   "cell_type": "code",
   "execution_count": 95,
   "id": "7fc9fad3-62d2-459b-a9d1-21bae7eaebaa",
   "metadata": {
    "tags": []
   },
   "outputs": [
    {
     "data": {
      "text/plain": [
       "en    2803\n",
       "pt     311\n",
       "la       4\n",
       "ja       2\n",
       "es       2\n",
       "Name: lang, dtype: int64"
      ]
     },
     "execution_count": 95,
     "metadata": {},
     "output_type": "execute_result"
    }
   ],
   "source": [
    "articles.lang.value_counts()"
   ]
  },
  {
   "cell_type": "markdown",
   "id": "c1ab4c58-c312-46b8-9863-abb3d664a2e8",
   "metadata": {
    "tags": []
   },
   "source": [
    "These are only supposed to be in english and portugese lets take a look at some of the other langauge examples"
   ]
  },
  {
   "cell_type": "code",
   "execution_count": 96,
   "id": "e97ea254-7ef7-4445-b2d9-0f2d9637bfa0",
   "metadata": {
    "tags": []
   },
   "outputs": [
    {
     "data": {
      "text/html": [
       "<div>\n",
       "<style scoped>\n",
       "    .dataframe tbody tr th:only-of-type {\n",
       "        vertical-align: middle;\n",
       "    }\n",
       "\n",
       "    .dataframe tbody tr th {\n",
       "        vertical-align: top;\n",
       "    }\n",
       "\n",
       "    .dataframe thead th {\n",
       "        text-align: right;\n",
       "    }\n",
       "</style>\n",
       "<table border=\"1\" class=\"dataframe\">\n",
       "  <thead>\n",
       "    <tr style=\"text-align: right;\">\n",
       "      <th></th>\n",
       "      <th>title</th>\n",
       "      <th>text</th>\n",
       "      <th>lang</th>\n",
       "      <th>contentId</th>\n",
       "    </tr>\n",
       "  </thead>\n",
       "  <tbody>\n",
       "    <tr>\n",
       "      <th>1</th>\n",
       "      <td>Request lesson : How and when to use はず(=hazu)...</td>\n",
       "      <td>= Kotoshi no aki made niwa kare ga dekiru hazu...</td>\n",
       "      <td>la</td>\n",
       "      <td>-9216926795620865886</td>\n",
       "    </tr>\n",
       "    <tr>\n",
       "      <th>87</th>\n",
       "      <td>Within a Decade, Retail Banks will be Dead</td>\n",
       "      <td>A соuрlе of weeks ago, I found myself sitting ...</td>\n",
       "      <td>la</td>\n",
       "      <td>-8854146354650101086</td>\n",
       "    </tr>\n",
       "    <tr>\n",
       "      <th>221</th>\n",
       "      <td>git flow with support</td>\n",
       "      <td>Lorem ipsum dolor sit amet, consectetur adipis...</td>\n",
       "      <td>la</td>\n",
       "      <td>-8083832514395551465</td>\n",
       "    </tr>\n",
       "    <tr>\n",
       "      <th>222</th>\n",
       "      <td>git flow with support</td>\n",
       "      <td>Lorem ipsum dolor sit amet, consectetur adipis...</td>\n",
       "      <td>la</td>\n",
       "      <td>-8083832514395551465</td>\n",
       "    </tr>\n",
       "    <tr>\n",
       "      <th>646</th>\n",
       "      <td>40 Basic Japanese conversations</td>\n",
       "      <td>Japanese conversation using Ninja LINE sticker...</td>\n",
       "      <td>ja</td>\n",
       "      <td>-5527182266336855540</td>\n",
       "    </tr>\n",
       "    <tr>\n",
       "      <th>815</th>\n",
       "      <td>The Algorithm March, Japan's Strangely Enterta...</td>\n",
       "      <td>Arugorizumu Koushin! アルゴリズムこうしん (Algorithm Mar...</td>\n",
       "      <td>ja</td>\n",
       "      <td>-4434534460030275781</td>\n",
       "    </tr>\n",
       "    <tr>\n",
       "      <th>2215</th>\n",
       "      <td>La RAE lucha contra los anglicismos con una ca...</td>\n",
       "      <td>La Real Academia Española alerta sobre su abus...</td>\n",
       "      <td>es</td>\n",
       "      <td>4012770927504386801</td>\n",
       "    </tr>\n",
       "    <tr>\n",
       "      <th>2324</th>\n",
       "      <td>Costa Rica presenta su primer edificio constru...</td>\n",
       "      <td>San José, 22 abr (EFE).- Autoridades de Costa ...</td>\n",
       "      <td>es</td>\n",
       "      <td>4654349179360175629</td>\n",
       "    </tr>\n",
       "  </tbody>\n",
       "</table>\n",
       "</div>"
      ],
      "text/plain": [
       "                                                  title  \\\n",
       "1     Request lesson : How and when to use はず(=hazu)...   \n",
       "87           Within a Decade, Retail Banks will be Dead   \n",
       "221                               git flow with support   \n",
       "222                               git flow with support   \n",
       "646                     40 Basic Japanese conversations   \n",
       "815   The Algorithm March, Japan's Strangely Enterta...   \n",
       "2215  La RAE lucha contra los anglicismos con una ca...   \n",
       "2324  Costa Rica presenta su primer edificio constru...   \n",
       "\n",
       "                                                   text lang  \\\n",
       "1     = Kotoshi no aki made niwa kare ga dekiru hazu...   la   \n",
       "87    A соuрlе of weeks ago, I found myself sitting ...   la   \n",
       "221   Lorem ipsum dolor sit amet, consectetur adipis...   la   \n",
       "222   Lorem ipsum dolor sit amet, consectetur adipis...   la   \n",
       "646   Japanese conversation using Ninja LINE sticker...   ja   \n",
       "815   Arugorizumu Koushin! アルゴリズムこうしん (Algorithm Mar...   ja   \n",
       "2215  La Real Academia Española alerta sobre su abus...   es   \n",
       "2324  San José, 22 abr (EFE).- Autoridades de Costa ...   es   \n",
       "\n",
       "                contentId  \n",
       "1    -9216926795620865886  \n",
       "87   -8854146354650101086  \n",
       "221  -8083832514395551465  \n",
       "222  -8083832514395551465  \n",
       "646  -5527182266336855540  \n",
       "815  -4434534460030275781  \n",
       "2215  4012770927504386801  \n",
       "2324  4654349179360175629  "
      ]
     },
     "execution_count": 96,
     "metadata": {},
     "output_type": "execute_result"
    }
   ],
   "source": [
    "articles[articles.lang.isin(['la','es','ja'])][['title','text', 'lang', 'contentId']]"
   ]
  },
  {
   "cell_type": "code",
   "execution_count": 97,
   "id": "752587fe-7f1d-47cb-88d9-652fb4837adc",
   "metadata": {
    "tags": []
   },
   "outputs": [
    {
     "data": {
      "text/plain": [
       "'Lorem ipsum dolor sit amet, consectetur adipisicing elit. Sint, ducimus, qui fuga corporis veritatis doloribus iure nulla optio dolores maiores dolorum ullam alias cum libero obcaecati cupiditate sit illo aperiam possimus voluptatum similique neque explicabo quibusdam aspernatur dolorem. Quod, corrupti magni explicabo nam sequi nesciunt accusamus aliquam dolore!'"
      ]
     },
     "execution_count": 97,
     "metadata": {},
     "output_type": "execute_result"
    }
   ],
   "source": [
    "articles[articles.lang.isin(['la','es','ja'])].text[221]"
   ]
  },
  {
   "cell_type": "markdown",
   "id": "39de1731-4463-4706-a79d-f45832158cff",
   "metadata": {},
   "source": [
    "This is placeholder used in UI development lets drop all these articles for simplicity sake"
   ]
  },
  {
   "cell_type": "code",
   "execution_count": 98,
   "id": "d7e283c4-c761-42a7-bad3-33d9d3486f04",
   "metadata": {
    "tags": []
   },
   "outputs": [],
   "source": [
    "contentIds_to_drop = articles[articles.lang.isin(['la','es','ja'])].contentId"
   ]
  },
  {
   "cell_type": "code",
   "execution_count": 99,
   "id": "dfd8a60a-f02b-4563-afc8-ce121ad3bdeb",
   "metadata": {
    "tags": []
   },
   "outputs": [],
   "source": [
    "articles.drop(articles.loc[articles.contentId.isin(contentIds_to_drop)].index, inplace=True)"
   ]
  },
  {
   "cell_type": "markdown",
   "id": "29850f2f-0065-49b6-9e6b-b597767eef19",
   "metadata": {},
   "source": [
    "Lets also drop the removal tags"
   ]
  },
  {
   "cell_type": "code",
   "execution_count": 100,
   "id": "8d52c8f2-a8ac-4344-9ab4-e66b12edc408",
   "metadata": {
    "tags": []
   },
   "outputs": [],
   "source": [
    "articles.drop(articles.loc[articles.eventType == 'CONTENT REMOVED'].index, inplace=True)"
   ]
  },
  {
   "cell_type": "markdown",
   "id": "6a6cd14b-ef2c-40a5-9114-27410ffa6fca",
   "metadata": {},
   "source": [
    "How many duplicates do we have left?"
   ]
  },
  {
   "cell_type": "code",
   "execution_count": 101,
   "id": "e389fc4a-57fb-4a97-9681-24c5183ba2b4",
   "metadata": {
    "tags": []
   },
   "outputs": [
    {
     "data": {
      "text/plain": [
       "1    3040\n",
       "Name: contentId, dtype: int64"
      ]
     },
     "execution_count": 101,
     "metadata": {},
     "output_type": "execute_result"
    }
   ],
   "source": [
    "articles.contentId.value_counts().value_counts()"
   ]
  },
  {
   "cell_type": "markdown",
   "id": "89ffe286-1038-4864-b6ab-befcdc292579",
   "metadata": {},
   "source": [
    "Personalize can only process one textual field and we have several - first which fields are potentially strings?"
   ]
  },
  {
   "cell_type": "code",
   "execution_count": 102,
   "id": "e299b68c-aa1c-4784-adc5-454cae496e4f",
   "metadata": {
    "tags": []
   },
   "outputs": [
    {
     "data": {
      "text/plain": [
       "timestamp           int64\n",
       "eventType          object\n",
       "contentId           int64\n",
       "authorPersonId      int64\n",
       "authorSessionId     int64\n",
       "authorUserAgent    object\n",
       "authorRegion       object\n",
       "authorCountry      object\n",
       "contentType        object\n",
       "url                object\n",
       "title              object\n",
       "text               object\n",
       "lang               object\n",
       "english_text       object\n",
       "orig_language      object\n",
       "article_summary    object\n",
       "article_hook       object\n",
       "article_trigger    object\n",
       "article_genre      object\n",
       "dtype: object"
      ]
     },
     "execution_count": 102,
     "metadata": {},
     "output_type": "execute_result"
    }
   ],
   "source": [
    "articles.dtypes"
   ]
  },
  {
   "cell_type": "markdown",
   "id": "a9dfc3f0-9eb6-4e2c-a97b-ae57da232dac",
   "metadata": {},
   "source": [
    "All fields labeld as object could be strings - how many distinct values do we have in each field?"
   ]
  },
  {
   "cell_type": "code",
   "execution_count": 103,
   "id": "647d8415-1399-43e3-9bc9-2f524ca377de",
   "metadata": {
    "tags": []
   },
   "outputs": [
    {
     "data": {
      "text/plain": [
       "timestamp          3039\n",
       "eventType             1\n",
       "contentId          3040\n",
       "authorPersonId      251\n",
       "authorSessionId    2004\n",
       "authorUserAgent     114\n",
       "authorRegion         19\n",
       "authorCountry         5\n",
       "contentType           3\n",
       "url                3016\n",
       "title              2996\n",
       "text               3006\n",
       "lang                  2\n",
       "english_text       3006\n",
       "orig_language         2\n",
       "article_summary    3025\n",
       "article_hook       3024\n",
       "article_trigger    2719\n",
       "article_genre         7\n",
       "dtype: int64"
      ]
     },
     "execution_count": 103,
     "metadata": {},
     "output_type": "execute_result"
    }
   ],
   "source": [
    "articles.nunique()"
   ]
  },
  {
   "cell_type": "markdown",
   "id": "69d2d46c-aa72-44d5-9078-bb5080ad9319",
   "metadata": {},
   "source": [
    "We will drop all of the information on the author as it shouldn't be relevant. `eventType` is singular after we dropped other articles so we will drop it.  `contentType`, `lang`, and `article_genre` have low cardinality so they are likely categorical - that leaves potential text fields as\n",
    "\n",
    "1. Title\n",
    "1. Text\n",
    "1. article_summary\n",
    "1. article_hook\n",
    "1. article_trigger\n",
    "1. article_genre\n",
    "\n",
    "Lets examine each one."
   ]
  },
  {
   "cell_type": "code",
   "execution_count": 104,
   "id": "7de52b57-a516-41a7-9938-f3d8ff95aa70",
   "metadata": {
    "tags": []
   },
   "outputs": [
    {
     "data": {
      "text/plain": [
       "0       Uber lança serviço de helicóptero em SP com pr...\n",
       "2       STEMTera, uma protoboard com Arduino Uno embutido\n",
       "3       Chrome OS now has Material Design for the desktop\n",
       "4                             The Real Product Market Fit\n",
       "5       Eddy Cue and Craig Federighi Open Up About Lea...\n",
       "                              ...                        \n",
       "3117    Conheça a Liga IoT, plataforma de inovação abe...\n",
       "3118    Meet Mycroft, the open source AI who wants to ...\n",
       "3119    Ray Kurzweil Predicts Three Technologies Will ...\n",
       "3120                                            Angular 2\n",
       "3121    Deep-learning neural network creates its own i...\n",
       "Name: title, Length: 3040, dtype: object"
      ]
     },
     "execution_count": 104,
     "metadata": {},
     "output_type": "execute_result"
    }
   ],
   "source": [
    "articles.title"
   ]
  },
  {
   "cell_type": "markdown",
   "id": "49074759-4b26-4684-bd99-de7ab5f2a427",
   "metadata": {},
   "source": [
    "Some of these are in english and some in portugese as expected"
   ]
  },
  {
   "cell_type": "code",
   "execution_count": 105,
   "id": "3aad4cb9-febe-4d0d-9e73-795fd397c1ad",
   "metadata": {
    "tags": []
   },
   "outputs": [
    {
     "data": {
      "text/plain": [
       "'Michael Seibel, Y Combinator Partner, on knowing when you\\'ve found product market fit and when to keep looking. For weekly recaps of The Macro, sign up here . I often talk to founders who believe they\\'ve found product/market fit when they haven\\'t. This is a huge problem because they start hiring people, increasing burn, and optimizing their product before they\\'ve actually discovered what needs to be built. I\\'m writing this post to help you understand when you\\'ve really found product/market fit. To start, read Marc Andreessen\\'s \" On product/market fit for startups \". It has been the single most influential post for me as an entrepreneur and was the first time I ever read the term. Here\\'s how Andreessen defines product/market fit: The customers are buying the product just as fast as you can make it -- or usage is growing just as fast as you can add more servers. Money from customers is piling up in your company checking account. You\\'re hiring sales and customer support staff as fast as you can. To put this another way, you have reached product/market fit when you are overwhelmed with usage-usually to the point where you can\\'t even make major changes to your product because you are swamped just keeping it up and running. Founders often try to signal they\\'ve reached product/market by pointing to their number of employees or a major round of funding. What I look for is a frantic founding team trying to deal with ever-growing numbers of happy, loyal, and ideally paying customers. Until then, stay lean, keep burn low, and resemble a Navy SEAL team instead of an Army battalion. Finding product market fit = focusing on the market first Founders often hold too tightly onto solutions and too loosely onto problems. The problem, i.e. the market, is the real opportunity. Your unique and special v1 idea on how to solve that problem is usually wrong and only through launching, talking to customers, and iterating will you actually find a product that reaches product market fit. Founder genius is most often expressed in choosing the right problem to solve. As Andreessen wrote, \"the market pulls product out of the startup\". At Sequoia, they talk about finding customers who \"have their hair on fire\". As a founder, I never took the time to really understand what that meant and I thought it was just an investor marketing saying. Now, when I talk to founders I extend the metaphor to illustrate it more clearly. If your friend was standing next to you and their hair was on fire, that fire would be the only thing they really cared about in this world. It wouldn\\'t matter if they were hungry, just suffered a bad breakup, or were running late to a meeting-they\\'d prioritize putting the fire out. If you handed them a hose-the perfect product/solution-they would put the fire out immediately and go on their way. If you handed them a brick they would still grab it and try to hit themselves on the head to put out the fire. You need to find problems so dire that users are willing try half-baked, v1, imperfect solutions. At YC, we encourage founders to build MVPs (minimum viable products). In a good market, an MVP is all you need to get your initial customers in the door, interacting with you, and offering the feedback that will inform your v2, v3, and v4. The advantage that small companies have over big ones is that they can move fast, deal with problems by having unusually good customer service, and their customers expect less. So to find product market fit, choose a market where users have a real, meaningful problem, launch quickly, and listen to your users. Once you\\'ve actually reached product/market fit-congratulations-you can begin optimizing your core product, hiring specialists to increase your efficiency, and make strategic investments. Also, you\\'ve made it further than most startups ever dream. Sign up for weekly recaps of The Macro .'"
      ]
     },
     "execution_count": 105,
     "metadata": {},
     "output_type": "execute_result"
    }
   ],
   "source": [
    "articles.text[4]"
   ]
  },
  {
   "cell_type": "markdown",
   "id": "1adeed33-d4fe-427d-a5e5-f90ea68db7fd",
   "metadata": {
    "tags": []
   },
   "source": [
    "This is the raw text of the article it looks reasonably long - personalize has a limit of 20000 characters in one individual field - what is the max number of characters in this field"
   ]
  },
  {
   "cell_type": "code",
   "execution_count": 106,
   "id": "55d731c3-17e7-48c9-9cdd-b936a07e4ec0",
   "metadata": {
    "tags": []
   },
   "outputs": [
    {
     "data": {
      "text/plain": [
       "122568"
      ]
     },
     "execution_count": 106,
     "metadata": {},
     "output_type": "execute_result"
    }
   ],
   "source": [
    "articles.text.apply(len).max()"
   ]
  },
  {
   "cell_type": "markdown",
   "id": "074e058e-3557-41bd-a5bb-6fc8b1b536a5",
   "metadata": {},
   "source": [
    "Thats too many what about the summary is that any better?"
   ]
  },
  {
   "cell_type": "code",
   "execution_count": 107,
   "id": "9db22fd3-4134-4464-9b5c-be8b7f4445db",
   "metadata": {
    "tags": []
   },
   "outputs": [
    {
     "data": {
      "text/plain": [
       "'Michael Seibel, a Y Combinator partner, shares insights on recognizing true product-market fit. Reaching product-market fit means being overwhelmed with happy, loyal, and ideally paying customers - not just having funding or employees. Founders often mistake signals like funding for product-market fit. The real opportunity lies in solving a burning market problem that customers desperately need solved, even with an imperfect initial solution. Founders should choose a market with acute customer pain, launch quickly with an MVP, and iterate based on user feedback. Only after achieving product-market fit should founders optimize the core product, hire specialists, and make strategic investments. Seibel emphasizes focusing on the market problem first, as the \"market pulls product out of the startup.\" Finding product-market fit unlocks further progress that most startups never reach.'"
      ]
     },
     "execution_count": 107,
     "metadata": {},
     "output_type": "execute_result"
    }
   ],
   "source": [
    "articles.article_summary[4]"
   ]
  },
  {
   "cell_type": "code",
   "execution_count": 108,
   "id": "07cff65e-1c94-4170-acd8-016e88f3e52f",
   "metadata": {
    "tags": []
   },
   "outputs": [
    {
     "data": {
      "text/plain": [
       "37231"
      ]
     },
     "execution_count": 108,
     "metadata": {},
     "output_type": "execute_result"
    }
   ],
   "source": [
    "articles.article_summary.apply(len).max()"
   ]
  },
  {
   "cell_type": "code",
   "execution_count": 109,
   "id": "fe94cf3c-6208-48a4-b6e6-c714687599fb",
   "metadata": {
    "tags": []
   },
   "outputs": [
    {
     "data": {
      "text/plain": [
       "<Axes: ylabel='Frequency'>"
      ]
     },
     "execution_count": 109,
     "metadata": {},
     "output_type": "execute_result"
    },
    {
     "data": {
      "image/png": "[encoded data removed]",
      "text/plain": [
       "<Figure size 640x480 with 1 Axes>"
      ]
     },
     "metadata": {},
     "output_type": "display_data"
    }
   ],
   "source": [
    "articles.article_summary.apply(len).plot.hist(bins=100)"
   ]
  },
  {
   "cell_type": "markdown",
   "id": "0abff431-5a35-461f-b041-e8467089ed9f",
   "metadata": {},
   "source": [
    "Longer summaries look rare - how many of them are longer than personalizes limit of 20000 characters?"
   ]
  },
  {
   "cell_type": "code",
   "execution_count": 110,
   "id": "bdb0e538-bb9f-494e-9a2f-7dfa3457b4ec",
   "metadata": {
    "tags": []
   },
   "outputs": [
    {
     "data": {
      "text/plain": [
       "5"
      ]
     },
     "execution_count": 110,
     "metadata": {},
     "output_type": "execute_result"
    }
   ],
   "source": [
    "sum(articles.article_summary.apply(len) > 20000)"
   ]
  },
  {
   "cell_type": "markdown",
   "id": "cd7a6218-a606-4472-91cb-d844c73ac3e9",
   "metadata": {},
   "source": [
    "Only 5 "
   ]
  },
  {
   "cell_type": "markdown",
   "id": "8d48ba60-2f38-427a-949e-c6cacce511f7",
   "metadata": {},
   "source": [
    "Still longer than desired - much better however  - its certainly useful to feed the text of the article to personalize and in this case the summary looks like a much better option now lets take a look at the `article_trigger` and the `article_hook`."
   ]
  },
  {
   "cell_type": "code",
   "execution_count": 112,
   "id": "a2619c71-6d82-4c85-bdb6-315ed2df71f0",
   "metadata": {
    "tags": []
   },
   "outputs": [
    {
     "data": {
      "text/plain": [
       "'Recognizing true product-market fit is key for startups'"
      ]
     },
     "execution_count": 112,
     "metadata": {},
     "output_type": "execute_result"
    }
   ],
   "source": [
    "articles.article_trigger[4]"
   ]
  },
  {
   "cell_type": "code",
   "execution_count": 113,
   "id": "09faa233-64f7-4a6c-be08-549700143e43",
   "metadata": {
    "tags": []
   },
   "outputs": [
    {
     "data": {
      "text/plain": [
       "'Y Combinator partner Michael Seibel shares insights on achieving product-market fit by solving a burning market problem customers desperately need solved, even with an imperfect initial solution.'"
      ]
     },
     "execution_count": 113,
     "metadata": {},
     "output_type": "execute_result"
    }
   ],
   "source": [
    "articles.article_hook[4]"
   ]
  },
  {
   "cell_type": "markdown",
   "id": "e60da9bf-d27f-42fb-b0b5-9305fd7af19c",
   "metadata": {
    "tags": []
   },
   "source": [
    "Typically on a website you would see the hook and the trigger displayed along with an image in someway like this:\n",
    "    \n",
    "[Ethereum platform enables decentralized blockchain applications.](https://somewebsite.com) The Ethereum platform allows developers to build decentralized blockchain applications through smart contracts. Major banks and tech companies are experimenting with it."
   ]
  },
  {
   "cell_type": "markdown",
   "id": "9ffa34ac-f4f1-4800-bce0-1f8d964d5d00",
   "metadata": {},
   "source": [
    "For the sake of training a personalize model we will need to create one text field. To do these we can either drop the unwanted fields or combine the text fields together. We know that users will first see the `article_hook` and the `article_trigger` and then read the text - in this case the `text` field is too long so we will use `article_summary` in place. The best thing to do is probably to concatenate the text fields as follows:\n",
    "\n",
    "`article_trigger` + `article_hook` + `article_summary`"
   ]
  },
  {
   "cell_type": "code",
   "execution_count": 114,
   "id": "6a1a06ed-24bd-4e9a-beba-7fe1bff36b41",
   "metadata": {
    "tags": []
   },
   "outputs": [],
   "source": [
    "articles['training_text'] = articles['article_trigger'] +  '\\n\\n' + articles['article_hook'] + '\\n\\n' +  articles['article_summary']"
   ]
  },
  {
   "cell_type": "code",
   "execution_count": 116,
   "id": "695cea0f-eb2f-4382-b84b-2d9ce9294f08",
   "metadata": {
    "tags": []
   },
   "outputs": [
    {
     "name": "stdout",
     "output_type": "stream",
     "text": [
      "Recognizing true product-market fit is key for startups\n",
      "\n",
      "Y Combinator partner Michael Seibel shares insights on achieving product-market fit by solving a burning market problem customers desperately need solved, even with an imperfect initial solution.\n",
      "\n",
      "Michael Seibel, a Y Combinator partner, shares insights on recognizing true product-market fit. Reaching product-market fit means being overwhelmed with happy, loyal, and ideally paying customers - not just having funding or employees. Founders often mistake signals like funding for product-market fit. The real opportunity lies in solving a burning market problem that customers desperately need solved, even with an imperfect initial solution. Founders should choose a market with acute customer pain, launch quickly with an MVP, and iterate based on user feedback. Only after achieving product-market fit should founders optimize the core product, hire specialists, and make strategic investments. Seibel emphasizes focusing on the market problem first, as the \"market pulls product out of the startup.\" Finding product-market fit unlocks further progress that most startups never reach.\n"
     ]
    }
   ],
   "source": [
    "print(articles['training_text'][4])"
   ]
  },
  {
   "cell_type": "markdown",
   "id": "0ad590e1-304f-4615-96bd-a1512402e21c",
   "metadata": {},
   "source": [
    "How many are above 20,000 characters now?"
   ]
  },
  {
   "cell_type": "code",
   "execution_count": 118,
   "id": "9239b46a-55ae-4bd5-843a-f13d4386060f",
   "metadata": {
    "tags": []
   },
   "outputs": [
    {
     "data": {
      "text/plain": [
       "5"
      ]
     },
     "execution_count": 118,
     "metadata": {},
     "output_type": "execute_result"
    }
   ],
   "source": [
    "sum(articles.training_text.apply(len) > 20000)"
   ]
  },
  {
   "cell_type": "markdown",
   "id": "e35f8c20-7560-48ec-a4b5-5627df24cc99",
   "metadata": {},
   "source": [
    "Now we need to check to see the coverage of text accross our dataset. Amazon Personalize will only consider text fields if they are at least 85% full - if our text data is not 85% full then we can put in place holders for any missing text - lets check"
   ]
  },
  {
   "cell_type": "code",
   "execution_count": 119,
   "id": "31a77058-e8d8-4231-8173-a3668096fd50",
   "metadata": {
    "tags": []
   },
   "outputs": [
    {
     "data": {
      "text/plain": [
       "0.0"
      ]
     },
     "execution_count": 119,
     "metadata": {},
     "output_type": "execute_result"
    }
   ],
   "source": [
    "articles['training_text'].isna().sum() / articles['training_text'].shape[0]"
   ]
  },
  {
   "cell_type": "markdown",
   "id": "226becae-d862-42c8-93a5-a7568fe549ce",
   "metadata": {},
   "source": [
    "OK so for this dataset 0% of the text is missing if the text was missing we could replace it with some kind of placeholder as follows"
   ]
  },
  {
   "cell_type": "code",
   "execution_count": 120,
   "id": "f96ca0d7-96d7-4303-9633-3b8176e91bd6",
   "metadata": {
    "tags": []
   },
   "outputs": [],
   "source": [
    "articles['training_text'].fillna(value=\"MISSING TEXT\", inplace=True)"
   ]
  },
  {
   "cell_type": "markdown",
   "id": "419cda76-4387-41b5-940e-16b1e49ecb7e",
   "metadata": {},
   "source": [
    "looks good - now lets drop all the fields we do not need we will keep only the following fields:\n",
    "\n",
    "1. timestamp\n",
    "1. contentId\n",
    "1. ARTICLE_GENRE\n",
    "1. training_text\n",
    "1. lang"
   ]
  },
  {
   "cell_type": "code",
   "execution_count": 121,
   "id": "b424bcdb-cc5f-46eb-8e44-888abc049511",
   "metadata": {
    "tags": []
   },
   "outputs": [],
   "source": [
    "articles_mlfeatures = articles.drop(columns=articles.columns[~articles.columns.isin(['timestamp', 'contentId', 'article_genre', 'training_text', 'lang'])])"
   ]
  },
  {
   "cell_type": "code",
   "execution_count": 122,
   "id": "7eb78bb2-b7e6-4cb8-bfe3-01351f661176",
   "metadata": {
    "tags": []
   },
   "outputs": [
    {
     "name": "stdout",
     "output_type": "stream",
     "text": [
      "Object `curiosity` not found.\n"
     ]
    }
   ],
   "source": [
    "What type of genres do we have out of curiosity?"
   ]
  },
  {
   "cell_type": "code",
   "execution_count": 123,
   "id": "f38227ca-e225-4e9d-987c-d44351b97776",
   "metadata": {
    "tags": []
   },
   "outputs": [
    {
     "data": {
      "text/plain": [
       "tech                     1213\n",
       "design best practices     460\n",
       "ai                        419\n",
       "other                     306\n",
       "portugese                 300\n",
       "cloud provider news       231\n",
       "crypto currency           111\n",
       "Name: article_genre, dtype: int64"
      ]
     },
     "execution_count": 123,
     "metadata": {},
     "output_type": "execute_result"
    }
   ],
   "source": [
    "articles.article_genre.value_counts()"
   ]
  },
  {
   "cell_type": "markdown",
   "id": "d30d36ba-f0b6-4e03-ba5f-32e861b276e1",
   "metadata": {},
   "source": [
    "Once again Amazon Personalize requires the identifier of an item to be called `item_id` as we discussed before - we will also need to rename the `timestamp` column so it can be used appropriately "
   ]
  },
  {
   "cell_type": "code",
   "execution_count": 124,
   "id": "7242693f-73a2-4f81-82c1-a3bb619048c2",
   "metadata": {
    "tags": []
   },
   "outputs": [],
   "source": [
    "articles_mlfeatures.rename(columns={'timestamp': 'creation_timestamp', \n",
    "                                   'contentId': 'item_id'}, inplace=True)"
   ]
  },
  {
   "cell_type": "markdown",
   "id": "50f5f1eb-6e97-4b3b-bcfd-7f0f130d54a3",
   "metadata": {},
   "source": [
    "Do we have any missing features for any of our articles?"
   ]
  },
  {
   "cell_type": "code",
   "execution_count": 125,
   "id": "06c2191b-8f77-4c85-9b46-dc5d33fe68ec",
   "metadata": {
    "tags": []
   },
   "outputs": [
    {
     "data": {
      "text/plain": [
       "creation_timestamp    0.0\n",
       "item_id               0.0\n",
       "lang                  0.0\n",
       "article_genre         0.0\n",
       "training_text         0.0\n",
       "dtype: float64"
      ]
     },
     "execution_count": 125,
     "metadata": {},
     "output_type": "execute_result"
    }
   ],
   "source": [
    "articles_mlfeatures.isna().mean()"
   ]
  },
  {
   "cell_type": "markdown",
   "id": "36267f46-2bcd-4632-a125-7a06ca57d575",
   "metadata": {},
   "source": [
    "Lets check the timestamp to make sure they are formatted properly for Personalize"
   ]
  },
  {
   "cell_type": "code",
   "execution_count": 126,
   "id": "cc19a0bb-a9ba-4000-8f29-1a573bc1fa87",
   "metadata": {
    "tags": []
   },
   "outputs": [
    {
     "data": {
      "text/plain": [
       "0       2016-06-14 02:13:59\n",
       "2       2017-01-24 14:04:25\n",
       "3       2016-04-24 20:57:07\n",
       "4       2016-07-04 17:24:25\n",
       "5       2016-08-11 05:22:48\n",
       "               ...         \n",
       "3117    2017-02-24 14:30:04\n",
       "3118    2016-06-10 17:57:54\n",
       "3119    2016-04-20 04:14:39\n",
       "3120    2016-05-05 14:49:45\n",
       "3121    2016-04-27 08:54:01\n",
       "Name: creation_timestamp, Length: 3040, dtype: object"
      ]
     },
     "execution_count": 126,
     "metadata": {},
     "output_type": "execute_result"
    }
   ],
   "source": [
    "articles_mlfeatures.creation_timestamp.apply(custom_func)"
   ]
  },
  {
   "cell_type": "markdown",
   "id": "c2281b09-8c27-49f9-8d58-6057b9415410",
   "metadata": {},
   "source": [
    "What is the last date that we see"
   ]
  },
  {
   "cell_type": "code",
   "execution_count": 127,
   "id": "6341e513-42d1-4107-b9cd-3096e5ebf10c",
   "metadata": {
    "tags": []
   },
   "outputs": [
    {
     "data": {
      "text/plain": [
       "'2017-02-28 18:51:11'"
      ]
     },
     "execution_count": 127,
     "metadata": {},
     "output_type": "execute_result"
    }
   ],
   "source": [
    "custom_func(articles_mlfeatures.creation_timestamp.max())"
   ]
  },
  {
   "cell_type": "markdown",
   "id": "9e6bc5e1-9bcf-4a71-8a55-db6e65dc785c",
   "metadata": {},
   "source": [
    "What is the first date that we see"
   ]
  },
  {
   "cell_type": "code",
   "execution_count": 128,
   "id": "a2b201a9-d4a2-44b5-9279-94de7b3187b1",
   "metadata": {
    "tags": []
   },
   "outputs": [
    {
     "data": {
      "text/plain": [
       "'2016-03-28 19:39:48'"
      ]
     },
     "execution_count": 128,
     "metadata": {},
     "output_type": "execute_result"
    }
   ],
   "source": [
    "custom_func(articles_mlfeatures.creation_timestamp.min())"
   ]
  },
  {
   "cell_type": "markdown",
   "id": "3ddd0558-8896-43c8-a9f0-11ec6f7ff25a",
   "metadata": {},
   "source": [
    "Lets clean the article text so it can more easily processed by personalize the helper function below processes and cleans the text so that personalize can process it"
   ]
  },
  {
   "cell_type": "code",
   "execution_count": 129,
   "id": "31313b1e-0ee7-4b1f-8efd-71675c54fe55",
   "metadata": {
    "tags": []
   },
   "outputs": [],
   "source": [
    "def process_text(text: str) -> str:\n",
    "    \"\"\"\n",
    "    This function exists to process text prior to using it to create a personalize model it takes as an input a text string and returns a text string\n",
    "    \"\"\"\n",
    "\n",
    "    if type(text) == str:\n",
    "        html_text = text.replace(\"<p>&nbsp;</p>\", \"\")  # remove &nbsp from the text\n",
    "        html_text = html_text.replace(\"<p></p>\", \"\")  # remove <p></p> from the text\n",
    "        html_text = html_text.replace(\"<p> </p>\", \"\")  # remove <p> </p> from the text\n",
    "\n",
    "        # remove hyper links form the text\n",
    "\n",
    "        a_pattern = re.compile(\"<a.*?>\")\n",
    "        html_text = re.sub(a_pattern, \"\", html_text)\n",
    "        html_text = html_text.replace(\"</a>\", \"\")\n",
    "\n",
    "        # remove spans from the text\n",
    "        span_pattern = re.compile(\"<span.*?>\")\n",
    "        html_text = re.sub(span_pattern, \"\", html_text)\n",
    "        html_text = html_text.replace(\"</span>\", \"\")\n",
    "\n",
    "        class_pattern = re.compile(\"<class.*?>\")\n",
    "        html_text = re.sub(class_pattern, \"\", html_text)\n",
    "        html_text = html_text.replace(\"</class>\", \"\")\n",
    "\n",
    "        # remove <b> and </b> from the text\n",
    "        html_text = html_text.replace(\"<b>\", \"\")\n",
    "        html_text = html_text.replace(\"</b>\", \"\")\n",
    "\n",
    "        # remove .  . and \\n from the text\n",
    "        html_text = html_text.replace(\"\\n\", \" \")\n",
    "\n",
    "        # remove .  . and @ from the text\n",
    "        html_text = html_text.replace(\"@\", \"\")\n",
    "\n",
    "        # remove .  . and - from the text\n",
    "        html_text = html_text.replace(\"-\", \" \")\n",
    "        \n",
    "        # add escapes to single quotes\n",
    "        html_text = html_text.replace(\"\\\"\", \"\\\\\\\"\")\n",
    "\n",
    "        # remove HTML\n",
    "        cleanr = re.compile(\"^.*?>|<.*?>|&([a-z0-9]+|#[0-9]{1,6}|#x[0-9a-f]{1,6});\")\n",
    "        html_text = re.sub(cleanr, \"\", html_text)\n",
    "\n",
    "        # remove extra space etc.\n",
    "        html_text = \" \".join(html_text.split())\n",
    "\n",
    "        # specifics for Amazon dataset\n",
    "        html_text = html_text.replace(\".  .\", \"\")\n",
    "        warnings.simplefilter(\"ignore\", MarkupResemblesLocatorWarning)\n",
    "        soup = BeautifulSoup(html_text, \"html.parser\")\n",
    "        text = soup.find_all(string=True)\n",
    "\n",
    "        for index, t in enumerate(text):\n",
    "            if t[-1] != \".\":\n",
    "                text[index] += \".\"\n",
    "\n",
    "        return \" \".join(text).strip()\n",
    "\n",
    "    else:\n",
    "        return \" \"\n",
    "    "
   ]
  },
  {
   "cell_type": "code",
   "execution_count": 130,
   "id": "b7f64b5a-7a03-4dcc-8642-9a87b5040b49",
   "metadata": {
    "tags": []
   },
   "outputs": [],
   "source": [
    "articles_mlfeatures.training_text = articles_mlfeatures.training_text.apply(process_text)"
   ]
  },
  {
   "cell_type": "markdown",
   "id": "d1d7ff73-caa5-4bdb-990e-7b953e3d36e4",
   "metadata": {},
   "source": [
    "One Final Check"
   ]
  },
  {
   "cell_type": "code",
   "execution_count": 131,
   "id": "74052312-d088-4731-a7a1-9220dab9559c",
   "metadata": {
    "tags": []
   },
   "outputs": [
    {
     "data": {
      "text/html": [
       "<div>\n",
       "<style scoped>\n",
       "    .dataframe tbody tr th:only-of-type {\n",
       "        vertical-align: middle;\n",
       "    }\n",
       "\n",
       "    .dataframe tbody tr th {\n",
       "        vertical-align: top;\n",
       "    }\n",
       "\n",
       "    .dataframe thead th {\n",
       "        text-align: right;\n",
       "    }\n",
       "</style>\n",
       "<table border=\"1\" class=\"dataframe\">\n",
       "  <thead>\n",
       "    <tr style=\"text-align: right;\">\n",
       "      <th></th>\n",
       "      <th>creation_timestamp</th>\n",
       "      <th>item_id</th>\n",
       "      <th>lang</th>\n",
       "      <th>article_genre</th>\n",
       "      <th>training_text</th>\n",
       "    </tr>\n",
       "  </thead>\n",
       "  <tbody>\n",
       "    <tr>\n",
       "      <th>0</th>\n",
       "      <td>1465870439</td>\n",
       "      <td>-9222795471790223670</td>\n",
       "      <td>en</td>\n",
       "      <td>tech</td>\n",
       "      <td>Uber launches on demand helicopter service in ...</td>\n",
       "    </tr>\n",
       "    <tr>\n",
       "      <th>2</th>\n",
       "      <td>1485266665</td>\n",
       "      <td>-9194572880052200111</td>\n",
       "      <td>en</td>\n",
       "      <td>tech</td>\n",
       "      <td>STEMtera combines Arduino board with protoboar...</td>\n",
       "    </tr>\n",
       "    <tr>\n",
       "      <th>3</th>\n",
       "      <td>1461531427</td>\n",
       "      <td>-9192549002213406534</td>\n",
       "      <td>en</td>\n",
       "      <td>tech</td>\n",
       "      <td>Chrome OS is getting a material design overhau...</td>\n",
       "    </tr>\n",
       "    <tr>\n",
       "      <th>4</th>\n",
       "      <td>1467653065</td>\n",
       "      <td>-9190737901804729417</td>\n",
       "      <td>en</td>\n",
       "      <td>design best practices</td>\n",
       "      <td>Recognizing true product market fit is key for...</td>\n",
       "    </tr>\n",
       "    <tr>\n",
       "      <th>5</th>\n",
       "      <td>1470892968</td>\n",
       "      <td>-9189659052158407108</td>\n",
       "      <td>en</td>\n",
       "      <td>tech</td>\n",
       "      <td>Apple Executives Discuss Lessons Learned from ...</td>\n",
       "    </tr>\n",
       "  </tbody>\n",
       "</table>\n",
       "</div>"
      ],
      "text/plain": [
       "   creation_timestamp              item_id lang          article_genre  \\\n",
       "0          1465870439 -9222795471790223670   en                   tech   \n",
       "2          1485266665 -9194572880052200111   en                   tech   \n",
       "3          1461531427 -9192549002213406534   en                   tech   \n",
       "4          1467653065 -9190737901804729417   en  design best practices   \n",
       "5          1470892968 -9189659052158407108   en                   tech   \n",
       "\n",
       "                                       training_text  \n",
       "0  Uber launches on demand helicopter service in ...  \n",
       "2  STEMtera combines Arduino board with protoboar...  \n",
       "3  Chrome OS is getting a material design overhau...  \n",
       "4  Recognizing true product market fit is key for...  \n",
       "5  Apple Executives Discuss Lessons Learned from ...  "
      ]
     },
     "execution_count": 131,
     "metadata": {},
     "output_type": "execute_result"
    }
   ],
   "source": [
    "articles_mlfeatures.head(5)"
   ]
  },
  {
   "cell_type": "markdown",
   "id": "83e2da2b-1818-4067-b9d2-b09f970b4a36",
   "metadata": {},
   "source": [
    "Looks good lets save and create a schema for this dataset"
   ]
  },
  {
   "cell_type": "code",
   "execution_count": 132,
   "id": "9d9ab476-7ed5-4bc1-8222-08349697599e",
   "metadata": {
    "tags": []
   },
   "outputs": [],
   "source": [
    "items_file_name = \"deskdrop_articles_automated.csv\"\n",
    "\n",
    "articles_mlfeatures.to_csv(\"poc_data/\" + items_file_name,\n",
    "                            index=False, \n",
    "                            float_format='%.0f',\n",
    "                            quoting=csv.QUOTE_NONNUMERIC,\n",
    "                            doublequote=False,\n",
    "                            escapechar='\\\\')"
   ]
  },
  {
   "cell_type": "markdown",
   "id": "f0746082-61cb-47bb-a078-784e6007f540",
   "metadata": {},
   "source": [
    "## Create the Items (Articles) schema<a class=\"anchor\" id=\"items_schema\"></a>\n",
    "[Back to top](#top)\n",
    "\n",
    "The items dataset schema requires an `ITEM_ID` column and at least one metadata column. Up to 100 metadata columns can be added to the items dataset. adding an article `CREATION_TIMESTAMP` is recommended as it will assist personalize with exploration and recommending new articles\n",
    "\n",
    "For this dataset we have three metadata columns: `LANG`, `ARTICLE_GENRE`, and `TRAINING_TEXT`\n",
    "\n",
    "Note that `LANG`, `ARTICLE_GENRE` are annotated as being categorical (`\"categorical\": True`). In this case though we also have a field annotated as textual (`\"textual\": True`) - personalize can process one text field in its item dataset."
   ]
  },
  {
   "cell_type": "code",
   "execution_count": 133,
   "id": "45458fc7-ce85-4008-bd58-d087f5f34352",
   "metadata": {
    "tags": []
   },
   "outputs": [],
   "source": [
    "items_schema = {\n",
    "    \"type\": \"record\",\n",
    "    \"name\": \"Items\",\n",
    "    \"namespace\": \"com.amazonaws.personalize.schema\",\n",
    "    \"fields\": [\n",
    "        {\n",
    "            \"name\": \"ITEM_ID\",\n",
    "            \"type\": \"string\"\n",
    "        },\n",
    "        {\n",
    "            \"name\": \"CREATION_TIMESTAMP\",\n",
    "            \"type\": \"long\"\n",
    "        },\n",
    "        {\n",
    "            \"name\": \"TRAINING_TEXT\",\n",
    "            \"type\": [\"null\", \"string\"],\n",
    "            \"textual\": True,\n",
    "        },\n",
    "        {\n",
    "            \"name\": \"LANG\",\n",
    "            \"type\": \"string\",\n",
    "            \"categorical\": True\n",
    "        },\n",
    "        {\n",
    "            \"name\": \"ARTICLE_GENRE\",\n",
    "            \"type\": \"string\",\n",
    "            \"categorical\": True\n",
    "        }\n",
    "    ],\n",
    "    \"version\": \"1.0\"\n",
    "}"
   ]
  },
  {
   "cell_type": "code",
   "execution_count": 134,
   "id": "4566bfe8-97a5-4848-a49e-614272a618fd",
   "metadata": {
    "tags": []
   },
   "outputs": [
    {
     "name": "stdout",
     "output_type": "stream",
     "text": [
      "{\n",
      "  \"schemaArn\": \"arn:aws:personalize:us-east-1:381491864570:schema/immersion_day_news_items_schema\",\n",
      "  \"ResponseMetadata\": {\n",
      "    \"RequestId\": \"f40701e7-7497-46a6-9128-809073e45d7f\",\n",
      "    \"HTTPStatusCode\": 200,\n",
      "    \"HTTPHeaders\": {\n",
      "      \"date\": \"Mon, 22 Jul 2024 13:40:53 GMT\",\n",
      "      \"content-type\": \"application/x-amz-json-1.1\",\n",
      "      \"content-length\": \"97\",\n",
      "      \"connection\": \"keep-alive\",\n",
      "      \"x-amzn-requestid\": \"f40701e7-7497-46a6-9128-809073e45d7f\",\n",
      "      \"strict-transport-security\": \"max-age=47304000; includeSubDomains\",\n",
      "      \"x-frame-options\": \"DENY\",\n",
      "      \"cache-control\": \"no-cache\",\n",
      "      \"x-content-type-options\": \"nosniff\"\n",
      "    },\n",
      "    \"RetryAttempts\": 0\n",
      "  }\n",
      "}\n",
      "\n",
      "Creating the Items Schema with workshop_items_schema_arn = arn:aws:personalize:us-east-1:381491864570:schema/immersion_day_news_items_schema\n"
     ]
    }
   ],
   "source": [
    "try:\n",
    "    # Try to create the items dataset schema, this block with exectute fully \n",
    "    # if the items dataset schema does not exist yet\n",
    "    \n",
    "    create_schema_response = personalize.create_schema(\n",
    "        name = items_schema_name,\n",
    "        schema = json.dumps(items_schema),\n",
    "    )\n",
    "    workshop_items_schema_arn = create_schema_response['schemaArn']\n",
    "    print(json.dumps(create_schema_response, indent=2))\n",
    "\n",
    "    print ('\\nCreating the Items Schema with workshop_items_schema_arn = {}'.format(workshop_items_schema_arn))\n",
    "    \n",
    "except personalize.exceptions.ResourceAlreadyExistsException:\n",
    "    # if the items dataset schema already exists, get the unique identifier workshop_items_schema_arn \n",
    "    # from the existing resource \n",
    "    \n",
    "    workshop_items_schema_arn = 'arn:aws:personalize:'+region+':'+account_id+':schema/'+items_schema_name \n",
    "    print('The schema {} already exists.'.format(workshop_items_schema_arn))\n",
    "    print ('\\nWe will be using the existing Items Schema with workshop_items_schema_arn = {}'.format(workshop_items_schema_arn))"
   ]
  },
  {
   "cell_type": "markdown",
   "id": "1a1d797c-5fb6-49db-be9f-1130a9058af2",
   "metadata": {},
   "source": [
    "# Creating Dataset Group and Importing data <a class=\"anchor\" id=\"import\"></a>"
   ]
  },
  {
   "cell_type": "markdown",
   "id": "f848a18d-5fc3-4cb0-a61b-e562f9651b22",
   "metadata": {},
   "source": [
    "## Configure an S3 bucket and an IAM  role <a class=\"anchor\" id=\"bucket_role\"></a>\n",
    "\n",
    "So far, we have downloaded, manipulated, and saved the data onto the Amazon EBS instance attached to the instance running this Jupyter notebook.  \n",
    "\n",
    "By default, the Personalize service does not have permission to access the data we upload into  S3 buckets in our account. In order to grant access to the Amazon Personalize service to interact with our S3 Buckets, we need to set a Bucket Policy and create an IAM role that the Amazon Personalize service will assume. If you are running this notebook without also running the Pretrained cloud formation template in the root folder then you will need to grant this Notebook substantial permissions in order to be able to run the code correctly.\n",
    "\n",
    "If you are running this with the pretrained cloud formation template `PersonalizeIDPretrained.yaml` then the notebook will not need that level of permissioning and will obtain the permissions from the bucket created as part of the automation process for demonstration.\n",
    "\n",
    "Use the metadata stored on the instance underlying this Amazon SageMaker notebook, to determine the region it is operating in. If you are using a Jupyter notebook outside of Amazon SageMaker, simply define the region as a string below. The Amazon S3 bucket needs to be in the same region as the Amazon Personalize resources we have been creating so far.\n",
    "\n",
    "First, let us get the current notebook region."
   ]
  },
  {
   "cell_type": "code",
   "execution_count": 135,
   "id": "3fb43108-48d2-4329-bfc4-306b182246c9",
   "metadata": {
    "tags": []
   },
   "outputs": [
    {
     "name": "stdout",
     "output_type": "stream",
     "text": [
      "region: us-east-1\n"
     ]
    }
   ],
   "source": [
    "with open('/opt/ml/metadata/resource-metadata.json') as notebook_info:\n",
    "    data = json.load(notebook_info)\n",
    "    resource_arn = data['ResourceArn']\n",
    "    region = resource_arn.split(':')[3]\n",
    "\n",
    "# To use a different region use:\n",
    "# region = <your_region>\n",
    "\n",
    "print('region:', region)"
   ]
  },
  {
   "cell_type": "markdown",
   "id": "6245f8c9-d2a6-4509-bb85-b28b735b968d",
   "metadata": {},
   "source": [
    "Amazon S3 bucket names are globally unique. To create a unique bucket name, the code below will append the string `personalize-poc-publishing` to your AWS account number. Then it creates a bucket with this name in the region discovered in the previous cell. Note if you have already created a bucket as part of the cloud formation automation then the cell below will return information on that previously created bucket."
   ]
  },
  {
   "cell_type": "code",
   "execution_count": 136,
   "id": "8077fd8d-ecf7-4b43-9908-aad934aefc7f",
   "metadata": {
    "tags": []
   },
   "outputs": [
    {
     "name": "stdout",
     "output_type": "stream",
     "text": [
      "Bucket created as part of cloud formation template found\n",
      "bucket_name: test-stack-3-mlopsstack-1ksuxvta-personalizebucket-evtxjufeydvb\n"
     ]
    }
   ],
   "source": [
    "# Configure the SDK to SSM:\n",
    "ssm = boto3.client('ssm')\n",
    "s3 = boto3.client('s3')\n",
    "bucket_found = False\n",
    "try:\n",
    "    personalizes3bucket = ssm.get_parameter(Name='/cloudformation/personalize-s3-bucket', WithDecryption=False)\n",
    "    bucket_name = personalizes3bucket['Parameter']['Value']\n",
    "    print('Bucket created as part of cloud formation template found')\n",
    "    print('bucket_name:', bucket_name)\n",
    "    bucket_found=True\n",
    "except:\n",
    "    \n",
    "    account_id = boto3.client('sts').get_caller_identity().get('Account')\n",
    "    bucket_name = account_id + \"-\" + region + \"-\" + \"personalize-poc-publishing\"\n",
    "\n",
    "    #getting existing buckets in the account\n",
    "    response = s3.list_buckets()\n",
    "\n",
    "    if bucket_name in [x['Name'] for x in response['Buckets']]:\n",
    "        print(\"The bucket already exists.\")\n",
    "    else:\n",
    "        if region == \"us-east-1\":\n",
    "            bucket_responese = s3.create_bucket(Bucket=bucket_name)\n",
    "        else:\n",
    "            bucket_responese = s3.create_bucket(\n",
    "                Bucket=bucket_name,\n",
    "                CreateBucketConfiguration={'LocationConstraint': region}\n",
    "                )\n",
    "    print('bucket_name:', bucket_name)"
   ]
  },
  {
   "cell_type": "markdown",
   "id": "4b31a402-fffe-4374-bc6d-7643fc06a05f",
   "metadata": {},
   "source": [
    "Amazon Personalize needs to be able to read the contents of your S3 bucket. The policy which enables personalize to access the contents of the S3 bucket is below.\n",
    "\n",
    "```python\n",
    "policy = {\n",
    "    \"Version\": \"2012-10-17\",\n",
    "    \"Id\": \"PersonalizeS3BucketAccessPolicy\",\n",
    "    \"Statement\": [\n",
    "        {\n",
    "            \"Sid\": \"PersonalizeS3BucketAccessPolicy\",\n",
    "            \"Effect\": \"Allow\",\n",
    "            \"Principal\": {\n",
    "                \"Service\": \"personalize.amazonaws.com\"\n",
    "            },\n",
    "            \"Action\": [\n",
    "                \"s3:*Object\",\n",
    "                \"s3:ListBucket\"\n",
    "            ],\n",
    "            \"Resource\": [\n",
    "                \"arn:aws:s3:::{}\".format(bucket_name),\n",
    "                \"arn:aws:s3:::{}/*\".format(bucket_name)\n",
    "            ]\n",
    "        }\n",
    "    ]\n",
    "}\n",
    "```\n",
    "\n",
    "This S3 bucket policy allows Amazon Personalize to be able to read the contents of your S3 bucket. The code below creates and adds the policy to the bucket it created in the last step. If the bucket was created as part of the automation script then it merely shows the bucket that it created."
   ]
  },
  {
   "cell_type": "code",
   "execution_count": 137,
   "id": "5d201cdd-e265-4029-bada-cd1107efd192",
   "metadata": {
    "tags": []
   },
   "outputs": [
    {
     "name": "stdout",
     "output_type": "stream",
     "text": [
      "Policy for bucket created as part of cloud formation template:\n",
      "{'Version': '2012-10-17', 'Id': 'PersonalizeS3BucketAccessPolicy', 'Statement': [{'Effect': 'Allow', 'Principal': {'Service': 'personalize.amazonaws.com'}, 'Action': ['s3:GetObject', 's3:PutObject', 's3:ListBucket'], 'Resource': ['arn:aws:s3:::test-stack-3-mlopsstack-1ksuxvta-personalizebucket-evtxjufeydvb', 'arn:aws:s3:::test-stack-3-mlopsstack-1ksuxvta-personalizebucket-evtxjufeydvb/*']}]}\n"
     ]
    }
   ],
   "source": [
    "if bucket_found:\n",
    "    bucket_current_policy = s3.get_bucket_policy(Bucket=bucket_name)['Policy']\n",
    "    print(\"Policy for bucket created as part of cloud formation template:\")\n",
    "    print(json.loads(bucket_current_policy))\n",
    "else:\n",
    "    policy = {\n",
    "        \"Version\": \"2012-10-17\",\n",
    "        \"Id\": \"PersonalizeS3BucketAccessPolicy\",\n",
    "        \"Statement\": [\n",
    "            {\n",
    "                \"Sid\": \"PersonalizeS3BucketAccessPolicy\",\n",
    "                \"Effect\": \"Allow\",\n",
    "                \"Principal\": {\n",
    "                    \"Service\": \"personalize.amazonaws.com\"\n",
    "                },\n",
    "                \"Action\": [\n",
    "                    \"s3:GetObject\",\n",
    "                    \"s3:ListBucket\",\n",
    "                    \"s3:PutObject\"\n",
    "                ],\n",
    "                \"Resource\": [\n",
    "                    \"arn:aws:s3:::{}\".format(bucket_name),\n",
    "                    \"arn:aws:s3:::{}/*\".format(bucket_name)\n",
    "                ]\n",
    "            }\n",
    "        ]\n",
    "    }\n",
    "\n",
    "    bucket_current_policy = None\n",
    "\n",
    "    try:\n",
    "        bucket_current_policy = s3.get_bucket_policy(Bucket=bucket_name)['Policy']\n",
    "\n",
    "    except s3.exceptions.from_code('NoSuchBucketPolicy') as e:    \n",
    "        print(\"There is no current Bucket Policy for bucket \" + bucket_name)\n",
    "\n",
    "    except Exception as e: \n",
    "        raise(e)\n",
    "\n",
    "    if (bucket_current_policy and policy == json.loads(bucket_current_policy)):\n",
    "        print (\"The policy is already associated with the S3 Bucket.\")\n",
    "    else:\n",
    "        print (\"Adding the policy to the bucket.\")\n",
    "        print(s3.put_bucket_policy(Bucket=bucket_name, Policy=json.dumps(policy)))"
   ]
  },
  {
   "cell_type": "markdown",
   "id": "f7e3eade-05f7-4526-82b5-61610aa699e5",
   "metadata": {},
   "source": [
    "### Create an IAM role\n",
    "\n",
    "Amazon Personalize also needs the ability to assume roles in AWS in order to have the permissions to execute certain tasks. Let's create an IAM role and attach the required policies to it. The code below attaches broad policies. You should use [more restrictive, least-privilege policies for production applications](https://docs.aws.amazon.com/IAM/latest/UserGuide/best-practices.html#grant-least-privilege). If you have run the cloud formation template the role will have been automatically created and we will simply obtain that one."
   ]
  },
  {
   "cell_type": "code",
   "execution_count": 138,
   "id": "6dccd526-0f76-4171-937c-68df84a00c2b",
   "metadata": {
    "tags": []
   },
   "outputs": [
    {
     "name": "stdout",
     "output_type": "stream",
     "text": [
      "Cloud formation template used - skipping creation of IAM role and needed policies for Personalize as they were already created as part of the automation script\n"
     ]
    }
   ],
   "source": [
    "if bucket_found:\n",
    "    print(\"Cloud formation template used - skipping creation of IAM role and needed policies for Personalize as they were already created as part of the automation script\")\n",
    "    role_arn_info = ssm.get_parameter(Name='/cloudformation/personalize-iam-role-arn', WithDecryption=False)\n",
    "    role_arn = role_arn_info['Parameter']['Value']\n",
    "    role_name = role_arn.split('/')[1]\n",
    "else:\n",
    "    iam = boto3.client(\"iam\")\n",
    "\n",
    "    role_name = account_id+\"-PersonalizeS3-Immersion-Day\"\n",
    "    assume_role_policy_document = {\n",
    "        \"Version\": \"2012-10-17\",\n",
    "        \"Statement\": [\n",
    "            {\n",
    "                \"Effect\": \"Allow\",\n",
    "                \"Principal\": {\n",
    "                \"Service\": \"personalize.amazonaws.com\"\n",
    "              },\n",
    "                \"Action\": \"sts:AssumeRole\"\n",
    "            }\n",
    "        ]\n",
    "    }\n",
    "\n",
    "    # Create policy\n",
    "\n",
    "    s3_access_policy_document = {\n",
    "        \"Version\": \"2012-10-17\",\n",
    "        \"Statement\": {\n",
    "                \"Sid\" : \"myStatement\" ,\n",
    "                \"Effect\": \"Allow\",\n",
    "                \"Resource\": [\n",
    "                    \"arn:aws:s3:::{}\".format(bucket_name),\n",
    "                    \"arn:aws:s3:::{}/*\".format(bucket_name)\n",
    "                ],\n",
    "                \"Action\": \"s3:*\"\n",
    "            }\n",
    "    }\n",
    "\n",
    "    try: \n",
    "\n",
    "        policy_response = iam.create_policy(\n",
    "            PolicyName='restrictedS3Access',\n",
    "            PolicyDocument=json.dumps(s3_access_policy_document),\n",
    "            Description='Restricts access to only workshop S3 bucket'\n",
    "        )\n",
    "\n",
    "        s3_access_policy_arn = policy_response['Policy']['Arn']\n",
    "\n",
    "        print (\"s3_access_policy_arn:{}\".format(s3_access_policy_arn))\n",
    "    except:\n",
    "        s3_access_policy_arn = 'arn:aws:iam::{}:policy/restrictedS3Access'.format(account_id)\n",
    "        print ('The policy {} already exists.'.format(s3_access_policy_arn))\n",
    "        print ('Using the existing policy')\n",
    "\n",
    "\n",
    "    try:\n",
    "        create_role_response = iam.create_role(\n",
    "            RoleName = role_name,\n",
    "            AssumeRolePolicyDocument = json.dumps(assume_role_policy_document),\n",
    "        );\n",
    "        role_arn = create_role_response[\"Role\"][\"Arn\"]\n",
    "\n",
    "        print (\"10s pause to allow role to be fully consistent.\")\n",
    "        time.sleep(10)\n",
    "\n",
    "    except iam.exceptions.EntityAlreadyExistsException as e:\n",
    "        print('Warning: role already exists:', e)\n",
    "        role_arn = iam.get_role(\n",
    "            RoleName = role_name\n",
    "        )[\"Role\"][\"Arn\"];\n",
    "\n",
    "    print('IAM Role: {}\\n'.format(role_arn))\n",
    "\n",
    "    # Attach the policy if it is not previously attached:\n",
    "    if (s3_access_policy_arn in [ x['PolicyArn'] for x in iam.list_attached_role_policies( RoleName = role_name)['AttachedPolicies']]):\n",
    "        print ('The policy {} is already attached to this role.'.format(s3_access_policy_arn))\n",
    "    else:\n",
    "        print (\"Attaching the role_policy: {}\".format(s3_access_policy_arn))\n",
    "        attach_response = iam.attach_role_policy(\n",
    "            RoleName = role_name,\n",
    "            PolicyArn = s3_access_policy_arn\n",
    "        );\n",
    "        print (\"30s pause to allow role to be fully consistent.\")\n",
    "        time.sleep(30)\n",
    "        print('Done.')"
   ]
  },
  {
   "cell_type": "markdown",
   "id": "659f47f7-69fb-4af1-b8cb-95abff184c11",
   "metadata": {},
   "source": [
    "### Upload data to S3\n",
    "\n",
    "Now that your Amazon S3 bucket has been created, upload the CSV files of our 3 datasets (Item, Interaction and User).\n",
    "\n",
    "<div class=\"alert alert-block alert-warning\">\n",
    "<b>Note:</b> NOTE: We will cover how to import real-time data in a future notebook..\n",
    "</div>"
   ]
  },
  {
   "cell_type": "code",
   "execution_count": 139,
   "id": "b1ab138f-4fd0-4381-a38f-cc61ed905add",
   "metadata": {
    "tags": []
   },
   "outputs": [
    {
     "name": "stdout",
     "output_type": "stream",
     "text": [
      "File deskdrop_interactions_automated.csv uploaded to bucket test-stack-3-mlopsstack-1ksuxvta-personalizebucket-evtxjufeydvb\n",
      "poc_data/deskdrop_articles_automated.csv already exists in the bucket test-stack-3-mlopsstack-1ksuxvta-personalizebucket-evtxjufeydvb\n"
     ]
    }
   ],
   "source": [
    "interactions_file_path = data_dir + \"/\" + interactions_file_name\n",
    "\n",
    "try:\n",
    "    s3.get_object(\n",
    "        Bucket=bucket_name,\n",
    "        Key=interactions_file_path,\n",
    "    )\n",
    "    print(\"{} already exists in the bucket {}\".format(interactions_file_path, bucket_name))\n",
    "except s3.exceptions.NoSuchKey:\n",
    "    # Uploading the file if it does not already exist\n",
    "    boto3.Session().resource('s3').Bucket(bucket_name).Object(interactions_file_name).upload_file(interactions_file_path)\n",
    "    print(\"File {} uploaded to bucket {}\".format(interactions_file_name, bucket_name))\n",
    "\n",
    "items_file_path = data_dir + \"/\" + items_file_name\n",
    "try:\n",
    "    s3.get_object(\n",
    "        Bucket=bucket_name,\n",
    "        Key=items_file_name,\n",
    "    )\n",
    "    print(\"{} already exists in the bucket {}\".format(items_file_path, bucket_name))\n",
    "except s3.exceptions.NoSuchKey:\n",
    "    # Uploading the file if it does not already exist     \n",
    "    boto3.Session().resource('s3').Bucket(bucket_name).Object(items_file_name).upload_file(items_file_path)\n",
    "    print(\"File {} uploaded to bucket {}\".format(items_file_name, bucket_name))\n",
    "\n",
    "except s3.exceptions.NoSuchKey:\n",
    "    # Uploading the file if it does not already exist\n",
    "    boto3.Session().resource('s3').Bucket(bucket_name).Object(users_file_name).upload_file(users_file_path)\n",
    "    print(\"File {} uploaded to bucket {}\".format(users_file_name, bucket_name))"
   ]
  },
  {
   "cell_type": "markdown",
   "id": "a823fe35-0265-440d-918f-3d14822e2a68",
   "metadata": {},
   "source": [
    "## Create dataset group <a class=\"anchor\" id=\"group_dataset\"></a>\n",
    "[Back to top](#top)\n",
    "\n",
    "The highest level of isolation and abstraction with Amazon Personalize is a *dataset group*. Information stored within one of these dataset groups has no impact on any other dataset group or models created from one – they are completely isolated. This allows you to run many experiments and is part of how we keep your models private and fully trained only on your data. \n",
    "\n",
    "Before importing the data prepared earlier, there needs to be a dataset group and a dataset added to it that handles the interactions.\n",
    "\n",
    "Dataset groups can house the following types of information:\n",
    "\n",
    "* User-item-interactions\n",
    "* Event streams (real-time interactions)\n",
    "* User metadata\n",
    "* Item metadata\n",
    "\n",
    "We need to create the dataset group that will contain our three datasets.\n",
    "\n",
    "Your dataset group can be one of the following types:\n",
    "\n",
    "* A Domain dataset group, where you create preconfigured resources for different business domains and use cases, such as getting recommendations for similar videos (VIDEO_ON_DEMAND domain) or best selling items (ECOMMERCE domain). You choose your business domain, import your data, and create recommenders. You use recommenders in your application to get recommendations. Use a [Domain dataset group](https://docs.aws.amazon.com/personalize/latest/dg/domain-dataset-groups.html) if you have a video on demand or e-commerce application and want Amazon Personalize to find the best configurations for your use cases. If you start with a Domain dataset group, you can also add custom resources such as solutions with solution versions trained with recipes for custom use cases.\n",
    "\n",
    "\n",
    "* A [Custom dataset group](https://docs.aws.amazon.com/personalize/latest/dg/custom-dataset-groups.html), where you create configurable resources for custom use cases and batch recommendation workflows. You select a recipe, train a solution version (model), and deploy the solution version with a campaign. You use a campaign in your application to get recommendations. Use a Custom dataset group if you don't have a video on demand or e-commerce application or want to configure and manage only custom resources, or want to get recommendations in a batch workflow. If you start with a Custom dataset group, you can't associate it with a domain later. Instead, create a new Domain dataset group.\n",
    "\n",
    "You can create and manage Domain dataset groups and Custom dataset groups with the AWS console, the AWS Command Line Interface (AWS CLI), or programmatically with the AWS SDKs.\n",
    "\n",
    "<div class=\"alert alert-block alert-warning\">\n",
    "<b>Note:</b> If you are running this as part of an AWS workshop, the resources have been created ahead of time, this is to eliminate the time spent waiting for the data to import, models to train and recommenders to deploy. In these notebooks will check to see if the resources exist and use them. You may see “Resource X Already exists” messages, if you run these notebooks in your own account, it will create these resources, which will add approximately 90 minutes to this workshop.\n",
    "</div>\n"
   ]
  },
  {
   "cell_type": "markdown",
   "id": "6528f6e5-791a-4791-bd27-4a594e7cb526",
   "metadata": {},
   "source": [
    "## Create dataset group for personalized news model <a class=\"anchor\" id=\"cluster_group_dataset\"></a>\n",
    "[Back to top](#top)\n",
    "\n",
    "The highest level of isolation and abstraction with Amazon Personalize is a *dataset group*. Information stored within one of these dataset groups has no impact on any other dataset group or models created from one - they are completely isolated. This allows you to run many experiments and is part of how we keep your models private and fully trained only on your data. \n",
    "\n",
    "Before importing the data prepared earlier, there needs to be a dataset group and a dataset added to it that handles the interactions.\n",
    "\n",
    "Dataset groups can house the following types of information:\n",
    "\n",
    "* User-item-interactions\n",
    "* Event streams (real-time interactions)\n",
    "* User metadata (out of scope for this workshop)\n",
    "* Item metadata\n",
    "* Action metadata (out of scope for this workshop)\n",
    "* Action interaction data (out of scope for this workshop)\n",
    "\n",
    "We need to create the dataset group that will contain our two datasets."
   ]
  },
  {
   "cell_type": "markdown",
   "id": "1adf19b4-28f5-4de5-a447-53bcbe730428",
   "metadata": {},
   "source": [
    "#### Create Dataset Group\n",
    "The following cell will create a new dataset group with the name `personalize-immersion-day-news`."
   ]
  },
  {
   "cell_type": "code",
   "execution_count": 140,
   "id": "e9b828a6-695e-413b-9333-98c9a0230bbd",
   "metadata": {
    "tags": []
   },
   "outputs": [
    {
     "name": "stdout",
     "output_type": "stream",
     "text": [
      "{\n",
      "  \"datasetGroupArn\": \"arn:aws:personalize:us-east-1:381491864570:dataset-group/personalize-immersion-day-news\",\n",
      "  \"ResponseMetadata\": {\n",
      "    \"RequestId\": \"994f83ee-f045-4a3d-9eb5-92451964d606\",\n",
      "    \"HTTPStatusCode\": 200,\n",
      "    \"HTTPHeaders\": {\n",
      "      \"date\": \"Mon, 22 Jul 2024 13:41:08 GMT\",\n",
      "      \"content-type\": \"application/x-amz-json-1.1\",\n",
      "      \"content-length\": \"109\",\n",
      "      \"connection\": \"keep-alive\",\n",
      "      \"x-amzn-requestid\": \"994f83ee-f045-4a3d-9eb5-92451964d606\",\n",
      "      \"strict-transport-security\": \"max-age=47304000; includeSubDomains\",\n",
      "      \"x-frame-options\": \"DENY\",\n",
      "      \"cache-control\": \"no-cache\",\n",
      "      \"x-content-type-options\": \"nosniff\"\n",
      "    },\n",
      "    \"RetryAttempts\": 0\n",
      "  }\n",
      "}\n",
      "DatasetGroupArn = arn:aws:personalize:us-east-1:381491864570:dataset-group/personalize-immersion-day-news\n"
     ]
    }
   ],
   "source": [
    "try:     \n",
    "    # Try to create the dataset group, this block with exectute fully if the dataset group does not exist yet\n",
    "    \n",
    "    create_dataset_group_response = personalize.create_dataset_group(\n",
    "        name = 'personalize-immersion-day-news',\n",
    "    )\n",
    "    workshop_dataset_group_arn = create_dataset_group_response['datasetGroupArn']\n",
    "    print(json.dumps(create_dataset_group_response, indent=2))\n",
    "\n",
    "    print(f'DatasetGroupArn = {workshop_dataset_group_arn}')\n",
    "    \n",
    "except personalize.exceptions.ResourceAlreadyExistsException as e:\n",
    "    # if the dataset group already exists, get the unique identifier workshop_dataset_group_arn \n",
    "    # from the existing resource\n",
    "    \n",
    "    workshop_dataset_group_arn = 'arn:aws:personalize:'+region+':'+account_id+':dataset-group/'+workshop_dataset_group_name \n",
    "    print ('\\nThe the Dataset Group with dataset_group_arn = {} already exists'.format(workshop_dataset_group_arn))\n",
    "    print ('\\nWe will be using the existing Dataset Group dataset_group_arn = {}'.format(workshop_dataset_group_arn))\n"
   ]
  },
  {
   "cell_type": "markdown",
   "id": "c18a0019-8838-48fd-b6dd-882ca8092e8c",
   "metadata": {
    "tags": []
   },
   "source": [
    "#### Wait for Dataset Group to Have ACTIVE Status"
   ]
  },
  {
   "cell_type": "markdown",
   "id": "8e8e50cd-d258-45d7-adac-7977cd397901",
   "metadata": {},
   "source": [
    "Before we can use the dataset group, it must be active. This can take a minute or two. Execute the cell below and wait for it to show the ACTIVE status. It checks the status of the dataset group every 60 seconds, up to a maximum of 3 hours. Note if you are running this notebook as part of an immerion day workshop it is very likely the resources have already been created for you"
   ]
  },
  {
   "cell_type": "code",
   "execution_count": 141,
   "id": "5106107c-5aed-441a-adeb-b106a4c7d92b",
   "metadata": {
    "tags": []
   },
   "outputs": [
    {
     "name": "stdout",
     "output_type": "stream",
     "text": [
      "DatasetGroup: CREATE PENDING\n",
      "DatasetGroup: CREATE PENDING\n",
      "DatasetGroup: ACTIVE\n"
     ]
    }
   ],
   "source": [
    "status = None\n",
    "max_time = time.time() + 3*60*60 # 3 hours\n",
    "while time.time() < max_time:\n",
    "    describe_dataset_group_response = personalize.describe_dataset_group(\n",
    "        datasetGroupArn = workshop_dataset_group_arn\n",
    "    )\n",
    "    status = describe_dataset_group_response[\"datasetGroup\"][\"status\"]\n",
    "    print(\"DatasetGroup: {}\".format(status))\n",
    "    \n",
    "    if status == \"ACTIVE\" or status == \"CREATE FAILED\":\n",
    "        break\n",
    "        \n",
    "    time.sleep(15)"
   ]
  },
  {
   "cell_type": "markdown",
   "id": "cef655f4-e2df-4df8-8132-365b070e46d9",
   "metadata": {},
   "source": [
    "### Create the interactions dataset\n",
    "\n",
    "With a schema created, you can create a dataset within the dataset group. Note that this does not load the data yet, but creates a resources needed to hold the data, to do this we reference the schema we created earlier. "
   ]
  },
  {
   "cell_type": "code",
   "execution_count": 142,
   "id": "4671af93-022c-4b1f-a28e-b53a6338f336",
   "metadata": {
    "tags": []
   },
   "outputs": [
    {
     "name": "stdout",
     "output_type": "stream",
     "text": [
      "{\n",
      "  \"datasetArn\": \"arn:aws:personalize:us-east-1:381491864570:dataset/personalize-immersion-day-news/INTERACTIONS\",\n",
      "  \"ResponseMetadata\": {\n",
      "    \"RequestId\": \"8255a12a-5433-411b-94d2-55f42d55f3e8\",\n",
      "    \"HTTPStatusCode\": 200,\n",
      "    \"HTTPHeaders\": {\n",
      "      \"date\": \"Mon, 22 Jul 2024 13:41:40 GMT\",\n",
      "      \"content-type\": \"application/x-amz-json-1.1\",\n",
      "      \"content-length\": \"111\",\n",
      "      \"connection\": \"keep-alive\",\n",
      "      \"x-amzn-requestid\": \"8255a12a-5433-411b-94d2-55f42d55f3e8\",\n",
      "      \"strict-transport-security\": \"max-age=47304000; includeSubDomains\",\n",
      "      \"x-frame-options\": \"DENY\",\n",
      "      \"cache-control\": \"no-cache\",\n",
      "      \"x-content-type-options\": \"nosniff\"\n",
      "    },\n",
      "    \"RetryAttempts\": 0\n",
      "  }\n",
      "}\n",
      "\n",
      "Creating the Interactions Dataset with workshop_interactions_dataset_arn = arn:aws:personalize:us-east-1:381491864570:dataset/personalize-immersion-day-news/INTERACTIONS\n"
     ]
    }
   ],
   "source": [
    "try:\n",
    "    # Try to create the interactions dataset, this block with exectute fully \n",
    "    # if the interactions dataset does not exist yet\n",
    "    \n",
    "    dataset_type = 'INTERACTIONS'\n",
    "    create_dataset_response = personalize.create_dataset(\n",
    "        name = interactions_dataset_name,\n",
    "        datasetType = dataset_type,\n",
    "        datasetGroupArn = workshop_dataset_group_arn,\n",
    "        schemaArn = workshop_interactions_schema_arn\n",
    "    )\n",
    "\n",
    "    workshop_interactions_dataset_arn = create_dataset_response['datasetArn']\n",
    "    print(json.dumps(create_dataset_response, indent=2))\n",
    "    print ('\\nCreating the Interactions Dataset with workshop_interactions_dataset_arn = {}'.format(workshop_interactions_dataset_arn))\n",
    "    \n",
    "except personalize.exceptions.ResourceAlreadyExistsException:\n",
    "    # if the interactions dataset already exists, get the unique identifier workshop_interactions_dataset_arn \n",
    "    # from the existing resource \n",
    "    workshop_interactions_dataset_arn =  'arn:aws:personalize:'+region+':'+account_id+':dataset/'+workshop_dataset_group_name+'/INTERACTIONS'\n",
    "    print('The Interactions Dataset {} already exists.'.format(workshop_interactions_dataset_arn))\n",
    "    print ('\\nWe will be using the existing Interactions Dataset with workshop_interactions_dataset_arn = {}'.format(workshop_interactions_dataset_arn))\n",
    "        "
   ]
  },
  {
   "cell_type": "markdown",
   "id": "88605464-1766-44f9-af75-6989e1d9a483",
   "metadata": {},
   "source": [
    "### Create Items Dataset\n",
    "With a schema created, you can create a dataset within the dataset group. Note that this does not load the data yet, but creates a schema of what the data looks like. "
   ]
  },
  {
   "cell_type": "code",
   "execution_count": 143,
   "id": "b0225f7a-7111-4327-9240-25693c98718c",
   "metadata": {
    "tags": []
   },
   "outputs": [
    {
     "name": "stdout",
     "output_type": "stream",
     "text": [
      "{\n",
      "  \"datasetArn\": \"arn:aws:personalize:us-east-1:381491864570:dataset/personalize-immersion-day-news/ITEMS\",\n",
      "  \"ResponseMetadata\": {\n",
      "    \"RequestId\": \"89d4499d-e73c-4a6f-8d7c-3ce4e08e4e60\",\n",
      "    \"HTTPStatusCode\": 200,\n",
      "    \"HTTPHeaders\": {\n",
      "      \"date\": \"Mon, 22 Jul 2024 13:41:40 GMT\",\n",
      "      \"content-type\": \"application/x-amz-json-1.1\",\n",
      "      \"content-length\": \"104\",\n",
      "      \"connection\": \"keep-alive\",\n",
      "      \"x-amzn-requestid\": \"89d4499d-e73c-4a6f-8d7c-3ce4e08e4e60\",\n",
      "      \"strict-transport-security\": \"max-age=47304000; includeSubDomains\",\n",
      "      \"x-frame-options\": \"DENY\",\n",
      "      \"cache-control\": \"no-cache\",\n",
      "      \"x-content-type-options\": \"nosniff\"\n",
      "    },\n",
      "    \"RetryAttempts\": 0\n",
      "  }\n",
      "}\n",
      "\n",
      "Creating the Items Dataset with workshop_items_dataset_arn = arn:aws:personalize:us-east-1:381491864570:dataset/personalize-immersion-day-news/ITEMS\n"
     ]
    }
   ],
   "source": [
    "try:\n",
    "    # Try to create the items dataset, this block with execute fully if the items dataset does not exist yet\n",
    "    \n",
    "    dataset_type = \"ITEMS\"\n",
    "    create_dataset_response = personalize.create_dataset(\n",
    "        name = items_dataset_name,\n",
    "        datasetType = dataset_type,\n",
    "        datasetGroupArn = workshop_dataset_group_arn,\n",
    "        schemaArn = workshop_items_schema_arn\n",
    "    )\n",
    "\n",
    "    workshop_items_dataset_arn = create_dataset_response['datasetArn']\n",
    "    print(json.dumps(create_dataset_response, indent=2))\n",
    "\n",
    "    print ('\\nCreating the Items Dataset with workshop_items_dataset_arn = {}'.format(workshop_items_dataset_arn))\n",
    "    \n",
    "except personalize.exceptions.ResourceAlreadyExistsException:\n",
    "    # if the items dataset already exists, get the unique identifier workshop_items_dataset_arn \n",
    "    # from the existing resource \n",
    "    \n",
    "    workshop_items_dataset_arn =  'arn:aws:personalize:'+region+':'+account_id+':dataset/'+workshop_dataset_group_name+'/ITEMS'\n",
    "    print('The Items Dataset {} already exists.'.format(workshop_items_dataset_arn))\n",
    "    print ('\\nWe will be using the existing Items Dataset with workshop_items_dataset_arn = {}'.format(workshop_items_dataset_arn))   "
   ]
  },
  {
   "cell_type": "markdown",
   "id": "39953a8a-85dd-4daf-871b-22f8d075c290",
   "metadata": {},
   "source": [
    "Let's wait until all the datasets have been created."
   ]
  },
  {
   "cell_type": "code",
   "execution_count": 144,
   "id": "9a70ca65-6b44-445c-84c7-7f25e9459a2e",
   "metadata": {
    "tags": []
   },
   "outputs": [
    {
     "name": "stdout",
     "output_type": "stream",
     "text": [
      "Interactions Dataset: CREATE PENDING\n",
      "The interaction dataset creation is still in progress\n",
      "Items Dataset: CREATE PENDING\n",
      "The item dataset creation is still in progress\n",
      "Interactions Dataset: ACTIVE\n",
      "Build succeeded for arn:aws:personalize:us-east-1:381491864570:dataset/personalize-immersion-day-news/INTERACTIONS\n",
      "The interaction dataset  is ACTIVE\n",
      "Items Dataset: ACTIVE\n",
      "Build succeeded for arn:aws:personalize:us-east-1:381491864570:dataset/personalize-immersion-day-news/ITEMS\n",
      "The item dataset  is ACTIVE\n",
      "CPU times: user 14.9 ms, sys: 2.05 ms, total: 16.9 ms\n",
      "Wall time: 30.1 s\n"
     ]
    }
   ],
   "source": [
    "%%time\n",
    "\n",
    "max_time = time.time() + 6*60*60 # 6 hours\n",
    "while time.time() < max_time:\n",
    "    describe_dataset_response = personalize.describe_dataset(\n",
    "        datasetArn = workshop_interactions_dataset_arn\n",
    "    )\n",
    "    status_interaction_dataset =  describe_dataset_response[\"dataset\"]['status']\n",
    "    print(\"Interactions Dataset: {}\".format(status_interaction_dataset))\n",
    "    \n",
    "    if status_interaction_dataset == \"ACTIVE\":\n",
    "        print(\"Build succeeded for {}\".format(workshop_interactions_dataset_arn))\n",
    "        \n",
    "    elif status_interaction_dataset == \"CREATE FAILED\":\n",
    "        print(\"Build failed for {}\".format(workshop_interactions_dataset_arn))\n",
    "        break\n",
    "        \n",
    "    if not status_interaction_dataset == \"ACTIVE\":\n",
    "        print(\"The interaction dataset creation is still in progress\")\n",
    "    else:\n",
    "        print(\"The interaction dataset  is ACTIVE\")\n",
    "        \n",
    "\n",
    "    describe_dataset_response = personalize.describe_dataset(\n",
    "        datasetArn = workshop_items_dataset_arn\n",
    "    )\n",
    "    status_item_dataset =  describe_dataset_response[\"dataset\"]['status']\n",
    "    print(\"Items Dataset: {}\".format(status_item_dataset))\n",
    "    \n",
    "    if status_item_dataset == \"ACTIVE\":\n",
    "        print(\"Build succeeded for {}\".format(workshop_items_dataset_arn))\n",
    "        \n",
    "    elif status_item_dataset == \"CREATE FAILED\":\n",
    "        print(\"Build failed for {}\".format(workshop_items_dataset_arn))\n",
    "        break\n",
    "        \n",
    "    if not status_item_dataset == \"ACTIVE\":\n",
    "        print(\"The item dataset creation is still in progress\")\n",
    "    else:\n",
    "        print(\"The item dataset  is ACTIVE\")\n",
    "    \n",
    "    if status_interaction_dataset == \"ACTIVE\" and status_item_dataset == \"ACTIVE\":\n",
    "        break\n",
    "        \n",
    "    time.sleep(30)"
   ]
  },
  {
   "cell_type": "markdown",
   "id": "f2aefc44-1a5c-48c3-bb0d-fc1869ef9f85",
   "metadata": {},
   "source": [
    "## Import the Interactions <a class=\"anchor\" id=\"import_interactions\"></a>\n",
    "[Back to top](#top)\n",
    "\n",
    "Earlier you created the dataset group and dataset to house your information, now you will execute an import job that will load the item data from the S3 bucket into the Amazon Personalize dataset. "
   ]
  },
  {
   "cell_type": "code",
   "execution_count": 145,
   "id": "a37b54bd-2d7a-4892-a917-2688212696fb",
   "metadata": {
    "tags": []
   },
   "outputs": [
    {
     "ename": "InvalidInputException",
     "evalue": "An error occurred (InvalidInputException) when calling the CreateDatasetImportJob operation: Insufficient privileges for accessing data in S3. Please look at https://docs.aws.amazon.com/personalize/latest/dg/granting-personalize-s3-access.html and ensure your role is configured correctly.",
     "output_type": "error",
     "traceback": [
      "\u001b[0;31m---------------------------------------------------------------------------\u001b[0m",
      "\u001b[0;31mInvalidInputException\u001b[0m                     Traceback (most recent call last)",
      "Cell \u001b[0;32mIn[145], line 25\u001b[0m\n\u001b[1;32m     21\u001b[0m     \u001b[38;5;28mprint\u001b[39m (\u001b[38;5;124m'\u001b[39m\u001b[38;5;130;01m\\n\u001b[39;00m\u001b[38;5;124mWe will be using the existing Interactions Import Job with workshop_interactions_dataset_import_job_arn = \u001b[39m\u001b[38;5;132;01m{}\u001b[39;00m\u001b[38;5;124m'\u001b[39m\u001b[38;5;241m.\u001b[39mformat(workshop_interactions_dataset_import_job_arn))\n\u001b[1;32m     23\u001b[0m \u001b[38;5;28;01melse\u001b[39;00m:\n\u001b[1;32m     24\u001b[0m     \u001b[38;5;66;03m# If there is no import job with the prefix, create it:   \u001b[39;00m\n\u001b[0;32m---> 25\u001b[0m     create_dataset_import_job_response \u001b[38;5;241m=\u001b[39m \u001b[43mpersonalize\u001b[49m\u001b[38;5;241;43m.\u001b[39;49m\u001b[43mcreate_dataset_import_job\u001b[49m\u001b[43m(\u001b[49m\n\u001b[1;32m     26\u001b[0m \u001b[43m        \u001b[49m\u001b[43mjobName\u001b[49m\u001b[43m \u001b[49m\u001b[38;5;241;43m=\u001b[39;49m\u001b[43m \u001b[49m\u001b[43minteractions_import_job_name\u001b[49m\u001b[43m,\u001b[49m\n\u001b[1;32m     27\u001b[0m \u001b[43m        \u001b[49m\u001b[43mdatasetArn\u001b[49m\u001b[43m \u001b[49m\u001b[38;5;241;43m=\u001b[39;49m\u001b[43m \u001b[49m\u001b[43mworkshop_interactions_dataset_arn\u001b[49m\u001b[43m,\u001b[49m\n\u001b[1;32m     28\u001b[0m \u001b[43m        \u001b[49m\u001b[43mdataSource\u001b[49m\u001b[43m \u001b[49m\u001b[38;5;241;43m=\u001b[39;49m\u001b[43m \u001b[49m\u001b[43m{\u001b[49m\n\u001b[1;32m     29\u001b[0m \u001b[43m            \u001b[49m\u001b[38;5;124;43m\"\u001b[39;49m\u001b[38;5;124;43mdataLocation\u001b[39;49m\u001b[38;5;124;43m\"\u001b[39;49m\u001b[43m:\u001b[49m\u001b[43m \u001b[49m\u001b[38;5;124;43m\"\u001b[39;49m\u001b[38;5;124;43ms3://\u001b[39;49m\u001b[38;5;132;43;01m{}\u001b[39;49;00m\u001b[38;5;124;43m/\u001b[39;49m\u001b[38;5;132;43;01m{}\u001b[39;49;00m\u001b[38;5;124;43m\"\u001b[39;49m\u001b[38;5;241;43m.\u001b[39;49m\u001b[43mformat\u001b[49m\u001b[43m(\u001b[49m\u001b[43mbucket_name\u001b[49m\u001b[43m,\u001b[49m\u001b[43m \u001b[49m\u001b[43minteractions_file_name\u001b[49m\u001b[43m)\u001b[49m\n\u001b[1;32m     30\u001b[0m \u001b[43m        \u001b[49m\u001b[43m}\u001b[49m\u001b[43m,\u001b[49m\n\u001b[1;32m     31\u001b[0m \u001b[43m        \u001b[49m\u001b[43mroleArn\u001b[49m\u001b[43m \u001b[49m\u001b[38;5;241;43m=\u001b[39;49m\u001b[43m \u001b[49m\u001b[43mrole_arn\u001b[49m\n\u001b[1;32m     32\u001b[0m \u001b[43m    \u001b[49m\u001b[43m)\u001b[49m\n\u001b[1;32m     33\u001b[0m     workshop_interactions_dataset_import_job_arn \u001b[38;5;241m=\u001b[39m create_dataset_import_job_response[\u001b[38;5;124m'\u001b[39m\u001b[38;5;124mdatasetImportJobArn\u001b[39m\u001b[38;5;124m'\u001b[39m]\n\u001b[1;32m     34\u001b[0m     \u001b[38;5;28mprint\u001b[39m(json\u001b[38;5;241m.\u001b[39mdumps(create_dataset_import_job_response, indent\u001b[38;5;241m=\u001b[39m\u001b[38;5;241m2\u001b[39m))\n",
      "File \u001b[0;32m~/anaconda3/envs/tensorflow2_p310/lib/python3.10/site-packages/botocore/client.py:565\u001b[0m, in \u001b[0;36mClientCreator._create_api_method.<locals>._api_call\u001b[0;34m(self, *args, **kwargs)\u001b[0m\n\u001b[1;32m    561\u001b[0m     \u001b[38;5;28;01mraise\u001b[39;00m \u001b[38;5;167;01mTypeError\u001b[39;00m(\n\u001b[1;32m    562\u001b[0m         \u001b[38;5;124mf\u001b[39m\u001b[38;5;124m\"\u001b[39m\u001b[38;5;132;01m{\u001b[39;00mpy_operation_name\u001b[38;5;132;01m}\u001b[39;00m\u001b[38;5;124m() only accepts keyword arguments.\u001b[39m\u001b[38;5;124m\"\u001b[39m\n\u001b[1;32m    563\u001b[0m     )\n\u001b[1;32m    564\u001b[0m \u001b[38;5;66;03m# The \"self\" in this scope is referring to the BaseClient.\u001b[39;00m\n\u001b[0;32m--> 565\u001b[0m \u001b[38;5;28;01mreturn\u001b[39;00m \u001b[38;5;28;43mself\u001b[39;49m\u001b[38;5;241;43m.\u001b[39;49m\u001b[43m_make_api_call\u001b[49m\u001b[43m(\u001b[49m\u001b[43moperation_name\u001b[49m\u001b[43m,\u001b[49m\u001b[43m \u001b[49m\u001b[43mkwargs\u001b[49m\u001b[43m)\u001b[49m\n",
      "File \u001b[0;32m~/anaconda3/envs/tensorflow2_p310/lib/python3.10/site-packages/botocore/client.py:1021\u001b[0m, in \u001b[0;36mBaseClient._make_api_call\u001b[0;34m(self, operation_name, api_params)\u001b[0m\n\u001b[1;32m   1017\u001b[0m     error_code \u001b[38;5;241m=\u001b[39m error_info\u001b[38;5;241m.\u001b[39mget(\u001b[38;5;124m\"\u001b[39m\u001b[38;5;124mQueryErrorCode\u001b[39m\u001b[38;5;124m\"\u001b[39m) \u001b[38;5;129;01mor\u001b[39;00m error_info\u001b[38;5;241m.\u001b[39mget(\n\u001b[1;32m   1018\u001b[0m         \u001b[38;5;124m\"\u001b[39m\u001b[38;5;124mCode\u001b[39m\u001b[38;5;124m\"\u001b[39m\n\u001b[1;32m   1019\u001b[0m     )\n\u001b[1;32m   1020\u001b[0m     error_class \u001b[38;5;241m=\u001b[39m \u001b[38;5;28mself\u001b[39m\u001b[38;5;241m.\u001b[39mexceptions\u001b[38;5;241m.\u001b[39mfrom_code(error_code)\n\u001b[0;32m-> 1021\u001b[0m     \u001b[38;5;28;01mraise\u001b[39;00m error_class(parsed_response, operation_name)\n\u001b[1;32m   1022\u001b[0m \u001b[38;5;28;01melse\u001b[39;00m:\n\u001b[1;32m   1023\u001b[0m     \u001b[38;5;28;01mreturn\u001b[39;00m parsed_response\n",
      "\u001b[0;31mInvalidInputException\u001b[0m: An error occurred (InvalidInputException) when calling the CreateDatasetImportJob operation: Insufficient privileges for accessing data in S3. Please look at https://docs.aws.amazon.com/personalize/latest/dg/granting-personalize-s3-access.html and ensure your role is configured correctly."
     ]
    }
   ],
   "source": [
    "# Check if the import job already exists\n",
    "\n",
    "# List the import jobs\n",
    "interactions_dataset_import_jobs = personalize.list_dataset_import_jobs(\n",
    "    datasetArn=workshop_interactions_dataset_arn,\n",
    "    maxResults=100\n",
    ")['datasetImportJobs']\n",
    "\n",
    "#check if there is an existing job with the prefix\n",
    "job_exists = False  \n",
    "job_arn = None\n",
    "\n",
    "for job in interactions_dataset_import_jobs:\n",
    "    if (interactions_import_job_name in job['jobName']):\n",
    "        job_exists = True\n",
    "        job_arn = job['datasetImportJobArn']\n",
    "    \n",
    "if (job_exists):\n",
    "    workshop_interactions_dataset_import_job_arn = job_arn\n",
    "    print('The Interactions Import Job {} already exists.'.format(workshop_interactions_dataset_import_job_arn))\n",
    "    print ('\\nWe will be using the existing Interactions Import Job with workshop_interactions_dataset_import_job_arn = {}'.format(workshop_interactions_dataset_import_job_arn))\n",
    "        \n",
    "else:\n",
    "    # If there is no import job with the prefix, create it:   \n",
    "    create_dataset_import_job_response = personalize.create_dataset_import_job(\n",
    "        jobName = interactions_import_job_name,\n",
    "        datasetArn = workshop_interactions_dataset_arn,\n",
    "        dataSource = {\n",
    "            \"dataLocation\": \"s3://{}/{}\".format(bucket_name, interactions_file_name)\n",
    "        },\n",
    "        roleArn = role_arn\n",
    "    )\n",
    "    workshop_interactions_dataset_import_job_arn = create_dataset_import_job_response['datasetImportJobArn']\n",
    "    print(json.dumps(create_dataset_import_job_response, indent=2))\n",
    "    \n",
    "    print ('\\nImporting the Interactions Data with workshop_interactions_dataset_import_job_arn = {}'.format(workshop_interactions_dataset_import_job_arn))"
   ]
  },
  {
   "cell_type": "code",
   "execution_count": 146,
   "id": "c828e727-46da-4b56-9268-d43990bf5740",
   "metadata": {
    "tags": []
   },
   "outputs": [
    {
     "data": {
      "text/plain": [
       "'arn:aws:iam::381491864570:role/test-stack-3-PersonalizeIamRole-xf0Cb5B20Qx5'"
      ]
     },
     "execution_count": 146,
     "metadata": {},
     "output_type": "execute_result"
    }
   ],
   "source": [
    "role_arn"
   ]
  },
  {
   "cell_type": "markdown",
   "id": "a790704c-0d75-4dc8-a9ed-110189f3fd4c",
   "metadata": {},
   "source": [
    "## Import the Item Metadata <a class=\"anchor\" id=\"import_items\"></a>\n",
    "[Back to top](#top)\n",
    "\n",
    "Earlier you created the dataset group and dataset to house your information, now you will execute an import job that will load the item data from the S3 bucket into the Amazon Personalize dataset. "
   ]
  },
  {
   "cell_type": "code",
   "execution_count": null,
   "id": "0c0d6e08-bbbd-42a6-8881-e7b078abc050",
   "metadata": {
    "tags": []
   },
   "outputs": [],
   "source": [
    "# Checking if the import job already exists\n",
    "\n",
    "# List the import jobs\n",
    "items_dataset_import_jobs = personalize.list_dataset_import_jobs(\n",
    "    datasetArn=workshop_items_dataset_arn,\n",
    "    maxResults=100\n",
    ")['datasetImportJobs']\n",
    "\n",
    "job_exists = False\n",
    "job_arn = None\n",
    "\n",
    "#check if there is an existing job with the prefix\n",
    "for job in items_dataset_import_jobs:\n",
    "    if (items_import_job_name in job['jobName']):\n",
    "        job_exists = True\n",
    "        job_arn = job['datasetImportJobArn']\n",
    "    \n",
    "if (job_exists):\n",
    "    workshop_items_dataset_import_job_arn =  job_arn\n",
    "    print('The Items Import Job {} already exists.'.format(workshop_items_dataset_import_job_arn))\n",
    "    print ('\\nWe will be using the existing Items Import Job with workshop_items_dataset_import_job_arn = {}'.format(workshop_items_dataset_import_job_arn))\n",
    "        \n",
    "else:\n",
    "    # If there is no import job with the prefix, create it:    \n",
    "    create_dataset_import_job_response = personalize.create_dataset_import_job(\n",
    "        jobName = items_import_job_name,\n",
    "        datasetArn = workshop_items_dataset_arn,\n",
    "        dataSource = {\n",
    "            \"dataLocation\": \"s3://{}/{}\".format(bucket_name, items_file_name)\n",
    "        },\n",
    "        roleArn = role_arn\n",
    "    )\n",
    "\n",
    "    workshop_items_dataset_import_job_arn = create_dataset_import_job_response['datasetImportJobArn']\n",
    "    print(json.dumps(create_dataset_import_job_response, indent=2))\n",
    "    print ('\\nImporting the Items Data with workshop_items_dataset_import_job_arn = {}'.format(workshop_items_dataset_import_job_arn))"
   ]
  },
  {
   "cell_type": "markdown",
   "id": "84ed9d9e-1c7a-40f2-8b7b-a07d96bd8f6f",
   "metadata": {},
   "source": [
    "### Wait for Import Jobs to Complete\n",
    "\n",
    "Before we can use the dataset, the import job must be active. Execute the cell below and wait for it to show the ACTIVE status. It checks the status of the import job every minute, up to a maximum of 6 hours.\n",
    "\n",
    "It will take 10-15 minutes for the import jobs to complete. While you're waiting you can learn more about Datasets and Schemas in [the documentation](https://docs.aws.amazon.com/personalize/latest/dg/how-it-works-dataset-schema.html).\n",
    "\n",
    "We will wait for all three jobs to finish."
   ]
  },
  {
   "cell_type": "code",
   "execution_count": null,
   "id": "2d95f829-d805-4cc8-a651-337aae81e866",
   "metadata": {
    "tags": []
   },
   "outputs": [],
   "source": [
    "max_time = time.time() + 6*60*60 # 10 hours\n",
    "while time.time() < max_time:\n",
    "\n",
    "    # Interactions dataset import\n",
    "    describe_dataset_import_job_response = personalize.describe_dataset_import_job(\n",
    "        datasetImportJobArn = workshop_interactions_dataset_import_job_arn\n",
    "    )\n",
    "    status_interactions_import = describe_dataset_import_job_response[\"datasetImportJob\"]['status']\n",
    "    \n",
    "    if status_interactions_import == \"ACTIVE\":\n",
    "        print(\"Build succeeded for {}\".format(workshop_interactions_dataset_import_job_arn))\n",
    "        \n",
    "    elif status_interactions_import == \"CREATE FAILED\":\n",
    "        print(\"Build failed for {}\".format(workshop_interactions_dataset_import_job_arn))\n",
    "        break\n",
    "        \n",
    "    if not status_interactions_import == \"ACTIVE\":\n",
    "        print(\"The interactions dataset import is still in progress\")\n",
    "    else:\n",
    "        print(\"The interactions dataset import is ACTIVE\")\n",
    "\n",
    "    # Items dataset import\n",
    "    describe_dataset_import_job_response = personalize.describe_dataset_import_job(\n",
    "        datasetImportJobArn = workshop_items_dataset_import_job_arn\n",
    "    )\n",
    "    status_items_import = describe_dataset_import_job_response[\"datasetImportJob\"]['status']\n",
    "    \n",
    "    if status_items_import == \"ACTIVE\":\n",
    "        print(\"Build succeeded for {}\".format(workshop_items_dataset_import_job_arn))\n",
    "        \n",
    "    elif status_items_import == \"CREATE FAILED\":\n",
    "        print(\"Build failed for {}\".format(workshop_items_dataset_import_job_arn))\n",
    "        break\n",
    "        \n",
    "    if not status_items_import == \"ACTIVE\":\n",
    "        print(\"The items dataset import is still in progress\")\n",
    "    else:\n",
    "        print(\"The items dataset import is ACTIVE\")\n",
    "\n",
    "    if status_interactions_import == \"ACTIVE\" and status_items_import == 'ACTIVE':\n",
    "        break\n",
    "\n",
    "    print()\n",
    "    time.sleep(30)"
   ]
  },
  {
   "cell_type": "markdown",
   "id": "b6e92467-233a-48ff-9490-2cd7315477df",
   "metadata": {},
   "source": [
    "# Filters <a class=\"anchor\" id=\"filters\"></a>\n",
    "\n",
    "## Create Filters <a class=\"anchor\" id=\"create-filters\"></a>\n",
    "[Back to top](#top)\n",
    "\n",
    "Personalize can utilize either [static or dynamic filters](https://docs.aws.amazon.com/personalize/latest/dg/filter.html). Static filters are where the filter properties are built into the filter itself, which makes invocation simpler, but gives less flexibility. An example of this would be an accessories category filter, which invokes the get_recommendations_response api with the specific filter of CATEGORY_L1 = accessories. In order to create a recommendation for each filter, that would require 10+ filters. Personalize also supports dynamic filters, where the values can be passed at runtime, allowing for a single filter of CATEGORY_L1, where the actual category is passed at runtime. \n",
    "\n",
    "Filters can be created for fields of both Items and Events. \n",
    "\n",
    "A few common use cases for dynamic filters in news are:\n",
    "\n",
    "* Categorical filters based on Item Metadata - Often your item metadata will have information about the item. Filtering on these can provide recommendations within that data. In particular this is quite useful for recommending specifc news articles for specific sections of a website such as politics, sports, tech and lifestyle\n",
    "\n",
    "* Range based filters based on Item Metadata - Personalize supports range operations in both static and dynamic filters. Filtering based on a range can be used to create recommendations specific to a specific time range. This can be useful for highlighting articles for specific breakingnews sections.\n",
    "\n",
    "* Events - you may want to filter out certain events and provide results based on those events, such as removing articles a user has already read from their recommendations"
   ]
  },
  {
   "cell_type": "markdown",
   "id": "94a0d87c-f834-4dcc-b2e3-da40daa5bc95",
   "metadata": {},
   "source": [
    "#### Create Genre Filter\n",
    "\n",
    "Below we are going to create a dynamic fitler for specific genres of articles - our dataset is limited to tech articles so our genres are all specific iterations of that in this case. We will also exclude previously read articles."
   ]
  },
  {
   "cell_type": "code",
   "execution_count": null,
   "id": "5c3796d0-5941-45a8-9022-cfe38c8204c2",
   "metadata": {
    "tags": []
   },
   "outputs": [],
   "source": [
    "try:\n",
    "    create_genre_filter_response = personalize.create_filter(\n",
    "        name = 'breakingnews-genre-filter-5',\n",
    "        datasetGroupArn = workshop_dataset_group_arn,\n",
    "        filterExpression = \"INCLUDE ItemID WHERE Items.ARTICLE_GENRE IN ($GENRELIST) AND Items.CREATION_TIMESTAMP > $CUTOFF | EXCLUDE ItemID WHERE Interactions.EVENT_TYPE IN (\\\"*\\\")\" \n",
    "    )\n",
    "    \n",
    "    genre_filter_arn = create_genre_filter_response['filterArn']\n",
    "    print('Creating the Personalize filter with category_filter_arn {}.'.format(genre_filter_arn))\n",
    "    \n",
    "\n",
    "except personalize.exceptions.ResourceAlreadyExistsException as e:\n",
    "    genre_filter_arn = 'arn:aws:personalize:'+region+':'+account_id+':filter/'+'breakingnews-genre-filter-5' \n",
    "    print('The Personalize filter {} already exists.'.format(genre_filter_arn))"
   ]
  },
  {
   "cell_type": "markdown",
   "id": "f0800e89-9c77-4069-b8a4-ca43e784314f",
   "metadata": {},
   "source": [
    "Wait for filter to be created"
   ]
  },
  {
   "cell_type": "code",
   "execution_count": null,
   "id": "4ffd5ac0-4e15-46ec-bcb5-f1c6592a8e56",
   "metadata": {
    "tags": []
   },
   "outputs": [],
   "source": [
    "status = None\n",
    "max_time = time.time() + 60*60 # 1 hours\n",
    "while time.time() < max_time:\n",
    "    describe_filter_response = personalize.describe_filter(\n",
    "        filterArn = genre_filter_arn\n",
    "    )\n",
    "    status = describe_filter_response[\"filter\"][\"status\"]\n",
    "    print(\"Genre filter: {}\".format(status))\n",
    "    \n",
    "    if status == \"ACTIVE\" or status == \"CREATE FAILED\":\n",
    "        break\n",
    "        \n",
    "    time.sleep(15)\n",
    "    "
   ]
  },
  {
   "cell_type": "markdown",
   "id": "e8ae2db9-38d9-4c35-8582-1053433a4569",
   "metadata": {},
   "source": [
    "NOTE THE CODE BELOW WILL NOT WORK UNLESS YOU ARE RUNNING THIS NOTEBOOK AS PART OF AN AWS WORKSHOP WHERE ALL RESOURCES HAVE BEEN PRECREATED"
   ]
  },
  {
   "cell_type": "code",
   "execution_count": null,
   "id": "15ab81a6-9e25-4faa-bf7a-f1a9d76a272f",
   "metadata": {
    "tags": []
   },
   "outputs": [],
   "source": [
    "sample_user = str(-8845298781299428018)"
   ]
  },
  {
   "cell_type": "code",
   "execution_count": null,
   "id": "0620dcd9-4c66-4081-b4a5-505783ae9328",
   "metadata": {
    "tags": []
   },
   "outputs": [],
   "source": [
    "workshop_userpersonalization_campaign_arn =  'arn:aws:personalize:'+region+':'+account_id+':campaign/'+workshop_userpersonalization_campaign_name"
   ]
  },
  {
   "cell_type": "code",
   "execution_count": null,
   "id": "a9ecffe2-cab8-416f-bf23-3cdd34c7e508",
   "metadata": {
    "tags": []
   },
   "outputs": [],
   "source": [
    "get_recommendations_response = personalize_runtime.get_recommendations(\n",
    "    campaignArn = workshop_userpersonalization_campaign_arn,\n",
    "    userId = sample_user,\n",
    "    numResults = 5,\n",
    "    filterArn = genre_filter_arn,\n",
    "    filterValues = {\"GENRELIST\": \"\\\"tech\\\"\", \"CUTOFF\": \"1465413032\"}\n",
    ")"
   ]
  },
  {
   "cell_type": "code",
   "execution_count": null,
   "id": "8b0d2b3c-5a75-4512-828f-af8cdfb98936",
   "metadata": {
    "tags": []
   },
   "outputs": [],
   "source": [
    "print(get_recommendations_response)"
   ]
  },
  {
   "cell_type": "markdown",
   "id": "28563696-b6d2-4a9c-bf22-38a1f989cca2",
   "metadata": {},
   "source": [
    "We will look at some of these recommendations in more detail in `03_Inference_Layer`"
   ]
  },
  {
   "cell_type": "markdown",
   "id": "7740a960-bc43-494b-a70a-706c5bbb4ad8",
   "metadata": {},
   "source": [
    "With all imports now complete you can start training your personalization models. Run the cell below before moving on to store a few values for usage in the next notebooks. After completing that cell open notebook `02_Training_Layer.ipynb` to continue."
   ]
  },
  {
   "cell_type": "markdown",
   "id": "be1ac6d7-3deb-4ae3-b288-68204376b340",
   "metadata": {},
   "source": [
    "## Storing Useful Variables <a class=\"anchor\" id=\"vars\"></a>\n",
    "[Back to top](#top)\n",
    "\n",
    "Before exiting this notebook, run the following cells to save the version ARNs for use in the next notebook."
   ]
  },
  {
   "cell_type": "code",
   "execution_count": null,
   "id": "5c576b77-0bd1-465c-b941-0d31057ce98c",
   "metadata": {
    "tags": []
   },
   "outputs": [],
   "source": [
    "%store data_dir\n",
    "%store interactions_file_name\n",
    "%store items_file_name\n",
    "%store workshop_dataset_group_arn\n",
    "%store workshop_interactions_dataset_arn\n",
    "%store workshop_items_dataset_arn\n",
    "%store workshop_interactions_schema_arn\n",
    "%store workshop_items_schema_arn\n",
    "%store genre_filter_arn\n",
    "\n",
    "%store workshop_rerank_solution_name\n",
    "%store workshop_rerank_campaign_name\n",
    "\n",
    "%store workshop_userpersonalization_solution_name\n",
    "%store workshop_userpersonalization_campaign_name\n",
    "\n",
    "%store region\n",
    "%store account_id\n",
    "%store role_name\n",
    "%store role_arn\n",
    "\n",
    "%store bucket_name\n",
    "\n",
    "%store articles_mlfeatures\n",
    "%store interaction_data\n",
    "\n",
    "%store bucket_current_policy"
   ]
  },
  {
   "cell_type": "code",
   "execution_count": null,
   "id": "1b059fe9-8042-4318-984d-cf142b42b934",
   "metadata": {},
   "outputs": [],
   "source": []
  }
 ],
 "metadata": {
  "availableInstances": [
   {
    "_defaultOrder": 0,
    "_isFastLaunch": true,
    "category": "General purpose",
    "gpuNum": 0,
    "hideHardwareSpecs": false,
    "memoryGiB": 4,
    "name": "ml.t3.medium",
    "vcpuNum": 2
   },
   {
    "_defaultOrder": 1,
    "_isFastLaunch": false,
    "category": "General purpose",
    "gpuNum": 0,
    "hideHardwareSpecs": false,
    "memoryGiB": 8,
    "name": "ml.t3.large",
    "vcpuNum": 2
   },
   {
    "_defaultOrder": 2,
    "_isFastLaunch": false,
    "category": "General purpose",
    "gpuNum": 0,
    "hideHardwareSpecs": false,
    "memoryGiB": 16,
    "name": "ml.t3.xlarge",
    "vcpuNum": 4
   },
   {
    "_defaultOrder": 3,
    "_isFastLaunch": false,
    "category": "General purpose",
    "gpuNum": 0,
    "hideHardwareSpecs": false,
    "memoryGiB": 32,
    "name": "ml.t3.2xlarge",
    "vcpuNum": 8
   },
   {
    "_defaultOrder": 4,
    "_isFastLaunch": true,
    "category": "General purpose",
    "gpuNum": 0,
    "hideHardwareSpecs": false,
    "memoryGiB": 8,
    "name": "ml.m5.large",
    "vcpuNum": 2
   },
   {
    "_defaultOrder": 5,
    "_isFastLaunch": false,
    "category": "General purpose",
    "gpuNum": 0,
    "hideHardwareSpecs": false,
    "memoryGiB": 16,
    "name": "ml.m5.xlarge",
    "vcpuNum": 4
   },
   {
    "_defaultOrder": 6,
    "_isFastLaunch": false,
    "category": "General purpose",
    "gpuNum": 0,
    "hideHardwareSpecs": false,
    "memoryGiB": 32,
    "name": "ml.m5.2xlarge",
    "vcpuNum": 8
   },
   {
    "_defaultOrder": 7,
    "_isFastLaunch": false,
    "category": "General purpose",
    "gpuNum": 0,
    "hideHardwareSpecs": false,
    "memoryGiB": 64,
    "name": "ml.m5.4xlarge",
    "vcpuNum": 16
   },
   {
    "_defaultOrder": 8,
    "_isFastLaunch": false,
    "category": "General purpose",
    "gpuNum": 0,
    "hideHardwareSpecs": false,
    "memoryGiB": 128,
    "name": "ml.m5.8xlarge",
    "vcpuNum": 32
   },
   {
    "_defaultOrder": 9,
    "_isFastLaunch": false,
    "category": "General purpose",
    "gpuNum": 0,
    "hideHardwareSpecs": false,
    "memoryGiB": 192,
    "name": "ml.m5.12xlarge",
    "vcpuNum": 48
   },
   {
    "_defaultOrder": 10,
    "_isFastLaunch": false,
    "category": "General purpose",
    "gpuNum": 0,
    "hideHardwareSpecs": false,
    "memoryGiB": 256,
    "name": "ml.m5.16xlarge",
    "vcpuNum": 64
   },
   {
    "_defaultOrder": 11,
    "_isFastLaunch": false,
    "category": "General purpose",
    "gpuNum": 0,
    "hideHardwareSpecs": false,
    "memoryGiB": 384,
    "name": "ml.m5.24xlarge",
    "vcpuNum": 96
   },
   {
    "_defaultOrder": 12,
    "_isFastLaunch": false,
    "category": "General purpose",
    "gpuNum": 0,
    "hideHardwareSpecs": false,
    "memoryGiB": 8,
    "name": "ml.m5d.large",
    "vcpuNum": 2
   },
   {
    "_defaultOrder": 13,
    "_isFastLaunch": false,
    "category": "General purpose",
    "gpuNum": 0,
    "hideHardwareSpecs": false,
    "memoryGiB": 16,
    "name": "ml.m5d.xlarge",
    "vcpuNum": 4
   },
   {
    "_defaultOrder": 14,
    "_isFastLaunch": false,
    "category": "General purpose",
    "gpuNum": 0,
    "hideHardwareSpecs": false,
    "memoryGiB": 32,
    "name": "ml.m5d.2xlarge",
    "vcpuNum": 8
   },
   {
    "_defaultOrder": 15,
    "_isFastLaunch": false,
    "category": "General purpose",
    "gpuNum": 0,
    "hideHardwareSpecs": false,
    "memoryGiB": 64,
    "name": "ml.m5d.4xlarge",
    "vcpuNum": 16
   },
   {
    "_defaultOrder": 16,
    "_isFastLaunch": false,
    "category": "General purpose",
    "gpuNum": 0,
    "hideHardwareSpecs": false,
    "memoryGiB": 128,
    "name": "ml.m5d.8xlarge",
    "vcpuNum": 32
   },
   {
    "_defaultOrder": 17,
    "_isFastLaunch": false,
    "category": "General purpose",
    "gpuNum": 0,
    "hideHardwareSpecs": false,
    "memoryGiB": 192,
    "name": "ml.m5d.12xlarge",
    "vcpuNum": 48
   },
   {
    "_defaultOrder": 18,
    "_isFastLaunch": false,
    "category": "General purpose",
    "gpuNum": 0,
    "hideHardwareSpecs": false,
    "memoryGiB": 256,
    "name": "ml.m5d.16xlarge",
    "vcpuNum": 64
   },
   {
    "_defaultOrder": 19,
    "_isFastLaunch": false,
    "category": "General purpose",
    "gpuNum": 0,
    "hideHardwareSpecs": false,
    "memoryGiB": 384,
    "name": "ml.m5d.24xlarge",
    "vcpuNum": 96
   },
   {
    "_defaultOrder": 20,
    "_isFastLaunch": false,
    "category": "General purpose",
    "gpuNum": 0,
    "hideHardwareSpecs": true,
    "memoryGiB": 0,
    "name": "ml.geospatial.interactive",
    "supportedImageNames": [
     "sagemaker-geospatial-v1-0"
    ],
    "vcpuNum": 0
   },
   {
    "_defaultOrder": 21,
    "_isFastLaunch": true,
    "category": "Compute optimized",
    "gpuNum": 0,
    "hideHardwareSpecs": false,
    "memoryGiB": 4,
    "name": "ml.c5.large",
    "vcpuNum": 2
   },
   {
    "_defaultOrder": 22,
    "_isFastLaunch": false,
    "category": "Compute optimized",
    "gpuNum": 0,
    "hideHardwareSpecs": false,
    "memoryGiB": 8,
    "name": "ml.c5.xlarge",
    "vcpuNum": 4
   },
   {
    "_defaultOrder": 23,
    "_isFastLaunch": false,
    "category": "Compute optimized",
    "gpuNum": 0,
    "hideHardwareSpecs": false,
    "memoryGiB": 16,
    "name": "ml.c5.2xlarge",
    "vcpuNum": 8
   },
   {
    "_defaultOrder": 24,
    "_isFastLaunch": false,
    "category": "Compute optimized",
    "gpuNum": 0,
    "hideHardwareSpecs": false,
    "memoryGiB": 32,
    "name": "ml.c5.4xlarge",
    "vcpuNum": 16
   },
   {
    "_defaultOrder": 25,
    "_isFastLaunch": false,
    "category": "Compute optimized",
    "gpuNum": 0,
    "hideHardwareSpecs": false,
    "memoryGiB": 72,
    "name": "ml.c5.9xlarge",
    "vcpuNum": 36
   },
   {
    "_defaultOrder": 26,
    "_isFastLaunch": false,
    "category": "Compute optimized",
    "gpuNum": 0,
    "hideHardwareSpecs": false,
    "memoryGiB": 96,
    "name": "ml.c5.12xlarge",
    "vcpuNum": 48
   },
   {
    "_defaultOrder": 27,
    "_isFastLaunch": false,
    "category": "Compute optimized",
    "gpuNum": 0,
    "hideHardwareSpecs": false,
    "memoryGiB": 144,
    "name": "ml.c5.18xlarge",
    "vcpuNum": 72
   },
   {
    "_defaultOrder": 28,
    "_isFastLaunch": false,
    "category": "Compute optimized",
    "gpuNum": 0,
    "hideHardwareSpecs": false,
    "memoryGiB": 192,
    "name": "ml.c5.24xlarge",
    "vcpuNum": 96
   },
   {
    "_defaultOrder": 29,
    "_isFastLaunch": true,
    "category": "Accelerated computing",
    "gpuNum": 1,
    "hideHardwareSpecs": false,
    "memoryGiB": 16,
    "name": "ml.g4dn.xlarge",
    "vcpuNum": 4
   },
   {
    "_defaultOrder": 30,
    "_isFastLaunch": false,
    "category": "Accelerated computing",
    "gpuNum": 1,
    "hideHardwareSpecs": false,
    "memoryGiB": 32,
    "name": "ml.g4dn.2xlarge",
    "vcpuNum": 8
   },
   {
    "_defaultOrder": 31,
    "_isFastLaunch": false,
    "category": "Accelerated computing",
    "gpuNum": 1,
    "hideHardwareSpecs": false,
    "memoryGiB": 64,
    "name": "ml.g4dn.4xlarge",
    "vcpuNum": 16
   },
   {
    "_defaultOrder": 32,
    "_isFastLaunch": false,
    "category": "Accelerated computing",
    "gpuNum": 1,
    "hideHardwareSpecs": false,
    "memoryGiB": 128,
    "name": "ml.g4dn.8xlarge",
    "vcpuNum": 32
   },
   {
    "_defaultOrder": 33,
    "_isFastLaunch": false,
    "category": "Accelerated computing",
    "gpuNum": 4,
    "hideHardwareSpecs": false,
    "memoryGiB": 192,
    "name": "ml.g4dn.12xlarge",
    "vcpuNum": 48
   },
   {
    "_defaultOrder": 34,
    "_isFastLaunch": false,
    "category": "Accelerated computing",
    "gpuNum": 1,
    "hideHardwareSpecs": false,
    "memoryGiB": 256,
    "name": "ml.g4dn.16xlarge",
    "vcpuNum": 64
   },
   {
    "_defaultOrder": 35,
    "_isFastLaunch": false,
    "category": "Accelerated computing",
    "gpuNum": 1,
    "hideHardwareSpecs": false,
    "memoryGiB": 61,
    "name": "ml.p3.2xlarge",
    "vcpuNum": 8
   },
   {
    "_defaultOrder": 36,
    "_isFastLaunch": false,
    "category": "Accelerated computing",
    "gpuNum": 4,
    "hideHardwareSpecs": false,
    "memoryGiB": 244,
    "name": "ml.p3.8xlarge",
    "vcpuNum": 32
   },
   {
    "_defaultOrder": 37,
    "_isFastLaunch": false,
    "category": "Accelerated computing",
    "gpuNum": 8,
    "hideHardwareSpecs": false,
    "memoryGiB": 488,
    "name": "ml.p3.16xlarge",
    "vcpuNum": 64
   },
   {
    "_defaultOrder": 38,
    "_isFastLaunch": false,
    "category": "Accelerated computing",
    "gpuNum": 8,
    "hideHardwareSpecs": false,
    "memoryGiB": 768,
    "name": "ml.p3dn.24xlarge",
    "vcpuNum": 96
   },
   {
    "_defaultOrder": 39,
    "_isFastLaunch": false,
    "category": "Memory Optimized",
    "gpuNum": 0,
    "hideHardwareSpecs": false,
    "memoryGiB": 16,
    "name": "ml.r5.large",
    "vcpuNum": 2
   },
   {
    "_defaultOrder": 40,
    "_isFastLaunch": false,
    "category": "Memory Optimized",
    "gpuNum": 0,
    "hideHardwareSpecs": false,
    "memoryGiB": 32,
    "name": "ml.r5.xlarge",
    "vcpuNum": 4
   },
   {
    "_defaultOrder": 41,
    "_isFastLaunch": false,
    "category": "Memory Optimized",
    "gpuNum": 0,
    "hideHardwareSpecs": false,
    "memoryGiB": 64,
    "name": "ml.r5.2xlarge",
    "vcpuNum": 8
   },
   {
    "_defaultOrder": 42,
    "_isFastLaunch": false,
    "category": "Memory Optimized",
    "gpuNum": 0,
    "hideHardwareSpecs": false,
    "memoryGiB": 128,
    "name": "ml.r5.4xlarge",
    "vcpuNum": 16
   },
   {
    "_defaultOrder": 43,
    "_isFastLaunch": false,
    "category": "Memory Optimized",
    "gpuNum": 0,
    "hideHardwareSpecs": false,
    "memoryGiB": 256,
    "name": "ml.r5.8xlarge",
    "vcpuNum": 32
   },
   {
    "_defaultOrder": 44,
    "_isFastLaunch": false,
    "category": "Memory Optimized",
    "gpuNum": 0,
    "hideHardwareSpecs": false,
    "memoryGiB": 384,
    "name": "ml.r5.12xlarge",
    "vcpuNum": 48
   },
   {
    "_defaultOrder": 45,
    "_isFastLaunch": false,
    "category": "Memory Optimized",
    "gpuNum": 0,
    "hideHardwareSpecs": false,
    "memoryGiB": 512,
    "name": "ml.r5.16xlarge",
    "vcpuNum": 64
   },
   {
    "_defaultOrder": 46,
    "_isFastLaunch": false,
    "category": "Memory Optimized",
    "gpuNum": 0,
    "hideHardwareSpecs": false,
    "memoryGiB": 768,
    "name": "ml.r5.24xlarge",
    "vcpuNum": 96
   },
   {
    "_defaultOrder": 47,
    "_isFastLaunch": false,
    "category": "Accelerated computing",
    "gpuNum": 1,
    "hideHardwareSpecs": false,
    "memoryGiB": 16,
    "name": "ml.g5.xlarge",
    "vcpuNum": 4
   },
   {
    "_defaultOrder": 48,
    "_isFastLaunch": false,
    "category": "Accelerated computing",
    "gpuNum": 1,
    "hideHardwareSpecs": false,
    "memoryGiB": 32,
    "name": "ml.g5.2xlarge",
    "vcpuNum": 8
   },
   {
    "_defaultOrder": 49,
    "_isFastLaunch": false,
    "category": "Accelerated computing",
    "gpuNum": 1,
    "hideHardwareSpecs": false,
    "memoryGiB": 64,
    "name": "ml.g5.4xlarge",
    "vcpuNum": 16
   },
   {
    "_defaultOrder": 50,
    "_isFastLaunch": false,
    "category": "Accelerated computing",
    "gpuNum": 1,
    "hideHardwareSpecs": false,
    "memoryGiB": 128,
    "name": "ml.g5.8xlarge",
    "vcpuNum": 32
   },
   {
    "_defaultOrder": 51,
    "_isFastLaunch": false,
    "category": "Accelerated computing",
    "gpuNum": 1,
    "hideHardwareSpecs": false,
    "memoryGiB": 256,
    "name": "ml.g5.16xlarge",
    "vcpuNum": 64
   },
   {
    "_defaultOrder": 52,
    "_isFastLaunch": false,
    "category": "Accelerated computing",
    "gpuNum": 4,
    "hideHardwareSpecs": false,
    "memoryGiB": 192,
    "name": "ml.g5.12xlarge",
    "vcpuNum": 48
   },
   {
    "_defaultOrder": 53,
    "_isFastLaunch": false,
    "category": "Accelerated computing",
    "gpuNum": 4,
    "hideHardwareSpecs": false,
    "memoryGiB": 384,
    "name": "ml.g5.24xlarge",
    "vcpuNum": 96
   },
   {
    "_defaultOrder": 54,
    "_isFastLaunch": false,
    "category": "Accelerated computing",
    "gpuNum": 8,
    "hideHardwareSpecs": false,
    "memoryGiB": 768,
    "name": "ml.g5.48xlarge",
    "vcpuNum": 192
   },
   {
    "_defaultOrder": 55,
    "_isFastLaunch": false,
    "category": "Accelerated computing",
    "gpuNum": 8,
    "hideHardwareSpecs": false,
    "memoryGiB": 1152,
    "name": "ml.p4d.24xlarge",
    "vcpuNum": 96
   },
   {
    "_defaultOrder": 56,
    "_isFastLaunch": false,
    "category": "Accelerated computing",
    "gpuNum": 8,
    "hideHardwareSpecs": false,
    "memoryGiB": 1152,
    "name": "ml.p4de.24xlarge",
    "vcpuNum": 96
   },
   {
    "_defaultOrder": 57,
    "_isFastLaunch": false,
    "category": "Accelerated computing",
    "gpuNum": 0,
    "hideHardwareSpecs": false,
    "memoryGiB": 32,
    "name": "ml.trn1.2xlarge",
    "vcpuNum": 8
   },
   {
    "_defaultOrder": 58,
    "_isFastLaunch": false,
    "category": "Accelerated computing",
    "gpuNum": 0,
    "hideHardwareSpecs": false,
    "memoryGiB": 512,
    "name": "ml.trn1.32xlarge",
    "vcpuNum": 128
   },
   {
    "_defaultOrder": 59,
    "_isFastLaunch": false,
    "category": "Accelerated computing",
    "gpuNum": 0,
    "hideHardwareSpecs": false,
    "memoryGiB": 512,
    "name": "ml.trn1n.32xlarge",
    "vcpuNum": 128
   }
  ],
  "instance_type": "ml.t3.medium",
  "kernelspec": {
   "display_name": "conda_tensorflow2_p310",
   "language": "python",
   "name": "conda_tensorflow2_p310"
  },
  "language_info": {
   "codemirror_mode": {
    "name": "ipython",
    "version": 3
   },
   "file_extension": ".py",
   "mimetype": "text/x-python",
   "name": "python",
   "nbconvert_exporter": "python",
   "pygments_lexer": "ipython3",
   "version": "3.10.14"
  }
 },
 "nbformat": 4,
 "nbformat_minor": 5
}
