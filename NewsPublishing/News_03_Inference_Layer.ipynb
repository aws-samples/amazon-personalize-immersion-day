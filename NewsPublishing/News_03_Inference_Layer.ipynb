{
 "cells": [
  {
   "cell_type": "markdown",
   "id": "2a89abeb-02f2-4461-aa1f-07b9f08606de",
   "metadata": {},
   "source": [
    "# Interacting with Campaigns and Filters <a class=\"anchor\" id=\"top\"></a>\n",
    "\n",
    "Now that Unicorn Post has trained models for 2 different use cases (User Personalization and Personalized Reranking), we need to integrate them into our application. Amazon Personalize can make recommendations available via an Application Programming Interface (API). In addition, Amazon Personalize includes features that allow you to easily integrate into applications and provide benefits like real time vending of recommendations based on recent application activity.\n",
    "\n",
    "In this notebook, you will interact with campaigns and filters you created earlier in Amazon Personalize.\n",
    "\n",
    "1. [Introduction](#intro)\n",
    "1. [Interact with Recommenders](#interact-recommenders)\n",
    "1. [Interact with Campaigns](#interact-campaigns)\n",
    "1. [Filters](#filters)\n",
    "1. [Create Filters](#create-filters)\n",
    "1. [Using Filters](#using-filters)\n",
    "1. [Real-time Events](#real-time)\n",
    "1. [Wrap Up](#wrapup)\n",
    "\n",
    "To run this notebook, you need to have run the previous notebooks, [`01_Data_Layer.ipynb`](01_Data_Layer.ipynb), and [`02_Training_Layer.ipynb`](02_Training_Layer.ipynb), where you created a dataset and imported interaction, item, and user metadata data into Amazon Personalize, created recommenders, solutions, and campaigns.\n",
    "\n",
    "## Introduction <a class=\"anchor\" id=\"intro\"></a>\n",
    "[Back to top](#top)\n",
    "\n",
    "At this point, you should have two deployed Campaign. Once they are active, there are resources for querying the recommendations, and helper functions to digest the output into something more human-readable. \n",
    "\n",
    "In this Notebook we will interact with the Campaigns and get recommendations. \n",
    "\n",
    "We will interact with filters and send live data to Amazon Personalize to see the effect of real-time interactions on recommendations.\n",
    "\n",
    "The following diagram shows the resources that we will create in this section. The part we are building in this notebook highlighted in blue with a dashed outline.\n",
    "\n",
    "![Workflow](Images/03_Inference_Layer_Resources.jpg)\n",
    "\n",
    "To get started, once again, we need to import libraries, load values from previous notebooks, and load the SDK."
   ]
  },
  {
   "cell_type": "code",
   "execution_count": 1,
   "id": "e9b233aa-91d2-41b5-a6db-12f4a35441da",
   "metadata": {
    "tags": []
   },
   "outputs": [],
   "source": [
    "import time\n",
    "from time import sleep\n",
    "import json\n",
    "from datetime import datetime\n",
    "import uuid\n",
    "import random\n",
    "import boto3\n",
    "import pandas as pd"
   ]
  },
  {
   "cell_type": "code",
   "execution_count": 2,
   "id": "9c6e3297-01c0-4969-854d-0e83b07da8eb",
   "metadata": {
    "tags": []
   },
   "outputs": [],
   "source": [
    "#retrieves previously stored variables \n",
    "%store -r "
   ]
  },
  {
   "cell_type": "code",
   "execution_count": 3,
   "id": "e9a7efe8-38c7-44ab-9122-8792b8a1a64e",
   "metadata": {
    "tags": []
   },
   "outputs": [],
   "source": [
    "personalize = boto3.client('personalize')\n",
    "personalize_runtime = boto3.client('personalize-runtime')\n",
    "\n",
    "# Establish a connection to Personalize's event streaming\n",
    "personalize_events = boto3.client(service_name='personalize-events')"
   ]
  },
  {
   "cell_type": "markdown",
   "id": "f87c146d-fa06-462b-bf23-f3c5b73f5dec",
   "metadata": {},
   "source": [
    "## Interact with Campaigns <a class=\"anchor\" id=\"interact-recommenders\"></a>\n",
    "[Back to top](#top)\n",
    "\n",
    "Now that the models have been trained, lets have a look at the recommendations we can get for our users!"
   ]
  },
  {
   "cell_type": "markdown",
   "id": "8224b798-905d-4301-a8a7-195c8f9728d8",
   "metadata": {},
   "source": [
    "### User Personalization Model\n",
    "\n",
    "\"User Personalization \" requires a user as input, and it will return the items it thinks the customer is most likely to interact with next.\n",
    "\n",
    "The cells below will handle getting recommendations from the \"User Personalization Model\" and rendering the results. Let's see what the recommendations are for a user.\n",
    "\n",
    "We will be using the `campaignArn`, the `userId`, as well as the number or results we want, `numResults`."
   ]
  },
  {
   "cell_type": "markdown",
   "id": "f12e1e16-1832-49e4-acee-029957db10c1",
   "metadata": {},
   "source": [
    "### Select a User\n",
    "\n",
    "We'll just pick a random user for simplicity. Feel free to change the `user_id` below and execute the following cells with a different user to get a sense for how the recommendations change.\n",
    "\n",
    "#### Sample User ID's\n",
    " -8845298781299428018\n",
    " -1032019229384696495\n",
    " -1130272294246983140\n",
    " 344280948527967603\n",
    " -445337111692715325"
   ]
  },
  {
   "cell_type": "code",
   "execution_count": 4,
   "id": "30ce5239-1dee-4913-9307-e52798cc7529",
   "metadata": {
    "tags": []
   },
   "outputs": [],
   "source": [
    "sample_user = str(-8845298781299428018)"
   ]
  },
  {
   "cell_type": "code",
   "execution_count": 5,
   "id": "c913cb7e-404c-459d-b4d3-be9c4d3cd214",
   "metadata": {
    "tags": []
   },
   "outputs": [],
   "source": [
    "get_recommendations_response = personalize_runtime.get_recommendations(\n",
    "    campaignArn = workshop_userpersonalization_campaign_arn,\n",
    "    userId = sample_user,\n",
    "    numResults = 5\n",
    ")"
   ]
  },
  {
   "cell_type": "code",
   "execution_count": 6,
   "id": "20faaa70-5790-477c-a6f3-c46290fdd6aa",
   "metadata": {
    "tags": []
   },
   "outputs": [
    {
     "name": "stdout",
     "output_type": "stream",
     "text": [
      "{'ResponseMetadata': {'RequestId': '58860ecf-e08d-47c3-b0fd-1a0980615f11', 'HTTPStatusCode': 200, 'HTTPHeaders': {'date': 'Wed, 29 May 2024 01:27:47 GMT', 'content-type': 'application/json', 'content-length': '681', 'connection': 'keep-alive', 'x-amzn-requestid': '58860ecf-e08d-47c3-b0fd-1a0980615f11'}, 'RetryAttempts': 0}, 'itemList': [{'itemId': '3566197569262766169', 'score': 0.956582}, {'itemId': '-6623581327558800021', 'score': 0.0052045}, {'itemId': '717471739656838182', 'score': 0.0028103}, {'itemId': '-1415040208471067980', 'score': 0.0016436}, {'itemId': '8482750322470893687', 'score': 0.0015941}], 'recommendationId': 'RID-dc-4d6f-8588-d89f6936024d-CID-482b34'}\n"
     ]
    }
   ],
   "source": [
    "print(get_recommendations_response)"
   ]
  },
  {
   "cell_type": "markdown",
   "id": "7fd22cc9-a21f-4810-ab77-6af120fbd5ab",
   "metadata": {
    "tags": []
   },
   "source": [
    "A little hard to read - lets make a dataframe"
   ]
  },
  {
   "cell_type": "code",
   "execution_count": 7,
   "id": "15a6c1e8-f11a-48fb-b035-b712c520aa44",
   "metadata": {
    "tags": []
   },
   "outputs": [],
   "source": [
    "recommendations_df = pd.DataFrame.from_records(get_recommendations_response['itemList'])"
   ]
  },
  {
   "cell_type": "code",
   "execution_count": 8,
   "id": "c64bdff4-dc4f-4cb5-95d8-9ffa959df3b0",
   "metadata": {
    "tags": []
   },
   "outputs": [
    {
     "data": {
      "text/html": [
       "<div>\n",
       "<style scoped>\n",
       "    .dataframe tbody tr th:only-of-type {\n",
       "        vertical-align: middle;\n",
       "    }\n",
       "\n",
       "    .dataframe tbody tr th {\n",
       "        vertical-align: top;\n",
       "    }\n",
       "\n",
       "    .dataframe thead th {\n",
       "        text-align: right;\n",
       "    }\n",
       "</style>\n",
       "<table border=\"1\" class=\"dataframe\">\n",
       "  <thead>\n",
       "    <tr style=\"text-align: right;\">\n",
       "      <th></th>\n",
       "      <th>itemId</th>\n",
       "      <th>score</th>\n",
       "    </tr>\n",
       "  </thead>\n",
       "  <tbody>\n",
       "    <tr>\n",
       "      <th>0</th>\n",
       "      <td>3566197569262766169</td>\n",
       "      <td>0.956582</td>\n",
       "    </tr>\n",
       "    <tr>\n",
       "      <th>1</th>\n",
       "      <td>-6623581327558800021</td>\n",
       "      <td>0.005204</td>\n",
       "    </tr>\n",
       "    <tr>\n",
       "      <th>2</th>\n",
       "      <td>717471739656838182</td>\n",
       "      <td>0.002810</td>\n",
       "    </tr>\n",
       "    <tr>\n",
       "      <th>3</th>\n",
       "      <td>-1415040208471067980</td>\n",
       "      <td>0.001644</td>\n",
       "    </tr>\n",
       "    <tr>\n",
       "      <th>4</th>\n",
       "      <td>8482750322470893687</td>\n",
       "      <td>0.001594</td>\n",
       "    </tr>\n",
       "  </tbody>\n",
       "</table>\n",
       "</div>"
      ],
      "text/plain": [
       "                 itemId     score\n",
       "0   3566197569262766169  0.956582\n",
       "1  -6623581327558800021  0.005204\n",
       "2    717471739656838182  0.002810\n",
       "3  -1415040208471067980  0.001644\n",
       "4   8482750322470893687  0.001594"
      ]
     },
     "execution_count": 8,
     "metadata": {},
     "output_type": "execute_result"
    }
   ],
   "source": [
    "recommendations_df"
   ]
  },
  {
   "cell_type": "markdown",
   "id": "893ae727-47e6-4cba-8f9f-59c06a54f55c",
   "metadata": {
    "tags": []
   },
   "source": [
    "Lets lookup what sort of articles are being recommended to this user"
   ]
  },
  {
   "cell_type": "code",
   "execution_count": 9,
   "id": "f44ab546-7780-42f9-9aa1-59442901d2b2",
   "metadata": {
    "tags": []
   },
   "outputs": [],
   "source": [
    "articles_mlfeatures['item_id'] = articles_mlfeatures['item_id'].astype('str')"
   ]
  },
  {
   "cell_type": "code",
   "execution_count": 10,
   "id": "02434029-a0e1-419b-8ee3-cd55f1a4397c",
   "metadata": {
    "tags": []
   },
   "outputs": [],
   "source": [
    "recommendations_df = recommendations_df.merge(articles_mlfeatures, how='left', left_on='itemId', right_on='item_id')"
   ]
  },
  {
   "cell_type": "code",
   "execution_count": 11,
   "id": "93f9f4b2-e5ab-4697-8b27-cfef61fa035a",
   "metadata": {
    "tags": []
   },
   "outputs": [
    {
     "data": {
      "text/html": [
       "<div>\n",
       "<style scoped>\n",
       "    .dataframe tbody tr th:only-of-type {\n",
       "        vertical-align: middle;\n",
       "    }\n",
       "\n",
       "    .dataframe tbody tr th {\n",
       "        vertical-align: top;\n",
       "    }\n",
       "\n",
       "    .dataframe thead th {\n",
       "        text-align: right;\n",
       "    }\n",
       "</style>\n",
       "<table border=\"1\" class=\"dataframe\">\n",
       "  <thead>\n",
       "    <tr style=\"text-align: right;\">\n",
       "      <th></th>\n",
       "      <th>itemId</th>\n",
       "      <th>score</th>\n",
       "      <th>creation_timestamp</th>\n",
       "      <th>item_id</th>\n",
       "      <th>lang</th>\n",
       "      <th>article_genre</th>\n",
       "      <th>training_text</th>\n",
       "    </tr>\n",
       "  </thead>\n",
       "  <tbody>\n",
       "    <tr>\n",
       "      <th>0</th>\n",
       "      <td>3566197569262766169</td>\n",
       "      <td>0.956582</td>\n",
       "      <td>1486520793</td>\n",
       "      <td>3566197569262766169</td>\n",
       "      <td>en</td>\n",
       "      <td>cloud provider news</td>\n",
       "      <td>Google extends Gmail API for more granular ema...</td>\n",
       "    </tr>\n",
       "    <tr>\n",
       "      <th>1</th>\n",
       "      <td>-6623581327558800021</td>\n",
       "      <td>0.005204</td>\n",
       "      <td>1487157951</td>\n",
       "      <td>-6623581327558800021</td>\n",
       "      <td>en</td>\n",
       "      <td>cloud provider news</td>\n",
       "      <td>Google's Spanner database offers global replic...</td>\n",
       "    </tr>\n",
       "    <tr>\n",
       "      <th>2</th>\n",
       "      <td>717471739656838182</td>\n",
       "      <td>0.002810</td>\n",
       "      <td>1486633628</td>\n",
       "      <td>717471739656838182</td>\n",
       "      <td>en</td>\n",
       "      <td>cloud provider news</td>\n",
       "      <td>Evernote migrates from own data centers to Goo...</td>\n",
       "    </tr>\n",
       "    <tr>\n",
       "      <th>3</th>\n",
       "      <td>-1415040208471067980</td>\n",
       "      <td>0.001644</td>\n",
       "      <td>1482409156</td>\n",
       "      <td>-1415040208471067980</td>\n",
       "      <td>en</td>\n",
       "      <td>cloud provider news</td>\n",
       "      <td>Google Cloud Platform releases icon library fo...</td>\n",
       "    </tr>\n",
       "    <tr>\n",
       "      <th>4</th>\n",
       "      <td>8482750322470893687</td>\n",
       "      <td>0.001594</td>\n",
       "      <td>1471309031</td>\n",
       "      <td>8482750322470893687</td>\n",
       "      <td>en</td>\n",
       "      <td>cloud provider news</td>\n",
       "      <td>Google consolidates Hangouts On Air into YouTu...</td>\n",
       "    </tr>\n",
       "  </tbody>\n",
       "</table>\n",
       "</div>"
      ],
      "text/plain": [
       "                 itemId     score  creation_timestamp               item_id  \\\n",
       "0   3566197569262766169  0.956582          1486520793   3566197569262766169   \n",
       "1  -6623581327558800021  0.005204          1487157951  -6623581327558800021   \n",
       "2    717471739656838182  0.002810          1486633628    717471739656838182   \n",
       "3  -1415040208471067980  0.001644          1482409156  -1415040208471067980   \n",
       "4   8482750322470893687  0.001594          1471309031   8482750322470893687   \n",
       "\n",
       "  lang        article_genre                                      training_text  \n",
       "0   en  cloud provider news  Google extends Gmail API for more granular ema...  \n",
       "1   en  cloud provider news  Google's Spanner database offers global replic...  \n",
       "2   en  cloud provider news  Evernote migrates from own data centers to Goo...  \n",
       "3   en  cloud provider news  Google Cloud Platform releases icon library fo...  \n",
       "4   en  cloud provider news  Google consolidates Hangouts On Air into YouTu...  "
      ]
     },
     "execution_count": 11,
     "metadata": {},
     "output_type": "execute_result"
    }
   ],
   "source": [
    "recommendations_df"
   ]
  },
  {
   "cell_type": "code",
   "execution_count": 12,
   "id": "c5dfad0e-4958-477b-8e57-efda2b5f7edc",
   "metadata": {
    "tags": []
   },
   "outputs": [
    {
     "name": "stdout",
     "output_type": "stream",
     "text": [
      "Google extends Gmail API for more granular email settings management Google updated the Gmail API with new endpoints to manage filters, aliases, forwarding, signatures, vacation responders, and other granular email settings. This replaces the deprecated Email Settings API. Google has extended the Gmail API with new endpoints for managing email settings like filters, forwarding addresses, IMAP/POP settings, sendas aliases, signatures, and vacation responders. Developers can now retrieve and update signatures for sendas aliases, configure forwarding to external addresses, configure sendas aliases through external providers, use HTML in vacation messages, and manipulate settings for gmail.com accounts. More settings features like mailbox delegate support will be added over time. Most settings endpoints work for any Google Apps or Gmail account, but sensitive operations like modifying aliases or forwarding are restricted to service accounts with domainwide authority. The existing Email Settings API in the Admin SDK is deprecated and will be turned down on July 7, 2017 in favor of the updated Gmail API. Google has provided a migration guide to help clients transition.\n",
      "===================================\n",
      "Google's Spanner database offers global replication and consistency Google is now offering its globally distributed Spanner database as a cloud service. The unique time synchronization could benefit global businesses. About a decade ago, Google engineers built a global database called Spanner that works across multiple data centers around the world. Spanner behaves as if it's in one place, allowing Google to replicate data and make changes globally without conflicts. This provides consistency across Google services like Gmail and AdWords. Spanner achieves this by using GPS receivers, atomic clocks, and time synchronization technology called TrueTime to establish a common time reference across data centers. This allows for coordination between distributed systems faster than the speed of light. TrueTime is unique to Google. Spanner gives Google a competitive advantage in cloud computing against rivals like Amazon and Microsoft. Google hopes Spanner's global replication and consistency will appeal to global businesses and financial institutions. A supply chain company called JDA is already testing Spanner. Spanner was previously only useful to Google, but now Google is offering it as a cloud service so other companies can benefit from its global scale and unique time synchronization abilities. This could allow businesses to more easily expand globally and replicate data across regions.\n",
      "===================================\n",
      "Evernote migrates from own data centers to Google Cloud Evernote moved its popular note taking service to Google Cloud for machine learning capabilities, flexibility, and to avoid running its own infrastructure. Evernote decided last year to move away from running its own data centers and start using the public cloud to operate its popular notetaking service. It signed up to work with Google Cloud Platform. Google sent engineers to help Evernote with the migration. Evernote wanted to leverage the cloud for new machine learning features and flexibility. The migration required adapting Evernote's backend, which was built assuming onpremises data centers. Google's expertise in unstructured data and machine learning made it a good fit over AWS or Azure. The migration had to be done without losing any of Evernote's 3 petabytes of data or disrupting the live service. Evernote reworked parts of its application like networking and storage to work on Google's cloud. Google engineers provided 24/7 support and even came onsite to help. The main migration took around 10 days. The cloud removed Evernote's need to maintain its own data centers and keep up with infrastructure advances. It provides reduced latency for international users through Google's network. Evernote is still migrating some final user attachments but all data is now encrypted at rest. The company has more freedom to leverage cloud services for new features.\n",
      "===================================\n",
      "Google Cloud Platform releases icon library for diagrams Google Cloud Platform published downloadable icons and sample diagrams to help visually represent GCP infrastructure and services. Google Cloud Platform has released downloadable icon sets and sample diagrams to help developers, architects, and partners visually represent complex cloud infrastructure in documents and presentations. The icons cover GCP products, services, and elements that can be combined with other providers' icons to show hybrid/multicloud setups. Over 50 sample diagrams are available in Slide and PowerPoint formats to help kickstart new diagrams. As more products launch, Google will add icons so users should revisit the icon library. This allows accurate, uptodate visual representations of Google Cloud Platform architectures and services.\n",
      "===================================\n",
      "Google consolidates Hangouts On Air into YouTube Live Google is retiring Hangouts On Air and moving livestreaming features to YouTube Live to consolidate products. Google announced that Google+ Hangouts On Air will no longer be available starting September 12. Users will be asked to use YouTube Live for livestreaming instead. Google first launched Hangouts On Air in 2011 for select users and opened it up to everyone in 2012. In 2013, Google launched YouTube Live and has now decided to consolidate the two products. After September 12, users won't be able to schedule new Hangouts On Air events. Existing events after this date will need to be moved to YouTube Live. Hangouts On Air will still exist in some form, just not tied to Google+. Users will need to use YouTube Live's builtin scheduling feature instead. To use Hangouts On Air with YouTube Live: Go to Live Streaming Events in Creator Studio, click New live event, select Quick (using Google Hangouts On Air), title the event, schedule it or go live now, and broadcast with Hangouts. Recorded events will still be on YouTube. The only Google+ link will be to see event content in readonly Activity Log. Google began dropping the Google+ requirement across products in 2015, a process still ongoing. Last week Google Play dropped the requirement for reviews. Next month, Hangouts On Air scheduling will move off Google+.\n",
      "===================================\n"
     ]
    }
   ],
   "source": [
    "for i, row in recommendations_df.iterrows():\n",
    "    print(row['training_text'])\n",
    "    print(\"===================================\")"
   ]
  },
  {
   "cell_type": "markdown",
   "id": "ce02220b-e236-4b56-b9e6-9007a3fcd2ec",
   "metadata": {},
   "source": [
    "What has this user viewed previously"
   ]
  },
  {
   "cell_type": "code",
   "execution_count": 13,
   "id": "b8fbaaaa-cbff-47be-b80e-34cbd36c0d26",
   "metadata": {
    "tags": []
   },
   "outputs": [],
   "source": [
    "viewed_interactions = interaction_data[interaction_data['user_id'].astype(str) == sample_user].sort_values('timestamp', ascending=False)"
   ]
  },
  {
   "cell_type": "code",
   "execution_count": 14,
   "id": "04838e9c-2ffb-43ed-8a74-f08d29d3be18",
   "metadata": {
    "tags": []
   },
   "outputs": [
    {
     "data": {
      "text/html": [
       "<div>\n",
       "<style scoped>\n",
       "    .dataframe tbody tr th:only-of-type {\n",
       "        vertical-align: middle;\n",
       "    }\n",
       "\n",
       "    .dataframe tbody tr th {\n",
       "        vertical-align: top;\n",
       "    }\n",
       "\n",
       "    .dataframe thead th {\n",
       "        text-align: right;\n",
       "    }\n",
       "</style>\n",
       "<table border=\"1\" class=\"dataframe\">\n",
       "  <thead>\n",
       "    <tr style=\"text-align: right;\">\n",
       "      <th></th>\n",
       "      <th>timestamp</th>\n",
       "      <th>event_type</th>\n",
       "      <th>item_id</th>\n",
       "      <th>user_id</th>\n",
       "      <th>session_id</th>\n",
       "      <th>user_device_type</th>\n",
       "    </tr>\n",
       "  </thead>\n",
       "  <tbody>\n",
       "    <tr>\n",
       "      <th>69083</th>\n",
       "      <td>1487360168</td>\n",
       "      <td>FOLLOW</td>\n",
       "      <td>3566197569262766169</td>\n",
       "      <td>-8845298781299428018</td>\n",
       "      <td>808768479044973017</td>\n",
       "      <td>NonMobile</td>\n",
       "    </tr>\n",
       "    <tr>\n",
       "      <th>69085</th>\n",
       "      <td>1487360167</td>\n",
       "      <td>COMMENT CREATED</td>\n",
       "      <td>3566197569262766169</td>\n",
       "      <td>-8845298781299428018</td>\n",
       "      <td>808768479044973017</td>\n",
       "      <td>NonMobile</td>\n",
       "    </tr>\n",
       "    <tr>\n",
       "      <th>69082</th>\n",
       "      <td>1487359849</td>\n",
       "      <td>VIEW</td>\n",
       "      <td>3566197569262766169</td>\n",
       "      <td>-8845298781299428018</td>\n",
       "      <td>808768479044973017</td>\n",
       "      <td>NonMobile</td>\n",
       "    </tr>\n",
       "    <tr>\n",
       "      <th>69722</th>\n",
       "      <td>1487069095</td>\n",
       "      <td>VIEW</td>\n",
       "      <td>-8900113512825364282</td>\n",
       "      <td>-8845298781299428018</td>\n",
       "      <td>8663979798581613597</td>\n",
       "      <td>NonMobile</td>\n",
       "    </tr>\n",
       "    <tr>\n",
       "      <th>68453</th>\n",
       "      <td>1485973216</td>\n",
       "      <td>VIEW</td>\n",
       "      <td>-532999578436827210</td>\n",
       "      <td>-8845298781299428018</td>\n",
       "      <td>-5430065457414428568</td>\n",
       "      <td>NonMobile</td>\n",
       "    </tr>\n",
       "    <tr>\n",
       "      <th>...</th>\n",
       "      <td>...</td>\n",
       "      <td>...</td>\n",
       "      <td>...</td>\n",
       "      <td>...</td>\n",
       "      <td>...</td>\n",
       "      <td>...</td>\n",
       "    </tr>\n",
       "    <tr>\n",
       "      <th>12169</th>\n",
       "      <td>1459345020</td>\n",
       "      <td>VIEW</td>\n",
       "      <td>7973573994178035769</td>\n",
       "      <td>-8845298781299428018</td>\n",
       "      <td>3760091107461406486</td>\n",
       "      <td>NonMobile</td>\n",
       "    </tr>\n",
       "    <tr>\n",
       "      <th>18783</th>\n",
       "      <td>1459285852</td>\n",
       "      <td>VIEW</td>\n",
       "      <td>6152652267138213180</td>\n",
       "      <td>-8845298781299428018</td>\n",
       "      <td>-6283148774987755959</td>\n",
       "      <td>NonMobile</td>\n",
       "    </tr>\n",
       "    <tr>\n",
       "      <th>692</th>\n",
       "      <td>1459274282</td>\n",
       "      <td>VIEW</td>\n",
       "      <td>-1672166631728511207</td>\n",
       "      <td>-8845298781299428018</td>\n",
       "      <td>-6283148774987755959</td>\n",
       "      <td>NonMobile</td>\n",
       "    </tr>\n",
       "    <tr>\n",
       "      <th>684</th>\n",
       "      <td>1459274266</td>\n",
       "      <td>VIEW</td>\n",
       "      <td>-1672166631728511207</td>\n",
       "      <td>-8845298781299428018</td>\n",
       "      <td>-6283148774987755959</td>\n",
       "      <td>NonMobile</td>\n",
       "    </tr>\n",
       "    <tr>\n",
       "      <th>680</th>\n",
       "      <td>1459274156</td>\n",
       "      <td>VIEW</td>\n",
       "      <td>-6142462826726347616</td>\n",
       "      <td>-8845298781299428018</td>\n",
       "      <td>-6283148774987755959</td>\n",
       "      <td>NonMobile</td>\n",
       "    </tr>\n",
       "  </tbody>\n",
       "</table>\n",
       "<p>254 rows × 6 columns</p>\n",
       "</div>"
      ],
      "text/plain": [
       "        timestamp       event_type              item_id              user_id  \\\n",
       "69083  1487360168           FOLLOW  3566197569262766169 -8845298781299428018   \n",
       "69085  1487360167  COMMENT CREATED  3566197569262766169 -8845298781299428018   \n",
       "69082  1487359849             VIEW  3566197569262766169 -8845298781299428018   \n",
       "69722  1487069095             VIEW -8900113512825364282 -8845298781299428018   \n",
       "68453  1485973216             VIEW  -532999578436827210 -8845298781299428018   \n",
       "...           ...              ...                  ...                  ...   \n",
       "12169  1459345020             VIEW  7973573994178035769 -8845298781299428018   \n",
       "18783  1459285852             VIEW  6152652267138213180 -8845298781299428018   \n",
       "692    1459274282             VIEW -1672166631728511207 -8845298781299428018   \n",
       "684    1459274266             VIEW -1672166631728511207 -8845298781299428018   \n",
       "680    1459274156             VIEW -6142462826726347616 -8845298781299428018   \n",
       "\n",
       "                session_id user_device_type  \n",
       "69083   808768479044973017        NonMobile  \n",
       "69085   808768479044973017        NonMobile  \n",
       "69082   808768479044973017        NonMobile  \n",
       "69722  8663979798581613597        NonMobile  \n",
       "68453 -5430065457414428568        NonMobile  \n",
       "...                    ...              ...  \n",
       "12169  3760091107461406486        NonMobile  \n",
       "18783 -6283148774987755959        NonMobile  \n",
       "692   -6283148774987755959        NonMobile  \n",
       "684   -6283148774987755959        NonMobile  \n",
       "680   -6283148774987755959        NonMobile  \n",
       "\n",
       "[254 rows x 6 columns]"
      ]
     },
     "execution_count": 14,
     "metadata": {},
     "output_type": "execute_result"
    }
   ],
   "source": [
    "viewed_interactions"
   ]
  },
  {
   "cell_type": "markdown",
   "id": "9d74b11f-f839-4bed-86bc-04a4336e2032",
   "metadata": {},
   "source": [
    "lets take the most recent 5 articles interacted with by this user"
   ]
  },
  {
   "cell_type": "code",
   "execution_count": 15,
   "id": "b7125edd-f0ec-4026-801d-129031052d93",
   "metadata": {
    "tags": []
   },
   "outputs": [],
   "source": [
    "most_recent_five_articles = viewed_interactions.item_id.unique()[:5].astype(str).tolist()"
   ]
  },
  {
   "cell_type": "code",
   "execution_count": 16,
   "id": "646ea954-e54c-4b00-968c-68e8656b8330",
   "metadata": {
    "tags": []
   },
   "outputs": [],
   "source": [
    "most_recent_five_articles_metadata = articles_mlfeatures[articles_mlfeatures['item_id'].isin(most_recent_five_articles)]"
   ]
  },
  {
   "cell_type": "code",
   "execution_count": 17,
   "id": "ed7ae927-fe52-4d65-9dc4-06c1f895e45b",
   "metadata": {
    "tags": []
   },
   "outputs": [
    {
     "data": {
      "text/html": [
       "<div>\n",
       "<style scoped>\n",
       "    .dataframe tbody tr th:only-of-type {\n",
       "        vertical-align: middle;\n",
       "    }\n",
       "\n",
       "    .dataframe tbody tr th {\n",
       "        vertical-align: top;\n",
       "    }\n",
       "\n",
       "    .dataframe thead th {\n",
       "        text-align: right;\n",
       "    }\n",
       "</style>\n",
       "<table border=\"1\" class=\"dataframe\">\n",
       "  <thead>\n",
       "    <tr style=\"text-align: right;\">\n",
       "      <th></th>\n",
       "      <th>creation_timestamp</th>\n",
       "      <th>item_id</th>\n",
       "      <th>lang</th>\n",
       "      <th>article_genre</th>\n",
       "      <th>training_text</th>\n",
       "    </tr>\n",
       "  </thead>\n",
       "  <tbody>\n",
       "    <tr>\n",
       "      <th>2869</th>\n",
       "      <td>1481676932</td>\n",
       "      <td>8526042588044002101</td>\n",
       "      <td>en</td>\n",
       "      <td>tech</td>\n",
       "      <td>Cloud Native enables efficient, automated infr...</td>\n",
       "    </tr>\n",
       "    <tr>\n",
       "      <th>2982</th>\n",
       "      <td>1484838924</td>\n",
       "      <td>7419040071212162906</td>\n",
       "      <td>en</td>\n",
       "      <td>tech</td>\n",
       "      <td>Google search traffic hack by targeting \\\"best...</td>\n",
       "    </tr>\n",
       "    <tr>\n",
       "      <th>3040</th>\n",
       "      <td>1485899108</td>\n",
       "      <td>-532999578436827210</td>\n",
       "      <td>en</td>\n",
       "      <td>cloud provider news</td>\n",
       "      <td>IBM launches cloud graph database service usin...</td>\n",
       "    </tr>\n",
       "    <tr>\n",
       "      <th>3065</th>\n",
       "      <td>1486520793</td>\n",
       "      <td>3566197569262766169</td>\n",
       "      <td>en</td>\n",
       "      <td>cloud provider news</td>\n",
       "      <td>Google extends Gmail API for more granular ema...</td>\n",
       "    </tr>\n",
       "    <tr>\n",
       "      <th>3084</th>\n",
       "      <td>1486999803</td>\n",
       "      <td>-8900113512825364282</td>\n",
       "      <td>en</td>\n",
       "      <td>non tech</td>\n",
       "      <td>Report finds banks lag in customer experience ...</td>\n",
       "    </tr>\n",
       "  </tbody>\n",
       "</table>\n",
       "</div>"
      ],
      "text/plain": [
       "      creation_timestamp               item_id lang        article_genre  \\\n",
       "2869          1481676932   8526042588044002101   en                 tech   \n",
       "2982          1484838924   7419040071212162906   en                 tech   \n",
       "3040          1485899108   -532999578436827210   en  cloud provider news   \n",
       "3065          1486520793   3566197569262766169   en  cloud provider news   \n",
       "3084          1486999803  -8900113512825364282   en             non tech   \n",
       "\n",
       "                                          training_text  \n",
       "2869  Cloud Native enables efficient, automated infr...  \n",
       "2982  Google search traffic hack by targeting \\\"best...  \n",
       "3040  IBM launches cloud graph database service usin...  \n",
       "3065  Google extends Gmail API for more granular ema...  \n",
       "3084  Report finds banks lag in customer experience ...  "
      ]
     },
     "execution_count": 17,
     "metadata": {},
     "output_type": "execute_result"
    }
   ],
   "source": [
    "most_recent_five_articles_metadata"
   ]
  },
  {
   "cell_type": "markdown",
   "id": "62a360a7-b914-4007-ae3e-199222ddd171",
   "metadata": {},
   "source": [
    "We see that the user has previously red information on cloud applications and google in particular. In fact one of our recommendations is actually in the users recent interaction history. This is not ideal lets use the fitler we created earlier to exclude this data. Also lets make use of the return metadata function to retrieve the information on this article so that the recommendations are easier for us to understand. "
   ]
  },
  {
   "cell_type": "code",
   "execution_count": 18,
   "id": "0794bd69-9422-4dd6-9514-458984b4dfc8",
   "metadata": {
    "tags": []
   },
   "outputs": [
    {
     "name": "stdout",
     "output_type": "stream",
     "text": [
      "{'campaignArn': 'arn:aws:personalize:us-east-1:381491864570:campaign/immersion_day_user_personalization_news_campaign', 'ResponseMetadata': {'RequestId': 'ca657b1e-56ea-4eef-94d5-8c05869c876b', 'HTTPStatusCode': 200, 'HTTPHeaders': {'date': 'Wed, 29 May 2024 01:27:51 GMT', 'content-type': 'application/x-amz-json-1.1', 'content-length': '118', 'connection': 'keep-alive', 'x-amzn-requestid': 'ca657b1e-56ea-4eef-94d5-8c05869c876b', 'strict-transport-security': 'max-age=47304000; includeSubDomains', 'x-frame-options': 'DENY', 'cache-control': 'no-cache', 'x-content-type-options': 'nosniff'}, 'RetryAttempts': 0}}\n",
      "{'campaignArn': 'arn:aws:personalize:us-east-1:381491864570:campaign/immersion_day_personalized_ranking_news_campaign', 'ResponseMetadata': {'RequestId': '50ab22c2-9b77-4d28-8b7a-11e815265bf1', 'HTTPStatusCode': 200, 'HTTPHeaders': {'date': 'Wed, 29 May 2024 01:27:51 GMT', 'content-type': 'application/x-amz-json-1.1', 'content-length': '118', 'connection': 'keep-alive', 'x-amzn-requestid': '50ab22c2-9b77-4d28-8b7a-11e815265bf1', 'strict-transport-security': 'max-age=47304000; includeSubDomains', 'x-frame-options': 'DENY', 'cache-control': 'no-cache', 'x-content-type-options': 'nosniff'}, 'RetryAttempts': 0}}\n"
     ]
    }
   ],
   "source": [
    "response = personalize.update_campaign(\n",
    "    campaignArn = workshop_userpersonalization_campaign_arn,\n",
    "    campaignConfig={\n",
    "        'enableMetadataWithRecommendations': True\n",
    "    }\n",
    ")\n",
    "print (response)\n",
    "\n",
    "response = personalize.update_campaign(\n",
    "    campaignArn = workshop_rerank_campaign_arn,\n",
    "    campaignConfig={\n",
    "        'enableMetadataWithRecommendations': True\n",
    "    }\n",
    ")\n",
    "print (response)"
   ]
  },
  {
   "cell_type": "code",
   "execution_count": 19,
   "id": "47a05aeb-8c44-419e-a85c-a80ad3cb7a6f",
   "metadata": {
    "tags": []
   },
   "outputs": [
    {
     "ename": "NameError",
     "evalue": "name 'up_version_response' is not defined",
     "output_type": "error",
     "traceback": [
      "\u001b[0;31m---------------------------------------------------------------------------\u001b[0m",
      "\u001b[0;31mNameError\u001b[0m                                 Traceback (most recent call last)",
      "Cell \u001b[0;32mIn[19], line 1\u001b[0m\n\u001b[0;32m----> 1\u001b[0m \u001b[43mup_version_response\u001b[49m\n",
      "\u001b[0;31mNameError\u001b[0m: name 'up_version_response' is not defined"
     ]
    }
   ],
   "source": [
    "up_version_response"
   ]
  },
  {
   "cell_type": "code",
   "execution_count": null,
   "id": "e811b22f-cedf-4cbe-8c2d-9e798555abc4",
   "metadata": {
    "tags": []
   },
   "outputs": [],
   "source": [
    "max_time = time.time() + 10*60*60 # 10 hours\n",
    "while time.time() < max_time:\n",
    "        \n",
    "    # Personalized ranking Campaign\n",
    "    up_version_response = personalize.describe_campaign(\n",
    "        campaignArn = workshop_userpersonalization_campaign_arn\n",
    "    )\n",
    "\n",
    "    up_status_campaign_update = up_version_response['campaign']['latestCampaignUpdate']['status']\n",
    "\n",
    "    if up_status_campaign_update == 'ACTIVE':\n",
    "        print('Update succeeded for {}'.format(workshop_userpersonalization_campaign_arn))\n",
    "    elif up_status_campaign_update == \"CREATE FAILED\":\n",
    "        print('Update failed for {}'.format(workshop_userpersonalization_campaign_arn))\n",
    "        break\n",
    "    \n",
    "    \n",
    "    if not up_status_campaign_update == \"ACTIVE\":\n",
    "        print('The campaign update is still in progress')\n",
    "    else:\n",
    "        print(\"The Personalized Ranking Campaign is ACTIVE\")\n",
    "\n",
    "        \n",
    "    pr_version_response = personalize.describe_campaign(\n",
    "        campaignArn = workshop_rerank_campaign_arn\n",
    "    )\n",
    "\n",
    "    pr_status_campaign_update = pr_version_response['campaign']['latestCampaignUpdate']['status']\n",
    "\n",
    "    if pr_status_campaign_update == 'ACTIVE':\n",
    "        print('Update succeeded for {}'.format(workshop_rerank_campaign_arn))\n",
    "    elif pr_status_campaign_update == \"CREATE FAILED\":\n",
    "        print('Update failed for {}'.format(workshop_rerank_campaign_arn))\n",
    "        break\n",
    "    \n",
    "    \n",
    "    if not pr_status_campaign_update == \"ACTIVE\":\n",
    "        print('The campaign update is still in progress')\n",
    "    else:\n",
    "        print(\"The Personalized Ranking Campaign is ACTIVE\")\n",
    "        \n",
    "    if up_status_campaign_update == \"ACTIVE\" and pr_status_campaign_update == 'ACTIVE':\n",
    "        break\n",
    "    \n",
    "    sleep(60)\n",
    "    print()"
   ]
  },
  {
   "cell_type": "markdown",
   "id": "a9c4fe64-9d82-4722-8836-e18b2f615920",
   "metadata": {
    "tags": []
   },
   "source": [
    "Note you can enable metadata with recommendations when you deploy the campaign for the first time as follows:\n",
    "\n",
    "```python\n",
    "user_personalization_create_campaign_response = personalize.create_campaign(\n",
    "    name = workshop_userpersonalization_campaign_name,\n",
    "    solutionVersionArn = workshop_userpersonalization_solution_version_arn,\n",
    "    minProvisionedTPS = 1,\n",
    "    campaignConfig = {\"enableMetadataWithRecommendations\": True}    \n",
    ")\n",
    "```"
   ]
  },
  {
   "cell_type": "code",
   "execution_count": 20,
   "id": "34eb6bfe-89b7-4dc8-8081-683f27dc6448",
   "metadata": {
    "tags": []
   },
   "outputs": [],
   "source": [
    "get_recommendations_response = personalize_runtime.get_recommendations(\n",
    "    campaignArn = workshop_userpersonalization_campaign_arn,\n",
    "    userId = sample_user,\n",
    "    numResults = 10,\n",
    "    metadataColumns = {\"ITEMS\": [\"training_text\"]}\n",
    ")"
   ]
  },
  {
   "cell_type": "code",
   "execution_count": 21,
   "id": "8f3966aa-dbb2-40cd-a209-089fe312e412",
   "metadata": {
    "tags": []
   },
   "outputs": [
    {
     "data": {
      "text/plain": [
       "{'ResponseMetadata': {'RequestId': '4aa467be-d862-4a04-8038-44c3e8e22b9d',\n",
       "  'HTTPStatusCode': 200,\n",
       "  'HTTPHeaders': {'date': 'Wed, 29 May 2024 01:27:52 GMT',\n",
       "   'content-type': 'application/json',\n",
       "   'content-length': '13494',\n",
       "   'connection': 'keep-alive',\n",
       "   'x-amzn-requestid': '4aa467be-d862-4a04-8038-44c3e8e22b9d'},\n",
       "  'RetryAttempts': 0},\n",
       " 'itemList': [{'itemId': '3566197569262766169',\n",
       "   'score': 0.956582,\n",
       "   'metadata': {'training_text': 'Google extends Gmail API for more granular email settings management Google updated the Gmail API with new endpoints to manage filters, aliases, forwarding, signatures, vacation responders, and other granular email settings. This replaces the deprecated Email Settings API. Google has extended the Gmail API with new endpoints for managing email settings like filters, forwarding addresses, IMAP/POP settings, sendas aliases, signatures, and vacation responders. Developers can now retrieve and update signatures for sendas aliases, configure forwarding to external addresses, configure sendas aliases through external providers, use HTML in vacation messages, and manipulate settings for gmail.com accounts. More settings features like mailbox delegate support will be added over time. Most settings endpoints work for any Google Apps or Gmail account, but sensitive operations like modifying aliases or forwarding are restricted to service accounts with domainwide authority. The existing Email Settings API in the Admin SDK is deprecated and will be turned down on July 7, 2017 in favor of the updated Gmail API. Google has provided a migration guide to help clients transition.'}},\n",
       "  {'itemId': '-6623581327558800021',\n",
       "   'score': 0.0052045,\n",
       "   'metadata': {'training_text': \"Google's Spanner database offers global replication and consistency Google is now offering its globally distributed Spanner database as a cloud service. The unique time synchronization could benefit global businesses. About a decade ago, Google engineers built a global database called Spanner that works across multiple data centers around the world. Spanner behaves as if it's in one place, allowing Google to replicate data and make changes globally without conflicts. This provides consistency across Google services like Gmail and AdWords. Spanner achieves this by using GPS receivers, atomic clocks, and time synchronization technology called TrueTime to establish a common time reference across data centers. This allows for coordination between distributed systems faster than the speed of light. TrueTime is unique to Google. Spanner gives Google a competitive advantage in cloud computing against rivals like Amazon and Microsoft. Google hopes Spanner's global replication and consistency will appeal to global businesses and financial institutions. A supply chain company called JDA is already testing Spanner. Spanner was previously only useful to Google, but now Google is offering it as a cloud service so other companies can benefit from its global scale and unique time synchronization abilities. This could allow businesses to more easily expand globally and replicate data across regions.\"}},\n",
       "  {'itemId': '717471739656838182',\n",
       "   'score': 0.0028103,\n",
       "   'metadata': {'training_text': \"Evernote migrates from own data centers to Google Cloud Evernote moved its popular note taking service to Google Cloud for machine learning capabilities, flexibility, and to avoid running its own infrastructure. Evernote decided last year to move away from running its own data centers and start using the public cloud to operate its popular notetaking service. It signed up to work with Google Cloud Platform. Google sent engineers to help Evernote with the migration. Evernote wanted to leverage the cloud for new machine learning features and flexibility. The migration required adapting Evernote's backend, which was built assuming onpremises data centers. Google's expertise in unstructured data and machine learning made it a good fit over AWS or Azure. The migration had to be done without losing any of Evernote's 3 petabytes of data or disrupting the live service. Evernote reworked parts of its application like networking and storage to work on Google's cloud. Google engineers provided 24/7 support and even came onsite to help. The main migration took around 10 days. The cloud removed Evernote's need to maintain its own data centers and keep up with infrastructure advances. It provides reduced latency for international users through Google's network. Evernote is still migrating some final user attachments but all data is now encrypted at rest. The company has more freedom to leverage cloud services for new features.\"}},\n",
       "  {'itemId': '-1415040208471067980',\n",
       "   'score': 0.0016436,\n",
       "   'metadata': {'training_text': \"Google Cloud Platform releases icon library for diagrams Google Cloud Platform published downloadable icons and sample diagrams to help visually represent GCP infrastructure and services. Google Cloud Platform has released downloadable icon sets and sample diagrams to help developers, architects, and partners visually represent complex cloud infrastructure in documents and presentations. The icons cover GCP products, services, and elements that can be combined with other providers' icons to show hybrid/multicloud setups. Over 50 sample diagrams are available in Slide and PowerPoint formats to help kickstart new diagrams. As more products launch, Google will add icons so users should revisit the icon library. This allows accurate, uptodate visual representations of Google Cloud Platform architectures and services.\"}},\n",
       "  {'itemId': '8482750322470893687',\n",
       "   'score': 0.0015941,\n",
       "   'metadata': {'training_text': \"Google consolidates Hangouts On Air into YouTube Live Google is retiring Hangouts On Air and moving livestreaming features to YouTube Live to consolidate products. Google announced that Google+ Hangouts On Air will no longer be available starting September 12. Users will be asked to use YouTube Live for livestreaming instead. Google first launched Hangouts On Air in 2011 for select users and opened it up to everyone in 2012. In 2013, Google launched YouTube Live and has now decided to consolidate the two products. After September 12, users won't be able to schedule new Hangouts On Air events. Existing events after this date will need to be moved to YouTube Live. Hangouts On Air will still exist in some form, just not tied to Google+. Users will need to use YouTube Live's builtin scheduling feature instead. To use Hangouts On Air with YouTube Live: Go to Live Streaming Events in Creator Studio, click New live event, select Quick (using Google Hangouts On Air), title the event, schedule it or go live now, and broadcast with Hangouts. Recorded events will still be on YouTube. The only Google+ link will be to see event content in readonly Activity Log. Google began dropping the Google+ requirement across products in 2015, a process still ongoing. Last week Google Play dropped the requirement for reviews. Next month, Hangouts On Air scheduling will move off Google+.\"}},\n",
       "  {'itemId': '2573252627510191315',\n",
       "   'score': 0.0014715,\n",
       "   'metadata': {'training_text': 'Setting autoexpiry dates for Google Drive file sharing links A guide explains how to create temporary access links for Google Drive files that automatically expire after a chosen time period, using a thirdparty web app. The article explains how to set autoexpiry dates for shared Google Drive links. This allows you to share files that are only accessible for a limited time. While Google Drive allows setting expiration dates, this is only available for paid Google Workspace accounts. The article provides instructions for free Google account users to create temporary links that autoexpire after a chosen time period. The steps are: 1. Go to labnol.org/expire and authorize the web app to access your Google Drive. 2. Open the File Picker and select the file or folder to share. 3. Enter the email addresses of users to share with. Specify if they get viewer or editor access. 4. Set the time period after which access will be revoked. 5. Click \\\\\"Set Expiration\\\\\" and the access will be automatically removed after the set date/time. The article also mentions the Google Drive Auditor addon to analyze permissions on shared files. And the autoexpiry app lists files set to expire.'}},\n",
       "  {'itemId': '8153556216916362816',\n",
       "   'score': 0.0011177,\n",
       "   'metadata': {'training_text': 'Google announces Cloud Spanner, a globally distributed relational database Google Cloud Spanner combines the benefits of relational databases and NoSQL scalability. It aims to help applications scale without sacrificing data consistency. Google has announced Cloud Spanner, a new globally distributed relational database service. Cloud Spanner combines the benefits of traditional relational databases like ACID transactions and SQL with the scalability of NoSQL databases. This allows developers to build applications that can scale horizontally without sacrificing data consistency. Cloud Spanner is a fully managed service that provides automatic scaling, high availability, and disaster recovery. It has a simple pricing model based on compute usage, storage, and network egress. Cloud Spanner supports standard relational database tools and languages like JDBC drivers and SQL queries. It is ideal for operational workloads like inventory management and financial transactions that are outgrowing traditional databases. Google has been developing the Spanner technology internally since 2007. It powers critical Google services like AdWords and Google Play, handling millions of queries per second. The research behind Spanner was published in 2012. Early adopters like Quizlet and JDA see Cloud Spanner as a compelling solution to scale their relational workloads beyond what sharding can achieve. It provides the performance of NoSQL with the consistency of a relational database.'}},\n",
       "  {'itemId': '3618205920179577598',\n",
       "   'score': 0.0008951,\n",
       "   'metadata': {'training_text': 'Celcoin allows users to exchange bitcoin for cash credit to use for everyday transactions The crypto platform Celcoin lets users convert bitcoin into cash credit to spend on services like phone topups and bill payments through their app. The CEO of Celcoin, Marcelo França, explained that users can exchange bitcoins for cash credit on the Celcoin platform. They can then use this credit for various functions on the app such as phone topups, bill payments, cash withdrawals, and transfers to other users or bank accounts. Celcoin aims to make using bitcoin easier by allowing users to convert it into cash credit to use for everyday transactions on their platform.'}},\n",
       "  {'itemId': '-1419188045265393093',\n",
       "   'score': 0.0008629,\n",
       "   'metadata': {'training_text': 'Google Cloud Endpoints provides managed API gateways Google Cloud Endpoints is now generally available to help developers deploy, monitor and secure APIs on Google Cloud. It provides an API gateway that handles authentication, logging, monitoring and integration with other Google services. Google Cloud Endpoints is now generally available. It is an API gateway that helps secure and monitor APIs. APIs are important for mobile apps, web apps, and microservices. Cloud Endpoints provides authentication, monitoring, and logging. It integrates with Firebase, Auth0, Stackdriver Logging, and other Google Cloud services. The proxy runs on App Engine and Kubernetes. Early adopters have had success, with one customer handling 11,000 requests per second. Frameworks for Java and Python on App Engine standard environment are also now generally available. They help developers serve APIs quickly. Pricing includes a free tier of 2 million requests per month. After that it is $3 per million requests. The frameworks themselves are free but their API gateway features are charged. Documentation, walkthroughs, and a discussion group are available. Google also offers the Apigee Edge API management platform for enterprises.'}},\n",
       "  {'itemId': '6831941111848480366',\n",
       "   'score': 0.000688,\n",
       "   'metadata': {'training_text': \"Amazon rumored to acquire Capital One for credit card data and banking services Amazon may acquire Capital One for its large credit card portfolio, consumer data, and ability to offer merchant banking services. It could start a trend of tech giants buying banks. Amazon is rumored to be considering acquiring Capital One, a top ten US bank holding company. Capital One pioneered mass marketing of credit cards in the 1990s and has over 800 domestic branches, 2000 ATMs, and conducts business in Canada and the UK. In 2015, 62% of Capital One's revenue was from credit cards. Capital One is a major user of Amazon's AWS cloud. An acquisition would bring Amazon a large credit card portfolio and opportunity for cost reduction and consumer data analytics. As a bank, Capital One would allow Amazon to become an acquirer and offer merchant banking services to merchants in its ecosystem. Recent US regulatory interest in stored value cards and mobile money may make a bank acquisition more appealing to Amazon to get ahead of new oversight. If Amazon acquires Capital One, it could start a trend for other tech giants like Google, Apple, and Facebook to buy banks. The deal would be a vertical integration in card payments and provide deposit management capability.\"}}],\n",
       " 'recommendationId': 'RID-51-4542-9506-7600ad41d722-CID-482b34'}"
      ]
     },
     "execution_count": 21,
     "metadata": {},
     "output_type": "execute_result"
    }
   ],
   "source": [
    "get_recommendations_response"
   ]
  },
  {
   "cell_type": "markdown",
   "id": "e1de6c7b-f07a-4231-bcae-89db315dce66",
   "metadata": {},
   "source": [
    "To make processing this easier lets make a helper function which retrieves the interaction history for our users."
   ]
  },
  {
   "cell_type": "code",
   "execution_count": null,
   "id": "355fdcad-0622-4637-855c-c95cb3f2ecdd",
   "metadata": {},
   "outputs": [],
   "source": []
  },
  {
   "cell_type": "code",
   "execution_count": null,
   "id": "0f45c722-2fe8-49db-b207-e84a4a6d6f13",
   "metadata": {},
   "outputs": [],
   "source": []
  },
  {
   "cell_type": "code",
   "execution_count": 23,
   "id": "6e406872-f62c-41d2-afb0-2b70946bf50b",
   "metadata": {
    "tags": []
   },
   "outputs": [],
   "source": [
    "response = personalize_events.put_events(\n",
    "    trackingId=\"4ea6be84-eb39-4b11-8f59-b76609ac56df\",\n",
    "    userId='madeup-user',\n",
    "    sessionId='string',\n",
    "    eventList=[\n",
    "        {\n",
    "            'eventId': 'madeupevent111',\n",
    "            'eventType': 'VIEW',\n",
    "            'itemId': 'madeupitem111',\n",
    "            'sentAt': 1714006143,\n",
    "        },\n",
    "    ]\n",
    ")"
   ]
  },
  {
   "cell_type": "code",
   "execution_count": 24,
   "id": "f2d63e75-9ff4-42ad-93ee-ee751c606caf",
   "metadata": {
    "tags": []
   },
   "outputs": [],
   "source": [
    "get_recommendations_response = personalize_runtime.get_recommendations(\n",
    "    campaignArn = workshop_userpersonalization_campaign_arn,\n",
    "    userId = sample_user,\n",
    "    numResults = 5,\n",
    "    filterArn = \"arn:aws:personalize:us-east-1:381491864570:filter/timestamp-filter-test\",\n",
    "    filterValues = {\"CUTOFF\": \"\\\"1614000000\\\"\"}\n",
    ")"
   ]
  },
  {
   "cell_type": "code",
   "execution_count": 25,
   "id": "e99f10f1-00c0-42ca-9a04-8d2127a07432",
   "metadata": {
    "tags": []
   },
   "outputs": [
    {
     "data": {
      "text/plain": [
       "{'ResponseMetadata': {'RequestId': '10ed9cd5-6722-4b13-b05e-6b19e457f7ef',\n",
       "  'HTTPStatusCode': 200,\n",
       "  'HTTPHeaders': {'date': 'Wed, 29 May 2024 01:27:57 GMT',\n",
       "   'content-type': 'application/json',\n",
       "   'content-length': '185',\n",
       "   'connection': 'keep-alive',\n",
       "   'x-amzn-requestid': '10ed9cd5-6722-4b13-b05e-6b19e457f7ef'},\n",
       "  'RetryAttempts': 0},\n",
       " 'itemList': [{'itemId': 'madeupitem222', 'score': 1.0}],\n",
       " 'recommendationId': 'RID-72-41be-b0c9-a41460408fbb-CID-482b34'}"
      ]
     },
     "execution_count": 25,
     "metadata": {},
     "output_type": "execute_result"
    }
   ],
   "source": [
    "get_recommendations_response"
   ]
  },
  {
   "cell_type": "code",
   "execution_count": 26,
   "id": "55c1ed92-d6d7-411e-9f12-123ecd0fa573",
   "metadata": {
    "tags": []
   },
   "outputs": [],
   "source": [
    "get_recommendations_response = personalize_runtime.get_recommendations(\n",
    "    campaignArn = workshop_userpersonalization_campaign_arn,\n",
    "    userId = 'madeup-user333',\n",
    "    numResults = 5\n",
    ")"
   ]
  },
  {
   "cell_type": "code",
   "execution_count": 27,
   "id": "d9dec2f6-af33-467c-a96e-6267b46a93c1",
   "metadata": {
    "tags": []
   },
   "outputs": [
    {
     "data": {
      "text/plain": [
       "{'ResponseMetadata': {'RequestId': '2a3ee44f-522c-4838-b015-6fb1057a20f1',\n",
       "  'HTTPStatusCode': 200,\n",
       "  'HTTPHeaders': {'date': 'Wed, 29 May 2024 01:27:58 GMT',\n",
       "   'content-type': 'application/json',\n",
       "   'content-length': '684',\n",
       "   'connection': 'keep-alive',\n",
       "   'x-amzn-requestid': '2a3ee44f-522c-4838-b015-6fb1057a20f1'},\n",
       "  'RetryAttempts': 0},\n",
       " 'itemList': [{'itemId': '-8669770849634489893', 'score': 0.0137572},\n",
       "  {'itemId': '-5570129644089964821', 'score': 0.0111488},\n",
       "  {'itemId': '-6843047699859121724', 'score': 0.0085601},\n",
       "  {'itemId': '358192030955601318', 'score': 0.0079786},\n",
       "  {'itemId': '-8618420761918493321', 'score': 0.0068266}],\n",
       " 'recommendationId': 'RID-64-421a-b5b8-3d2e161a77cb-CID-482b34'}"
      ]
     },
     "execution_count": 27,
     "metadata": {},
     "output_type": "execute_result"
    }
   ],
   "source": [
    "get_recommendations_response"
   ]
  },
  {
   "cell_type": "code",
   "execution_count": 28,
   "id": "5c1a9c95-2a11-475d-a055-54428e81625c",
   "metadata": {
    "tags": []
   },
   "outputs": [],
   "source": [
    "json_array = []\n",
    "json_record = {\n",
    "    \"itemId\": 'madeupitem222', \n",
    "    \"properties\": f\"\"\"{{\"creationTimestamp\": 1714006143, \"TRAINING_TEXT\": \"test new item\", \"LANG\": \"en\", \"ARTICLE_GENRE\": \"fake article\"}}\"\"\"\n",
    "}\n",
    "json_array.append(json_record)"
   ]
  },
  {
   "cell_type": "code",
   "execution_count": 29,
   "id": "971e7cc6-d749-4801-99fc-f1952881433b",
   "metadata": {
    "tags": []
   },
   "outputs": [
    {
     "name": "stdout",
     "output_type": "stream",
     "text": [
      "{'ResponseMetadata': {'RequestId': '0f165b43-26af-414f-a51c-886876d8c04a', 'HTTPStatusCode': 200, 'HTTPHeaders': {'date': 'Wed, 29 May 2024 01:28:01 GMT', 'content-type': 'application/json', 'content-length': '0', 'connection': 'keep-alive', 'x-amzn-requestid': '0f165b43-26af-414f-a51c-886876d8c04a'}, 'RetryAttempts': 0}}\n"
     ]
    }
   ],
   "source": [
    "response = personalize_events.put_items(\n",
    "    datasetArn=workshop_items_dataset_arn,\n",
    "    items=json_array\n",
    ")\n",
    "print(response)"
   ]
  },
  {
   "cell_type": "code",
   "execution_count": 49,
   "id": "a55cfcc6-6667-4348-980a-bb774276f361",
   "metadata": {
    "tags": []
   },
   "outputs": [],
   "source": [
    "response = personalize_events.put_events(\n",
    "    trackingId=\"4ea6be84-eb39-4b11-8f59-b76609ac56df\",\n",
    "    userId='madeup-user',\n",
    "    sessionId='string',\n",
    "    eventList=[\n",
    "        {\n",
    "            'eventId': 'madeupevent222',\n",
    "            'eventType': 'VIEW',\n",
    "            'itemId': 'madeupitem222',\n",
    "            'sentAt': 1714006143,\n",
    "        },\n",
    "    ]\n",
    ")"
   ]
  },
  {
   "cell_type": "code",
   "execution_count": null,
   "id": "df41db00-87e1-43db-b33e-0f49a4d6fcc3",
   "metadata": {},
   "outputs": [],
   "source": []
  }
 ],
 "metadata": {
  "availableInstances": [
   {
    "_defaultOrder": 0,
    "_isFastLaunch": true,
    "category": "General purpose",
    "gpuNum": 0,
    "hideHardwareSpecs": false,
    "memoryGiB": 4,
    "name": "ml.t3.medium",
    "vcpuNum": 2
   },
   {
    "_defaultOrder": 1,
    "_isFastLaunch": false,
    "category": "General purpose",
    "gpuNum": 0,
    "hideHardwareSpecs": false,
    "memoryGiB": 8,
    "name": "ml.t3.large",
    "vcpuNum": 2
   },
   {
    "_defaultOrder": 2,
    "_isFastLaunch": false,
    "category": "General purpose",
    "gpuNum": 0,
    "hideHardwareSpecs": false,
    "memoryGiB": 16,
    "name": "ml.t3.xlarge",
    "vcpuNum": 4
   },
   {
    "_defaultOrder": 3,
    "_isFastLaunch": false,
    "category": "General purpose",
    "gpuNum": 0,
    "hideHardwareSpecs": false,
    "memoryGiB": 32,
    "name": "ml.t3.2xlarge",
    "vcpuNum": 8
   },
   {
    "_defaultOrder": 4,
    "_isFastLaunch": true,
    "category": "General purpose",
    "gpuNum": 0,
    "hideHardwareSpecs": false,
    "memoryGiB": 8,
    "name": "ml.m5.large",
    "vcpuNum": 2
   },
   {
    "_defaultOrder": 5,
    "_isFastLaunch": false,
    "category": "General purpose",
    "gpuNum": 0,
    "hideHardwareSpecs": false,
    "memoryGiB": 16,
    "name": "ml.m5.xlarge",
    "vcpuNum": 4
   },
   {
    "_defaultOrder": 6,
    "_isFastLaunch": false,
    "category": "General purpose",
    "gpuNum": 0,
    "hideHardwareSpecs": false,
    "memoryGiB": 32,
    "name": "ml.m5.2xlarge",
    "vcpuNum": 8
   },
   {
    "_defaultOrder": 7,
    "_isFastLaunch": false,
    "category": "General purpose",
    "gpuNum": 0,
    "hideHardwareSpecs": false,
    "memoryGiB": 64,
    "name": "ml.m5.4xlarge",
    "vcpuNum": 16
   },
   {
    "_defaultOrder": 8,
    "_isFastLaunch": false,
    "category": "General purpose",
    "gpuNum": 0,
    "hideHardwareSpecs": false,
    "memoryGiB": 128,
    "name": "ml.m5.8xlarge",
    "vcpuNum": 32
   },
   {
    "_defaultOrder": 9,
    "_isFastLaunch": false,
    "category": "General purpose",
    "gpuNum": 0,
    "hideHardwareSpecs": false,
    "memoryGiB": 192,
    "name": "ml.m5.12xlarge",
    "vcpuNum": 48
   },
   {
    "_defaultOrder": 10,
    "_isFastLaunch": false,
    "category": "General purpose",
    "gpuNum": 0,
    "hideHardwareSpecs": false,
    "memoryGiB": 256,
    "name": "ml.m5.16xlarge",
    "vcpuNum": 64
   },
   {
    "_defaultOrder": 11,
    "_isFastLaunch": false,
    "category": "General purpose",
    "gpuNum": 0,
    "hideHardwareSpecs": false,
    "memoryGiB": 384,
    "name": "ml.m5.24xlarge",
    "vcpuNum": 96
   },
   {
    "_defaultOrder": 12,
    "_isFastLaunch": false,
    "category": "General purpose",
    "gpuNum": 0,
    "hideHardwareSpecs": false,
    "memoryGiB": 8,
    "name": "ml.m5d.large",
    "vcpuNum": 2
   },
   {
    "_defaultOrder": 13,
    "_isFastLaunch": false,
    "category": "General purpose",
    "gpuNum": 0,
    "hideHardwareSpecs": false,
    "memoryGiB": 16,
    "name": "ml.m5d.xlarge",
    "vcpuNum": 4
   },
   {
    "_defaultOrder": 14,
    "_isFastLaunch": false,
    "category": "General purpose",
    "gpuNum": 0,
    "hideHardwareSpecs": false,
    "memoryGiB": 32,
    "name": "ml.m5d.2xlarge",
    "vcpuNum": 8
   },
   {
    "_defaultOrder": 15,
    "_isFastLaunch": false,
    "category": "General purpose",
    "gpuNum": 0,
    "hideHardwareSpecs": false,
    "memoryGiB": 64,
    "name": "ml.m5d.4xlarge",
    "vcpuNum": 16
   },
   {
    "_defaultOrder": 16,
    "_isFastLaunch": false,
    "category": "General purpose",
    "gpuNum": 0,
    "hideHardwareSpecs": false,
    "memoryGiB": 128,
    "name": "ml.m5d.8xlarge",
    "vcpuNum": 32
   },
   {
    "_defaultOrder": 17,
    "_isFastLaunch": false,
    "category": "General purpose",
    "gpuNum": 0,
    "hideHardwareSpecs": false,
    "memoryGiB": 192,
    "name": "ml.m5d.12xlarge",
    "vcpuNum": 48
   },
   {
    "_defaultOrder": 18,
    "_isFastLaunch": false,
    "category": "General purpose",
    "gpuNum": 0,
    "hideHardwareSpecs": false,
    "memoryGiB": 256,
    "name": "ml.m5d.16xlarge",
    "vcpuNum": 64
   },
   {
    "_defaultOrder": 19,
    "_isFastLaunch": false,
    "category": "General purpose",
    "gpuNum": 0,
    "hideHardwareSpecs": false,
    "memoryGiB": 384,
    "name": "ml.m5d.24xlarge",
    "vcpuNum": 96
   },
   {
    "_defaultOrder": 20,
    "_isFastLaunch": false,
    "category": "General purpose",
    "gpuNum": 0,
    "hideHardwareSpecs": true,
    "memoryGiB": 0,
    "name": "ml.geospatial.interactive",
    "supportedImageNames": [
     "sagemaker-geospatial-v1-0"
    ],
    "vcpuNum": 0
   },
   {
    "_defaultOrder": 21,
    "_isFastLaunch": true,
    "category": "Compute optimized",
    "gpuNum": 0,
    "hideHardwareSpecs": false,
    "memoryGiB": 4,
    "name": "ml.c5.large",
    "vcpuNum": 2
   },
   {
    "_defaultOrder": 22,
    "_isFastLaunch": false,
    "category": "Compute optimized",
    "gpuNum": 0,
    "hideHardwareSpecs": false,
    "memoryGiB": 8,
    "name": "ml.c5.xlarge",
    "vcpuNum": 4
   },
   {
    "_defaultOrder": 23,
    "_isFastLaunch": false,
    "category": "Compute optimized",
    "gpuNum": 0,
    "hideHardwareSpecs": false,
    "memoryGiB": 16,
    "name": "ml.c5.2xlarge",
    "vcpuNum": 8
   },
   {
    "_defaultOrder": 24,
    "_isFastLaunch": false,
    "category": "Compute optimized",
    "gpuNum": 0,
    "hideHardwareSpecs": false,
    "memoryGiB": 32,
    "name": "ml.c5.4xlarge",
    "vcpuNum": 16
   },
   {
    "_defaultOrder": 25,
    "_isFastLaunch": false,
    "category": "Compute optimized",
    "gpuNum": 0,
    "hideHardwareSpecs": false,
    "memoryGiB": 72,
    "name": "ml.c5.9xlarge",
    "vcpuNum": 36
   },
   {
    "_defaultOrder": 26,
    "_isFastLaunch": false,
    "category": "Compute optimized",
    "gpuNum": 0,
    "hideHardwareSpecs": false,
    "memoryGiB": 96,
    "name": "ml.c5.12xlarge",
    "vcpuNum": 48
   },
   {
    "_defaultOrder": 27,
    "_isFastLaunch": false,
    "category": "Compute optimized",
    "gpuNum": 0,
    "hideHardwareSpecs": false,
    "memoryGiB": 144,
    "name": "ml.c5.18xlarge",
    "vcpuNum": 72
   },
   {
    "_defaultOrder": 28,
    "_isFastLaunch": false,
    "category": "Compute optimized",
    "gpuNum": 0,
    "hideHardwareSpecs": false,
    "memoryGiB": 192,
    "name": "ml.c5.24xlarge",
    "vcpuNum": 96
   },
   {
    "_defaultOrder": 29,
    "_isFastLaunch": true,
    "category": "Accelerated computing",
    "gpuNum": 1,
    "hideHardwareSpecs": false,
    "memoryGiB": 16,
    "name": "ml.g4dn.xlarge",
    "vcpuNum": 4
   },
   {
    "_defaultOrder": 30,
    "_isFastLaunch": false,
    "category": "Accelerated computing",
    "gpuNum": 1,
    "hideHardwareSpecs": false,
    "memoryGiB": 32,
    "name": "ml.g4dn.2xlarge",
    "vcpuNum": 8
   },
   {
    "_defaultOrder": 31,
    "_isFastLaunch": false,
    "category": "Accelerated computing",
    "gpuNum": 1,
    "hideHardwareSpecs": false,
    "memoryGiB": 64,
    "name": "ml.g4dn.4xlarge",
    "vcpuNum": 16
   },
   {
    "_defaultOrder": 32,
    "_isFastLaunch": false,
    "category": "Accelerated computing",
    "gpuNum": 1,
    "hideHardwareSpecs": false,
    "memoryGiB": 128,
    "name": "ml.g4dn.8xlarge",
    "vcpuNum": 32
   },
   {
    "_defaultOrder": 33,
    "_isFastLaunch": false,
    "category": "Accelerated computing",
    "gpuNum": 4,
    "hideHardwareSpecs": false,
    "memoryGiB": 192,
    "name": "ml.g4dn.12xlarge",
    "vcpuNum": 48
   },
   {
    "_defaultOrder": 34,
    "_isFastLaunch": false,
    "category": "Accelerated computing",
    "gpuNum": 1,
    "hideHardwareSpecs": false,
    "memoryGiB": 256,
    "name": "ml.g4dn.16xlarge",
    "vcpuNum": 64
   },
   {
    "_defaultOrder": 35,
    "_isFastLaunch": false,
    "category": "Accelerated computing",
    "gpuNum": 1,
    "hideHardwareSpecs": false,
    "memoryGiB": 61,
    "name": "ml.p3.2xlarge",
    "vcpuNum": 8
   },
   {
    "_defaultOrder": 36,
    "_isFastLaunch": false,
    "category": "Accelerated computing",
    "gpuNum": 4,
    "hideHardwareSpecs": false,
    "memoryGiB": 244,
    "name": "ml.p3.8xlarge",
    "vcpuNum": 32
   },
   {
    "_defaultOrder": 37,
    "_isFastLaunch": false,
    "category": "Accelerated computing",
    "gpuNum": 8,
    "hideHardwareSpecs": false,
    "memoryGiB": 488,
    "name": "ml.p3.16xlarge",
    "vcpuNum": 64
   },
   {
    "_defaultOrder": 38,
    "_isFastLaunch": false,
    "category": "Accelerated computing",
    "gpuNum": 8,
    "hideHardwareSpecs": false,
    "memoryGiB": 768,
    "name": "ml.p3dn.24xlarge",
    "vcpuNum": 96
   },
   {
    "_defaultOrder": 39,
    "_isFastLaunch": false,
    "category": "Memory Optimized",
    "gpuNum": 0,
    "hideHardwareSpecs": false,
    "memoryGiB": 16,
    "name": "ml.r5.large",
    "vcpuNum": 2
   },
   {
    "_defaultOrder": 40,
    "_isFastLaunch": false,
    "category": "Memory Optimized",
    "gpuNum": 0,
    "hideHardwareSpecs": false,
    "memoryGiB": 32,
    "name": "ml.r5.xlarge",
    "vcpuNum": 4
   },
   {
    "_defaultOrder": 41,
    "_isFastLaunch": false,
    "category": "Memory Optimized",
    "gpuNum": 0,
    "hideHardwareSpecs": false,
    "memoryGiB": 64,
    "name": "ml.r5.2xlarge",
    "vcpuNum": 8
   },
   {
    "_defaultOrder": 42,
    "_isFastLaunch": false,
    "category": "Memory Optimized",
    "gpuNum": 0,
    "hideHardwareSpecs": false,
    "memoryGiB": 128,
    "name": "ml.r5.4xlarge",
    "vcpuNum": 16
   },
   {
    "_defaultOrder": 43,
    "_isFastLaunch": false,
    "category": "Memory Optimized",
    "gpuNum": 0,
    "hideHardwareSpecs": false,
    "memoryGiB": 256,
    "name": "ml.r5.8xlarge",
    "vcpuNum": 32
   },
   {
    "_defaultOrder": 44,
    "_isFastLaunch": false,
    "category": "Memory Optimized",
    "gpuNum": 0,
    "hideHardwareSpecs": false,
    "memoryGiB": 384,
    "name": "ml.r5.12xlarge",
    "vcpuNum": 48
   },
   {
    "_defaultOrder": 45,
    "_isFastLaunch": false,
    "category": "Memory Optimized",
    "gpuNum": 0,
    "hideHardwareSpecs": false,
    "memoryGiB": 512,
    "name": "ml.r5.16xlarge",
    "vcpuNum": 64
   },
   {
    "_defaultOrder": 46,
    "_isFastLaunch": false,
    "category": "Memory Optimized",
    "gpuNum": 0,
    "hideHardwareSpecs": false,
    "memoryGiB": 768,
    "name": "ml.r5.24xlarge",
    "vcpuNum": 96
   },
   {
    "_defaultOrder": 47,
    "_isFastLaunch": false,
    "category": "Accelerated computing",
    "gpuNum": 1,
    "hideHardwareSpecs": false,
    "memoryGiB": 16,
    "name": "ml.g5.xlarge",
    "vcpuNum": 4
   },
   {
    "_defaultOrder": 48,
    "_isFastLaunch": false,
    "category": "Accelerated computing",
    "gpuNum": 1,
    "hideHardwareSpecs": false,
    "memoryGiB": 32,
    "name": "ml.g5.2xlarge",
    "vcpuNum": 8
   },
   {
    "_defaultOrder": 49,
    "_isFastLaunch": false,
    "category": "Accelerated computing",
    "gpuNum": 1,
    "hideHardwareSpecs": false,
    "memoryGiB": 64,
    "name": "ml.g5.4xlarge",
    "vcpuNum": 16
   },
   {
    "_defaultOrder": 50,
    "_isFastLaunch": false,
    "category": "Accelerated computing",
    "gpuNum": 1,
    "hideHardwareSpecs": false,
    "memoryGiB": 128,
    "name": "ml.g5.8xlarge",
    "vcpuNum": 32
   },
   {
    "_defaultOrder": 51,
    "_isFastLaunch": false,
    "category": "Accelerated computing",
    "gpuNum": 1,
    "hideHardwareSpecs": false,
    "memoryGiB": 256,
    "name": "ml.g5.16xlarge",
    "vcpuNum": 64
   },
   {
    "_defaultOrder": 52,
    "_isFastLaunch": false,
    "category": "Accelerated computing",
    "gpuNum": 4,
    "hideHardwareSpecs": false,
    "memoryGiB": 192,
    "name": "ml.g5.12xlarge",
    "vcpuNum": 48
   },
   {
    "_defaultOrder": 53,
    "_isFastLaunch": false,
    "category": "Accelerated computing",
    "gpuNum": 4,
    "hideHardwareSpecs": false,
    "memoryGiB": 384,
    "name": "ml.g5.24xlarge",
    "vcpuNum": 96
   },
   {
    "_defaultOrder": 54,
    "_isFastLaunch": false,
    "category": "Accelerated computing",
    "gpuNum": 8,
    "hideHardwareSpecs": false,
    "memoryGiB": 768,
    "name": "ml.g5.48xlarge",
    "vcpuNum": 192
   },
   {
    "_defaultOrder": 55,
    "_isFastLaunch": false,
    "category": "Accelerated computing",
    "gpuNum": 8,
    "hideHardwareSpecs": false,
    "memoryGiB": 1152,
    "name": "ml.p4d.24xlarge",
    "vcpuNum": 96
   },
   {
    "_defaultOrder": 56,
    "_isFastLaunch": false,
    "category": "Accelerated computing",
    "gpuNum": 8,
    "hideHardwareSpecs": false,
    "memoryGiB": 1152,
    "name": "ml.p4de.24xlarge",
    "vcpuNum": 96
   },
   {
    "_defaultOrder": 57,
    "_isFastLaunch": false,
    "category": "Accelerated computing",
    "gpuNum": 0,
    "hideHardwareSpecs": false,
    "memoryGiB": 32,
    "name": "ml.trn1.2xlarge",
    "vcpuNum": 8
   },
   {
    "_defaultOrder": 58,
    "_isFastLaunch": false,
    "category": "Accelerated computing",
    "gpuNum": 0,
    "hideHardwareSpecs": false,
    "memoryGiB": 512,
    "name": "ml.trn1.32xlarge",
    "vcpuNum": 128
   },
   {
    "_defaultOrder": 59,
    "_isFastLaunch": false,
    "category": "Accelerated computing",
    "gpuNum": 0,
    "hideHardwareSpecs": false,
    "memoryGiB": 512,
    "name": "ml.trn1n.32xlarge",
    "vcpuNum": 128
   }
  ],
  "instance_type": "ml.t3.medium",
  "kernelspec": {
   "display_name": "conda_tensorflow2_p310",
   "language": "python",
   "name": "conda_tensorflow2_p310"
  },
  "language_info": {
   "codemirror_mode": {
    "name": "ipython",
    "version": 3
   },
   "file_extension": ".py",
   "mimetype": "text/x-python",
   "name": "python",
   "nbconvert_exporter": "python",
   "pygments_lexer": "ipython3",
   "version": "3.10.14"
  }
 },
 "nbformat": 4,
 "nbformat_minor": 5
}
