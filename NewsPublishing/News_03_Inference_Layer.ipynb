{
 "cells": [
  {
   "cell_type": "markdown",
   "id": "2a89abeb-02f2-4461-aa1f-07b9f08606de",
   "metadata": {},
   "source": [
    "# Interacting with Campaigns and Filters <a class=\"anchor\" id=\"top\"></a>\n",
    "\n",
    "Now that Unicorn Post has trained models for 2 different use cases (User Personalization and Personalized Reranking), we need to integrate them into our application. Amazon Personalize can make recommendations available via an Application Programming Interface (API). In addition, Amazon Personalize includes features that allow you to easily integrate into applications and provide benefits like real time vending of recommendations based on recent application activity.\n",
    "\n",
    "In this notebook, you will interact with campaigns and filters you created earlier in Amazon Personalize.\n",
    "\n",
    "1. [Introduction](#intro)\n",
    "1. [Interact with Recommenders](#interact-recommenders)\n",
    "1. [Interact with Campaigns](#interact-campaigns)\n",
    "1. [Filters](#filters)\n",
    "1. [Create Filters](#create-filters)\n",
    "1. [Using Filters](#using-filters)\n",
    "1. [Real-time Events](#real-time)\n",
    "1. [Wrap Up](#wrapup)\n",
    "\n",
    "To run this notebook, you need to have run the previous notebooks, [`News_01_Data_Layer.ipynb`](News_01_Data_Layer.ipynb), and [`News_02_Training_Layer.ipynb`](News_02_Training_Layer.ipynb), where you created a dataset and imported interaction, item, and user metadata data into Amazon Personalize, created recommenders, solutions, and campaigns.\n",
    "\n",
    "## Introduction <a class=\"anchor\" id=\"intro\"></a>\n",
    "[Back to top](#top)\n",
    "\n",
    "At this point, you should have two deployed Campaign. Once they are active, there are resources for querying the recommendations, and helper functions to digest the output into something more human-readable. \n",
    "\n",
    "In this Notebook we will interact with the Campaigns and get recommendations. \n",
    "\n",
    "We will interact with filters and send live data to Amazon Personalize to see the effect of real-time interactions on recommendations.\n",
    "\n",
    "The following diagram shows the resources that we will create in this section. The part we are building in this notebook highlighted in blue with a dashed outline.\n",
    "\n",
    "![Workflow](Images/03_Inference_Layer_Resources.jpg)\n",
    "\n",
    "To get started, once again, we need to import libraries, load values from previous notebooks, and load the SDK."
   ]
  },
  {
   "cell_type": "code",
   "execution_count": 176,
   "id": "e9b233aa-91d2-41b5-a6db-12f4a35441da",
   "metadata": {
    "tags": []
   },
   "outputs": [],
   "source": [
    "import time\n",
    "from time import sleep\n",
    "import json\n",
    "from datetime import datetime\n",
    "import uuid\n",
    "import random\n",
    "import boto3\n",
    "import pandas as pd\n",
    "\n",
    "pd.set_option('max_colwidth', 3000) # allows us to see more text for our news articles"
   ]
  },
  {
   "cell_type": "code",
   "execution_count": 152,
   "id": "9c6e3297-01c0-4969-854d-0e83b07da8eb",
   "metadata": {
    "tags": []
   },
   "outputs": [],
   "source": [
    "#retrieves previously stored variables \n",
    "%store -r "
   ]
  },
  {
   "cell_type": "code",
   "execution_count": 99,
   "id": "e9a7efe8-38c7-44ab-9122-8792b8a1a64e",
   "metadata": {
    "tags": []
   },
   "outputs": [],
   "source": [
    "personalize = boto3.client('personalize')\n",
    "personalize_runtime = boto3.client('personalize-runtime')\n",
    "\n",
    "# Establish a connection to Personalize's event streaming\n",
    "personalize_events = boto3.client(service_name='personalize-events')"
   ]
  },
  {
   "cell_type": "markdown",
   "id": "f87c146d-fa06-462b-bf23-f3c5b73f5dec",
   "metadata": {},
   "source": [
    "## Interact with Campaigns <a class=\"anchor\" id=\"interact-recommenders\"></a>\n",
    "[Back to top](#top)\n",
    "\n",
    "Now that the models have been trained, lets have a look at the recommendations we can get for our users!"
   ]
  },
  {
   "cell_type": "markdown",
   "id": "8224b798-905d-4301-a8a7-195c8f9728d8",
   "metadata": {},
   "source": [
    "### User Personalization Model\n",
    "\n",
    "\"User Personalization \" requires a user as input, and it will return the items it thinks the customer is most likely to interact with next.\n",
    "\n",
    "The cells below will handle getting recommendations from the \"User Personalization Model\" and rendering the results. Let's see what the recommendations are for a user.\n",
    "\n",
    "We will be using the `campaignArn`, the `userId`, as well as the number or results we want, `numResults`."
   ]
  },
  {
   "cell_type": "markdown",
   "id": "f12e1e16-1832-49e4-acee-029957db10c1",
   "metadata": {},
   "source": [
    "### Select a User\n",
    "\n",
    "We'll just pick a random user for simplicity. Feel free to change the `user_id` below and execute the following cells with a different user to get a sense for how the recommendations change.\n",
    "\n",
    "#### Sample User ID's\n",
    " -8845298781299428018\n",
    " -1032019229384696495\n",
    " -1130272294246983140\n",
    " 344280948527967603\n",
    " -445337111692715325"
   ]
  },
  {
   "cell_type": "code",
   "execution_count": 100,
   "id": "30ce5239-1dee-4913-9307-e52798cc7529",
   "metadata": {
    "tags": []
   },
   "outputs": [],
   "source": [
    "sample_user = str(-8845298781299428018)"
   ]
  },
  {
   "cell_type": "code",
   "execution_count": 118,
   "id": "c913cb7e-404c-459d-b4d3-be9c4d3cd214",
   "metadata": {
    "tags": []
   },
   "outputs": [],
   "source": [
    "get_recommendations_response = personalize_runtime.get_recommendations(\n",
    "    campaignArn = workshop_userpersonalization_campaign_arn,\n",
    "    userId = sample_user,\n",
    "    context={\n",
    "        'user_device_type': 'UnknownAgent'\n",
    "    },\n",
    "    metadataColumns = {\"ITEMS\": [\"training_text\"]},\n",
    "    numResults = 5\n",
    ")"
   ]
  },
  {
   "cell_type": "code",
   "execution_count": 119,
   "id": "20faaa70-5790-477c-a6f3-c46290fdd6aa",
   "metadata": {
    "tags": []
   },
   "outputs": [
    {
     "name": "stdout",
     "output_type": "stream",
     "text": [
      "{'ResponseMetadata': {'RequestId': 'cceeec29-1f3a-4751-8268-b6771960453d', 'HTTPStatusCode': 200, 'HTTPHeaders': {'date': 'Fri, 05 Jul 2024 20:24:08 GMT', 'content-type': 'application/json', 'content-length': '7172', 'connection': 'keep-alive', 'x-amzn-requestid': 'cceeec29-1f3a-4751-8268-b6771960453d'}, 'RetryAttempts': 0}, 'itemList': [{'itemId': '3566197569262766169', 'score': 0.9761124, 'metadata': {'training_text': 'Google extends Gmail API for more granular email settings management Google updated the Gmail API with new endpoints to manage filters, aliases, forwarding, signatures, vacation responders, and other granular email settings. This replaces the deprecated Email Settings API. Google has extended the Gmail API with new endpoints for managing email settings like filters, forwarding addresses, IMAP/POP settings, sendas aliases, signatures, and vacation responders. Developers can now retrieve and update signatures for sendas aliases, configure forwarding to external addresses, configure sendas aliases through external providers, use HTML in vacation messages, and manipulate settings for gmail.com accounts. More settings features like mailbox delegate support will be added over time. Most settings endpoints work for any Google Apps or Gmail account, but sensitive operations like modifying aliases or forwarding are restricted to service accounts with domainwide authority. The existing Email Settings API in the Admin SDK is deprecated and will be turned down on July 7, 2017 in favor of the updated Gmail API. Google has provided a migration guide to help clients transition.'}}, {'itemId': '8482750322470893687', 'score': 0.0018956, 'metadata': {'training_text': \"Google consolidates Hangouts On Air into YouTube Live Google is retiring Hangouts On Air and moving livestreaming features to YouTube Live to consolidate products. Google announced that Google+ Hangouts On Air will no longer be available starting September 12. Users will be asked to use YouTube Live for livestreaming instead. Google first launched Hangouts On Air in 2011 for select users and opened it up to everyone in 2012. In 2013, Google launched YouTube Live and has now decided to consolidate the two products. After September 12, users won't be able to schedule new Hangouts On Air events. Existing events after this date will need to be moved to YouTube Live. Hangouts On Air will still exist in some form, just not tied to Google+. Users will need to use YouTube Live's builtin scheduling feature instead. To use Hangouts On Air with YouTube Live: Go to Live Streaming Events in Creator Studio, click New live event, select Quick (using Google Hangouts On Air), title the event, schedule it or go live now, and broadcast with Hangouts. Recorded events will still be on YouTube. The only Google+ link will be to see event content in readonly Activity Log. Google began dropping the Google+ requirement across products in 2015, a process still ongoing. Last week Google Play dropped the requirement for reviews. Next month, Hangouts On Air scheduling will move off Google+.\"}}, {'itemId': '2573252627510191315', 'score': 0.0016966, 'metadata': {'training_text': 'Setting autoexpiry dates for Google Drive file sharing links A guide explains how to create temporary access links for Google Drive files that automatically expire after a chosen time period, using a thirdparty web app. The article explains how to set autoexpiry dates for shared Google Drive links. This allows you to share files that are only accessible for a limited time. While Google Drive allows setting expiration dates, this is only available for paid Google Workspace accounts. The article provides instructions for free Google account users to create temporary links that autoexpire after a chosen time period. The steps are: 1. Go to labnol.org/expire and authorize the web app to access your Google Drive. 2. Open the File Picker and select the file or folder to share. 3. Enter the email addresses of users to share with. Specify if they get viewer or editor access. 4. Set the time period after which access will be revoked. 5. Click \\\\\"Set Expiration\\\\\" and the access will be automatically removed after the set date/time. The article also mentions the Google Drive Auditor addon to analyze permissions on shared files. And the autoexpiry app lists files set to expire.'}}, {'itemId': '1964631817676172382', 'score': 0.0015581, 'metadata': {'training_text': 'Google releases IAM best practice guides for securing cloud resources Google Cloud published guides on implementing least privilege, managing service accounts, and other Identity and Access Management best practices to secure cloud resources. Google Cloud Identity and Access Management (IAM) provides additional capabilities to secure access to Google Cloud Platform resources. Google has created best practice guides to assist with designing a secure IAM strategy. The guides cover topics such as implementing least privilege, managing service accounts, auditing, and policy management. IAM policies can be set at the organization, project, and resource levels. Resources inherit policies from higher levels. The \\\\\"Designing Resource Hierarchies\\\\\" guide provides examples for setting policies at different levels. Service accounts are special accounts that belong to an application or VM rather than an individual user. The \\\\\"Understanding Service Accounts\\\\\" guide answers common questions about what resources service accounts can access and what permissions they need. Google is producing more IAM best practice guides and is seeking feedback on what additional content would be helpful. Feedback can be provided to GCPiamfeedbackgoogle.com.'}}, {'itemId': '-6623581327558800021', 'score': 0.0010629, 'metadata': {'training_text': \"Google's Spanner database offers global replication and consistency Google is now offering its globally distributed Spanner database as a cloud service. The unique time synchronization could benefit global businesses. About a decade ago, Google engineers built a global database called Spanner that works across multiple data centers around the world. Spanner behaves as if it's in one place, allowing Google to replicate data and make changes globally without conflicts. This provides consistency across Google services like Gmail and AdWords. Spanner achieves this by using GPS receivers, atomic clocks, and time synchronization technology called TrueTime to establish a common time reference across data centers. This allows for coordination between distributed systems faster than the speed of light. TrueTime is unique to Google. Spanner gives Google a competitive advantage in cloud computing against rivals like Amazon and Microsoft. Google hopes Spanner's global replication and consistency will appeal to global businesses and financial institutions. A supply chain company called JDA is already testing Spanner. Spanner was previously only useful to Google, but now Google is offering it as a cloud service so other companies can benefit from its global scale and unique time synchronization abilities. This could allow businesses to more easily expand globally and replicate data across regions.\"}}], 'recommendationId': 'RID-6f-4c5e-92a9-02005ccc58bf-CID-482b34'}\n"
     ]
    }
   ],
   "source": [
    "print(get_recommendations_response)"
   ]
  },
  {
   "cell_type": "markdown",
   "id": "7fd22cc9-a21f-4810-ab77-6af120fbd5ab",
   "metadata": {
    "tags": []
   },
   "source": [
    "A little hard to read - lets make a dataframe"
   ]
  },
  {
   "cell_type": "code",
   "execution_count": 120,
   "id": "15a6c1e8-f11a-48fb-b035-b712c520aa44",
   "metadata": {
    "tags": []
   },
   "outputs": [],
   "source": [
    "recommendations_df = pd.DataFrame.from_records(get_recommendations_response['itemList'])"
   ]
  },
  {
   "cell_type": "code",
   "execution_count": 121,
   "id": "c64bdff4-dc4f-4cb5-95d8-9ffa959df3b0",
   "metadata": {
    "tags": []
   },
   "outputs": [
    {
     "data": {
      "text/html": [
       "<div>\n",
       "<style scoped>\n",
       "    .dataframe tbody tr th:only-of-type {\n",
       "        vertical-align: middle;\n",
       "    }\n",
       "\n",
       "    .dataframe tbody tr th {\n",
       "        vertical-align: top;\n",
       "    }\n",
       "\n",
       "    .dataframe thead th {\n",
       "        text-align: right;\n",
       "    }\n",
       "</style>\n",
       "<table border=\"1\" class=\"dataframe\">\n",
       "  <thead>\n",
       "    <tr style=\"text-align: right;\">\n",
       "      <th></th>\n",
       "      <th>itemId</th>\n",
       "      <th>score</th>\n",
       "      <th>metadata</th>\n",
       "    </tr>\n",
       "  </thead>\n",
       "  <tbody>\n",
       "    <tr>\n",
       "      <th>0</th>\n",
       "      <td>3566197569262766169</td>\n",
       "      <td>0.976112</td>\n",
       "      <td>{'training_text': 'Google extends Gmail API for more granular email settings management Google updated the Gmail API with new endpoints to manage filters, aliases, forwarding, signatures, vacation responders, and other granular email settings. This replaces the deprecated Email Settings API. Google has extended the Gmail API with new endpoints for managing email settings like filters, forwarding addresses, IMAP/POP settings, sendas aliases, signatures, and vacation responders. Developers can now retrieve and update signatures for sendas aliases, configure forwarding to external addresses, configure sendas aliases through external providers, use HTML in vacation messages, and manipulate settings for gmail.com accounts. More settings features like mailbox delegate support will be added over time. Most settings endpoints work for any Google Apps or Gmail account, but sensitive operations like modifying aliases or forwarding are restricted to service accounts with domainwide authority. The existing Email Settings API in the Admin SDK is deprecated and will be turned down on July 7, 2017 in favor of the updated Gmail API. Google has provided a migration guide to help clients transition.'}</td>\n",
       "    </tr>\n",
       "    <tr>\n",
       "      <th>1</th>\n",
       "      <td>8482750322470893687</td>\n",
       "      <td>0.001896</td>\n",
       "      <td>{'training_text': 'Google consolidates Hangouts On Air into YouTube Live Google is retiring Hangouts On Air and moving livestreaming features to YouTube Live to consolidate products. Google announced that Google+ Hangouts On Air will no longer be available starting September 12. Users will be asked to use YouTube Live for livestreaming instead. Google first launched Hangouts On Air in 2011 for select users and opened it up to everyone in 2012. In 2013, Google launched YouTube Live and has now decided to consolidate the two products. After September 12, users won't be able to schedule new Hangouts On Air events. Existing events after this date will need to be moved to YouTube Live. Hangouts On Air will still exist in some form, just not tied to Google+. Users will need to use YouTube Live's builtin scheduling feature instead. To use Hangouts On Air with YouTube Live: Go to Live Streaming Events in Creator Studio, click New live event, select Quick (using Google Hangouts On Air), title the event, schedule it or go live now, and broadcast with Hangouts. Recorded events will still be on YouTube. The only Google+ link will be to see event content in readonly Activity Log. Google began dropping the Google+ requirement across products in 2015, a process still ongoing. Last week Google Play dropped the requirement for reviews. Next month, Hangouts On Air scheduling will move off Google+.'}</td>\n",
       "    </tr>\n",
       "    <tr>\n",
       "      <th>2</th>\n",
       "      <td>2573252627510191315</td>\n",
       "      <td>0.001697</td>\n",
       "      <td>{'training_text': 'Setting autoexpiry dates for Google Drive file sharing links A guide explains how to create temporary access links for Google Drive files that automatically expire after a chosen time period, using a thirdparty web app. The article explains how to set autoexpiry dates for shared Google Drive links. This allows you to share files that are only accessible for a limited time. While Google Drive allows setting expiration dates, this is only available for paid Google Workspace accounts. The article provides instructions for free Google account users to create temporary links that autoexpire after a chosen time period. The steps are: 1. Go to labnol.org/expire and authorize the web app to access your Google Drive. 2. Open the File Picker and select the file or folder to share. 3. Enter the email addresses of users to share with. Specify if they get viewer or editor access. 4. Set the time period after which access will be revoked. 5. Click \\\"Set Expiration\\\" and the access will be automatically removed after the set date/time. The article also mentions the Google Drive Auditor addon to analyze permissions on shared files. And the autoexpiry app lists files set to expire.'}</td>\n",
       "    </tr>\n",
       "    <tr>\n",
       "      <th>3</th>\n",
       "      <td>1964631817676172382</td>\n",
       "      <td>0.001558</td>\n",
       "      <td>{'training_text': 'Google releases IAM best practice guides for securing cloud resources Google Cloud published guides on implementing least privilege, managing service accounts, and other Identity and Access Management best practices to secure cloud resources. Google Cloud Identity and Access Management (IAM) provides additional capabilities to secure access to Google Cloud Platform resources. Google has created best practice guides to assist with designing a secure IAM strategy. The guides cover topics such as implementing least privilege, managing service accounts, auditing, and policy management. IAM policies can be set at the organization, project, and resource levels. Resources inherit policies from higher levels. The \\\"Designing Resource Hierarchies\\\" guide provides examples for setting policies at different levels. Service accounts are special accounts that belong to an application or VM rather than an individual user. The \\\"Understanding Service Accounts\\\" guide answers common questions about what resources service accounts can access and what permissions they need. Google is producing more IAM best practice guides and is seeking feedback on what additional content would be helpful. Feedback can be provided to GCPiamfeedbackgoogle.com.'}</td>\n",
       "    </tr>\n",
       "    <tr>\n",
       "      <th>4</th>\n",
       "      <td>-6623581327558800021</td>\n",
       "      <td>0.001063</td>\n",
       "      <td>{'training_text': 'Google's Spanner database offers global replication and consistency Google is now offering its globally distributed Spanner database as a cloud service. The unique time synchronization could benefit global businesses. About a decade ago, Google engineers built a global database called Spanner that works across multiple data centers around the world. Spanner behaves as if it's in one place, allowing Google to replicate data and make changes globally without conflicts. This provides consistency across Google services like Gmail and AdWords. Spanner achieves this by using GPS receivers, atomic clocks, and time synchronization technology called TrueTime to establish a common time reference across data centers. This allows for coordination between distributed systems faster than the speed of light. TrueTime is unique to Google. Spanner gives Google a competitive advantage in cloud computing against rivals like Amazon and Microsoft. Google hopes Spanner's global replication and consistency will appeal to global businesses and financial institutions. A supply chain company called JDA is already testing Spanner. Spanner was previously only useful to Google, but now Google is offering it as a cloud service so other companies can benefit from its global scale and unique time synchronization abilities. This could allow businesses to more easily expand globally and replicate data across regions.'}</td>\n",
       "    </tr>\n",
       "  </tbody>\n",
       "</table>\n",
       "</div>"
      ],
      "text/plain": [
       "                 itemId     score                                                                                                                                                                                                                                                                                                                                                                                                                                                                                                                                                                                                                                                                                                                                                                                                                                                                                                                                                                                                                                                                                                                                                                                                                                                                                                                                                                                                                                                                             metadata\n",
       "0   3566197569262766169  0.976112                                                                                                                                                                                                                                   {'training_text': 'Google extends Gmail API for more granular email settings management Google updated the Gmail API with new endpoints to manage filters, aliases, forwarding, signatures, vacation responders, and other granular email settings. This replaces the deprecated Email Settings API. Google has extended the Gmail API with new endpoints for managing email settings like filters, forwarding addresses, IMAP/POP settings, sendas aliases, signatures, and vacation responders. Developers can now retrieve and update signatures for sendas aliases, configure forwarding to external addresses, configure sendas aliases through external providers, use HTML in vacation messages, and manipulate settings for gmail.com accounts. More settings features like mailbox delegate support will be added over time. Most settings endpoints work for any Google Apps or Gmail account, but sensitive operations like modifying aliases or forwarding are restricted to service accounts with domainwide authority. The existing Email Settings API in the Admin SDK is deprecated and will be turned down on July 7, 2017 in favor of the updated Gmail API. Google has provided a migration guide to help clients transition.'}\n",
       "1   8482750322470893687  0.001896                         {'training_text': 'Google consolidates Hangouts On Air into YouTube Live Google is retiring Hangouts On Air and moving livestreaming features to YouTube Live to consolidate products. Google announced that Google+ Hangouts On Air will no longer be available starting September 12. Users will be asked to use YouTube Live for livestreaming instead. Google first launched Hangouts On Air in 2011 for select users and opened it up to everyone in 2012. In 2013, Google launched YouTube Live and has now decided to consolidate the two products. After September 12, users won't be able to schedule new Hangouts On Air events. Existing events after this date will need to be moved to YouTube Live. Hangouts On Air will still exist in some form, just not tied to Google+. Users will need to use YouTube Live's builtin scheduling feature instead. To use Hangouts On Air with YouTube Live: Go to Live Streaming Events in Creator Studio, click New live event, select Quick (using Google Hangouts On Air), title the event, schedule it or go live now, and broadcast with Hangouts. Recorded events will still be on YouTube. The only Google+ link will be to see event content in readonly Activity Log. Google began dropping the Google+ requirement across products in 2015, a process still ongoing. Last week Google Play dropped the requirement for reviews. Next month, Hangouts On Air scheduling will move off Google+.'}\n",
       "2   2573252627510191315  0.001697                                                                                                                                                                                                                                 {'training_text': 'Setting autoexpiry dates for Google Drive file sharing links A guide explains how to create temporary access links for Google Drive files that automatically expire after a chosen time period, using a thirdparty web app. The article explains how to set autoexpiry dates for shared Google Drive links. This allows you to share files that are only accessible for a limited time. While Google Drive allows setting expiration dates, this is only available for paid Google Workspace accounts. The article provides instructions for free Google account users to create temporary links that autoexpire after a chosen time period. The steps are: 1. Go to labnol.org/expire and authorize the web app to access your Google Drive. 2. Open the File Picker and select the file or folder to share. 3. Enter the email addresses of users to share with. Specify if they get viewer or editor access. 4. Set the time period after which access will be revoked. 5. Click \\\"Set Expiration\\\" and the access will be automatically removed after the set date/time. The article also mentions the Google Drive Auditor addon to analyze permissions on shared files. And the autoexpiry app lists files set to expire.'}\n",
       "3   1964631817676172382  0.001558                                                                                                                                                                   {'training_text': 'Google releases IAM best practice guides for securing cloud resources Google Cloud published guides on implementing least privilege, managing service accounts, and other Identity and Access Management best practices to secure cloud resources. Google Cloud Identity and Access Management (IAM) provides additional capabilities to secure access to Google Cloud Platform resources. Google has created best practice guides to assist with designing a secure IAM strategy. The guides cover topics such as implementing least privilege, managing service accounts, auditing, and policy management. IAM policies can be set at the organization, project, and resource levels. Resources inherit policies from higher levels. The \\\"Designing Resource Hierarchies\\\" guide provides examples for setting policies at different levels. Service accounts are special accounts that belong to an application or VM rather than an individual user. The \\\"Understanding Service Accounts\\\" guide answers common questions about what resources service accounts can access and what permissions they need. Google is producing more IAM best practice guides and is seeking feedback on what additional content would be helpful. Feedback can be provided to GCPiamfeedbackgoogle.com.'}\n",
       "4  -6623581327558800021  0.001063  {'training_text': 'Google's Spanner database offers global replication and consistency Google is now offering its globally distributed Spanner database as a cloud service. The unique time synchronization could benefit global businesses. About a decade ago, Google engineers built a global database called Spanner that works across multiple data centers around the world. Spanner behaves as if it's in one place, allowing Google to replicate data and make changes globally without conflicts. This provides consistency across Google services like Gmail and AdWords. Spanner achieves this by using GPS receivers, atomic clocks, and time synchronization technology called TrueTime to establish a common time reference across data centers. This allows for coordination between distributed systems faster than the speed of light. TrueTime is unique to Google. Spanner gives Google a competitive advantage in cloud computing against rivals like Amazon and Microsoft. Google hopes Spanner's global replication and consistency will appeal to global businesses and financial institutions. A supply chain company called JDA is already testing Spanner. Spanner was previously only useful to Google, but now Google is offering it as a cloud service so other companies can benefit from its global scale and unique time synchronization abilities. This could allow businesses to more easily expand globally and replicate data across regions.'}"
      ]
     },
     "execution_count": 121,
     "metadata": {},
     "output_type": "execute_result"
    }
   ],
   "source": [
    "recommendations_df"
   ]
  },
  {
   "cell_type": "markdown",
   "id": "ce02220b-e236-4b56-b9e6-9007a3fcd2ec",
   "metadata": {},
   "source": [
    "What has this user viewed previously"
   ]
  },
  {
   "cell_type": "code",
   "execution_count": 122,
   "id": "b8fbaaaa-cbff-47be-b80e-34cbd36c0d26",
   "metadata": {
    "tags": []
   },
   "outputs": [],
   "source": [
    "viewed_interactions = interaction_data[interaction_data['user_id'].astype(str) == sample_user].sort_values('timestamp', ascending=False)[0:11]"
   ]
  },
  {
   "cell_type": "code",
   "execution_count": 123,
   "id": "04838e9c-2ffb-43ed-8a74-f08d29d3be18",
   "metadata": {
    "tags": []
   },
   "outputs": [
    {
     "data": {
      "text/html": [
       "<div>\n",
       "<style scoped>\n",
       "    .dataframe tbody tr th:only-of-type {\n",
       "        vertical-align: middle;\n",
       "    }\n",
       "\n",
       "    .dataframe tbody tr th {\n",
       "        vertical-align: top;\n",
       "    }\n",
       "\n",
       "    .dataframe thead th {\n",
       "        text-align: right;\n",
       "    }\n",
       "</style>\n",
       "<table border=\"1\" class=\"dataframe\">\n",
       "  <thead>\n",
       "    <tr style=\"text-align: right;\">\n",
       "      <th></th>\n",
       "      <th>timestamp</th>\n",
       "      <th>event_type</th>\n",
       "      <th>item_id</th>\n",
       "      <th>user_id</th>\n",
       "      <th>session_id</th>\n",
       "      <th>user_device_type</th>\n",
       "    </tr>\n",
       "  </thead>\n",
       "  <tbody>\n",
       "    <tr>\n",
       "      <th>69083</th>\n",
       "      <td>1487360168</td>\n",
       "      <td>FOLLOW</td>\n",
       "      <td>3566197569262766169</td>\n",
       "      <td>-8845298781299428018</td>\n",
       "      <td>808768479044973017</td>\n",
       "      <td>NonMobile</td>\n",
       "    </tr>\n",
       "    <tr>\n",
       "      <th>69085</th>\n",
       "      <td>1487360167</td>\n",
       "      <td>COMMENT CREATED</td>\n",
       "      <td>3566197569262766169</td>\n",
       "      <td>-8845298781299428018</td>\n",
       "      <td>808768479044973017</td>\n",
       "      <td>NonMobile</td>\n",
       "    </tr>\n",
       "    <tr>\n",
       "      <th>69082</th>\n",
       "      <td>1487359849</td>\n",
       "      <td>VIEW</td>\n",
       "      <td>3566197569262766169</td>\n",
       "      <td>-8845298781299428018</td>\n",
       "      <td>808768479044973017</td>\n",
       "      <td>NonMobile</td>\n",
       "    </tr>\n",
       "    <tr>\n",
       "      <th>69722</th>\n",
       "      <td>1487069095</td>\n",
       "      <td>VIEW</td>\n",
       "      <td>-8900113512825364282</td>\n",
       "      <td>-8845298781299428018</td>\n",
       "      <td>8663979798581613597</td>\n",
       "      <td>NonMobile</td>\n",
       "    </tr>\n",
       "    <tr>\n",
       "      <th>68453</th>\n",
       "      <td>1485973216</td>\n",
       "      <td>VIEW</td>\n",
       "      <td>-532999578436827210</td>\n",
       "      <td>-8845298781299428018</td>\n",
       "      <td>-5430065457414428568</td>\n",
       "      <td>NonMobile</td>\n",
       "    </tr>\n",
       "    <tr>\n",
       "      <th>68450</th>\n",
       "      <td>1485973198</td>\n",
       "      <td>VIEW</td>\n",
       "      <td>-532999578436827210</td>\n",
       "      <td>-8845298781299428018</td>\n",
       "      <td>-5430065457414428568</td>\n",
       "      <td>NonMobile</td>\n",
       "    </tr>\n",
       "    <tr>\n",
       "      <th>66947</th>\n",
       "      <td>1485900025</td>\n",
       "      <td>FOLLOW</td>\n",
       "      <td>-532999578436827210</td>\n",
       "      <td>-8845298781299428018</td>\n",
       "      <td>-4872963759822924080</td>\n",
       "      <td>NonMobile</td>\n",
       "    </tr>\n",
       "    <tr>\n",
       "      <th>66946</th>\n",
       "      <td>1485900025</td>\n",
       "      <td>COMMENT CREATED</td>\n",
       "      <td>-532999578436827210</td>\n",
       "      <td>-8845298781299428018</td>\n",
       "      <td>-4872963759822924080</td>\n",
       "      <td>NonMobile</td>\n",
       "    </tr>\n",
       "    <tr>\n",
       "      <th>66945</th>\n",
       "      <td>1485899837</td>\n",
       "      <td>VIEW</td>\n",
       "      <td>-532999578436827210</td>\n",
       "      <td>-8845298781299428018</td>\n",
       "      <td>-4872963759822924080</td>\n",
       "      <td>NonMobile</td>\n",
       "    </tr>\n",
       "    <tr>\n",
       "      <th>66803</th>\n",
       "      <td>1484848565</td>\n",
       "      <td>VIEW</td>\n",
       "      <td>7419040071212162906</td>\n",
       "      <td>-8845298781299428018</td>\n",
       "      <td>-6140011183054037117</td>\n",
       "      <td>NonMobile</td>\n",
       "    </tr>\n",
       "    <tr>\n",
       "      <th>64191</th>\n",
       "      <td>1481741105</td>\n",
       "      <td>VIEW</td>\n",
       "      <td>8526042588044002101</td>\n",
       "      <td>-8845298781299428018</td>\n",
       "      <td>-3582983258078256792</td>\n",
       "      <td>NonMobile</td>\n",
       "    </tr>\n",
       "  </tbody>\n",
       "</table>\n",
       "</div>"
      ],
      "text/plain": [
       "        timestamp       event_type              item_id              user_id           session_id user_device_type\n",
       "69083  1487360168           FOLLOW  3566197569262766169 -8845298781299428018   808768479044973017        NonMobile\n",
       "69085  1487360167  COMMENT CREATED  3566197569262766169 -8845298781299428018   808768479044973017        NonMobile\n",
       "69082  1487359849             VIEW  3566197569262766169 -8845298781299428018   808768479044973017        NonMobile\n",
       "69722  1487069095             VIEW -8900113512825364282 -8845298781299428018  8663979798581613597        NonMobile\n",
       "68453  1485973216             VIEW  -532999578436827210 -8845298781299428018 -5430065457414428568        NonMobile\n",
       "68450  1485973198             VIEW  -532999578436827210 -8845298781299428018 -5430065457414428568        NonMobile\n",
       "66947  1485900025           FOLLOW  -532999578436827210 -8845298781299428018 -4872963759822924080        NonMobile\n",
       "66946  1485900025  COMMENT CREATED  -532999578436827210 -8845298781299428018 -4872963759822924080        NonMobile\n",
       "66945  1485899837             VIEW  -532999578436827210 -8845298781299428018 -4872963759822924080        NonMobile\n",
       "66803  1484848565             VIEW  7419040071212162906 -8845298781299428018 -6140011183054037117        NonMobile\n",
       "64191  1481741105             VIEW  8526042588044002101 -8845298781299428018 -3582983258078256792        NonMobile"
      ]
     },
     "execution_count": 123,
     "metadata": {},
     "output_type": "execute_result"
    }
   ],
   "source": [
    "viewed_interactions"
   ]
  },
  {
   "cell_type": "markdown",
   "id": "9d74b11f-f839-4bed-86bc-04a4336e2032",
   "metadata": {},
   "source": [
    "Lets take a closer look at the most recent articles interacted with by this user"
   ]
  },
  {
   "cell_type": "code",
   "execution_count": 137,
   "id": "b7125edd-f0ec-4026-801d-129031052d93",
   "metadata": {
    "tags": []
   },
   "outputs": [],
   "source": [
    "most_recent_five_articles = viewed_interactions.item_id.unique().astype(str).tolist()"
   ]
  },
  {
   "cell_type": "code",
   "execution_count": 138,
   "id": "646ea954-e54c-4b00-968c-68e8656b8330",
   "metadata": {
    "tags": []
   },
   "outputs": [],
   "source": [
    "most_recent_five_articles_metadata = articles_mlfeatures[articles_mlfeatures['item_id'].isin(most_recent_five_articles)]"
   ]
  },
  {
   "cell_type": "code",
   "execution_count": 139,
   "id": "ed7ae927-fe52-4d65-9dc4-06c1f895e45b",
   "metadata": {
    "tags": []
   },
   "outputs": [
    {
     "data": {
      "text/html": [
       "<div>\n",
       "<style scoped>\n",
       "    .dataframe tbody tr th:only-of-type {\n",
       "        vertical-align: middle;\n",
       "    }\n",
       "\n",
       "    .dataframe tbody tr th {\n",
       "        vertical-align: top;\n",
       "    }\n",
       "\n",
       "    .dataframe thead th {\n",
       "        text-align: right;\n",
       "    }\n",
       "</style>\n",
       "<table border=\"1\" class=\"dataframe\">\n",
       "  <thead>\n",
       "    <tr style=\"text-align: right;\">\n",
       "      <th></th>\n",
       "      <th>item_id</th>\n",
       "      <th>training_text</th>\n",
       "    </tr>\n",
       "  </thead>\n",
       "  <tbody>\n",
       "    <tr>\n",
       "      <th>2869</th>\n",
       "      <td>8526042588044002101</td>\n",
       "      <td>Cloud Native enables efficient, automated infrastructure through modular architecture Cloud Native is an approach to build modular, automated systems that can manage complexity and accelerate development. It utilizes practices like microservices, infrastructure as code, and CI/CD. Cloud Native is a way of structuring teams, culture, and technology to utilize automation and architectures to manage complexity and unlock velocity. The real value of Cloud Native goes beyond just the technologies associated with it. Cloud Native enables more efficient and happier teams by breaking large problems into smaller pieces and reducing manual work through automation. It leads to more reliable infrastructure and applications by building in automation to handle failures. Cloud Native also enables auditable, visible, and debuggable complex applications through the tools used to build them. It allows developers to create more secure applications through least trust principles. Finally, Cloud Native opens up algorithmic automation for more efficient use of resources like intelligent scheduling. We are still early in applying Cloud Native outside of technology companies, but it brings many benefits. Heptio is excited to help bring Cloud Native's advantages to the wider IT industry.</td>\n",
       "    </tr>\n",
       "    <tr>\n",
       "      <th>2982</th>\n",
       "      <td>7419040071212162906</td>\n",
       "      <td>Google search traffic hack by targeting \\\"best of year\\\" keywords Adding the current year to keywords can drive search traffic by targeting fresh annual results. But you need a monetization strategy like affiliate links. The article discusses how adding \\\"2016\\\" or \\\"2017\\\" to Google search queries can send huge amounts of traffic to websites. The author first got the idea when searching for \\\"best business books 2016\\\" and realized many people search with the current year to get the most recent results. He tested this on his own site by publishing an article with \\\"2016\\\" in the headline and got tens of thousands of visitors. Another example is the site 10beasts.com which was launched in 2016 with articles about the \\\"best\\\" products that year. Just 4 months after launch the site was getting 100k+ visitors per month and earning $4,687 in commissions. The site BestProducts.com also dominated Google in 2016 for year based terms, getting millions of visitors. To find profitable keywords, the author suggests using Google Trends, Google Keyword Planner, and reverse engineering sites like Amazon. Overall the tactic can drive huge organic search traffic if you target the right keywords, though you need a monetization strategy like affiliate marketing to profit. The key is finding \\\"long tail\\\" keywords with buyer intent that are less competitive. With some effort, the strategy provides a big SEO opportunity in 2017.</td>\n",
       "    </tr>\n",
       "    <tr>\n",
       "      <th>3040</th>\n",
       "      <td>-532999578436827210</td>\n",
       "      <td>IBM launches cloud graph database service using open source technologies IBM Graph provides developers an interactive graph database to learn Gremlin query language. It aims to make graph technology more accessible. IBM has launched a new cloud based graph database service called IBM Graph, built on open source Titan and Apache TinkerPop technologies. The service is designed to make graph databases more accessible to developers by providing an interactive tutorial playground to help them learn Gremlin query language. The goal is to get developers up and running with graph technology quickly. IBM Graph provides up to 500MB of free storage and 25,000 free API calls per month. Additional storage and API calls are charged per GB and per 1000 calls. The service runs on IBM data centers on Cassandra for storage, Elasticsearch for indexing, and the open source Titan and TinkerPop technologies. IBM chose not to modify or fork these open source projects in order to maintain compatibility. IBM Graph is focused on transactional workloads by providing a secondary operational data store for real time graph queries from other production applications. Analytic workloads are possible but not the main focus currently. Future plans include making it easier to load and model data for graphs, as modeling decisions are required upfront before loading data. IBM also aims to evolve the offering for analytic workloads like Apache Spark in the future.</td>\n",
       "    </tr>\n",
       "    <tr>\n",
       "      <th>3065</th>\n",
       "      <td>3566197569262766169</td>\n",
       "      <td>Google extends Gmail API for more granular email settings management Google updated the Gmail API with new endpoints to manage filters, aliases, forwarding, signatures, vacation responders, and other granular email settings. This replaces the deprecated Email Settings API. Google has extended the Gmail API with new endpoints for managing email settings like filters, forwarding addresses, IMAP/POP settings, send as aliases, signatures, and vacation responders. Developers can now retrieve and update signatures for send as aliases, configure forwarding to external addresses, configure send as aliases through external providers, use HTML in vacation messages, and manipulate settings for gmail.com accounts. More settings features like mailbox delegate support will be added over time. Most settings endpoints work for any Google Apps or Gmail account, but sensitive operations like modifying aliases or forwarding are restricted to service accounts with domain wide authority. The existing Email Settings API in the Admin SDK is deprecated and will be turned down on July 7, 2017 in favor of the updated Gmail API. Google has provided a migration guide to help clients transition.</td>\n",
       "    </tr>\n",
       "    <tr>\n",
       "      <th>3084</th>\n",
       "      <td>-8900113512825364282</td>\n",
       "      <td>Report finds banks lag in customer experience maturity and investment A global survey on customer experience in banking reveals most institutions lack a formal CX plan and focus more on internal metrics than customer ease. But CX investment is increasing. The report \\\"Improving Customer Experience in Banking\\\" shares results from a global survey on CX maturity in financial institutions. It finds most banks and credit unions are unprepared to meet rising consumer expectations. Digital transformation has enabled personalized, seamless engagement across channels. This increases potential for positive CX but also complexity. Unfortunately CX is not a top priority for many institutions, leading to transactional relationships. To improve CX and meet evolving needs, key priorities emerged: Shift digital focus from cost reduction to experience enhancement. Leverage analytics, machine learning, contextual engagement for personalization. Let customers engage how and when they want. Make advisory and sales proactive vs reactive. Engage throughout the customer journey. The report surveyed banks and credit unions on their CX maturity and provides a benchmark. It was sponsored by Deluxe Corp. Key findings: While all see CX as significant, it's less important at smaller institutions. Only 37% have a formal CX plan. CX objectives focus on internal benefits like sales and costs rather than customer simplicity and ease. Despite digital driving satisfaction, focus remains on products and branches over technology. Most will increase CX investment, especially over next 3 years. CX initiatives so far have had modest impact. Data analytics, legacy technology, customer view are top challenges. CX measurement lacks revenue impact metrics. The report concludes that as \\\"Age of the Individual\\\" emerges, using data and analytics to deliver personalized experiences will separate winners from losers. Banks should start by fixing one issue impeding customer satisfaction through a data driven approach. The complete 85 page report with survey data crosstabs is available for purchase.</td>\n",
       "    </tr>\n",
       "  </tbody>\n",
       "</table>\n",
       "</div>"
      ],
      "text/plain": [
       "                   item_id                                                                                                                                                                                                                                                                                                                                                                                                                                                                                                                                                                                                                                                                                                                                                                                                                                                                                                                                                                                                                                                                                                                                                                                                                                                                                                                                                                                                                                                                                                                                                                                                                                                                                                                                                                                                                                                                                                                                                                                                                                                                                                                                                            training_text\n",
       "2869   8526042588044002101                                                                                                                                                                                                                                                                                                                                                                                                                                                                                                                                                                                                                                                                                                                                                                                                                                      Cloud Native enables efficient, automated infrastructure through modular architecture Cloud Native is an approach to build modular, automated systems that can manage complexity and accelerate development. It utilizes practices like microservices, infrastructure as code, and CI/CD. Cloud Native is a way of structuring teams, culture, and technology to utilize automation and architectures to manage complexity and unlock velocity. The real value of Cloud Native goes beyond just the technologies associated with it. Cloud Native enables more efficient and happier teams by breaking large problems into smaller pieces and reducing manual work through automation. It leads to more reliable infrastructure and applications by building in automation to handle failures. Cloud Native also enables auditable, visible, and debuggable complex applications through the tools used to build them. It allows developers to create more secure applications through least trust principles. Finally, Cloud Native opens up algorithmic automation for more efficient use of resources like intelligent scheduling. We are still early in applying Cloud Native outside of technology companies, but it brings many benefits. Heptio is excited to help bring Cloud Native's advantages to the wider IT industry.\n",
       "2982   7419040071212162906                                                                                                                                                                                                                                                                                                                                                                                                                                                                                                                                                                                                                                                                                Google search traffic hack by targeting \\\"best of year\\\" keywords Adding the current year to keywords can drive search traffic by targeting fresh annual results. But you need a monetization strategy like affiliate links. The article discusses how adding \\\"2016\\\" or \\\"2017\\\" to Google search queries can send huge amounts of traffic to websites. The author first got the idea when searching for \\\"best business books 2016\\\" and realized many people search with the current year to get the most recent results. He tested this on his own site by publishing an article with \\\"2016\\\" in the headline and got tens of thousands of visitors. Another example is the site 10beasts.com which was launched in 2016 with articles about the \\\"best\\\" products that year. Just 4 months after launch the site was getting 100k+ visitors per month and earning $4,687 in commissions. The site BestProducts.com also dominated Google in 2016 for year based terms, getting millions of visitors. To find profitable keywords, the author suggests using Google Trends, Google Keyword Planner, and reverse engineering sites like Amazon. Overall the tactic can drive huge organic search traffic if you target the right keywords, though you need a monetization strategy like affiliate marketing to profit. The key is finding \\\"long tail\\\" keywords with buyer intent that are less competitive. With some effort, the strategy provides a big SEO opportunity in 2017.\n",
       "3040   -532999578436827210                                                                                                                                                                                                                                                                                                                                                                                                                                                                                                                                                                                                                                                               IBM launches cloud graph database service using open source technologies IBM Graph provides developers an interactive graph database to learn Gremlin query language. It aims to make graph technology more accessible. IBM has launched a new cloud based graph database service called IBM Graph, built on open source Titan and Apache TinkerPop technologies. The service is designed to make graph databases more accessible to developers by providing an interactive tutorial playground to help them learn Gremlin query language. The goal is to get developers up and running with graph technology quickly. IBM Graph provides up to 500MB of free storage and 25,000 free API calls per month. Additional storage and API calls are charged per GB and per 1000 calls. The service runs on IBM data centers on Cassandra for storage, Elasticsearch for indexing, and the open source Titan and TinkerPop technologies. IBM chose not to modify or fork these open source projects in order to maintain compatibility. IBM Graph is focused on transactional workloads by providing a secondary operational data store for real time graph queries from other production applications. Analytic workloads are possible but not the main focus currently. Future plans include making it easier to load and model data for graphs, as modeling decisions are required upfront before loading data. IBM also aims to evolve the offering for analytic workloads like Apache Spark in the future.\n",
       "3065   3566197569262766169                                                                                                                                                                                                                                                                                                                                                                                                                                                                                                                                                                                                                                                                                                                                                                                                                                                                                                                                        Google extends Gmail API for more granular email settings management Google updated the Gmail API with new endpoints to manage filters, aliases, forwarding, signatures, vacation responders, and other granular email settings. This replaces the deprecated Email Settings API. Google has extended the Gmail API with new endpoints for managing email settings like filters, forwarding addresses, IMAP/POP settings, send as aliases, signatures, and vacation responders. Developers can now retrieve and update signatures for send as aliases, configure forwarding to external addresses, configure send as aliases through external providers, use HTML in vacation messages, and manipulate settings for gmail.com accounts. More settings features like mailbox delegate support will be added over time. Most settings endpoints work for any Google Apps or Gmail account, but sensitive operations like modifying aliases or forwarding are restricted to service accounts with domain wide authority. The existing Email Settings API in the Admin SDK is deprecated and will be turned down on July 7, 2017 in favor of the updated Gmail API. Google has provided a migration guide to help clients transition.\n",
       "3084  -8900113512825364282  Report finds banks lag in customer experience maturity and investment A global survey on customer experience in banking reveals most institutions lack a formal CX plan and focus more on internal metrics than customer ease. But CX investment is increasing. The report \\\"Improving Customer Experience in Banking\\\" shares results from a global survey on CX maturity in financial institutions. It finds most banks and credit unions are unprepared to meet rising consumer expectations. Digital transformation has enabled personalized, seamless engagement across channels. This increases potential for positive CX but also complexity. Unfortunately CX is not a top priority for many institutions, leading to transactional relationships. To improve CX and meet evolving needs, key priorities emerged: Shift digital focus from cost reduction to experience enhancement. Leverage analytics, machine learning, contextual engagement for personalization. Let customers engage how and when they want. Make advisory and sales proactive vs reactive. Engage throughout the customer journey. The report surveyed banks and credit unions on their CX maturity and provides a benchmark. It was sponsored by Deluxe Corp. Key findings: While all see CX as significant, it's less important at smaller institutions. Only 37% have a formal CX plan. CX objectives focus on internal benefits like sales and costs rather than customer simplicity and ease. Despite digital driving satisfaction, focus remains on products and branches over technology. Most will increase CX investment, especially over next 3 years. CX initiatives so far have had modest impact. Data analytics, legacy technology, customer view are top challenges. CX measurement lacks revenue impact metrics. The report concludes that as \\\"Age of the Individual\\\" emerges, using data and analytics to deliver personalized experiences will separate winners from losers. Banks should start by fixing one issue impeding customer satisfaction through a data driven approach. The complete 85 page report with survey data crosstabs is available for purchase."
      ]
     },
     "execution_count": 139,
     "metadata": {},
     "output_type": "execute_result"
    }
   ],
   "source": [
    "most_recent_five_articles_metadata[['item_id', 'training_text']]"
   ]
  },
  {
   "cell_type": "markdown",
   "id": "62a360a7-b914-4007-ae3e-199222ddd171",
   "metadata": {},
   "source": [
    "We see that the user has previously red information on cloud applications and google in particular. In fact one of our recommendations is actually in the users recent interaction history. This is not ideal lets use the fitler we created earlier to exclude this data. We will put in a timestamp cutoff of 0 for now to include all articles. And we will also include all availible genres in our filter for the moment."
   ]
  },
  {
   "cell_type": "code",
   "execution_count": 140,
   "id": "913d9733-caeb-4d7e-babd-37d1cdd9f629",
   "metadata": {
    "tags": []
   },
   "outputs": [],
   "source": [
    "get_recommendations_response = personalize_runtime.get_recommendations(\n",
    "    campaignArn = workshop_userpersonalization_campaign_arn,\n",
    "    userId = sample_user,\n",
    "    numResults = 5,\n",
    "    filterArn = genre_filter_arn,\n",
    "    filterValues = {\"CUTOFF\": \"\\\"0\\\"\", \"GENRELIST\": \"\\\"tech\\\",\\\"non tech\\\",\\\"cloud provider news\\\",\\\"crypto currency\\\"\"},\n",
    "    metadataColumns = {\"ITEMS\": [\"training_text\"]}\n",
    ")"
   ]
  },
  {
   "cell_type": "code",
   "execution_count": 141,
   "id": "9e93fbdc-226a-46ed-b7cf-4db2fa43518f",
   "metadata": {
    "tags": []
   },
   "outputs": [],
   "source": [
    "recommendations_df = pd.DataFrame.from_records(get_recommendations_response['itemList'])"
   ]
  },
  {
   "cell_type": "code",
   "execution_count": 142,
   "id": "e269f627-e3fb-4ba1-ad46-93012ff90561",
   "metadata": {
    "tags": []
   },
   "outputs": [
    {
     "data": {
      "text/html": [
       "<div>\n",
       "<style scoped>\n",
       "    .dataframe tbody tr th:only-of-type {\n",
       "        vertical-align: middle;\n",
       "    }\n",
       "\n",
       "    .dataframe tbody tr th {\n",
       "        vertical-align: top;\n",
       "    }\n",
       "\n",
       "    .dataframe thead th {\n",
       "        text-align: right;\n",
       "    }\n",
       "</style>\n",
       "<table border=\"1\" class=\"dataframe\">\n",
       "  <thead>\n",
       "    <tr style=\"text-align: right;\">\n",
       "      <th></th>\n",
       "      <th>itemId</th>\n",
       "      <th>score</th>\n",
       "      <th>metadata</th>\n",
       "    </tr>\n",
       "  </thead>\n",
       "  <tbody>\n",
       "    <tr>\n",
       "      <th>0</th>\n",
       "      <td>-6623581327558800021</td>\n",
       "      <td>0.124971</td>\n",
       "      <td>{'training_text': 'Google's Spanner database offers global replication and consistency Google is now offering its globally distributed Spanner database as a cloud service. The unique time synchronization could benefit global businesses. About a decade ago, Google engineers built a global database called Spanner that works across multiple data centers around the world. Spanner behaves as if it's in one place, allowing Google to replicate data and make changes globally without conflicts. This provides consistency across Google services like Gmail and AdWords. Spanner achieves this by using GPS receivers, atomic clocks, and time synchronization technology called TrueTime to establish a common time reference across data centers. This allows for coordination between distributed systems faster than the speed of light. TrueTime is unique to Google. Spanner gives Google a competitive advantage in cloud computing against rivals like Amazon and Microsoft. Google hopes Spanner's global replication and consistency will appeal to global businesses and financial institutions. A supply chain company called JDA is already testing Spanner. Spanner was previously only useful to Google, but now Google is offering it as a cloud service so other companies can benefit from its global scale and unique time synchronization abilities. This could allow businesses to more easily expand globally and replicate data across regions.'}</td>\n",
       "    </tr>\n",
       "    <tr>\n",
       "      <th>1</th>\n",
       "      <td>717471739656838182</td>\n",
       "      <td>0.067480</td>\n",
       "      <td>{'training_text': 'Evernote migrates from own data centers to Google Cloud Evernote moved its popular note taking service to Google Cloud for machine learning capabilities, flexibility, and to avoid running its own infrastructure. Evernote decided last year to move away from running its own data centers and start using the public cloud to operate its popular notetaking service. It signed up to work with Google Cloud Platform. Google sent engineers to help Evernote with the migration. Evernote wanted to leverage the cloud for new machine learning features and flexibility. The migration required adapting Evernote's backend, which was built assuming onpremises data centers. Google's expertise in unstructured data and machine learning made it a good fit over AWS or Azure. The migration had to be done without losing any of Evernote's 3 petabytes of data or disrupting the live service. Evernote reworked parts of its application like networking and storage to work on Google's cloud. Google engineers provided 24/7 support and even came onsite to help. The main migration took around 10 days. The cloud removed Evernote's need to maintain its own data centers and keep up with infrastructure advances. It provides reduced latency for international users through Google's network. Evernote is still migrating some final user attachments but all data is now encrypted at rest. The company has more freedom to leverage cloud services for new features.'}</td>\n",
       "    </tr>\n",
       "    <tr>\n",
       "      <th>2</th>\n",
       "      <td>-1415040208471067980</td>\n",
       "      <td>0.039467</td>\n",
       "      <td>{'training_text': 'Google Cloud Platform releases icon library for diagrams Google Cloud Platform published downloadable icons and sample diagrams to help visually represent GCP infrastructure and services. Google Cloud Platform has released downloadable icon sets and sample diagrams to help developers, architects, and partners visually represent complex cloud infrastructure in documents and presentations. The icons cover GCP products, services, and elements that can be combined with other providers' icons to show hybrid/multicloud setups. Over 50 sample diagrams are available in Slide and PowerPoint formats to help kickstart new diagrams. As more products launch, Google will add icons so users should revisit the icon library. This allows accurate, uptodate visual representations of Google Cloud Platform architectures and services.'}</td>\n",
       "    </tr>\n",
       "    <tr>\n",
       "      <th>3</th>\n",
       "      <td>8482750322470893687</td>\n",
       "      <td>0.038279</td>\n",
       "      <td>{'training_text': 'Google consolidates Hangouts On Air into YouTube Live Google is retiring Hangouts On Air and moving livestreaming features to YouTube Live to consolidate products. Google announced that Google+ Hangouts On Air will no longer be available starting September 12. Users will be asked to use YouTube Live for livestreaming instead. Google first launched Hangouts On Air in 2011 for select users and opened it up to everyone in 2012. In 2013, Google launched YouTube Live and has now decided to consolidate the two products. After September 12, users won't be able to schedule new Hangouts On Air events. Existing events after this date will need to be moved to YouTube Live. Hangouts On Air will still exist in some form, just not tied to Google+. Users will need to use YouTube Live's builtin scheduling feature instead. To use Hangouts On Air with YouTube Live: Go to Live Streaming Events in Creator Studio, click New live event, select Quick (using Google Hangouts On Air), title the event, schedule it or go live now, and broadcast with Hangouts. Recorded events will still be on YouTube. The only Google+ link will be to see event content in readonly Activity Log. Google began dropping the Google+ requirement across products in 2015, a process still ongoing. Last week Google Play dropped the requirement for reviews. Next month, Hangouts On Air scheduling will move off Google+.'}</td>\n",
       "    </tr>\n",
       "    <tr>\n",
       "      <th>4</th>\n",
       "      <td>2573252627510191315</td>\n",
       "      <td>0.035333</td>\n",
       "      <td>{'training_text': 'Setting autoexpiry dates for Google Drive file sharing links A guide explains how to create temporary access links for Google Drive files that automatically expire after a chosen time period, using a thirdparty web app. The article explains how to set autoexpiry dates for shared Google Drive links. This allows you to share files that are only accessible for a limited time. While Google Drive allows setting expiration dates, this is only available for paid Google Workspace accounts. The article provides instructions for free Google account users to create temporary links that autoexpire after a chosen time period. The steps are: 1. Go to labnol.org/expire and authorize the web app to access your Google Drive. 2. Open the File Picker and select the file or folder to share. 3. Enter the email addresses of users to share with. Specify if they get viewer or editor access. 4. Set the time period after which access will be revoked. 5. Click \\\"Set Expiration\\\" and the access will be automatically removed after the set date/time. The article also mentions the Google Drive Auditor addon to analyze permissions on shared files. And the autoexpiry app lists files set to expire.'}</td>\n",
       "    </tr>\n",
       "  </tbody>\n",
       "</table>\n",
       "</div>"
      ],
      "text/plain": [
       "                 itemId     score                                                                                                                                                                                                                                                                                                                                                                                                                                                                                                                                                                                                                                                                                                                                                                                                                                                                                                                                                                                                                                                                                                                                                                                                                                                                                                                                                                                                                                                                                                           metadata\n",
       "0  -6623581327558800021  0.124971                                {'training_text': 'Google's Spanner database offers global replication and consistency Google is now offering its globally distributed Spanner database as a cloud service. The unique time synchronization could benefit global businesses. About a decade ago, Google engineers built a global database called Spanner that works across multiple data centers around the world. Spanner behaves as if it's in one place, allowing Google to replicate data and make changes globally without conflicts. This provides consistency across Google services like Gmail and AdWords. Spanner achieves this by using GPS receivers, atomic clocks, and time synchronization technology called TrueTime to establish a common time reference across data centers. This allows for coordination between distributed systems faster than the speed of light. TrueTime is unique to Google. Spanner gives Google a competitive advantage in cloud computing against rivals like Amazon and Microsoft. Google hopes Spanner's global replication and consistency will appeal to global businesses and financial institutions. A supply chain company called JDA is already testing Spanner. Spanner was previously only useful to Google, but now Google is offering it as a cloud service so other companies can benefit from its global scale and unique time synchronization abilities. This could allow businesses to more easily expand globally and replicate data across regions.'}\n",
       "1    717471739656838182  0.067480  {'training_text': 'Evernote migrates from own data centers to Google Cloud Evernote moved its popular note taking service to Google Cloud for machine learning capabilities, flexibility, and to avoid running its own infrastructure. Evernote decided last year to move away from running its own data centers and start using the public cloud to operate its popular notetaking service. It signed up to work with Google Cloud Platform. Google sent engineers to help Evernote with the migration. Evernote wanted to leverage the cloud for new machine learning features and flexibility. The migration required adapting Evernote's backend, which was built assuming onpremises data centers. Google's expertise in unstructured data and machine learning made it a good fit over AWS or Azure. The migration had to be done without losing any of Evernote's 3 petabytes of data or disrupting the live service. Evernote reworked parts of its application like networking and storage to work on Google's cloud. Google engineers provided 24/7 support and even came onsite to help. The main migration took around 10 days. The cloud removed Evernote's need to maintain its own data centers and keep up with infrastructure advances. It provides reduced latency for international users through Google's network. Evernote is still migrating some final user attachments but all data is now encrypted at rest. The company has more freedom to leverage cloud services for new features.'}\n",
       "2  -1415040208471067980  0.039467                                                                                                                                                                                                                                                                                                                                                                                                                                                                                                                                                                                                                                      {'training_text': 'Google Cloud Platform releases icon library for diagrams Google Cloud Platform published downloadable icons and sample diagrams to help visually represent GCP infrastructure and services. Google Cloud Platform has released downloadable icon sets and sample diagrams to help developers, architects, and partners visually represent complex cloud infrastructure in documents and presentations. The icons cover GCP products, services, and elements that can be combined with other providers' icons to show hybrid/multicloud setups. Over 50 sample diagrams are available in Slide and PowerPoint formats to help kickstart new diagrams. As more products launch, Google will add icons so users should revisit the icon library. This allows accurate, uptodate visual representations of Google Cloud Platform architectures and services.'}\n",
       "3   8482750322470893687  0.038279                                                       {'training_text': 'Google consolidates Hangouts On Air into YouTube Live Google is retiring Hangouts On Air and moving livestreaming features to YouTube Live to consolidate products. Google announced that Google+ Hangouts On Air will no longer be available starting September 12. Users will be asked to use YouTube Live for livestreaming instead. Google first launched Hangouts On Air in 2011 for select users and opened it up to everyone in 2012. In 2013, Google launched YouTube Live and has now decided to consolidate the two products. After September 12, users won't be able to schedule new Hangouts On Air events. Existing events after this date will need to be moved to YouTube Live. Hangouts On Air will still exist in some form, just not tied to Google+. Users will need to use YouTube Live's builtin scheduling feature instead. To use Hangouts On Air with YouTube Live: Go to Live Streaming Events in Creator Studio, click New live event, select Quick (using Google Hangouts On Air), title the event, schedule it or go live now, and broadcast with Hangouts. Recorded events will still be on YouTube. The only Google+ link will be to see event content in readonly Activity Log. Google began dropping the Google+ requirement across products in 2015, a process still ongoing. Last week Google Play dropped the requirement for reviews. Next month, Hangouts On Air scheduling will move off Google+.'}\n",
       "4   2573252627510191315  0.035333                                                                                                                                                                                                                                                               {'training_text': 'Setting autoexpiry dates for Google Drive file sharing links A guide explains how to create temporary access links for Google Drive files that automatically expire after a chosen time period, using a thirdparty web app. The article explains how to set autoexpiry dates for shared Google Drive links. This allows you to share files that are only accessible for a limited time. While Google Drive allows setting expiration dates, this is only available for paid Google Workspace accounts. The article provides instructions for free Google account users to create temporary links that autoexpire after a chosen time period. The steps are: 1. Go to labnol.org/expire and authorize the web app to access your Google Drive. 2. Open the File Picker and select the file or folder to share. 3. Enter the email addresses of users to share with. Specify if they get viewer or editor access. 4. Set the time period after which access will be revoked. 5. Click \\\"Set Expiration\\\" and the access will be automatically removed after the set date/time. The article also mentions the Google Drive Auditor addon to analyze permissions on shared files. And the autoexpiry app lists files set to expire.'}"
      ]
     },
     "execution_count": 142,
     "metadata": {},
     "output_type": "execute_result"
    }
   ],
   "source": [
    "recommendations_df"
   ]
  },
  {
   "cell_type": "markdown",
   "id": "05608ab8-1aac-46c5-a73a-58bcb2fbfc8a",
   "metadata": {},
   "source": [
    "Much better a variety of articles about google technical products, similar to but different than the users recent reading history - which is great. Now lets send in some interactions with a different sort of article.\n",
    "\n",
    "Below are five sample to choose from: \n",
    "\n",
    "-4996336942690402156 -1878128207048892154 -3058031327323357308 -1633984990770981161 -1633984990770981161"
   ]
  },
  {
   "cell_type": "code",
   "execution_count": null,
   "id": "56513c8c-a64b-4588-ae9f-d777151793f3",
   "metadata": {},
   "outputs": [],
   "source": [
    "most_recent_five_articles_metadata[most_recent_five_articles_metadata.ite['item_id', 'training_text']]"
   ]
  },
  {
   "cell_type": "code",
   "execution_count": 149,
   "id": "f80fa1a4-fd83-44bb-ab32-48aebc7fdc27",
   "metadata": {
    "tags": []
   },
   "outputs": [
    {
     "data": {
      "text/html": [
       "<div>\n",
       "<style scoped>\n",
       "    .dataframe tbody tr th:only-of-type {\n",
       "        vertical-align: middle;\n",
       "    }\n",
       "\n",
       "    .dataframe tbody tr th {\n",
       "        vertical-align: top;\n",
       "    }\n",
       "\n",
       "    .dataframe thead th {\n",
       "        text-align: right;\n",
       "    }\n",
       "</style>\n",
       "<table border=\"1\" class=\"dataframe\">\n",
       "  <thead>\n",
       "    <tr style=\"text-align: right;\">\n",
       "      <th></th>\n",
       "      <th>creation_timestamp</th>\n",
       "      <th>item_id</th>\n",
       "      <th>lang</th>\n",
       "      <th>article_genre</th>\n",
       "      <th>training_text</th>\n",
       "    </tr>\n",
       "  </thead>\n",
       "  <tbody>\n",
       "    <tr>\n",
       "      <th>2095</th>\n",
       "      <td>1471520397</td>\n",
       "      <td>-1633984990770981161</td>\n",
       "      <td>pt</td>\n",
       "      <td>tech</td>\n",
       "      <td>UX vs UI design interconnected roles optimizing user experience An article explains the difference between UX and UI design. It argues they are interconnected roles focused on understanding and optimizing user needs and emotions. The article discusses the difference between UX (user experience) and UI (user interface) design. It provides some historical context, explaining that 15 years ago there were not specialized roles like UX and UI designer. As technology advanced quickly, the need arose for specialized designers focused on optimizing the user's experience. The article explains that UX involves research, testing, understanding user emotions, flows, and behaviors when interacting with a product. UI involves the visual design colors, fonts, layouts, etc. UX drives UI choices by understanding user needs. The article argues UX and UI are interconnected you can't have good UI without the proper UX research behind it. The author believes professionals today likely already incorporate both UX and UI even if they don't realize it. She argues that separating UX and UI into isolated disciplines doesn't make sense, as they need to work together for an innovative product.</td>\n",
       "    </tr>\n",
       "    <tr>\n",
       "      <th>2245</th>\n",
       "      <td>1472750564</td>\n",
       "      <td>90383487344892230</td>\n",
       "      <td>en</td>\n",
       "      <td>tech</td>\n",
       "      <td>Computer vision system inspects cookies using OpenCV and Raspberry Pi An educational project demonstrates using OpenCV and Raspberry Pi to analyze cookie images and detect defects in real time. The full code is available on GitHub. The author gained experience with microservices on a retail banking project. The project was successful in delivering features quickly using microservices, but the microservices were tightly coupled to legacy components. This tight coupling was due to several factors: Vertically scaled private data center infrastructure Lack of a cloud native development platform No self service database provisioning tool The microservices used the legacy system's large shared database. Access controls provided isolation between microservices. This allowed easy migration to separate databases later. However, it took 7 months to release the first microservice, due to risks of impacting production users. A framework defect caused connection issues during stress testing. The key lesson was that a microservice should encapsulate the unit of service and unit of failure from day one. This refers to a concept by Jim Gray modules should be units of service and failure, so failures don't propagate. When experts say microservices concepts aren't new, this quote by Jim Gray is a key historical reference.</td>\n",
       "    </tr>\n",
       "    <tr>\n",
       "      <th>2507</th>\n",
       "      <td>1475614359</td>\n",
       "      <td>-4996336942690402156</td>\n",
       "      <td>en</td>\n",
       "      <td>tech</td>\n",
       "      <td>Three tips to improve productivity for developers An article recommends turning off notifications, avoiding unnecessary meetings, and working remotely to help developers avoid distractions and reach flow states where they do their best work. The article discusses how interruptions like meetings and notifications can destroy productivity and prevent developers from reaching flow states where they do their best work. Studies show open plan offices are disliked and reduce productivity, but employers use them to pack in more people. The article recommends three tips to improve productivity: 1. Turn off unnecessary notifications on your devices so you aren't constantly interrupted. Only leave on essential notifications. 2. Dodge unnecessary meetings by asking people to explain topics over email or chat instead of defaulting to meetings. Don't commit time unless it's clear a meeting is needed. 3. Ask for a private office or work from home if possible. Working remotely improves productivity by 13% partly by avoiding office distractions. If remote work isn't possible, a private office also helps avoid distractions. The article cites research on interruptions, open plan offices, working remotely, and achieving flow states. It argues we need to work asynchronously and protect focus time to do creative work. The book Creativity Inc is also recommended for ideas on improving team productivity.</td>\n",
       "    </tr>\n",
       "    <tr>\n",
       "      <th>2580</th>\n",
       "      <td>1476787589</td>\n",
       "      <td>-3058031327323357308</td>\n",
       "      <td>en</td>\n",
       "      <td>tech</td>\n",
       "      <td>Article discusses best practices for designing APIs in Java 8 The article provides recommendations for creating clean, consistent APIs in Java 8 using features like Optional, streams, and functional interfaces. This article discusses best practices for designing APIs in Java 8. Some key points: Avoid returning null to indicate no value. Use Optional instead. Don't use arrays to pass values in/out of APIs. Use Streams or collections. Avoid allowing direct instantiation of implementation classes. Use static factory methods instead. Favor composition over inheritance. Use lambdas/functional interfaces rather than abstract classes. Use FunctionalInterface annotation on functional interfaces. Avoid overloading methods that take functional interfaces. Validate input parameters before use. Don't call Optional.get() without checking Optional.isPresent(). Split stream pipelines over multiple lines for readability. In general, optimize for simplicity, consistency and hiding implementation details from API users.</td>\n",
       "    </tr>\n",
       "    <tr>\n",
       "      <th>2861</th>\n",
       "      <td>1481626644</td>\n",
       "      <td>-1878128207048892154</td>\n",
       "      <td>en</td>\n",
       "      <td>tech</td>\n",
       "      <td>The Ten Commandments outline ideals for egoless programming The Ten Commandments of Egoless Programming encourage collaboration, continuous learning, and focusing on code over attacking people. The Ten Commandments of Egoless Programming were originally outlined in Jerry Weinberg's 1971 book The Psychology of Computer Programming. They encourage programmers to seek input, offer constructive criticism, and share knowledge. The principles highlight the importance of collaboration, continuous learning, and focusing on improving code rather than attacking people. Though written decades ago, these ideals remain highly relevant today. Adopting an egoless mindset can foster effective teamwork and lead to better software development outcomes.</td>\n",
       "    </tr>\n",
       "  </tbody>\n",
       "</table>\n",
       "</div>"
      ],
      "text/plain": [
       "      creation_timestamp               item_id lang article_genre                                                                                                                                                                                                                                                                                                                                                                                                                                                                                                                                                                                                                                                                                                                                                                                                                                                                                                                                                                                                                                                                                                                                                                                                                                                                                                                                                                                                                                                 training_text\n",
       "2095          1471520397  -1633984990770981161   pt          tech                                                                                                                                                                                                                              UX vs UI design interconnected roles optimizing user experience An article explains the difference between UX and UI design. It argues they are interconnected roles focused on understanding and optimizing user needs and emotions. The article discusses the difference between UX (user experience) and UI (user interface) design. It provides some historical context, explaining that 15 years ago there were not specialized roles like UX and UI designer. As technology advanced quickly, the need arose for specialized designers focused on optimizing the user's experience. The article explains that UX involves research, testing, understanding user emotions, flows, and behaviors when interacting with a product. UI involves the visual design colors, fonts, layouts, etc. UX drives UI choices by understanding user needs. The article argues UX and UI are interconnected you can't have good UI without the proper UX research behind it. The author believes professionals today likely already incorporate both UX and UI even if they don't realize it. She argues that separating UX and UI into isolated disciplines doesn't make sense, as they need to work together for an innovative product.\n",
       "2245          1472750564     90383487344892230   en          tech                                                                                 Computer vision system inspects cookies using OpenCV and Raspberry Pi An educational project demonstrates using OpenCV and Raspberry Pi to analyze cookie images and detect defects in real time. The full code is available on GitHub. The author gained experience with microservices on a retail banking project. The project was successful in delivering features quickly using microservices, but the microservices were tightly coupled to legacy components. This tight coupling was due to several factors: Vertically scaled private data center infrastructure Lack of a cloud native development platform No self service database provisioning tool The microservices used the legacy system's large shared database. Access controls provided isolation between microservices. This allowed easy migration to separate databases later. However, it took 7 months to release the first microservice, due to risks of impacting production users. A framework defect caused connection issues during stress testing. The key lesson was that a microservice should encapsulate the unit of service and unit of failure from day one. This refers to a concept by Jim Gray modules should be units of service and failure, so failures don't propagate. When experts say microservices concepts aren't new, this quote by Jim Gray is a key historical reference.\n",
       "2507          1475614359  -4996336942690402156   en          tech  Three tips to improve productivity for developers An article recommends turning off notifications, avoiding unnecessary meetings, and working remotely to help developers avoid distractions and reach flow states where they do their best work. The article discusses how interruptions like meetings and notifications can destroy productivity and prevent developers from reaching flow states where they do their best work. Studies show open plan offices are disliked and reduce productivity, but employers use them to pack in more people. The article recommends three tips to improve productivity: 1. Turn off unnecessary notifications on your devices so you aren't constantly interrupted. Only leave on essential notifications. 2. Dodge unnecessary meetings by asking people to explain topics over email or chat instead of defaulting to meetings. Don't commit time unless it's clear a meeting is needed. 3. Ask for a private office or work from home if possible. Working remotely improves productivity by 13% partly by avoiding office distractions. If remote work isn't possible, a private office also helps avoid distractions. The article cites research on interruptions, open plan offices, working remotely, and achieving flow states. It argues we need to work asynchronously and protect focus time to do creative work. The book Creativity Inc is also recommended for ideas on improving team productivity.\n",
       "2580          1476787589  -3058031327323357308   en          tech                                                                                                                                                                                                                                                                                                                                                                                                     Article discusses best practices for designing APIs in Java 8 The article provides recommendations for creating clean, consistent APIs in Java 8 using features like Optional, streams, and functional interfaces. This article discusses best practices for designing APIs in Java 8. Some key points: Avoid returning null to indicate no value. Use Optional instead. Don't use arrays to pass values in/out of APIs. Use Streams or collections. Avoid allowing direct instantiation of implementation classes. Use static factory methods instead. Favor composition over inheritance. Use lambdas/functional interfaces rather than abstract classes. Use FunctionalInterface annotation on functional interfaces. Avoid overloading methods that take functional interfaces. Validate input parameters before use. Don't call Optional.get() without checking Optional.isPresent(). Split stream pipelines over multiple lines for readability. In general, optimize for simplicity, consistency and hiding implementation details from API users.\n",
       "2861          1481626644  -1878128207048892154   en          tech                                                                                                                                                                                                                                                                                                                                                                                                                                                                                                                                                                                                                                                                                      The Ten Commandments outline ideals for egoless programming The Ten Commandments of Egoless Programming encourage collaboration, continuous learning, and focusing on code over attacking people. The Ten Commandments of Egoless Programming were originally outlined in Jerry Weinberg's 1971 book The Psychology of Computer Programming. They encourage programmers to seek input, offer constructive criticism, and share knowledge. The principles highlight the importance of collaboration, continuous learning, and focusing on improving code rather than attacking people. Though written decades ago, these ideals remain highly relevant today. Adopting an egoless mindset can foster effective teamwork and lead to better software development outcomes."
      ]
     },
     "execution_count": 149,
     "metadata": {},
     "output_type": "execute_result"
    }
   ],
   "source": [
    "articles_mlfeatures[articles_mlfeatures.item_id.isin(['-4996336942690402156', '-1878128207048892154', '-3058031327323357308', '-1633984990770981161', '90383487344892230'])]"
   ]
  },
  {
   "cell_type": "markdown",
   "id": "798bb836-940b-4a65-a405-eaf8a7b7f2b7",
   "metadata": {},
   "source": [
    "To change the user recommendations to account for recent changes in user behavior in real time we must first deploy an event tracker for the dataset group"
   ]
  },
  {
   "cell_type": "code",
   "execution_count": 153,
   "id": "2af07f42-80de-4d4c-8f79-11944c9df147",
   "metadata": {
    "tags": []
   },
   "outputs": [
    {
     "name": "stdout",
     "output_type": "stream",
     "text": [
      "\n",
      "The the Event Tracker with event_tracker_name news-event-tracker already exists\n",
      "\n",
      "We will be using the existing Event Tracker with event_tracker_arn = arn:aws:personalize:us-east-1:381491864570:event-tracker/79f2d13c\n",
      "\n",
      "And tracking_id = 4ea6be84-eb39-4b11-8f59-b76609ac56df\n"
     ]
    }
   ],
   "source": [
    "event_tracker_name = 'news-event-tracker'\n",
    "\n",
    "try: \n",
    "    create_event_tracker_response = personalize.create_event_tracker(\n",
    "        name = event_tracker_name,\n",
    "        datasetGroupArn=workshop_dataset_group_arn\n",
    "        )\n",
    "    event_tracker_arn = create_event_tracker_response['eventTrackerArn']\n",
    "    print(json.dumps(create_event_tracker_response, indent=2))\n",
    "    print ('\\nCreating the event_tracker with event_tracker_arn = {}'.format(event_tracker_arn))\n",
    "    tracking_id = create_event_tracker_response['trackingId']\n",
    "    print ('\\nAnd trackingId = {}'.format(tracking_id))\n",
    "\n",
    "except personalize.exceptions.ResourceAlreadyExistsException as e:\n",
    "    event_tracker_list = personalize.list_event_trackers( \n",
    "        datasetGroupArn= workshop_dataset_group_arn\n",
    "    )['eventTrackers']\n",
    "    \n",
    "    event_tracker_arn = event_tracker_list[0]['eventTrackerArn']\n",
    "    \n",
    "    describe_event_tracker_response = personalize.describe_event_tracker(\n",
    "        eventTrackerArn=event_tracker_arn\n",
    "    )\n",
    "    tracking_id = describe_event_tracker_response['eventTracker']['trackingId']\n",
    "    \n",
    "    print ('\\nThe the Event Tracker with event_tracker_name {} already exists'.format(event_tracker_name))\n",
    "    print ('\\nWe will be using the existing Event Tracker with event_tracker_arn = {}'.format(event_tracker_arn))\n",
    "    print ('\\nAnd tracking_id = {}'.format(tracking_id))"
   ]
  },
  {
   "cell_type": "markdown",
   "id": "cef700e6-8092-4bd6-a5da-39cf15601240",
   "metadata": {
    "tags": []
   },
   "source": [
    "Now lets submit an interaction for our earlier user with one of our above items"
   ]
  },
  {
   "cell_type": "code",
   "execution_count": 154,
   "id": "6e406872-f62c-41d2-afb0-2b70946bf50b",
   "metadata": {
    "tags": []
   },
   "outputs": [],
   "source": [
    "response = personalize_events.put_events(\n",
    "    trackingId=tracking_id,\n",
    "    userId=sample_user,\n",
    "    sessionId='session1',\n",
    "    eventList=[\n",
    "        {\n",
    "            'eventId': 'madeupevent1',\n",
    "            'eventType': 'VIEW',\n",
    "            'itemId': '-1633984990770981161',\n",
    "            'sentAt': 1714006143,\n",
    "        },\n",
    "    ]\n",
    ")"
   ]
  },
  {
   "cell_type": "code",
   "execution_count": 155,
   "id": "5df0702a-6a27-442c-82ed-d0d0af10a120",
   "metadata": {
    "tags": []
   },
   "outputs": [
    {
     "data": {
      "text/plain": [
       "{'ResponseMetadata': {'RequestId': '113349fd-8fec-46dc-b89f-87d003ff8670',\n",
       "  'HTTPStatusCode': 200,\n",
       "  'HTTPHeaders': {'date': 'Fri, 05 Jul 2024 21:53:33 GMT',\n",
       "   'content-type': 'application/json',\n",
       "   'content-length': '0',\n",
       "   'connection': 'keep-alive',\n",
       "   'x-amzn-requestid': '113349fd-8fec-46dc-b89f-87d003ff8670'},\n",
       "  'RetryAttempts': 0}}"
      ]
     },
     "execution_count": 155,
     "metadata": {},
     "output_type": "execute_result"
    }
   ],
   "source": [
    "response"
   ]
  },
  {
   "cell_type": "markdown",
   "id": "28e750f5-5f71-4aac-afd8-43b8dfcaf3f1",
   "metadata": {},
   "source": [
    "Now lets see how our recommendations change:"
   ]
  },
  {
   "cell_type": "code",
   "execution_count": 157,
   "id": "d7c71ea2-56d7-4122-94d2-d5a4b86b8f4b",
   "metadata": {
    "tags": []
   },
   "outputs": [],
   "source": [
    "get_recommendations_response = personalize_runtime.get_recommendations(\n",
    "    campaignArn = workshop_userpersonalization_campaign_arn,\n",
    "    userId = sample_user,\n",
    "    numResults = 5,\n",
    "    filterArn = genre_filter_arn,\n",
    "    filterValues = {\"CUTOFF\": \"\\\"0\\\"\", \"GENRELIST\": \"\\\"tech\\\",\\\"non tech\\\",\\\"cloud provider news\\\",\\\"crypto currency\\\"\"},\n",
    "    metadataColumns = {\"ITEMS\": [\"training_text\"]}\n",
    ")"
   ]
  },
  {
   "cell_type": "code",
   "execution_count": 158,
   "id": "a7e78471-2732-4040-8606-b574141ab57d",
   "metadata": {
    "tags": []
   },
   "outputs": [],
   "source": [
    "recommendations_df = pd.DataFrame.from_records(get_recommendations_response['itemList'])"
   ]
  },
  {
   "cell_type": "code",
   "execution_count": 159,
   "id": "6f91227e-4132-45ce-ac79-12040c03f8ec",
   "metadata": {
    "tags": []
   },
   "outputs": [
    {
     "data": {
      "text/html": [
       "<div>\n",
       "<style scoped>\n",
       "    .dataframe tbody tr th:only-of-type {\n",
       "        vertical-align: middle;\n",
       "    }\n",
       "\n",
       "    .dataframe tbody tr th {\n",
       "        vertical-align: top;\n",
       "    }\n",
       "\n",
       "    .dataframe thead th {\n",
       "        text-align: right;\n",
       "    }\n",
       "</style>\n",
       "<table border=\"1\" class=\"dataframe\">\n",
       "  <thead>\n",
       "    <tr style=\"text-align: right;\">\n",
       "      <th></th>\n",
       "      <th>itemId</th>\n",
       "      <th>score</th>\n",
       "      <th>metadata</th>\n",
       "    </tr>\n",
       "  </thead>\n",
       "  <tbody>\n",
       "    <tr>\n",
       "      <th>0</th>\n",
       "      <td>991271693336573226</td>\n",
       "      <td>0.031608</td>\n",
       "      <td>{'training_text': 'PyLadies Teresina recreates viral meme to highlight sexism in IT A viral Facebook post from PyLadies Teresina used a popular meme to bring attention to the lack of women in IT jobs and the challenges they face entering the field. The WhatsApp meme \\\"Luiza, are you attentive?\\\" was recreated by PyLadies Teresina to discuss sexism in IT. The meme shows a conversation between two friends where one explains a situation to the other. PyLadies Teresina reformulated the meme to highlight the lack of women in IT jobs. According to 2015 data, 92.1% of IT professionals are men, even though 74% of girls show interest in STEM in school. The meme aims to show how the IT field can be hostile to women. The Facebook post with the meme went viral. The post encourages women to pursue IT careers despite the maledominated environment.'}</td>\n",
       "    </tr>\n",
       "    <tr>\n",
       "      <th>1</th>\n",
       "      <td>-6728844082024523434</td>\n",
       "      <td>0.019548</td>\n",
       "      <td>{'training_text': 'Article discusses the soft skills that define senior engineers The article argues that technical expertise alone does not make a senior engineer. More important are soft skills like accountability, pragmatism, mentoring, and improving team culture. The article discusses what it means to be a senior engineer. It argues that knowing specific APIs is not what makes someone senior. Rather, senior engineers exhibit strong soft skills like reliability, accountability, flexibility, and pragmatism. They are team players who lead by example, listen to others, mentor junior engineers, and constantly look for ways to improve processes. The article emphasizes that senior engineers focus on delivering business value, not just writing clean code. They have the courage to speak up when they see unhealthy team dynamics. The key traits highlighted include: Being reliable and accountable Embracing change and new technologies Focusing on solving business problems Leading by example and mentoring others Listening to and learning from teammates Avoiding arrogance and leveraging authority Speaking up to improve team culture Driving process improvements The article concludes that technical skills naturally improve with experience, but soft skills require dedicated effort. Investing in soft skills can prevent career bottlenecks.'}</td>\n",
       "    </tr>\n",
       "    <tr>\n",
       "      <th>2</th>\n",
       "      <td>-1415040208471067980</td>\n",
       "      <td>0.016108</td>\n",
       "      <td>{'training_text': 'Google Cloud Platform releases icon library for diagrams Google Cloud Platform published downloadable icons and sample diagrams to help visually represent GCP infrastructure and services. Google Cloud Platform has released downloadable icon sets and sample diagrams to help developers, architects, and partners visually represent complex cloud infrastructure in documents and presentations. The icons cover GCP products, services, and elements that can be combined with other providers' icons to show hybrid/multicloud setups. Over 50 sample diagrams are available in Slide and PowerPoint formats to help kickstart new diagrams. As more products launch, Google will add icons so users should revisit the icon library. This allows accurate, uptodate visual representations of Google Cloud Platform architectures and services.'}</td>\n",
       "    </tr>\n",
       "    <tr>\n",
       "      <th>3</th>\n",
       "      <td>8153556216916362816</td>\n",
       "      <td>0.015172</td>\n",
       "      <td>{'training_text': 'Google announces Cloud Spanner, a globally distributed relational database Google Cloud Spanner combines the benefits of relational databases and NoSQL scalability. It aims to help applications scale without sacrificing data consistency. Google has announced Cloud Spanner, a new globally distributed relational database service. Cloud Spanner combines the benefits of traditional relational databases like ACID transactions and SQL with the scalability of NoSQL databases. This allows developers to build applications that can scale horizontally without sacrificing data consistency. Cloud Spanner is a fully managed service that provides automatic scaling, high availability, and disaster recovery. It has a simple pricing model based on compute usage, storage, and network egress. Cloud Spanner supports standard relational database tools and languages like JDBC drivers and SQL queries. It is ideal for operational workloads like inventory management and financial transactions that are outgrowing traditional databases. Google has been developing the Spanner technology internally since 2007. It powers critical Google services like AdWords and Google Play, handling millions of queries per second. The research behind Spanner was published in 2012. Early adopters like Quizlet and JDA see Cloud Spanner as a compelling solution to scale their relational workloads beyond what sharding can achieve. It provides the performance of NoSQL with the consistency of a relational database.'}</td>\n",
       "    </tr>\n",
       "    <tr>\n",
       "      <th>4</th>\n",
       "      <td>8428597553954921991</td>\n",
       "      <td>0.011308</td>\n",
       "      <td>{'training_text': 'Design thinking, design doing, and design culture form the Design Rule of 3 for innovation Schybergson and Evenson argue organizations need design thinking, design doing by experts, and an open design culture to innovate successfully. Olof Schybergson and Shelley Evenson argue that design thinking alone is not enough for organizations to innovate successfully. They propose the \\\"Design Rule of 3\\\": combining design thinking, design doing, and design culture. Design thinking involves empathy, cocreation, and prototyping. But it must be paired with design doing the actual creation process led by experts. This requires diverse teams and flexible workspaces. Finally, design culture is crucial. This means recruiting change agents, enabling continuous learning, and creating open work environments. With commitment over years, not months, design can become an organization's sustainable differentiator. Google is an example that improved through this approach. The company established a common design language and gave designers more influence. This helped unify Google's offerings into a coherent family of products. Commerzbank is trying to instill design from within instead of acquiring a consultancy. The shift in mindset and culture will take time. An effective design system based on the Design Rule of 3 can boost performance and value. By putting people first, design creates enduring customer relationships and a happier workforce.'}</td>\n",
       "    </tr>\n",
       "  </tbody>\n",
       "</table>\n",
       "</div>"
      ],
      "text/plain": [
       "                 itemId     score                                                                                                                                                                                                                                                                                                                                                                                                                                                                                                                                                                                                                                                                                                                                                                                                                                                                                                                                                                                                                                                                                                                                                                                                                                                                                                                                                                                                                                                                                                                                                              metadata\n",
       "0    991271693336573226  0.031608                                                                                                                                                                                                                                                                                                                                                                                                                                                                                                                                                                                                                                                                                       {'training_text': 'PyLadies Teresina recreates viral meme to highlight sexism in IT A viral Facebook post from PyLadies Teresina used a popular meme to bring attention to the lack of women in IT jobs and the challenges they face entering the field. The WhatsApp meme \\\"Luiza, are you attentive?\\\" was recreated by PyLadies Teresina to discuss sexism in IT. The meme shows a conversation between two friends where one explains a situation to the other. PyLadies Teresina reformulated the meme to highlight the lack of women in IT jobs. According to 2015 data, 92.1% of IT professionals are men, even though 74% of girls show interest in STEM in school. The meme aims to show how the IT field can be hostile to women. The Facebook post with the meme went viral. The post encourages women to pursue IT careers despite the maledominated environment.'}\n",
       "1  -6728844082024523434  0.019548                                                                                                                                                                   {'training_text': 'Article discusses the soft skills that define senior engineers The article argues that technical expertise alone does not make a senior engineer. More important are soft skills like accountability, pragmatism, mentoring, and improving team culture. The article discusses what it means to be a senior engineer. It argues that knowing specific APIs is not what makes someone senior. Rather, senior engineers exhibit strong soft skills like reliability, accountability, flexibility, and pragmatism. They are team players who lead by example, listen to others, mentor junior engineers, and constantly look for ways to improve processes. The article emphasizes that senior engineers focus on delivering business value, not just writing clean code. They have the courage to speak up when they see unhealthy team dynamics. The key traits highlighted include: Being reliable and accountable Embracing change and new technologies Focusing on solving business problems Leading by example and mentoring others Listening to and learning from teammates Avoiding arrogance and leveraging authority Speaking up to improve team culture Driving process improvements The article concludes that technical skills naturally improve with experience, but soft skills require dedicated effort. Investing in soft skills can prevent career bottlenecks.'}\n",
       "2  -1415040208471067980  0.016108                                                                                                                                                                                                                                                                                                                                                                                                                                                                                                                                                                                                                                                                                         {'training_text': 'Google Cloud Platform releases icon library for diagrams Google Cloud Platform published downloadable icons and sample diagrams to help visually represent GCP infrastructure and services. Google Cloud Platform has released downloadable icon sets and sample diagrams to help developers, architects, and partners visually represent complex cloud infrastructure in documents and presentations. The icons cover GCP products, services, and elements that can be combined with other providers' icons to show hybrid/multicloud setups. Over 50 sample diagrams are available in Slide and PowerPoint formats to help kickstart new diagrams. As more products launch, Google will add icons so users should revisit the icon library. This allows accurate, uptodate visual representations of Google Cloud Platform architectures and services.'}\n",
       "3   8153556216916362816  0.015172  {'training_text': 'Google announces Cloud Spanner, a globally distributed relational database Google Cloud Spanner combines the benefits of relational databases and NoSQL scalability. It aims to help applications scale without sacrificing data consistency. Google has announced Cloud Spanner, a new globally distributed relational database service. Cloud Spanner combines the benefits of traditional relational databases like ACID transactions and SQL with the scalability of NoSQL databases. This allows developers to build applications that can scale horizontally without sacrificing data consistency. Cloud Spanner is a fully managed service that provides automatic scaling, high availability, and disaster recovery. It has a simple pricing model based on compute usage, storage, and network egress. Cloud Spanner supports standard relational database tools and languages like JDBC drivers and SQL queries. It is ideal for operational workloads like inventory management and financial transactions that are outgrowing traditional databases. Google has been developing the Spanner technology internally since 2007. It powers critical Google services like AdWords and Google Play, handling millions of queries per second. The research behind Spanner was published in 2012. Early adopters like Quizlet and JDA see Cloud Spanner as a compelling solution to scale their relational workloads beyond what sharding can achieve. It provides the performance of NoSQL with the consistency of a relational database.'}\n",
       "4   8428597553954921991  0.011308                                            {'training_text': 'Design thinking, design doing, and design culture form the Design Rule of 3 for innovation Schybergson and Evenson argue organizations need design thinking, design doing by experts, and an open design culture to innovate successfully. Olof Schybergson and Shelley Evenson argue that design thinking alone is not enough for organizations to innovate successfully. They propose the \\\"Design Rule of 3\\\": combining design thinking, design doing, and design culture. Design thinking involves empathy, cocreation, and prototyping. But it must be paired with design doing the actual creation process led by experts. This requires diverse teams and flexible workspaces. Finally, design culture is crucial. This means recruiting change agents, enabling continuous learning, and creating open work environments. With commitment over years, not months, design can become an organization's sustainable differentiator. Google is an example that improved through this approach. The company established a common design language and gave designers more influence. This helped unify Google's offerings into a coherent family of products. Commerzbank is trying to instill design from within instead of acquiring a consultancy. The shift in mindset and culture will take time. An effective design system based on the Design Rule of 3 can boost performance and value. By putting people first, design creates enduring customer relationships and a happier workforce.'}"
      ]
     },
     "execution_count": 159,
     "metadata": {},
     "output_type": "execute_result"
    }
   ],
   "source": [
    "recommendations_df"
   ]
  },
  {
   "cell_type": "markdown",
   "id": "0350697a-3a05-4250-a1b0-443eec020734",
   "metadata": {},
   "source": [
    "The top recommendations have changed quite a bit - though within the top five will still see a couple related to google technical products. Lets send in some more interactions, usually it is best practice to send in the interactoins as they occur so recommendations with the user can adjust in real time but you can submitted the interactions in batches of up to 10 and we will take advantage of this batching below. We will also say that these interactions are part of our most recent session."
   ]
  },
  {
   "cell_type": "code",
   "execution_count": 160,
   "id": "059b8f22-b087-4189-8df6-2b102ffd7ce4",
   "metadata": {
    "tags": []
   },
   "outputs": [],
   "source": [
    "response = personalize_events.put_events(\n",
    "    trackingId=tracking_id,\n",
    "    userId=sample_user,\n",
    "    sessionId='session1',\n",
    "    eventList=[\n",
    "        {\n",
    "            'eventId': 'madeupevent2',\n",
    "            'eventType': 'VIEW',\n",
    "            'itemId': '-1878128207048892154',\n",
    "            'sentAt': 1714011143,\n",
    "        },\n",
    "        {\n",
    "            'eventId': 'madeupevent3',\n",
    "            'eventType': 'VIEW',\n",
    "            'itemId': '-3058031327323357308',\n",
    "            'sentAt': 1714013143,\n",
    "        },\n",
    "        {\n",
    "            'eventId': 'madeupevent4',\n",
    "            'eventType': 'VIEW',\n",
    "            'itemId': '-4996336942690402156',\n",
    "            'sentAt': 1714015143,\n",
    "        },\n",
    "        {\n",
    "            'eventId': 'madeupevent5',\n",
    "            'eventType': 'VIEW',\n",
    "            'itemId': '90383487344892230',\n",
    "            'sentAt': 1714018143,\n",
    "        },\n",
    "    ]\n",
    ")"
   ]
  },
  {
   "cell_type": "code",
   "execution_count": null,
   "id": "8db89ae0-cfcd-4ad1-a511-cb2545439701",
   "metadata": {},
   "outputs": [],
   "source": [
    "Now lets see how this changes our recommendations"
   ]
  },
  {
   "cell_type": "code",
   "execution_count": 161,
   "id": "37fecb66-892b-4847-ae61-bed07e2fff8e",
   "metadata": {
    "tags": []
   },
   "outputs": [],
   "source": [
    "get_recommendations_response = personalize_runtime.get_recommendations(\n",
    "    campaignArn = workshop_userpersonalization_campaign_arn,\n",
    "    userId = sample_user,\n",
    "    numResults = 5,\n",
    "    filterArn = genre_filter_arn,\n",
    "    filterValues = {\"CUTOFF\": \"\\\"0\\\"\", \"GENRELIST\": \"\\\"tech\\\",\\\"non tech\\\",\\\"cloud provider news\\\",\\\"crypto currency\\\"\"},\n",
    "    metadataColumns = {\"ITEMS\": [\"training_text\"]}\n",
    ")"
   ]
  },
  {
   "cell_type": "code",
   "execution_count": 162,
   "id": "5f5402df-74f0-47c4-8bdb-e6c1c4db1225",
   "metadata": {
    "tags": []
   },
   "outputs": [
    {
     "data": {
      "text/html": [
       "<div>\n",
       "<style scoped>\n",
       "    .dataframe tbody tr th:only-of-type {\n",
       "        vertical-align: middle;\n",
       "    }\n",
       "\n",
       "    .dataframe tbody tr th {\n",
       "        vertical-align: top;\n",
       "    }\n",
       "\n",
       "    .dataframe thead th {\n",
       "        text-align: right;\n",
       "    }\n",
       "</style>\n",
       "<table border=\"1\" class=\"dataframe\">\n",
       "  <thead>\n",
       "    <tr style=\"text-align: right;\">\n",
       "      <th></th>\n",
       "      <th>itemId</th>\n",
       "      <th>score</th>\n",
       "      <th>metadata</th>\n",
       "    </tr>\n",
       "  </thead>\n",
       "  <tbody>\n",
       "    <tr>\n",
       "      <th>0</th>\n",
       "      <td>-3307413259092352650</td>\n",
       "      <td>0.029518</td>\n",
       "      <td>{'training_text': 'Ethereum platform allows decentralized blockchain applications with smart contracts Ethereum offers a decentralized blockchain platform for developers to build applications using smart contracts. It aims to improve on Bitcoin's limitations. Ethereum is a new blockchainbased software platform that allows developers to build decentralized applications. It was created by Vitalik Buterin and publicly released in 2015. Ethereum aims to improve on some of Bitcoin's limitations by offering more flexibility and allowing developers to create any kind of application on top of its blockchain. One key feature of Ethereum is its smart contract functionality, which allows agreements to be automatically executed when certain conditions are met. This enables complex applications to be built on top of Ethereum. The system is decentralized and run on a network of computers called nodes. Ethereum has generated significant interest from major banks and companies looking to utilize blockchain technology. However, it could face regulatory and technical challenges similar to those encountered by Bitcoin. While Bitcoin's creator remains anonymous, Ethereum was created in a more transparent manner by Buterin. Ethereum also has a dedicated team of developers building applications on the platform.'}</td>\n",
       "    </tr>\n",
       "    <tr>\n",
       "      <th>1</th>\n",
       "      <td>2555983212310147009</td>\n",
       "      <td>0.023702</td>\n",
       "      <td>{'training_text': 'Ethereum provides decentralized platform for blockchain apps and smart contracts The Ethereum blockchain system aims to enable decentralized applications and smart contracts. It has gained interest from major financial institutions for improving trading and transfers. Ethereum is a new blockchainbased software system that was recently publicly released. Ethereum aims to provide a decentralized platform for applications and smart contracts that use its native cryptocurrency, ether. The Ethereum system has garnered interest from major banks and financial institutions who are interested in using blockchain technology to improve efficiency and speed of trading and money transfers. Michael Novogratz, a former executive at Fortress Investment Group, has been investigating Ethereum since last fall. Unlike Bitcoin which was created anonymously, Ethereum was created in a more transparent manner by Vitalik Buterin, a 21yearold RussianCanadian programmer. The Ethereum network is run in a decentralized fashion by its users, and also has a dedicated team of developers building applications on the platform. According to cryptography expert Joseph Bonneau, Ethereum is the first blockchain system since Bitcoin to pique his interest. However, Ethereum could face some of the same technical challenges and legal issues regarding regulation that have affected Bitcoin.'}</td>\n",
       "    </tr>\n",
       "    <tr>\n",
       "      <th>2</th>\n",
       "      <td>1649752043999819668</td>\n",
       "      <td>0.022001</td>\n",
       "      <td>{'training_text': 'Node.js benefits and challenges for operations teams Node.js enables faster development but its singlethreaded, asynchronous nature causes issues like memory leaks and CPU blocking that require monitoring and diagnostics. Node.js is a fast growing platform used by many startups and enterprises. It acts as a new tier that connects legacy systems with new technologies. The benefits of Node.js include enabling faster development and deployment. However, its speed introduces challenges for operations and performance teams who focus on availability and performance. Some common Node.js problems these teams face include: 1. Memory leaks Node.js is prone to memory leaks which cause crashes. Heap dumps can help track down the cause. 2. CPU problems Node.js runs singlethreaded so CPUheavy operations can block requests. CPU sampling can identify where time is being spent. 3. Back pressure Slow backends can cause congestion in Node.js. Monitoring intertier communication can identify the root cause. 4. Security Node.js relies heavily on third party modules which can contain vulnerabilities. Scanning for issues and using a private module repository can help. Node.js provides hooks for monitoring and debugging to help diagnose issues. The community is also actively improving tracing and debugging capabilities. With proper monitoring and diagnostics, operations teams can smoothly transition to using Node.js.'}</td>\n",
       "    </tr>\n",
       "    <tr>\n",
       "      <th>3</th>\n",
       "      <td>-4333957157636611418</td>\n",
       "      <td>0.018609</td>\n",
       "      <td>{'training_text': 'Computer vision system inspects cookies for defects An educational project uses OpenCV and Raspberry Pi to analyze cookie images and detect defects in real time. The full code is available on GitHub. Studies show that developers do their best work in quiet, private spaces with minimal interruptions. The book Peopleware found that the top performing developers worked in spaces that were quieter and more private compared to lower performers. IBM and Gerald McCue also found that developers need at least 100 square feet of personal space and noise protection like offices to work optimally. When considering job offers, developers often choose companies that provide private offices because it shows they value developers' needs. Even if companies can't provide private offices, they can still attract developers by calculating the benefits like increased productivity and lower turnover versus the costs. The benefits often outweigh the costs of improving workspaces. Peopleware says workspace costs are a small percentage of a developer's salary, often only 616%. Some companies have cut costs elsewhere to provide developers private offices, giving them an edge in hiring. Though challenging, it's possible for many companies to provide private developer offices with proper analysis and prioritization.'}</td>\n",
       "    </tr>\n",
       "    <tr>\n",
       "      <th>4</th>\n",
       "      <td>7507067965574797372</td>\n",
       "      <td>0.016439</td>\n",
       "      <td>{'training_text': 'Spaces versus tabs the great indentation debate Analysis of over 1 billion GitHub files shows spaces are more popular than tabs for indentation in most major programming languages. The debate over whether to use tabs or spaces for indentation in source code has been raging in the programming community for a long time. Programmers even refer to each other as \\\"tab people\\\" or \\\"space people\\\" based on their preference. To try to settle this debate, Google engineer Felipe Hoffa analyzed over 1 billion files across 14 programming languages on GitHub. He counted votes for tabs or spaces based on which was used most often in each file. He also ranked the top 400,000 repositories by stars. The clear winner across all major languages was spaces, except for in C programs. This provides strong evidence that spaces are more popular for indentation in source code overall. Proponents argue spaces display the same across devices while tabs are more efficient. But the spaces versus tabs debate is likely to continue despite the data.'}</td>\n",
       "    </tr>\n",
       "  </tbody>\n",
       "</table>\n",
       "</div>"
      ],
      "text/plain": [
       "                 itemId     score                                                                                                                                                                                                                                                                                                                                                                                                                                                                                                                                                                                                                                                                                                                                                                                                                                                                                                                                                                                                                                                                                                                                                                                                                                                                                                                                                                                                                                                                                      metadata\n",
       "0  -3307413259092352650  0.029518                                                                                                                              {'training_text': 'Ethereum platform allows decentralized blockchain applications with smart contracts Ethereum offers a decentralized blockchain platform for developers to build applications using smart contracts. It aims to improve on Bitcoin's limitations. Ethereum is a new blockchainbased software platform that allows developers to build decentralized applications. It was created by Vitalik Buterin and publicly released in 2015. Ethereum aims to improve on some of Bitcoin's limitations by offering more flexibility and allowing developers to create any kind of application on top of its blockchain. One key feature of Ethereum is its smart contract functionality, which allows agreements to be automatically executed when certain conditions are met. This enables complex applications to be built on top of Ethereum. The system is decentralized and run on a network of computers called nodes. Ethereum has generated significant interest from major banks and companies looking to utilize blockchain technology. However, it could face regulatory and technical challenges similar to those encountered by Bitcoin. While Bitcoin's creator remains anonymous, Ethereum was created in a more transparent manner by Buterin. Ethereum also has a dedicated team of developers building applications on the platform.'}\n",
       "1   2555983212310147009  0.023702                                                {'training_text': 'Ethereum provides decentralized platform for blockchain apps and smart contracts The Ethereum blockchain system aims to enable decentralized applications and smart contracts. It has gained interest from major financial institutions for improving trading and transfers. Ethereum is a new blockchainbased software system that was recently publicly released. Ethereum aims to provide a decentralized platform for applications and smart contracts that use its native cryptocurrency, ether. The Ethereum system has garnered interest from major banks and financial institutions who are interested in using blockchain technology to improve efficiency and speed of trading and money transfers. Michael Novogratz, a former executive at Fortress Investment Group, has been investigating Ethereum since last fall. Unlike Bitcoin which was created anonymously, Ethereum was created in a more transparent manner by Vitalik Buterin, a 21yearold RussianCanadian programmer. The Ethereum network is run in a decentralized fashion by its users, and also has a dedicated team of developers building applications on the platform. According to cryptography expert Joseph Bonneau, Ethereum is the first blockchain system since Bitcoin to pique his interest. However, Ethereum could face some of the same technical challenges and legal issues regarding regulation that have affected Bitcoin.'}\n",
       "2   1649752043999819668  0.022001  {'training_text': 'Node.js benefits and challenges for operations teams Node.js enables faster development but its singlethreaded, asynchronous nature causes issues like memory leaks and CPU blocking that require monitoring and diagnostics. Node.js is a fast growing platform used by many startups and enterprises. It acts as a new tier that connects legacy systems with new technologies. The benefits of Node.js include enabling faster development and deployment. However, its speed introduces challenges for operations and performance teams who focus on availability and performance. Some common Node.js problems these teams face include: 1. Memory leaks Node.js is prone to memory leaks which cause crashes. Heap dumps can help track down the cause. 2. CPU problems Node.js runs singlethreaded so CPUheavy operations can block requests. CPU sampling can identify where time is being spent. 3. Back pressure Slow backends can cause congestion in Node.js. Monitoring intertier communication can identify the root cause. 4. Security Node.js relies heavily on third party modules which can contain vulnerabilities. Scanning for issues and using a private module repository can help. Node.js provides hooks for monitoring and debugging to help diagnose issues. The community is also actively improving tracing and debugging capabilities. With proper monitoring and diagnostics, operations teams can smoothly transition to using Node.js.'}\n",
       "3  -4333957157636611418  0.018609                                                                                                             {'training_text': 'Computer vision system inspects cookies for defects An educational project uses OpenCV and Raspberry Pi to analyze cookie images and detect defects in real time. The full code is available on GitHub. Studies show that developers do their best work in quiet, private spaces with minimal interruptions. The book Peopleware found that the top performing developers worked in spaces that were quieter and more private compared to lower performers. IBM and Gerald McCue also found that developers need at least 100 square feet of personal space and noise protection like offices to work optimally. When considering job offers, developers often choose companies that provide private offices because it shows they value developers' needs. Even if companies can't provide private offices, they can still attract developers by calculating the benefits like increased productivity and lower turnover versus the costs. The benefits often outweigh the costs of improving workspaces. Peopleware says workspace costs are a small percentage of a developer's salary, often only 616%. Some companies have cut costs elsewhere to provide developers private offices, giving them an edge in hiring. Though challenging, it's possible for many companies to provide private developer offices with proper analysis and prioritization.'}\n",
       "4   7507067965574797372  0.016439                                                                                                                                                                                                                                                                                                                                                                                               {'training_text': 'Spaces versus tabs the great indentation debate Analysis of over 1 billion GitHub files shows spaces are more popular than tabs for indentation in most major programming languages. The debate over whether to use tabs or spaces for indentation in source code has been raging in the programming community for a long time. Programmers even refer to each other as \\\"tab people\\\" or \\\"space people\\\" based on their preference. To try to settle this debate, Google engineer Felipe Hoffa analyzed over 1 billion files across 14 programming languages on GitHub. He counted votes for tabs or spaces based on which was used most often in each file. He also ranked the top 400,000 repositories by stars. The clear winner across all major languages was spaces, except for in C programs. This provides strong evidence that spaces are more popular for indentation in source code overall. Proponents argue spaces display the same across devices while tabs are more efficient. But the spaces versus tabs debate is likely to continue despite the data.'}"
      ]
     },
     "execution_count": 162,
     "metadata": {},
     "output_type": "execute_result"
    }
   ],
   "source": [
    "recommendations_df = pd.DataFrame.from_records(get_recommendations_response['itemList'])\n",
    "recommendations_df"
   ]
  },
  {
   "cell_type": "markdown",
   "id": "500f88ac-2f09-404d-9a8b-513288f42e18",
   "metadata": {},
   "source": [
    "There we go - now the all of the recommendations are different. The last thing we will go over is how to use a promotional filter. It is highly recommended to use a promotional filter on the publication date of an article to ensure that a certain percentage (perhaps even 100) of articles published are recent ones. Common filter periods include 2 weeks, 3 days, 1 day or even 12 hours depending on the particular asset we are looking to populate with articles."
   ]
  },
  {
   "cell_type": "code",
   "execution_count": 174,
   "id": "f5a308ff-8551-4507-b1e7-1f77edfb4e79",
   "metadata": {
    "tags": []
   },
   "outputs": [],
   "source": [
    "get_recommendations_response = personalize_runtime.get_recommendations(\n",
    "    promotions=[\n",
    "        {\n",
    "            'name': 'timefilter',\n",
    "            'percentPromotedItems': 60,\n",
    "            'filterArn': genre_filter_arn,\n",
    "            'filterValues': {\"CUTOFF\": \"\\\"1480000000\\\"\", \"GENRELIST\": \"\\\"tech\\\",\\\"non tech\\\",\\\"cloud provider news\\\",\\\"crypto currency\\\"\"}\n",
    "        },\n",
    "    ],\n",
    "    campaignArn = workshop_userpersonalization_campaign_arn,\n",
    "    userId = sample_user,\n",
    "    numResults = 5,\n",
    "    filterArn = genre_filter_arn,\n",
    "    filterValues = {\"CUTOFF\": \"\\\"0\\\"\", \"GENRELIST\": \"\\\"tech\\\",\\\"non tech\\\",\\\"cloud provider news\\\",\\\"crypto currency\\\"\"},\n",
    "    metadataColumns = {\"ITEMS\": [\"training_text\"]}\n",
    ")"
   ]
  },
  {
   "cell_type": "code",
   "execution_count": 175,
   "id": "2d2dd833-2d33-4905-9624-0cbb8c59b735",
   "metadata": {
    "tags": []
   },
   "outputs": [
    {
     "data": {
      "text/html": [
       "<div>\n",
       "<style scoped>\n",
       "    .dataframe tbody tr th:only-of-type {\n",
       "        vertical-align: middle;\n",
       "    }\n",
       "\n",
       "    .dataframe tbody tr th {\n",
       "        vertical-align: top;\n",
       "    }\n",
       "\n",
       "    .dataframe thead th {\n",
       "        text-align: right;\n",
       "    }\n",
       "</style>\n",
       "<table border=\"1\" class=\"dataframe\">\n",
       "  <thead>\n",
       "    <tr style=\"text-align: right;\">\n",
       "      <th></th>\n",
       "      <th>itemId</th>\n",
       "      <th>score</th>\n",
       "      <th>promotionName</th>\n",
       "      <th>metadata</th>\n",
       "    </tr>\n",
       "  </thead>\n",
       "  <tbody>\n",
       "    <tr>\n",
       "      <th>0</th>\n",
       "      <td>1873952032843878490</td>\n",
       "      <td>0.049597</td>\n",
       "      <td>timefilter</td>\n",
       "      <td>{'training_text': 'Software teams adopt technologies based on hype instead of research, hurting projects The author argues teams should carefully evaluate new technologies instead of blindly adopting hypedriven ones that often don't fit their needs. Software development teams often adopt new technologies based on hype and trends rather than research, leading to poor architectural decisions. The author calls this \\\"Hype Driven Development\\\" (HDD) and sees it as harmful, advocating instead for \\\"Solid Software Engineering\\\". HDD has many forms: adopting a technology because of social media buzz, conferences, vocal team members, or copypasting Stack Overflow solutions without understanding. This results in bad decisions that hurt projects months or years later, sometimes requiring big rewrites. The hype cycle: A company solves a real problem with a new framework, talks about it, blurring complex details. Teams adopt it expecting benefits but get slowed down instead. Finally they realize the tradeoffs. Examples: React.js good for complex UIs but overused. \\\"TDD is dead\\\" skipped tests create bugs. Microservices premature modularization hurts development. NoSQL poor fit and harder queries. Elixir/Phoenix learning curve slows teams. The author argues hype leads to hasty, poorly informed choices. New ideas spread quickly via social media, faster than their pros and cons are understood. Teams should carefully evaluate new technologies for their specific needs rather than assume they are a silver bullet.'}</td>\n",
       "    </tr>\n",
       "    <tr>\n",
       "      <th>1</th>\n",
       "      <td>7065704533945771463</td>\n",
       "      <td>0.034244</td>\n",
       "      <td>timefilter</td>\n",
       "      <td>{'training_text': 'Brazil's Central Bank may force Nubank to close down A new Central Bank rule in Brazil reducing credit card payment timelines could bankrupt fintech company Nubank, which lacks the capital reserves of large banks. Nubank, a major fintech company in Brazil, may have to close down if the Central Bank confirms a new rule on Tuesday, December 20 that would reduce the payment deadline from credit card companies to merchants from 30 days to just 2 days. This change would negatively impact all credit card companies, but especially smaller ones like Nubank that don't have the capital reserves of large banks. Nubank cofounder Cristina Junqueira criticized the idea, saying the current 30 day period allows time for the customer to pay their credit card bill, the issuer to receive the funds, and the purchaser to pay the retailer. She says reducing to 2 days would force Nubank to pay purchasers before even receiving customer payments. Simulations show that even 15 days would require Nubank to raise almost $1 billion in capital immediately to survive. Junqueira describes the potential change as \\\"apocalyptic\\\" and says with just 2 days, Nubank would have to \\\"turn off the light and close the door.\\\".'}</td>\n",
       "    </tr>\n",
       "    <tr>\n",
       "      <th>2</th>\n",
       "      <td>6244532954645766056</td>\n",
       "      <td>0.031179</td>\n",
       "      <td>timefilter</td>\n",
       "      <td>{'training_text': 'MIT Digital Currency Initiative explores blockchain applications MIT's Digital Currency Initiative is researching how blockchain could reshape the internet, improve privacy, and enable central bank digital currencies. The Massachusetts Institute of Technology (MIT) launched its Digital Currency Initiative (DCI) in 2015 to research blockchain technology. The initiative is led by former White House advisor Neha Narula and has 22 team members working on over 7 projects. DCI is researching how blockchain could reshape the internet and reduce 'echo chambers' where people only see news from limited sources. They are exploring IPFS and Blockstack which aim to decentralize control of information. However, Narula believes underlying economic incentives of megaplatforms like Facebook and Google are the core issue. Another focus is improving privacy and confidentiality in blockchains while retaining auditability. The 'Auditable Ledger' project explores this for banking ledgers, allowing auditors to verify systemlevel details while preserving user privacy. DCI is also building a prototype central bank cryptocurrency with former Bank of England researcher Robleh Ali. This explores how privacy and auditability could be balanced in a central bank context. Overall DCI is researching a wide range of blockchain applications from reshaping the internet to central bank currencies, while tackling technical challenges like privacy and auditability.'}</td>\n",
       "    </tr>\n",
       "    <tr>\n",
       "      <th>3</th>\n",
       "      <td>-3307413259092352650</td>\n",
       "      <td>0.029677</td>\n",
       "      <td>NaN</td>\n",
       "      <td>{'training_text': 'Ethereum platform allows decentralized blockchain applications with smart contracts Ethereum offers a decentralized blockchain platform for developers to build applications using smart contracts. It aims to improve on Bitcoin's limitations. Ethereum is a new blockchainbased software platform that allows developers to build decentralized applications. It was created by Vitalik Buterin and publicly released in 2015. Ethereum aims to improve on some of Bitcoin's limitations by offering more flexibility and allowing developers to create any kind of application on top of its blockchain. One key feature of Ethereum is its smart contract functionality, which allows agreements to be automatically executed when certain conditions are met. This enables complex applications to be built on top of Ethereum. The system is decentralized and run on a network of computers called nodes. Ethereum has generated significant interest from major banks and companies looking to utilize blockchain technology. However, it could face regulatory and technical challenges similar to those encountered by Bitcoin. While Bitcoin's creator remains anonymous, Ethereum was created in a more transparent manner by Buterin. Ethereum also has a dedicated team of developers building applications on the platform.'}</td>\n",
       "    </tr>\n",
       "    <tr>\n",
       "      <th>4</th>\n",
       "      <td>2555983212310147009</td>\n",
       "      <td>0.023723</td>\n",
       "      <td>NaN</td>\n",
       "      <td>{'training_text': 'Ethereum provides decentralized platform for blockchain apps and smart contracts The Ethereum blockchain system aims to enable decentralized applications and smart contracts. It has gained interest from major financial institutions for improving trading and transfers. Ethereum is a new blockchainbased software system that was recently publicly released. Ethereum aims to provide a decentralized platform for applications and smart contracts that use its native cryptocurrency, ether. The Ethereum system has garnered interest from major banks and financial institutions who are interested in using blockchain technology to improve efficiency and speed of trading and money transfers. Michael Novogratz, a former executive at Fortress Investment Group, has been investigating Ethereum since last fall. Unlike Bitcoin which was created anonymously, Ethereum was created in a more transparent manner by Vitalik Buterin, a 21yearold RussianCanadian programmer. The Ethereum network is run in a decentralized fashion by its users, and also has a dedicated team of developers building applications on the platform. According to cryptography expert Joseph Bonneau, Ethereum is the first blockchain system since Bitcoin to pique his interest. However, Ethereum could face some of the same technical challenges and legal issues regarding regulation that have affected Bitcoin.'}</td>\n",
       "    </tr>\n",
       "  </tbody>\n",
       "</table>\n",
       "</div>"
      ],
      "text/plain": [
       "                 itemId     score promotionName                                                                                                                                                                                                                                                                                                                                                                                                                                                                                                                                                                                                                                                                                                                                                                                                                                                                                                                                                                                                                                                                                                                                                                                                                                                                                                                                                                                                                                                                                                                                                                            metadata\n",
       "0   1873952032843878490  0.049597    timefilter  {'training_text': 'Software teams adopt technologies based on hype instead of research, hurting projects The author argues teams should carefully evaluate new technologies instead of blindly adopting hypedriven ones that often don't fit their needs. Software development teams often adopt new technologies based on hype and trends rather than research, leading to poor architectural decisions. The author calls this \\\"Hype Driven Development\\\" (HDD) and sees it as harmful, advocating instead for \\\"Solid Software Engineering\\\". HDD has many forms: adopting a technology because of social media buzz, conferences, vocal team members, or copypasting Stack Overflow solutions without understanding. This results in bad decisions that hurt projects months or years later, sometimes requiring big rewrites. The hype cycle: A company solves a real problem with a new framework, talks about it, blurring complex details. Teams adopt it expecting benefits but get slowed down instead. Finally they realize the tradeoffs. Examples: React.js good for complex UIs but overused. \\\"TDD is dead\\\" skipped tests create bugs. Microservices premature modularization hurts development. NoSQL poor fit and harder queries. Elixir/Phoenix learning curve slows teams. The author argues hype leads to hasty, poorly informed choices. New ideas spread quickly via social media, faster than their pros and cons are understood. Teams should carefully evaluate new technologies for their specific needs rather than assume they are a silver bullet.'}\n",
       "1   7065704533945771463  0.034244    timefilter                                                                                                                                                                                                                                                                                                          {'training_text': 'Brazil's Central Bank may force Nubank to close down A new Central Bank rule in Brazil reducing credit card payment timelines could bankrupt fintech company Nubank, which lacks the capital reserves of large banks. Nubank, a major fintech company in Brazil, may have to close down if the Central Bank confirms a new rule on Tuesday, December 20 that would reduce the payment deadline from credit card companies to merchants from 30 days to just 2 days. This change would negatively impact all credit card companies, but especially smaller ones like Nubank that don't have the capital reserves of large banks. Nubank cofounder Cristina Junqueira criticized the idea, saying the current 30 day period allows time for the customer to pay their credit card bill, the issuer to receive the funds, and the purchaser to pay the retailer. She says reducing to 2 days would force Nubank to pay purchasers before even receiving customer payments. Simulations show that even 15 days would require Nubank to raise almost $1 billion in capital immediately to survive. Junqueira describes the potential change as \\\"apocalyptic\\\" and says with just 2 days, Nubank would have to \\\"turn off the light and close the door.\\\".'}\n",
       "2   6244532954645766056  0.031179    timefilter                                                     {'training_text': 'MIT Digital Currency Initiative explores blockchain applications MIT's Digital Currency Initiative is researching how blockchain could reshape the internet, improve privacy, and enable central bank digital currencies. The Massachusetts Institute of Technology (MIT) launched its Digital Currency Initiative (DCI) in 2015 to research blockchain technology. The initiative is led by former White House advisor Neha Narula and has 22 team members working on over 7 projects. DCI is researching how blockchain could reshape the internet and reduce 'echo chambers' where people only see news from limited sources. They are exploring IPFS and Blockstack which aim to decentralize control of information. However, Narula believes underlying economic incentives of megaplatforms like Facebook and Google are the core issue. Another focus is improving privacy and confidentiality in blockchains while retaining auditability. The 'Auditable Ledger' project explores this for banking ledgers, allowing auditors to verify systemlevel details while preserving user privacy. DCI is also building a prototype central bank cryptocurrency with former Bank of England researcher Robleh Ali. This explores how privacy and auditability could be balanced in a central bank context. Overall DCI is researching a wide range of blockchain applications from reshaping the internet to central bank currencies, while tackling technical challenges like privacy and auditability.'}\n",
       "3  -3307413259092352650  0.029677           NaN                                                                                                                                                                                                                    {'training_text': 'Ethereum platform allows decentralized blockchain applications with smart contracts Ethereum offers a decentralized blockchain platform for developers to build applications using smart contracts. It aims to improve on Bitcoin's limitations. Ethereum is a new blockchainbased software platform that allows developers to build decentralized applications. It was created by Vitalik Buterin and publicly released in 2015. Ethereum aims to improve on some of Bitcoin's limitations by offering more flexibility and allowing developers to create any kind of application on top of its blockchain. One key feature of Ethereum is its smart contract functionality, which allows agreements to be automatically executed when certain conditions are met. This enables complex applications to be built on top of Ethereum. The system is decentralized and run on a network of computers called nodes. Ethereum has generated significant interest from major banks and companies looking to utilize blockchain technology. However, it could face regulatory and technical challenges similar to those encountered by Bitcoin. While Bitcoin's creator remains anonymous, Ethereum was created in a more transparent manner by Buterin. Ethereum also has a dedicated team of developers building applications on the platform.'}\n",
       "4   2555983212310147009  0.023723           NaN                                                                                                                                      {'training_text': 'Ethereum provides decentralized platform for blockchain apps and smart contracts The Ethereum blockchain system aims to enable decentralized applications and smart contracts. It has gained interest from major financial institutions for improving trading and transfers. Ethereum is a new blockchainbased software system that was recently publicly released. Ethereum aims to provide a decentralized platform for applications and smart contracts that use its native cryptocurrency, ether. The Ethereum system has garnered interest from major banks and financial institutions who are interested in using blockchain technology to improve efficiency and speed of trading and money transfers. Michael Novogratz, a former executive at Fortress Investment Group, has been investigating Ethereum since last fall. Unlike Bitcoin which was created anonymously, Ethereum was created in a more transparent manner by Vitalik Buterin, a 21yearold RussianCanadian programmer. The Ethereum network is run in a decentralized fashion by its users, and also has a dedicated team of developers building applications on the platform. According to cryptography expert Joseph Bonneau, Ethereum is the first blockchain system since Bitcoin to pique his interest. However, Ethereum could face some of the same technical challenges and legal issues regarding regulation that have affected Bitcoin.'}"
      ]
     },
     "execution_count": 175,
     "metadata": {},
     "output_type": "execute_result"
    }
   ],
   "source": [
    "recommendations_df = pd.DataFrame.from_records(get_recommendations_response['itemList'])\n",
    "recommendations_df"
   ]
  },
  {
   "cell_type": "markdown",
   "id": "ab928799-2574-4707-87fb-9e44e8442e55",
   "metadata": {},
   "source": [
    "## Wrap up <a class=\"anchor\" id=\"wrapup\"></a>\n",
    "[Back to top](#top)\n",
    "\n",
    "With that you now have a fully working collection of models to tackle various recommendation and personalization scenarios, as well as the skills to manipulate customer data to better integrate with the service, and a knowledge of how to do all this over APIs and by leveraging open source data science tools.\n",
    "\n",
    "You'll want to make sure that you clean up all of the resources deployed during this POC. We have provided a separate notebook which shows you how to identify and delete the resources in [`Retail_04_Clean_Up.ipynb`](Retail_04_Clean_Up.ipynb)."
   ]
  },
  {
   "cell_type": "code",
   "execution_count": null,
   "id": "93b991e9-004e-4991-95af-d5970e03d50b",
   "metadata": {},
   "outputs": [],
   "source": []
  }
 ],
 "metadata": {
  "availableInstances": [
   {
    "_defaultOrder": 0,
    "_isFastLaunch": true,
    "category": "General purpose",
    "gpuNum": 0,
    "hideHardwareSpecs": false,
    "memoryGiB": 4,
    "name": "ml.t3.medium",
    "vcpuNum": 2
   },
   {
    "_defaultOrder": 1,
    "_isFastLaunch": false,
    "category": "General purpose",
    "gpuNum": 0,
    "hideHardwareSpecs": false,
    "memoryGiB": 8,
    "name": "ml.t3.large",
    "vcpuNum": 2
   },
   {
    "_defaultOrder": 2,
    "_isFastLaunch": false,
    "category": "General purpose",
    "gpuNum": 0,
    "hideHardwareSpecs": false,
    "memoryGiB": 16,
    "name": "ml.t3.xlarge",
    "vcpuNum": 4
   },
   {
    "_defaultOrder": 3,
    "_isFastLaunch": false,
    "category": "General purpose",
    "gpuNum": 0,
    "hideHardwareSpecs": false,
    "memoryGiB": 32,
    "name": "ml.t3.2xlarge",
    "vcpuNum": 8
   },
   {
    "_defaultOrder": 4,
    "_isFastLaunch": true,
    "category": "General purpose",
    "gpuNum": 0,
    "hideHardwareSpecs": false,
    "memoryGiB": 8,
    "name": "ml.m5.large",
    "vcpuNum": 2
   },
   {
    "_defaultOrder": 5,
    "_isFastLaunch": false,
    "category": "General purpose",
    "gpuNum": 0,
    "hideHardwareSpecs": false,
    "memoryGiB": 16,
    "name": "ml.m5.xlarge",
    "vcpuNum": 4
   },
   {
    "_defaultOrder": 6,
    "_isFastLaunch": false,
    "category": "General purpose",
    "gpuNum": 0,
    "hideHardwareSpecs": false,
    "memoryGiB": 32,
    "name": "ml.m5.2xlarge",
    "vcpuNum": 8
   },
   {
    "_defaultOrder": 7,
    "_isFastLaunch": false,
    "category": "General purpose",
    "gpuNum": 0,
    "hideHardwareSpecs": false,
    "memoryGiB": 64,
    "name": "ml.m5.4xlarge",
    "vcpuNum": 16
   },
   {
    "_defaultOrder": 8,
    "_isFastLaunch": false,
    "category": "General purpose",
    "gpuNum": 0,
    "hideHardwareSpecs": false,
    "memoryGiB": 128,
    "name": "ml.m5.8xlarge",
    "vcpuNum": 32
   },
   {
    "_defaultOrder": 9,
    "_isFastLaunch": false,
    "category": "General purpose",
    "gpuNum": 0,
    "hideHardwareSpecs": false,
    "memoryGiB": 192,
    "name": "ml.m5.12xlarge",
    "vcpuNum": 48
   },
   {
    "_defaultOrder": 10,
    "_isFastLaunch": false,
    "category": "General purpose",
    "gpuNum": 0,
    "hideHardwareSpecs": false,
    "memoryGiB": 256,
    "name": "ml.m5.16xlarge",
    "vcpuNum": 64
   },
   {
    "_defaultOrder": 11,
    "_isFastLaunch": false,
    "category": "General purpose",
    "gpuNum": 0,
    "hideHardwareSpecs": false,
    "memoryGiB": 384,
    "name": "ml.m5.24xlarge",
    "vcpuNum": 96
   },
   {
    "_defaultOrder": 12,
    "_isFastLaunch": false,
    "category": "General purpose",
    "gpuNum": 0,
    "hideHardwareSpecs": false,
    "memoryGiB": 8,
    "name": "ml.m5d.large",
    "vcpuNum": 2
   },
   {
    "_defaultOrder": 13,
    "_isFastLaunch": false,
    "category": "General purpose",
    "gpuNum": 0,
    "hideHardwareSpecs": false,
    "memoryGiB": 16,
    "name": "ml.m5d.xlarge",
    "vcpuNum": 4
   },
   {
    "_defaultOrder": 14,
    "_isFastLaunch": false,
    "category": "General purpose",
    "gpuNum": 0,
    "hideHardwareSpecs": false,
    "memoryGiB": 32,
    "name": "ml.m5d.2xlarge",
    "vcpuNum": 8
   },
   {
    "_defaultOrder": 15,
    "_isFastLaunch": false,
    "category": "General purpose",
    "gpuNum": 0,
    "hideHardwareSpecs": false,
    "memoryGiB": 64,
    "name": "ml.m5d.4xlarge",
    "vcpuNum": 16
   },
   {
    "_defaultOrder": 16,
    "_isFastLaunch": false,
    "category": "General purpose",
    "gpuNum": 0,
    "hideHardwareSpecs": false,
    "memoryGiB": 128,
    "name": "ml.m5d.8xlarge",
    "vcpuNum": 32
   },
   {
    "_defaultOrder": 17,
    "_isFastLaunch": false,
    "category": "General purpose",
    "gpuNum": 0,
    "hideHardwareSpecs": false,
    "memoryGiB": 192,
    "name": "ml.m5d.12xlarge",
    "vcpuNum": 48
   },
   {
    "_defaultOrder": 18,
    "_isFastLaunch": false,
    "category": "General purpose",
    "gpuNum": 0,
    "hideHardwareSpecs": false,
    "memoryGiB": 256,
    "name": "ml.m5d.16xlarge",
    "vcpuNum": 64
   },
   {
    "_defaultOrder": 19,
    "_isFastLaunch": false,
    "category": "General purpose",
    "gpuNum": 0,
    "hideHardwareSpecs": false,
    "memoryGiB": 384,
    "name": "ml.m5d.24xlarge",
    "vcpuNum": 96
   },
   {
    "_defaultOrder": 20,
    "_isFastLaunch": false,
    "category": "General purpose",
    "gpuNum": 0,
    "hideHardwareSpecs": true,
    "memoryGiB": 0,
    "name": "ml.geospatial.interactive",
    "supportedImageNames": [
     "sagemaker-geospatial-v1-0"
    ],
    "vcpuNum": 0
   },
   {
    "_defaultOrder": 21,
    "_isFastLaunch": true,
    "category": "Compute optimized",
    "gpuNum": 0,
    "hideHardwareSpecs": false,
    "memoryGiB": 4,
    "name": "ml.c5.large",
    "vcpuNum": 2
   },
   {
    "_defaultOrder": 22,
    "_isFastLaunch": false,
    "category": "Compute optimized",
    "gpuNum": 0,
    "hideHardwareSpecs": false,
    "memoryGiB": 8,
    "name": "ml.c5.xlarge",
    "vcpuNum": 4
   },
   {
    "_defaultOrder": 23,
    "_isFastLaunch": false,
    "category": "Compute optimized",
    "gpuNum": 0,
    "hideHardwareSpecs": false,
    "memoryGiB": 16,
    "name": "ml.c5.2xlarge",
    "vcpuNum": 8
   },
   {
    "_defaultOrder": 24,
    "_isFastLaunch": false,
    "category": "Compute optimized",
    "gpuNum": 0,
    "hideHardwareSpecs": false,
    "memoryGiB": 32,
    "name": "ml.c5.4xlarge",
    "vcpuNum": 16
   },
   {
    "_defaultOrder": 25,
    "_isFastLaunch": false,
    "category": "Compute optimized",
    "gpuNum": 0,
    "hideHardwareSpecs": false,
    "memoryGiB": 72,
    "name": "ml.c5.9xlarge",
    "vcpuNum": 36
   },
   {
    "_defaultOrder": 26,
    "_isFastLaunch": false,
    "category": "Compute optimized",
    "gpuNum": 0,
    "hideHardwareSpecs": false,
    "memoryGiB": 96,
    "name": "ml.c5.12xlarge",
    "vcpuNum": 48
   },
   {
    "_defaultOrder": 27,
    "_isFastLaunch": false,
    "category": "Compute optimized",
    "gpuNum": 0,
    "hideHardwareSpecs": false,
    "memoryGiB": 144,
    "name": "ml.c5.18xlarge",
    "vcpuNum": 72
   },
   {
    "_defaultOrder": 28,
    "_isFastLaunch": false,
    "category": "Compute optimized",
    "gpuNum": 0,
    "hideHardwareSpecs": false,
    "memoryGiB": 192,
    "name": "ml.c5.24xlarge",
    "vcpuNum": 96
   },
   {
    "_defaultOrder": 29,
    "_isFastLaunch": true,
    "category": "Accelerated computing",
    "gpuNum": 1,
    "hideHardwareSpecs": false,
    "memoryGiB": 16,
    "name": "ml.g4dn.xlarge",
    "vcpuNum": 4
   },
   {
    "_defaultOrder": 30,
    "_isFastLaunch": false,
    "category": "Accelerated computing",
    "gpuNum": 1,
    "hideHardwareSpecs": false,
    "memoryGiB": 32,
    "name": "ml.g4dn.2xlarge",
    "vcpuNum": 8
   },
   {
    "_defaultOrder": 31,
    "_isFastLaunch": false,
    "category": "Accelerated computing",
    "gpuNum": 1,
    "hideHardwareSpecs": false,
    "memoryGiB": 64,
    "name": "ml.g4dn.4xlarge",
    "vcpuNum": 16
   },
   {
    "_defaultOrder": 32,
    "_isFastLaunch": false,
    "category": "Accelerated computing",
    "gpuNum": 1,
    "hideHardwareSpecs": false,
    "memoryGiB": 128,
    "name": "ml.g4dn.8xlarge",
    "vcpuNum": 32
   },
   {
    "_defaultOrder": 33,
    "_isFastLaunch": false,
    "category": "Accelerated computing",
    "gpuNum": 4,
    "hideHardwareSpecs": false,
    "memoryGiB": 192,
    "name": "ml.g4dn.12xlarge",
    "vcpuNum": 48
   },
   {
    "_defaultOrder": 34,
    "_isFastLaunch": false,
    "category": "Accelerated computing",
    "gpuNum": 1,
    "hideHardwareSpecs": false,
    "memoryGiB": 256,
    "name": "ml.g4dn.16xlarge",
    "vcpuNum": 64
   },
   {
    "_defaultOrder": 35,
    "_isFastLaunch": false,
    "category": "Accelerated computing",
    "gpuNum": 1,
    "hideHardwareSpecs": false,
    "memoryGiB": 61,
    "name": "ml.p3.2xlarge",
    "vcpuNum": 8
   },
   {
    "_defaultOrder": 36,
    "_isFastLaunch": false,
    "category": "Accelerated computing",
    "gpuNum": 4,
    "hideHardwareSpecs": false,
    "memoryGiB": 244,
    "name": "ml.p3.8xlarge",
    "vcpuNum": 32
   },
   {
    "_defaultOrder": 37,
    "_isFastLaunch": false,
    "category": "Accelerated computing",
    "gpuNum": 8,
    "hideHardwareSpecs": false,
    "memoryGiB": 488,
    "name": "ml.p3.16xlarge",
    "vcpuNum": 64
   },
   {
    "_defaultOrder": 38,
    "_isFastLaunch": false,
    "category": "Accelerated computing",
    "gpuNum": 8,
    "hideHardwareSpecs": false,
    "memoryGiB": 768,
    "name": "ml.p3dn.24xlarge",
    "vcpuNum": 96
   },
   {
    "_defaultOrder": 39,
    "_isFastLaunch": false,
    "category": "Memory Optimized",
    "gpuNum": 0,
    "hideHardwareSpecs": false,
    "memoryGiB": 16,
    "name": "ml.r5.large",
    "vcpuNum": 2
   },
   {
    "_defaultOrder": 40,
    "_isFastLaunch": false,
    "category": "Memory Optimized",
    "gpuNum": 0,
    "hideHardwareSpecs": false,
    "memoryGiB": 32,
    "name": "ml.r5.xlarge",
    "vcpuNum": 4
   },
   {
    "_defaultOrder": 41,
    "_isFastLaunch": false,
    "category": "Memory Optimized",
    "gpuNum": 0,
    "hideHardwareSpecs": false,
    "memoryGiB": 64,
    "name": "ml.r5.2xlarge",
    "vcpuNum": 8
   },
   {
    "_defaultOrder": 42,
    "_isFastLaunch": false,
    "category": "Memory Optimized",
    "gpuNum": 0,
    "hideHardwareSpecs": false,
    "memoryGiB": 128,
    "name": "ml.r5.4xlarge",
    "vcpuNum": 16
   },
   {
    "_defaultOrder": 43,
    "_isFastLaunch": false,
    "category": "Memory Optimized",
    "gpuNum": 0,
    "hideHardwareSpecs": false,
    "memoryGiB": 256,
    "name": "ml.r5.8xlarge",
    "vcpuNum": 32
   },
   {
    "_defaultOrder": 44,
    "_isFastLaunch": false,
    "category": "Memory Optimized",
    "gpuNum": 0,
    "hideHardwareSpecs": false,
    "memoryGiB": 384,
    "name": "ml.r5.12xlarge",
    "vcpuNum": 48
   },
   {
    "_defaultOrder": 45,
    "_isFastLaunch": false,
    "category": "Memory Optimized",
    "gpuNum": 0,
    "hideHardwareSpecs": false,
    "memoryGiB": 512,
    "name": "ml.r5.16xlarge",
    "vcpuNum": 64
   },
   {
    "_defaultOrder": 46,
    "_isFastLaunch": false,
    "category": "Memory Optimized",
    "gpuNum": 0,
    "hideHardwareSpecs": false,
    "memoryGiB": 768,
    "name": "ml.r5.24xlarge",
    "vcpuNum": 96
   },
   {
    "_defaultOrder": 47,
    "_isFastLaunch": false,
    "category": "Accelerated computing",
    "gpuNum": 1,
    "hideHardwareSpecs": false,
    "memoryGiB": 16,
    "name": "ml.g5.xlarge",
    "vcpuNum": 4
   },
   {
    "_defaultOrder": 48,
    "_isFastLaunch": false,
    "category": "Accelerated computing",
    "gpuNum": 1,
    "hideHardwareSpecs": false,
    "memoryGiB": 32,
    "name": "ml.g5.2xlarge",
    "vcpuNum": 8
   },
   {
    "_defaultOrder": 49,
    "_isFastLaunch": false,
    "category": "Accelerated computing",
    "gpuNum": 1,
    "hideHardwareSpecs": false,
    "memoryGiB": 64,
    "name": "ml.g5.4xlarge",
    "vcpuNum": 16
   },
   {
    "_defaultOrder": 50,
    "_isFastLaunch": false,
    "category": "Accelerated computing",
    "gpuNum": 1,
    "hideHardwareSpecs": false,
    "memoryGiB": 128,
    "name": "ml.g5.8xlarge",
    "vcpuNum": 32
   },
   {
    "_defaultOrder": 51,
    "_isFastLaunch": false,
    "category": "Accelerated computing",
    "gpuNum": 1,
    "hideHardwareSpecs": false,
    "memoryGiB": 256,
    "name": "ml.g5.16xlarge",
    "vcpuNum": 64
   },
   {
    "_defaultOrder": 52,
    "_isFastLaunch": false,
    "category": "Accelerated computing",
    "gpuNum": 4,
    "hideHardwareSpecs": false,
    "memoryGiB": 192,
    "name": "ml.g5.12xlarge",
    "vcpuNum": 48
   },
   {
    "_defaultOrder": 53,
    "_isFastLaunch": false,
    "category": "Accelerated computing",
    "gpuNum": 4,
    "hideHardwareSpecs": false,
    "memoryGiB": 384,
    "name": "ml.g5.24xlarge",
    "vcpuNum": 96
   },
   {
    "_defaultOrder": 54,
    "_isFastLaunch": false,
    "category": "Accelerated computing",
    "gpuNum": 8,
    "hideHardwareSpecs": false,
    "memoryGiB": 768,
    "name": "ml.g5.48xlarge",
    "vcpuNum": 192
   },
   {
    "_defaultOrder": 55,
    "_isFastLaunch": false,
    "category": "Accelerated computing",
    "gpuNum": 8,
    "hideHardwareSpecs": false,
    "memoryGiB": 1152,
    "name": "ml.p4d.24xlarge",
    "vcpuNum": 96
   },
   {
    "_defaultOrder": 56,
    "_isFastLaunch": false,
    "category": "Accelerated computing",
    "gpuNum": 8,
    "hideHardwareSpecs": false,
    "memoryGiB": 1152,
    "name": "ml.p4de.24xlarge",
    "vcpuNum": 96
   },
   {
    "_defaultOrder": 57,
    "_isFastLaunch": false,
    "category": "Accelerated computing",
    "gpuNum": 0,
    "hideHardwareSpecs": false,
    "memoryGiB": 32,
    "name": "ml.trn1.2xlarge",
    "vcpuNum": 8
   },
   {
    "_defaultOrder": 58,
    "_isFastLaunch": false,
    "category": "Accelerated computing",
    "gpuNum": 0,
    "hideHardwareSpecs": false,
    "memoryGiB": 512,
    "name": "ml.trn1.32xlarge",
    "vcpuNum": 128
   },
   {
    "_defaultOrder": 59,
    "_isFastLaunch": false,
    "category": "Accelerated computing",
    "gpuNum": 0,
    "hideHardwareSpecs": false,
    "memoryGiB": 512,
    "name": "ml.trn1n.32xlarge",
    "vcpuNum": 128
   }
  ],
  "instance_type": "ml.t3.medium",
  "kernelspec": {
   "display_name": "conda_tensorflow2_p310",
   "language": "python",
   "name": "conda_tensorflow2_p310"
  },
  "language_info": {
   "codemirror_mode": {
    "name": "ipython",
    "version": 3
   },
   "file_extension": ".py",
   "mimetype": "text/x-python",
   "name": "python",
   "nbconvert_exporter": "python",
   "pygments_lexer": "ipython3",
   "version": "3.10.14"
  }
 },
 "nbformat": 4,
 "nbformat_minor": 5
}
