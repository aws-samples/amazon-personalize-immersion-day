{
 "cells": [
  {
   "cell_type": "markdown",
   "id": "e29a92fa-e06c-48aa-8b1d-0dca9e99f57a",
   "metadata": {
    "tags": []
   },
   "source": [
    "# Creating Solutions <a class=\"anchor\" id=\"top\"></a>\n",
    "\n",
    "## Outline\n",
    "\n",
    "1. [Introduction](#intro)\n",
    "1. [How to train your Solution Versions](#recommenders)\n",
    "1. [Create Solutions](#solutions)\n",
    "1. [Evaluate Solutions](#eval)\n",
    "1. [Using Evaluation Metrics](#use)\n",
    "1. [Deploy a Campaign](#deploy)\n",
    "1. [Create Filters](#filters)\n",
    "1. [Storing Useful Variables](#vars)\n",
    "\n",
    "To run this notebook, you need to have run [the previous notebook: `01_Data_Layer.ipynb`](01_Data_Layer.ipynb), where you prepared 2 datasets (item-interactions, and items) for use in Amazon Personalize. At the end of that notebook, you saved some variable values, which you now need to load into this notebook.\n",
    "\n",
    "## Introduction <a class=\"anchor\" id=\"intro\"></a>\n",
    "\n",
    "In the previous notebook we prepared 2 different datasets that represent our fictional retail store (User interactions, and News Article Metadata) and created Datasets in Amazon Personalize for this data.\n",
    "\n",
    "In this notebook we will define our use-case, train models and create APIs to get recommendations.\n",
    "\n",
    "## Define your Use Case <a class=\"anchor\" id=\"usecase\"></a>\n",
    "[Back to top](#top)\n",
    "\n",
    "The [minimum data requirements](https://docs.aws.amazon.com/personalize/latest/dg/how-it-works-dataset-schema.html) can be found in the documentation.\n",
    "\n",
    "Most of the time this is easily attainable, and if you are low in one category, you can often make up for it by having a larger number in another category.\n",
    "\n",
    "The user-item-iteraction data is key for getting started with the service. \n",
    "\n",
    "### Train Models and create APIs to get recommendations\n",
    "\n",
    "In this section we will create a custom solutions, solution versions and campaigns for the following use cases:\n",
    "\n",
    "1. [User Personalization](https://docs.aws.amazon.com/personalize/latest/dg/native-recipe-new-item-USER_PERSONALIZATION.html) this will be used to provide frontpage or genre specific recommendations.\n",
    "\n",
    "2. [Personalized Ranking](https://docs.aws.amazon.com/personalize/latest/dg/personalized-ranking-recipes.html): will be used to rank a list of items.\n",
    "\n",
    "All of these will be created within the same dataset group and with the same input data.\n",
    "\n",
    "The following diagram shows the resources that we will create in this section. The part we are building in this notebook is highlighted in blue with a dashed outline.\n",
    "\n",
    "![Workflow](Images/02_Training_Layer_Resources.jpg)"
   ]
  },
  {
   "cell_type": "markdown",
   "id": "ff257128-87c9-41f7-b06d-6038cebc4ad4",
   "metadata": {},
   "source": [
    "Similar to the previous notebook, start by importing the relevant packages, and set up a connection to Amazon Personalize using the SDK."
   ]
  },
  {
   "cell_type": "code",
   "execution_count": 1,
   "id": "878158c5-5e6c-46e1-962d-bbab1d367c33",
   "metadata": {
    "tags": []
   },
   "outputs": [],
   "source": [
    "import time\n",
    "from time import sleep\n",
    "import json\n",
    "from datetime import datetime\n",
    "import uuid\n",
    "import random\n",
    "import boto3\n",
    "import botocore\n",
    "from botocore.exceptions import ClientError\n",
    "import pandas as pd"
   ]
  },
  {
   "cell_type": "code",
   "execution_count": 2,
   "id": "ceeb04f4-ce4a-4214-ba3a-f5609dd64a2d",
   "metadata": {
    "tags": []
   },
   "outputs": [],
   "source": [
    "%store -r"
   ]
  },
  {
   "cell_type": "markdown",
   "id": "8a7d06f9-d2ce-4698-b8d2-9dfd43d9f1b0",
   "metadata": {
    "tags": []
   },
   "source": [
    "#### Create clients"
   ]
  },
  {
   "cell_type": "code",
   "execution_count": 3,
   "id": "e4b28aad-b617-40f5-adcc-3433a195e071",
   "metadata": {
    "tags": []
   },
   "outputs": [],
   "source": [
    "# Configure the SDK to Personalize:\n",
    "personalize = boto3.client('personalize')\n",
    "personalize_runtime = boto3.client('personalize-runtime')"
   ]
  },
  {
   "cell_type": "markdown",
   "id": "2ef9d7de-33ab-435c-81c0-166733a08bf8",
   "metadata": {},
   "source": [
    "## How to train your Solution Versions <a class=\"anchor\" id=\"recommenders\"></a>\n",
    "[Back to top](#top)\n",
    "\n",
    "As mentioned previously, a dataset group, schemas, datasets, solutions, and campaigns have already been created for you. You can open another browser tab/window to view these resources in the Personalize AWS Console.\n",
    "\n",
    "Below, we will walk you through the steps we used to create these resources. Since they are already created, we will only be retrieving the automated deployment variables, however you can also run this code to train resources if you have not run the automation.\n",
    "\n",
    "<div class=\"alert alert-block alert-warning\">\n",
    "<b>Note:</b> Please take into account that creating these resources in your own account will incur a cost. If you are not using the CloudFormation template, it will take upload and training time to do these steps through this notebook (this can be several hours).\n",
    "</div>"
   ]
  },
  {
   "cell_type": "markdown",
   "id": "d1d29d3a-05c4-4d18-b97c-4791afbda62a",
   "metadata": {},
   "source": [
    "## Ready... Set... Train! :\n",
    "\n",
    "Now that the data is imported and ready for use, we will also create a custom solution and solution versions for the use case [Personalized-Ranking](https://docs.aws.amazon.com/personalize/latest/dg/personalized-ranking-recipes.html) and [User Personalization](https://docs.aws.amazon.com/personalize/latest/dg/native-recipe-new-item-USER_PERSONALIZATION.html)"
   ]
  },
  {
   "cell_type": "markdown",
   "id": "4e2e1718-12df-40e3-be6d-598926891cbd",
   "metadata": {},
   "source": [
    "## Create Solutions <a class=\"anchor\" id=\"solutions\"></a>\n",
    "[Back to top](#top)\n",
    "\n",
    "Whie prsonalize has streamlined solutions for the ecommerce and retail domains some such as article recommendation require a custom implementation. \n",
    "\n",
    "In Amazon Personalize, a specific variation of an algorithm is called a recipe. Different recipes are suitable for different situations. A trained model is called a solution, and each solution can have many versions that relate to a given volume of data when the model was trained.\n",
    "\n",
    "Let's look at all available recipes that are not of a specific domain and can be used to create custom solutions. "
   ]
  },
  {
   "cell_type": "code",
   "execution_count": 4,
   "id": "603477bc-9408-4bf5-a2b3-bbc050c79c50",
   "metadata": {
    "tags": []
   },
   "outputs": [
    {
     "data": {
      "text/plain": [
       "[{'name': 'aws-item-affinity',\n",
       "  'recipeArn': 'arn:aws:personalize:::recipe/aws-item-affinity',\n",
       "  'status': 'ACTIVE',\n",
       "  'creationDateTime': datetime.datetime(2021, 7, 15, 0, 0, tzinfo=tzlocal()),\n",
       "  'lastUpdatedDateTime': datetime.datetime(2024, 6, 19, 16, 47, 19, 191000, tzinfo=tzlocal())},\n",
       " {'name': 'aws-item-attribute-affinity',\n",
       "  'recipeArn': 'arn:aws:personalize:::recipe/aws-item-attribute-affinity',\n",
       "  'status': 'ACTIVE',\n",
       "  'creationDateTime': datetime.datetime(2021, 8, 25, 0, 0, tzinfo=tzlocal()),\n",
       "  'lastUpdatedDateTime': datetime.datetime(2024, 6, 19, 16, 47, 19, 191000, tzinfo=tzlocal())},\n",
       " {'name': 'aws-next-best-action',\n",
       "  'recipeArn': 'arn:aws:personalize:::recipe/aws-next-best-action',\n",
       "  'status': 'ACTIVE',\n",
       "  'creationDateTime': datetime.datetime(2023, 8, 11, 0, 0, tzinfo=tzlocal()),\n",
       "  'lastUpdatedDateTime': datetime.datetime(2024, 6, 19, 16, 47, 19, 191000, tzinfo=tzlocal())},\n",
       " {'name': 'aws-personalized-ranking',\n",
       "  'recipeArn': 'arn:aws:personalize:::recipe/aws-personalized-ranking',\n",
       "  'status': 'ACTIVE',\n",
       "  'creationDateTime': datetime.datetime(2019, 6, 10, 0, 0, tzinfo=tzlocal()),\n",
       "  'lastUpdatedDateTime': datetime.datetime(2024, 6, 19, 16, 47, 19, 191000, tzinfo=tzlocal())},\n",
       " {'name': 'aws-personalized-ranking-v2',\n",
       "  'recipeArn': 'arn:aws:personalize:::recipe/aws-personalized-ranking-v2',\n",
       "  'status': 'ACTIVE',\n",
       "  'creationDateTime': datetime.datetime(2024, 1, 1, 0, 0, tzinfo=tzlocal()),\n",
       "  'lastUpdatedDateTime': datetime.datetime(2024, 6, 19, 16, 47, 19, 191000, tzinfo=tzlocal())},\n",
       " {'name': 'aws-popularity-count',\n",
       "  'recipeArn': 'arn:aws:personalize:::recipe/aws-popularity-count',\n",
       "  'status': 'ACTIVE',\n",
       "  'creationDateTime': datetime.datetime(2019, 6, 10, 0, 0, tzinfo=tzlocal()),\n",
       "  'lastUpdatedDateTime': datetime.datetime(2024, 6, 19, 16, 47, 19, 191000, tzinfo=tzlocal())},\n",
       " {'name': 'aws-similar-items',\n",
       "  'recipeArn': 'arn:aws:personalize:::recipe/aws-similar-items',\n",
       "  'status': 'ACTIVE',\n",
       "  'creationDateTime': datetime.datetime(2019, 6, 10, 0, 0, tzinfo=tzlocal()),\n",
       "  'lastUpdatedDateTime': datetime.datetime(2024, 6, 19, 16, 47, 19, 191000, tzinfo=tzlocal())},\n",
       " {'name': 'aws-sims',\n",
       "  'recipeArn': 'arn:aws:personalize:::recipe/aws-sims',\n",
       "  'status': 'ACTIVE',\n",
       "  'creationDateTime': datetime.datetime(2019, 6, 10, 0, 0, tzinfo=tzlocal()),\n",
       "  'lastUpdatedDateTime': datetime.datetime(2024, 6, 19, 16, 47, 19, 191000, tzinfo=tzlocal())},\n",
       " {'name': 'aws-trending-now',\n",
       "  'recipeArn': 'arn:aws:personalize:::recipe/aws-trending-now',\n",
       "  'status': 'ACTIVE',\n",
       "  'creationDateTime': datetime.datetime(2022, 10, 1, 0, 0, tzinfo=tzlocal()),\n",
       "  'lastUpdatedDateTime': datetime.datetime(2024, 6, 19, 16, 47, 19, 191000, tzinfo=tzlocal())},\n",
       " {'name': 'aws-user-personalization',\n",
       "  'recipeArn': 'arn:aws:personalize:::recipe/aws-user-personalization',\n",
       "  'status': 'ACTIVE',\n",
       "  'creationDateTime': datetime.datetime(2019, 6, 10, 0, 0, tzinfo=tzlocal()),\n",
       "  'lastUpdatedDateTime': datetime.datetime(2024, 6, 19, 16, 47, 19, 191000, tzinfo=tzlocal())},\n",
       " {'name': 'aws-user-personalization-v2',\n",
       "  'recipeArn': 'arn:aws:personalize:::recipe/aws-user-personalization-v2',\n",
       "  'status': 'ACTIVE',\n",
       "  'creationDateTime': datetime.datetime(2024, 1, 1, 0, 0, tzinfo=tzlocal()),\n",
       "  'lastUpdatedDateTime': datetime.datetime(2024, 6, 19, 16, 47, 19, 191000, tzinfo=tzlocal())}]"
      ]
     },
     "metadata": {},
     "output_type": "display_data"
    }
   ],
   "source": [
    "available_recipes = personalize.list_recipes()\n",
    "display_available_recipes = available_recipes ['recipes']\n",
    "available_recipes = personalize.list_recipes(nextToken=available_recipes['nextToken'])#paging to get the rest of the recipes \n",
    "display_available_recipes = display_available_recipes + available_recipes['recipes']\n",
    "\n",
    "display ([recipe  for recipe in display_available_recipes if 'domain' not in recipe])"
   ]
  },
  {
   "cell_type": "markdown",
   "id": "08d029a3-24a4-4336-82cb-0e2062c46bb2",
   "metadata": {},
   "source": [
    "## Create Solution\n",
    "\n",
    "### User Personalization\n",
    "\n",
    "These use cases require a custom implementation. \n",
    "\n",
    "In Amazon Personalize, a specific variation of an algorithm is called a recipe. Different recipes are suitable for different situations. A trained model is called a solution, and each solution can have many versions that relate to a given volume of data when the model was trained."
   ]
  },
  {
   "cell_type": "markdown",
   "id": "d9f8d770-9977-483f-b781-bcffe44adb85",
   "metadata": {},
   "source": [
    "We are going to create a Solution of the type [User Personalization](https://docs.aws.amazon.com/personalize/latest/dg/native-recipe-new-item-USER_PERSONALIZATION.html). This solution is a combination of a dataset group and a recipe which basically a set of instructions for Amazon Personalize letting it now how to prepare a model to solve a specific type of business use case"
   ]
  },
  {
   "cell_type": "code",
   "execution_count": 5,
   "id": "e58bc0b7-b8e9-4d8c-82e4-653025b24696",
   "metadata": {
    "tags": []
   },
   "outputs": [],
   "source": [
    "workshop_userpersonalization_recipe_arn = \"arn:aws:personalize:::recipe/aws-user-personalization\""
   ]
  },
  {
   "cell_type": "code",
   "execution_count": 6,
   "id": "164a8707-225b-4740-9fc4-6caaaf930afd",
   "metadata": {
    "tags": []
   },
   "outputs": [
    {
     "name": "stdout",
     "output_type": "stream",
     "text": [
      "The Personalize Ranking Solution immersion_day_user_personalization_news already exists.\n",
      "\n",
      "We will be using the existing Personalize Ranking Solution with workshop_rerank_solution_arn = arn:aws:personalize:us-east-1:908388459961:solution/immersion_day_user_personalization_news\n"
     ]
    }
   ],
   "source": [
    "try:\n",
    "    user_personalization_create_solution_response = personalize.create_solution(\n",
    "        name = workshop_userpersonalization_solution_name,\n",
    "        datasetGroupArn = workshop_dataset_group_arn,\n",
    "        recipeArn = workshop_userpersonalization_recipe_arn\n",
    "    )\n",
    "\n",
    "    workshop_userpersonalization_solution_arn = user_personalization_create_solution_response['solutionArn']\n",
    "    print(json.dumps(workshop_userpersonalization_solution_arn, indent=2))\n",
    "\n",
    "\n",
    "    print ('\\nCreating the Personalize Ranking Solution with user_personalization_solution_arn = {}'.format(workshop_userpersonalization_solution_arn))\n",
    "\n",
    "except personalize.exceptions.ResourceAlreadyExistsException as e:\n",
    "    workshop_userpersonalization_solution_arn =  'arn:aws:personalize:'+region+':'+account_id+':solution/'+workshop_userpersonalization_solution_name\n",
    "    print('The Personalize Ranking Solution {} already exists.'.format(workshop_userpersonalization_solution_name))\n",
    "    print ('\\nWe will be using the existing Personalize Ranking Solution with workshop_rerank_solution_arn = {}'.format(workshop_userpersonalization_solution_arn))"
   ]
  },
  {
   "cell_type": "markdown",
   "id": "c6be12d1-f0c5-41b8-89a6-9870fd5e3145",
   "metadata": {},
   "source": [
    "### Create the solution version\n",
    "\n",
    "Once you have a solution, you need to create a version in order to complete the model training. The training can take a while to complete, upwards of 25 minutes, and an average of 35 minutes for this recipe with our dataset. Normally, we would use a while loop to poll until the task is completed. "
   ]
  },
  {
   "cell_type": "code",
   "execution_count": 7,
   "id": "72620f18-3d95-40a6-8aae-2d30f6d6b623",
   "metadata": {
    "tags": []
   },
   "outputs": [
    {
     "name": "stdout",
     "output_type": "stream",
     "text": [
      "\n",
      "We will be using the existing User Personalization Solution Version with workshop_rerank_solution_version_arn = arn:aws:personalize:us-east-1:908388459961:solution/immersion_day_user_personalization_news/39a271a4\n"
     ]
    }
   ],
   "source": [
    "workshop_userpersonalization_solution_version_arn = None\n",
    "\n",
    "solution_versions_list = personalize.list_solution_versions(\n",
    "    solutionArn=workshop_userpersonalization_solution_arn,\n",
    "    maxResults=10\n",
    ")['solutionVersions']\n",
    "\n",
    "for solution_vers in solution_versions_list:\n",
    "    if solution_vers['status'] in ['CREATE PENDING', 'CREATE IN_PROGRESS', 'ACTIVE']:\n",
    "        workshop_userpersonalization_solution_version_arn = solution_vers['solutionVersionArn']\n",
    "    if workshop_userpersonalization_solution_version_arn:\n",
    "        break\n",
    "\n",
    "if workshop_userpersonalization_solution_version_arn:\n",
    "    print ('\\nWe will be using the existing User Personalization Solution Version with workshop_rerank_solution_version_arn = {}'.format(workshop_userpersonalization_solution_version_arn))\n",
    "else:\n",
    "    user_personalization_create_solution_version_response = personalize.create_solution_version(\n",
    "        solutionArn = workshop_userpersonalization_solution_arn\n",
    "    )\n",
    "    workshop_userpersonalization_solution_version_arn = user_personalization_create_solution_version_response['solutionVersionArn']\n",
    "    print(json.dumps(user_personalization_create_solution_version_response, indent=2))\n",
    "    \n",
    "    print ('\\nTraining the User Personalization Solution Version with user_personalization_solution_version_arn = {}'.format(workshop_userpersonalization_solution_version_arn))"
   ]
  },
  {
   "cell_type": "markdown",
   "id": "8e1f86d9-e461-4a08-a8eb-01d8e39ef499",
   "metadata": {
    "tags": []
   },
   "source": [
    "### View Solution Version Creation Status\n",
    "\n",
    "To view the status updates in the console:\n",
    "\n",
    "* In another browser tab you should already have the AWS Console up from opening this notebook instance. \n",
    "* Switch to that tab and search at the top for the service `Personalize`, then go to that service page. \n",
    "* Click `Dataset groups`.\n",
    "* Click the name of your dataset group, if you did not change it, it is \"\".\n",
    "\n",
    "Or simply run the cell below to keep track of the solution version creation status."
   ]
  },
  {
   "cell_type": "code",
   "execution_count": 8,
   "id": "1b6625fb-2547-4dbd-86a2-25d0036d76f0",
   "metadata": {
    "tags": []
   },
   "outputs": [
    {
     "name": "stdout",
     "output_type": "stream",
     "text": [
      "Build succeeded for arn:aws:personalize:us-east-1:908388459961:solution/immersion_day_user_personalization_news/39a271a4\n",
      "The User Personalization Solution Version is ACTIVE\n"
     ]
    }
   ],
   "source": [
    "max_time = time.time() + 10*60*60 # 10 hours\n",
    "while time.time() < max_time:\n",
    "\n",
    "    # User Personalization Solution Version\n",
    "    user_personalization_version_response = personalize.describe_solution_version(\n",
    "        solutionVersionArn = workshop_userpersonalization_solution_version_arn\n",
    "    )\n",
    "    status_user_personalization_solution = user_personalization_version_response[\"solutionVersion\"][\"status\"]\n",
    "\n",
    "    if status_user_personalization_solution == \"ACTIVE\":\n",
    "        print(\"Build succeeded for {}\".format(workshop_userpersonalization_solution_version_arn))\n",
    "        \n",
    "    elif status_user_personalization_solution == \"CREATE FAILED\":\n",
    "        print(\"Build failed for {}\".format(workshop_userpersonalization_solution_version_arn))\n",
    "        break\n",
    "\n",
    "    if not status_user_personalization_solution == \"ACTIVE\":\n",
    "        print(\"User Personalization Solution Version build is still in progress\")\n",
    "    else:\n",
    "        print(\"The User Personalization Solution Version is ACTIVE\")\n",
    "        \n",
    "    if status_user_personalization_solution == \"ACTIVE\":\n",
    "        break\n",
    "        \n",
    "    print()\n",
    "    time.sleep(60)"
   ]
  },
  {
   "cell_type": "markdown",
   "id": "1a999928-60b9-4704-b946-3fedc75da524",
   "metadata": {},
   "source": [
    "## Deploy Campaigns <a class=\"anchor\" id=\"deploy\"></a>\n",
    "[Back to top](#top)\n",
    "\n",
    "Once a solution version is created, it is possible to get recommendations from them, and to get a feel for their overall behavior.\n",
    "\n",
    "For real-time recommendations, after you prepare and import data and creating a solution, you are ready to deploy your solution version to generate recommendations. You deploy a solution version by creating an Amazon Personalize campaign. If you are getting batch recommendations, you don't need to create a campaign. For more information see [Getting batch recommendations and user segments](https://docs.aws.amazon.com/personalize/latest/dg/recommendations-batch.html).\n",
    "\n",
    "We will deploy a campaign for the User Personalization solution version and our Personalized Ranking solution verison\n",
    "\n",
    "### Create campaigns\n",
    "\n",
    "A campaign is a hosted solution version; an endpoint which you can query for recommendations. Pricing is set by estimating throughput capacity (requests from users for personalization per second). When deploying a campaign, you set a minimum throughput per second (TPS) value. This service, like many within AWS, will automatically scale based on demand, but if latency is critical, you may want to provision ahead for larger demand. For this POC and demo, all minimum throughput thresholds are set to 1. For more information, see the [pricing page](https://aws.amazon.com/personalize/pricing/).\n",
    "\n",
    "Once we're satisfied with our solution version, we need to create Campaigns for each solution version. When creating a campaign you specify the minimum transactions per second (`minProvisionedTPS`) that you expect to make against the service for this campaign. Personalize will automatically scale the inference endpoint up and down for the campaign to match demand but will never scale below `minProvisionedTPS`.\n",
    "\n",
    "Let's create a campaigns for our User Personalization solution version with `minProvisionedTPS` set at 1."
   ]
  },
  {
   "cell_type": "code",
   "execution_count": 9,
   "id": "4660a497-e0f0-43c2-997a-364e209936c1",
   "metadata": {
    "tags": []
   },
   "outputs": [
    {
     "name": "stdout",
     "output_type": "stream",
     "text": [
      "The user personalization campaign arn:aws:personalize:us-east-1:908388459961:campaign/immersion_day_user_personalization_news_campaign already exists.\n",
      "\n",
      "We will be using the existing user personalization campaign with workshop_userpersonalization_campaign_arn = arn:aws:personalize:us-east-1:908388459961:campaign/immersion_day_user_personalization_news_campaign\n",
      "\n",
      "Updating campaign to return metadata\n"
     ]
    }
   ],
   "source": [
    "try:\n",
    "    user_personalization_create_campaign_response = personalize.create_campaign(\n",
    "        name = workshop_userpersonalization_campaign_name,\n",
    "        solutionVersionArn = workshop_userpersonalization_solution_version_arn,\n",
    "        minProvisionedTPS = 1,\n",
    "        campaignConfig={\n",
    "                'enableMetadataWithRecommendations': True\n",
    "        }\n",
    "    )\n",
    "    metadata_flag = False\n",
    "    workshop_userpersonalization_campaign_arn = user_personalization_create_campaign_response['campaignArn']\n",
    "    print(json.dumps(user_personalization_create_campaign_response, indent=2))\n",
    "\n",
    "    print ('\\nCreating the user personalization campaign with arn = {}'.format(workshop_userpersonalization_campaign_arn))\n",
    "\n",
    "except personalize.exceptions.ResourceAlreadyExistsException as e:\n",
    "    workshop_userpersonalization_campaign_arn =  'arn:aws:personalize:'+region+':'+account_id+':campaign/'+workshop_userpersonalization_campaign_name\n",
    "    print('The user personalization campaign {} already exists.'.format(workshop_userpersonalization_campaign_arn))\n",
    "    print ('\\nWe will be using the existing user personalization campaign with workshop_userpersonalization_campaign_arn = {}'.format(workshop_userpersonalization_campaign_arn))\n",
    "    print('\\nUpdating campaign to return metadata')\n",
    "    try:\n",
    "        response = personalize.update_campaign(\n",
    "            campaignArn = workshop_userpersonalization_campaign_arn,\n",
    "            campaignConfig={\n",
    "                'enableMetadataWithRecommendations': True\n",
    "            }\n",
    "        )\n",
    "        metadata_flag = True\n",
    "    except personalize.exceptions.InvalidInputException as e:\n",
    "        print('\\nCampaign {} already returns metadata as desired'.format(workshop_userpersonalization_campaign_arn))\n",
    "        metadata_flag = False"
   ]
  },
  {
   "cell_type": "markdown",
   "id": "ed090c1c-1f8b-4fee-b5fb-b9bd9680a4b9",
   "metadata": {},
   "source": [
    "### View campaign creation status\n",
    "\n",
    "This is how you view the status updates in the console:\n",
    "\n",
    "* In another browser tab you should already have the AWS Console open from opening this notebook instance. \n",
    "* Switch to that tab and search at the top for the service `Personalize`, then go to that service page. \n",
    "* Click `Dataset groups`.\n",
    "* Click the name of your dataset group.\n",
    "* Click `Custom Resources`\n",
    "* Click `Campaigns`.\n",
    "* You will now see a list of all of the campaigns you created above, including a column with the status of the campaign. Once it is `Active`, your campaign is ready to be queried.\n",
    "\n",
    "Or simply run the cell below to keep track of the campaign creation status of the campaign we created.\n",
    "\n",
    "While you are waiting for this to complete you can learn more about campaigns in [the documentation](https://docs.aws.amazon.com/personalize/latest/dg/campaigns.html)"
   ]
  },
  {
   "cell_type": "code",
   "execution_count": 10,
   "id": "df20122d-1780-4e7c-836d-308268fa899e",
   "metadata": {
    "tags": []
   },
   "outputs": [
    {
     "name": "stdout",
     "output_type": "stream",
     "text": [
      "CPU times: user 2 μs, sys: 0 ns, total: 2 μs\n",
      "Wall time: 5.48 μs\n",
      "Build succeeded for arn:aws:personalize:us-east-1:908388459961:campaign/immersion_day_user_personalization_news_campaign\n"
     ]
    }
   ],
   "source": [
    "%time\n",
    "\n",
    "max_time = time.time() + 3*60*60 # 3 hours\n",
    "while time.time() < max_time:\n",
    "    if metadata_flag:\n",
    "        user_personalization_campaign_response = personalize.describe_campaign(\n",
    "            campaignArn = workshop_userpersonalization_campaign_arn\n",
    "        )\n",
    "        status_user_personalization = user_personalization_campaign_response['campaign']['latestCampaignUpdate']['status']\n",
    "\n",
    "        if status_user_personalization == 'ACTIVE':\n",
    "            print('Build succeeded for {}'.format(workshop_userpersonalization_campaign_arn))\n",
    "        elif status_user_personalization == \"CREATE FAILED\":\n",
    "            print('Build failed for {}'.format(workshop_userpersonalization_campaign_arn))\n",
    "            break\n",
    "        else:\n",
    "            print('The user personalization campaign update is still in progress')\n",
    "\n",
    "        if status_user_personalization == \"ACTIVE\":\n",
    "            break  \n",
    "\n",
    "        time.sleep(60)\n",
    "        \n",
    "        \n",
    "    else:\n",
    "        user_personalization_campaign_response = personalize.describe_campaign(\n",
    "            campaignArn = workshop_userpersonalization_campaign_arn\n",
    "        )\n",
    "        status_user_personalization = user_personalization_campaign_response['campaign']['status']\n",
    "\n",
    "        if status_user_personalization == 'ACTIVE':\n",
    "            print('Build succeeded for {}'.format(workshop_userpersonalization_campaign_arn))\n",
    "        elif status_user_personalization == \"CREATE FAILED\":\n",
    "            print('Build failed for {}'.format(workshop_userpersonalization_campaign_arn))\n",
    "            break\n",
    "        else:\n",
    "            print('The user personalization campaign deployment is still in progress')\n",
    "\n",
    "        if status_user_personalization == \"ACTIVE\":\n",
    "            break  \n",
    "\n",
    "        time.sleep(60)"
   ]
  },
  {
   "cell_type": "markdown",
   "id": "03e3d5ec-ecdd-4627-880f-1892ebdf92c8",
   "metadata": {},
   "source": [
    "## Evaluate solution versions and recommenders <a class=\"anchor\" id=\"eval\"></a>\n",
    "[Back to top](#top)\n",
    "\n",
    "Personalize calculates these metrics based on a subset of the training data. The image below illustrates how Personalize splits the data. Given 10 users, with 10 interactions each (a circle represents an interaction), the interactions are ordered from oldest to newest based on the timestamp. Personalize uses all the interaction data from 90% of the users (blue circles) to train the solution version, and the remaining 10% for evaluation. For each of the users in the remaining 10%, 90% of their interaction data (green circles) is used as input for the call to the trained model. The remaining 10% of their data (orange circle) is compared to the output produced by the model and used to calculate the evaluation metrics.\n",
    "\n",
    "![personalize metrics](Images/personalize_metrics.png)\n",
    "\n",
    "We recommend reading [the documentation](https://docs.aws.amazon.com/personalize/latest/dg/working-with-training-metrics.html) to understand the metrics, but we have also copied parts of the documentation below for convenience.\n",
    "\n",
    "You need to understand the following terms regarding evaluation in Personalize:\n",
    "\n",
    "* *Relevant recommendation* refers to a recommendation that matches a value in the testing data for the particular user.\n",
    "* *Rank* refers to the position of a recommended item in the list of recommendations. Position 1 (the top of the list) is presumed to be the most relevant to the user.\n",
    "* *Query* refers to the internal equivalent of a GetRecommendations call.\n",
    "\n",
    "The metrics produced by Personalize are:\n",
    "* **coverage**: The proportion of unique recommended items from all queries out of the total number of unique items in the training data (includes both the Items and Interactions datasets).\n",
    "* **mean_reciprocal_rank_at_25**: The [mean of the reciprocal ranks](https://en.wikipedia.org/wiki/Mean_reciprocal_rank) of the first relevant recommendation out of the top 25 recommendations over all queries. This metric is appropriate if you're interested in the single highest ranked recommendation.\n",
    "* **normalized_discounted_cumulative_gain_at_K**: Discounted gain assumes that recommendations lower on a list of recommendations are less relevant than higher recommendations. Therefore, each recommendation is discounted (given a lower weight) by a factor dependent on its position. To produce the [cumulative discounted gain](https://en.wikipedia.org/wiki/Discounted_cumulative_gain) (DCG) at K, each relevant discounted recommendation in the top K recommendations is summed together. The normalized discounted cumulative gain (NDCG) is the DCG divided by the ideal DCG such that NDCG is between 0 - 1. (The ideal DCG is where the top K recommendations are sorted by relevance.) Amazon Personalize uses a weighting factor of 1/log(1 + position), where the top of the list is position 1. This metric rewards relevant items that appear near the top of the list, because the top of a list usually draws more attention.\n",
    "* **precision_at_K**: The number of relevant recommendations out of the top K recommendations divided by K. This metric rewards precise recommendation of the relevant items.\n",
    "\n",
    "Let's take a look at the evaluation metrics for each of the solutions produced in this notebook. Please note that your results might differ from the results described in the text of this notebook, due to the quality of the synthetic dataset. "
   ]
  },
  {
   "cell_type": "markdown",
   "id": "ab35a7dd-0b68-4ff6-8014-43713cdfa862",
   "metadata": {
    "tags": []
   },
   "source": [
    "## User Personalization Metrics\n",
    "Retrieve the evaluation metrics for the user personalization solution version."
   ]
  },
  {
   "cell_type": "code",
   "execution_count": 11,
   "id": "01ecb7f6-ed69-44ea-9cee-d5c8cab2dbda",
   "metadata": {
    "tags": []
   },
   "outputs": [
    {
     "name": "stdout",
     "output_type": "stream",
     "text": [
      "coverage: 0.2615\n",
      "mean_reciprocal_rank_at_25: 0.2259\n",
      "normalized_discounted_cumulative_gain_at_10: 0.2614\n",
      "normalized_discounted_cumulative_gain_at_25: 0.3117\n",
      "normalized_discounted_cumulative_gain_at_5: 0.2363\n",
      "precision_at_10: 0.0452\n",
      "precision_at_25: 0.0304\n",
      "precision_at_5: 0.0687\n"
     ]
    }
   ],
   "source": [
    "userpersonalization_solution_metrics_response = personalize.get_solution_metrics(\n",
    "    solutionVersionArn = workshop_userpersonalization_solution_version_arn\n",
    ")\n",
    "\n",
    "for metric in userpersonalization_solution_metrics_response[\"metrics\"]:\n",
    "    print (\"{}: {}\".format(metric,userpersonalization_solution_metrics_response[\"metrics\"][metric] ))"
   ]
  },
  {
   "cell_type": "markdown",
   "id": "2873cbc9-791b-446c-a395-e8b0867dbfe8",
   "metadata": {},
   "source": [
    "## Using evaluation metrics <a class=\"anchor\" id=\"usemetrics\"></a>\n",
    "[Back to top](#top)\n",
    "\n",
    "It is important to use evaluation metrics carefully. There are a number of factors to keep in mind.\n",
    "\n",
    "* If there is an existing recommendation system in place, this will have influenced the user's interaction history which you use to train your new solutions. This means the evaluation metrics are biased to favor the existing solution. If you work to push the evaluation metrics to match or exceed the existing solution, you may just be pushing the User Personalization to behave like the existing solution and might not end up with something better.\n",
    "\n",
    "\n",
    "Keeping in mind these factors, the evaluation metrics produced by Personalize are generally useful for two cases:\n",
    "1. Comparing the performance of solution versions trained on the same recipe, but with different values for the hyperparameters and features (impression data etc)\n",
    "1. Comparing the performance of solution versions trained on different recipes. Here also keep in mind that the recipes answer different use cases and comparing them to each other might not make sense in your solution.\n",
    "\n",
    "Properly evaluating a recommendation system is always best done through A/B testing while measuring actual business outcomes. Since recommendations generated by a system usually influence the user behavior which it is based on, it is better to run small experiments and apply A/B testing for longer periods of time. Over time, the bias from the existing model will fade."
   ]
  },
  {
   "cell_type": "markdown",
   "id": "79df0c5e-d594-4af8-9913-a8b7d6175573",
   "metadata": {},
   "source": [
    "## Storing useful variables <a class=\"anchor\" id=\"vars\"></a>\n",
    "[Back to top](#top)\n",
    "\n",
    "Before exiting this notebook, run the following cells to save the version ARNs for use in the next notebook."
   ]
  },
  {
   "cell_type": "code",
   "execution_count": 12,
   "id": "71438b02-18b9-46f4-841a-f998f51d760c",
   "metadata": {
    "tags": []
   },
   "outputs": [
    {
     "name": "stdout",
     "output_type": "stream",
     "text": [
      "Stored 'workshop_userpersonalization_solution_arn' (str)\n",
      "Stored 'workshop_userpersonalization_solution_version_arn' (str)\n",
      "Stored 'workshop_userpersonalization_campaign_arn' (str)\n",
      "Stored 'region' (str)\n",
      "Stored 'role_name' (str)\n",
      "Stored 'account_id' (str)\n"
     ]
    }
   ],
   "source": [
    "%store workshop_userpersonalization_solution_arn\n",
    "%store workshop_userpersonalization_solution_version_arn\n",
    "%store workshop_userpersonalization_campaign_arn\n",
    "\n",
    "%store region\n",
    "%store role_name\n",
    "%store account_id"
   ]
  },
  {
   "cell_type": "markdown",
   "id": "8817e426-8b90-41f1-b30b-694e31322f61",
   "metadata": {},
   "source": [
    "You're all set to move on to [the exploratory notebook `03_Inference_Layer.ipynb`](03_Inference_Layer.ipynb). Open it from the browser and you can start getting recommendations!"
   ]
  }
 ],
 "metadata": {
  "availableInstances": [
   {
    "_defaultOrder": 0,
    "_isFastLaunch": true,
    "category": "General purpose",
    "gpuNum": 0,
    "hideHardwareSpecs": false,
    "memoryGiB": 4,
    "name": "ml.t3.medium",
    "vcpuNum": 2
   },
   {
    "_defaultOrder": 1,
    "_isFastLaunch": false,
    "category": "General purpose",
    "gpuNum": 0,
    "hideHardwareSpecs": false,
    "memoryGiB": 8,
    "name": "ml.t3.large",
    "vcpuNum": 2
   },
   {
    "_defaultOrder": 2,
    "_isFastLaunch": false,
    "category": "General purpose",
    "gpuNum": 0,
    "hideHardwareSpecs": false,
    "memoryGiB": 16,
    "name": "ml.t3.xlarge",
    "vcpuNum": 4
   },
   {
    "_defaultOrder": 3,
    "_isFastLaunch": false,
    "category": "General purpose",
    "gpuNum": 0,
    "hideHardwareSpecs": false,
    "memoryGiB": 32,
    "name": "ml.t3.2xlarge",
    "vcpuNum": 8
   },
   {
    "_defaultOrder": 4,
    "_isFastLaunch": true,
    "category": "General purpose",
    "gpuNum": 0,
    "hideHardwareSpecs": false,
    "memoryGiB": 8,
    "name": "ml.m5.large",
    "vcpuNum": 2
   },
   {
    "_defaultOrder": 5,
    "_isFastLaunch": false,
    "category": "General purpose",
    "gpuNum": 0,
    "hideHardwareSpecs": false,
    "memoryGiB": 16,
    "name": "ml.m5.xlarge",
    "vcpuNum": 4
   },
   {
    "_defaultOrder": 6,
    "_isFastLaunch": false,
    "category": "General purpose",
    "gpuNum": 0,
    "hideHardwareSpecs": false,
    "memoryGiB": 32,
    "name": "ml.m5.2xlarge",
    "vcpuNum": 8
   },
   {
    "_defaultOrder": 7,
    "_isFastLaunch": false,
    "category": "General purpose",
    "gpuNum": 0,
    "hideHardwareSpecs": false,
    "memoryGiB": 64,
    "name": "ml.m5.4xlarge",
    "vcpuNum": 16
   },
   {
    "_defaultOrder": 8,
    "_isFastLaunch": false,
    "category": "General purpose",
    "gpuNum": 0,
    "hideHardwareSpecs": false,
    "memoryGiB": 128,
    "name": "ml.m5.8xlarge",
    "vcpuNum": 32
   },
   {
    "_defaultOrder": 9,
    "_isFastLaunch": false,
    "category": "General purpose",
    "gpuNum": 0,
    "hideHardwareSpecs": false,
    "memoryGiB": 192,
    "name": "ml.m5.12xlarge",
    "vcpuNum": 48
   },
   {
    "_defaultOrder": 10,
    "_isFastLaunch": false,
    "category": "General purpose",
    "gpuNum": 0,
    "hideHardwareSpecs": false,
    "memoryGiB": 256,
    "name": "ml.m5.16xlarge",
    "vcpuNum": 64
   },
   {
    "_defaultOrder": 11,
    "_isFastLaunch": false,
    "category": "General purpose",
    "gpuNum": 0,
    "hideHardwareSpecs": false,
    "memoryGiB": 384,
    "name": "ml.m5.24xlarge",
    "vcpuNum": 96
   },
   {
    "_defaultOrder": 12,
    "_isFastLaunch": false,
    "category": "General purpose",
    "gpuNum": 0,
    "hideHardwareSpecs": false,
    "memoryGiB": 8,
    "name": "ml.m5d.large",
    "vcpuNum": 2
   },
   {
    "_defaultOrder": 13,
    "_isFastLaunch": false,
    "category": "General purpose",
    "gpuNum": 0,
    "hideHardwareSpecs": false,
    "memoryGiB": 16,
    "name": "ml.m5d.xlarge",
    "vcpuNum": 4
   },
   {
    "_defaultOrder": 14,
    "_isFastLaunch": false,
    "category": "General purpose",
    "gpuNum": 0,
    "hideHardwareSpecs": false,
    "memoryGiB": 32,
    "name": "ml.m5d.2xlarge",
    "vcpuNum": 8
   },
   {
    "_defaultOrder": 15,
    "_isFastLaunch": false,
    "category": "General purpose",
    "gpuNum": 0,
    "hideHardwareSpecs": false,
    "memoryGiB": 64,
    "name": "ml.m5d.4xlarge",
    "vcpuNum": 16
   },
   {
    "_defaultOrder": 16,
    "_isFastLaunch": false,
    "category": "General purpose",
    "gpuNum": 0,
    "hideHardwareSpecs": false,
    "memoryGiB": 128,
    "name": "ml.m5d.8xlarge",
    "vcpuNum": 32
   },
   {
    "_defaultOrder": 17,
    "_isFastLaunch": false,
    "category": "General purpose",
    "gpuNum": 0,
    "hideHardwareSpecs": false,
    "memoryGiB": 192,
    "name": "ml.m5d.12xlarge",
    "vcpuNum": 48
   },
   {
    "_defaultOrder": 18,
    "_isFastLaunch": false,
    "category": "General purpose",
    "gpuNum": 0,
    "hideHardwareSpecs": false,
    "memoryGiB": 256,
    "name": "ml.m5d.16xlarge",
    "vcpuNum": 64
   },
   {
    "_defaultOrder": 19,
    "_isFastLaunch": false,
    "category": "General purpose",
    "gpuNum": 0,
    "hideHardwareSpecs": false,
    "memoryGiB": 384,
    "name": "ml.m5d.24xlarge",
    "vcpuNum": 96
   },
   {
    "_defaultOrder": 20,
    "_isFastLaunch": false,
    "category": "General purpose",
    "gpuNum": 0,
    "hideHardwareSpecs": true,
    "memoryGiB": 0,
    "name": "ml.geospatial.interactive",
    "supportedImageNames": [
     "sagemaker-geospatial-v1-0"
    ],
    "vcpuNum": 0
   },
   {
    "_defaultOrder": 21,
    "_isFastLaunch": true,
    "category": "Compute optimized",
    "gpuNum": 0,
    "hideHardwareSpecs": false,
    "memoryGiB": 4,
    "name": "ml.c5.large",
    "vcpuNum": 2
   },
   {
    "_defaultOrder": 22,
    "_isFastLaunch": false,
    "category": "Compute optimized",
    "gpuNum": 0,
    "hideHardwareSpecs": false,
    "memoryGiB": 8,
    "name": "ml.c5.xlarge",
    "vcpuNum": 4
   },
   {
    "_defaultOrder": 23,
    "_isFastLaunch": false,
    "category": "Compute optimized",
    "gpuNum": 0,
    "hideHardwareSpecs": false,
    "memoryGiB": 16,
    "name": "ml.c5.2xlarge",
    "vcpuNum": 8
   },
   {
    "_defaultOrder": 24,
    "_isFastLaunch": false,
    "category": "Compute optimized",
    "gpuNum": 0,
    "hideHardwareSpecs": false,
    "memoryGiB": 32,
    "name": "ml.c5.4xlarge",
    "vcpuNum": 16
   },
   {
    "_defaultOrder": 25,
    "_isFastLaunch": false,
    "category": "Compute optimized",
    "gpuNum": 0,
    "hideHardwareSpecs": false,
    "memoryGiB": 72,
    "name": "ml.c5.9xlarge",
    "vcpuNum": 36
   },
   {
    "_defaultOrder": 26,
    "_isFastLaunch": false,
    "category": "Compute optimized",
    "gpuNum": 0,
    "hideHardwareSpecs": false,
    "memoryGiB": 96,
    "name": "ml.c5.12xlarge",
    "vcpuNum": 48
   },
   {
    "_defaultOrder": 27,
    "_isFastLaunch": false,
    "category": "Compute optimized",
    "gpuNum": 0,
    "hideHardwareSpecs": false,
    "memoryGiB": 144,
    "name": "ml.c5.18xlarge",
    "vcpuNum": 72
   },
   {
    "_defaultOrder": 28,
    "_isFastLaunch": false,
    "category": "Compute optimized",
    "gpuNum": 0,
    "hideHardwareSpecs": false,
    "memoryGiB": 192,
    "name": "ml.c5.24xlarge",
    "vcpuNum": 96
   },
   {
    "_defaultOrder": 29,
    "_isFastLaunch": true,
    "category": "Accelerated computing",
    "gpuNum": 1,
    "hideHardwareSpecs": false,
    "memoryGiB": 16,
    "name": "ml.g4dn.xlarge",
    "vcpuNum": 4
   },
   {
    "_defaultOrder": 30,
    "_isFastLaunch": false,
    "category": "Accelerated computing",
    "gpuNum": 1,
    "hideHardwareSpecs": false,
    "memoryGiB": 32,
    "name": "ml.g4dn.2xlarge",
    "vcpuNum": 8
   },
   {
    "_defaultOrder": 31,
    "_isFastLaunch": false,
    "category": "Accelerated computing",
    "gpuNum": 1,
    "hideHardwareSpecs": false,
    "memoryGiB": 64,
    "name": "ml.g4dn.4xlarge",
    "vcpuNum": 16
   },
   {
    "_defaultOrder": 32,
    "_isFastLaunch": false,
    "category": "Accelerated computing",
    "gpuNum": 1,
    "hideHardwareSpecs": false,
    "memoryGiB": 128,
    "name": "ml.g4dn.8xlarge",
    "vcpuNum": 32
   },
   {
    "_defaultOrder": 33,
    "_isFastLaunch": false,
    "category": "Accelerated computing",
    "gpuNum": 4,
    "hideHardwareSpecs": false,
    "memoryGiB": 192,
    "name": "ml.g4dn.12xlarge",
    "vcpuNum": 48
   },
   {
    "_defaultOrder": 34,
    "_isFastLaunch": false,
    "category": "Accelerated computing",
    "gpuNum": 1,
    "hideHardwareSpecs": false,
    "memoryGiB": 256,
    "name": "ml.g4dn.16xlarge",
    "vcpuNum": 64
   },
   {
    "_defaultOrder": 35,
    "_isFastLaunch": false,
    "category": "Accelerated computing",
    "gpuNum": 1,
    "hideHardwareSpecs": false,
    "memoryGiB": 61,
    "name": "ml.p3.2xlarge",
    "vcpuNum": 8
   },
   {
    "_defaultOrder": 36,
    "_isFastLaunch": false,
    "category": "Accelerated computing",
    "gpuNum": 4,
    "hideHardwareSpecs": false,
    "memoryGiB": 244,
    "name": "ml.p3.8xlarge",
    "vcpuNum": 32
   },
   {
    "_defaultOrder": 37,
    "_isFastLaunch": false,
    "category": "Accelerated computing",
    "gpuNum": 8,
    "hideHardwareSpecs": false,
    "memoryGiB": 488,
    "name": "ml.p3.16xlarge",
    "vcpuNum": 64
   },
   {
    "_defaultOrder": 38,
    "_isFastLaunch": false,
    "category": "Accelerated computing",
    "gpuNum": 8,
    "hideHardwareSpecs": false,
    "memoryGiB": 768,
    "name": "ml.p3dn.24xlarge",
    "vcpuNum": 96
   },
   {
    "_defaultOrder": 39,
    "_isFastLaunch": false,
    "category": "Memory Optimized",
    "gpuNum": 0,
    "hideHardwareSpecs": false,
    "memoryGiB": 16,
    "name": "ml.r5.large",
    "vcpuNum": 2
   },
   {
    "_defaultOrder": 40,
    "_isFastLaunch": false,
    "category": "Memory Optimized",
    "gpuNum": 0,
    "hideHardwareSpecs": false,
    "memoryGiB": 32,
    "name": "ml.r5.xlarge",
    "vcpuNum": 4
   },
   {
    "_defaultOrder": 41,
    "_isFastLaunch": false,
    "category": "Memory Optimized",
    "gpuNum": 0,
    "hideHardwareSpecs": false,
    "memoryGiB": 64,
    "name": "ml.r5.2xlarge",
    "vcpuNum": 8
   },
   {
    "_defaultOrder": 42,
    "_isFastLaunch": false,
    "category": "Memory Optimized",
    "gpuNum": 0,
    "hideHardwareSpecs": false,
    "memoryGiB": 128,
    "name": "ml.r5.4xlarge",
    "vcpuNum": 16
   },
   {
    "_defaultOrder": 43,
    "_isFastLaunch": false,
    "category": "Memory Optimized",
    "gpuNum": 0,
    "hideHardwareSpecs": false,
    "memoryGiB": 256,
    "name": "ml.r5.8xlarge",
    "vcpuNum": 32
   },
   {
    "_defaultOrder": 44,
    "_isFastLaunch": false,
    "category": "Memory Optimized",
    "gpuNum": 0,
    "hideHardwareSpecs": false,
    "memoryGiB": 384,
    "name": "ml.r5.12xlarge",
    "vcpuNum": 48
   },
   {
    "_defaultOrder": 45,
    "_isFastLaunch": false,
    "category": "Memory Optimized",
    "gpuNum": 0,
    "hideHardwareSpecs": false,
    "memoryGiB": 512,
    "name": "ml.r5.16xlarge",
    "vcpuNum": 64
   },
   {
    "_defaultOrder": 46,
    "_isFastLaunch": false,
    "category": "Memory Optimized",
    "gpuNum": 0,
    "hideHardwareSpecs": false,
    "memoryGiB": 768,
    "name": "ml.r5.24xlarge",
    "vcpuNum": 96
   },
   {
    "_defaultOrder": 47,
    "_isFastLaunch": false,
    "category": "Accelerated computing",
    "gpuNum": 1,
    "hideHardwareSpecs": false,
    "memoryGiB": 16,
    "name": "ml.g5.xlarge",
    "vcpuNum": 4
   },
   {
    "_defaultOrder": 48,
    "_isFastLaunch": false,
    "category": "Accelerated computing",
    "gpuNum": 1,
    "hideHardwareSpecs": false,
    "memoryGiB": 32,
    "name": "ml.g5.2xlarge",
    "vcpuNum": 8
   },
   {
    "_defaultOrder": 49,
    "_isFastLaunch": false,
    "category": "Accelerated computing",
    "gpuNum": 1,
    "hideHardwareSpecs": false,
    "memoryGiB": 64,
    "name": "ml.g5.4xlarge",
    "vcpuNum": 16
   },
   {
    "_defaultOrder": 50,
    "_isFastLaunch": false,
    "category": "Accelerated computing",
    "gpuNum": 1,
    "hideHardwareSpecs": false,
    "memoryGiB": 128,
    "name": "ml.g5.8xlarge",
    "vcpuNum": 32
   },
   {
    "_defaultOrder": 51,
    "_isFastLaunch": false,
    "category": "Accelerated computing",
    "gpuNum": 1,
    "hideHardwareSpecs": false,
    "memoryGiB": 256,
    "name": "ml.g5.16xlarge",
    "vcpuNum": 64
   },
   {
    "_defaultOrder": 52,
    "_isFastLaunch": false,
    "category": "Accelerated computing",
    "gpuNum": 4,
    "hideHardwareSpecs": false,
    "memoryGiB": 192,
    "name": "ml.g5.12xlarge",
    "vcpuNum": 48
   },
   {
    "_defaultOrder": 53,
    "_isFastLaunch": false,
    "category": "Accelerated computing",
    "gpuNum": 4,
    "hideHardwareSpecs": false,
    "memoryGiB": 384,
    "name": "ml.g5.24xlarge",
    "vcpuNum": 96
   },
   {
    "_defaultOrder": 54,
    "_isFastLaunch": false,
    "category": "Accelerated computing",
    "gpuNum": 8,
    "hideHardwareSpecs": false,
    "memoryGiB": 768,
    "name": "ml.g5.48xlarge",
    "vcpuNum": 192
   },
   {
    "_defaultOrder": 55,
    "_isFastLaunch": false,
    "category": "Accelerated computing",
    "gpuNum": 8,
    "hideHardwareSpecs": false,
    "memoryGiB": 1152,
    "name": "ml.p4d.24xlarge",
    "vcpuNum": 96
   },
   {
    "_defaultOrder": 56,
    "_isFastLaunch": false,
    "category": "Accelerated computing",
    "gpuNum": 8,
    "hideHardwareSpecs": false,
    "memoryGiB": 1152,
    "name": "ml.p4de.24xlarge",
    "vcpuNum": 96
   },
   {
    "_defaultOrder": 57,
    "_isFastLaunch": false,
    "category": "Accelerated computing",
    "gpuNum": 0,
    "hideHardwareSpecs": false,
    "memoryGiB": 32,
    "name": "ml.trn1.2xlarge",
    "vcpuNum": 8
   },
   {
    "_defaultOrder": 58,
    "_isFastLaunch": false,
    "category": "Accelerated computing",
    "gpuNum": 0,
    "hideHardwareSpecs": false,
    "memoryGiB": 512,
    "name": "ml.trn1.32xlarge",
    "vcpuNum": 128
   },
   {
    "_defaultOrder": 59,
    "_isFastLaunch": false,
    "category": "Accelerated computing",
    "gpuNum": 0,
    "hideHardwareSpecs": false,
    "memoryGiB": 512,
    "name": "ml.trn1n.32xlarge",
    "vcpuNum": 128
   }
  ],
  "instance_type": "ml.m5.large",
  "kernelspec": {
   "display_name": "conda_tensorflow2_p310",
   "language": "python",
   "name": "conda_tensorflow2_p310"
  },
  "language_info": {
   "codemirror_mode": {
    "name": "ipython",
    "version": 3
   },
   "file_extension": ".py",
   "mimetype": "text/x-python",
   "name": "python",
   "nbconvert_exporter": "python",
   "pygments_lexer": "ipython3",
   "version": "3.10.14"
  }
 },
 "nbformat": 4,
 "nbformat_minor": 5
}
