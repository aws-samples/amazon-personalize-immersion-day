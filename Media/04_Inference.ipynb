{
 "cells": [
  {
   "cell_type": "markdown",
   "metadata": {},
   "source": [
    "# Interacting with Recommenders, Campaigns and Filters <a class=\"anchor\" id=\"top\"></a>\n",
    "\n",
    "Now that UnicornFlix has trained models for 3 different use cases (Top Picks for You, More like X and Reranking), we need to integrate them into our application. Amazon Personalize can make recommendations available via an Application Programming Interface (API). In addition Amazon Personalize includes features that allow you to easily integrate into applications and provide benefits like real time vending of recommendations based on recent application activity.\n",
    "\n",
    "In this notebook, you will interact with campaigns and filters in Amazon Personalize.\n",
    "\n",
    "1. [Introduction](#intro)\n",
    "1. [Interact with Recommenders](#interact-recommenders)\n",
    "1. [Interact with Campaigns](#interact-campaigns)\n",
    "1. [Filters](#filters)\n",
    "1. [Create Filters](#create-filters)\n",
    "1. [Using Filters](#using-filters)\n",
    "1. [Real-time Events](#real-time)\n",
    "1. [Batch Recommendations](#batch)\n",
    "1. [Wrap Up](#wrapup)\n",
    "\n",
    "To run this notebook, you need to have run the previous notebooks, [`01_Data.ipynb`](01_Data.ipynb), and [`02_Training.ipynb`](02_Training.ipynb), where you created a dataset and imported interaction, item, and user metadata data into Amazon Personalize, created recommenders, solutions and campaigns.\n",
    "\n",
    "## Introduction <a class=\"anchor\" id=\"intro\"></a>\n",
    "[Back to top](#top)\n",
    "\n",
    "At this point, you should have 2 Recommenders and one deployed Campaign. Once they are active, there are resources for querying the recommendations, and helper functions to digest the output into something more human-readable. \n",
    "\n",
    "\n",
    "In this Notebook we will interact with Recommenders and Campaigns and get recommendations. \n",
    "\n",
    "We will create and interact with filters and send live data to Amazon Personalize to see the effect of real-time interactions on recommendations.\n",
    "\n",
    "The following diagram shows the resources that we will create in this section. with the section we are building  in this notebook highlighted in blue with a dashed outline.\n",
    "\n",
    "![Workflow](images/03_Inference_Layer_Resources.jpg)\n",
    "\n",
    "To get started, once again, we need to import libraries, load values from previous notebooks, and load the SDK."
   ]
  },
  {
   "cell_type": "code",
   "execution_count": null,
   "metadata": {},
   "outputs": [],
   "source": [
    "import time\n",
    "from time import sleep\n",
    "import json\n",
    "from datetime import datetime\n",
    "import uuid\n",
    "import random\n",
    "import boto3\n",
    "import pandas as pd"
   ]
  },
  {
   "cell_type": "code",
   "execution_count": null,
   "metadata": {},
   "outputs": [],
   "source": [
    "%store -r"
   ]
  },
  {
   "cell_type": "code",
   "execution_count": null,
   "metadata": {},
   "outputs": [],
   "source": [
    "personalize = boto3.client('personalize')\n",
    "personalize_runtime = boto3.client('personalize-runtime')\n",
    "\n",
    "# Establish a connection to Personalize's event streaming\n",
    "personalize_events = boto3.client(service_name='personalize-events')"
   ]
  },
  {
   "cell_type": "markdown",
   "metadata": {},
   "source": [
    "Start by loading in the dataset which we can use for our lookup table."
   ]
  },
  {
   "cell_type": "code",
   "execution_count": null,
   "metadata": {},
   "outputs": [],
   "source": [
    "# Create a dataframe for the items by reading in the correct source CSV\n",
    "items_df = pd.read_csv(data_dir + '/imdb/items.csv', index_col=0)\n",
    "\n",
    "# Render some sample data\n",
    "items_df.head(5)"
   ]
  },
  {
   "cell_type": "markdown",
   "metadata": {},
   "source": [
    "By defining the ID column as the index column it is easy to return a movie by just querying the ID. "
   ]
  },
  {
   "cell_type": "code",
   "execution_count": null,
   "metadata": {},
   "outputs": [],
   "source": [
    "movie_id_example = 'tt0095016'\n",
    "title = items_df.loc[movie_id_example]['TITLE']\n",
    "print(title)"
   ]
  },
  {
   "cell_type": "markdown",
   "metadata": {},
   "source": [
    "## Interact with recommenders <a class=\"anchor\" id=\"interact-recommenders\"></a>\n",
    "[Back to top](#top)\n",
    "\n",
    "Now that the recommenders have been trained, lets have a look at the recommendations we can get for our users!"
   ]
  },
  {
   "cell_type": "markdown",
   "metadata": {},
   "source": [
    "### \"More like X\" Recommender\n",
    "\n",
    "'More like X' requires an item and a user as input, and it will return items which users interact with in similar ways to their interaction with the input item. In this particular case the item is a movie. "
   ]
  },
  {
   "cell_type": "markdown",
   "metadata": {},
   "source": [
    "The cells below will handle getting recommendations from the \"More like X\" Recommender and rendering the results. Let's see what the recommendations are for the first item we looked at earlier in this notebook (Die Hard).\n",
    "\n",
    "We will be using the `recommenderArn`, the `itemId`, the `userId` as well as the number or results we want, `numResults`."
   ]
  },
  {
   "cell_type": "code",
   "execution_count": null,
   "metadata": {},
   "outputs": [],
   "source": [
    "# First pick a user\n",
    "test_user_id = \"1\""
   ]
  },
  {
   "cell_type": "markdown",
   "metadata": {},
   "source": [
    "Let's use the capability of Amazon Personalize to return item metadata to get the movie title."
   ]
  },
  {
   "cell_type": "code",
   "execution_count": null,
   "metadata": {},
   "outputs": [],
   "source": [
    "get_recommendations_response = personalize_runtime.get_recommendations(\n",
    "    recommenderArn = workshop_recommender_more_like_x_arn,\n",
    "    itemId = movie_id_example,\n",
    "    userId = test_user_id,\n",
    "    numResults = 20,\n",
    "    metadataColumns = {\n",
    "            \"ITEMS\": ['TITLE']\n",
    "        }\n",
    ")"
   ]
  },
  {
   "cell_type": "markdown",
   "metadata": {},
   "source": [
    "First lets get the response directly from the get_recommendations API, which by default returns 25 items, but can be adjusted."
   ]
  },
  {
   "cell_type": "code",
   "execution_count": null,
   "metadata": {},
   "outputs": [],
   "source": [
    "print(get_recommendations_response)"
   ]
  },
  {
   "cell_type": "markdown",
   "metadata": {},
   "source": [
    "Depending on your Item catalog, this response will not be easy to quickly evaluate the recommendations, so lets use the function we created above."
   ]
  },
  {
   "cell_type": "code",
   "execution_count": null,
   "metadata": {},
   "outputs": [],
   "source": [
    "item_list = get_recommendations_response['itemList']\n",
    "print(\"If you liked \" + items_df.loc[movie_id_example]['TITLE'] + \", you may also like:\")\n",
    "print()\n",
    "for item in item_list:\n",
    "    print(item['metadata']['title'])"
   ]
  },
  {
   "cell_type": "markdown",
   "metadata": {},
   "source": [
    "Congrats, this is your first list of recommendations! This list is fine, but it would be better to see the recommendations for similar movies render in a nice dataframe. Again, let's create a helper function to achieve this."
   ]
  },
  {
   "cell_type": "code",
   "execution_count": null,
   "metadata": {},
   "outputs": [],
   "source": [
    "# Update DF rendering\n",
    "pd.set_option('display.max_rows', 30)\n",
    "\n",
    "def get_new_recommendations_df(recommendations_df, movie_id, user_id):\n",
    "    # Get the movie name\n",
    "    movie_name = items_df.loc[movie_id_example]['TITLE']\n",
    "    # Get the recommendations\n",
    "    get_recommendations_response = personalize_runtime.get_recommendations(\n",
    "        recommenderArn = workshop_recommender_more_like_x_arn,\n",
    "        itemId = str(movie_id),\n",
    "        userId = user_id,\n",
    "        numResults = 15,\n",
    "        metadataColumns = {\n",
    "            \"ITEMS\": ['TITLE']\n",
    "        }\n",
    "    )\n",
    "    # Builda new dataframe of recommendations\n",
    "    item_list = get_recommendations_response['itemList']\n",
    "    recommendation_list = []\n",
    "    for item in item_list:\n",
    "        try:\n",
    "            movie = item['metadata']['title']\n",
    "            recommendation_list.append(movie)\n",
    "        except:\n",
    "            pass\n",
    "    new_rec_df = pd.DataFrame(recommendation_list, columns = [movie_name])\n",
    "    # Add this dataframe to the old one\n",
    "    recommendations_df = pd.concat([recommendations_df, new_rec_df], axis=1)\n",
    "    return recommendations_df"
   ]
  },
  {
   "cell_type": "markdown",
   "metadata": {},
   "source": [
    "Let's sample some data from our dataset to test our \"More like X\" Recommender. Grab 5 random movies from our dataframe.\n",
    "\n",
    "Note: We are going to show similar titles, so you may want to re-run the sample until you recognize some of the movies listed"
   ]
  },
  {
   "cell_type": "code",
   "execution_count": null,
   "metadata": {},
   "outputs": [],
   "source": [
    "samples = items_df.sample(5)\n",
    "samples"
   ]
  },
  {
   "cell_type": "code",
   "execution_count": null,
   "metadata": {},
   "outputs": [],
   "source": [
    "more_like_x_recommendations_df = pd.DataFrame()\n",
    "movies = samples.index.tolist()\n",
    "\n",
    "for movie in movies:\n",
    "    more_like_x_recommendations_df = get_new_recommendations_df(more_like_x_recommendations_df, movie, test_user_id)\n",
    "\n",
    "more_like_x_recommendations_df"
   ]
  },
  {
   "cell_type": "markdown",
   "metadata": {},
   "source": [
    "You may notice that some of the items look the same, hopefully not all of them do (this is more likely with a smaller # of interactions, which will be more common with the movielens small dataset). Inside our fictional streaming service UnicornFlix we can use this recommender to provide recommendations within a movie detail page with the heading \"If you like this movie, you may also like\"."
   ]
  },
  {
   "cell_type": "markdown",
   "metadata": {},
   "source": [
    "### \"Top picks for you\" Recommender\n",
    "\n",
    "\"Top picks for you\" supports personalization of the items for a specific user based on their past behavior and can intake real time events in order to alter recommendations for a user without retraining. \n",
    "\n",
    "Since \"Top picks for you\" relies on having a sampling of users, let's load the data we need for that and select 3 random users. Since Movielens does not include user data, we will select 3 random numbers from the range of user id's in the dataset."
   ]
  },
  {
   "cell_type": "code",
   "execution_count": null,
   "metadata": {},
   "outputs": [],
   "source": [
    "users = random.sample(range(1, 600), 3)"
   ]
  },
  {
   "cell_type": "markdown",
   "metadata": {},
   "source": [
    "Now we render the recommendations for our 3 random users from above. After that, we will explore real-time interactions before moving on to Personalized Ranking.\n",
    "\n",
    "\"Top picks for you\" requires only a user as input, and it will return items that are relevant for that particular user. In this particular case the item is a movie.\n",
    "\n",
    "The cells below will handle getting recommendations from the \"Top picks for you\" Recommender and rendering the results. \n",
    "\n",
    "We will be using the `recommenderArn`, the `userId` as well as the number or results we want, `numResults`.\n",
    "\n",
    "Again, we create a helper function to render the results in a nice dataframe.\n",
    "\n",
    "#### API call results"
   ]
  },
  {
   "cell_type": "code",
   "execution_count": null,
   "metadata": {},
   "outputs": [],
   "source": [
    "# Update DF rendering\n",
    "pd.set_option('display.max_rows', 30)\n",
    "\n",
    "def get_new_recommendations_df_users(recommendations_df, user_id):\n",
    "\n",
    "    # Get the recommendations\n",
    "    get_recommendations_response = personalize_runtime.get_recommendations(\n",
    "        recommenderArn = workshop_recommender_top_picks_arn,\n",
    "        userId = str(user_id),\n",
    "        numResults = 15,\n",
    "        metadataColumns = {\n",
    "                \"ITEMS\": ['TITLE']\n",
    "        }\n",
    "    )\n",
    "    # Build a new dataframe of recommendations\n",
    "    item_list = get_recommendations_response['itemList']\n",
    "    recommendation_list = []\n",
    "    for item in item_list:\n",
    "        try:\n",
    "            movie = item['metadata']['title']\n",
    "        except:\n",
    "            movie = items_df.loc[item['itemId']]['TITLE']\n",
    "        recommendation_list.append(movie)\n",
    "    new_rec_df = pd.DataFrame(recommendation_list, columns = [user_id])\n",
    "    # Add this dataframe to the old one\n",
    "    recommendations_df = pd.concat([recommendations_df, new_rec_df], axis=1)\n",
    "    return recommendations_df"
   ]
  },
  {
   "cell_type": "code",
   "execution_count": null,
   "metadata": {},
   "outputs": [],
   "source": [
    "recommendations_df_users = pd.DataFrame()\n",
    "\n",
    "for user in users:\n",
    "    recommendations_df_users = get_new_recommendations_df_users(recommendations_df_users, user)\n",
    "\n",
    "recommendations_df_users"
   ]
  },
  {
   "cell_type": "markdown",
   "metadata": {},
   "source": [
    "Here we clearly see that the recommendations for each user are different. This recommender could be used inside UnicornFlix on the main page under the title \"Top picks for You\", where each subscriber would be provided a list or titles that are personalized to their viewing habits, we will work on changing these in realtime later in this notebook.\n",
    "\n",
    "If you were to need a cache for these results, you could start by running the API calls through all your users and store the results, or you could use a batch export."
   ]
  },
  {
   "cell_type": "markdown",
   "metadata": {},
   "source": [
    "## Interact with Campaigns <a class=\"anchor\" id=\"interact-campaigns\"></a>\n",
    "[Back to top](#top)"
   ]
  },
  {
   "cell_type": "markdown",
   "metadata": {},
   "source": [
    "### Personalized Ranking\n",
    "\n",
    "The core use case for personalized ranking is to take a collection of items and to render them in priority or probable order of interest for a user. For a VOD application you want dynamically render a personalized shelf/rail/carousel based on some information (director, location, superhero franchise, movie time period, etc...). This may not be information that you have in your metadata, so an item metadata filter will not work, however you may have this information within you system to generate the item list. \n",
    "\n",
    "To demonstrate this, we will use the same user from before and a random collection of items."
   ]
  },
  {
   "cell_type": "code",
   "execution_count": null,
   "metadata": {},
   "outputs": [],
   "source": [
    "rerank_user = user\n",
    "rerank_items = items_df.sample(15).index.tolist()\n",
    "rerank_list = []\n",
    "for item in rerank_items:\n",
    "    movie = items_df.loc[item]['TITLE']\n",
    "    rerank_list.append(movie)\n",
    "rerank_df = pd.DataFrame(rerank_list, columns = ['Un-Ranked'])\n",
    "rerank_df"
   ]
  },
  {
   "cell_type": "markdown",
   "metadata": {},
   "source": [
    "Now lets take that list and make the personalized ranking API call."
   ]
  },
  {
   "cell_type": "code",
   "execution_count": null,
   "metadata": {},
   "outputs": [],
   "source": [
    "rerank_item_list = []\n",
    "for item in rerank_items:\n",
    "    rerank_item_list.append(str(item))\n",
    "    \n",
    "# Get recommended reranking\n",
    "get_recommendations_response_rerank = personalize_runtime.get_personalized_ranking(\n",
    "        campaignArn = workshop_rerank_campaign_arn,\n",
    "        userId = str(rerank_user),\n",
    "        inputList = rerank_item_list,\n",
    "        metadataColumns = {\n",
    "                \"ITEMS\": ['TITLE']\n",
    "        }\n",
    ")"
   ]
  },
  {
   "cell_type": "markdown",
   "metadata": {},
   "source": [
    "We will add the reranked items as a second column to the original dataframe, for a side-by-side comparison."
   ]
  },
  {
   "cell_type": "code",
   "execution_count": null,
   "metadata": {},
   "outputs": [],
   "source": [
    "ranked_list = []\n",
    "item_list = get_recommendations_response_rerank['personalizedRanking']\n",
    "for item in item_list:\n",
    "    try: \n",
    "        movie = item['metadata']['title']\n",
    "    except:\n",
    "        movie = items_df.loc[item['itemId']]['TITLE']\n",
    "    ranked_list.append(movie)\n",
    "ranked_df = pd.DataFrame(ranked_list, columns = ['Re-Ranked'])\n",
    "rerank_df = pd.concat([rerank_df, ranked_df], axis=1)\n",
    "rerank_df"
   ]
  },
  {
   "cell_type": "markdown",
   "metadata": {},
   "source": [
    "You can see above how each entry was re-ordered based on the model's understanding of the user. This is a popular task when you have a collection of items to surface a user that cannot be easily categorized in your metadata, for instance \"Critics picks\" which are curated by a person."
   ]
  },
  {
   "cell_type": "markdown",
   "metadata": {},
   "source": [
    "# Filters <a class=\"anchor\" id=\"filters\"></a>\n",
    "\n",
    "## Create Filters <a class=\"anchor\" id=\"create-filters\"></a>\n",
    "[Back to top](#top)\n",
    "\n",
    "Personalize can utilize either [static or dynamic filters](https://docs.aws.amazon.com/personalize/latest/dg/filter.html). Static filters are where the filter properties are built into the filter itself, which makes invocation simpler, but gives less flexibility. An example of this would be a \"Horror\" movie filter, which invokes the get_recommendations_response api with the specific filter of GENRE = Horror. In order to create a recommendation for each filter that would require 10+ filters. Personalize also supports dynamic filters, where the values can be passed at runtime, allowing for a single filter of GENRE, where the actual genre is passed at runtime. \n",
    "\n",
    "Filters can be created for fields of both Items and Events. \n",
    "\n",
    "A few common use cases for dynamic filters in Video On Demand are:\n",
    "\n",
    "Categorical filters based on Item Metadata - Often your item metadata will have information about the title such as Genre, Keyword, Year, Director, Actor etc. Filtering on these can provide recommendations within that data, such as action movies, Steven Spielberg movies, Movies from 1995 etc.\n",
    "\n",
    "Range based filters based on Item Metadata - Personalize supports range operations in both static and dynamic filters. Filtering based on a range can be used to create recommendations such as \"Whats on now\" in live tv scenarios, best of decade, Movies rated over 8/10 stars etc\n",
    "\n",
    "Events - you may want to filter out certain events and provide results based on those events, such as moving a title from a \"suggestions to watch\" recommendation to a \"watch again\" recommendations.\n"
   ]
  },
  {
   "cell_type": "markdown",
   "metadata": {},
   "source": [
    "### Create the Genre filter"
   ]
  },
  {
   "cell_type": "markdown",
   "metadata": {},
   "source": [
    "Within UnicornFlix, our catalog includes content from many different genres (Action, Documentary, Sci-Fi etc). Since there are a lot of genres to filter on, we will create a dynamic filter using the dynamic variable $GENRE, this will allow us to pass in the variable at runtime rather than create a static filter for each genre."
   ]
  },
  {
   "cell_type": "code",
   "execution_count": null,
   "metadata": {},
   "outputs": [],
   "source": [
    "filter_name = 'Genre'\n",
    "try:\n",
    "    create_genre_filter_response = personalize.create_filter(\n",
    "        name=filter_name,\n",
    "        datasetGroupArn = workshop_dataset_group_arn,\n",
    "        filterExpression = 'INCLUDE ItemID WHERE Items.GENRES IN ($GENRE)'\n",
    "    )\n",
    "    \n",
    "    genre_filter_arn = create_genre_filter_response['filterArn']\n",
    "\n",
    "    print('Creating the Personalize filter with genre_filter_arn {}.'.format(genre_filter_arn))\n",
    "    \n",
    "except personalize.exceptions.ResourceAlreadyExistsException as e:\n",
    "    genre_filter_arn = 'arn:aws:personalize:'+region+':'+account_id+':filter/'+filter_name\n",
    "    print('The Personalize filter {} already exists.'.format(filter_name))\n",
    "    print ('\\nWe will be using the existing Personalize Filter with genre_filter_arn = {}'.format(genre_filter_arn))\n",
    "    "
   ]
  },
  {
   "cell_type": "markdown",
   "metadata": {},
   "source": [
    "### Create the Promotion filter"
   ]
  },
  {
   "cell_type": "code",
   "execution_count": null,
   "metadata": {},
   "outputs": [],
   "source": [
    "promotion_filter_name = 'promotion'\n",
    "try:\n",
    "    create_promotion_filter_response = personalize.create_filter(\n",
    "        name=promotion_filter_name,\n",
    "        datasetGroupArn = workshop_dataset_group_arn,\n",
    "        filterExpression = 'INCLUDE ItemID WHERE Items.PROMOTION IN (\"true\")'\n",
    "    )\n",
    "    \n",
    "    promotion_filter_arn = create_promotion_filter_response['filterArn']\n",
    "    print('Creating the Personalize filter with promotion_filter_arn {}.'.format(promotion_filter_arn))\n",
    "    \n",
    "\n",
    "except personalize.exceptions.ResourceAlreadyExistsException as e:\n",
    "    promotion_filter_arn = 'arn:aws:personalize:'+region+':'+account_id+':filter/'+promotion_filter_name\n",
    "    print('The Personalize filter {} already exists.'.format(promotion_filter_name))\n",
    "    print ('\\nWe will be using the existing Personalize Filter with promotion_filter_arn = {}'.format(promotion_filter_arn))\n",
    "    "
   ]
  },
  {
   "cell_type": "markdown",
   "metadata": {},
   "source": [
    "### Create the Year Range filter\n",
    "Personalize can also filter based on numerical ranges. This can be helpful if you want to look for items that are within a given time window, above a certain rating etc. For that we will create a filter for decades."
   ]
  },
  {
   "cell_type": "code",
   "execution_count": null,
   "metadata": {},
   "outputs": [],
   "source": [
    "year_range_filter_name = 'YearRange'\n",
    "try:\n",
    "    create_genre_filter_response = personalize.create_filter(\n",
    "        name=year_range_filter_name,\n",
    "        datasetGroupArn = workshop_dataset_group_arn,\n",
    "        filterExpression = 'INCLUDE ItemID WHERE Items.YEAR >= $YEAR1 AND Items.YEAR < $YEAR2'\n",
    "    )\n",
    "    \n",
    "    year_range_filter_arn = create_genre_filter_response['filterArn']\n",
    "    print('Creating the Personalize filter with year_range_filter_arn {}.'.format(year_range_filter_arn))\n",
    "    \n",
    "\n",
    "except personalize.exceptions.ResourceAlreadyExistsException as e:\n",
    "    year_range_filter_arn = 'arn:aws:personalize:'+region+':'+account_id+':filter/'+year_range_filter_name\n",
    "    print('The Personalize filter {} already exists.'.format(year_range_filter_name))\n",
    "    print ('\\nWe will be using the existing Personalize Filter with year_range_filter_arn = {}'.format(year_range_filter_arn))\n",
    "    \n",
    "    \n",
    "    "
   ]
  },
  {
   "cell_type": "markdown",
   "metadata": {},
   "source": [
    "### Create filters for Watched and Unwatched movies\n",
    "Lets also create 2 event filters for watched and unwatched content. The Top picks for you and More like X already have a filter on implemented to filter out watched events."
   ]
  },
  {
   "cell_type": "code",
   "execution_count": null,
   "metadata": {},
   "outputs": [],
   "source": [
    "watched_filter_name = 'watched'\n",
    "\n",
    "try:\n",
    "    create_watched_filter_response = personalize.create_filter(\n",
    "        name=watched_filter_name,\n",
    "        datasetGroupArn = workshop_dataset_group_arn,\n",
    "        filterExpression = 'INCLUDE ItemID WHERE Interactions.event_type IN (\"Watch\")'\n",
    "    )\n",
    "    \n",
    "    watched_filter_arn = create_watched_filter_response['filterArn']\n",
    "    print('Creating the Personalize filter with watched_filter_arn {}.'.format(watched_filter_arn))\n",
    "    \n",
    "\n",
    "except personalize.exceptions.ResourceAlreadyExistsException as e:\n",
    "    watched_filter_arn = 'arn:aws:personalize:'+region+':'+account_id+':filter/'+watched_filter_name\n",
    "    print('The Personalize filter {} already exists.'.format(watched_filter_name))\n",
    "    print ('\\nWe will be using the existing Personalize Filter with watched_filter_arn = {}'.format(watched_filter_arn))\n",
    "    \n",
    "\n",
    "unwatched_filter_name = 'unwatched'\n",
    "try:\n",
    "    create_unwatched_filter_response = personalize.create_filter(\n",
    "        name = unwatched_filter_name,\n",
    "        datasetGroupArn = workshop_dataset_group_arn,\n",
    "        filterExpression = 'EXCLUDE ItemID WHERE Interactions.event_type IN (\"Watch\")'\n",
    "    )\n",
    "    unwatched_filter_arn = create_unwatched_filter_response['filterArn']\n",
    "    print('Creating the Personalize filter with unwatched_filter_arn {}.'.format(unwatched_filter_arn))\n",
    "\n",
    "except personalize.exceptions.ResourceAlreadyExistsException as e:\n",
    "    unwatched_filter_arn = 'arn:aws:personalize:'+region+':'+account_id+':filter/'+unwatched_filter_name\n",
    "    print('\\nThe Personalize filter {} already exists.'.format(unwatched_filter_name))\n",
    "    print ('\\nWe will be using the existing Personalize Filter with unwatched_filter_arn = {}'.format(unwatched_filter_arn))\n",
    "    "
   ]
  },
  {
   "cell_type": "markdown",
   "metadata": {},
   "source": [
    "Before we move on we want to add those filters to a list as well so they can be used later."
   ]
  },
  {
   "cell_type": "code",
   "execution_count": null,
   "metadata": {},
   "outputs": [],
   "source": [
    "interaction_filter_arns = [watched_filter_arn, unwatched_filter_arn]"
   ]
  },
  {
   "cell_type": "code",
   "execution_count": null,
   "metadata": {},
   "outputs": [],
   "source": [
    "interaction_filter_arns"
   ]
  },
  {
   "cell_type": "code",
   "execution_count": null,
   "metadata": {},
   "outputs": [],
   "source": [
    "max_time = time.time() + 10*60*60 # 10 hours\n",
    "while time.time() < max_time:\n",
    "\n",
    "    # Genre filter\n",
    "    version_response = personalize.describe_filter(\n",
    "        filterArn = genre_filter_arn\n",
    "    )\n",
    "    status_genre_filter = version_response[\"filter\"][\"status\"]\n",
    "\n",
    "    if status_genre_filter == \"ACTIVE\":\n",
    "        print(\"Build succeeded for {}\".format(genre_filter_arn))\n",
    "        \n",
    "    elif status_genre_filter == \"CREATE FAILED\":\n",
    "        print(\"Build failed for {}\".format(genre_filter_arn))\n",
    "        break\n",
    "        \n",
    "    if not status_genre_filter == \"ACTIVE\":\n",
    "        print(\"The filter Genre is still in progress\")\n",
    "    else:\n",
    "        print(\"The filter Genre is ACTIVE\")\n",
    "\n",
    "    # Promotion filter\n",
    "    version_response = personalize.describe_filter(\n",
    "        filterArn = promotion_filter_arn\n",
    "    )\n",
    "    status_promotion_filter = version_response[\"filter\"][\"status\"]\n",
    "\n",
    "    if status_promotion_filter == \"ACTIVE\":\n",
    "        print(\"Build succeeded for {}\".format(promotion_filter_arn))\n",
    "        \n",
    "    elif status_promotion_filter == \"CREATE FAILED\":\n",
    "        print(\"Build failed for {}\".format(promotion_filter_arn))\n",
    "        break\n",
    "        \n",
    "    if not status_promotion_filter == \"ACTIVE\":\n",
    "        print(\"The filter Promotion is still in progress\")\n",
    "    else:\n",
    "        print(\"The filter Promotion is ACTIVE\")   \n",
    "        \n",
    "        \n",
    "    # Decade filter\n",
    "    version_response = personalize.describe_filter(\n",
    "        filterArn = year_range_filter_arn\n",
    "    )\n",
    "    status_year_range_filter = version_response[\"filter\"][\"status\"]\n",
    "\n",
    "    if status_year_range_filter == \"ACTIVE\":\n",
    "        print(\"Build succeeded for {}\".format(year_range_filter_arn))\n",
    "        \n",
    "    elif status_year_range_filter == \"CREATE FAILED\":\n",
    "        print(\"Build failed for {}\".format(year_range_filter_arn))\n",
    "        break\n",
    "        \n",
    "    if not status_year_range_filter == \"ACTIVE\":\n",
    "        print(\"The filter YearRange is still in progress\")\n",
    "    else:\n",
    "        print(\"The filter YearRange is ACTIVE\")\n",
    "\n",
    "    # Watched filter\n",
    "    version_response = personalize.describe_filter(\n",
    "        filterArn = watched_filter_arn\n",
    "    )\n",
    "    status_watched_filter = version_response[\"filter\"][\"status\"]\n",
    "\n",
    "    if status_watched_filter == \"ACTIVE\":\n",
    "        print(\"Build succeeded for {}\".format(watched_filter_arn))\n",
    "        \n",
    "    elif status_watched_filter == \"CREATE FAILED\":\n",
    "        print(\"Build failed for {}\".format(watched_filter_arn))\n",
    "        break\n",
    "        \n",
    "    if not status_watched_filter == \"ACTIVE\":\n",
    "        print(\"The filter Watched is still in progress\")\n",
    "    else:\n",
    "        print(\"The filter Watched is ACTIVE\")\n",
    " \n",
    "    # Unatched filter\n",
    "    version_response = personalize.describe_filter(\n",
    "        filterArn = unwatched_filter_arn\n",
    "    )\n",
    "    status_unwatched_filter = version_response[\"filter\"][\"status\"]\n",
    "\n",
    "    if status_unwatched_filter == \"ACTIVE\":\n",
    "        print(\"Build succeeded for {}\".format(unwatched_filter_arn))\n",
    "        \n",
    "    elif status_unwatched_filter == \"CREATE FAILED\":\n",
    "        print(\"Build failed for {}\".format(unwatched_filter_arn))\n",
    "        break\n",
    "        \n",
    "    if not status_unwatched_filter == \"ACTIVE\":\n",
    "        print(\"The filter Unwatched is still in progress\")\n",
    "    else:\n",
    "        print(\"The filter Unwatched is ACTIVE\")\n",
    "    \n",
    "    if status_genre_filter == \"ACTIVE\" and status_year_range_filter == 'ACTIVE' and status_promotion_filter  == 'ACTIVE' and status_watched_filter == \"ACTIVE\" and status_unwatched_filter == \"ACTIVE\":\n",
    "        break\n",
    "\n",
    "    print()\n",
    "    time.sleep(30)"
   ]
  },
  {
   "cell_type": "markdown",
   "metadata": {},
   "source": [
    "## Using Filters <a class=\"anchor\" id=\"using-filters\"></a>\n",
    "[Back to top](#top)\n",
    "\n",
    "Now that the Filters have been created we can use them to filter our recommendations."
   ]
  },
  {
   "cell_type": "markdown",
   "metadata": {},
   "source": [
    "### Get recommendations using a static filter\n",
    "\n",
    "Earlier we chose to promote a specific set of movies (movies set in or about Las Vegas), which we created the item metadata field of \"PROMOTION\", and set it to true for 35 movies. We will use a static filter to ensure that these items are retured in recommendations. First we will use a static filter to ensure that ALL recommendations meet this criteria of the filter."
   ]
  },
  {
   "cell_type": "code",
   "execution_count": null,
   "metadata": {},
   "outputs": [],
   "source": [
    "# Update DF rendering\n",
    "pd.set_option('display.max_rows', 30)\n",
    "\n",
    "def get_new_recommendations_w_promotions_only_df_users(recommendations_df, user_id):\n",
    "\n",
    "    # Get the recommendations\n",
    "    get_recommendations_response = personalize_runtime.get_recommendations(\n",
    "        recommenderArn = workshop_recommender_top_picks_arn,\n",
    "        userId = str(user_id),\n",
    "        filterArn = promotion_filter_arn,\n",
    "        numResults = 15,\n",
    "        metadataColumns = {\n",
    "            \"ITEMS\": ['TITLE']\n",
    "        }\n",
    "    )\n",
    "    # Build a new dataframe of recommendations\n",
    "    itemList = get_recommendations_response['itemList']\n",
    "    recommendation_list = []\n",
    "    for item in itemList:\n",
    "        movie = item['metadata']['title']\n",
    "        recommendation_list.append(movie)\n",
    "    new_rec_df = pd.DataFrame(recommendation_list, columns = [user_id])\n",
    "    # Add this dataframe to the old one\n",
    "    recommendations_df = pd.concat([recommendations_df, new_rec_df], axis=1)\n",
    "    return recommendations_df"
   ]
  },
  {
   "cell_type": "code",
   "execution_count": null,
   "metadata": {},
   "outputs": [],
   "source": [
    "recommendations_df_users = pd.DataFrame()\n",
    "\n",
    "for user in users:\n",
    "    recommendations_df_users = get_new_recommendations_w_promotions_only_df_users(recommendations_df_users, user)\n",
    "\n",
    "recommendations_df_users"
   ]
  },
  {
   "cell_type": "markdown",
   "metadata": {},
   "source": [
    "In this scenario for the 3 test users we got recommendations for previously, the static filter limits the recommendations to only those that meet the filter criteria. This does not provide a good balance of recommendations that are relevant and recommendations that meet the filter criteria. We could use this inside UnicornFlix under a carousel/rail named \"Vegas Movies\", as it is only providing recommendations for Vegas movies."
   ]
  },
  {
   "cell_type": "markdown",
   "metadata": {},
   "source": [
    "### Get recommendations using a promotions filter\n",
    "\n",
    "Personalize has a capability to \"promote\" certain items, which can be defined as a promotion filter. A configurable subset of the recommendations returned will be from the items defined as promotion, in this case 30%. This should provide a balance of items that are the most relevant, and items from the promoted items. Note: The promoted items will be the most relevant items in the promoted items subset based on that users interactions."
   ]
  },
  {
   "cell_type": "code",
   "execution_count": null,
   "metadata": {},
   "outputs": [],
   "source": [
    "# Update DF rendering\n",
    "pd.set_option('display.max_rows', 30)\n",
    "\n",
    "def get_new_recommendations_w_promotions_df_users(recommendations_df, user_id):\n",
    "    # Get the recommendations\n",
    "    get_recommendations_response = personalize_runtime.get_recommendations(\n",
    "        recommenderArn = workshop_recommender_top_picks_arn,\n",
    "        userId = str(user_id),\n",
    "        numResults = 15,\n",
    "        promotions = [{\n",
    "        \"name\" : \"vegas_promotion\",\n",
    "        \"percentPromotedItems\" : 30,\n",
    "        \"filterArn\": promotion_filter_arn,\n",
    "        }],\n",
    "        metadataColumns = {\n",
    "            \"ITEMS\": ['TITLE']\n",
    "        }\n",
    "    )\n",
    "    # Build a new dataframe of recommendations\n",
    "    itemList = get_recommendations_response['itemList']\n",
    "    promotion_list = []\n",
    "    recommendation_list = []\n",
    "    for item in itemList:\n",
    "        try:\n",
    "            movie = item['metadata']['title']\n",
    "        except:\n",
    "            movie = items_df.loc[item['itemId']]['TITLE']\n",
    "        try: \n",
    "            item[\"promotionName\"]\n",
    "            promotion_list.append('Y')\n",
    "        except KeyError:\n",
    "            promotion_list.append('N')\n",
    "        recommendation_list.append(movie)\n",
    "    new_rec_df = pd.DataFrame(recommendation_list, columns = [user_id])\n",
    "    promotions_df = pd.DataFrame(promotion_list, columns = [user_id])\n",
    "    promotions_df.columns = ['Promotion']\n",
    "    # Add this dataframe to the old one\n",
    "    recommendations_df = pd.concat([recommendations_df, new_rec_df], axis=1)\n",
    "    recommendations_df = pd.concat([recommendations_df, promotions_df], axis=1)\n",
    "    return recommendations_df"
   ]
  },
  {
   "cell_type": "code",
   "execution_count": null,
   "metadata": {},
   "outputs": [],
   "source": [
    "recommendations_df_users = pd.DataFrame()\n",
    "\n",
    "for user in users:\n",
    "    recommendations_df_users = get_new_recommendations_w_promotions_df_users(recommendations_df_users, user)\n",
    "\n",
    "recommendations_df_users"
   ]
  },
  {
   "cell_type": "markdown",
   "metadata": {},
   "source": [
    "We can see that promotions are mixed in with the most relevant items for the users. This is different from applying a filter directly where **all** items recommended would belong to the promotion. If a user already had certain promoted items in their recommendations before apllying the promotions, they will still be recommended. Inside UnicornFlix, we could use this as the main page \"Top picks for you\" carousel/rail, where the recommendations are across all of the catalog titles, with Vegas movies being inserted into the recommndations."
   ]
  },
  {
   "cell_type": "markdown",
   "metadata": {},
   "source": [
    "### Get recommendations using the date range filter"
   ]
  },
  {
   "cell_type": "markdown",
   "metadata": {},
   "source": [
    "First lets create functions to get recommendations and pass in dynamic filter values.\n"
   ]
  },
  {
   "cell_type": "code",
   "execution_count": null,
   "metadata": {},
   "outputs": [],
   "source": [
    "def get_new_recommendations_df_by_year_range_filter(recommendations_df, user_id, year_range_filter_arn, filter_value1, filter_value2):\n",
    "    # Get the recommendations\n",
    "    get_recommendations_response = personalize_runtime.get_recommendations(\n",
    "        recommenderArn = workshop_recommender_top_picks_arn,\n",
    "        userId = str(user_id),\n",
    "        filterArn = year_range_filter_arn,\n",
    "        filterValues = {\"YEAR1\": filter_value1,\"YEAR2\": filter_value2},\n",
    "        numResults = 15,\n",
    "        metadataColumns = {\n",
    "            \"ITEMS\": ['TITLE']\n",
    "        }\n",
    "    )\n",
    "    # Build a new dataframe of recommendations\n",
    "    item_list = get_recommendations_response['itemList']\n",
    "    recommendation_list = []\n",
    "    for item in item_list:\n",
    "        movie = item['metadata']['title']\n",
    "        recommendation_list.append(movie)\n",
    "    filter_name = year_range_filter_arn.split('/')[1]\n",
    "    new_rec_DF = pd.DataFrame(recommendation_list, columns = [filter_value1])\n",
    "    # Add this dataframe to the old one\n",
    "    recommendations_df = pd.concat([recommendations_df, new_rec_DF], axis=1)\n",
    "    return recommendations_df"
   ]
  },
  {
   "cell_type": "code",
   "execution_count": null,
   "metadata": {},
   "outputs": [],
   "source": [
    "decades_to_filter = [1930,1940,1950,1960,1970,1980,1990,2000,2010]"
   ]
  },
  {
   "cell_type": "code",
   "execution_count": null,
   "metadata": {},
   "outputs": [],
   "source": [
    "# Iterate through Decades\n",
    "recommendations_df_decade_shelves = pd.DataFrame()\n",
    "for decade in decades_to_filter:\n",
    "    recommendations_df_decade_shelves = get_new_recommendations_df_by_year_range_filter(recommendations_df_decade_shelves, user, year_range_filter_arn , str(decade), str(decade+10))\n",
    "    \n",
    "recommendations_df_decade_shelves"
   ]
  },
  {
   "cell_type": "markdown",
   "metadata": {},
   "source": [
    "We can see that creating just one filter, we are able to get a variety of subsets of movies that can be used to populate multiple carousels/rails in UnicornFlix (\"1990s movies\", \"1980s movies\" etc)"
   ]
  },
  {
   "cell_type": "markdown",
   "metadata": {},
   "source": [
    "### Get recommendations unsing the genre filter\n",
    "\n",
    "Now that we have the ability to generate recommendations via the \"Top Picks For You\" Recommender, we would like to extend this feature to all of the rails/shleves in the UnicornFlix app. We can use a dynamic filter to provide recommendations based on any item metadata field. In this case we will use the \"GENRES\" categorical information in the IMDb dataset. "
   ]
  },
  {
   "cell_type": "code",
   "execution_count": null,
   "metadata": {},
   "outputs": [],
   "source": [
    "def get_new_recommendations_df_by_genre_filter(recommendations_df, user_id, genre_filter_arn, filter_values):\n",
    "    # Get the recommendations\n",
    "    get_recommendations_response = personalize_runtime.get_recommendations(\n",
    "        recommenderArn = workshop_recommender_top_picks_arn,\n",
    "        userId = str(user_id),\n",
    "        filterArn = genre_filter_arn,\n",
    "        filterValues = { \"GENRE\": \"\\\"\" + filter_values + \"\\\"\"},\n",
    "        numResults = 15,\n",
    "        metadataColumns = {\n",
    "            \"ITEMS\": ['TITLE']\n",
    "        }\n",
    "    )\n",
    "    # Build a new dataframe of recommendations\n",
    "    item_list = get_recommendations_response['itemList']\n",
    "    recommendation_list = []\n",
    "    for item in item_list:\n",
    "        try:\n",
    "            movie = item['metadata']['title']\n",
    "        except:\n",
    "            movie = items_df.loc[item['itemId']]['TITLE']\n",
    "        recommendation_list.append(movie)\n",
    "    filter_name = genre_filter_arn.split('/')[1]\n",
    "    new_rec_DF = pd.DataFrame(recommendation_list, columns = [filter_values])\n",
    "    # Add this dataframe to the old one\n",
    "    recommendations_df = pd.concat([recommendations_df, new_rec_DF], axis=1)\n",
    "    return recommendations_df"
   ]
  },
  {
   "cell_type": "code",
   "execution_count": null,
   "metadata": {},
   "outputs": [],
   "source": [
    "# Create a dataframe for the items by reading in the correct source CSV\n",
    "items_meta_df = items_df\n",
    "# Render some sample data\n",
    "items_meta_df.head(5)"
   ]
  },
  {
   "cell_type": "markdown",
   "metadata": {},
   "source": [
    "Now what we want to do is determine the genres to filter on, for that we need a list of all genres. First we will get all the unique values of the column GENRE, then split strings on | if they exist, everyone will then get added to a long list which will be converted to a set for efficiency. That set will then be made into a list so that it can be iterated, and we can then use the get recommendatioins API."
   ]
  },
  {
   "cell_type": "code",
   "execution_count": null,
   "metadata": {},
   "outputs": [],
   "source": [
    "unique_genre_field_values = items_meta_df['GENRES'].unique()\n",
    "\n",
    "genre_val_list = []\n",
    "\n",
    "def process_for_bar_char(val, val_list):\n",
    "    if '|' in val:\n",
    "        values = val.split('|')\n",
    "        for item in values:\n",
    "            val_list.append(item)\n",
    "    elif '(' in val:\n",
    "        pass\n",
    "    else:\n",
    "        val_list.append(val)\n",
    "    return val_list\n",
    "    \n",
    "\n",
    "for val in unique_genre_field_values:\n",
    "    genre_val_list = process_for_bar_char(val, genre_val_list)\n",
    "\n",
    "genres_to_filter = list(set(genre_val_list))"
   ]
  },
  {
   "cell_type": "code",
   "execution_count": null,
   "metadata": {},
   "outputs": [],
   "source": [
    "genres_to_filter"
   ]
  },
  {
   "cell_type": "code",
   "execution_count": null,
   "metadata": {},
   "outputs": [],
   "source": [
    "# Iterate through Genres\n",
    "recommendations_df_genre_shelves = pd.DataFrame()\n",
    "for genre in genres_to_filter:\n",
    "    recommendations_df_genre_shelves = get_new_recommendations_df_by_genre_filter(recommendations_df_genre_shelves, user, genre_filter_arn , genre)\n",
    "    \n",
    "recommendations_df_genre_shelves"
   ]
  },
  {
   "cell_type": "markdown",
   "metadata": {},
   "source": [
    "Great! Now we have a personalized list of recommendations for each genre in our catalog. We can use this on the homepage for each of the carousels/rails that correspond to genre, such as \"Action movies\", \"Documentaries\" etc."
   ]
  },
  {
   "cell_type": "markdown",
   "metadata": {},
   "source": [
    "## Real-time Events<a class=\"anchor\" id=\"real-time\"></a>\n",
    "[Back to top](#top)\n",
    "\n",
    "The next topic is real-time events. Personalize has the ability to listen to events from your application in order to update the recommendations shown to the user. This is especially useful in media workloads, like video-on-demand, where a customer's intent may differ based on if they are watching with their children or on their own.\n",
    "\n",
    "Additionally the events that are recorded via this system are stored until a delete call from you is issued, and they are used as historical data alongside the other interaction data you provided when you train your next models.\n",
    "\n",
    "Start by creating an event tracker that is attached to the dataset group. This event tracker will add information to the dataset and will influence the recommendations."
   ]
  },
  {
   "cell_type": "code",
   "execution_count": null,
   "metadata": {},
   "outputs": [],
   "source": [
    "event_tracker_name = 'MovieTracker'\n",
    "try: \n",
    "    create_event_tracker_response = personalize.create_event_tracker(\n",
    "        name = event_tracker_name,\n",
    "        datasetGroupArn=workshop_dataset_group_arn\n",
    "        )\n",
    "    event_tracker_arn = create_event_tracker_response['eventTrackerArn']\n",
    "    print(json.dumps(create_event_tracker_response, indent=2))\n",
    "    print ('\\nCreating the event_tracker with event_tracker_arn = {}'.format(event_tracker_arn))\n",
    "    tracking_id = create_event_tracker_response['trackingId']\n",
    "    print ('\\nAnd trackingId = {}'.format(tracking_id))\n",
    "    \n",
    "\n",
    "except personalize.exceptions.ResourceAlreadyExistsException as e:\n",
    "    event_tracker_list = personalize.list_event_trackers( \n",
    "        datasetGroupArn= workshop_dataset_group_arn\n",
    "    )['eventTrackers']\n",
    "    \n",
    "    event_tracker_arn = event_tracker_list[0]['eventTrackerArn']\n",
    "    \n",
    "    describe_event_tracker_response = personalize.describe_event_tracker(\n",
    "        eventTrackerArn=event_tracker_arn\n",
    "    )\n",
    "    tracking_id = describe_event_tracker_response['eventTracker']['trackingId']\n",
    "    \n",
    "    print ('\\nThe the Event Tracker with event_tracker_name {} already exists'.format(event_tracker_name))\n",
    "    print ('\\nWe will be using the existing Event Tracker with event_tracker_arn = {}'.format(event_tracker_arn))\n",
    "    print ('\\nAnd trackingId = {}'.format(tracking_id))"
   ]
  },
  {
   "cell_type": "code",
   "execution_count": null,
   "metadata": {},
   "outputs": [],
   "source": [
    "max_time = time.time() + 3*60*60 # 3 hours\n",
    "while time.time() < max_time:\n",
    "\n",
    "    version_response = personalize.describe_event_tracker(\n",
    "        eventTrackerArn = event_tracker_arn\n",
    "    )\n",
    "    status = version_response['eventTracker']['status']\n",
    "\n",
    "    if status == 'ACTIVE':\n",
    "        print('Build succeeded for {}'.format(event_tracker_arn))\n",
    "    elif status == \"CREATE FAILED\":\n",
    "        print('Build failed for {}'.format(wevent_tracker_arn))\n",
    "        in_progress_campaigns.remove(event_tracker_arn)\n",
    "    \n",
    "    if status == 'ACTIVE' or status == 'CREATE FAILED':\n",
    "        break\n",
    "    else:\n",
    "        print('The event tracker build is still in progress')\n",
    "        \n",
    "    time.sleep(15)"
   ]
  },
  {
   "cell_type": "markdown",
   "metadata": {},
   "source": [
    "We will create some code that simulates a user interacting with a particular item. After running this code, you will get recommendations that differ from the results above.\n",
    "\n",
    "We start by creating some methods for the simulation of real time events."
   ]
  },
  {
   "cell_type": "code",
   "execution_count": null,
   "metadata": {},
   "outputs": [],
   "source": [
    "sessionDict = {}\n",
    "\n",
    "def send_movie_click(user_id, item_id, event_type):\n",
    "    \"\"\"\n",
    "    Simulates a click as an envent\n",
    "    to send an event to Amazon Personalize's Event Tracker\n",
    "    \"\"\"\n",
    "    # Configure Session\n",
    "    session_dict = {}\n",
    "    try:\n",
    "        session_id = sessionDict[str(user_id)]\n",
    "    except:\n",
    "        session_dict[str(user_id)] = str(uuid.uuid1())\n",
    "        session_id = session_dict[str(user_id)]\n",
    "        \n",
    "    # Configure Properties:\n",
    "    event = {\n",
    "    \"itemId\": str(item_id),\n",
    "    }\n",
    "    event_json = json.dumps(event)\n",
    "        \n",
    "    # Make Call\n",
    "    \n",
    "    personalize_events.put_events(\n",
    "    trackingId = tracking_id,\n",
    "    userId= str(user_id),\n",
    "    sessionId = session_id,\n",
    "    eventList = [{\n",
    "        'sentAt': int(time.time()),\n",
    "        'eventType': str(event_type),\n",
    "        'properties': event_json\n",
    "        }]\n",
    "    )\n",
    "\n",
    "def get_new_recommendations_df_users_real_time(recommendations_df, user_id, item_id, event_type):\n",
    "    # Get the artist name (header of column)\n",
    "    movie_name = items_df.loc[item_id]['TITLE']\n",
    "    \n",
    "    # Interact with different movies\n",
    "    print('sending event ' + event_type + ' for ' + movie_name)\n",
    "    send_movie_click(user_id=user_id, item_id=item_id,event_type=event_type)\n",
    "    # Get the recommendations (note you should have a base recommendation DF created before)\n",
    "    time.sleep(2)\n",
    "    get_recommendations_response = personalize_runtime.get_recommendations(\n",
    "        recommenderArn = workshop_recommender_top_picks_arn,\n",
    "        userId = str(user_id),\n",
    "        numResults = 15,\n",
    "        metadataColumns = {\n",
    "            \"ITEMS\": ['TITLE']\n",
    "        }\n",
    "    )\n",
    "    # Build a new dataframe of recommendations\n",
    "    item_list = get_recommendations_response['itemList']\n",
    "    recommendation_list = []\n",
    "    for item in item_list:\n",
    "        try:\n",
    "            movie = item['metadata']['title']\n",
    "        except:\n",
    "            movie = items_df.loc[item['itemId']]['TITLE']\n",
    "        recommendation_list.append(movie)\n",
    "    new_rec_df = pd.DataFrame(recommendation_list, columns = [movie_name])\n",
    "    # Add this dataframe to the old one\n",
    "    #recommendations_df = recommendations_df.join(new_rec_DF)\n",
    "    recommendations_df = pd.concat([recommendations_df, new_rec_df], axis=1)\n",
    "    return recommendations_df"
   ]
  },
  {
   "cell_type": "markdown",
   "metadata": {},
   "source": [
    "At this point, we haven't generated any real-time events yet; we have only set up the code. To compare the recommendations before and after the real-time events, let's pick one user and generate the original recommendations for them."
   ]
  },
  {
   "cell_type": "code",
   "execution_count": null,
   "metadata": {},
   "outputs": [],
   "source": [
    "# Get recommendations for the user\n",
    "get_recommendations_response = personalize_runtime.get_recommendations(\n",
    "        recommenderArn = workshop_recommender_top_picks_arn,\n",
    "        userId = str(rerank_user),\n",
    "        numResults = 15,\n",
    "        metadataColumns = {\n",
    "            \"ITEMS\": ['TITLE']\n",
    "        }\n",
    "    )\n",
    "\n",
    "# Build a new dataframe for the recommendations\n",
    "item_list = get_recommendations_response['itemList']\n",
    "recommendation_list = []\n",
    "for item in item_list:\n",
    "    try:\n",
    "        movie = item['metadata']['title']\n",
    "    except:\n",
    "        movie = items_df.loc[item['itemId']]['TITLE']\n",
    "    recommendation_list.append(movie)\n",
    "user_recommendations_df = pd.DataFrame(recommendation_list, columns = [rerank_user])\n",
    "user_recommendations_df"
   ]
  },
  {
   "cell_type": "markdown",
   "metadata": {},
   "source": [
    "Now we have a list of recommendations for this user before we have applied any real-time events. Now let's pick 3 random artists which we will simulate our user interacting with, and then see how this changes the recommendations."
   ]
  },
  {
   "cell_type": "code",
   "execution_count": null,
   "metadata": {},
   "outputs": [],
   "source": [
    "# Next generate 3 random movies\n",
    "movies = items_df.sample(3).index.tolist()"
   ]
  },
  {
   "cell_type": "code",
   "execution_count": null,
   "metadata": {},
   "outputs": [],
   "source": [
    "# Note this will take about 15 seconds to complete due to the sleeps\n",
    "for movie in movies:\n",
    "    user_recommendations_df = get_new_recommendations_df_users_real_time(user_recommendations_df, rerank_user, movie,'click')\n",
    "    time.sleep(5)\n",
    "    "
   ]
  },
  {
   "cell_type": "markdown",
   "metadata": {},
   "source": [
    "Now we can look at how the click events changed the recommendations. Note: given that only a single movie was clicked between each get recomendations call, the changes may be subtle. The more interactions a user sends in the larger the change in recommendations will be."
   ]
  },
  {
   "cell_type": "code",
   "execution_count": null,
   "metadata": {},
   "outputs": [],
   "source": [
    "user_recommendations_df"
   ]
  },
  {
   "cell_type": "markdown",
   "metadata": {},
   "source": [
    "In the cell above, the first column after the index is the user's default recommendations from the \"Top picks for you\" recommender, and each column after that has as a header of the movie that they interacted with via a real time event, and the recommendations after this event occurred. \n",
    "\n",
    "Inside of UnicornFlix, we would use this feature to make sure that the list of recommendations are staying current with exactly what the viewer is interacting with the application.\n",
    "\n",
    "The behavior may not shift very much or a lot; this is due to the relatively limited nature of this dataset and effect of a few random clicks. If you wanted to better understand this, try simulating clicking more movies to see the impact."
   ]
  },
  {
   "cell_type": "markdown",
   "metadata": {},
   "source": [
    "### Filtering on user's recent interactions\n",
    "Now lets look at the event filters, which allow you to filter items based on the interaction data. For this dataset, it could be click or watch based on the data we imported, but could be based on whatever interaction schema you design (click, rate, like, watch, purchase etc.) \n",
    "\n",
    "We will create a new helper function to use the personalized ranking campaign, sice the recommenders have an inbuilt filter to filter out watched content."
   ]
  },
  {
   "cell_type": "code",
   "execution_count": null,
   "metadata": {},
   "outputs": [],
   "source": [
    "def get_new_ranked_recommendations_df_by_static_filter(recommendations_df, user_id, rerank_item_list, filter_arn):\n",
    "    \n",
    "    # Todo: update with new feature     \n",
    "    # Get the recommendations\n",
    "    get_recommendations_response = personalize_runtime.get_personalized_ranking(\n",
    "        campaignArn = workshop_rerank_campaign_arn,\n",
    "        userId = str(user_id),\n",
    "        inputList = rerank_item_list,\n",
    "        filterArn = filter_arn,\n",
    "        metadataColumns = {\n",
    "            \"ITEMS\": ['TITLE']\n",
    "        }\n",
    "    )\n",
    "    # Build a new dataframe of recommendations\n",
    "    item_list = get_recommendations_response['personalizedRanking']\n",
    "    recommendation_list = []\n",
    "    for item in item_list:\n",
    "        try:\n",
    "            movie = item['metadata']['title']\n",
    "        except:\n",
    "            movie = items_df.loc[item['itemId']]['TITLE']\n",
    "        recommendation_list.append(movie)\n",
    "\n",
    "\n",
    "    filter_name = filter_arn.split('/')[1]\n",
    "    new_rec_df = pd.DataFrame(recommendation_list, columns = [filter_name])\n",
    "    # Add this dataframe to the old one\n",
    "    recommendations_df = pd.concat([recommendations_df, new_rec_df], axis=1)\n",
    "    return recommendations_df"
   ]
  },
  {
   "cell_type": "code",
   "execution_count": null,
   "metadata": {},
   "outputs": [],
   "source": [
    "recommendations_df_events = pd.DataFrame()\n",
    "for filter_arn in interaction_filter_arns:\n",
    "    recommendations_df_events = get_new_ranked_recommendations_df_by_static_filter(recommendations_df_events, rerank_user, rerank_item_list, filter_arn)\n",
    "    \n",
    "recommendations_df_events"
   ]
  },
  {
   "cell_type": "markdown",
   "metadata": {},
   "source": [
    "It is very likely that the `watched` column of the dataframe will have several `NaN` values, this is because we randomly selected some movies from the catalog to rank and our randomly selected user has not watched them.\n",
    "\n",
    "Now lets send a watch event in for the top 4 unwatched recommendations, which would simulate watching 4 movies. In a VOD application, you may choose to send in an event after they have watched a significant amount (over 75%) of a piece of content. Sending at 100% complete could miss people that stop short of the credits."
   ]
  },
  {
   "cell_type": "code",
   "execution_count": null,
   "metadata": {},
   "outputs": [],
   "source": [
    "ranked_unwatched_recommendations_response = personalize_runtime.get_personalized_ranking(\n",
    "    campaignArn = workshop_rerank_campaign_arn,\n",
    "    userId = str(rerank_user),\n",
    "    inputList = rerank_item_list,\n",
    "    filterArn = filter_arn,\n",
    "    metadataColumns = {\n",
    "        \"ITEMS\": ['TITLE']\n",
    "    })\n",
    "\n",
    "item_list = ranked_unwatched_recommendations_response['personalizedRanking'][:4]\n",
    "\n",
    "# Todo: update with new feature  \n",
    "\n",
    "for item in item_list:\n",
    "    print('sending event Watch for ' + items_df.loc[item['itemId']]['TITLE'])\n",
    "    send_movie_click(user_id=rerank_user, item_id=item['itemId'], event_type='Watch')\n",
    "    time.sleep(5)"
   ]
  },
  {
   "cell_type": "markdown",
   "metadata": {},
   "source": [
    "Now we can look at the event filters to see the updated watched and unwatched recommendations "
   ]
  },
  {
   "cell_type": "code",
   "execution_count": null,
   "metadata": {},
   "outputs": [],
   "source": [
    "recommendations_df_events = pd.DataFrame()\n",
    "for filter_arn in interaction_filter_arns:\n",
    "    recommendations_df_events = get_new_ranked_recommendations_df_by_static_filter(recommendations_df_events, rerank_user, rerank_item_list, filter_arn)\n",
    "recommendations_df_events"
   ]
  },
  {
   "cell_type": "markdown",
   "metadata": {},
   "source": [
    "Inside of UnicornFlix we could use this feature to filter out movies that have already been watched, so that recommendations will be for movies that the viewer has not already seen. Another feature that can be developed is a \"Watch again\" carousel/rail, where you can recommend content that has been seen in the past, but due to current viewing habits, may be interesting to the viewer to revisit."
   ]
  },
  {
   "cell_type": "markdown",
   "metadata": {},
   "source": [
    "## Wrap up <a class=\"anchor\" id=\"wrapup\"></a>\n",
    "[Back to top](#top)\n",
    "\n",
    "With that you now have a fully working collection of models to tackle various recommendation and personalization scenarios, as well as the skills to manipulate customer data to better integrate with the service, and a knowledge of how to do all this over APIs and by leveraging open source data science tools.\n",
    "\n",
    "You'll want to make sure that you clean up all of the resources deployed during this POC. We have provided a separate notebook which shows you how to identify and delete the resources in [`05_Clean_Up.ipynb`](05_Clean_Up.ipynb)."
   ]
  },
  {
   "cell_type": "code",
   "execution_count": null,
   "metadata": {},
   "outputs": [],
   "source": [
    "%store workshop_dataset_group_arn\n",
    "%store region\n",
    "%store role_name"
   ]
  },
  {
   "cell_type": "code",
   "execution_count": null,
   "metadata": {},
   "outputs": [],
   "source": []
  }
 ],
 "metadata": {
  "kernelspec": {
   "display_name": "conda_python3",
   "language": "python",
   "name": "conda_python3"
  },
  "language_info": {
   "codemirror_mode": {
    "name": "ipython",
    "version": 3
   },
   "file_extension": ".py",
   "mimetype": "text/x-python",
   "name": "python",
   "nbconvert_exporter": "python",
   "pygments_lexer": "ipython3",
   "version": "3.10.13"
  }
 },
 "nbformat": 4,
 "nbformat_minor": 4
}
