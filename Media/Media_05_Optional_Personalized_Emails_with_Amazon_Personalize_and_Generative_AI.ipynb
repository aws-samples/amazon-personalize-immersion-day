{
 "cells": [
  {
   "cell_type": "markdown",
   "id": "fb38004e",
   "metadata": {},
   "source": [
    "# Personalized emails with Amazon Personalize and Generative AI - Part 2<a class=\"anchor\" id=\"top\"></a>\n",
    "\n",
    "\n",
    "## Outline\n",
    "\n",
    "1. [Introduction](#intro)\n",
    "1. [Get Personalized recommendations from Amazon Personalize](#getRecs)\n",
    "1. [Get the user's favorite movie genre](#getGenre)\n",
    "1. [Add User demographic information](#getDemographic)\n",
    "1. [Using Amazon Bedrock](#Bedrock)\n",
    "1. [Generate personalized Marketing Communication](#Emails)\n",
    "1. [Wrap up](#wrapup)\n",
    "\n",
    "\n",
    "\n",
    "## Introduction <a class=\"anchor\" id=\"outline\"></a>\n",
    "\n",
    "In the previous notebook: [`Media_03_Training.ipynb`](Media_03_Training.ipynb) you trained and evaluated an Amazon Personalize top-pics-for-you recommender to generate personalize recommendations for each user.\n",
    "\n",
    "In this Notebook we will get recommendations using the Amazon Personalzie recommender we trainined in the previous notebook including the item metadata and generate Personalized marketing communication for different users experimenting with different prompts and user demographics.\n"
   ]
  },
  {
   "cell_type": "markdown",
   "id": "5a58e0ab",
   "metadata": {},
   "source": [
    "Connect to Amazon Personalize via [Boto3](https://boto3.amazonaws.com/v1/documentation/api/latest/index.html), the AWS SDK for Python and check the resources have been created."
   ]
  },
  {
   "cell_type": "markdown",
   "id": "914ce878",
   "metadata": {},
   "source": [
    "Similar to the previous notebook, start by importing the relevant packages, and set up a connection to Amazon Personalize using the SDK."
   ]
  },
  {
   "cell_type": "code",
   "execution_count": 1,
   "id": "4db1e890",
   "metadata": {},
   "outputs": [],
   "source": [
    "import time\n",
    "from time import sleep\n",
    "import json\n",
    "from datetime import datetime\n",
    "import uuid\n",
    "import random\n",
    "import boto3\n",
    "import botocore\n",
    "from botocore.exceptions import ClientError\n",
    "import pandas as pd\n",
    "import re"
   ]
  },
  {
   "cell_type": "code",
   "execution_count": 18,
   "id": "3ca1b4e0",
   "metadata": {},
   "outputs": [],
   "source": [
    "# retrive the saved variables from the previous notebook\n",
    "%store -r"
   ]
  },
  {
   "cell_type": "markdown",
   "id": "58a0d044",
   "metadata": {},
   "source": [
    "## Get Personalized recommendations from Amazon Personalize<a class=\"anchor\" id=\"getRecs\"></a>\n",
    "[Back to top](#top)\n",
    "\n",
    "Now that we have trained the [Top picks for you](https://docs.aws.amazon.com/personalize/latest/dg/VIDEO_ON_DEMAND-use-cases.html#top-picks-use-case) recommender we can get recommendations for our users. \n",
    "\n",
    "For more details and ways to use Amazon Personalize to get recommendations, please see the [Amazon Personalize Getting Recommendations](https://docs.aws.amazon.com/personalize/latest/dg/getting-recommendations.html)."
   ]
  },
  {
   "cell_type": "code",
   "execution_count": 3,
   "id": "407723e1",
   "metadata": {},
   "outputs": [],
   "source": [
    "# Configure the SDK to Personalize:\n",
    "personalize = boto3.client('personalize')\n",
    "personalize_runtime = boto3.client('personalize-runtime')"
   ]
  },
  {
   "cell_type": "markdown",
   "id": "50c57094",
   "metadata": {},
   "source": [
    "Select a random user to see their recommendations."
   ]
  },
  {
   "cell_type": "code",
   "execution_count": 7,
   "id": "6118b474",
   "metadata": {},
   "outputs": [],
   "source": [
    "users = random.sample(range(1, 600), 3)\n",
    "user_id = users[0]"
   ]
  },
  {
   "cell_type": "markdown",
   "id": "2f64ddf0",
   "metadata": {},
   "source": [
    "Get 15 recommendations from the 'Top pics for you' recommender we trained."
   ]
  },
  {
   "cell_type": "code",
   "execution_count": 8,
   "id": "9daf765b",
   "metadata": {},
   "outputs": [
    {
     "name": "stdout",
     "output_type": "stream",
     "text": [
      "[{'itemId': 'tt0107822', 'metadata': {'genres': 'Drama|Music|Romance', 'plot': 'In the mid-19th century, a mute woman is sent to New Zealand along with her young daughter and prized piano for an arranged marriage to a wealthy landowner, but is soon lusted after by a local worker on the plantation.', 'title': 'The Piano'}}, {'itemId': 'tt0108399', 'metadata': {'genres': 'Crime|Drama|Romance|Thriller', 'plot': 'In Detroit, a lonely pop culture geek marries a call girl, steals cocaine from her pimp, and tries to sell it in Hollywood. Meanwhile, the owners of the cocaine, the Mob, track them down in an attempt to reclaim it.', 'title': 'True Romance'}}, {'itemId': 'tt0110932', 'metadata': {'genres': 'Biography|Drama|History', 'plot': \"A young lawyer, Richard Goodwin, investigates a potentially fixed game show. Charles Van Doren, a big time show winner, is under Goodwin's investigation.\", 'title': 'Quiz Show'}}, {'itemId': 'tt0105151', 'metadata': {'genres': 'Comedy|Crime|Drama|Thriller', 'plot': 'A Hollywood studio executive is being sent death threats by a writer whose script he rejected, but which one?', 'title': 'The Player'}}, {'itemId': 'tt0109707', 'metadata': {'genres': 'Biography|Comedy|Drama', 'plot': 'Ambitious but troubled movie director Edward D. Wood Jr. tries his best to fulfill his dreams, despite his lack of talent.', 'title': 'Ed Wood'}}, {'itemId': 'tt0113870', 'metadata': {'genres': 'Drama|Thriller', 'plot': 'An eager and idealistic young attorney defends an Alcatraz prisoner accused of murdering a fellow inmate. The extenuating circumstances: his client had just spent over three years in solitary confinement.', 'title': 'Murder in the First'}}, {'itemId': 'tt0109445', 'metadata': {'genres': 'Comedy', 'plot': 'A day in the lives of two convenience clerks named Dante and Randal as they annoy customers, discuss movies, and play hockey on the store roof.', 'title': 'Clerks'}}, {'itemId': 'tt0099674', 'metadata': {'genres': 'Crime|Drama', 'plot': 'In the midst of trying to legitimize his business dealings in New York City and Italy in 1979, aging Mafia Don Michael Corleone seeks to avow for his sins, while taking his nephew Vincent Mancini under his wing.', 'title': 'The Godfather: Part III'}}, {'itemId': 'tt0112641', 'metadata': {'genres': 'Crime|Drama', 'plot': 'A tale of greed, deception, money, power, and murder occur between two best friends: a mafia enforcer and a casino executive, compete against each other over a gambling empire, and over a fast living and fast loving socialite.', 'title': 'Casino'}}, {'itemId': 'tt0110148', 'metadata': {'genres': 'Drama|Horror', 'plot': 'A vampire tells his epic life story: love, betrayal, loneliness, and hunger.', 'title': 'Interview with the Vampire: The Vampire Chronicles'}}, {'itemId': 'tt0108358', 'metadata': {'genres': 'Action|Biography|Drama|History|Western', 'plot': \"A successful lawman's plans to retire anonymously in Tombstone, Arizona are disrupted by the kind of outlaws he was famous for eliminating.\", 'title': 'Tombstone'}}, {'itemId': 'tt0104348', 'metadata': {'genres': 'Crime|Drama|Mystery', 'plot': 'An examination of the machinations behind the scenes at a real estate office.', 'title': 'Glengarry Glen Ross'}}, {'itemId': 'tt0113277', 'metadata': {'genres': 'Crime|Drama|Thriller', 'plot': 'A group of professional bank robbers start to feel the heat from police when they unknowingly leave a clue at their latest heist.', 'title': 'Heat'}}, {'itemId': 'tt0113627', 'metadata': {'genres': 'Drama|Romance', 'plot': 'Ben Sanderson, a Hollywood screenwriter who lost everything because of his alcoholism, arrives in Las Vegas to drink himself to death. There, he meets and forms an uneasy friendship and non-interference pact with prostitute Sera.', 'title': 'Leaving Las Vegas'}}, {'itemId': 'tt0113670', 'metadata': {'genres': 'Drama|Family|Fantasy', 'plot': 'A young girl is relegated to servitude at a boarding school when her father goes missing and is presumed dead.', 'title': 'A Little Princess'}}]\n"
     ]
    }
   ],
   "source": [
    "get_recommendations_response = personalize_runtime.get_recommendations(\n",
    "    recommenderArn = workshop_recommender_top_picks_arn,\n",
    "    userId = str(user_id),\n",
    "    numResults = 15,\n",
    "    metadataColumns = {\n",
    "        \"ITEMS\": ['TITLE', 'PLOT', 'GENRES']\n",
    "    }\n",
    ")\n",
    "\n",
    "print (get_recommendations_response['itemList'])"
   ]
  },
  {
   "cell_type": "markdown",
   "id": "a9a9a55e",
   "metadata": {},
   "source": [
    "It works, we can get recommendations!\n",
    "\n",
    "Let's create a method to get recommended movies and their metadata for each user."
   ]
  },
  {
   "cell_type": "code",
   "execution_count": 9,
   "id": "1a974d37",
   "metadata": {},
   "outputs": [],
   "source": [
    "def getRecommendedMoviesForUserId(\n",
    "    user_id, \n",
    "    workshop_recommender_top_picks_arn, \n",
    "    item_data, \n",
    "    number_of_movies_to_recommend = 5):\n",
    "    # For a user_id, gets the top n (number_of_movies_to_recommend) movies using Amazon Personalize \n",
    "    # and gets the additional metadata for each movie (item_id) from the item_data.\n",
    "    # returns a list of movie dictionaries (movie_list) with the relevant data.\n",
    "\n",
    "    # get recommended movies\n",
    "    get_recommendations_response = personalize_runtime.get_recommendations(\n",
    "        recommenderArn = workshop_recommender_top_picks_arn,\n",
    "        userId = str(user_id),\n",
    "        numResults = number_of_movies_to_recommend,\n",
    "        metadataColumns = {\n",
    "            \"ITEMS\": ['TITLE', 'PLOT', 'GENRES']\n",
    "        }\n",
    "    )\n",
    "\n",
    "    # create a list of movies with title, geners, and plot.   \n",
    "    movie_list = []\n",
    "    \n",
    "    for recommended_movie in get_recommendations_response['itemList']:      \n",
    "        movie_list.append(\n",
    "            {\n",
    "                'title' : recommended_movie['metadata']['title'],\n",
    "                'genres' : recommended_movie['metadata']['genres'].replace('|', ' and '),\n",
    "                'plot' : recommended_movie['metadata']['plot']\n",
    "            }\n",
    "        )\n",
    "    return movie_list\n",
    "    "
   ]
  },
  {
   "cell_type": "markdown",
   "id": "d2b5acde",
   "metadata": {},
   "source": [
    "We select a random user_id."
   ]
  },
  {
   "cell_type": "code",
   "execution_count": 11,
   "id": "5da5cf54",
   "metadata": {},
   "outputs": [],
   "source": [
    "users = random.sample(range(1, 600), 3)\n",
    "user_id = users[0]"
   ]
  },
  {
   "cell_type": "markdown",
   "id": "ca5adc0e",
   "metadata": {},
   "source": [
    "We can select how many movies we want to recommend. In this case 3."
   ]
  },
  {
   "cell_type": "code",
   "execution_count": 12,
   "id": "ff77168e",
   "metadata": {},
   "outputs": [],
   "source": [
    "number_of_movies_to_recommend = 3 "
   ]
  },
  {
   "cell_type": "markdown",
   "id": "be9e0912",
   "metadata": {},
   "source": [
    "Let's get the recommended movies for the user. First though lets load the item data"
   ]
  },
  {
   "cell_type": "code",
   "execution_count": 14,
   "id": "b38d3473-416b-4d75-830d-a9058e7cabaf",
   "metadata": {
    "tags": []
   },
   "outputs": [
    {
     "data": {
      "text/html": [
       "<div>\n",
       "<style scoped>\n",
       "    .dataframe tbody tr th:only-of-type {\n",
       "        vertical-align: middle;\n",
       "    }\n",
       "\n",
       "    .dataframe tbody tr th {\n",
       "        vertical-align: top;\n",
       "    }\n",
       "\n",
       "    .dataframe thead th {\n",
       "        text-align: right;\n",
       "    }\n",
       "</style>\n",
       "<table border=\"1\" class=\"dataframe\">\n",
       "  <thead>\n",
       "    <tr style=\"text-align: right;\">\n",
       "      <th></th>\n",
       "      <th>ITEM_ID</th>\n",
       "      <th>TITLE</th>\n",
       "      <th>YEAR</th>\n",
       "      <th>IMDB_RATING</th>\n",
       "      <th>IMDB_NUMBEROFVOTES</th>\n",
       "      <th>PLOT</th>\n",
       "      <th>US_MATURITY_RATING_STRING</th>\n",
       "      <th>US_MATURITY_RATING</th>\n",
       "      <th>GENRES</th>\n",
       "      <th>CREATION_TIMESTAMP</th>\n",
       "      <th>PROMOTION</th>\n",
       "    </tr>\n",
       "  </thead>\n",
       "  <tbody>\n",
       "    <tr>\n",
       "      <th>0</th>\n",
       "      <td>tt0906325</td>\n",
       "      <td>Bagboy</td>\n",
       "      <td>2007</td>\n",
       "      <td>4</td>\n",
       "      <td>741</td>\n",
       "      <td>A teenager enters the competitive world of gro...</td>\n",
       "      <td>PG-13</td>\n",
       "      <td>13</td>\n",
       "      <td>Comedy</td>\n",
       "      <td>1167609600</td>\n",
       "      <td>false</td>\n",
       "    </tr>\n",
       "    <tr>\n",
       "      <th>1</th>\n",
       "      <td>tt0906665</td>\n",
       "      <td>Sukiyaki Western Django</td>\n",
       "      <td>2007</td>\n",
       "      <td>6</td>\n",
       "      <td>14582</td>\n",
       "      <td>A nameless gunfighter arrives in a town ripped...</td>\n",
       "      <td>R</td>\n",
       "      <td>17</td>\n",
       "      <td>Action|Western</td>\n",
       "      <td>1167609600</td>\n",
       "      <td>false</td>\n",
       "    </tr>\n",
       "    <tr>\n",
       "      <th>2</th>\n",
       "      <td>tt0907657</td>\n",
       "      <td>Once</td>\n",
       "      <td>2007</td>\n",
       "      <td>8</td>\n",
       "      <td>109787</td>\n",
       "      <td>A modern-day musical about a busker and an imm...</td>\n",
       "      <td>R</td>\n",
       "      <td>17</td>\n",
       "      <td>Drama|Music|Romance</td>\n",
       "      <td>1167609600</td>\n",
       "      <td>false</td>\n",
       "    </tr>\n",
       "    <tr>\n",
       "      <th>3</th>\n",
       "      <td>tt0910905</td>\n",
       "      <td>In the Electric Mist</td>\n",
       "      <td>2009</td>\n",
       "      <td>6</td>\n",
       "      <td>16592</td>\n",
       "      <td>A detective in post-Katrina New Orleans has a ...</td>\n",
       "      <td>R</td>\n",
       "      <td>17</td>\n",
       "      <td>Crime|Drama|Mystery|Thriller</td>\n",
       "      <td>1230768000</td>\n",
       "      <td>false</td>\n",
       "    </tr>\n",
       "    <tr>\n",
       "      <th>4</th>\n",
       "      <td>tt0910554</td>\n",
       "      <td>Frequently Asked Questions About Time Travel</td>\n",
       "      <td>2009</td>\n",
       "      <td>7</td>\n",
       "      <td>32051</td>\n",
       "      <td>While drinking at their local pub, three socia...</td>\n",
       "      <td>PG-13</td>\n",
       "      <td>13</td>\n",
       "      <td>Comedy|Sci-Fi</td>\n",
       "      <td>1230768000</td>\n",
       "      <td>false</td>\n",
       "    </tr>\n",
       "  </tbody>\n",
       "</table>\n",
       "</div>"
      ],
      "text/plain": [
       "     ITEM_ID                                         TITLE  YEAR  IMDB_RATING  \\\n",
       "0  tt0906325                                        Bagboy  2007            4   \n",
       "1  tt0906665                       Sukiyaki Western Django  2007            6   \n",
       "2  tt0907657                                          Once  2007            8   \n",
       "3  tt0910905                          In the Electric Mist  2009            6   \n",
       "4  tt0910554  Frequently Asked Questions About Time Travel  2009            7   \n",
       "\n",
       "   IMDB_NUMBEROFVOTES                                               PLOT  \\\n",
       "0                 741  A teenager enters the competitive world of gro...   \n",
       "1               14582  A nameless gunfighter arrives in a town ripped...   \n",
       "2              109787  A modern-day musical about a busker and an imm...   \n",
       "3               16592  A detective in post-Katrina New Orleans has a ...   \n",
       "4               32051  While drinking at their local pub, three socia...   \n",
       "\n",
       "  US_MATURITY_RATING_STRING  US_MATURITY_RATING                        GENRES  \\\n",
       "0                     PG-13                  13                        Comedy   \n",
       "1                         R                  17                Action|Western   \n",
       "2                         R                  17           Drama|Music|Romance   \n",
       "3                         R                  17  Crime|Drama|Mystery|Thriller   \n",
       "4                     PG-13                  13                 Comedy|Sci-Fi   \n",
       "\n",
       "   CREATION_TIMESTAMP PROMOTION  \n",
       "0          1167609600     false  \n",
       "1          1167609600     false  \n",
       "2          1167609600     false  \n",
       "3          1230768000     false  \n",
       "4          1230768000     false  "
      ]
     },
     "execution_count": 14,
     "metadata": {},
     "output_type": "execute_result"
    }
   ],
   "source": [
    "# read movielens data\n",
    "item_data = pd.read_csv(data_dir + '/imdb/items.csv', sep=',', dtype={'PROMOTION': \"string\"})\n",
    "item_data.head(5)"
   ]
  },
  {
   "cell_type": "code",
   "execution_count": 15,
   "id": "993b9986",
   "metadata": {},
   "outputs": [
    {
     "name": "stdout",
     "output_type": "stream",
     "text": [
      "Title: Big Daddy\n",
      "Genres: Comedy and Drama\n",
      "Plot: A lazy law school grad adopts a kid to impress his girlfriend, but everything doesn't go as planned and he becomes the unlikely foster father.\n",
      "\n",
      "Title: Pretty Woman\n",
      "Genres: Comedy and Romance\n",
      "Plot: A man in a legal but hurtful business needs an escort for some social events, and hires a beautiful prostitute he meets... only to fall in love.\n",
      "\n",
      "Title: 10 Things I Hate About You\n",
      "Genres: Comedy and Drama and Romance\n",
      "Plot: A pretty, popular teenager can't go out on a date until her ill-tempered older sister does.\n",
      "\n"
     ]
    }
   ],
   "source": [
    "movie_list = getRecommendedMoviesForUserId(user_id, workshop_recommender_top_picks_arn, item_data, number_of_movies_to_recommend)\n",
    "\n",
    "# print each movie in the array\n",
    "for movie in movie_list:\n",
    "    print ('Title: '+movie['title'])\n",
    "    print ('Genres: '+movie['genres'])\n",
    "    print ('Plot: '+movie['plot'])\n",
    "    print ()"
   ]
  },
  {
   "cell_type": "markdown",
   "id": "7186e41f",
   "metadata": {},
   "source": [
    "## Get the user's favorite movie genre<a class=\"anchor\" id=\"getGenre\"></a>\n",
    "[Back to top](#top)\n",
    "\n",
    "In order to provide a better personalized marketing communication, in this section we calculate the user's favorite movie genre based on the genres of all the movies they have interacted with in the past."
   ]
  },
  {
   "cell_type": "code",
   "execution_count": 16,
   "id": "b60b6eaf",
   "metadata": {},
   "outputs": [],
   "source": [
    "def getUserFavouriteGenres(user_id, interactions_df, movie_data):\n",
    "    # For a user_id, gets the users favourite genre by looking at the user's interactions \n",
    "    # with each movie in the past and counting the genres to find the most comon genre. \n",
    "\n",
    "    # Get all movies the user has watched     \n",
    "    movies_df = interactions_df[interactions_df['USER_ID'] == user_id]\n",
    "\n",
    "    genres = {}\n",
    "\n",
    "    for movie_id in movies_df['ITEM_ID']:\n",
    "\n",
    "        movie_genres = movie_data[movie_data['ITEM_ID']==movie_id]['GENRES']\n",
    "        \n",
    "        if not len(movie_genres.tolist())==0:\n",
    "            for movie_genre in movie_genres.tolist()[0].split('|'):\n",
    "                if movie_genre in genres:\n",
    "                    genres[movie_genre] +=1\n",
    "                else:\n",
    "                    genres[movie_genre] = 1\n",
    "\n",
    "    genres_df = pd.DataFrame(list(genres.items()), columns =['GENRE', 'COUNT'])\n",
    "    \n",
    "    # Sort by most common\n",
    "    genres_df.sort_values(by=['COUNT'], inplace=True, ascending = False)\n",
    "    \n",
    "    # Return the most common (favourite) genre       \n",
    "    return genres_df.iloc[[0]]['GENRE'].values[0]\n",
    "    "
   ]
  },
  {
   "cell_type": "code",
   "execution_count": 19,
   "id": "3933f4fc",
   "metadata": {},
   "outputs": [
    {
     "data": {
      "text/plain": [
       "'Comedy'"
      ]
     },
     "execution_count": 19,
     "metadata": {},
     "output_type": "execute_result"
    }
   ],
   "source": [
    "user_favorite_genre = getUserFavouriteGenres(user_id, interactions_df, item_data)\n",
    "user_favorite_genre"
   ]
  },
  {
   "cell_type": "markdown",
   "id": "e76d8e7d",
   "metadata": {},
   "source": [
    "We get user preferred genres from for this user by counting the number of interactions they have with each genre in the past."
   ]
  },
  {
   "cell_type": "markdown",
   "id": "31e4ed08",
   "metadata": {},
   "source": [
    "## Using Amazon Bedrock<a class=\"anchor\" id=\"Bedrock\"></a>\n",
    "[Back to top](#top)\n",
    "\n",
    "[Amazon Bedrock](https://docs.aws.amazon.com/bedrock/latest/userguide/what-is-bedrock.html) is a fully managed service that makes base models from Amazon and third-party model providers accessible through an API.\n",
    "\n",
    "<div class=\"alert alert-block alert-warning\">\n",
    "<b>Note:</b> Amazon Bedrock users need to request access to models before they are available for use. If you want to add additional models for text, chat, and image generation, you need to request access to models in Amazon Bedrock. To request access to additional models, select the Model access link in the left side navigation panel in the Amazon Bedrock console. For more information see: https://docs.aws.amazon.com/bedrock/latest/userguide/model-access.html\n",
    "</div>\n"
   ]
  },
  {
   "cell_type": "markdown",
   "id": "189e356e",
   "metadata": {},
   "source": [
    "### Connect to Amazon Bedrock\n",
    "Connect to Amazon Bedrock via [Boto3](https://boto3.amazonaws.com/v1/documentation/api/latest/index.html), the AWS SDK for Python.\n",
    "\n",
    "in this example we will be using [Anthropic Claude](https://aws.amazon.com/bedrock/claude/) on Amazon Bedrock."
   ]
  },
  {
   "cell_type": "code",
   "execution_count": 20,
   "id": "7cc101e9",
   "metadata": {},
   "outputs": [],
   "source": [
    "bedrock = boto3.client('bedrock-runtime') "
   ]
  },
  {
   "cell_type": "code",
   "execution_count": 21,
   "id": "b35ca3ad",
   "metadata": {},
   "outputs": [],
   "source": [
    "# Model parameters\n",
    "# The LLM we will be using\n",
    "model_id = 'anthropic.claude-3-sonnet-20240229-v1:0'\n",
    "    \n",
    "\n",
    "# The maximum number of tokens to use in the generated response\n",
    "max_tokens_to_sample = 1000"
   ]
  },
  {
   "cell_type": "markdown",
   "id": "9568b8b8",
   "metadata": {},
   "source": [
    "## Add User demographic information<a class=\"anchor\" id=\"getDemographic\"></a>\n",
    "[Back to top](#top)\n",
    "\n",
    "We'll generate emails by assuming two different demographics for the users.\n",
    "\n",
    "<div class=\"alert alert-block alert-warning\">\n",
    "<b>Note:</b> Please note that the used version ml-latest-small dataset from the Movielens Dataset (https://grouplens.org/datasets/movielens/) does not contain demographic data and therefore we are trying out multiple options. In a real world scenario, you may know the demographics of your audience.\n",
    "</div>"
   ]
  },
  {
   "cell_type": "code",
   "execution_count": 22,
   "id": "858abf90",
   "metadata": {},
   "outputs": [],
   "source": [
    "# Sample user demographics\n",
    "user_demographic_1 = f'The user is a 50 year old adult called Otto.'\n",
    "user_demographic_3 = f'The user is a young adult called Jane.'\n"
   ]
  },
  {
   "cell_type": "markdown",
   "id": "9c454fa8",
   "metadata": {},
   "source": [
    "## Generate Personalized Marketing Emails<a class=\"anchor\" id=\"Emails\"></a>\n",
    "[Back to top](#top)\n"
   ]
  },
  {
   "cell_type": "markdown",
   "id": "af9f0f80",
   "metadata": {},
   "source": [
    "### Generating a marketing email using a simple prompt\n",
    "Let's generate a simple marketing email that just uses the recommended movies."
   ]
  },
  {
   "cell_type": "code",
   "execution_count": 23,
   "id": "09653dde",
   "metadata": {},
   "outputs": [],
   "source": [
    "def generate_personalize_simple_prompt(movie_list, model_id, max_tokens_to_sample = 50):\n",
    "\n",
    "    prompt_template = f'''\\n\\nHuman: Write a marketing email advertising several movies available in a video-on-demand streaming platform next week, given the movie and user information below. The movies to recommend and their information is contained in the <movie> tag. Put the email between <email> tags.\n",
    "\n",
    "    <movie>\n",
    "    {movie_list}\n",
    "    </movie>\n",
    "\n",
    "    Assistant: Email body:\n",
    "    <email>.\n",
    "\n",
    "    Assistant:\n",
    "    '''\n",
    "    \n",
    "    if 'claude' in model_id:\n",
    "        prompt_input = json.dumps({\"prompt\": prompt_template, \"max_tokens_to_sample\": max_tokens_to_sample })\n",
    "    \n",
    "    return prompt_input"
   ]
  },
  {
   "cell_type": "code",
   "execution_count": 24,
   "id": "da1e806f",
   "metadata": {},
   "outputs": [
    {
     "name": "stdout",
     "output_type": "stream",
     "text": [
      "User's recommended movies:\n",
      "Title: Big Daddy\n",
      "Genres: Comedy and Drama\n",
      "Plot: A lazy law school grad adopts a kid to impress his girlfriend, but everything doesn't go as planned and he becomes the unlikely foster father.\n",
      "\n",
      "Title: Pretty Woman\n",
      "Genres: Comedy and Romance\n",
      "Plot: A man in a legal but hurtful business needs an escort for some social events, and hires a beautiful prostitute he meets... only to fall in love.\n",
      "\n",
      "Title: 10 Things I Hate About You\n",
      "Genres: Comedy and Drama and Romance\n",
      "Plot: A pretty, popular teenager can't go out on a date until her ill-tempered older sister does.\n",
      "\n"
     ]
    }
   ],
   "source": [
    "print ('User\\'s recommended movies:')\n",
    "\n",
    "# print each movie in the array\n",
    "for movie in movie_list:\n",
    "    print ('Title: '+movie['title'])\n",
    "    print ('Genres: '+movie['genres'])\n",
    "    print ('Plot: '+movie['plot'])\n",
    "    print ()"
   ]
  },
  {
   "cell_type": "code",
   "execution_count": 25,
   "id": "95f8eadd",
   "metadata": {},
   "outputs": [
    {
     "data": {
      "text/plain": [
       "'{\"prompt\": \"\\\\n\\\\nHuman: Write a marketing email advertising several movies available in a video-on-demand streaming platform next week, given the movie and user information below. The movies to recommend and their information is contained in the <movie> tag. Put the email between <email> tags.\\\\n\\\\n    <movie>\\\\n    [{\\'title\\': \\'Big Daddy\\', \\'genres\\': \\'Comedy and Drama\\', \\'plot\\': \\\\\"A lazy law school grad adopts a kid to impress his girlfriend, but everything doesn\\'t go as planned and he becomes the unlikely foster father.\\\\\"}, {\\'title\\': \\'Pretty Woman\\', \\'genres\\': \\'Comedy and Romance\\', \\'plot\\': \\'A man in a legal but hurtful business needs an escort for some social events, and hires a beautiful prostitute he meets... only to fall in love.\\'}, {\\'title\\': \\'10 Things I Hate About You\\', \\'genres\\': \\'Comedy and Drama and Romance\\', \\'plot\\': \\\\\"A pretty, popular teenager can\\'t go out on a date until her ill-tempered older sister does.\\\\\"}]\\\\n    </movie>\\\\n\\\\n    Assistant: Email body:\\\\n    <email>.\\\\n\\\\n    Assistant:\\\\n    \", \"max_tokens_to_sample\": 1000}'"
      ]
     },
     "execution_count": 25,
     "metadata": {},
     "output_type": "execute_result"
    }
   ],
   "source": [
    "# Create prompt input\n",
    "prompt_input_json = generate_personalize_simple_prompt( movie_list, model_id, max_tokens_to_sample )\n",
    "prompt_input_json"
   ]
  },
  {
   "cell_type": "markdown",
   "id": "b0884064",
   "metadata": {},
   "source": [
    "Let's invoke the model."
   ]
  },
  {
   "cell_type": "code",
   "execution_count": 26,
   "id": "eab720f0",
   "metadata": {},
   "outputs": [],
   "source": [
    "def getPersonalizedEmail(bedrock_client, model_id, max_tokens_to_sample, prompt ):\n",
    "    \n",
    "    personalized_email = \"ERROR\"\n",
    "    \n",
    "    body = json.dumps({\n",
    "      \"max_tokens\": max_tokens_to_sample,\n",
    "      \"messages\": [{\"role\": \"user\", \"content\": prompt}],\n",
    "      \"anthropic_version\": \"bedrock-2023-05-31\"\n",
    "    })\n",
    "    \n",
    "    response = bedrock.invoke_model(body=body, modelId=model_id)\n",
    "    \n",
    "    response_body = json.loads(response.get('body').read())\n",
    "        \n",
    "    # Clean Gen AI response\n",
    "    personalized_email = re.sub(r'<[^>]*>', '', response_body['content'][0]['text'])\n",
    "\n",
    "    \n",
    "    return personalized_email"
   ]
  },
  {
   "cell_type": "markdown",
   "id": "e53aa00f",
   "metadata": {},
   "source": [
    "Next we need to invoke the model. \n",
    "\n",
    "<div class=\"alert alert-block alert-warning\">\n",
    "<b>Note:</b> Amazon Bedrock users need to request access to models before they are available for use. If you get an `Access Denied` error, make sure you have requested access to this model. To request access to additional models, select the Model access link in the left side navigation panel in the Amazon Bedrock console. For more information see: https://docs.aws.amazon.com/bedrock/latest/userguide/model-access.html\n",
    "</div>\n"
   ]
  },
  {
   "cell_type": "code",
   "execution_count": 27,
   "id": "70591d57",
   "metadata": {},
   "outputs": [
    {
     "name": "stdout",
     "output_type": "stream",
     "text": [
      "\n",
      "Subject: Lights, Camera, Streaming! This Week's Must-See Movies\n",
      "\n",
      "Dear [Customer's Name],\n",
      "\n",
      "Calling all movie buffs! We've got an exciting lineup of films hitting our video-on-demand platform next week, and we can't wait to share them with you. From heartwarming comedies to romantic tales, there's something for everyone to enjoy. Here are our top picks:\n",
      "\n",
      "1. \"Big Daddy\" (Comedy/Drama): Get ready to laugh and feel all the feels with this hilarious yet touching story. Adam Sandler stars as a lazy law school grad who adopts a kid to impress his girlfriend, but ends up becoming an unlikely foster father. It's a rollercoaster of emotions you won't want to miss!\n",
      "\n",
      "2. \"Pretty Woman\" (Comedy/Romance): Julia Roberts and Richard Gere light up the screen in this timeless classic. A businessman hires a beautiful prostitute as his escort for social events, but their professional arrangement blossoms into an unexpected love story. Prepare to swoon!\n",
      "\n",
      "3. \"10 Things I Hate About You\" (Comedy/Drama/Romance): A modern retelling of Shakespeare's \"Taming of the Shrew,\" this teen rom-com is a must-watch. A popular high school girl can't date until her ill-tempered older sister does, leading to hilarious hijinks and heartwarming moments. It's the perfect film for a cozy movie night!\n",
      "\n",
      "Mark your calendars and get ready to stream these incredible movies next week. Whether you're in the mood for a laugh, a romantic escape, or a little bit of both, our video-on-demand platform has you covered.\n",
      "\n",
      "Happy streaming!\n",
      "\n",
      "Best regards,\n",
      "[Your Streaming Platform]\n",
      "\n"
     ]
    }
   ],
   "source": [
    "# Invoke model\n",
    "response = getPersonalizedEmail(bedrock,model_id, max_tokens_to_sample, prompt_input_json)\n",
    "print (response)"
   ]
  },
  {
   "cell_type": "markdown",
   "id": "c4ccb009",
   "metadata": {},
   "source": [
    "### Generating a marketing email using a more advanced prompt\n",
    "In this example we are adding the favorite genre for the user as well as exploring two different possible demographics in the input."
   ]
  },
  {
   "cell_type": "code",
   "execution_count": 28,
   "id": "489804c7",
   "metadata": {},
   "outputs": [],
   "source": [
    "def generate_personalize_advanced_prompt(user_demographic, favorite_genre, movie_list, model_id, max_tokens_to_sample = 50):\n",
    "\n",
    "    prompt_template = f'''\\n\\nHuman: You are a skilled publicist. Write a high-converting marketing email advertising several movies available in a video-on-demand streaming platform next week, \n",
    "    given the movie and user information below. Your email will leverage the power of storytelling and persuasive language. \n",
    "    You want the email to impress the user, so make it appealing to them based on the information contained in the <user> tags, \n",
    "    and take into account the user's favorite genre in the <genre> tags. \n",
    "    The movies to recommend and their information is contained in the <movie> tag. \n",
    "    All movies in the <movie> tag must be recommended. Give a summary of the movies and why the human should watch them. \n",
    "    Put the email between <email> tags.\n",
    "\n",
    "    <user>\n",
    "    {user_demographic}\n",
    "    </user>\n",
    "\n",
    "    <genre>\n",
    "    {favorite_genre}\n",
    "    </genre>\n",
    "\n",
    "    <movie>\n",
    "    {movie_list}\n",
    "    </movie>\n",
    "\n",
    "    Assistant:\n",
    "    '''\n",
    "    \n",
    "    if 'claude' in model_id:\n",
    "        prompt_input = json.dumps({\"prompt\": prompt_template, \"max_tokens_to_sample\": max_tokens_to_sample })\n",
    "    \n",
    "    return prompt_input\n"
   ]
  },
  {
   "cell_type": "markdown",
   "id": "f202da61",
   "metadata": {},
   "source": [
    "### Generating a marketing email for a 50 year old user"
   ]
  },
  {
   "cell_type": "code",
   "execution_count": 29,
   "id": "b750f675",
   "metadata": {},
   "outputs": [
    {
     "name": "stdout",
     "output_type": "stream",
     "text": [
      "User's demographic\n"
     ]
    },
    {
     "data": {
      "text/plain": [
       "'The user is a 50 year old adult called Otto.'"
      ]
     },
     "execution_count": 29,
     "metadata": {},
     "output_type": "execute_result"
    }
   ],
   "source": [
    "print ('User\\'s demographic')\n",
    "user_demographic = user_demographic_1\n",
    "user_demographic"
   ]
  },
  {
   "cell_type": "code",
   "execution_count": 30,
   "id": "a2b3c088",
   "metadata": {},
   "outputs": [
    {
     "name": "stdout",
     "output_type": "stream",
     "text": [
      "User's favorite Genre\n"
     ]
    },
    {
     "data": {
      "text/plain": [
       "'Comedy'"
      ]
     },
     "execution_count": 30,
     "metadata": {},
     "output_type": "execute_result"
    }
   ],
   "source": [
    "print ('User\\'s favorite Genre')\n",
    "user_favorite_genre"
   ]
  },
  {
   "cell_type": "code",
   "execution_count": 31,
   "id": "c630d00d",
   "metadata": {},
   "outputs": [
    {
     "name": "stdout",
     "output_type": "stream",
     "text": [
      "User's recommended movies:\n",
      "Title: Big Daddy\n",
      "Genres: Comedy and Drama\n",
      "Plot: A lazy law school grad adopts a kid to impress his girlfriend, but everything doesn't go as planned and he becomes the unlikely foster father.\n",
      "\n",
      "Title: Pretty Woman\n",
      "Genres: Comedy and Romance\n",
      "Plot: A man in a legal but hurtful business needs an escort for some social events, and hires a beautiful prostitute he meets... only to fall in love.\n",
      "\n",
      "Title: 10 Things I Hate About You\n",
      "Genres: Comedy and Drama and Romance\n",
      "Plot: A pretty, popular teenager can't go out on a date until her ill-tempered older sister does.\n",
      "\n"
     ]
    }
   ],
   "source": [
    "print ('User\\'s recommended movies:')\n",
    "\n",
    "# print each movie in the array\n",
    "for movie in movie_list:\n",
    "    print ('Title: '+movie['title'])\n",
    "    print ('Genres: '+movie['genres'])\n",
    "    print ('Plot: '+movie['plot'])\n",
    "    print ()"
   ]
  },
  {
   "cell_type": "code",
   "execution_count": 32,
   "id": "f2c643a2",
   "metadata": {},
   "outputs": [
    {
     "data": {
      "text/plain": [
       "'{\"prompt\": \"\\\\n\\\\nHuman: You are a skilled publicist. Write a high-converting marketing email advertising several movies available in a video-on-demand streaming platform next week, \\\\n    given the movie and user information below. Your email will leverage the power of storytelling and persuasive language. \\\\n    You want the email to impress the user, so make it appealing to them based on the information contained in the <user> tags, \\\\n    and take into account the user\\'s favorite genre in the <genre> tags. \\\\n    The movies to recommend and their information is contained in the <movie> tag. \\\\n    All movies in the <movie> tag must be recommended. Give a summary of the movies and why the human should watch them. \\\\n    Put the email between <email> tags.\\\\n\\\\n    <user>\\\\n    The user is a 50 year old adult called Otto.\\\\n    </user>\\\\n\\\\n    <genre>\\\\n    Comedy\\\\n    </genre>\\\\n\\\\n    <movie>\\\\n    [{\\'title\\': \\'Big Daddy\\', \\'genres\\': \\'Comedy and Drama\\', \\'plot\\': \\\\\"A lazy law school grad adopts a kid to impress his girlfriend, but everything doesn\\'t go as planned and he becomes the unlikely foster father.\\\\\"}, {\\'title\\': \\'Pretty Woman\\', \\'genres\\': \\'Comedy and Romance\\', \\'plot\\': \\'A man in a legal but hurtful business needs an escort for some social events, and hires a beautiful prostitute he meets... only to fall in love.\\'}, {\\'title\\': \\'10 Things I Hate About You\\', \\'genres\\': \\'Comedy and Drama and Romance\\', \\'plot\\': \\\\\"A pretty, popular teenager can\\'t go out on a date until her ill-tempered older sister does.\\\\\"}]\\\\n    </movie>\\\\n\\\\n    Assistant:\\\\n    \", \"max_tokens_to_sample\": 1000}'"
      ]
     },
     "execution_count": 32,
     "metadata": {},
     "output_type": "execute_result"
    }
   ],
   "source": [
    "# Create prompt input\n",
    "prompt_input_json = generate_personalize_advanced_prompt(user_demographic, user_favorite_genre, movie_list, model_id, max_tokens_to_sample )\n",
    "prompt_input_json"
   ]
  },
  {
   "cell_type": "code",
   "execution_count": 33,
   "id": "ddc93bfd",
   "metadata": {},
   "outputs": [
    {
     "name": "stdout",
     "output_type": "stream",
     "text": [
      "\n",
      "Subject: Laugh Out Loud with These Comedy Hits on Our Video-On-Demand Platform!\n",
      "\n",
      "Dear Otto,\n",
      "\n",
      "As a fellow comedy aficionado, I've handpicked some hilarious movies that are sure to have you in stitches. Get ready to indulge in a side-splitting movie marathon next week on our video-on-demand streaming platform!\n",
      "\n",
      "First up, we have \"Big Daddy\" – a laugh riot that follows the misadventures of a lazy law school grad who adopts a kid to impress his girlfriend. But things take an unexpected turn, and he finds himself as an unlikely foster father. This heartwarming comedy will have you chuckling from start to finish as you witness the endearing bond between the two protagonists.\n",
      "\n",
      "Next, prepare to be swept off your feet by the timeless romantic comedy, \"Pretty Woman.\" When a successful businessman hires a charming prostitute as his escort for social events, they unexpectedly fall in love. This beloved classic is a perfect blend of humor, romance, and heart-melting moments that will leave you with a big smile on your face.\n",
      "\n",
      "And last but not least, \"10 Things I Hate About You\" is a must-watch for any comedy lover. In this delightful film, a popular teenager can't go on a date until her ill-tempered older sister does. Get ready for a rollercoaster of hilarious situations, witty dialogues, and a charming romantic storyline that will have you cheering for the characters.\n",
      "\n",
      "With these side-splitting comedies available at your fingertips, you're in for a week of non-stop laughter and pure entertainment. Don't miss out on the chance to escape into these captivating worlds of humor and joy. Log in to our platform today and immerse yourself in the fun!\n",
      "\n",
      "Happy streaming, Otto!\n",
      "\n",
      "Best regards,\n",
      "[Your Name]\n",
      "Skilled Publicist\n",
      "[Streaming Platform Name]\n",
      "\n"
     ]
    }
   ],
   "source": [
    "# Invoke model\n",
    "response = getPersonalizedEmail(bedrock,model_id, max_tokens_to_sample, prompt_input_json)\n",
    "print (response)"
   ]
  },
  {
   "cell_type": "markdown",
   "id": "7ec6f311",
   "metadata": {},
   "source": [
    "### Generating a marketing email for a young adult"
   ]
  },
  {
   "cell_type": "code",
   "execution_count": 34,
   "id": "61963ccb",
   "metadata": {},
   "outputs": [
    {
     "name": "stdout",
     "output_type": "stream",
     "text": [
      "User's age group\n"
     ]
    },
    {
     "data": {
      "text/plain": [
       "'The user is a young adult called Jane.'"
      ]
     },
     "execution_count": 34,
     "metadata": {},
     "output_type": "execute_result"
    }
   ],
   "source": [
    "print ('User\\'s age group')\n",
    "user_demographic = user_demographic_3\n",
    "user_demographic"
   ]
  },
  {
   "cell_type": "code",
   "execution_count": 35,
   "id": "559cad7a",
   "metadata": {},
   "outputs": [
    {
     "name": "stdout",
     "output_type": "stream",
     "text": [
      "User's favorite Genre\n"
     ]
    },
    {
     "data": {
      "text/plain": [
       "'Comedy'"
      ]
     },
     "execution_count": 35,
     "metadata": {},
     "output_type": "execute_result"
    }
   ],
   "source": [
    "print ('User\\'s favorite Genre')\n",
    "user_favorite_genre"
   ]
  },
  {
   "cell_type": "code",
   "execution_count": 36,
   "id": "2120ce8a",
   "metadata": {},
   "outputs": [
    {
     "name": "stdout",
     "output_type": "stream",
     "text": [
      "User's recommended movies:\n",
      "Title: Big Daddy\n",
      "Genres: Comedy and Drama\n",
      "Plot: A lazy law school grad adopts a kid to impress his girlfriend, but everything doesn't go as planned and he becomes the unlikely foster father.\n",
      "\n",
      "Title: Pretty Woman\n",
      "Genres: Comedy and Romance\n",
      "Plot: A man in a legal but hurtful business needs an escort for some social events, and hires a beautiful prostitute he meets... only to fall in love.\n",
      "\n",
      "Title: 10 Things I Hate About You\n",
      "Genres: Comedy and Drama and Romance\n",
      "Plot: A pretty, popular teenager can't go out on a date until her ill-tempered older sister does.\n",
      "\n"
     ]
    }
   ],
   "source": [
    "print ('User\\'s recommended movies:')\n",
    "\n",
    "# print each movie in the array\n",
    "for movie in movie_list:\n",
    "    print ('Title: '+movie['title'])\n",
    "    print ('Genres: '+movie['genres'])\n",
    "    print ('Plot: '+movie['plot'])\n",
    "    print ()"
   ]
  },
  {
   "cell_type": "code",
   "execution_count": 37,
   "id": "8353fd88",
   "metadata": {},
   "outputs": [
    {
     "data": {
      "text/plain": [
       "'{\"prompt\": \"\\\\n\\\\nHuman: You are a skilled publicist. Write a high-converting marketing email advertising several movies available in a video-on-demand streaming platform next week, \\\\n    given the movie and user information below. Your email will leverage the power of storytelling and persuasive language. \\\\n    You want the email to impress the user, so make it appealing to them based on the information contained in the <user> tags, \\\\n    and take into account the user\\'s favorite genre in the <genre> tags. \\\\n    The movies to recommend and their information is contained in the <movie> tag. \\\\n    All movies in the <movie> tag must be recommended. Give a summary of the movies and why the human should watch them. \\\\n    Put the email between <email> tags.\\\\n\\\\n    <user>\\\\n    The user is a young adult called Jane.\\\\n    </user>\\\\n\\\\n    <genre>\\\\n    Comedy\\\\n    </genre>\\\\n\\\\n    <movie>\\\\n    [{\\'title\\': \\'Big Daddy\\', \\'genres\\': \\'Comedy and Drama\\', \\'plot\\': \\\\\"A lazy law school grad adopts a kid to impress his girlfriend, but everything doesn\\'t go as planned and he becomes the unlikely foster father.\\\\\"}, {\\'title\\': \\'Pretty Woman\\', \\'genres\\': \\'Comedy and Romance\\', \\'plot\\': \\'A man in a legal but hurtful business needs an escort for some social events, and hires a beautiful prostitute he meets... only to fall in love.\\'}, {\\'title\\': \\'10 Things I Hate About You\\', \\'genres\\': \\'Comedy and Drama and Romance\\', \\'plot\\': \\\\\"A pretty, popular teenager can\\'t go out on a date until her ill-tempered older sister does.\\\\\"}]\\\\n    </movie>\\\\n\\\\n    Assistant:\\\\n    \", \"max_tokens_to_sample\": 1000}'"
      ]
     },
     "execution_count": 37,
     "metadata": {},
     "output_type": "execute_result"
    }
   ],
   "source": [
    "prompt_input_json = generate_personalize_advanced_prompt(user_demographic, user_favorite_genre, movie_list, model_id, max_tokens_to_sample )\n",
    "prompt_input_json"
   ]
  },
  {
   "cell_type": "code",
   "execution_count": 38,
   "id": "cbc2ec17",
   "metadata": {},
   "outputs": [
    {
     "name": "stdout",
     "output_type": "stream",
     "text": [
      "\n",
      "Subject: Laugh Out Loud with Our Must-Watch Comedy Hits!\n",
      "\n",
      "Hey Jane,\n",
      "\n",
      "As a fellow comedy enthusiast, I've got an exciting lineup of side-splitting movies for you to enjoy on our video-on-demand platform next week. Get ready to indulge in some seriously hilarious storytelling that will have you in stitches!\n",
      "\n",
      "First up, we have the classic \"Big Daddy\" starring Adam Sandler. In this hilarious romp, a lovable slacker inadvertently becomes a foster dad to a young boy, turning his life upside down in the most entertaining way possible. Prepare for gut-busting laughs as Sandler navigates the challenges of unexpected parenthood with his signature brand of slapstick humor.\n",
      "\n",
      "Next, we've got the beloved romantic comedy \"Pretty Woman\" starring Julia Roberts and Richard Gere. This charming tale follows a wealthy businessman who hires a charming and spirited escort, only to find himself falling for her wit and charm. Get ready for heartwarming moments, quotable lines, and a feel-good romance that will leave you smiling from ear to ear.\n",
      "\n",
      "Last but not least, we have the iconic teen comedy \"10 Things I Hate About You,\" a modern twist on Shakespeare's \"The Taming of the Shrew.\" This hilarious and heartfelt film follows a popular high school student who must find a way to set her ill-tempered sister up with a date before she can pursue her own romantic interests. Prepare for relatable high school hijinks, memorable characters, and plenty of laughs along the way.\n",
      "\n",
      "Don't miss out on these comedic gems, Jane! Whether you're in the mood for a heartwarming romance, a quirky family adventure, or a nostalgic trip down memory lane, our video-on-demand platform has something for every comedy lover. Laugh, cry, and fall in love with these unforgettable stories – all from the comfort of your own home.\n",
      "\n",
      "Happy streaming!\n",
      "\n",
      "[Your Streaming Platform]\n",
      "\n"
     ]
    }
   ],
   "source": [
    "# Invoke model\n",
    "response = getPersonalizedEmail(bedrock,model_id, max_tokens_to_sample, prompt_input_json)\n",
    "print (response)"
   ]
  },
  {
   "cell_type": "markdown",
   "id": "5182225c",
   "metadata": {},
   "source": [
    "## Wrap up<a class=\"anchor\" id=\"wrapup\"></a>\n",
    "[Back to top](#top)\n"
   ]
  },
  {
   "cell_type": "code",
   "execution_count": 39,
   "id": "95d3ecc0",
   "metadata": {},
   "outputs": [
    {
     "name": "stdout",
     "output_type": "stream",
     "text": [
      "Stored 'workshop_dataset_group_arn' (str)\n",
      "Stored 'region' (str)\n",
      "Stored 'role_name' (str)\n"
     ]
    }
   ],
   "source": [
    "# Store variables\n",
    "%store workshop_dataset_group_arn\n",
    "%store region\n",
    "%store role_name"
   ]
  },
  {
   "cell_type": "markdown",
   "id": "d4b7edf0",
   "metadata": {},
   "source": [
    "With that you now have a fully working personalized marketing conten generator.\n",
    "\n",
    "You'll want to make sure that you clean up all of the resources deployed during this workshop. We have provided a separate notebook which shows you how to identify and delete the resources in [`Media_06_Clean_Up.ipynb`](Media_06_Clean_Up.ipynb)."
   ]
  },
  {
   "cell_type": "code",
   "execution_count": null,
   "id": "4bd4d38e-ef4e-4d84-b43a-28802192aa0e",
   "metadata": {},
   "outputs": [],
   "source": []
  }
 ],
 "metadata": {
  "kernelspec": {
   "display_name": "conda_pytorch_p310",
   "language": "python",
   "name": "conda_pytorch_p310"
  },
  "language_info": {
   "codemirror_mode": {
    "name": "ipython",
    "version": 3
   },
   "file_extension": ".py",
   "mimetype": "text/x-python",
   "name": "python",
   "nbconvert_exporter": "python",
   "pygments_lexer": "ipython3",
   "version": "3.10.14"
  }
 },
 "nbformat": 4,
 "nbformat_minor": 5
}
