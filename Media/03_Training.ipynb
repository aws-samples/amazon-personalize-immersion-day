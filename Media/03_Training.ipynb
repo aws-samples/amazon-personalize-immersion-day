{
 "cells": [
  {
   "cell_type": "markdown",
   "metadata": {},
   "source": [
    "# Recommenders and Solutions Recap and Evaluation<a class=\"anchor\" id=\"top\"></a>\n",
    "\n",
    "## Outline\n",
    "\n",
    "1. [Introduction](#intro)\n",
    "1. [Create Use Case Optimized Recommenders](#recommenders)\n",
    "1. [Create solutions](#solutions)\n",
    "1. [Deploy a campaign](#deploy)\n",
    "1. [Evaluate solutions and recommenders](#eval)\n",
    "1. [Using Evaluation Metrics](#usemetrics)\n",
    "1. [Storing useful variables](#vars)\n",
    "\n",
    "To run this notebook, you need to have run [the previous notebook: `02_Data_Import.ipynb`](02_Data_Import.ipynb), where you uploaded 3 datasets (item interactions, items, and users) for use in Amazon Personalize. At the end of that notebook, you saved some of the variable values, which you now need to load into this notebook.\n",
    "\n",
    "## Introduction <a class=\"anchor\" id=\"intro\"></a>\n",
    "\n",
    "In the previous notebook we prepared 3 different datasets that represent our fictional service UnicornFlix's(User interactions, Media catalog data and subscriber/user data) and created Datasets in Amazon Personalize for this data.\n",
    "\n",
    "### In this notebook we will accomplish the following:\n",
    "\n",
    "\n",
    "## Define your Use Case <a class=\"anchor\" id=\"usecase\"></a>\n",
    "[Back to top](#top)\n",
    "\n",
    "There are a few guidelines for scoping a problem suitable for Personalize. We recommend the values below as a starting point, although the [official limits](https://docs.aws.amazon.com/personalize/latest/dg/limits.html) lie a little lower.\n",
    "\n",
    "* Authenticated users\n",
    "* At least 50 unique users\n",
    "* At least 100 unique items\n",
    "* At least 2 dozen interactions for each user \n",
    "\n",
    "Most of the time this is easily attainable, and if you are low in one category, you can often make up for it by having a larger number in another category.\n",
    "\n",
    "The user-item-iteraction data is key for getting started with the service. This means we need to look for use cases that generate that kind of data, a few common examples are:\n",
    "\n",
    "1. Video-on-demand applications\n",
    "1. E-commerce platforms\n",
    "\n",
    "Defining your use-case will inform what data and what type of data you need.\n",
    "\n",
    "### Train Models and create API's for recommendations\n",
    "\n",
    "In this section we will be creating Video on Demand Use Case Optimized Recommenders for the following use cases:\n",
    "\n",
    "1. [More like X](https://docs.aws.amazon.com/personalize/latest/dg/VIDEO_ON_DEMAND-use-cases.html#more-like-y-use-case): recommendations for movies that are similar to a movie that you specify. With this use case, Amazon Personalize automatically filters movies the user watched based on the userId that you specify and Watch events.\n",
    "\n",
    "1. [Top picks for you](https://docs.aws.amazon.com/personalize/latest/dg/VIDEO_ON_DEMAND-use-cases.html#top-picks-use-case): personalized content recommendations for a user that you specify. With this use case, Amazon Personalize automatically filters videos the user watched based on the userId that you specify and Watch events.\n",
    "\n",
    "in addition we will create a custom solution, solution version and campaign for the following use case:\n",
    "\n",
    "3. [Personalized-Ranking](https://docs.aws.amazon.com/personalize/latest/dg/working-with-predefined-recipes.html): will be used to rerank a list of movies.\n",
    "\n",
    "All of these will be created within the same dataset group and with the same input data.\n",
    "\n",
    "The following diagram shows the resources that we will create in this section. with the section we are building  in this notebook highlighted in blue with a dashed outline.\n",
    "\n",
    "![Workflow](images/02_Training_Layer_Resources.jpg)"
   ]
  },
  {
   "cell_type": "markdown",
   "metadata": {},
   "source": [
    "Similar to the previous notebook, start by importing the relevant packages, and set up a connection to Amazon Personalize using the SDK."
   ]
  },
  {
   "cell_type": "code",
   "execution_count": 1,
   "metadata": {
    "tags": []
   },
   "outputs": [],
   "source": [
    "import time\n",
    "from time import sleep\n",
    "import json\n",
    "from datetime import datetime\n",
    "import uuid\n",
    "import random\n",
    "import boto3\n",
    "import botocore\n",
    "from botocore.exceptions import ClientError\n",
    "import pandas as pd"
   ]
  },
  {
   "cell_type": "code",
   "execution_count": 2,
   "metadata": {
    "tags": []
   },
   "outputs": [],
   "source": [
    "%store -r"
   ]
  },
  {
   "cell_type": "code",
   "execution_count": 3,
   "metadata": {
    "tags": []
   },
   "outputs": [],
   "source": [
    "# Configure the SDK to Personalize:\n",
    "personalize = boto3.client('personalize')\n",
    "personalize_runtime = boto3.client('personalize-runtime')"
   ]
  },
  {
   "cell_type": "markdown",
   "metadata": {},
   "source": [
    "# How to train your Use Case Optimized Recommenders and Solution Versions\n",
    "\n",
    "If you are doing the \"pretrained\" modality, a dataset group, schemas, datasets, solutions, and campaigns have already been created for you. You can open another browser tab/window to view these resources in the Personalize AWS Console.\n",
    "\n",
    "Below we will walk you through the steps we used to create these resources. However you can also run this code to train resources if you have not pretrained."
   ]
  },
  {
   "cell_type": "markdown",
   "metadata": {},
   "source": [
    "### Ready... Set... Train! :\n",
    "\n",
    "Now that the data is imported and ready for use, we will create Video on Demand Use Case Optimized Recommenders for the following use cases:\n",
    "\n",
    "1. [More like X](https://docs.aws.amazon.com/personalize/latest/dg/VIDEO_ON_DEMAND-use-cases.html#more-like-y-use-case): recommendations for movies that are similar to a movie that you specify. With this use case, Amazon Personalize automatically filters movies the user watched based on the userId that you specify and Watch events.\n",
    "\n",
    "1. [Top picks for you](https://docs.aws.amazon.com/personalize/latest/dg/VIDEO_ON_DEMAND-use-cases.html#top-picks-use-case): personalized content recommendations for a user that you specify. With this use case, Amazon Personalize automatically filters videos the user watched based on the userId that you specify and Watch events.\n",
    "\n",
    "We will also create a custom solution and solution versions for the following use case:\n",
    "\n",
    "3. [Personalized-Ranking](https://docs.aws.amazon.com/personalize/latest/dg/working-with-predefined-recipes.html): will be used to rerank a list of movies.\n",
    "\n"
   ]
  },
  {
   "cell_type": "markdown",
   "metadata": {},
   "source": [
    "## Create Use Case Optimized Recommenders <a class=\"anchor\" id=\"recommenders\"></a>\n",
    "[Back to top](#top)"
   ]
  },
  {
   "cell_type": "markdown",
   "metadata": {},
   "source": [
    "We'll start with pre-configured VIDEO_ON_DEMAND Recommenders that match some of our core use cases. Each domain has different use cases. When you create a recommender you create it for a specific use case, and each use case has different requirements for getting recommendations.\n",
    "\n",
    "Let us look at the recommenders supported for the VIDEO_ON_DEMAND domain:"
   ]
  },
  {
   "cell_type": "code",
   "execution_count": 4,
   "metadata": {
    "tags": []
   },
   "outputs": [
    {
     "data": {
      "text/plain": [
       "[{'name': 'aws-vod-because-you-watched-x',\n",
       "  'recipeArn': 'arn:aws:personalize:::recipe/aws-vod-because-you-watched-x',\n",
       "  'status': 'ACTIVE',\n",
       "  'creationDateTime': datetime.datetime(2019, 6, 10, 0, 0, tzinfo=tzlocal()),\n",
       "  'lastUpdatedDateTime': datetime.datetime(2024, 3, 8, 19, 59, 25, 77000, tzinfo=tzlocal()),\n",
       "  'domain': 'VIDEO_ON_DEMAND'},\n",
       " {'name': 'aws-vod-more-like-x',\n",
       "  'recipeArn': 'arn:aws:personalize:::recipe/aws-vod-more-like-x',\n",
       "  'status': 'ACTIVE',\n",
       "  'creationDateTime': datetime.datetime(2019, 6, 10, 0, 0, tzinfo=tzlocal()),\n",
       "  'lastUpdatedDateTime': datetime.datetime(2024, 3, 8, 19, 59, 25, 77000, tzinfo=tzlocal()),\n",
       "  'domain': 'VIDEO_ON_DEMAND'},\n",
       " {'name': 'aws-vod-most-popular',\n",
       "  'recipeArn': 'arn:aws:personalize:::recipe/aws-vod-most-popular',\n",
       "  'status': 'ACTIVE',\n",
       "  'creationDateTime': datetime.datetime(2019, 6, 10, 0, 0, tzinfo=tzlocal()),\n",
       "  'lastUpdatedDateTime': datetime.datetime(2024, 3, 8, 19, 59, 25, 77000, tzinfo=tzlocal()),\n",
       "  'domain': 'VIDEO_ON_DEMAND'},\n",
       " {'name': 'aws-vod-top-picks',\n",
       "  'recipeArn': 'arn:aws:personalize:::recipe/aws-vod-top-picks',\n",
       "  'status': 'ACTIVE',\n",
       "  'creationDateTime': datetime.datetime(2019, 6, 10, 0, 0, tzinfo=tzlocal()),\n",
       "  'lastUpdatedDateTime': datetime.datetime(2024, 3, 8, 19, 59, 25, 77000, tzinfo=tzlocal()),\n",
       "  'domain': 'VIDEO_ON_DEMAND'},\n",
       " {'name': 'aws-vod-trending-now',\n",
       "  'recipeArn': 'arn:aws:personalize:::recipe/aws-vod-trending-now',\n",
       "  'status': 'ACTIVE',\n",
       "  'creationDateTime': datetime.datetime(2019, 6, 10, 0, 0, tzinfo=tzlocal()),\n",
       "  'lastUpdatedDateTime': datetime.datetime(2024, 3, 8, 19, 59, 25, 426000, tzinfo=tzlocal()),\n",
       "  'domain': 'VIDEO_ON_DEMAND'}]"
      ]
     },
     "metadata": {},
     "output_type": "display_data"
    }
   ],
   "source": [
    "available_recipes = personalize.list_recipes(domain='VIDEO_ON_DEMAND')\n",
    "display_available_recipes = available_recipes ['recipes']\n",
    "available_recipes = personalize.list_recipes(domain='VIDEO_ON_DEMAND',nextToken=available_recipes['nextToken'])#paging to get the rest of the recipes \n",
    "display_available_recipes = display_available_recipes + available_recipes['recipes']\n",
    "display(display_available_recipes)"
   ]
  },
  {
   "cell_type": "markdown",
   "metadata": {},
   "source": [
    "[More use cases per domain](https://docs.aws.amazon.com/personalize/latest/dg/domain-use-cases.html).\n",
    "\n",
    "### Create a \"More like X\" recommender\n",
    "\n",
    "We are going to create a recommender of the type \"More like X\". This type of recommender offers recommendations for videos that are similar to a video a user watched. With this use case, Amazon Personalize automatically filters videos the user watched based on the userId specified in the `get_recommendations` call. \n",
    "\n",
    "We will add:\n",
    "\n",
    "```python\n",
    "    recommenderConfig = {\"enableMetadataWithRecommendations\": True}\n",
    "```\n",
    "in order to inclde metadata when you get recommendations. This is not required, but if not enabled, the recommender will only return the itemIDs of the recommended items. You can find more about this feature in the documentation([domain](https://docs.aws.amazon.com/personalize/latest/dg/creating-recommenders.html)).\n",
    "\n",
    "<div class=\"alert alert-block alert-warning\">\n",
    "<b>Important:</b> When you enable metadata in recommendations, you incur additional costs. For more information see Amazon Personalize pricing: https://aws.amazon.com/personalize/pricing/.\n",
    "</div>"
   ]
  },
  {
   "cell_type": "code",
   "execution_count": 5,
   "metadata": {
    "tags": []
   },
   "outputs": [
    {
     "name": "stdout",
     "output_type": "stream",
     "text": [
      "The More Like X recommender arn:aws:personalize:us-east-1:381491864570:recommender/workshop_more_like_x already exists.\n",
      "\n",
      "We will be using the existing More Like X recommender with workshop_recommender_more_like_x_arn = arn:aws:personalize:us-east-1:381491864570:recommender/workshop_more_like_x\n"
     ]
    }
   ],
   "source": [
    "try:\n",
    "    create_recommender_response = personalize.create_recommender(\n",
    "        name = recommender_more_like_x_name,\n",
    "        recipeArn = 'arn:aws:personalize:::recipe/aws-vod-more-like-x',\n",
    "        datasetGroupArn = workshop_dataset_group_arn,\n",
    "        recommenderConfig = {\"enableMetadataWithRecommendations\": True}\n",
    "    )\n",
    "    workshop_recommender_more_like_x_arn = create_recommender_response[\"recommenderArn\"]\n",
    "    \n",
    "    print (json.dumps(create_recommender_response))\n",
    "    print ('\\nCreating the More Like X recommender with workshop_recommender_more_like_x_arn = {}'.format(workshop_recommender_more_like_x_arn))\n",
    "    \n",
    "except personalize.exceptions.ResourceAlreadyExistsException as e:\n",
    "    workshop_recommender_more_like_x_arn =  'arn:aws:personalize:'+region+':'+account_id+':recommender/'+recommender_more_like_x_name\n",
    "    print('The More Like X recommender {} already exists.'.format(workshop_recommender_more_like_x_arn))\n",
    "    print ('\\nWe will be using the existing More Like X recommender with workshop_recommender_more_like_x_arn = {}'.format(workshop_recommender_more_like_x_arn))   "
   ]
  },
  {
   "cell_type": "markdown",
   "metadata": {},
   "source": [
    "##  Create a \"Top picks for you\" Recommender\n",
    "\n",
    "We are going to create a second recommender of the type \"Top picks for you\". This type of recommender offers personalized streaming content recommendations for a user that you specify. With this use case, Amazon Personalize automatically filters videos the user watched based on the userId that you specify and Watch events.\n"
   ]
  },
  {
   "cell_type": "code",
   "execution_count": 6,
   "metadata": {
    "tags": []
   },
   "outputs": [
    {
     "name": "stdout",
     "output_type": "stream",
     "text": [
      "The Top Picks For You recommender arn:aws:personalize:us-east-1:381491864570:recommender/workshop_top_picks_for_you already exists.\n",
      "\n",
      "We will be using the existing Top Picks For You recommender with workshop_recommender_top_picks_arn = arn:aws:personalize:us-east-1:381491864570:recommender/workshop_top_picks_for_you\n"
     ]
    }
   ],
   "source": [
    "try:\n",
    "    create_recommender_response = personalize.create_recommender(\n",
    "        name = recommender_top_picks_for_you_name,\n",
    "        recipeArn = 'arn:aws:personalize:::recipe/aws-vod-top-picks',\n",
    "        datasetGroupArn = workshop_dataset_group_arn,\n",
    "        recommenderConfig = {\"enableMetadataWithRecommendations\": True}\n",
    "    )\n",
    "    workshop_recommender_top_picks_arn = create_recommender_response[\"recommenderArn\"]\n",
    "    \n",
    "    print (json.dumps(create_recommender_response))\n",
    "    print ('\\nCreating the Top Picks For You recommender with workshop_recommender_top_picks_arn = {}'.format(workshop_recommender_top_picks_arn))\n",
    "    \n",
    "except personalize.exceptions.ResourceAlreadyExistsException as e:\n",
    "    workshop_recommender_top_picks_arn =  'arn:aws:personalize:'+region+':'+account_id+':recommender/'+recommender_top_picks_for_you_name\n",
    "    print('The Top Picks For You recommender {} already exists.'.format(workshop_recommender_top_picks_arn))\n",
    "    print ('\\nWe will be using the existing Top Picks For You recommender with workshop_recommender_top_picks_arn = {}'.format(workshop_recommender_top_picks_arn))\n",
    "    \n",
    "    "
   ]
  },
  {
   "cell_type": "markdown",
   "metadata": {},
   "source": [
    "## Create Solutions <a class=\"anchor\" id=\"solutions\"></a>\n",
    "[Back to top](#top)\n",
    "\n",
    "Some use cases require a custom implementation. \n",
    "\n",
    "In Amazon Personalize, a specific variation of an algorithm is called a recipe. Different recipes are suitable for different situations. A trained model is called a solution, and each solution can have many versions that relate to a given volume of data when the model was trained.\n",
    "\n",
    "Let's look at all available recipes that are not of a specific domain and can be used to create custom solutions. "
   ]
  },
  {
   "cell_type": "code",
   "execution_count": 7,
   "metadata": {
    "tags": []
   },
   "outputs": [
    {
     "data": {
      "text/plain": [
       "[{'name': 'aws-item-affinity',\n",
       "  'recipeArn': 'arn:aws:personalize:::recipe/aws-item-affinity',\n",
       "  'status': 'ACTIVE',\n",
       "  'creationDateTime': datetime.datetime(2021, 7, 15, 0, 0, tzinfo=tzlocal()),\n",
       "  'lastUpdatedDateTime': datetime.datetime(2024, 3, 8, 19, 59, 25, 77000, tzinfo=tzlocal())},\n",
       " {'name': 'aws-item-attribute-affinity',\n",
       "  'recipeArn': 'arn:aws:personalize:::recipe/aws-item-attribute-affinity',\n",
       "  'status': 'ACTIVE',\n",
       "  'creationDateTime': datetime.datetime(2021, 8, 25, 0, 0, tzinfo=tzlocal()),\n",
       "  'lastUpdatedDateTime': datetime.datetime(2024, 3, 8, 19, 59, 25, 77000, tzinfo=tzlocal())},\n",
       " {'name': 'aws-next-best-action',\n",
       "  'recipeArn': 'arn:aws:personalize:::recipe/aws-next-best-action',\n",
       "  'status': 'ACTIVE',\n",
       "  'creationDateTime': datetime.datetime(2023, 8, 11, 0, 0, tzinfo=tzlocal()),\n",
       "  'lastUpdatedDateTime': datetime.datetime(2024, 3, 8, 19, 59, 25, 77000, tzinfo=tzlocal())},\n",
       " {'name': 'aws-personalized-ranking',\n",
       "  'recipeArn': 'arn:aws:personalize:::recipe/aws-personalized-ranking',\n",
       "  'status': 'ACTIVE',\n",
       "  'creationDateTime': datetime.datetime(2019, 6, 10, 0, 0, tzinfo=tzlocal()),\n",
       "  'lastUpdatedDateTime': datetime.datetime(2024, 3, 8, 19, 59, 25, 77000, tzinfo=tzlocal())},\n",
       " {'name': 'aws-popularity-count',\n",
       "  'recipeArn': 'arn:aws:personalize:::recipe/aws-popularity-count',\n",
       "  'status': 'ACTIVE',\n",
       "  'creationDateTime': datetime.datetime(2019, 6, 10, 0, 0, tzinfo=tzlocal()),\n",
       "  'lastUpdatedDateTime': datetime.datetime(2024, 3, 8, 19, 59, 25, 77000, tzinfo=tzlocal())},\n",
       " {'name': 'aws-similar-items',\n",
       "  'recipeArn': 'arn:aws:personalize:::recipe/aws-similar-items',\n",
       "  'status': 'ACTIVE',\n",
       "  'creationDateTime': datetime.datetime(2019, 6, 10, 0, 0, tzinfo=tzlocal()),\n",
       "  'lastUpdatedDateTime': datetime.datetime(2024, 3, 8, 19, 59, 25, 77000, tzinfo=tzlocal())},\n",
       " {'name': 'aws-sims',\n",
       "  'recipeArn': 'arn:aws:personalize:::recipe/aws-sims',\n",
       "  'status': 'ACTIVE',\n",
       "  'creationDateTime': datetime.datetime(2019, 6, 10, 0, 0, tzinfo=tzlocal()),\n",
       "  'lastUpdatedDateTime': datetime.datetime(2024, 3, 8, 19, 59, 25, 77000, tzinfo=tzlocal())},\n",
       " {'name': 'aws-trending-now',\n",
       "  'recipeArn': 'arn:aws:personalize:::recipe/aws-trending-now',\n",
       "  'status': 'ACTIVE',\n",
       "  'creationDateTime': datetime.datetime(2022, 10, 1, 0, 0, tzinfo=tzlocal()),\n",
       "  'lastUpdatedDateTime': datetime.datetime(2024, 3, 8, 19, 59, 25, 77000, tzinfo=tzlocal())},\n",
       " {'name': 'aws-user-personalization',\n",
       "  'recipeArn': 'arn:aws:personalize:::recipe/aws-user-personalization',\n",
       "  'status': 'ACTIVE',\n",
       "  'creationDateTime': datetime.datetime(2019, 6, 10, 0, 0, tzinfo=tzlocal()),\n",
       "  'lastUpdatedDateTime': datetime.datetime(2024, 3, 8, 19, 59, 25, 77000, tzinfo=tzlocal())}]"
      ]
     },
     "metadata": {},
     "output_type": "display_data"
    }
   ],
   "source": [
    "available_recipes = personalize.list_recipes()\n",
    "display_available_recipes = available_recipes ['recipes']\n",
    "available_recipes = personalize.list_recipes(nextToken=available_recipes['nextToken'])#paging to get the rest of the recipes \n",
    "display_available_recipes = display_available_recipes + available_recipes['recipes']\n",
    "\n",
    "display ([recipe  for recipe in display_available_recipes if 'domain' not in recipe])\n"
   ]
  },
  {
   "cell_type": "markdown",
   "metadata": {},
   "source": [
    "We want to rank a list of items for a specific user. This is useful if you have a collection of ordered items, such as search results, promotions, or curated lists, and you want to provide a personalized re-ranking for each of your users. To implement this use case, we will create a custom solution using the recipe.\n",
    "\n",
    "The Personalized-Ranking recipe provides recommendations in ranked order based on predicted interest level. This recipe generates personalized rankings of items. This is useful if you have a collection of ordered items, such as search results, curated lists or anything you cannot easily categorize and you want to provide a personalized re-ranking for each of your users.\n",
    "\n",
    "These custom solution will use the same datasets that we already implemented so all we need to do is create a solution and solution version for this recipe.\n"
   ]
  },
  {
   "cell_type": "markdown",
   "metadata": {},
   "source": [
    "### Personalized Ranking\n",
    "\n",
    "Personalized Ranking uses the same underlying algorithm as the \"Top Picks for you\" recommender. Instead of just recommending what a user would be most interested on from the whole catalog, this algorithm takes in a list of items as well as a user. The items are then returned in the order of most probable relevance for the user. \n",
    "\n",
    "You can use this for ranking unique categories that you do not have item metadata to create a filter for, or when you have a particular collection of items that you would like better ordered for a particular user.\n",
    "\n",
    "For our use case, using the MovieLens data, we could imagine that a Video on Demand application may want to create a shelf of comic book movies, or seasonal movies. We can generate these lists based on metadata we have. We would use personalized ranking to re-order the list of movies for each user.\n",
    "\n",
    "We start by selecting the recipe.\n"
   ]
  },
  {
   "cell_type": "code",
   "execution_count": 8,
   "metadata": {
    "tags": []
   },
   "outputs": [],
   "source": [
    "workshop_rerank_recipe_arn = \"arn:aws:personalize:::recipe/aws-personalized-ranking\""
   ]
  },
  {
   "cell_type": "markdown",
   "metadata": {},
   "source": [
    "### Create the solution\n",
    "\n",
    "First you create [a solution](https://docs.aws.amazon.com/personalize/latest/dg/training-deploying-solutions.html) using the recipe. Even though this step you will provide the recipe and dataset Group ARNs, the models are trained when a solution version is created. See this as an identifier or a blueprint instead of a trained model. We create a solution becuase then you can use the same solution to train multiple Solution Versions over time as you ingest more data from your user interactions, add items to your catalog, or add user metadata to you users dataset.\n",
    "\n"
   ]
  },
  {
   "cell_type": "code",
   "execution_count": 9,
   "metadata": {
    "tags": []
   },
   "outputs": [
    {
     "name": "stdout",
     "output_type": "stream",
     "text": [
      "The Personalize Ranking Solution arn:aws:personalize:us-east-1:381491864570:solution/workshop_personalized_ranking already exists.\n",
      "\n",
      "We will be using the existing Personalize Ranking Solution with workshop_rerank_solution_arn = arn:aws:personalize:us-east-1:381491864570:solution/workshop_personalized_ranking\n"
     ]
    }
   ],
   "source": [
    "try:\n",
    "    rerank_create_solution_response = personalize.create_solution(\n",
    "        name = workshop_rerank_solution_name,\n",
    "        datasetGroupArn = workshop_dataset_group_arn,\n",
    "        recipeArn = workshop_rerank_recipe_arn\n",
    "    )\n",
    "\n",
    "    workshop_rerank_solution_arn = rerank_create_solution_response['solutionArn']\n",
    "    print(json.dumps(rerank_create_solution_response, indent=2))\n",
    "\n",
    "    print ('\\nCreating the Personalize Ranking Solution with workshop_rerank_solution_arn = {}'.format(workshop_rerank_solution_arn))\n",
    "\n",
    "except personalize.exceptions.ResourceAlreadyExistsException as e:\n",
    "    workshop_rerank_solution_arn =  'arn:aws:personalize:'+region+':'+account_id+':solution/'+workshop_rerank_solution_name\n",
    "    print('The Personalize Ranking Solution {} already exists.'.format(workshop_rerank_solution_arn))\n",
    "    print ('\\nWe will be using the existing Personalize Ranking Solution with workshop_rerank_solution_arn = {}'.format(workshop_rerank_solution_arn))\n",
    "    \n"
   ]
  },
  {
   "cell_type": "markdown",
   "metadata": {},
   "source": [
    "### Create the solution version\n",
    "\n",
    "Once you have a solution, you need to create a version in order to complete the model training. The training can take a while to complete, upwards of 25 minutes, and an average of 35 minutes for this recipe with our dataset. Normally, we would use a while loop to poll until the task is completed. "
   ]
  },
  {
   "cell_type": "code",
   "execution_count": 10,
   "metadata": {
    "tags": []
   },
   "outputs": [
    {
     "name": "stdout",
     "output_type": "stream",
     "text": [
      "\n",
      "We will be using the existing Personalize Ranking Solution Version with workshop_rerank_solution_version_arn = arn:aws:personalize:us-east-1:381491864570:solution/workshop_personalized_ranking/0159b215\n"
     ]
    }
   ],
   "source": [
    "workshop_rerank_solution_version_arn = None\n",
    "\n",
    "solution_versions_list = personalize.list_solution_versions(\n",
    "    solutionArn=workshop_rerank_solution_arn,\n",
    "    maxResults=10\n",
    ")['solutionVersions']\n",
    "\n",
    "for solution_vers in solution_versions_list:\n",
    "    if solution_vers['status'] in ['CREATE PENDING', 'CREATE IN_PROGRESS', 'ACTIVE']:\n",
    "        workshop_rerank_solution_version_arn = solution_vers['solutionVersionArn']\n",
    "    if workshop_rerank_solution_version_arn:\n",
    "        break\n",
    "\n",
    "if workshop_rerank_solution_version_arn:\n",
    "    print ('\\nWe will be using the existing Personalize Ranking Solution Version with workshop_rerank_solution_version_arn = {}'.format(workshop_rerank_solution_version_arn))\n",
    "else:\n",
    "    rerank_create_solution_version_response = personalize.create_solution_version(\n",
    "        solutionArn = workshop_rerank_solution_arn\n",
    "    )\n",
    "    workshop_rerank_solution_version_arn = rerank_create_solution_version_response['solutionVersionArn']\n",
    "    print(json.dumps(rerank_create_solution_version_response, indent=2))\n",
    "    \n",
    "    print ('\\nTraining the Personalize Ranking Solution Version with workshop_rerank_solution_version_arn = {}'.format(workshop_rerank_solution_version_arn))\n",
    " "
   ]
  },
  {
   "cell_type": "markdown",
   "metadata": {},
   "source": [
    "### View solution and recommender creation status\n",
    "\n",
    "To view the status updates in the console:\n",
    "\n",
    "* In another browser tab you should already have the AWS Console up from opening this notebook instance. \n",
    "* Switch to that tab and search at the top for the service `Personalize`, then go to that service page. \n",
    "* Click `Manage Dataset groups`.\n",
    "* Click the name of your dataset group, if you did not change it, it is \"personalize-poc-movielens\".\n",
    "* Click `Recommenders`.\n",
    "* You will see a list of the two recommenders you created above, including a column with the status of the recommender. Once it is `Active`, your recommender is ready.\n",
    "* Click on `Custom Resources`. This oppens up the list of custom resources that you have created.\n",
    "* Click on `Solutions and Recipes` to see your re-ranking solutions. If you click on `personalize-poc-rerank` you can see the status of the solution versions. Once it is `Active`, your solution is ready to be reviewed. It is also capable of being deployed.\n",
    "\n",
    "Or simply run the cell below to keep track of the recommenders and solution version creation status."
   ]
  },
  {
   "cell_type": "code",
   "execution_count": 11,
   "metadata": {
    "tags": []
   },
   "outputs": [
    {
     "name": "stdout",
     "output_type": "stream",
     "text": [
      "Build succeeded for arn:aws:personalize:us-east-1:381491864570:recommender/workshop_more_like_x\n",
      "The More Like x recommender is ACTIVE\n",
      "Build succeeded for arn:aws:personalize:us-east-1:381491864570:recommender/workshop_top_picks_for_you\n",
      "The Top Picks for You recommender is ACTIVE\n",
      "Build succeeded for arn:aws:personalize:us-east-1:381491864570:solution/workshop_personalized_ranking/0159b215\n",
      "The Rerank solution is ACTIVE\n"
     ]
    }
   ],
   "source": [
    "max_time = time.time() + 10*60*60 # 10 hours\n",
    "while time.time() < max_time:\n",
    "\n",
    "    # Recommender more_like_x\n",
    "    version_response = personalize.describe_recommender(\n",
    "        recommenderArn = workshop_recommender_more_like_x_arn\n",
    "    )\n",
    "    status_more_like_x = version_response[\"recommender\"][\"status\"]\n",
    "\n",
    "    if status_more_like_x == \"ACTIVE\":\n",
    "        print(\"Build succeeded for {}\".format(workshop_recommender_more_like_x_arn))\n",
    "        \n",
    "    elif status_more_like_x == \"CREATE FAILED\":\n",
    "        print(\"Build failed for {}\".format(workshop_recommender_more_like_x_arn))\n",
    "        break\n",
    "\n",
    "    if not status_more_like_x == \"ACTIVE\":\n",
    "        print(\"The More Like x recommender build is still in progress\")\n",
    "    else:\n",
    "        print(\"The More Like x recommender is ACTIVE\")\n",
    "\n",
    "    # Recommender top_picks_for_you\n",
    "    version_response = personalize.describe_recommender(\n",
    "        recommenderArn = workshop_recommender_top_picks_arn\n",
    "    )\n",
    "    status_top_picks = version_response[\"recommender\"][\"status\"]\n",
    "\n",
    "    if status_top_picks == \"ACTIVE\":\n",
    "        print(\"Build succeeded for {}\".format(workshop_recommender_top_picks_arn))\n",
    "    elif status_top_picks == \"CREATE FAILED\":\n",
    "        print(\"Build failed for {}\".format(workshop_recommender_top_picks_arn))\n",
    "        break\n",
    "\n",
    "    if not status_top_picks == \"ACTIVE\":\n",
    "        print(\"The Top Picks for You recommender build is still in progress\")\n",
    "    else:\n",
    "        print(\"The Top Picks for You recommender is ACTIVE\")\n",
    "        \n",
    "    # Reranking Solution \n",
    "    version_response = personalize.describe_solution_version(\n",
    "        solutionVersionArn = workshop_rerank_solution_version_arn\n",
    "    )\n",
    "    status_rerank_solution = version_response[\"solutionVersion\"][\"status\"]\n",
    "\n",
    "    if status_rerank_solution == \"ACTIVE\":\n",
    "        print(\"Build succeeded for {}\".format(workshop_rerank_solution_version_arn))\n",
    "        \n",
    "    elif status_rerank_solution == \"CREATE FAILED\":\n",
    "        print(\"Build failed for {}\".format(workshop_rerank_solution_version_arn))\n",
    "        break\n",
    "\n",
    "    if not status_rerank_solution == \"ACTIVE\":\n",
    "        print(\"The Rerank solution version build is still in progress\")\n",
    "    else:\n",
    "        print(\"The Rerank solution is ACTIVE\")\n",
    "        \n",
    "    if status_more_like_x == \"ACTIVE\" and status_top_picks == 'ACTIVE' and status_rerank_solution == \"ACTIVE\":\n",
    "        break\n",
    "\n",
    "    print()\n",
    "    time.sleep(60)"
   ]
  },
  {
   "cell_type": "markdown",
   "metadata": {},
   "source": [
    "## Deploy a Campaign <a class=\"anchor\" id=\"deploy\"></a>\n",
    "[Back to top](#top)\n",
    "\n",
    "Once a solution version is created, it is possible to get recommendations from them, and to get a feel for their overall behavior.\n",
    "\n",
    "For real-time recommendations, after you prepare and import data and creating a solution, you are ready to deploy your solution version to generate recommendations. You deploy a solution version by creating an Amazon Personalize campaign. If you are getting batch recommendations, you don't need to create a campaign. For more information see [Getting batch recommendations and user segments](https://docs.aws.amazon.com/personalize/latest/dg/recommendations-batch.html).\n",
    "\n",
    "We will deploy a campaign for the solution version. "
   ]
  },
  {
   "cell_type": "markdown",
   "metadata": {},
   "source": [
    "### Create a campaign \n",
    "\n",
    "A campaign is a hosted solution version; an endpoint which you can query for recommendations. Pricing is set by estimating throughput capacity (requests from users for personalization per second). When deploying a campaign, you set a minimum throughput per second (TPS) value. This service, like many within AWS, will automatically scale based on demand, but if latency is critical, you may want to provision ahead for larger demand. For this POC and demo, all minimum throughput thresholds are set to 1. For more information, see the [pricing page](https://aws.amazon.com/personalize/pricing/).\n",
    "\n",
    "Once we're satisfied with our solution version, we need to create Campaigns for each solution version. When creating a campaign you specify the minimum transactions per second (`minProvisionedTPS`) that you expect to make against the service for this campaign. Personalize will automatically scale the inference endpoint up and down for the campaign to match demand but will never scale below `minProvisionedTPS`.\n",
    "\n",
    "We will create a campaign for our solution version set at `minProvisionedTPS` of 1.\n",
    "\n",
    "We will also add:\n",
    "\n",
    "```python\n",
    "    campaignConfig = {\"enableMetadataWithRecommendations\": True}\n",
    "```\n",
    "in order to inclde metadata when you ger recommendations. This is not required, but if not enabled, the recommender will only return the itemIDs of the recommended items. You can find more about this feature in the documentation([custom domain](https://docs.aws.amazon.com/personalize/latest/dg/campaigns.html)).\n",
    "\n",
    "<div class=\"alert alert-block alert-warning\">\n",
    "<b>Important:</b> When you enable metadata in recommendations, you incur additional costs. For more information see Amazon Personalize pricing: https://aws.amazon.com/personalize/pricing/.\n",
    "</div>"
   ]
  },
  {
   "cell_type": "code",
   "execution_count": 12,
   "metadata": {
    "tags": []
   },
   "outputs": [
    {
     "name": "stdout",
     "output_type": "stream",
     "text": [
      "The personalize ranking campaign arn:aws:personalize:us-east-1:381491864570:campaign/workshop_personalized_ranking_campaign already exists.\n",
      "\n",
      "We will be using the existing personalize ranking campaign with workshop_rerank_campaign_arn = arn:aws:personalize:us-east-1:381491864570:campaign/workshop_personalized_ranking_campaign\n"
     ]
    }
   ],
   "source": [
    "try:\n",
    "    rerank_create_campaign_response = personalize.create_campaign(\n",
    "        name = workshop_rerank_campaign_name,\n",
    "        solutionVersionArn = workshop_rerank_solution_version_arn,\n",
    "        minProvisionedTPS = 1,\n",
    "        campaignConfig = {\"enableMetadataWithRecommendations\": True}\n",
    "    )\n",
    "\n",
    "    workshop_rerank_campaign_arn = rerank_create_campaign_response['campaignArn']\n",
    "    print(json.dumps(rerank_create_campaign_response, indent=2))\n",
    "\n",
    "    print ('\\nCreating the personalize ranking campaign with workshop_rerank_campaign_arn = {}'.format(workshop_rerank_campaign_arn))\n",
    "\n",
    "except personalize.exceptions.ResourceAlreadyExistsException as e:\n",
    "    workshop_rerank_campaign_arn =  'arn:aws:personalize:'+region+':'+account_id+':campaign/'+workshop_rerank_campaign_name\n",
    "    print('The personalize ranking campaign {} already exists.'.format(workshop_rerank_campaign_arn))\n",
    "    print ('\\nWe will be using the existing personalize ranking campaign with workshop_rerank_campaign_arn = {}'.format(workshop_rerank_campaign_arn))\n",
    "    "
   ]
  },
  {
   "cell_type": "markdown",
   "metadata": {},
   "source": [
    "### View campaign creation status\n",
    "\n",
    "This is how you view the status updates in the console:\n",
    "\n",
    "* In another browser tab you should already have the AWS Console open from opening this notebook instance. \n",
    "* Switch to that tab and search at the top for the service `Personalize`, then go to that service page. \n",
    "* Click `Dataset groups`.\n",
    "* Click the name of your dataset group.\n",
    "* Click `Recommenders`\n",
    "* Click `Custom Resources`\n",
    "* Click `Campaigns`.\n",
    "* You will now see a list of all of the campaigns you created above, including a column with the status of the campaign. Once it is `Active`, your campaign is ready to be queried.\n",
    "\n",
    "Or simply run the cell below to keep track of the campaign creation status of the campaign we created.\n",
    "\n",
    "While you are waiting for this to complete you can learn more about campaigns in [the documentation](https://docs.aws.amazon.com/personalize/latest/dg/campaigns.html)"
   ]
  },
  {
   "cell_type": "code",
   "execution_count": 13,
   "metadata": {
    "tags": []
   },
   "outputs": [
    {
     "name": "stdout",
     "output_type": "stream",
     "text": [
      "Build succeeded for arn:aws:personalize:us-east-1:381491864570:campaign/workshop_personalized_ranking_campaign\n"
     ]
    }
   ],
   "source": [
    "max_time = time.time() + 3*60*60 # 3 hours\n",
    "while time.time() < max_time:\n",
    "\n",
    "    version_response = personalize.describe_campaign(\n",
    "        campaignArn = workshop_rerank_campaign_arn\n",
    "    )\n",
    "    status = version_response['campaign']['status']\n",
    "\n",
    "    if status == 'ACTIVE':\n",
    "        print('Build succeeded for {}'.format(workshop_rerank_campaign_arn))\n",
    "    elif status == \"CREATE FAILED\":\n",
    "        print('Build failed for {}'.format(workshop_rerank_campaign_arn))\n",
    "        in_progress_campaigns.remove(workshop_rerank_campaign_arn)\n",
    "    \n",
    "    if status == 'ACTIVE' or status == 'CREATE FAILED':\n",
    "        break\n",
    "    else:\n",
    "        print('The campaign build is still in progress')\n",
    "        \n",
    "    time.sleep(60)"
   ]
  },
  {
   "cell_type": "markdown",
   "metadata": {},
   "source": [
    "## Update recommenders and Campaigns to return metadata\n",
    "\n",
    "By default, Recommenders and Campaigns don't return item metadata, just the itemId. Let's update them to return metadata. If you created the campaigns and recommenders in this notebook you can ignore the next three cells"
   ]
  },
  {
   "cell_type": "code",
   "execution_count": 14,
   "metadata": {
    "tags": []
   },
   "outputs": [
    {
     "name": "stdout",
     "output_type": "stream",
     "text": [
      "{'recommenderArn': 'arn:aws:personalize:us-east-1:381491864570:recommender/workshop_more_like_x', 'ResponseMetadata': {'RequestId': '7e085fd9-5590-47e6-8ad3-347e06c6d6a1', 'HTTPStatusCode': 200, 'HTTPHeaders': {'date': 'Sat, 09 Mar 2024 23:46:07 GMT', 'content-type': 'application/x-amz-json-1.1', 'content-length': '96', 'connection': 'keep-alive', 'x-amzn-requestid': '7e085fd9-5590-47e6-8ad3-347e06c6d6a1'}, 'RetryAttempts': 0}}\n"
     ]
    }
   ],
   "source": [
    "response = personalize.update_recommender(\n",
    "    recommenderArn = workshop_recommender_more_like_x_arn,\n",
    "    recommenderConfig={\n",
    "        'enableMetadataWithRecommendations': True\n",
    "    }\n",
    ")\n",
    "print (response)\n"
   ]
  },
  {
   "cell_type": "code",
   "execution_count": 15,
   "metadata": {
    "tags": []
   },
   "outputs": [
    {
     "name": "stdout",
     "output_type": "stream",
     "text": [
      "{'recommenderArn': 'arn:aws:personalize:us-east-1:381491864570:recommender/workshop_top_picks_for_you', 'ResponseMetadata': {'RequestId': '3dc6c454-52a9-4eb9-9fa7-85ddcf383257', 'HTTPStatusCode': 200, 'HTTPHeaders': {'date': 'Sat, 09 Mar 2024 23:46:08 GMT', 'content-type': 'application/x-amz-json-1.1', 'content-length': '102', 'connection': 'keep-alive', 'x-amzn-requestid': '3dc6c454-52a9-4eb9-9fa7-85ddcf383257'}, 'RetryAttempts': 0}}\n"
     ]
    }
   ],
   "source": [
    "response = personalize.update_recommender(\n",
    "    recommenderArn = workshop_recommender_top_picks_arn,\n",
    "    recommenderConfig={\n",
    "        'enableMetadataWithRecommendations': True\n",
    "    }\n",
    ")\n",
    "print (response)"
   ]
  },
  {
   "cell_type": "code",
   "execution_count": 16,
   "metadata": {
    "tags": []
   },
   "outputs": [
    {
     "name": "stdout",
     "output_type": "stream",
     "text": [
      "{'campaignArn': 'arn:aws:personalize:us-east-1:381491864570:campaign/workshop_personalized_ranking_campaign', 'ResponseMetadata': {'RequestId': '31345dc9-6157-485e-9263-a8b9012021f5', 'HTTPStatusCode': 200, 'HTTPHeaders': {'date': 'Sat, 09 Mar 2024 23:46:08 GMT', 'content-type': 'application/x-amz-json-1.1', 'content-length': '108', 'connection': 'keep-alive', 'x-amzn-requestid': '31345dc9-6157-485e-9263-a8b9012021f5'}, 'RetryAttempts': 0}}\n"
     ]
    }
   ],
   "source": [
    "response = personalize.update_campaign(\n",
    "    campaignArn = workshop_rerank_campaign_arn,\n",
    "    campaignConfig = { 'enableMetadataWithRecommendations' : True}\n",
    ")\n",
    "print (response)"
   ]
  },
  {
   "cell_type": "code",
   "execution_count": 18,
   "metadata": {
    "tags": []
   },
   "outputs": [
    {
     "name": "stdout",
     "output_type": "stream",
     "text": [
      "The More Like x recommender update is still in progress\n",
      "The Top Picks for You recommender update is still in progress\n",
      "Update succeeded for arn:aws:personalize:us-east-1:381491864570:campaign/workshop_personalized_ranking_campaign\n",
      "The Personalized Ranking Campaign is ACTIVE\n",
      "\n",
      "The More Like x recommender update is still in progress\n",
      "The Top Picks for You recommender update is still in progress\n",
      "Update succeeded for arn:aws:personalize:us-east-1:381491864570:campaign/workshop_personalized_ranking_campaign\n",
      "The Personalized Ranking Campaign is ACTIVE\n",
      "\n",
      "The More Like x recommender update is still in progress\n",
      "The Top Picks for You recommender update is still in progress\n",
      "Update succeeded for arn:aws:personalize:us-east-1:381491864570:campaign/workshop_personalized_ranking_campaign\n",
      "The Personalized Ranking Campaign is ACTIVE\n",
      "\n",
      "The More Like x recommender update is still in progress\n",
      "The Top Picks for You recommender update is still in progress\n",
      "Update succeeded for arn:aws:personalize:us-east-1:381491864570:campaign/workshop_personalized_ranking_campaign\n",
      "The Personalized Ranking Campaign is ACTIVE\n",
      "\n",
      "The More Like x recommender update is still in progress\n",
      "The Top Picks for You recommender update is still in progress\n",
      "Update succeeded for arn:aws:personalize:us-east-1:381491864570:campaign/workshop_personalized_ranking_campaign\n",
      "The Personalized Ranking Campaign is ACTIVE\n",
      "\n",
      "The More Like x recommender update is still in progress\n",
      "The Top Picks for You recommender update is still in progress\n",
      "Update succeeded for arn:aws:personalize:us-east-1:381491864570:campaign/workshop_personalized_ranking_campaign\n",
      "The Personalized Ranking Campaign is ACTIVE\n",
      "\n",
      "The More Like x recommender update is still in progress\n",
      "The Top Picks for You recommender update is still in progress\n",
      "Update succeeded for arn:aws:personalize:us-east-1:381491864570:campaign/workshop_personalized_ranking_campaign\n",
      "The Personalized Ranking Campaign is ACTIVE\n",
      "\n",
      "The More Like x recommender update is still in progress\n",
      "The Top Picks for You recommender update is still in progress\n",
      "Update succeeded for arn:aws:personalize:us-east-1:381491864570:campaign/workshop_personalized_ranking_campaign\n",
      "The Personalized Ranking Campaign is ACTIVE\n",
      "\n",
      "The More Like x recommender update is still in progress\n",
      "The Top Picks for You recommender update is still in progress\n",
      "Update succeeded for arn:aws:personalize:us-east-1:381491864570:campaign/workshop_personalized_ranking_campaign\n",
      "The Personalized Ranking Campaign is ACTIVE\n",
      "\n",
      "The More Like x recommender update is still in progress\n",
      "The Top Picks for You recommender update is still in progress\n",
      "Update succeeded for arn:aws:personalize:us-east-1:381491864570:campaign/workshop_personalized_ranking_campaign\n",
      "The Personalized Ranking Campaign is ACTIVE\n",
      "\n",
      "The More Like x recommender update is still in progress\n",
      "The Top Picks for You recommender update is still in progress\n",
      "Update succeeded for arn:aws:personalize:us-east-1:381491864570:campaign/workshop_personalized_ranking_campaign\n",
      "The Personalized Ranking Campaign is ACTIVE\n",
      "\n",
      "The More Like x recommender update is still in progress\n",
      "The Top Picks for You recommender update is still in progress\n",
      "Update succeeded for arn:aws:personalize:us-east-1:381491864570:campaign/workshop_personalized_ranking_campaign\n",
      "The Personalized Ranking Campaign is ACTIVE\n",
      "\n",
      "The More Like x recommender update is still in progress\n",
      "The Top Picks for You recommender update is still in progress\n",
      "Update succeeded for arn:aws:personalize:us-east-1:381491864570:campaign/workshop_personalized_ranking_campaign\n",
      "The Personalized Ranking Campaign is ACTIVE\n",
      "\n",
      "The More Like x recommender update is still in progress\n",
      "The Top Picks for You recommender update is still in progress\n",
      "Update succeeded for arn:aws:personalize:us-east-1:381491864570:campaign/workshop_personalized_ranking_campaign\n",
      "The Personalized Ranking Campaign is ACTIVE\n",
      "\n",
      "The More Like x recommender update is still in progress\n",
      "The Top Picks for You recommender update is still in progress\n",
      "Update succeeded for arn:aws:personalize:us-east-1:381491864570:campaign/workshop_personalized_ranking_campaign\n",
      "The Personalized Ranking Campaign is ACTIVE\n",
      "\n",
      "The More Like x recommender update is still in progress\n",
      "Build succeeded for arn:aws:personalize:us-east-1:381491864570:recommender/workshop_top_picks_for_you\n",
      "The Top Picks for You recommender is ACTIVE\n",
      "Update succeeded for arn:aws:personalize:us-east-1:381491864570:campaign/workshop_personalized_ranking_campaign\n",
      "The Personalized Ranking Campaign is ACTIVE\n",
      "\n",
      "Build succeeded for arn:aws:personalize:us-east-1:381491864570:recommender/workshop_more_like_x\n",
      "The More Like x recommender is ACTIVE\n",
      "Build succeeded for arn:aws:personalize:us-east-1:381491864570:recommender/workshop_top_picks_for_you\n",
      "The Top Picks for You recommender is ACTIVE\n",
      "Update succeeded for arn:aws:personalize:us-east-1:381491864570:campaign/workshop_personalized_ranking_campaign\n",
      "The Personalized Ranking Campaign is ACTIVE\n"
     ]
    }
   ],
   "source": [
    "max_time = time.time() + 10*60*60 # 10 hours\n",
    "while time.time() < max_time:\n",
    "\n",
    "    # Recommender more_like_x\n",
    "    version_response = personalize.describe_recommender(\n",
    "        recommenderArn = workshop_recommender_more_like_x_arn\n",
    "    )\n",
    "    status_more_like_x = version_response['recommender']['latestRecommenderUpdate']['status']\n",
    "\n",
    "    if status_more_like_x == \"ACTIVE\":\n",
    "        print(\"Build succeeded for {}\".format(workshop_recommender_more_like_x_arn))\n",
    "        \n",
    "    elif status_more_like_x == \"CREATE FAILED\":\n",
    "        print(\"Build failed for {}\".format(workshop_recommender_more_like_x_arn))\n",
    "        break\n",
    "\n",
    "    if not status_more_like_x == \"ACTIVE\":\n",
    "        print(\"The More Like x recommender update is still in progress\")\n",
    "    else:\n",
    "        print(\"The More Like x recommender is ACTIVE\")\n",
    "\n",
    "    # Recommender top_picks_for_you\n",
    "    version_response = personalize.describe_recommender(\n",
    "        recommenderArn = workshop_recommender_top_picks_arn\n",
    "    )\n",
    "    status_top_picks = version_response[\"recommender\"]['latestRecommenderUpdate'][\"status\"]\n",
    "\n",
    "    if status_top_picks == \"ACTIVE\":\n",
    "        print(\"Build succeeded for {}\".format(workshop_recommender_top_picks_arn))\n",
    "    elif status_top_picks == \"CREATE FAILED\":\n",
    "        print(\"Build failed for {}\".format(workshop_recommender_top_picks_arn))\n",
    "        break\n",
    "\n",
    "    if not status_top_picks == \"ACTIVE\":\n",
    "        print(\"The Top Picks for You recommender update is still in progress\")\n",
    "    else:\n",
    "        print(\"The Top Picks for You recommender is ACTIVE\")\n",
    "        \n",
    "\n",
    "        \n",
    "    # Personalized ranking Campaign\n",
    "    version_response = personalize.describe_campaign(\n",
    "        campaignArn = workshop_rerank_campaign_arn\n",
    "    )\n",
    "\n",
    "    status_campaign_update = version_response['campaign']['status']\n",
    "\n",
    "    if status_campaign_update == 'ACTIVE':\n",
    "        print('Update succeeded for {}'.format(workshop_rerank_campaign_arn))\n",
    "    elif status_campaign_update == \"CREATE FAILED\":\n",
    "        print('Update failed for {}'.format(workshop_rerank_campaign_arn))\n",
    "        in_progress_campaigns.remove(workshop_rerank_campaign_arn)\n",
    "        break\n",
    "    \n",
    "    \n",
    "    if not status_campaign_update == \"ACTIVE\":\n",
    "        print('The campaign update is still in progress')\n",
    "    else:\n",
    "        print(\"The Personalized Ranking Campaign is ACTIVE\")\n",
    "        \n",
    "    if status_more_like_x == \"ACTIVE\" and status_top_picks == 'ACTIVE' and status_campaign_update == \"ACTIVE\":\n",
    "        break\n",
    "    print()\n",
    "    time.sleep(60)"
   ]
  },
  {
   "cell_type": "markdown",
   "metadata": {},
   "source": [
    "## Evaluate solution versions and recommenders <a class=\"anchor\" id=\"eval\"></a>\n",
    "[Back to top](#top)\n",
    "\n",
    "Personalize calculates these metrics based on a subset of the training data. The image below illustrates how Personalize splits the data. Given 10 users, with 10 interactions each (a circle represents an interaction), the interactions are ordered from oldest to newest based on the timestamp. Personalize uses all of the interaction data from 90% of the users (blue circles) to train the solution version, and the remaining 10% for evaluation. For each of the users in the remaining 10%, 90% of their interaction data (green circles) is used as input for the call to the trained model. The remaining 10% of their data (orange circle) is compared to the output produced by the model and used to calculate the evaluation metrics.\n",
    "\n",
    "![personalize metrics](images/personalize_metrics.png)\n",
    "\n",
    "We recommend reading [the documentation](https://docs.aws.amazon.com/personalize/latest/dg/working-with-training-metrics.html) to understand the metrics, but we have also copied parts of the documentation below for convenience.\n",
    "\n",
    "You need to understand the following terms regarding evaluation in Personalize:\n",
    "\n",
    "* *Relevant recommendation* refers to a recommendation that matches a value in the testing data for the particular user.\n",
    "* *Rank* refers to the position of a recommended item in the list of recommendations. Position 1 (the top of the list) is presumed to be the most relevant to the user.\n",
    "* *Query* refers to the internal equivalent of a GetRecommendations call.\n",
    "\n",
    "The metrics produced by Personalize are:\n",
    "* **coverage**: The proportion of unique recommended items from all queries out of the total number of unique items in the training data (includes both the Items and Interactions datasets).\n",
    "* **mean_reciprocal_rank_at_25**: The [mean of the reciprocal ranks](https://en.wikipedia.org/wiki/Mean_reciprocal_rank) of the first relevant recommendation out of the top 25 recommendations over all queries. This metric is appropriate if you're interested in the single highest ranked recommendation.\n",
    "* **normalized_discounted_cumulative_gain_at_K**: Discounted gain assumes that recommendations lower on a list of recommendations are less relevant than higher recommendations. Therefore, each recommendation is discounted (given a lower weight) by a factor dependent on its position. To produce the [cumulative discounted gain](https://en.wikipedia.org/wiki/Discounted_cumulative_gain) (DCG) at K, each relevant discounted recommendation in the top K recommendations is summed together. The normalized discounted cumulative gain (NDCG) is the DCG divided by the ideal DCG such that NDCG is between 0 - 1. (The ideal DCG is where the top K recommendations are sorted by relevance.) Amazon Personalize uses a weighting factor of 1/log(1 + position), where the top of the list is position 1. This metric rewards relevant items that appear near the top of the list, because the top of a list usually draws more attention.\n",
    "* **precision_at_K**: The number of relevant recommendations out of the top K recommendations divided by K. This metric rewards precise recommendation of the relevant items.\n",
    "\n",
    "Let's take a look at the evaluation metrics for each of the solutions produced in this notebook. Please note that your results might differ from the results described in the text of this notebook, due to the quality of the Movielens dataset. "
   ]
  },
  {
   "cell_type": "markdown",
   "metadata": {},
   "source": [
    "## \"More like X\" recommender metrics\n",
    "\n",
    "Retrieve the evaluation metrics for the \"More like X\" recommender."
   ]
  },
  {
   "cell_type": "code",
   "execution_count": 19,
   "metadata": {
    "tags": []
   },
   "outputs": [
    {
     "name": "stdout",
     "output_type": "stream",
     "text": [
      "coverage: 0.0705\n",
      "mean_reciprocal_rank_at_25: 0.1352\n",
      "normalized_discounted_cumulative_gain_at_10: 0.1553\n",
      "normalized_discounted_cumulative_gain_at_25: 0.1853\n",
      "normalized_discounted_cumulative_gain_at_5: 0.1218\n",
      "precision_at_10: 0.0441\n",
      "precision_at_25: 0.0258\n",
      "precision_at_5: 0.0576\n"
     ]
    }
   ],
   "source": [
    "workshop_recommender_more_like_x_metrics_response = personalize.describe_recommender(\n",
    "    recommenderArn = workshop_recommender_more_like_x_arn\n",
    ")\n",
    "\n",
    "for metric in workshop_recommender_more_like_x_metrics_response['recommender']['modelMetrics']:\n",
    "    print (\"{}: {}\".format(metric, workshop_recommender_more_like_x_metrics_response['recommender']['modelMetrics'][metric]))"
   ]
  },
  {
   "cell_type": "markdown",
   "metadata": {},
   "source": [
    "* **coverage**: The proportion of unique recommended items from all queries out of the total number of unique items in the training data (includes both the Items and Interactions datasets).\n",
    "* **mean_reciprocal_rank_at_25**: The [mean of the reciprocal ranks](https://en.wikipedia.org/wiki/Mean_reciprocal_rank) of the first relevant recommendation out of the top 25 recommendations over all queries. This metric is appropriate if you're interested in the single highest ranked recommendation.\n",
    "* **normalized_discounted_cumulative_gain_at_K**: Discounted gain assumes that recommendations lower on a list of recommendations are less relevant than higher recommendations. Therefore, each recommendation is discounted (given a lower weight) by a factor dependent on its position. To produce the [cumulative discounted gain](https://en.wikipedia.org/wiki/Discounted_cumulative_gain) (DCG) at K, each relevant discounted recommendation in the top K recommendations is summed together. The normalized discounted cumulative gain (NDCG) is the DCG divided by the ideal DCG such that NDCG is between 0 - 1. (The ideal DCG is where the top K recommendations are sorted by relevance.) Amazon Personalize uses a weighting factor of 1/log(1 + position), where the top of the list is position 1. This metric rewards relevant items that appear near the top of the list, because the top of a list usually draws more attention.\n",
    "* **precision_at_K**: The number of relevant recommendations out of the top K recommendations divided by K. This metric rewards precise recommendation of the relevant items."
   ]
  },
  {
   "cell_type": "markdown",
   "metadata": {},
   "source": [
    "## \"Top Picks for You\" recommender metrics\n",
    "\n",
    "Retrieve the evaluation metrics for the \"Top Picks For you\" Recommender."
   ]
  },
  {
   "cell_type": "code",
   "execution_count": 20,
   "metadata": {
    "tags": []
   },
   "outputs": [
    {
     "name": "stdout",
     "output_type": "stream",
     "text": [
      "coverage: 0.0808\n",
      "mean_reciprocal_rank_at_25: 0.2756\n",
      "normalized_discounted_cumulative_gain_at_10: 0.3034\n",
      "normalized_discounted_cumulative_gain_at_25: 0.3456\n",
      "normalized_discounted_cumulative_gain_at_5: 0.2695\n",
      "precision_at_10: 0.0585\n",
      "precision_at_25: 0.0362\n",
      "precision_at_5: 0.083\n"
     ]
    }
   ],
   "source": [
    "workshop_recommender_top_picks_metrics_response = personalize.describe_recommender(\n",
    "    recommenderArn = workshop_recommender_top_picks_arn\n",
    ")\n",
    "\n",
    "for metric in workshop_recommender_top_picks_metrics_response['recommender']['modelMetrics']:\n",
    "    print (\"{}: {}\".format(metric, workshop_recommender_top_picks_metrics_response['recommender']['modelMetrics'][metric]))\n",
    "   "
   ]
  },
  {
   "cell_type": "markdown",
   "metadata": {},
   "source": [
    "* **coverage**: The proportion of unique recommended items from all queries out of the total number of unique items in the training data (includes both the Items and Interactions datasets).\n",
    "* **mean_reciprocal_rank_at_25**: The [mean of the reciprocal ranks](https://en.wikipedia.org/wiki/Mean_reciprocal_rank) of the first relevant recommendation out of the top 25 recommendations over all queries. This metric is appropriate if you're interested in the single highest ranked recommendation.\n",
    "* **normalized_discounted_cumulative_gain_at_K**: Discounted gain assumes that recommendations lower on a list of recommendations are less relevant than higher recommendations. Therefore, each recommendation is discounted (given a lower weight) by a factor dependent on its position. To produce the [cumulative discounted gain](https://en.wikipedia.org/wiki/Discounted_cumulative_gain) (DCG) at K, each relevant discounted recommendation in the top K recommendations is summed together. The normalized discounted cumulative gain (NDCG) is the DCG divided by the ideal DCG such that NDCG is between 0 - 1. (The ideal DCG is where the top K recommendations are sorted by relevance.) Amazon Personalize uses a weighting factor of 1/log(1 + position), where the top of the list is position 1. This metric rewards relevant items that appear near the top of the list, because the top of a list usually draws more attention.\n",
    "* **precision_at_K**: The number of relevant recommendations out of the top K recommendations divided by K. This metric rewards precise recommendation of the relevant items."
   ]
  },
  {
   "cell_type": "markdown",
   "metadata": {},
   "source": [
    "## Personalized ranking metrics\n",
    "\n",
    "Retrieve the evaluation metrics for the personalized ranking solution version."
   ]
  },
  {
   "cell_type": "code",
   "execution_count": 21,
   "metadata": {
    "tags": []
   },
   "outputs": [
    {
     "name": "stdout",
     "output_type": "stream",
     "text": [
      "coverage: 0.0773\n",
      "mean_reciprocal_rank_at_25: 0.2694\n",
      "normalized_discounted_cumulative_gain_at_10: 0.2788\n",
      "normalized_discounted_cumulative_gain_at_25: 0.324\n",
      "normalized_discounted_cumulative_gain_at_5: 0.2514\n",
      "precision_at_10: 0.0604\n",
      "precision_at_25: 0.0362\n",
      "precision_at_5: 0.0906\n"
     ]
    }
   ],
   "source": [
    "rerank_solution_metrics_response = personalize.get_solution_metrics(\n",
    "    solutionVersionArn = workshop_rerank_solution_version_arn\n",
    ")\n",
    "\n",
    "for metric in rerank_solution_metrics_response[\"metrics\"]:\n",
    "    print (\"{}: {}\".format(metric,rerank_solution_metrics_response[\"metrics\"][metric] ))\n",
    "    "
   ]
  },
  {
   "cell_type": "markdown",
   "metadata": {},
   "source": [
    "* **coverage**: The proportion of unique recommended items from all queries out of the total number of unique items in the training data (includes both the Items and Interactions datasets).\n",
    "* **mean_reciprocal_rank_at_25**: The [mean of the reciprocal ranks](https://en.wikipedia.org/wiki/Mean_reciprocal_rank) of the first relevant recommendation out of the top 25 recommendations over all queries. This metric is appropriate if you're interested in the single highest ranked recommendation.\n",
    "* **normalized_discounted_cumulative_gain_at_K**: Discounted gain assumes that recommendations lower on a list of recommendations are less relevant than higher recommendations. Therefore, each recommendation is discounted (given a lower weight) by a factor dependent on its position. To produce the [cumulative discounted gain](https://en.wikipedia.org/wiki/Discounted_cumulative_gain) (DCG) at K, each relevant discounted recommendation in the top K recommendations is summed together. The normalized discounted cumulative gain (NDCG) is the DCG divided by the ideal DCG such that NDCG is between 0 - 1. (The ideal DCG is where the top K recommendations are sorted by relevance.) Amazon Personalize uses a weighting factor of 1/log(1 + position), where the top of the list is position 1. This metric rewards relevant items that appear near the top of the list, because the top of a list usually draws more attention.\n",
    "* **precision_at_K**: The number of relevant recommendations out of the top K recommendations divided by K. This metric rewards precise recommendation of the relevant items."
   ]
  },
  {
   "cell_type": "markdown",
   "metadata": {},
   "source": [
    "\n",
    "## Using evaluation metrics <a class=\"anchor\" id=\"usemetrics\"></a>\n",
    "[Back to top](#top)\n",
    "\n",
    "It is important to use evaluation metrics carefully. There are a number of factors to keep in mind.\n",
    "\n",
    "* If there is an existing recommendation system in place, this will have influenced the user's interaction history which you use to train your new solutions. This means the evaluation metrics are biased to favor the existing solution. If you work to push the evaluation metrics to match or exceed the existing solution, you may just be pushing the User Personalization to behave like the existing solution and might not end up with something better.\n",
    "\n",
    "\n",
    "Keeping in mind these factors, the evaluation metrics produced by Personalize are generally useful for two cases:\n",
    "1. Comparing the performance of solution versions trained on the same recipe, but with different values for the hyperparameters and features (impression data etc)\n",
    "1. Comparing the performance of solution versions trained on different recipes. Here also keep in mind that the recipes answer different use cases and comparing them to each other might not make sense in your solution.\n",
    "\n",
    "Properly evaluating a recommendation system is always best done through A/B testing while measuring actual business outcomes. Since recommendations generated by a system usually influence the user behavior which it is based on, it is better to run small experiments and apply A/B testing for longer periods of time. Over time, the bias from the existing model will fade."
   ]
  },
  {
   "cell_type": "markdown",
   "metadata": {},
   "source": [
    "## Storing useful variables <a class=\"anchor\" id=\"vars\"></a>\n",
    "[Back to top](#top)\n",
    "\n",
    "Before exiting this notebook, run the following cells to save the version ARNs for use in the next notebook."
   ]
  },
  {
   "cell_type": "code",
   "execution_count": 22,
   "metadata": {
    "tags": []
   },
   "outputs": [
    {
     "name": "stdout",
     "output_type": "stream",
     "text": [
      "Stored 'workshop_recommender_top_picks_arn' (str)\n",
      "Stored 'workshop_recommender_more_like_x_arn' (str)\n",
      "Stored 'workshop_rerank_campaign_arn' (str)\n",
      "Stored 'workshop_rerank_solution_arn' (str)\n",
      "Stored 'workshop_rerank_solution_version_arn' (str)\n",
      "Stored 'workshop_rerank_campaign_arn' (str)\n",
      "Stored 'region' (str)\n",
      "Stored 'role_name' (str)\n",
      "Stored 'account_id' (str)\n"
     ]
    }
   ],
   "source": [
    "%store workshop_recommender_top_picks_arn\n",
    "%store workshop_recommender_more_like_x_arn\n",
    "%store workshop_rerank_campaign_arn\n",
    "%store workshop_rerank_solution_arn\n",
    "%store workshop_rerank_solution_version_arn\n",
    "%store workshop_rerank_campaign_arn\n",
    "%store region\n",
    "%store role_name\n",
    "%store account_id"
   ]
  },
  {
   "cell_type": "markdown",
   "metadata": {},
   "source": [
    "You're all set to move on to [the exploratory notebook `04_Inference.ipynb`](04_Inference.ipynb). Open it from the browser and you can start interacting with the Recommenders and Campaign and getting recommendations!"
   ]
  },
  {
   "cell_type": "code",
   "execution_count": null,
   "metadata": {},
   "outputs": [],
   "source": []
  }
 ],
 "metadata": {
  "kernelspec": {
   "display_name": "conda_python3",
   "language": "python",
   "name": "conda_python3"
  },
  "language_info": {
   "codemirror_mode": {
    "name": "ipython",
    "version": 3
   },
   "file_extension": ".py",
   "mimetype": "text/x-python",
   "name": "python",
   "nbconvert_exporter": "python",
   "pygments_lexer": "ipython3",
   "version": "3.10.13"
  }
 },
 "nbformat": 4,
 "nbformat_minor": 4
}
