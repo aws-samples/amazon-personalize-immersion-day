{
 "cells": [
  {
   "cell_type": "markdown",
   "metadata": {},
   "source": [
    "# Interacting with Recommenders, Campaigns and Filters <a class=\"anchor\" id=\"top\"></a>\n",
    "\n",
    "Now that the Retail Demo Store has trained models for 3 different use cases (Recommended for You, Customers who viewed X also viewed and Ranking), we need to integrate them into our application. Amazon Personalize can make recommendations available via an Application Programming Interface (API). In addition, Amazon Personalize includes features that allow you to easily integrate into applications and provide benefits like real time vending of recommendations based on recent application activity.\n",
    "\n",
    "In this notebook, you will interact with campaigns and filters in Amazon Personalize.\n",
    "\n",
    "1. [Introduction](#intro)\n",
    "1. [Interact with Recommenders](#interact-recommenders)\n",
    "1. [Interact with Campaigns](#interact-campaigns)\n",
    "1. [Filters](#filters)\n",
    "1. [Create Filters](#create-filters)\n",
    "1. [Using Filters](#using-filters)\n",
    "1. [Real-time Events](#real-time)\n",
    "1. [Wrap Up](#wrapup)\n",
    "\n",
    "To run this notebook, you need to have run the previous notebooks, [`01_Data_Layer.ipynb`](01_Data_Layer.ipynb), and [`02_Training_Layer.ipynb`](02_Training_Layer.ipynb), where you created a dataset and imported interaction, item, and user metadata data into Amazon Personalize, created recommenders, solutions, and campaigns.\n",
    "\n",
    "## Introduction <a class=\"anchor\" id=\"intro\"></a>\n",
    "[Back to top](#top)\n",
    "\n",
    "At this point, you should have 2 Recommenders and one deployed Campaign. Once they are active, there are resources for querying the recommendations, and helper functions to digest the output into something more human-readable. \n",
    "\n",
    "In this Notebook we will interact with Recommenders and Campaigns and get recommendations. \n",
    "\n",
    "We will create and interact with filters and send live data to Amazon Personalize to see the effect of real-time interactions on recommendations.\n",
    "\n",
    "The following diagram shows the resources that we will create in this section. The part we are building  in this notebook highlighted in blue with a dashed outline.\n",
    "\n",
    "![Workflow](images/03_Inference_Layer_Resources.jpg)\n",
    "\n",
    "To get started, once again, we need to import libraries, load values from previous notebooks, and load the SDK."
   ]
  },
  {
   "cell_type": "code",
   "execution_count": null,
   "metadata": {},
   "outputs": [],
   "source": [
    "import time\n",
    "from time import sleep\n",
    "import json\n",
    "from datetime import datetime\n",
    "import uuid\n",
    "import random\n",
    "import boto3\n",
    "import pandas as pd"
   ]
  },
  {
   "cell_type": "code",
   "execution_count": null,
   "metadata": {},
   "outputs": [],
   "source": [
    "#retrieves previously stored variables \n",
    "%store -r "
   ]
  },
  {
   "cell_type": "code",
   "execution_count": null,
   "metadata": {},
   "outputs": [],
   "source": [
    "personalize = boto3.client('personalize')\n",
    "personalize_runtime = boto3.client('personalize-runtime')\n",
    "\n",
    "# Establish a connection to Personalize's event streaming\n",
    "personalize_events = boto3.client(service_name='personalize-events')"
   ]
  },
  {
   "cell_type": "markdown",
   "metadata": {},
   "source": [
    "## Adding some helper functions to make results more readable"
   ]
  },
  {
   "cell_type": "markdown",
   "metadata": {},
   "source": [
    "First, let's create a supporting function to help make sense of the results returned by a Personalize recommender or campaign. Personalize returns only an `item_id`, and potentially information about whether that item was part of a promotion filter. This is great for keeping data compact, but it means you need to query a database or lookup table to get a human-readable result for the notebooks. We will create a helper function to return a human-readable result from the synthetic dataset.\n",
    "\n",
    "<div class=\"alert alert-block alert-warning\">\n",
    "<b>Note:</b> NOTE: If you want to lookup information as part of the API request, consider implementing Real-Time Personalization APIs - https://github.com/aws-samples/personalization-apis.\n",
    "</div>\n",
    "\n"
   ]
  },
  {
   "cell_type": "code",
   "execution_count": null,
   "metadata": {},
   "outputs": [],
   "source": [
    "def get_item_name_from_id ( item_id ):\n",
    "    item_name = item_metadata_df [item_metadata_df ['id'] == item_id]['name'].values[0]\n",
    "    return item_name"
   ]
  },
  {
   "cell_type": "code",
   "execution_count": null,
   "metadata": {},
   "outputs": [],
   "source": [
    "def get_item_category_from_id ( item_id ):\n",
    "    item_name = item_metadata_df [item_metadata_df ['id'] == item_id]['category'].values[0]\n",
    "    return item_name"
   ]
  },
  {
   "cell_type": "code",
   "execution_count": null,
   "metadata": {},
   "outputs": [],
   "source": [
    "def get_item_style_from_id ( item_id ):\n",
    "    item_name = item_metadata_df [item_metadata_df ['id'] == item_id]['style'].values[0]\n",
    "    return item_name"
   ]
  },
  {
   "cell_type": "markdown",
   "metadata": {},
   "source": [
    "Great! Now we have a way of rendering results. \n",
    "\n",
    "## Interact with Recommenders <a class=\"anchor\" id=\"interact-recommenders\"></a>\n",
    "[Back to top](#top)\n",
    "\n",
    "Now that the recommenders have been trained, lets have a look at the recommendations we can get for our users!"
   ]
  },
  {
   "cell_type": "markdown",
   "metadata": {},
   "source": [
    "### \"Customers who viewed X also viewed\" Recommender\n",
    "\n",
    "\"Customers who viewed X also viewed\" requires an item and a user as input, and it will return customers also viewed based on an item that you specify.\n",
    "\n",
    "The cells below will handle getting recommendations from the \"Customers who viewed X also viewed\" Recommender and rendering the results. Let's see what the recommendations are for an item.\n",
    "\n",
    "We will be using the `recommenderArn`, the `itemId`, the `userId`, as well as the number or results we want, `numResults`."
   ]
  },
  {
   "cell_type": "markdown",
   "metadata": {},
   "source": [
    "#### Select a User\n",
    "\n",
    "We'll just pick a random user for simplicity (there are about 6,000 users with user IDs assigned in sequential order). Feel free to change the `user_id` below and execute the following cells with a different user to get a sense for how the recommendations change."
   ]
  },
  {
   "cell_type": "code",
   "execution_count": null,
   "metadata": {},
   "outputs": [],
   "source": [
    "user_id = 555\n",
    "user_metadata_df[user_metadata_df['id']==user_id]"
   ]
  },
  {
   "cell_type": "markdown",
   "metadata": {},
   "source": [
    "We'll just pick a random product for simplicity. Feel free to change the `product_id` below and execute the following cells with a different product to get a sense for how the recommendations change."
   ]
  },
  {
   "cell_type": "code",
   "execution_count": null,
   "metadata": {},
   "outputs": [],
   "source": [
    "product_id = item_metadata_df.sample(1)[\"id\"].values[0]\n",
    "\n",
    "print ('productId: ', product_id)"
   ]
  },
  {
   "cell_type": "markdown",
   "metadata": {},
   "source": [
    "First lets get the response directly from the get_recommendations API, which by default returns 25 items, but can be adjusted."
   ]
  },
  {
   "cell_type": "code",
   "execution_count": null,
   "metadata": {},
   "outputs": [],
   "source": [
    "get_recommendations_response = personalize_runtime.get_recommendations(\n",
    "    recommenderArn = workshop_recommender_customers_who_viewed_arn,\n",
    "    itemId = str(product_id),\n",
    "    userId = str(user_id),\n",
    "    numResults = 20\n",
    ")"
   ]
  },
  {
   "cell_type": "code",
   "execution_count": null,
   "metadata": {},
   "outputs": [],
   "source": [
    "print (get_recommendations_response)"
   ]
  },
  {
   "cell_type": "markdown",
   "metadata": {},
   "source": [
    "Congrats, this is your first list of recommendations! This list is fine, but it would be better to see the recommendations for products render in a nice dataframe. Again, let's create a helper function to achieve this."
   ]
  },
  {
   "cell_type": "code",
   "execution_count": null,
   "metadata": {},
   "outputs": [],
   "source": [
    "# Update DF rendering\n",
    "pd.set_option('display.max_rows', 30)\n",
    "\n",
    "def get_new_recommendations_df_viewed_x(recommendations_df, item_id, user_id):\n",
    "    # Get the item name\n",
    "    original_item_name = get_item_name_from_id(item_id)\n",
    "    # Get the recommendations\n",
    "    get_recommendations_response = personalize_runtime.get_recommendations(\n",
    "        recommenderArn = workshop_recommender_customers_who_viewed_arn,\n",
    "        itemId = str(item_id),\n",
    "        userId = str(user_id),\n",
    "    )\n",
    "    # Build a new dataframe of recommendations\n",
    "    item_list = get_recommendations_response['itemList']\n",
    "    recommendation_list = []\n",
    "    for item in item_list:\n",
    "        item_name = get_item_name_from_id(item['itemId'])\n",
    "        recommendation_list.append(item_name)\n",
    "    new_rec_df = pd.DataFrame(recommendation_list, columns = [original_item_name])\n",
    "    # Add this dataframe to the old one\n",
    "    recommendations_df = pd.concat([recommendations_df, new_rec_df], axis=1)\n",
    "    return recommendations_df"
   ]
  },
  {
   "cell_type": "markdown",
   "metadata": {},
   "source": [
    "Now, let's test the helper function with several different items. Let's sample some data from our dataset to test our \"Customers who viewed X also viewed\" Recommender. Grab 5 random items from our dataframe."
   ]
  },
  {
   "cell_type": "code",
   "execution_count": null,
   "metadata": {},
   "outputs": [],
   "source": [
    "samples = item_metadata_df.sample(5)\n",
    "samples"
   ]
  },
  {
   "cell_type": "code",
   "execution_count": null,
   "metadata": {
    "scrolled": true
   },
   "outputs": [],
   "source": [
    "viewed_x_also_viewed_recommendations_df = pd.DataFrame()\n",
    "items = samples.id.tolist()\n",
    "\n",
    "for item in items:\n",
    "    viewed_x_also_viewed_recommendations_df = get_new_recommendations_df_viewed_x(viewed_x_also_viewed_recommendations_df, item, user_id)\n",
    "\n",
    "viewed_x_also_viewed_recommendations_df"
   ]
  },
  {
   "cell_type": "markdown",
   "metadata": {},
   "source": [
    "Based on the random product selected above, do the similar item recommendations from Personalize make sense? Keep in mind that the \"Customers who viewed X also viewed\" recommendations are based on the interactions we generated as input into the solution creation process above.\n",
    "\n",
    "You may notice that some items look the same, hopefully not all of them do (this is more likely with a smaller # of interactions, which will be more common with a small dataset)."
   ]
  },
  {
   "cell_type": "markdown",
   "metadata": {},
   "source": [
    "### \"Recommended for you\" Recommender\n",
    "\n",
    "\"Recommended for you\" supports personalization of the items for a specific user based on their past behavior and can intake real time events in order to alter recommendations for a user without retraining. \n",
    "\n",
    "With this use case, Amazon Personalize automatically filters items the user purchased based on the `userId` that you specify and \"Purchase\" events. For better performance, include \"Purchase\" events along with the required \"View\" events. "
   ]
  },
  {
   "cell_type": "code",
   "execution_count": null,
   "metadata": {},
   "outputs": [],
   "source": [
    "get_recommendations_response = personalize_runtime.get_recommendations(\n",
    "    recommenderArn = workshop_recommender_recommended_for_you_arn,\n",
    "    userId = str(user_id),\n",
    "    numResults = 20\n",
    ")"
   ]
  },
  {
   "cell_type": "code",
   "execution_count": null,
   "metadata": {},
   "outputs": [],
   "source": [
    "item_list = get_recommendations_response['itemList']\n",
    "\n",
    "df = pd.DataFrame()\n",
    "df['Item'] = [ itm['itemId'] for itm in item_list ]\n",
    "df['Name'] = [ get_item_name_from_id ( itm['itemId']) for itm in item_list ]\n",
    "df['Category'] = [ get_item_category_from_id ( itm['itemId']) for itm in item_list ]\n",
    "df['Style'] = [ get_item_style_from_id ( itm['itemId']) for itm in item_list ]\n",
    "display (df)\n"
   ]
  },
  {
   "cell_type": "markdown",
   "metadata": {},
   "source": [
    "Since \"Recommended for you\" relies on having a sampling of users, let's load the data we need for that and select 3 random users."
   ]
  },
  {
   "cell_type": "code",
   "execution_count": null,
   "metadata": {},
   "outputs": [],
   "source": [
    "samples = user_metadata_df.sample(3)\n",
    "samples"
   ]
  },
  {
   "cell_type": "markdown",
   "metadata": {},
   "source": [
    "Now we render the recommendations for our 3 random users from above. After that, we will explore real-time interactions before moving on to Personalized Ranking.\n",
    "\n",
    "\"Recommended for you\" requires only a user as input, and it will return items that are relevant for that particular user. In this particular case the item is a product.\n",
    "\n",
    "The cells below will handle getting recommendations from the \"Recommended for you\" Recommender and rendering the results. \n",
    "\n",
    "We will be using the `recommenderArn`, the `userId` as well as the number or results we want, `numResults`.\n",
    "\n",
    "Again, we create a helper function to render the results in a nice dataframe.\n",
    "\n",
    "#### API call results"
   ]
  },
  {
   "cell_type": "code",
   "execution_count": null,
   "metadata": {},
   "outputs": [],
   "source": [
    "# Update DF rendering\n",
    "pd.set_option('display.max_rows', 30)\n",
    "\n",
    "def get_new_recommendations_df_recommended_for_you(recommendations_df, user_id):\n",
    "    # Get the recommendations\n",
    "    get_recommendations_response = personalize_runtime.get_recommendations(\n",
    "        recommenderArn = workshop_recommender_recommended_for_you_arn,\n",
    "        userId = str(user_id),\n",
    "    )\n",
    "    # Build a new dataframe of recommendations\n",
    "    item_list = get_recommendations_response['itemList']\n",
    "    recommendation_list = []\n",
    "    for item in item_list:\n",
    "        item_name = get_item_name_from_id(item['itemId'])\n",
    "        recommendation_list.append(item_name)\n",
    "    new_rec_df = pd.DataFrame(recommendation_list, columns = [user_id])\n",
    "    # Add this dataframe to the old one\n",
    "    recommendations_df = pd.concat([recommendations_df, new_rec_df], axis=1)\n",
    "    return recommendations_df"
   ]
  },
  {
   "cell_type": "code",
   "execution_count": null,
   "metadata": {},
   "outputs": [],
   "source": [
    "recommendations_df_users = pd.DataFrame()\n",
    "users = samples.id.tolist()\n",
    "\n",
    "for user in users:\n",
    "    recommendations_df_users = get_new_recommendations_df_recommended_for_you(recommendations_df_users, user)\n",
    "\n",
    "recommendations_df_users"
   ]
  },
  {
   "cell_type": "markdown",
   "metadata": {},
   "source": [
    "## Applying the discount context\n",
    "\n",
    "We'll get the user recommendations when discount context is applied for comparison. This is using the \"contextual metadata\" feature of Amazon Personalize. In this case, our context is whether a discount was applied."
   ]
  },
  {
   "cell_type": "code",
   "execution_count": null,
   "metadata": {},
   "outputs": [],
   "source": [
    "get_recommendations_response = personalize_runtime.get_recommendations(\n",
    "    recommenderArn = workshop_recommender_recommended_for_you_arn,\n",
    "    userId = str(user_id),\n",
    "    numResults = 20,\n",
    "    context = {'DISCOUNT':'Yes'} # Here we provide the context for the recommendations\n",
    ")\n",
    "\n",
    "item_list_context = get_recommendations_response['itemList']\n",
    "\n",
    "df = pd.DataFrame()\n",
    "df['Item'] = [ itm['itemId'] for itm in item_list_context ]\n",
    "df['Name'] = [ get_item_name_from_id ( itm['itemId']) for itm in item_list_context ]\n",
    "df['Category'] = [ get_item_category_from_id ( itm['itemId']) for itm in item_list_context ]\n",
    "df['Style'] = [ get_item_style_from_id ( itm['itemId']) for itm in item_list_context ]\n",
    "display (df)"
   ]
  },
  {
   "cell_type": "markdown",
   "metadata": {},
   "source": [
    "Let us compare it to the previous set of recommendations without context."
   ]
  },
  {
   "cell_type": "code",
   "execution_count": null,
   "metadata": {},
   "outputs": [],
   "source": [
    "df = pd.DataFrame()\n",
    "df['Item (No context)'] = [ itm['itemId'] for itm in item_list ]\n",
    "df['Name (No context)'] = [ get_item_name_from_id ( itm['itemId']) for itm in item_list ]\n",
    "\n",
    "df['Item (Context)'] = [ itm['itemId'] for itm in item_list_context ]\n",
    "df['Name (Context)'] = [ get_item_name_from_id ( itm['itemId']) for itm in item_list_context ]\n",
    "display (df)"
   ]
  },
  {
   "cell_type": "markdown",
   "metadata": {},
   "source": [
    "## Interact with Campaigns <a class=\"anchor\" id=\"interact-campaigns\"></a>\n",
    "[Back to top](#top)\n"
   ]
  },
  {
   "cell_type": "markdown",
   "metadata": {},
   "source": [
    "### Personalized Ranking\n",
    "\n",
    "The core use case for personalized ranking is to take a collection of items and to render them in priority or probable order of interest for a user. For an ECOMMERCE application you want to dynamically render a personalized shelf/rail/carousel based on some information (category, style, season, etc…). This may not be information that you have in your metadata, so an item metadata filter will not work, however you may have this information within your system to generate the item list. You can use this campaign to rank the products listed for each category and the featured products list, as well as ranking catalog search results displayed in a search widget.\n",
    "\n",
    "To demonstrate this, we will use the same user from before and a random collection of items."
   ]
  },
  {
   "cell_type": "markdown",
   "metadata": {},
   "source": [
    "#### Get Featured Products List\n",
    "\n",
    "First let's get the list of featured products from the Products data."
   ]
  },
  {
   "cell_type": "code",
   "execution_count": null,
   "metadata": {},
   "outputs": [],
   "source": [
    "featured_products = item_metadata_df[item_metadata_df['featured']==True]"
   ]
  },
  {
   "cell_type": "markdown",
   "metadata": {},
   "source": [
    "#### Rank Featured Products\n",
    "\n",
    "Using the featured products list just retrieved, first we'll create a list of item IDs that we want to rank for a specific user. This ranking allows us to provide ranked products based on the user's behavior. These behaviors should be consistent to the same persona that was mentioned above (since we're going to use the same `user_id`)."
   ]
  },
  {
   "cell_type": "code",
   "execution_count": null,
   "metadata": {
    "pycharm": {
     "name": "#%%\n"
    }
   },
   "outputs": [],
   "source": [
    "unranked_product_ids = list (featured_products['id'])\n",
    "\n",
    "df = pd.DataFrame()\n",
    "df['Item'] = [ itm for itm in unranked_product_ids ]\n",
    "df['Name'] = [ get_item_name_from_id ( itm) for itm in unranked_product_ids ]\n",
    "df['Category'] = [ get_item_category_from_id ( itm) for itm in unranked_product_ids ]\n",
    "df['Style'] = [ get_item_style_from_id ( itm) for itm in unranked_product_ids ]\n",
    "display (df)"
   ]
  },
  {
   "cell_type": "markdown",
   "metadata": {},
   "source": [
    "Now let's have Personalize rank the featured product IDs based on our random user."
   ]
  },
  {
   "cell_type": "code",
   "execution_count": null,
   "metadata": {
    "pycharm": {
     "name": "#%%\n"
    }
   },
   "outputs": [],
   "source": [
    "response = personalize_runtime.get_personalized_ranking(\n",
    "    campaignArn = workshop_rerank_campaign_arn,\n",
    "    inputList = unranked_product_ids,\n",
    "    userId = str(user_id)\n",
    ")\n",
    "reranked = response['personalizedRanking']\n",
    "print(json.dumps(response['personalizedRanking'], indent = 4))"
   ]
  },
  {
   "cell_type": "markdown",
   "metadata": {},
   "source": [
    "We will add the ranked items as a second column to the original dataframe, for a side-by-side comparison."
   ]
  },
  {
   "cell_type": "code",
   "execution_count": null,
   "metadata": {},
   "outputs": [],
   "source": [
    "df = pd.DataFrame()\n",
    "df['Original List'] = [ itm for itm in unranked_product_ids]\n",
    "df['Original List Name'] = [ get_item_name_from_id ( itm) for itm in unranked_product_ids ]\n",
    "\n",
    "df['Reranking'] = [ itm['itemId'] for itm in reranked]\n",
    "df['Reranking Name'] = [ get_item_name_from_id ( itm['itemId']) for itm in reranked ]\n",
    "\n",
    "display (df)"
   ]
  },
  {
   "cell_type": "markdown",
   "metadata": {},
   "source": [
    "You can see above how each entry was re-ordered based on the model's understanding of the user. This is a popular task when you have a collection of items to surface a user that cannot be easily categorized in your metadata, for instance \"featured products\" which are curated by a person.\n"
   ]
  },
  {
   "cell_type": "markdown",
   "metadata": {},
   "source": [
    "# Filters <a class=\"anchor\" id=\"filters\"></a>\n",
    "\n",
    "## Create Filters <a class=\"anchor\" id=\"create-filters\"></a>\n",
    "[Back to top](#top)\n",
    "\n",
    "Personalize can utilize either [static or dynamic filters](https://docs.aws.amazon.com/personalize/latest/dg/filter.html). Static filters are where the filter properties are built into the filter itself, which makes invocation simpler, but gives less flexibility. An example of this would be an accessories category filter, which invokes the get_recommendations_response api with the specific filter of CATEGORY_L1 = accessories. In order to create a recommendation for each filter, that would require 10+ filters. Personalize also supports dynamic filters, where the values can be passed at runtime, allowing for a single filter of CATEGORY_L1, where the actual category is passed at runtime. \n",
    "\n",
    "Filters can be created for fields of both Items and Events. \n",
    "\n",
    "A few common use cases for dynamic filters in ECOMMERCE are:\n",
    "\n",
    "* Categorical filters based on Item Metadata - Often your item metadata will have information about the item. Filtering on these can provide recommendations within that data.\n",
    "\n",
    "* Range based filters based on Item Metadata - Personalize supports range operations in both static and dynamic filters. Filtering based on a range can be used to create recommendations such as \"Whats on sale now\".\n",
    "\n",
    "* Events - you may want to filter out certain events and provide results based on those events, such as moving a title from a \"recommended for you\" recommendation to a \"purchase again\" recommendations.\n",
    "\n"
   ]
  },
  {
   "cell_type": "markdown",
   "metadata": {},
   "source": [
    "### Create Category Filter\n",
    "\n",
    "Since there are a lot of categories to filter on, we will create a dynamic filter using the dynamic variable $CATEGORY, this will allow us to pass in the variable at runtime rather than create a static filter for each category."
   ]
  },
  {
   "cell_type": "code",
   "execution_count": null,
   "metadata": {},
   "outputs": [],
   "source": [
    "category_filter_name = 'filter-category'\n",
    "\n",
    "try:\n",
    "    create_category_filter_response = personalize.create_filter(\n",
    "        name = category_filter_name,\n",
    "        datasetGroupArn = workshop_dataset_group_arn,\n",
    "        filterExpression = 'INCLUDE ItemID WHERE Items.CATEGORY_L1 IN ($CATEGORY)'\n",
    "    )\n",
    "    \n",
    "    category_filter_arn = create_category_filter_response['filterArn']\n",
    "    print('Creating the Personalize filter with category_filter_arn {}.'.format(category_filter_arn))\n",
    "    \n",
    "\n",
    "except personalize.exceptions.ResourceAlreadyExistsException as e:\n",
    "    category_filter_arn = 'arn:aws:personalize:'+region+':'+account_id+':filter/'+category_filter_name\n",
    "    print('The Personalize filter {} already exists.'.format(category_filter_name))\n",
    "    print ('\\nWe will be using the existing Personalize Filter with category_filter_arn = {}'.format(category_filter_arn))\n",
    "    "
   ]
  },
  {
   "cell_type": "markdown",
   "metadata": {},
   "source": [
    "### Create Purchased Products Filter\n",
    "\n",
    "Since it's a poor user experience to recommend products that a user has already purchased, we will create a filter that excludes recently purchased products. We'll do this by creating a filter expression that excludes items that have an interaction with an event type of `Purchase` for the user. If you recall from the last notebook, the interactions dataset uses the `Purchase` event type to track purchased items."
   ]
  },
  {
   "cell_type": "code",
   "execution_count": null,
   "metadata": {},
   "outputs": [],
   "source": [
    "filter_name = 'filter-purchased-products'\n",
    "\n",
    "try:\n",
    "    create_purchase_filter_response = personalize.create_filter(\n",
    "        name=filter_name,\n",
    "        datasetGroupArn = workshop_dataset_group_arn,\n",
    "        filterExpression = 'EXCLUDE itemId WHERE INTERACTIONS.event_type in (\"Purchase\")'\n",
    "    )\n",
    "    \n",
    "    purchase_filter_arn = create_purchase_filter_response['filterArn']\n",
    "\n",
    "    print('Creating the Personalize filter with purchase_filter_arn {}.'.format(purchase_filter_arn))\n",
    "    \n",
    "except personalize.exceptions.ResourceAlreadyExistsException as e:\n",
    "    purchase_filter_arn = 'arn:aws:personalize:'+region+':'+account_id+':filter/'+filter_name\n",
    "    print('The Personalize filter {} already exists.'.format(filter_name))\n",
    "    print ('\\nWe will be using the existing Personalize Filter with purchase_filter_arn = {}'.format(purchase_filter_arn))\n",
    "    "
   ]
  },
  {
   "cell_type": "markdown",
   "metadata": {},
   "source": [
    "### Wait for Filter Status to Become ACTIVE\n",
    "\n",
    "The filter should take a minute or so to become active."
   ]
  },
  {
   "cell_type": "code",
   "execution_count": null,
   "metadata": {},
   "outputs": [],
   "source": [
    "status = None\n",
    "max_time = time.time() + 60*60 # 1 hours\n",
    "while time.time() < max_time:\n",
    "    describe_filter_response = personalize.describe_filter(\n",
    "        filterArn = purchase_filter_arn\n",
    "    )\n",
    "    status = describe_filter_response[\"filter\"][\"status\"]\n",
    "    print(\"Purchase filter: {}\".format(status))\n",
    "    \n",
    "    if status == \"ACTIVE\" or status == \"CREATE FAILED\":\n",
    "        break\n",
    "        \n",
    "    time.sleep(15)\n",
    "    \n",
    "status = None\n",
    "max_time = time.time() + 60*60 # 1 hours\n",
    "while time.time() < max_time:\n",
    "    describe_filter_response = personalize.describe_filter(\n",
    "        filterArn = category_filter_arn\n",
    "    )\n",
    "    status = describe_filter_response[\"filter\"][\"status\"]\n",
    "    print(\"Category Filter: {}\".format(status))\n",
    "    \n",
    "    if status == \"ACTIVE\" or status == \"CREATE FAILED\":\n",
    "        break\n",
    "        \n",
    "    time.sleep(15)"
   ]
  },
  {
   "cell_type": "markdown",
   "metadata": {},
   "source": [
    "## Using Filters <a class=\"anchor\" id=\"using-filters\"></a>\n",
    "[Back to top](#top)\n",
    "\n",
    "Now that the Filters have been created we can use them to filter our recommendations."
   ]
  },
  {
   "cell_type": "markdown",
   "metadata": {},
   "source": [
    "## Category Filter<a class=\"anchor\" id=\"filter\">\n",
    "[Back to top](#top)\n",
    "\n",
    "To test our purchased products filter, we will request recommendations for a random user with a particular category. \n",
    "    \n",
    "We will create a helper function to return recommendations using a dynamic flilter:"
   ]
  },
  {
   "cell_type": "code",
   "execution_count": null,
   "metadata": {},
   "outputs": [],
   "source": [
    "def get_new_recommendations_df_by_dynamic_filter(recommendations_df, user_id, category_filter_arn, filter_values):\n",
    "    # Get the recommendations\n",
    "    get_recommendations_response = personalize_runtime.get_recommendations(\n",
    "        recommenderArn = workshop_recommender_recommended_for_you_arn,\n",
    "        userId = str(user_id),\n",
    "        filterArn = category_filter_arn,\n",
    "        filterValues = { \"CATEGORY\": \"\\\"\" + filter_values + \"\\\"\"},\n",
    "        numResults = 10\n",
    "    )\n",
    "    # Build a new dataframe of recommendations\n",
    "    item_list = get_recommendations_response['itemList']\n",
    "    recommendation_list = []\n",
    "    for item in item_list:\n",
    "        product = get_item_name_from_id(item['itemId'])\n",
    "        recommendation_list.append(product)\n",
    "    filter_name = category_filter_arn.split('/')[1]\n",
    "    new_rec_DF = pd.DataFrame(recommendation_list, columns = [filter_values])\n",
    "    # Add this dataframe to the old one\n",
    "    recommendations_df = pd.concat([recommendations_df, new_rec_DF], axis=1)\n",
    "    return recommendations_df"
   ]
  },
  {
   "cell_type": "markdown",
   "metadata": {},
   "source": [
    "We will select the first 7 categories for this example."
   ]
  },
  {
   "cell_type": "code",
   "execution_count": null,
   "metadata": {},
   "outputs": [],
   "source": [
    "unique_category_field_values = list(item_metadata_df['category'].unique()[:7])\n",
    "unique_category_field_values"
   ]
  },
  {
   "cell_type": "code",
   "execution_count": null,
   "metadata": {},
   "outputs": [],
   "source": [
    "# Iterate through Categories\n",
    "recommendations_df_category = pd.DataFrame()\n",
    "for category in unique_category_field_values:\n",
    "    recommendations_df_category = get_new_recommendations_df_by_dynamic_filter(recommendations_df_category, user_id, category_filter_arn , category)\n",
    "    \n",
    "recommendations_df_category"
   ]
  },
  {
   "cell_type": "markdown",
   "metadata": {},
   "source": [
    "## Real-time Events<a class=\"anchor\" id=\"event-tracking\"></a>\n",
    "[Back to top](#top)\n",
    "\n",
    "The next topic is real-time events. Personalize has the ability to listen to events from your application in order to update the recommendations shown to the user. This is especially useful in retail workloads, because what products the user is interested in now may be different than what they were interested in a week ago, a day ago, or even a few minutes ago.\n",
    "\n",
    "Additionally the events that are recorded via this system are stored until a delete call from you is issued, and they are used as historical data alongside the other interaction data you provided when you train your next models.\n",
    "\n",
    "Start by creating an event tracker that is attached to the dataset group. This event tracker will add information to the dataset and will influence the recommendations."
   ]
  },
  {
   "cell_type": "markdown",
   "metadata": {},
   "source": [
    "### Create Personalize Event Tracker\n",
    "\n",
    "Let's start by creating an event tracker for our dataset group."
   ]
  },
  {
   "cell_type": "code",
   "execution_count": null,
   "metadata": {},
   "outputs": [],
   "source": [
    "event_tracker_name = 'personalize-poc-event-tracker'\n",
    "try: \n",
    "    create_event_tracker_response = personalize.create_event_tracker(\n",
    "        name = event_tracker_name,\n",
    "        datasetGroupArn=workshop_dataset_group_arn\n",
    "        )\n",
    "    event_tracker_arn = create_event_tracker_response['eventTrackerArn']\n",
    "    print(json.dumps(create_event_tracker_response, indent=2))\n",
    "    print ('\\nCreating the event_tracker with event_tracker_arn = {}'.format(event_tracker_arn))\n",
    "    tracking_id = create_event_tracker_response['trackingId']\n",
    "    print ('\\nAnd trackingId = {}'.format(tracking_id))\n",
    "    \n",
    "\n",
    "except personalize.exceptions.ResourceAlreadyExistsException as e:\n",
    "    event_tracker_list = personalize.list_event_trackers( \n",
    "        datasetGroupArn= workshop_dataset_group_arn\n",
    "    )['eventTrackers']\n",
    "    \n",
    "    event_tracker_arn = event_tracker_list[0]['eventTrackerArn']\n",
    "    \n",
    "    describe_event_tracker_response = personalize.describe_event_tracker(\n",
    "        eventTrackerArn=event_tracker_arn\n",
    "    )\n",
    "    tracking_id = describe_event_tracker_response['eventTracker']['trackingId']\n",
    "    \n",
    "    print ('\\nThe the Event Tracker with event_tracker_name {} already exists'.format(event_tracker_name))\n",
    "    print ('\\nWe will be using the existing Event Tracker with event_tracker_arn = {}'.format(event_tracker_arn))\n",
    "    print ('\\nAnd tracking_id = {}'.format(tracking_id))\n",
    "    "
   ]
  },
  {
   "cell_type": "markdown",
   "metadata": {},
   "source": [
    "### Wait for Event Tracker Status to Become ACTIVE\n",
    "\n",
    "The event tracker should take a minute or so to become active."
   ]
  },
  {
   "cell_type": "code",
   "execution_count": null,
   "metadata": {},
   "outputs": [],
   "source": [
    "status = None\n",
    "max_time = time.time() + 60*60 # 1 hours\n",
    "while time.time() < max_time:\n",
    "    describe_event_tracker_response = personalize.describe_event_tracker(\n",
    "        eventTrackerArn = event_tracker_arn\n",
    "    )\n",
    "    status = describe_event_tracker_response[\"eventTracker\"][\"status\"]\n",
    "    print(\"EventTracker: {}\".format(status))\n",
    "    \n",
    "    if status == \"ACTIVE\" or status == \"CREATE FAILED\":\n",
    "        break\n",
    "        \n",
    "    time.sleep(15)"
   ]
  },
  {
   "cell_type": "markdown",
   "metadata": {},
   "source": [
    "### Cold User Recommendations\n",
    "\n",
    "One of the key features of Personalize is being able to cold start users. Cold users are typically those who are new to your site or application and cold starting a user is getting from no personalization to making personalized recommendations in real-time. \n",
    "\n",
    "Personalize accomplishes cold starting users via the Event Tracker. Since new users are typically anonymous for a period of time before they create an account or may choose to transact as a guest, personalization is a valuable tool to help convert those anonymous users to transacting users. \n",
    "\n",
    "The challenge here is that Personalize needs a `userId` for anonymous users before it can make personalized recommendations. This challenge can be solved by creating a provisional user ID the moment an anonymous user first hits the site. This provisional user ID is then used when streaming events to the Event Tracker and when retrieving recommendations from the Recommendations service. This allows applications to start serving personalized recommendations after the first couple events are streamed to Personalize. Before recommendations can be personalized, Personalize will provide recommendations for popular items as a fallback.\n",
    "\n",
    "There are some challenges with this approach, though. First is the question of what to do with the provisional user ID when the user creates an account. To maintain continuity of the user's interaction history, client applications can pass the provisional user ID to the user management system when creating a new user account. Another challenge is how to handle a user that anonymously browses the site using multiple devices such as on the mobile device and then on a desktop/laptop. In this case, separate provisional user IDs are generated for sessions on each device. However, once the user creates an account on one device and then signs in with that account on the other device, both devices will starting using the same user ID going forward. A side effect here is that the interaction history from one of the devices will be orphaned. This is an acceptable tradeoff given the benefit of cold starting users earlier and is functionally the same UX without this scheme. Additional logic could be added to merge the interaction history from both prior anonymous sessions when the user creates an account. Also, customer data platforms can be used to help manage this for you."
   ]
  },
  {
   "cell_type": "markdown",
   "metadata": {},
   "source": [
    "### Using the Purchased Products Filter\n",
    "\n",
    "To use purchased products filter, we will request ranked recommendations for a random user. Then we will send a `Purchase` event for one of the recommended products to Personalize using the event tracker created above. Finally, we will request recommendations again for the same user but this time specify our filter. The purchased product would be excluded from the new recommendations."
   ]
  },
  {
   "cell_type": "code",
   "execution_count": null,
   "metadata": {},
   "outputs": [],
   "source": [
    "# Pick a user ID in the range of test users and fetch 5 recommendations.\n",
    "user_id = 456\n",
    "display(user_metadata_df[user_metadata_df['id']==user_id])"
   ]
  },
  {
   "cell_type": "code",
   "execution_count": null,
   "metadata": {},
   "outputs": [],
   "source": [
    "get_recommendations_response = personalize_runtime.get_personalized_ranking(\n",
    "    campaignArn = workshop_rerank_campaign_arn,\n",
    "    inputList = unranked_product_ids,\n",
    "    userId = str(user_id)\n",
    ")\n",
    "\n",
    "item_list = get_recommendations_response['personalizedRanking']\n",
    "df = pd.DataFrame()\n",
    "df['Item'] = [ itm['itemId'] for itm in item_list ]\n",
    "df['Name'] = [ get_item_name_from_id ( itm['itemId']) for itm in item_list ]\n",
    "df['Category'] = [ get_item_category_from_id ( itm['itemId']) for itm in item_list ]\n",
    "df['Style'] = [ get_item_style_from_id ( itm['itemId']) for itm in item_list ]\n",
    "display (df)"
   ]
  },
  {
   "cell_type": "markdown",
   "metadata": {},
   "source": [
    "Next let's randomly select an item from the returned list of recommendations to be our product to purchase."
   ]
  },
  {
   "cell_type": "code",
   "execution_count": null,
   "metadata": {},
   "outputs": [],
   "source": [
    "product_id_to_purchase = random.choice(item_list)['itemId']\n",
    "print(f'Product to simulate purchasing: {product_id_to_purchase}')\n",
    "print(f'Product name: {get_item_name_from_id ( product_id_to_purchase)}')"
   ]
  },
  {
   "cell_type": "markdown",
   "metadata": {},
   "source": [
    "Next, let's send a `Purchase` event to Personalize to simulate that the product was just purchased.\n",
    "This will match the criteria for our filter.\n",
    "In the Retail Demo Store web application, this event is sent for each product in the order after the order is completed."
   ]
  },
  {
   "cell_type": "code",
   "execution_count": null,
   "metadata": {},
   "outputs": [],
   "source": [
    "response = personalize_events.put_events(\n",
    "    trackingId = tracking_id,\n",
    "    userId = str(user_id),\n",
    "    sessionId = str(uuid.uuid4()),\n",
    "    eventList = [\n",
    "        {\n",
    "            'eventId': str(uuid.uuid4()),\n",
    "            'eventType': 'Purchase',\n",
    "            'itemId': str(product_id_to_purchase),\n",
    "            'sentAt': int(time.time()),\n",
    "            'properties': '{\"discount\": \"No\"}'\n",
    "        }\n",
    "    ]\n",
    ")\n",
    "\n",
    "# Wait for Purchase event to become consistent.\n",
    "time.sleep(10)\n",
    "\n",
    "print(json.dumps(response, indent=2))"
   ]
  },
  {
   "cell_type": "markdown",
   "metadata": {},
   "source": [
    "Finally, let's retrieve recommendations for the user again, but this time specifying the filter to exclude recently\n",
    "purchased items. We do this by passing the filter's ARN via the `filterArn` parameter."
   ]
  },
  {
   "cell_type": "code",
   "execution_count": null,
   "metadata": {},
   "outputs": [],
   "source": [
    "get_recommendations_response = personalize_runtime.get_personalized_ranking(\n",
    "    campaignArn = workshop_rerank_campaign_arn,\n",
    "    inputList = unranked_product_ids,\n",
    "    userId = str(user_id),\n",
    "    filterArn = purchase_filter_arn\n",
    ")\n",
    "\n",
    "item_list = get_recommendations_response['personalizedRanking']\n",
    "df = pd.DataFrame()\n",
    "df['Item'] = [ itm['itemId'] for itm in item_list ]\n",
    "df['Name'] = [ get_item_name_from_id ( itm['itemId']) for itm in item_list ]\n",
    "df['Category'] = [ get_item_category_from_id ( itm['itemId']) for itm in item_list ]\n",
    "df['Style'] = [ get_item_style_from_id ( itm['itemId']) for itm in item_list ]\n",
    "display (df)"
   ]
  },
  {
   "cell_type": "markdown",
   "metadata": {},
   "source": [
    "The following code will raise an assertion error if the product we just purchased is still recommended."
   ]
  },
  {
   "cell_type": "code",
   "execution_count": null,
   "metadata": {},
   "outputs": [],
   "source": [
    "found_item = next((item for item in item_list if item['itemId'] == product_id_to_purchase), None)\n",
    "if found_item:\n",
    "    assert found_item == False, 'Purchased item found unexpectedly in recommendations'\n",
    "else:\n",
    "    print('Purchased item filtered from recommendations for user!')"
   ]
  },
  {
   "cell_type": "code",
   "execution_count": null,
   "metadata": {},
   "outputs": [],
   "source": [
    "%store workshop_dataset_group_arn\n",
    "%store region\n",
    "%store role_name\n",
    "%store s3_access_policy_arn\n",
    "\n",
    "# Variables required for Optional Notebook 1 - Batch Inference\n",
    "%store users\n",
    "%store unranked_product_ids\n",
    "%store bucket_name\n",
    "%store workshop_rerank_solution_version_arn\n",
    "%store item_metadata_df"
   ]
  },
  {
   "cell_type": "markdown",
   "metadata": {},
   "source": [
    "## Wrap up <a class=\"anchor\" id=\"wrapup\"></a>\n",
    "[Back to top](#top)\n",
    "\n",
    "With that you now have a fully working collection of models to tackle various recommendation and personalization scenarios, as well as the skills to manipulate customer data to better integrate with the service, and a knowledge of how to do all this over APIs and by leveraging open source data science tools.\n",
    "\n",
    "You'll want to make sure that you clean up all of the resources deployed during this POC. We have provided a separate notebook which shows you how to identify and delete the resources in [`04_Clean_Up.ipynb`](04_Clean_Up.ipynb).\n",
    "\n",
    "You can choose to head to any of the optional notebooks in this folder to continue experimenting with Amazon Personalize.\n",
    "\n",
    "<div class=\"alert alert-block alert-warning\">\n",
    "<b>Note:</b> NOTE: Run optional notebooks BEFORE you run the clean-up notebook.\n",
    "</div>\n"
   ]
  }
 ],
 "metadata": {
  "kernelspec": {
   "display_name": "conda_python3",
   "language": "python",
   "name": "conda_python3"
  },
  "language_info": {
   "codemirror_mode": {
    "name": "ipython",
    "version": 3
   },
   "file_extension": ".py",
   "mimetype": "text/x-python",
   "name": "python",
   "nbconvert_exporter": "python",
   "pygments_lexer": "ipython3",
   "version": "3.10.12"
  }
 },
 "nbformat": 4,
 "nbformat_minor": 4
}
